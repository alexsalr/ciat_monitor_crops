{
 "cells": [
  {
   "cell_type": "code",
   "execution_count": 2,
   "metadata": {},
   "outputs": [
    {
     "name": "stdout",
     "output_type": "stream",
     "text": [
      "D:\\eo_data\\Ibague\n",
      "['data', 'S1_GRD', 'S2_L1C']\n"
     ]
    }
   ],
   "source": [
    "import os\n",
    "\n",
    "# change the working directory to the location of files\n",
    "os.chdir('D:/eo_data/Ibague/')\n",
    "print(os.getcwd())\n",
    "# store the files list to a variable\n",
    "eo_files = os.listdir(os.getcwd())\n",
    "print(eo_files)"
   ]
  },
  {
   "cell_type": "code",
   "execution_count": 18,
   "metadata": {},
   "outputs": [],
   "source": [
    "# Unzip files\n",
    "import zipfile\n",
    "\n",
    "# Check if a data folder exist\n",
    "#if not os.path.exists('data'):\n",
    "#    os.makedirs('data')\n",
    "#    print 'data folder' + ' was created'\n",
    "# Check if the name of the data folder is in\n",
    "#if 'data' in eo_files:\n",
    "#    eo_files.remove('data')\n",
    "##TODO catch error when a directory is in eo_files\n",
    "\n",
    "def unzipfiles(path):\n",
    "    \"\"\"\n",
    "    Unzips every zipfile in the path, and stores in directory with zipfile name+.SAFE\n",
    "    Args:\n",
    "        path (string): string of directory where zipfiles are located \n",
    "    \"\"\"\n",
    "    for im_id in os.listdir(path):\n",
    "        if not os.path.exists('data/'+im_id[:-3]+'SAFE'):\n",
    "            print('Unzipping ' + im_id)\n",
    "            zip_ref = zipfile.ZipFile(path+im_id, 'r')\n",
    "            zip_ref.extractall('data')\n",
    "            zip_ref.close()\n",
    "        else:\n",
    "            print(im_id[:-4] + ' was already uncompressed')"
   ]
  },
  {
   "cell_type": "code",
   "execution_count": 19,
   "metadata": {},
   "outputs": [
    {
     "name": "stdout",
     "output_type": "stream",
     "text": [
      "S2A_MSIL1C_20171021T153111_N0205_R025_T18NVL_20171021T153112 was already uncompressed\n",
      "S2A_MSIL1C_20171210T152631_N0206_R025_T18NVK_20171210T170838 was already uncompressed\n",
      "S2A_MSIL1C_20171220T153111_N0206_R025_T18NVK_20171220T170223 was already uncompressed\n",
      "S2A_MSIL1C_20171220T153111_N0206_R025_T18NVL_20171220T170223 was already uncompressed\n",
      "S2B_MSIL1C_20171016T153059_N0205_R025_T18NVK_20171016T153058 was already uncompressed\n",
      "S2B_MSIL1C_20171016T153059_N0205_R025_T18NVL_20171016T153058 was already uncompressed\n",
      "S2B_MSIL1C_20171105T153059_N0206_R025_T18NVK_20171105T170109 was already uncompressed\n",
      "S2B_MSIL1C_20171105T153059_N0206_R025_T18NVL_20171105T170109 was already uncompressed\n",
      "S2B_MSIL1C_20171205T152629_N0206_R025_T18NVK_20171205T170944 was already uncompressed\n",
      "S2B_MSIL1C_20171205T152629_N0206_R025_T18NVL_20171205T170944 was already uncompressed\n",
      "S2B_MSIL1C_20171215T152629_N0206_R025_T18NVK_20171215T201906 was already uncompressed\n",
      "S2B_MSIL1C_20171215T152629_N0206_R025_T18NVL_20171215T201906 was already uncompressed\n",
      "S2B_MSIL1C_20171225T152629_N0206_R025_T18NVL_20171225T171117 was already uncompressed\n",
      "S2B_MSIL1C_20180104T152629_N0206_R025_T18NVK_20180104T201829 was already uncompressed\n",
      "S2B_MSIL1C_20180104T152629_N0206_R025_T18NVL_20180104T201829 was already uncompressed\n",
      "S2B_MSIL1C_20180114T152629_N0206_R025_T18NVK_20180114T171011 was already uncompressed\n"
     ]
    }
   ],
   "source": [
    "os.getcwd()\n",
    "unzipfiles(\"D:/eo_data/Ibague/S2_L1C/\")"
   ]
  },
  {
   "cell_type": "code",
   "execution_count": null,
   "metadata": {},
   "outputs": [],
   "source": []
  }
 ],
 "metadata": {
  "kernelspec": {
   "display_name": "Python 2",
   "language": "python",
   "name": "python2"
  },
  "language_info": {
   "codemirror_mode": {
    "name": "ipython",
    "version": 2
   },
   "file_extension": ".py",
   "mimetype": "text/x-python",
   "name": "python",
   "nbconvert_exporter": "python",
   "pygments_lexer": "ipython2",
   "version": "2.7.14"
  }
 },
 "nbformat": 4,
 "nbformat_minor": 2
}
