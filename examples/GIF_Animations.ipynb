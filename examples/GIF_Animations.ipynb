{
 "cells": [
  {
   "cell_type": "code",
   "execution_count": 1,
   "metadata": {},
   "outputs": [],
   "source": [
    "\n",
    "import sys\n",
    "sys.path.append('../b_Temporal_Stack')\n",
    "import regionstack\n",
    "import eotempstack\n",
    "import xr_eotemp\n"
   ]
  },
  {
   "cell_type": "code",
   "execution_count": 2,
   "metadata": {},
   "outputs": [
    {
     "name": "stdout",
     "output_type": "stream",
     "text": [
      "S2 object initialized from /mnt/workspace_cluster_6/TRANSVERSAL_PROJECTS/MADR/COMPONENTE_2/Imagenes_Satelitales/Temp/asalazar_tests/data/Saldana/pre/\n",
      "Reading 3 S2 stack files\n",
      "Reading 9 hLC08 stack files\n",
      "Harmonized Landsat-8 dataset was read\n"
     ]
    }
   ],
   "source": [
    "saldana = regionstack.regionStack('Saldana', attrs=['S2','LC08'])"
   ]
  },
  {
   "cell_type": "code",
   "execution_count": 3,
   "metadata": {},
   "outputs": [],
   "source": [
    "from matplotlib import pyplot as plt"
   ]
  },
  {
   "cell_type": "code",
   "execution_count": 1,
   "metadata": {},
   "outputs": [],
   "source": [
    "from rasterio.plot import show\n",
    "import numpy as np\n",
    "\n",
    "def show_sentinel2_rgb(dataset,axis=None):\n",
    "    band1 = (dataset.read(3,masked=True)-200)/1600.\n",
    "    band2 = (dataset.read(2,masked=True)-200)/1600.\n",
    "    band3 = (dataset.read(1,masked=True)-200)/1600.\n",
    "    \n",
    "    rgb = np.dstack([band1,band2,band3])\n",
    "    return axis.imshow(rgb,animated=True,vmin=0.0,vmax=1.0)\n"
   ]
  },
  {
   "cell_type": "code",
   "execution_count": 9,
   "metadata": {},
   "outputs": [
    {
     "data": {
      "text/plain": [
       "[]"
      ]
     },
     "execution_count": 9,
     "metadata": {},
     "output_type": "execute_result"
    },
    {
     "data": {
      "image/png": "[encoded data removed]",
      "text/plain": [
       "<Figure size 1008x504 with 2 Axes>"
      ]
     },
     "metadata": {},
     "output_type": "display_data"
    }
   ],
   "source": [
    "fig = plt.figure(figsize=(14, 7))\n",
    "#fig.set_size_inches(size[0] / 100, size[1] / 100)\n",
    "ax1=plt.subplot2grid((4, 1), (0, 0), rowspan=3)\n",
    "ax2=plt.subplot2grid((4, 1), (3, 0))\n",
    "ax1.set_xticks([])\n",
    "ax1.set_yticks([])"
   ]
  },
  {
   "cell_type": "code",
   "execution_count": 2,
   "metadata": {},
   "outputs": [],
   "source": [
    "%matplotlib inline\n",
    "\n",
    "import rasterio\n",
    "from IPython.display import HTML\n",
    "from os import listdir\n",
    "from os.path import isfile, join\n",
    "import re\n",
    "import matplotlib.animation as anim\n",
    "\n",
    "#https://tomroelandts.com/articles/how-to-create-animated-gifs-with-python\n"
   ]
  },
  {
   "cell_type": "code",
   "execution_count": null,
   "metadata": {},
   "outputs": [],
   "source": [
    "\n",
    "image_paths = [f for f in listdir(\"de_maat_rgb\") if f.endswith(\"tiff\") and isfile(join(\"de_maat_rgb\", f))]\n",
    "image_paths.sort()\n",
    "\n",
    "size=(800, 300)\n",
    "fig = plt.figure(figsize=(14, 7))\n",
    "#fig.set_size_inches(size[0] / 100, size[1] / 100)\n",
    "ax1=plt.subplot2grid((4, 1), (0, 0), rowspan=3)\n",
    "ax2=plt.subplot2grid((4, 1), (3, 0))\n",
    "ax1.set_xticks([])\n",
    "ax1.set_yticks([])\n",
    "\n",
    "images = []\n",
    "\n",
    "for date in saldana.S2.time.values:\n",
    "    \n",
    "    plt_txt = ax1.text(0, 0, date, color='red',fontsize=12)\n",
    "    \n",
    "    plt_im = show_sentinel2_rgb(saldana.isel(x=slice(1100,1110),y=slice(1100,1110)).sel(time=date).values,ax1)\n",
    "    \n",
    "    graph, = ax2.plot(sentinel2_smooth.dropna())\n",
    "    #point, = ax2.plot(date, filtered[date], 'g*')\n",
    "    line =ax2.axvline(x=date,animated=True)\n",
    "    images.append([plt_im,graph,line,plt_txt])\n",
    "            #else:\n",
    "            #    images.append([plt_im,graph])\n",
    "            \n",
    "animation = anim.ArtistAnimation(fig, images)\n",
    "HTML(animation.to_jshtml())"
   ]
  },
  {
   "cell_type": "code",
   "execution_count": 14,
   "metadata": {},
   "outputs": [
    {
     "data": {
      "text/plain": [
       "<xarray.Dataset>\n",
       "Dimensions:  (time: 8, x: 2979, y: 3631)\n",
       "Coordinates:\n",
       "  * y        (y) float64 4.485e+05 4.484e+05 4.484e+05 4.484e+05 4.484e+05 ...\n",
       "  * x        (x) float64 4.889e+05 4.889e+05 4.889e+05 4.889e+05 4.889e+05 ...\n",
       "  * time     (time) datetime64[ns] 2015-12-11 2015-12-21 2015-12-31 ...\n",
       "    mask     (time, y, x) int8 dask.array<shape=(8, 3631, 2979), chunksize=(8, 1000, 1000)>\n",
       "Data variables:\n",
       "    blue     (time, y, x) uint16 dask.array<shape=(8, 3631, 2979), chunksize=(8, 1000, 1000)>\n",
       "    green    (time, y, x) uint16 dask.array<shape=(8, 3631, 2979), chunksize=(8, 1000, 1000)>\n",
       "    red      (time, y, x) uint16 dask.array<shape=(8, 3631, 2979), chunksize=(8, 1000, 1000)>\n",
       "    nir      (time, y, x) uint16 dask.array<shape=(8, 3631, 2979), chunksize=(8, 1000, 1000)>\n",
       "    swir1    (time, y, x) uint16 dask.array<shape=(8, 3631, 2979), chunksize=(8, 1000, 1000)>\n",
       "    swir2    (time, y, x) uint16 dask.array<shape=(8, 3631, 2979), chunksize=(8, 1000, 1000)>\n",
       "    NDVI     (time, y, x) float32 dask.array<shape=(8, 3631, 2979), chunksize=(8, 1000, 1000)>\n",
       "    LSWI     (time, y, x) float32 dask.array<shape=(8, 3631, 2979), chunksize=(8, 1000, 1000)>"
      ]
     },
     "execution_count": 14,
     "metadata": {},
     "output_type": "execute_result"
    }
   ],
   "source": [
    "saldana.S2"
   ]
  },
  {
   "cell_type": "code",
   "execution_count": 3,
   "metadata": {},
   "outputs": [],
   "source": [
    "import xarray as xr\n",
    "import os\n",
    "\n",
    "ndvi = xr.open_dataset(os.environ['WIN_SVR_DATA']+'Saldana/features/NDVI.nc')"
   ]
  },
  {
   "cell_type": "code",
   "execution_count": 4,
   "metadata": {},
   "outputs": [
    {
     "data": {
      "text/plain": [
       "<xarray.Dataset>\n",
       "Dimensions:  (time: 36, x: 2974, y: 3626)\n",
       "Coordinates:\n",
       "  * y        (y) float64 4.485e+05 4.484e+05 4.484e+05 4.484e+05 4.484e+05 ...\n",
       "  * x        (x) float64 4.889e+05 4.889e+05 4.889e+05 4.889e+05 4.889e+05 ...\n",
       "  * time     (time) datetime64[ns] 2015-07-06 2015-07-14 2015-07-15 ...\n",
       "Data variables:\n",
       "    NDVI     (y, x, time) float32 ..."
      ]
     },
     "execution_count": 4,
     "metadata": {},
     "output_type": "execute_result"
    }
   ],
   "source": [
    "ndvi"
   ]
  },
  {
   "cell_type": "code",
   "execution_count": 5,
   "metadata": {},
   "outputs": [],
   "source": [
    "ndvi_orig = xr.open_dataset(os.environ['WIN_SVR_DATA']+'Saldana/vars/opt_NDVI.nc')\n",
    "\n",
    "#ndvi_orig.NDVI.isel(x=slice(1100,2100),y=slice(1600,2600)).plot(col='time', col_wrap=6)"
   ]
  },
  {
   "cell_type": "code",
   "execution_count": 6,
   "metadata": {},
   "outputs": [
    {
     "data": {
      "text/plain": [
       "array(['2015-06-29T00:00:00.000000000', '2015-07-15T00:00:00.000000000',\n",
       "       '2015-07-31T00:00:00.000000000', '2015-08-16T00:00:00.000000000',\n",
       "       '2015-09-01T00:00:00.000000000', '2015-09-17T00:00:00.000000000',\n",
       "       '2015-10-03T00:00:00.000000000', '2015-10-19T00:00:00.000000000',\n",
       "       '2015-11-04T00:00:00.000000000', '2015-11-20T00:00:00.000000000',\n",
       "       '2015-12-06T00:00:00.000000000', '2015-12-11T00:00:00.000000000',\n",
       "       '2015-12-21T00:00:00.000000000', '2015-12-22T00:00:00.000000000',\n",
       "       '2015-12-31T00:00:00.000000000', '2016-01-07T00:00:00.000000000',\n",
       "       '2016-01-10T00:00:00.000000000', '2016-01-20T00:00:00.000000000',\n",
       "       '2016-01-23T00:00:00.000000000', '2016-01-30T00:00:00.000000000',\n",
       "       '2016-02-08T00:00:00.000000000'], dtype='datetime64[ns]')"
      ]
     },
     "execution_count": 6,
     "metadata": {},
     "output_type": "execute_result"
    }
   ],
   "source": [
    "ndvi_orig.time.values[:-2]"
   ]
  },
  {
   "cell_type": "code",
   "execution_count": 7,
   "metadata": {},
   "outputs": [
    {
     "data": {
      "image/png": "[encoded data removed]",
      "text/plain": [
       "<Figure size 720x720 with 1 Axes>"
      ]
     },
     "metadata": {},
     "output_type": "display_data"
    }
   ],
   "source": [
    "\n",
    "import numpy as np\n",
    "import matplotlib.pyplot as plt\n",
    "import matplotlib.animation as anim\n",
    " \n",
    "class AnimatedGif:\n",
    "    def __init__(self, size=(640, 480)):\n",
    "        self.fig = plt.figure()\n",
    "        self.fig.set_size_inches(size[0] / 100, size[1] / 100)\n",
    "        ax = self.fig.add_axes([0, 0, 1, 1], frameon=False, aspect=1)\n",
    "        ax.set_xticks([])\n",
    "        ax.set_yticks([])\n",
    "        self.images = []\n",
    " \n",
    "    def add(self, image, label=''):\n",
    "        plt_im = plt.imshow(image, cmap='RdYlGn', vmin=-1, vmax=1, animated=True)\n",
    "        plt_txt = plt.text(10, 10, label, color='red')\n",
    "        self.images.append([plt_im, plt_txt])\n",
    " \n",
    "    def save(self, filename):\n",
    "        animation = anim.ArtistAnimation(self.fig, self.images)\n",
    "        animation.save(filename, writer='imagemagick', fps=1)\n",
    "\n",
    "m = 1000\n",
    "n = 1000\n",
    "\n",
    "animated_gif = AnimatedGif(size=(m, n))\n",
    "#animated_gif.add(M, label='0')\n",
    "#images = []\n",
    "\n",
    "for date in ndvi_orig.time.values[:-2]:\n",
    "    \n",
    "    mask = ndvi_orig.mask.isel(x=slice(1100,2100),y=slice(1600,2600)).sel(time=date)\n",
    "    M = ndvi_orig.NDVI.isel(x=slice(1100,2100),y=slice(1600,2600)).sel(time=date).where(mask).values\n",
    "    \n",
    "    #M = ndvi.NDVI.sel(time=date).isel(x=slice(1100,2100),y=slice(1600,2600)).values\n",
    "    \n",
    "    animated_gif.add(M, label=date)\n",
    "\n",
    "animated_gif.save('ndvi-orig-animated.gif')"
   ]
  }
 ],
 "metadata": {
  "kernelspec": {
   "display_name": "Python 3",
   "language": "python",
   "name": "python3"
  },
  "language_info": {
   "codemirror_mode": {
    "name": "ipython",
    "version": 3
   },
   "file_extension": ".py",
   "mimetype": "text/x-python",
   "name": "python",
   "nbconvert_exporter": "python",
   "pygments_lexer": "ipython3",
   "version": "3.6.5"
  }
 },
 "nbformat": 4,
 "nbformat_minor": 2
}
