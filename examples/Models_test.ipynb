{
 "cells": [
  {
   "cell_type": "markdown",
   "metadata": {},
   "source": [
    "## Test ML models\n",
    "### h2o.ai\n",
    "Transform netCDF serialized files to h2o dataframes via xarray and pandas."
   ]
  },
  {
   "cell_type": "code",
   "execution_count": 1,
   "metadata": {},
   "outputs": [
    {
     "data": {
      "text/html": [
       "<table style=\"border: 2px solid white;\">\n",
       "<tr>\n",
       "<td style=\"vertical-align: top; border: 0px solid white\">\n",
       "<h3>Client</h3>\n",
       "<ul>\n",
       "  <li><b>Scheduler: </b>tcp://127.0.0.1:53252\n",
       "  <li><b>Dashboard: </b><a href='http://127.0.0.1:48091/status' target='_blank'>http://127.0.0.1:48091/status</a>\n",
       "</ul>\n",
       "</td>\n",
       "<td style=\"vertical-align: top; border: 0px solid white\">\n",
       "<h3>Cluster</h3>\n",
       "<ul>\n",
       "  <li><b>Workers: </b>6</li>\n",
       "  <li><b>Cores: </b>24</li>\n",
       "  <li><b>Memory: </b>33.55 GB</li>\n",
       "</ul>\n",
       "</td>\n",
       "</tr>\n",
       "</table>"
      ],
      "text/plain": [
       "<Client: scheduler='tcp://127.0.0.1:53252' processes=6 cores=24>"
      ]
     },
     "execution_count": 1,
     "metadata": {},
     "output_type": "execute_result"
    }
   ],
   "source": [
    "from dask.distributed import Client\n",
    "client = Client(n_workers=6)\n",
    "client"
   ]
  },
  {
   "cell_type": "code",
   "execution_count": 7,
   "metadata": {},
   "outputs": [
    {
     "name": "stderr",
     "output_type": "stream",
     "text": [
      "Future exception was never retrieved\n",
      "future: <Future finished exception=CommClosedError('in <closed TCP>: Stream is closed',)>\n",
      "Traceback (most recent call last):\n",
      "  File \"/home/azalazar/anaconda3/envs/models3/lib/python3.6/site-packages/distributed/comm/tcp.py\", line 179, in read\n",
      "    n_frames = yield stream.read_bytes(8)\n",
      "  File \"/home/azalazar/anaconda3/envs/models3/lib/python3.6/site-packages/tornado/gen.py\", line 1099, in run\n",
      "    value = future.result()\n",
      "tornado.iostream.StreamClosedError: Stream is closed\n",
      "\n",
      "During handling of the above exception, another exception occurred:\n",
      "\n",
      "Traceback (most recent call last):\n",
      "  File \"/home/azalazar/anaconda3/envs/models3/lib/python3.6/site-packages/tornado/gen.py\", line 1107, in run\n",
      "    yielded = self.gen.throw(*exc_info)\n",
      "  File \"/home/azalazar/anaconda3/envs/models3/lib/python3.6/site-packages/distributed/comm/tcp.py\", line 200, in read\n",
      "    convert_stream_closed_error(self, e)\n",
      "  File \"/home/azalazar/anaconda3/envs/models3/lib/python3.6/site-packages/distributed/comm/tcp.py\", line 128, in convert_stream_closed_error\n",
      "    raise CommClosedError(\"in %s: %s\" % (obj, exc))\n",
      "distributed.comm.core.CommClosedError: in <closed TCP>: Stream is closed\n"
     ]
    }
   ],
   "source": [
    "client.close()"
   ]
  },
  {
   "cell_type": "code",
   "execution_count": 2,
   "metadata": {},
   "outputs": [],
   "source": [
    "# Load data\n",
    "import sys\n",
    "sys.path.append('../b_Temporal_Stack')\n",
    "import regionstack\n",
    "import eotempstack"
   ]
  },
  {
   "cell_type": "code",
   "execution_count": 2,
   "metadata": {},
   "outputs": [
    {
     "name": "stdout",
     "output_type": "stream",
     "text": [
      "S1 object initialized from /mnt/workspace_cluster_6/TRANSVERSAL_PROJECTS/MADR/COMPONENTE_2/Imagenes_Satelitales/Temp/asalazar_tests/data/Saldana_training_2015/pre/\n"
     ]
    }
   ],
   "source": [
    "\n",
    "data_dir = '/mnt/workspace_cluster_6/TRANSVERSAL_PROJECTS/MADR/COMPONENTE_2/Imagenes_Satelitales/Temp/asalazar_tests/data/Saldana_training_2015/pre/'\n",
    "out_dir = '/mnt/workspace_cluster_6/TRANSVERSAL_PROJECTS/MADR/COMPONENTE_2/Imagenes_Satelitales/Temp/asalazar_tests/data/Saldana_training_2015/stack/'\n",
    "\n",
    "t = eotempstack.S1TempStack(data_dir, out_dir, 'ASCENDING')\n"
   ]
  },
  {
   "cell_type": "code",
   "execution_count": 3,
   "metadata": {},
   "outputs": [
    {
     "data": {
      "text/plain": [
       "{'VV': [datetime.date(2018, 4, 8),\n",
       "  datetime.date(2015, 11, 27),\n",
       "  datetime.date(2016, 2, 7),\n",
       "  datetime.date(2018, 4, 20),\n",
       "  datetime.date(2015, 12, 21),\n",
       "  datetime.date(2016, 1, 14)]}"
      ]
     },
     "execution_count": 3,
     "metadata": {},
     "output_type": "execute_result"
    }
   ],
   "source": [
    "t.getTempData()"
   ]
  },
  {
   "cell_type": "code",
   "execution_count": 4,
   "metadata": {},
   "outputs": [
    {
     "data": {
      "text/plain": [
       "'/mnt/workspace_cluster_6/TRANSVERSAL_PROJECTS/MADR/COMPONENTE_2/Imagenes_Satelitales/Temp/asalazar_tests/data/Saldana_training_2015/stack/S1_ASCENDING_'"
      ]
     },
     "execution_count": 4,
     "metadata": {},
     "output_type": "execute_result"
    }
   ],
   "source": [
    "t.out_directory+t.prod_type+'_'+t.orbit+'_'#+month+'.nc'"
   ]
  },
  {
   "cell_type": "code",
   "execution_count": 3,
   "metadata": {},
   "outputs": [],
   "source": [
    "t.createXDataset()"
   ]
  },
  {
   "cell_type": "code",
   "execution_count": 9,
   "metadata": {},
   "outputs": [],
   "source": [
    "from datetime import datetime as dt\n",
    "from calendar import monthrange\n",
    "time_ranges = list([(dt.strptime('01'+x.strftime('%m%Y'), '%d%m%Y').date(),\n",
    "                            dt.strptime(str(monthrange(x.year, x.month)[1])+x.strftime('%m%Y'), '%d%m%Y').date()) for x in next(iter(t.getTempData().values()))])"
   ]
  },
  {
   "cell_type": "code",
   "execution_count": 11,
   "metadata": {},
   "outputs": [
    {
     "data": {
      "text/plain": [
       "[(datetime.date(2015, 11, 1), datetime.date(2015, 11, 30)),\n",
       " (datetime.date(2015, 12, 1), datetime.date(2015, 12, 31)),\n",
       " (datetime.date(2016, 1, 1), datetime.date(2016, 1, 31)),\n",
       " (datetime.date(2016, 2, 1), datetime.date(2016, 2, 29))]"
      ]
     },
     "execution_count": 11,
     "metadata": {},
     "output_type": "execute_result"
    }
   ],
   "source": [
    "list(time_ranges)"
   ]
  },
  {
   "cell_type": "code",
   "execution_count": 15,
   "metadata": {},
   "outputs": [
    {
     "data": {
      "text/plain": [
       "{'VV_ASM': [],\n",
       " 'VV_Contrast': [],\n",
       " 'VV_Dissimilarity': [],\n",
       " 'VV_Energy': [],\n",
       " 'VV_Entropy': [],\n",
       " 'VV_GLCMCorrelation': [],\n",
       " 'VV_GLCMMean': [],\n",
       " 'VV_GLCMVariance': [],\n",
       " 'VV_Homogeneity': [],\n",
       " 'VH_ASM': [],\n",
       " 'VH_Contrast': [],\n",
       " 'VH_Dissimilarity': [],\n",
       " 'VH_Energy': [],\n",
       " 'VH_Entropy': [],\n",
       " 'VH_GLCMCorrelation': [],\n",
       " 'VH_GLCMMean': [],\n",
       " 'VH_GLCMVariance': [],\n",
       " 'VH_Homogeneity': []}"
      ]
     },
     "execution_count": 15,
     "metadata": {},
     "output_type": "execute_result"
    }
   ],
   "source": [
    "t.getTempData()#.values()"
   ]
  },
  {
   "cell_type": "code",
   "execution_count": 3,
   "metadata": {},
   "outputs": [
    {
     "name": "stdout",
     "output_type": "stream",
     "text": [
      "S1 object initialized from /mnt/workspace_cluster_6/TRANSVERSAL_PROJECTS/MADR/COMPONENTE_2/Imagenes_Satelitales/Temp/asalazar_tests/data/Saldana_training_2015/pre/\n",
      "Stacking S1 failed: <class 'StopIteration'>  <traceback object at 0x7fc4f538f488>\n",
      "Reading 8 S1 stack files\n",
      "S1 object initialized from /mnt/workspace_cluster_6/TRANSVERSAL_PROJECTS/MADR/COMPONENTE_2/Imagenes_Satelitales/Temp/asalazar_tests/data/Saldana_training_2015/pre/\n",
      "Stacking S1 failed: <class 'StopIteration'>  <traceback object at 0x7fc4f537ee88>\n",
      "Reading 6 S1 stack files\n",
      "GLCM_S1 object initialized from /mnt/workspace_cluster_6/TRANSVERSAL_PROJECTS/MADR/COMPONENTE_2/Imagenes_Satelitales/Temp/asalazar_tests/data/Saldana_training_2015/pre/\n",
      "Reading 4 GLCM_S1 stack files\n",
      "GLCM_S1 object initialized from /mnt/workspace_cluster_6/TRANSVERSAL_PROJECTS/MADR/COMPONENTE_2/Imagenes_Satelitales/Temp/asalazar_tests/data/Saldana_training_2015/pre/\n",
      "Reading 3 GLCM_S1 stack files\n",
      "S2 object initialized from /mnt/workspace_cluster_6/TRANSVERSAL_PROJECTS/MADR/COMPONENTE_2/Imagenes_Satelitales/Temp/asalazar_tests/data/Saldana_training_2015/pre/\n",
      "Reading 6 S2 stack files\n",
      "LE07 object initialized from /mnt/workspace_cluster_6/TRANSVERSAL_PROJECTS/MADR/COMPONENTE_2/Imagenes_Satelitales/Temp/asalazar_tests/data/Saldana_training_2015/pre/\n",
      "Reading 8 LE07 stack files\n",
      "LC08 object initialized from /mnt/workspace_cluster_6/TRANSVERSAL_PROJECTS/MADR/COMPONENTE_2/Imagenes_Satelitales/Temp/asalazar_tests/data/Saldana_training_2015/pre/\n",
      "Reading 8 LC08 stack files\n"
     ]
    }
   ],
   "source": [
    "saldana = regionstack.regionStack('Saldana_training_2015')"
   ]
  },
  {
   "cell_type": "code",
   "execution_count": 6,
   "metadata": {},
   "outputs": [
    {
     "data": {
      "text/plain": [
       "<matplotlib.collections.QuadMesh at 0x7f0e280e88d0>"
      ]
     },
     "execution_count": 6,
     "metadata": {},
     "output_type": "execute_result"
    },
    {
     "data": {
      "image/png": "[encoded data removed]",
      "text/plain": [
       "<Figure size 432x288 with 2 Axes>"
      ]
     },
     "metadata": {},
     "output_type": "display_data"
    }
   ],
   "source": [
    "saldana.S1_ASCENDING_GLCM.isel(time=0).VV_ASM.plot()"
   ]
  },
  {
   "cell_type": "code",
   "execution_count": 9,
   "metadata": {},
   "outputs": [
    {
     "data": {
      "text/plain": [
       "<xarray.Dataset>\n",
       "Dimensions:  (time: 8, x: 2979, y: 3631)\n",
       "Coordinates:\n",
       "  * time     (time) datetime64[ns] 2015-12-11 2015-12-21 2015-12-31 ...\n",
       "  * x        (x) float64 4.889e+05 4.889e+05 4.889e+05 4.889e+05 4.889e+05 ...\n",
       "  * y        (y) float64 4.485e+05 4.484e+05 4.484e+05 4.484e+05 4.484e+05 ...\n",
       "    mask     (time, y, x) int8 dask.array<shape=(8, 3631, 2979), chunksize=(1, 1000, 1000)>\n",
       "Data variables:\n",
       "    blue     (time, y, x) uint16 dask.array<shape=(8, 3631, 2979), chunksize=(8, 1000, 1000)>\n",
       "    swir1    (time, y, x) uint16 dask.array<shape=(8, 3631, 2979), chunksize=(8, 1000, 1000)>\n",
       "    swir2    (time, y, x) uint16 dask.array<shape=(8, 3631, 2979), chunksize=(8, 1000, 1000)>\n",
       "    green    (time, y, x) uint16 dask.array<shape=(8, 3631, 2979), chunksize=(8, 1000, 1000)>\n",
       "    nir      (time, y, x) uint16 dask.array<shape=(8, 3631, 2979), chunksize=(8, 1000, 1000)>\n",
       "    NDVI     (time, y, x) float32 dask.array<shape=(8, 3631, 2979), chunksize=(8, 1000, 1000)>\n",
       "    LSWI     (time, y, x) float32 dask.array<shape=(8, 3631, 2979), chunksize=(8, 1000, 1000)>\n",
       "    red      (time, y, x) uint16 dask.array<shape=(8, 3631, 2979), chunksize=(8, 1000, 1000)>\n",
       "    NDVI_c   (time, x, y) float64 dask.array<shape=(8, 2979, 3631), chunksize=(1, 1000, 1000)>\n",
       "    LSWI_c   (time, x, y) float64 dask.array<shape=(8, 2979, 3631), chunksize=(1, 1000, 1000)>"
      ]
     },
     "execution_count": 9,
     "metadata": {},
     "output_type": "execute_result"
    }
   ],
   "source": [
    "saldana.S2"
   ]
  },
  {
   "cell_type": "code",
   "execution_count": 6,
   "metadata": {
    "scrolled": true
   },
   "outputs": [
    {
     "name": "stdout",
     "output_type": "stream",
     "text": [
      "Processing band NDVI for date 2015-12-21T00:00:00.000000000\n",
      "Processing band NDVI for date 2015-12-31T00:00:00.000000000\n",
      "Processing band NDVI for date 2016-01-10T00:00:00.000000000\n",
      "Processing band NDVI for date 2016-01-20T00:00:00.000000000\n",
      "Processing band NDVI for date 2016-01-30T00:00:00.000000000\n",
      "Processing band NDVI for date 2016-02-09T00:00:00.000000000\n",
      "Processing band NDVI for date 2016-02-19T00:00:00.000000000\n",
      "Processing band LSWI for date 2015-12-21T00:00:00.000000000\n",
      "Processing band LSWI for date 2015-12-31T00:00:00.000000000\n",
      "Processing band LSWI for date 2016-01-10T00:00:00.000000000\n",
      "Processing band LSWI for date 2016-01-20T00:00:00.000000000\n",
      "Processing band LSWI for date 2016-01-30T00:00:00.000000000\n",
      "Processing band LSWI for date 2016-02-09T00:00:00.000000000\n",
      "Processing band LSWI for date 2016-02-19T00:00:00.000000000\n"
     ]
    }
   ],
   "source": [
    "saldana.calcTempVariation('S2', ['NDVI','LSWI'])#,'red', 'green','blue','nir','swir1','swir2'])"
   ]
  },
  {
   "cell_type": "code",
   "execution_count": 9,
   "metadata": {},
   "outputs": [
    {
     "name": "stdout",
     "output_type": "stream",
     "text": [
      "Processing band VV for date 2015-12-28T00:00:00.000000000\n",
      "Processing band VV for date 2016-01-21T00:00:00.000000000\n",
      "Processing band VV for date 2016-02-14T00:00:00.000000000\n"
     ]
    }
   ],
   "source": [
    "#saldana.calcTempVariation('S1_ASCENDING', ['VV'])\n",
    "saldana.calcTempVariation('S1_DESCENDING', ['VV'])\n",
    "#saldana.S1_ASCENDING #[['NDVI_c','LSWI_c']]"
   ]
  },
  {
   "cell_type": "code",
   "execution_count": 17,
   "metadata": {},
   "outputs": [],
   "source": [
    "ratio = saldana.S1_DESCENDING.VV / saldana.S1_DESCENDING.VH"
   ]
  },
  {
   "cell_type": "code",
   "execution_count": 4,
   "metadata": {
    "scrolled": true
   },
   "outputs": [
    {
     "name": "stdout",
     "output_type": "stream",
     "text": [
      "Adding dataset with classes as class_ds attribute of regionStack\n"
     ]
    }
   ],
   "source": [
    "shp_file = '/home/azalazar/data/saldana.shp'\n",
    "\n",
    "saldana.regionTrainingClasses(shp_file, testset=0.3)"
   ]
  },
  {
   "cell_type": "code",
   "execution_count": 5,
   "metadata": {},
   "outputs": [
    {
     "data": {
      "text/plain": [
       "{'S1_DESCENDING': ['VV', 'VV_c'],\n",
       " 'S1_ASCENDING': ['VV', 'VV_c'],\n",
       " 'S1_ASCENDING_GLCM': ['VV_ASM',\n",
       "  'VV_Contrast',\n",
       "  'VV_Dissimilarity',\n",
       "  'VV_Energy',\n",
       "  'VV_Entropy',\n",
       "  'VV_GLCMCorrelation',\n",
       "  'VV_GLCMMean',\n",
       "  'VV_GLCMVariance',\n",
       "  'VV_Homogeneity'],\n",
       " 'S1_DESCENDING_GLCM': ['VV_ASM',\n",
       "  'VV_Contrast',\n",
       "  'VV_Dissimilarity',\n",
       "  'VV_Energy',\n",
       "  'VV_Entropy',\n",
       "  'VV_GLCMCorrelation',\n",
       "  'VV_GLCMMean',\n",
       "  'VV_GLCMVariance',\n",
       "  'VV_Homogeneity']}"
      ]
     },
     "execution_count": 5,
     "metadata": {},
     "output_type": "execute_result"
    }
   ],
   "source": [
    "data_dict = dict([('S1_DESCENDING',['VV','VV_c']),\n",
    "                  ('S1_ASCENDING',['VV','VV_c']),\n",
    "                  ('S1_ASCENDING_GLCM',['VV_ASM','VV_Contrast','VV_Dissimilarity',\n",
    "                                        'VV_Energy','VV_Entropy','VV_GLCMCorrelation',\n",
    "                                        'VV_GLCMMean','VV_GLCMVariance','VV_Homogeneity']),\n",
    "                  ('S1_DESCENDING_GLCM',['VV_ASM','VV_Contrast','VV_Dissimilarity',\n",
    "                                         'VV_Energy','VV_Entropy','VV_GLCMCorrelation',\n",
    "                                         'VV_GLCMMean','VV_GLCMVariance','VV_Homogeneity'])])\n",
    "data_dict"
   ]
  },
  {
   "cell_type": "code",
   "execution_count": 6,
   "metadata": {},
   "outputs": [
    {
     "name": "stdout",
     "output_type": "stream",
     "text": [
      "Writing test parquet dataset to /mnt/workspace_cluster_6/TRANSVERSAL_PROJECTS/MADR/COMPONENTE_2/Imagenes_Satelitales/Temp/asalazar_tests/data/Saldana_training_2015/parquet/test0/ . 1 of 6...\n",
      "Writing test parquet dataset to /mnt/workspace_cluster_6/TRANSVERSAL_PROJECTS/MADR/COMPONENTE_2/Imagenes_Satelitales/Temp/asalazar_tests/data/Saldana_training_2015/parquet/test1/ . 2 of 6...\n",
      "Writing test parquet dataset to /mnt/workspace_cluster_6/TRANSVERSAL_PROJECTS/MADR/COMPONENTE_2/Imagenes_Satelitales/Temp/asalazar_tests/data/Saldana_training_2015/parquet/test2/ . 3 of 6...\n",
      "Writing test parquet dataset to /mnt/workspace_cluster_6/TRANSVERSAL_PROJECTS/MADR/COMPONENTE_2/Imagenes_Satelitales/Temp/asalazar_tests/data/Saldana_training_2015/parquet/test3/ . 4 of 6...\n",
      "Writing test parquet dataset to /mnt/workspace_cluster_6/TRANSVERSAL_PROJECTS/MADR/COMPONENTE_2/Imagenes_Satelitales/Temp/asalazar_tests/data/Saldana_training_2015/parquet/test4/ . 5 of 6...\n",
      "Writing test parquet dataset to /mnt/workspace_cluster_6/TRANSVERSAL_PROJECTS/MADR/COMPONENTE_2/Imagenes_Satelitales/Temp/asalazar_tests/data/Saldana_training_2015/parquet/test5/ . 6 of 6...\n"
     ]
    }
   ],
   "source": [
    "saldana.buildTrainingDataFrame(data_dict, ['test'])"
   ]
  },
  {
   "cell_type": "code",
   "execution_count": 12,
   "metadata": {},
   "outputs": [
    {
     "name": "stdout",
     "output_type": "stream",
     "text": [
      "0\n",
      "1\n",
      "2\n",
      "3\n",
      "4\n",
      "5\n",
      "6\n",
      "7\n"
     ]
    }
   ],
   "source": [
    "import numpy as np\n",
    "for index, date in np.ndenumerate(saldana.S2.time.values):\n",
    "    print(index[0])"
   ]
  },
  {
   "cell_type": "code",
   "execution_count": 18,
   "metadata": {},
   "outputs": [
    {
     "data": {
      "text/plain": [
       "array([1, 2, 3, 4, 5])"
      ]
     },
     "execution_count": 18,
     "metadata": {},
     "output_type": "execute_result"
    }
   ],
   "source": [
    "import numpy as np\n",
    "test = np.array([1,2,3,4,5,5])\n",
    "np.unique(test)"
   ]
  },
  {
   "cell_type": "code",
   "execution_count": 12,
   "metadata": {},
   "outputs": [
    {
     "name": "stdout",
     "output_type": "stream",
     "text": [
      "['2015-12-11T00:00:00.000000000' '2015-12-21T00:00:00.000000000'\n",
      " '2015-12-31T00:00:00.000000000' '2016-01-10T00:00:00.000000000'\n",
      " '2016-01-20T00:00:00.000000000' '2016-01-30T00:00:00.000000000'\n",
      " '2016-02-09T00:00:00.000000000' '2016-02-19T00:00:00.000000000']\n"
     ]
    }
   ],
   "source": [
    "import numpy as np\n",
    "a = np.array([], dtype=np.datetime64)\n",
    "a = np.append(a, saldana.S2.time.values)\n",
    "#print(a)\n",
    "#for num in range(10):\n",
    "#    print(num)\n",
    "#    a = np.append(a, num)\n",
    "print(a)"
   ]
  },
  {
   "cell_type": "code",
   "execution_count": 11,
   "metadata": {},
   "outputs": [],
   "source": [
    "saldana.S1_DESCENDING_GLCM = saldana.S1_DESCENCDING_GLCM"
   ]
  },
  {
   "cell_type": "code",
   "execution_count": 12,
   "metadata": {},
   "outputs": [
    {
     "ename": "AttributeError",
     "evalue": "'regionStack' object has no attribute 'train'",
     "output_type": "error",
     "traceback": [
      "\u001b[0;31m---------------------------------------------------------------------------\u001b[0m",
      "\u001b[0;31mAttributeError\u001b[0m                            Traceback (most recent call last)",
      "\u001b[0;32m<ipython-input-12-69816f6b848d>\u001b[0m in \u001b[0;36m<module>\u001b[0;34m()\u001b[0m\n\u001b[0;32m----> 1\u001b[0;31m \u001b[0msaldana\u001b[0m\u001b[0;34m.\u001b[0m\u001b[0mtrain\u001b[0m\u001b[0;31m#.to_netcdf(saldana.data_directory+'train.nc')#, chunks={'time':1})\u001b[0m\u001b[0;34m\u001b[0m\u001b[0m\n\u001b[0m",
      "\u001b[0;31mAttributeError\u001b[0m: 'regionStack' object has no attribute 'train'"
     ]
    }
   ],
   "source": [
    "saldana.train#.to_netcdf(saldana.data_directory+'train.nc')#, chunks={'time':1})"
   ]
  },
  {
   "cell_type": "code",
   "execution_count": 21,
   "metadata": {},
   "outputs": [
    {
     "data": {
      "text/html": [
       "<table style=\"border: 2px solid white;\">\n",
       "<tr>\n",
       "<td style=\"vertical-align: top; border: 0px solid white\">\n",
       "<h3>Client</h3>\n",
       "<ul>\n",
       "  <li><b>Scheduler: </b>tcp://127.0.0.1:41298\n",
       "  <li><b>Dashboard: </b><a href='http://127.0.0.1:55865/status' target='_blank'>http://127.0.0.1:55865/status</a>\n",
       "</ul>\n",
       "</td>\n",
       "<td style=\"vertical-align: top; border: 0px solid white\">\n",
       "<h3>Cluster</h3>\n",
       "<ul>\n",
       "  <li><b>Workers: </b>4</li>\n",
       "  <li><b>Cores: </b>24</li>\n",
       "  <li><b>Memory: </b>33.55 GB</li>\n",
       "</ul>\n",
       "</td>\n",
       "</tr>\n",
       "</table>"
      ],
      "text/plain": [
       "<Client: scheduler='tcp://127.0.0.1:41298' processes=4 cores=24>"
      ]
     },
     "execution_count": 21,
     "metadata": {},
     "output_type": "execute_result"
    }
   ],
   "source": [
    "client"
   ]
  },
  {
   "cell_type": "code",
   "execution_count": 27,
   "metadata": {},
   "outputs": [
    {
     "data": {
      "text/plain": [
       "<xarray.Dataset>\n",
       "Dimensions:   (time: 4, x: 2981, y: 3635)\n",
       "Coordinates:\n",
       "  * y         (y) float64 4.122e+05 4.122e+05 4.122e+05 4.122e+05 4.122e+05 ...\n",
       "  * x         (x) float64 4.889e+05 4.889e+05 4.889e+05 4.889e+05 4.889e+05 ...\n",
       "  * time      (time) datetime64[ns] 2015-12-11 2015-12-21 2015-12-31 2016-01-10\n",
       "    mask      (time, x, y) bool dask.array<shape=(4, 2981, 3635), chunksize=(1, 1000, 1220)>\n",
       "Data variables:\n",
       "    NDVI      (time, x, y) float32 dask.array<shape=(4, 2981, 3635), chunksize=(1, 1000, 1220)>\n",
       "    LSWI      (time, x, y) float32 dask.array<shape=(4, 2981, 3635), chunksize=(1, 1000, 1220)>\n",
       "    VV_ASC    (time, x, y) float32 dask.array<shape=(4, 2981, 3635), chunksize=(1, 1000, 1220)>\n",
       "    VV_DSC    (time, x, y) float32 dask.array<shape=(4, 2981, 3635), chunksize=(1, 1000, 1220)>\n",
       "    VH_DSC    (time, x, y) float32 dask.array<shape=(4, 2981, 3635), chunksize=(1, 1000, 1220)>\n",
       "    train     (time, x, y) float64 dask.array<shape=(4, 2981, 3635), chunksize=(1, 1000, 1220)>\n",
       "    test      (time, x, y) float64 dask.array<shape=(4, 2981, 3635), chunksize=(1, 1000, 1220)>\n",
       "    NDVI_c    (x, y, time) float64 dask.array<shape=(2981, 3635, 4), chunksize=(1000, 1220, 1)>\n",
       "    LSWI_c    (x, y, time) float64 dask.array<shape=(2981, 3635, 4), chunksize=(1000, 1220, 1)>\n",
       "    VV_ASC_c  (x, y, time) float64 dask.array<shape=(2981, 3635, 4), chunksize=(1000, 1220, 1)>\n",
       "    VV_DSC_c  (x, y, time) float64 dask.array<shape=(2981, 3635, 4), chunksize=(1000, 1220, 1)>\n",
       "    VH_DSC_c  (x, y, time) float64 dask.array<shape=(2981, 3635, 4), chunksize=(1000, 1220, 1)>"
      ]
     },
     "execution_count": 27,
     "metadata": {},
     "output_type": "execute_result"
    }
   ],
   "source": [
    "t_dir = '/mnt/workspace_cluster_6/TRANSVERSAL_PROJECTS/MADR/COMPONENTE_2/Imagenes_Satelitales/Temp/asalazar_tests/data/Saldana_training_2015/'\n",
    "train_data = xr.open_mfdataset(t_dir+'train.nc', chunks={'time':1, 'x':1000,'y':1220})\n",
    "train_data"
   ]
  },
  {
   "cell_type": "code",
   "execution_count": 190,
   "metadata": {},
   "outputs": [
    {
     "data": {
      "text/plain": [
       "array(['2015-12-04T00:00:00.000000000', '2015-12-28T00:00:00.000000000',\n",
       "       '2016-01-21T00:00:00.000000000', '2016-02-14T00:00:00.000000000'],\n",
       "      dtype='datetime64[ns]')"
      ]
     },
     "execution_count": 190,
     "metadata": {},
     "output_type": "execute_result"
    }
   ],
   "source": [
    "saldana.S1_DESCENDING.time.values"
   ]
  },
  {
   "cell_type": "code",
   "execution_count": 18,
   "metadata": {},
   "outputs": [
    {
     "data": {
      "text/plain": [
       "<matplotlib.collections.QuadMesh at 0x7fa633931b38>"
      ]
     },
     "execution_count": 18,
     "metadata": {},
     "output_type": "execute_result"
    },
    {
     "data": {
      "image/png": "[encoded data removed]",
      "text/plain": [
       "<Figure size 432x288 with 2 Axes>"
      ]
     },
     "metadata": {},
     "output_type": "display_data"
    }
   ],
   "source": [
    "train_data.train.isel(time=0).plot()"
   ]
  },
  {
   "cell_type": "code",
   "execution_count": 37,
   "metadata": {},
   "outputs": [
    {
     "data": {
      "text/plain": [
       "[<matplotlib.lines.Line2D at 0x7febc641bb50>]"
      ]
     },
     "execution_count": 37,
     "metadata": {},
     "output_type": "execute_result"
    },
    {
     "data": {
      "image/png": "[encoded data removed]",
      "text/plain": [
       "<Figure size 432x288 with 1 Axes>"
      ]
     },
     "metadata": {},
     "output_type": "display_data"
    }
   ],
   "source": [
    "saldana.train.time.plot(marker='o')"
   ]
  },
  {
   "cell_type": "markdown",
   "metadata": {},
   "source": [
    "### Machine learning with h2o.ai"
   ]
  },
  {
   "cell_type": "code",
   "execution_count": 11,
   "metadata": {},
   "outputs": [],
   "source": [
    "import h2o"
   ]
  },
  {
   "cell_type": "code",
   "execution_count": 14,
   "metadata": {},
   "outputs": [
    {
     "name": "stdout",
     "output_type": "stream",
     "text": [
      "Checking whether there is an H2O instance running at http://localhost:54321..... not found.\n",
      "Attempting to start a local H2O server...\n",
      "  Java Version: openjdk version \"1.8.0_121\"; OpenJDK Runtime Environment (Zulu 8.20.0.5-linux64) (build 1.8.0_121-b15); OpenJDK 64-Bit Server VM (Zulu 8.20.0.5-linux64) (build 25.121-b15, mixed mode)\n",
      "  Starting server from /home/azalazar/anaconda3/envs/models3/h2o_jar/h2o.jar\n",
      "  Ice root: /tmp/tmp960was14\n",
      "  JVM stdout: /tmp/tmp960was14/h2o_azalazar_started_from_python.out\n",
      "  JVM stderr: /tmp/tmp960was14/h2o_azalazar_started_from_python.err\n",
      "  Server is running at http://127.0.0.1:54321\n",
      "Connecting to H2O server at http://127.0.0.1:54321... successful.\n",
      "Warning: Your H2O cluster version is too old (3 months and 12 days)! Please download and install the latest version from http://h2o.ai/download/\n"
     ]
    },
    {
     "data": {
      "text/html": [
       "<div style=\"overflow:auto\"><table style=\"width:50%\"><tr><td>H2O cluster uptime:</td>\n",
       "<td>03 secs</td></tr>\n",
       "<tr><td>H2O cluster timezone:</td>\n",
       "<td>America/Bogota</td></tr>\n",
       "<tr><td>H2O data parsing timezone:</td>\n",
       "<td>UTC</td></tr>\n",
       "<tr><td>H2O cluster version:</td>\n",
       "<td>3.18.0.2</td></tr>\n",
       "<tr><td>H2O cluster version age:</td>\n",
       "<td>3 months and 12 days !!!</td></tr>\n",
       "<tr><td>H2O cluster name:</td>\n",
       "<td>H2O_from_python_azalazar_287l3b</td></tr>\n",
       "<tr><td>H2O cluster total nodes:</td>\n",
       "<td>1</td></tr>\n",
       "<tr><td>H2O cluster free memory:</td>\n",
       "<td>7.111 Gb</td></tr>\n",
       "<tr><td>H2O cluster total cores:</td>\n",
       "<td>24</td></tr>\n",
       "<tr><td>H2O cluster allowed cores:</td>\n",
       "<td>24</td></tr>\n",
       "<tr><td>H2O cluster status:</td>\n",
       "<td>accepting new members, healthy</td></tr>\n",
       "<tr><td>H2O connection url:</td>\n",
       "<td>http://127.0.0.1:54321</td></tr>\n",
       "<tr><td>H2O connection proxy:</td>\n",
       "<td>None</td></tr>\n",
       "<tr><td>H2O internal security:</td>\n",
       "<td>False</td></tr>\n",
       "<tr><td>H2O API Extensions:</td>\n",
       "<td>XGBoost, Algos, AutoML, Core V3, Core V4</td></tr>\n",
       "<tr><td>Python version:</td>\n",
       "<td>3.6.5 final</td></tr></table></div>"
      ],
      "text/plain": [
       "--------------------------  ----------------------------------------\n",
       "H2O cluster uptime:         03 secs\n",
       "H2O cluster timezone:       America/Bogota\n",
       "H2O data parsing timezone:  UTC\n",
       "H2O cluster version:        3.18.0.2\n",
       "H2O cluster version age:    3 months and 12 days !!!\n",
       "H2O cluster name:           H2O_from_python_azalazar_287l3b\n",
       "H2O cluster total nodes:    1\n",
       "H2O cluster free memory:    7.111 Gb\n",
       "H2O cluster total cores:    24\n",
       "H2O cluster allowed cores:  24\n",
       "H2O cluster status:         accepting new members, healthy\n",
       "H2O connection url:         http://127.0.0.1:54321\n",
       "H2O connection proxy:\n",
       "H2O internal security:      False\n",
       "H2O API Extensions:         XGBoost, Algos, AutoML, Core V3, Core V4\n",
       "Python version:             3.6.5 final\n",
       "--------------------------  ----------------------------------------"
      ]
     },
     "metadata": {},
     "output_type": "display_data"
    }
   ],
   "source": [
    "# Initialize h2o cluster\n",
    "h2o.init(nthreads = -1, max_mem_size = 8)"
   ]
  },
  {
   "cell_type": "code",
   "execution_count": 28,
   "metadata": {},
   "outputs": [],
   "source": [
    "# Select only data from a date and transform to pandas dataframe\n",
    "data_pd = train_data.to_dask_dataframe()"
   ]
  },
  {
   "cell_type": "code",
   "execution_count": 29,
   "metadata": {},
   "outputs": [
    {
     "data": {
      "text/html": [
       "<div><strong>Dask DataFrame Structure:</strong></div>\n",
       "<div>\n",
       "<style scoped>\n",
       "    .dataframe tbody tr th:only-of-type {\n",
       "        vertical-align: middle;\n",
       "    }\n",
       "\n",
       "    .dataframe tbody tr th {\n",
       "        vertical-align: top;\n",
       "    }\n",
       "\n",
       "    .dataframe thead th {\n",
       "        text-align: right;\n",
       "    }\n",
       "</style>\n",
       "<table border=\"1\" class=\"dataframe\">\n",
       "  <thead>\n",
       "    <tr style=\"text-align: right;\">\n",
       "      <th></th>\n",
       "      <th>time</th>\n",
       "      <th>x</th>\n",
       "      <th>y</th>\n",
       "      <th>mask</th>\n",
       "      <th>NDVI</th>\n",
       "      <th>LSWI</th>\n",
       "      <th>VV_ASC</th>\n",
       "      <th>VV_DSC</th>\n",
       "      <th>VH_DSC</th>\n",
       "      <th>train</th>\n",
       "      <th>test</th>\n",
       "      <th>NDVI_c</th>\n",
       "      <th>LSWI_c</th>\n",
       "      <th>VV_ASC_c</th>\n",
       "      <th>VV_DSC_c</th>\n",
       "      <th>VH_DSC_c</th>\n",
       "    </tr>\n",
       "    <tr>\n",
       "      <th>npartitions=4</th>\n",
       "      <th></th>\n",
       "      <th></th>\n",
       "      <th></th>\n",
       "      <th></th>\n",
       "      <th></th>\n",
       "      <th></th>\n",
       "      <th></th>\n",
       "      <th></th>\n",
       "      <th></th>\n",
       "      <th></th>\n",
       "      <th></th>\n",
       "      <th></th>\n",
       "      <th></th>\n",
       "      <th></th>\n",
       "      <th></th>\n",
       "      <th></th>\n",
       "    </tr>\n",
       "  </thead>\n",
       "  <tbody>\n",
       "    <tr>\n",
       "      <th>0</th>\n",
       "      <td>datetime64[ns]</td>\n",
       "      <td>float64</td>\n",
       "      <td>float64</td>\n",
       "      <td>bool</td>\n",
       "      <td>float32</td>\n",
       "      <td>float32</td>\n",
       "      <td>float32</td>\n",
       "      <td>float32</td>\n",
       "      <td>float32</td>\n",
       "      <td>float64</td>\n",
       "      <td>float64</td>\n",
       "      <td>float64</td>\n",
       "      <td>float64</td>\n",
       "      <td>float64</td>\n",
       "      <td>float64</td>\n",
       "      <td>float64</td>\n",
       "    </tr>\n",
       "    <tr>\n",
       "      <th>10835935</th>\n",
       "      <td>...</td>\n",
       "      <td>...</td>\n",
       "      <td>...</td>\n",
       "      <td>...</td>\n",
       "      <td>...</td>\n",
       "      <td>...</td>\n",
       "      <td>...</td>\n",
       "      <td>...</td>\n",
       "      <td>...</td>\n",
       "      <td>...</td>\n",
       "      <td>...</td>\n",
       "      <td>...</td>\n",
       "      <td>...</td>\n",
       "      <td>...</td>\n",
       "      <td>...</td>\n",
       "      <td>...</td>\n",
       "    </tr>\n",
       "    <tr>\n",
       "      <th>21671870</th>\n",
       "      <td>...</td>\n",
       "      <td>...</td>\n",
       "      <td>...</td>\n",
       "      <td>...</td>\n",
       "      <td>...</td>\n",
       "      <td>...</td>\n",
       "      <td>...</td>\n",
       "      <td>...</td>\n",
       "      <td>...</td>\n",
       "      <td>...</td>\n",
       "      <td>...</td>\n",
       "      <td>...</td>\n",
       "      <td>...</td>\n",
       "      <td>...</td>\n",
       "      <td>...</td>\n",
       "      <td>...</td>\n",
       "    </tr>\n",
       "    <tr>\n",
       "      <th>32507805</th>\n",
       "      <td>...</td>\n",
       "      <td>...</td>\n",
       "      <td>...</td>\n",
       "      <td>...</td>\n",
       "      <td>...</td>\n",
       "      <td>...</td>\n",
       "      <td>...</td>\n",
       "      <td>...</td>\n",
       "      <td>...</td>\n",
       "      <td>...</td>\n",
       "      <td>...</td>\n",
       "      <td>...</td>\n",
       "      <td>...</td>\n",
       "      <td>...</td>\n",
       "      <td>...</td>\n",
       "      <td>...</td>\n",
       "    </tr>\n",
       "    <tr>\n",
       "      <th>43343739</th>\n",
       "      <td>...</td>\n",
       "      <td>...</td>\n",
       "      <td>...</td>\n",
       "      <td>...</td>\n",
       "      <td>...</td>\n",
       "      <td>...</td>\n",
       "      <td>...</td>\n",
       "      <td>...</td>\n",
       "      <td>...</td>\n",
       "      <td>...</td>\n",
       "      <td>...</td>\n",
       "      <td>...</td>\n",
       "      <td>...</td>\n",
       "      <td>...</td>\n",
       "      <td>...</td>\n",
       "      <td>...</td>\n",
       "    </tr>\n",
       "  </tbody>\n",
       "</table>\n",
       "</div>\n",
       "<div>Dask Name: concat-indexed, 1960 tasks</div>"
      ],
      "text/plain": [
       "Dask DataFrame Structure:\n",
       "                         time        x        y  mask     NDVI     LSWI   VV_ASC   VV_DSC   VH_DSC    train     test   NDVI_c   LSWI_c VV_ASC_c VV_DSC_c VH_DSC_c\n",
       "npartitions=4                                                                                                                                                    \n",
       "0              datetime64[ns]  float64  float64  bool  float32  float32  float32  float32  float32  float64  float64  float64  float64  float64  float64  float64\n",
       "10835935                  ...      ...      ...   ...      ...      ...      ...      ...      ...      ...      ...      ...      ...      ...      ...      ...\n",
       "21671870                  ...      ...      ...   ...      ...      ...      ...      ...      ...      ...      ...      ...      ...      ...      ...      ...\n",
       "32507805                  ...      ...      ...   ...      ...      ...      ...      ...      ...      ...      ...      ...      ...      ...      ...      ...\n",
       "43343739                  ...      ...      ...   ...      ...      ...      ...      ...      ...      ...      ...      ...      ...      ...      ...      ...\n",
       "Dask Name: concat-indexed, 1960 tasks"
      ]
     },
     "execution_count": 29,
     "metadata": {},
     "output_type": "execute_result"
    }
   ],
   "source": [
    "data_pd"
   ]
  },
  {
   "cell_type": "code",
   "execution_count": 19,
   "metadata": {},
   "outputs": [],
   "source": [
    "data_train = data_pd[data_pd['train']>0]"
   ]
  },
  {
   "cell_type": "code",
   "execution_count": 30,
   "metadata": {},
   "outputs": [],
   "source": [
    "data_test = data_pd[data_pd['test']>0]"
   ]
  },
  {
   "cell_type": "code",
   "execution_count": 31,
   "metadata": {},
   "outputs": [
    {
     "data": {
      "text/html": [
       "<div><strong>Dask DataFrame Structure:</strong></div>\n",
       "<div>\n",
       "<style scoped>\n",
       "    .dataframe tbody tr th:only-of-type {\n",
       "        vertical-align: middle;\n",
       "    }\n",
       "\n",
       "    .dataframe tbody tr th {\n",
       "        vertical-align: top;\n",
       "    }\n",
       "\n",
       "    .dataframe thead th {\n",
       "        text-align: right;\n",
       "    }\n",
       "</style>\n",
       "<table border=\"1\" class=\"dataframe\">\n",
       "  <thead>\n",
       "    <tr style=\"text-align: right;\">\n",
       "      <th></th>\n",
       "      <th>time</th>\n",
       "      <th>x</th>\n",
       "      <th>y</th>\n",
       "      <th>mask</th>\n",
       "      <th>NDVI</th>\n",
       "      <th>LSWI</th>\n",
       "      <th>VV_ASC</th>\n",
       "      <th>VV_DSC</th>\n",
       "      <th>VH_DSC</th>\n",
       "      <th>train</th>\n",
       "      <th>test</th>\n",
       "      <th>NDVI_c</th>\n",
       "      <th>LSWI_c</th>\n",
       "      <th>VV_ASC_c</th>\n",
       "      <th>VV_DSC_c</th>\n",
       "      <th>VH_DSC_c</th>\n",
       "    </tr>\n",
       "    <tr>\n",
       "      <th>npartitions=4</th>\n",
       "      <th></th>\n",
       "      <th></th>\n",
       "      <th></th>\n",
       "      <th></th>\n",
       "      <th></th>\n",
       "      <th></th>\n",
       "      <th></th>\n",
       "      <th></th>\n",
       "      <th></th>\n",
       "      <th></th>\n",
       "      <th></th>\n",
       "      <th></th>\n",
       "      <th></th>\n",
       "      <th></th>\n",
       "      <th></th>\n",
       "      <th></th>\n",
       "    </tr>\n",
       "  </thead>\n",
       "  <tbody>\n",
       "    <tr>\n",
       "      <th>0</th>\n",
       "      <td>datetime64[ns]</td>\n",
       "      <td>float64</td>\n",
       "      <td>float64</td>\n",
       "      <td>bool</td>\n",
       "      <td>float32</td>\n",
       "      <td>float32</td>\n",
       "      <td>float32</td>\n",
       "      <td>float32</td>\n",
       "      <td>float32</td>\n",
       "      <td>float64</td>\n",
       "      <td>float64</td>\n",
       "      <td>float64</td>\n",
       "      <td>float64</td>\n",
       "      <td>float64</td>\n",
       "      <td>float64</td>\n",
       "      <td>float64</td>\n",
       "    </tr>\n",
       "    <tr>\n",
       "      <th>10835935</th>\n",
       "      <td>...</td>\n",
       "      <td>...</td>\n",
       "      <td>...</td>\n",
       "      <td>...</td>\n",
       "      <td>...</td>\n",
       "      <td>...</td>\n",
       "      <td>...</td>\n",
       "      <td>...</td>\n",
       "      <td>...</td>\n",
       "      <td>...</td>\n",
       "      <td>...</td>\n",
       "      <td>...</td>\n",
       "      <td>...</td>\n",
       "      <td>...</td>\n",
       "      <td>...</td>\n",
       "      <td>...</td>\n",
       "    </tr>\n",
       "    <tr>\n",
       "      <th>21671870</th>\n",
       "      <td>...</td>\n",
       "      <td>...</td>\n",
       "      <td>...</td>\n",
       "      <td>...</td>\n",
       "      <td>...</td>\n",
       "      <td>...</td>\n",
       "      <td>...</td>\n",
       "      <td>...</td>\n",
       "      <td>...</td>\n",
       "      <td>...</td>\n",
       "      <td>...</td>\n",
       "      <td>...</td>\n",
       "      <td>...</td>\n",
       "      <td>...</td>\n",
       "      <td>...</td>\n",
       "      <td>...</td>\n",
       "    </tr>\n",
       "    <tr>\n",
       "      <th>32507805</th>\n",
       "      <td>...</td>\n",
       "      <td>...</td>\n",
       "      <td>...</td>\n",
       "      <td>...</td>\n",
       "      <td>...</td>\n",
       "      <td>...</td>\n",
       "      <td>...</td>\n",
       "      <td>...</td>\n",
       "      <td>...</td>\n",
       "      <td>...</td>\n",
       "      <td>...</td>\n",
       "      <td>...</td>\n",
       "      <td>...</td>\n",
       "      <td>...</td>\n",
       "      <td>...</td>\n",
       "      <td>...</td>\n",
       "    </tr>\n",
       "    <tr>\n",
       "      <th>43343739</th>\n",
       "      <td>...</td>\n",
       "      <td>...</td>\n",
       "      <td>...</td>\n",
       "      <td>...</td>\n",
       "      <td>...</td>\n",
       "      <td>...</td>\n",
       "      <td>...</td>\n",
       "      <td>...</td>\n",
       "      <td>...</td>\n",
       "      <td>...</td>\n",
       "      <td>...</td>\n",
       "      <td>...</td>\n",
       "      <td>...</td>\n",
       "      <td>...</td>\n",
       "      <td>...</td>\n",
       "      <td>...</td>\n",
       "    </tr>\n",
       "  </tbody>\n",
       "</table>\n",
       "</div>\n",
       "<div>Dask Name: getitem, 1972 tasks</div>"
      ],
      "text/plain": [
       "Dask DataFrame Structure:\n",
       "                         time        x        y  mask     NDVI     LSWI   VV_ASC   VV_DSC   VH_DSC    train     test   NDVI_c   LSWI_c VV_ASC_c VV_DSC_c VH_DSC_c\n",
       "npartitions=4                                                                                                                                                    \n",
       "0              datetime64[ns]  float64  float64  bool  float32  float32  float32  float32  float32  float64  float64  float64  float64  float64  float64  float64\n",
       "10835935                  ...      ...      ...   ...      ...      ...      ...      ...      ...      ...      ...      ...      ...      ...      ...      ...\n",
       "21671870                  ...      ...      ...   ...      ...      ...      ...      ...      ...      ...      ...      ...      ...      ...      ...      ...\n",
       "32507805                  ...      ...      ...   ...      ...      ...      ...      ...      ...      ...      ...      ...      ...      ...      ...      ...\n",
       "43343739                  ...      ...      ...   ...      ...      ...      ...      ...      ...      ...      ...      ...      ...      ...      ...      ...\n",
       "Dask Name: getitem, 1972 tasks"
      ]
     },
     "execution_count": 31,
     "metadata": {},
     "output_type": "execute_result"
    }
   ],
   "source": [
    "data_test"
   ]
  },
  {
   "cell_type": "code",
   "execution_count": 7,
   "metadata": {},
   "outputs": [
    {
     "data": {
      "text/html": [
       "<div><strong>Dask DataFrame Structure:</strong></div>\n",
       "<div>\n",
       "<style scoped>\n",
       "    .dataframe tbody tr th:only-of-type {\n",
       "        vertical-align: middle;\n",
       "    }\n",
       "\n",
       "    .dataframe tbody tr th {\n",
       "        vertical-align: top;\n",
       "    }\n",
       "\n",
       "    .dataframe thead th {\n",
       "        text-align: right;\n",
       "    }\n",
       "</style>\n",
       "<table border=\"1\" class=\"dataframe\">\n",
       "  <thead>\n",
       "    <tr style=\"text-align: right;\">\n",
       "      <th></th>\n",
       "      <th>time</th>\n",
       "      <th>x</th>\n",
       "      <th>y</th>\n",
       "      <th>mask</th>\n",
       "      <th>NDVI</th>\n",
       "      <th>LSWI</th>\n",
       "      <th>VV_ASC</th>\n",
       "      <th>VV_DSC</th>\n",
       "      <th>VH_DSC</th>\n",
       "      <th>train</th>\n",
       "      <th>test</th>\n",
       "      <th>NDVI_c</th>\n",
       "      <th>LSWI_c</th>\n",
       "      <th>VV_ASC_c</th>\n",
       "      <th>VV_DSC_c</th>\n",
       "      <th>VH_DSC_c</th>\n",
       "    </tr>\n",
       "    <tr>\n",
       "      <th>npartitions=4</th>\n",
       "      <th></th>\n",
       "      <th></th>\n",
       "      <th></th>\n",
       "      <th></th>\n",
       "      <th></th>\n",
       "      <th></th>\n",
       "      <th></th>\n",
       "      <th></th>\n",
       "      <th></th>\n",
       "      <th></th>\n",
       "      <th></th>\n",
       "      <th></th>\n",
       "      <th></th>\n",
       "      <th></th>\n",
       "      <th></th>\n",
       "      <th></th>\n",
       "    </tr>\n",
       "  </thead>\n",
       "  <tbody>\n",
       "    <tr>\n",
       "      <th>0</th>\n",
       "      <td>datetime64[ns]</td>\n",
       "      <td>float64</td>\n",
       "      <td>float64</td>\n",
       "      <td>bool</td>\n",
       "      <td>float32</td>\n",
       "      <td>float32</td>\n",
       "      <td>float32</td>\n",
       "      <td>float32</td>\n",
       "      <td>float32</td>\n",
       "      <td>float64</td>\n",
       "      <td>float64</td>\n",
       "      <td>float64</td>\n",
       "      <td>float64</td>\n",
       "      <td>float64</td>\n",
       "      <td>float64</td>\n",
       "      <td>float64</td>\n",
       "    </tr>\n",
       "    <tr>\n",
       "      <th>10835935</th>\n",
       "      <td>...</td>\n",
       "      <td>...</td>\n",
       "      <td>...</td>\n",
       "      <td>...</td>\n",
       "      <td>...</td>\n",
       "      <td>...</td>\n",
       "      <td>...</td>\n",
       "      <td>...</td>\n",
       "      <td>...</td>\n",
       "      <td>...</td>\n",
       "      <td>...</td>\n",
       "      <td>...</td>\n",
       "      <td>...</td>\n",
       "      <td>...</td>\n",
       "      <td>...</td>\n",
       "      <td>...</td>\n",
       "    </tr>\n",
       "    <tr>\n",
       "      <th>21671870</th>\n",
       "      <td>...</td>\n",
       "      <td>...</td>\n",
       "      <td>...</td>\n",
       "      <td>...</td>\n",
       "      <td>...</td>\n",
       "      <td>...</td>\n",
       "      <td>...</td>\n",
       "      <td>...</td>\n",
       "      <td>...</td>\n",
       "      <td>...</td>\n",
       "      <td>...</td>\n",
       "      <td>...</td>\n",
       "      <td>...</td>\n",
       "      <td>...</td>\n",
       "      <td>...</td>\n",
       "      <td>...</td>\n",
       "    </tr>\n",
       "    <tr>\n",
       "      <th>32507805</th>\n",
       "      <td>...</td>\n",
       "      <td>...</td>\n",
       "      <td>...</td>\n",
       "      <td>...</td>\n",
       "      <td>...</td>\n",
       "      <td>...</td>\n",
       "      <td>...</td>\n",
       "      <td>...</td>\n",
       "      <td>...</td>\n",
       "      <td>...</td>\n",
       "      <td>...</td>\n",
       "      <td>...</td>\n",
       "      <td>...</td>\n",
       "      <td>...</td>\n",
       "      <td>...</td>\n",
       "      <td>...</td>\n",
       "    </tr>\n",
       "    <tr>\n",
       "      <th>43343739</th>\n",
       "      <td>...</td>\n",
       "      <td>...</td>\n",
       "      <td>...</td>\n",
       "      <td>...</td>\n",
       "      <td>...</td>\n",
       "      <td>...</td>\n",
       "      <td>...</td>\n",
       "      <td>...</td>\n",
       "      <td>...</td>\n",
       "      <td>...</td>\n",
       "      <td>...</td>\n",
       "      <td>...</td>\n",
       "      <td>...</td>\n",
       "      <td>...</td>\n",
       "      <td>...</td>\n",
       "      <td>...</td>\n",
       "    </tr>\n",
       "  </tbody>\n",
       "</table>\n",
       "</div>\n",
       "<div>Dask Name: concat-indexed, 376 tasks</div>"
      ],
      "text/plain": [
       "Dask DataFrame Structure:\n",
       "                         time        x        y  mask     NDVI     LSWI   VV_ASC   VV_DSC   VH_DSC    train     test   NDVI_c   LSWI_c VV_ASC_c VV_DSC_c VH_DSC_c\n",
       "npartitions=4                                                                                                                                                    \n",
       "0              datetime64[ns]  float64  float64  bool  float32  float32  float32  float32  float32  float64  float64  float64  float64  float64  float64  float64\n",
       "10835935                  ...      ...      ...   ...      ...      ...      ...      ...      ...      ...      ...      ...      ...      ...      ...      ...\n",
       "21671870                  ...      ...      ...   ...      ...      ...      ...      ...      ...      ...      ...      ...      ...      ...      ...      ...\n",
       "32507805                  ...      ...      ...   ...      ...      ...      ...      ...      ...      ...      ...      ...      ...      ...      ...      ...\n",
       "43343739                  ...      ...      ...   ...      ...      ...      ...      ...      ...      ...      ...      ...      ...      ...      ...      ...\n",
       "Dask Name: concat-indexed, 376 tasks"
      ]
     },
     "execution_count": 7,
     "metadata": {},
     "output_type": "execute_result"
    }
   ],
   "source": [
    "# Remove multi-index, as it is not preserved in h20\n",
    "data_pd#_v2.reset_index(inplace=True)"
   ]
  },
  {
   "cell_type": "code",
   "execution_count": 32,
   "metadata": {},
   "outputs": [],
   "source": [
    "# Inspect dataframe\n",
    "# Select only data from a date and transform to pandas dataframe\n",
    "from dask.diagnostics import ProgressBar\n",
    "from dask.dataframe import to_parquet\n",
    "with ProgressBar():\n",
    "    to_parquet(data_test, saldana.data_directory+'test_parquet/')#train_temp-*.parquet')\n",
    "    #data_pd.to_csv(, chunksize=10835935)"
   ]
  },
  {
   "cell_type": "code",
   "execution_count": 143,
   "metadata": {},
   "outputs": [],
   "source": [
    "# Load data to h2o frame\n",
    "import os\n",
    "import re\n",
    "\n",
    "def read_parquet_data(datadir, tag):\n",
    "    \n",
    "    files = list(filter(re.compile(r'^'+tag+'.*').search, os.listdir(datadir)))\n",
    "    \n",
    "    data = [h2o.import_file(datadir+x) for x in files]\n",
    "    \n",
    "    data = [x.asnumeric() for x in data]\n",
    "    \n",
    "    return mergedataset(data)\n",
    "\n",
    "def mergedataset (dslist):\n",
    "    if len(dslist)==1:\n",
    "        return dslist[0]\n",
    "    else:\n",
    "        return dslist[0].rbind(mergedataset(dslist[1:]))\n"
   ]
  },
  {
   "cell_type": "code",
   "execution_count": 140,
   "metadata": {},
   "outputs": [
    {
     "name": "stdout",
     "output_type": "stream",
     "text": [
      "Parse progress: |█████████████████████████████████████████████████████████| 100%\n",
      "Parse progress: |█████████████████████████████████████████████████████████| 100%\n",
      "Parse progress: |█████████████████████████████████████████████████████████| 100%\n",
      "Parse progress: |█████████████████████████████████████████████████████████| 100%\n",
      "Parse progress: |█████████████████████████████████████████████████████████| 100%\n",
      "Parse progress: |█████████████████████████████████████████████████████████| 100%\n"
     ]
    }
   ],
   "source": [
    "data = read_parquet_data(saldana.data_directory+'parquet/', 'train')"
   ]
  },
  {
   "cell_type": "code",
   "execution_count": 142,
   "metadata": {},
   "outputs": [
    {
     "data": {
      "text/plain": [
       "(64066, 17)"
      ]
     },
     "execution_count": 142,
     "metadata": {},
     "output_type": "execute_result"
    }
   ],
   "source": [
    "data.shape"
   ]
  },
  {
   "cell_type": "code",
   "execution_count": 80,
   "metadata": {},
   "outputs": [],
   "source": [
    "data['train'] = data['train'].asfactor()\n",
    "#erg['test'] = erg['test'].asfactor() #encode the class response as a factor\n",
    "#after encoding, this shows the 5 factor levels, in this dataset '2' is missing!!!"
   ]
  },
  {
   "cell_type": "code",
   "execution_count": 81,
   "metadata": {},
   "outputs": [
    {
     "data": {
      "text/plain": [
       "[['1', '2', '3', '4', '5']]"
      ]
     },
     "execution_count": 81,
     "metadata": {},
     "output_type": "execute_result"
    }
   ],
   "source": [
    "data['train'].levels()"
   ]
  },
  {
   "cell_type": "code",
   "execution_count": 40,
   "metadata": {},
   "outputs": [
    {
     "data": {
      "text/plain": [
       "[['0']]"
      ]
     },
     "execution_count": 40,
     "metadata": {},
     "output_type": "execute_result"
    }
   ],
   "source": [
    "data['test'].levels()"
   ]
  },
  {
   "cell_type": "code",
   "execution_count": 82,
   "metadata": {},
   "outputs": [],
   "source": [
    "# To train and test the model using only this data, split data\n",
    "train, valid = erg.split_frame(ratios=[0.5], seed=1)\n",
    "# train = splits[0]\n",
    "# valid = splits[1]\n",
    "# test = splits[2]"
   ]
  },
  {
   "cell_type": "code",
   "execution_count": 83,
   "metadata": {},
   "outputs": [
    {
     "name": "stdout",
     "output_type": "stream",
     "text": [
      "31998\n",
      "32068\n"
     ]
    }
   ],
   "source": [
    "# Show number of observations from each dataset\n",
    "print(train.nrow)\n",
    "print(valid.nrow)\n",
    "#print test.nrow"
   ]
  },
  {
   "cell_type": "code",
   "execution_count": 84,
   "metadata": {},
   "outputs": [],
   "source": [
    "# Define response variables and predictors\n",
    "y = 'train'\n",
    "x = list(data.columns)"
   ]
  },
  {
   "cell_type": "code",
   "execution_count": 85,
   "metadata": {},
   "outputs": [],
   "source": [
    "x.remove(y)  #remove the response\n",
    "x.remove('time')\n",
    "x.remove('x')\n",
    "x.remove('y')\n",
    "x.remove('test')\n",
    "#x.remove('mask')\n",
    "x.remove('__index_level_0__')\n",
    "#x.remove('qa_cloud') #remove cloud mask"
   ]
  },
  {
   "cell_type": "code",
   "execution_count": 86,
   "metadata": {},
   "outputs": [
    {
     "data": {
      "text/plain": [
       "['VV',\n",
       " 'VV_c',\n",
       " 'VV_ASM',\n",
       " 'VV_Contrast',\n",
       " 'VV_Dissimilarity',\n",
       " 'VV_Energy',\n",
       " 'VV_Entropy',\n",
       " 'VV_GLCMCorrelation',\n",
       " 'VV_GLCMMean',\n",
       " 'VV_GLCMVariance',\n",
       " 'VV_Homogeneity']"
      ]
     },
     "execution_count": 86,
     "metadata": {},
     "output_type": "execute_result"
    }
   ],
   "source": [
    "# Show predictors\n",
    "x"
   ]
  },
  {
   "cell_type": "code",
   "execution_count": 72,
   "metadata": {},
   "outputs": [],
   "source": [
    "# test random forest\n",
    "from h2o.estimators.random_forest import H2ORandomForestEstimator"
   ]
  },
  {
   "cell_type": "code",
   "execution_count": 73,
   "metadata": {},
   "outputs": [],
   "source": [
    "# Initialize model\n",
    "rf_v1 = H2ORandomForestEstimator(\n",
    "    model_id=\"rf_covType_v1\",\n",
    "    ntrees=200,\n",
    "    stopping_rounds=2,\n",
    "    score_each_iteration=True,\n",
    "    seed=1000000)"
   ]
  },
  {
   "cell_type": "code",
   "execution_count": 74,
   "metadata": {},
   "outputs": [
    {
     "name": "stdout",
     "output_type": "stream",
     "text": [
      "drf Model Build progress: |███████████████████████████████████████████████| 100%\n"
     ]
    }
   ],
   "source": [
    "# Train model\n",
    "rf_v1.train(x, y, training_frame=train, validation_frame=valid)"
   ]
  },
  {
   "cell_type": "code",
   "execution_count": 75,
   "metadata": {},
   "outputs": [
    {
     "name": "stdout",
     "output_type": "stream",
     "text": [
      "Model Details\n",
      "=============\n",
      "H2ORandomForestEstimator :  Distributed Random Forest\n",
      "Model Key:  rf_covType_v1\n",
      "\n",
      "\n",
      "ModelMetricsMultinomial: drf\n",
      "** Reported on train data. **\n",
      "\n",
      "MSE: 0.4222375399443899\n",
      "RMSE: 0.6497980762855411\n",
      "LogLoss: 1.2995743929151637\n",
      "Mean Per-Class Error: 0.5310507695025152\n",
      "Confusion Matrix: Row labels: Actual class; Column labels: Predicted class\n",
      "\n"
     ]
    },
    {
     "data": {
      "text/html": [
       "<div style=\"overflow:auto\"><table style=\"width:50%\"><tr><td><b>1</b></td>\n",
       "<td><b>2</b></td>\n",
       "<td><b>3</b></td>\n",
       "<td><b>4</b></td>\n",
       "<td><b>5</b></td>\n",
       "<td><b>Error</b></td>\n",
       "<td><b>Rate</b></td></tr>\n",
       "<tr><td>3200.0</td>\n",
       "<td>341.0</td>\n",
       "<td>899.0</td>\n",
       "<td>1050.0</td>\n",
       "<td>740.0</td>\n",
       "<td>0.4863563</td>\n",
       "<td>3,030 / 6,230</td></tr>\n",
       "<tr><td>355.0</td>\n",
       "<td>1140.0</td>\n",
       "<td>1318.0</td>\n",
       "<td>1102.0</td>\n",
       "<td>240.0</td>\n",
       "<td>0.7256318</td>\n",
       "<td>3,015 / 4,155</td></tr>\n",
       "<tr><td>523.0</td>\n",
       "<td>636.0</td>\n",
       "<td>4766.0</td>\n",
       "<td>2274.0</td>\n",
       "<td>826.0</td>\n",
       "<td>0.4719114</td>\n",
       "<td>4,259 / 9,025</td></tr>\n",
       "<tr><td>454.0</td>\n",
       "<td>446.0</td>\n",
       "<td>1797.0</td>\n",
       "<td>4368.0</td>\n",
       "<td>734.0</td>\n",
       "<td>0.4399282</td>\n",
       "<td>3,431 / 7,799</td></tr>\n",
       "<tr><td>794.0</td>\n",
       "<td>118.0</td>\n",
       "<td>865.0</td>\n",
       "<td>768.0</td>\n",
       "<td>2244.0</td>\n",
       "<td>0.5314262</td>\n",
       "<td>2,545 / 4,789</td></tr>\n",
       "<tr><td>5326.0</td>\n",
       "<td>2681.0</td>\n",
       "<td>9645.0</td>\n",
       "<td>9562.0</td>\n",
       "<td>4784.0</td>\n",
       "<td>0.5087818</td>\n",
       "<td>16,280 / 31,998</td></tr></table></div>"
      ],
      "text/plain": [
       "1     2     3     4     5     Error     Rate\n",
       "----  ----  ----  ----  ----  --------  ---------------\n",
       "3200  341   899   1050  740   0.486356  3,030 / 6,230\n",
       "355   1140  1318  1102  240   0.725632  3,015 / 4,155\n",
       "523   636   4766  2274  826   0.471911  4,259 / 9,025\n",
       "454   446   1797  4368  734   0.439928  3,431 / 7,799\n",
       "794   118   865   768   2244  0.531426  2,545 / 4,789\n",
       "5326  2681  9645  9562  4784  0.508782  16,280 / 31,998"
      ]
     },
     "metadata": {},
     "output_type": "display_data"
    },
    {
     "name": "stdout",
     "output_type": "stream",
     "text": [
      "Top-5 Hit Ratios: \n"
     ]
    },
    {
     "data": {
      "text/html": [
       "<div style=\"overflow:auto\"><table style=\"width:50%\"><tr><td><b>k</b></td>\n",
       "<td><b>hit_ratio</b></td></tr>\n",
       "<tr><td>1</td>\n",
       "<td>0.4912182</td></tr>\n",
       "<tr><td>2</td>\n",
       "<td>0.747953</td></tr>\n",
       "<tr><td>3</td>\n",
       "<td>0.9066192</td></tr>\n",
       "<tr><td>4</td>\n",
       "<td>0.9796237</td></tr>\n",
       "<tr><td>5</td>\n",
       "<td>1.0</td></tr></table></div>"
      ],
      "text/plain": [
       "k    hit_ratio\n",
       "---  -----------\n",
       "1    0.491218\n",
       "2    0.747953\n",
       "3    0.906619\n",
       "4    0.979624\n",
       "5    1"
      ]
     },
     "metadata": {},
     "output_type": "display_data"
    },
    {
     "name": "stdout",
     "output_type": "stream",
     "text": [
      "\n",
      "ModelMetricsMultinomial: drf\n",
      "** Reported on validation data. **\n",
      "\n",
      "MSE: 0.4176550900109851\n",
      "RMSE: 0.6462624002763777\n",
      "LogLoss: 1.1538617594635612\n",
      "Mean Per-Class Error: 0.5190336635516971\n",
      "Confusion Matrix: Row labels: Actual class; Column labels: Predicted class\n",
      "\n"
     ]
    },
    {
     "data": {
      "text/html": [
       "<div style=\"overflow:auto\"><table style=\"width:50%\"><tr><td><b>1</b></td>\n",
       "<td><b>2</b></td>\n",
       "<td><b>3</b></td>\n",
       "<td><b>4</b></td>\n",
       "<td><b>5</b></td>\n",
       "<td><b>Error</b></td>\n",
       "<td><b>Rate</b></td></tr>\n",
       "<tr><td>3294.0</td>\n",
       "<td>293.0</td>\n",
       "<td>873.0</td>\n",
       "<td>1028.0</td>\n",
       "<td>720.0</td>\n",
       "<td>0.4693943</td>\n",
       "<td>2,914 / 6,208</td></tr>\n",
       "<tr><td>312.0</td>\n",
       "<td>1166.0</td>\n",
       "<td>1247.0</td>\n",
       "<td>1142.0</td>\n",
       "<td>234.0</td>\n",
       "<td>0.7156791</td>\n",
       "<td>2,935 / 4,101</td></tr>\n",
       "<tr><td>456.0</td>\n",
       "<td>619.0</td>\n",
       "<td>4930.0</td>\n",
       "<td>2342.0</td>\n",
       "<td>744.0</td>\n",
       "<td>0.4577054</td>\n",
       "<td>4,161 / 9,091</td></tr>\n",
       "<tr><td>404.0</td>\n",
       "<td>437.0</td>\n",
       "<td>1771.0</td>\n",
       "<td>4453.0</td>\n",
       "<td>715.0</td>\n",
       "<td>0.4276350</td>\n",
       "<td>3,327 / 7,780</td></tr>\n",
       "<tr><td>835.0</td>\n",
       "<td>122.0</td>\n",
       "<td>825.0</td>\n",
       "<td>783.0</td>\n",
       "<td>2323.0</td>\n",
       "<td>0.5247545</td>\n",
       "<td>2,565 / 4,888</td></tr>\n",
       "<tr><td>5301.0</td>\n",
       "<td>2637.0</td>\n",
       "<td>9646.0</td>\n",
       "<td>9748.0</td>\n",
       "<td>4736.0</td>\n",
       "<td>0.4958837</td>\n",
       "<td>15,902 / 32,068</td></tr></table></div>"
      ],
      "text/plain": [
       "1     2     3     4     5     Error     Rate\n",
       "----  ----  ----  ----  ----  --------  ---------------\n",
       "3294  293   873   1028  720   0.469394  2,914 / 6,208\n",
       "312   1166  1247  1142  234   0.715679  2,935 / 4,101\n",
       "456   619   4930  2342  744   0.457705  4,161 / 9,091\n",
       "404   437   1771  4453  715   0.427635  3,327 / 7,780\n",
       "835   122   825   783   2323  0.524755  2,565 / 4,888\n",
       "5301  2637  9646  9748  4736  0.495884  15,902 / 32,068"
      ]
     },
     "metadata": {},
     "output_type": "display_data"
    },
    {
     "name": "stdout",
     "output_type": "stream",
     "text": [
      "Top-5 Hit Ratios: \n"
     ]
    },
    {
     "data": {
      "text/html": [
       "<div style=\"overflow:auto\"><table style=\"width:50%\"><tr><td><b>k</b></td>\n",
       "<td><b>hit_ratio</b></td></tr>\n",
       "<tr><td>1</td>\n",
       "<td>0.5041162</td></tr>\n",
       "<tr><td>2</td>\n",
       "<td>0.7612573</td></tr>\n",
       "<tr><td>3</td>\n",
       "<td>0.9141511</td></tr>\n",
       "<tr><td>4</td>\n",
       "<td>0.9846263</td></tr>\n",
       "<tr><td>5</td>\n",
       "<td>0.9999999</td></tr></table></div>"
      ],
      "text/plain": [
       "k    hit_ratio\n",
       "---  -----------\n",
       "1    0.504116\n",
       "2    0.761257\n",
       "3    0.914151\n",
       "4    0.984626\n",
       "5    1"
      ]
     },
     "metadata": {},
     "output_type": "display_data"
    },
    {
     "name": "stdout",
     "output_type": "stream",
     "text": [
      "Scoring History: \n"
     ]
    },
    {
     "data": {
      "text/html": [
       "<div style=\"overflow:auto\"><table style=\"width:50%\"><tr><td><b></b></td>\n",
       "<td><b>timestamp</b></td>\n",
       "<td><b>duration</b></td>\n",
       "<td><b>number_of_trees</b></td>\n",
       "<td><b>training_rmse</b></td>\n",
       "<td><b>training_logloss</b></td>\n",
       "<td><b>training_classification_error</b></td>\n",
       "<td><b>validation_rmse</b></td>\n",
       "<td><b>validation_logloss</b></td>\n",
       "<td><b>validation_classification_error</b></td></tr>\n",
       "<tr><td></td>\n",
       "<td>2018-06-18 14:50:18</td>\n",
       "<td> 0.074 sec</td>\n",
       "<td>0.0</td>\n",
       "<td>nan</td>\n",
       "<td>nan</td>\n",
       "<td>nan</td>\n",
       "<td>nan</td>\n",
       "<td>nan</td>\n",
       "<td>nan</td></tr>\n",
       "<tr><td></td>\n",
       "<td>2018-06-18 14:50:22</td>\n",
       "<td> 4.268 sec</td>\n",
       "<td>1.0</td>\n",
       "<td>0.7206666</td>\n",
       "<td>11.4626082</td>\n",
       "<td>0.5891148</td>\n",
       "<td>0.7228266</td>\n",
       "<td>11.6525961</td>\n",
       "<td>0.5951416</td></tr>\n",
       "<tr><td></td>\n",
       "<td>2018-06-18 14:50:24</td>\n",
       "<td> 5.691 sec</td>\n",
       "<td>2.0</td>\n",
       "<td>0.7152213</td>\n",
       "<td>10.5160893</td>\n",
       "<td>0.5856704</td>\n",
       "<td>0.6790858</td>\n",
       "<td>6.6014714</td>\n",
       "<td>0.5624922</td></tr>\n",
       "<tr><td></td>\n",
       "<td>2018-06-18 14:50:24</td>\n",
       "<td> 6.231 sec</td>\n",
       "<td>3.0</td>\n",
       "<td>0.7020882</td>\n",
       "<td>9.0753240</td>\n",
       "<td>0.5761744</td>\n",
       "<td>0.6634432</td>\n",
       "<td>4.1472407</td>\n",
       "<td>0.5445927</td></tr>\n",
       "<tr><td></td>\n",
       "<td>2018-06-18 14:50:25</td>\n",
       "<td> 6.863 sec</td>\n",
       "<td>4.0</td>\n",
       "<td>0.6957959</td>\n",
       "<td>8.1606009</td>\n",
       "<td>0.5704661</td>\n",
       "<td>0.6583166</td>\n",
       "<td>3.1718167</td>\n",
       "<td>0.5343333</td></tr>\n",
       "<tr><td>---</td>\n",
       "<td>---</td>\n",
       "<td>---</td>\n",
       "<td>---</td>\n",
       "<td>---</td>\n",
       "<td>---</td>\n",
       "<td>---</td>\n",
       "<td>---</td>\n",
       "<td>---</td>\n",
       "<td>---</td></tr>\n",
       "<tr><td></td>\n",
       "<td>2018-06-18 14:51:02</td>\n",
       "<td>44.365 sec</td>\n",
       "<td>49.0</td>\n",
       "<td>0.6497861</td>\n",
       "<td>1.3220112</td>\n",
       "<td>0.5110319</td>\n",
       "<td>0.6461571</td>\n",
       "<td>1.1568597</td>\n",
       "<td>0.4962268</td></tr>\n",
       "<tr><td></td>\n",
       "<td>2018-06-18 14:51:03</td>\n",
       "<td>45.317 sec</td>\n",
       "<td>50.0</td>\n",
       "<td>0.6496018</td>\n",
       "<td>1.3134047</td>\n",
       "<td>0.5105007</td>\n",
       "<td>0.6460940</td>\n",
       "<td>1.1554496</td>\n",
       "<td>0.4955407</td></tr>\n",
       "<tr><td></td>\n",
       "<td>2018-06-18 14:51:04</td>\n",
       "<td>46.313 sec</td>\n",
       "<td>51.0</td>\n",
       "<td>0.6497228</td>\n",
       "<td>1.3091363</td>\n",
       "<td>0.5104694</td>\n",
       "<td>0.6461463</td>\n",
       "<td>1.1536561</td>\n",
       "<td>0.4960085</td></tr>\n",
       "<tr><td></td>\n",
       "<td>2018-06-18 14:51:06</td>\n",
       "<td>47.600 sec</td>\n",
       "<td>52.0</td>\n",
       "<td>0.6497713</td>\n",
       "<td>1.3038549</td>\n",
       "<td>0.5093756</td>\n",
       "<td>0.6462805</td>\n",
       "<td>1.1539927</td>\n",
       "<td>0.4963515</td></tr>\n",
       "<tr><td></td>\n",
       "<td>2018-06-18 14:51:07</td>\n",
       "<td>48.639 sec</td>\n",
       "<td>53.0</td>\n",
       "<td>0.6497981</td>\n",
       "<td>1.2995744</td>\n",
       "<td>0.5087818</td>\n",
       "<td>0.6462624</td>\n",
       "<td>1.1538618</td>\n",
       "<td>0.4958837</td></tr></table></div>"
      ],
      "text/plain": [
       "     timestamp            duration    number_of_trees    training_rmse       training_logloss    training_classification_error    validation_rmse     validation_logloss    validation_classification_error\n",
       "---  -------------------  ----------  -----------------  ------------------  ------------------  -------------------------------  ------------------  --------------------  ---------------------------------\n",
       "     2018-06-18 14:50:18  0.074 sec   0.0                nan                 nan                 nan                              nan                 nan                   nan\n",
       "     2018-06-18 14:50:22  4.268 sec   1.0                0.7206666157930536  11.462608237801808  0.5891148325358851               0.7228265648949529  11.65259607035036     0.5951415741549207\n",
       "     2018-06-18 14:50:24  5.691 sec   2.0                0.7152212668130942  10.516089333499918  0.5856704303033456               0.679085791648115   6.601471363180245     0.562492204066359\n",
       "     2018-06-18 14:50:24  6.231 sec   3.0                0.7020882197035977  9.075324033027641   0.5761743987328581               0.6634431554876026  4.147240732902204     0.5445927404265934\n",
       "     2018-06-18 14:50:25  6.863 sec   4.0                0.6957959494495541  8.160600927995167   0.5704660923348797               0.6583165677875285  3.171816650827907     0.5343332917550205\n",
       "---  ---                  ---         ---                ---                 ---                 ---                              ---                 ---                   ---\n",
       "     2018-06-18 14:51:02  44.365 sec  49.0               0.6497860991134412  1.322011158198119   0.5110319394962185               0.646157072446741   1.1568597435315757    0.4962267681177498\n",
       "     2018-06-18 14:51:03  45.317 sec  50.0               0.6496018379834023  1.3134046561844603  0.5105006562910182               0.6460939957156608  1.1554495946966852    0.49554072595734067\n",
       "     2018-06-18 14:51:04  46.313 sec  51.0               0.6497227547889939  1.3091363262530253  0.5104694043377711               0.6461463011178686  1.1536561227344717    0.49600848197580144\n",
       "     2018-06-18 14:51:06  47.600 sec  52.0               0.6497713395289778  1.3038548553589078  0.5093755859741234               0.6462805127861169  1.153992710810879     0.496351503056006\n",
       "     2018-06-18 14:51:07  48.639 sec  53.0               0.6497980762855411  1.2995743929151637  0.5087817988624289               0.6462624002763777  1.1538617594635612    0.49588374703754523"
      ]
     },
     "metadata": {},
     "output_type": "display_data"
    },
    {
     "name": "stdout",
     "output_type": "stream",
     "text": [
      "\n",
      "See the whole table with table.as_data_frame()\n",
      "Variable Importances: \n"
     ]
    },
    {
     "data": {
      "text/html": [
       "<div style=\"overflow:auto\"><table style=\"width:50%\"><tr><td><b>variable</b></td>\n",
       "<td><b>relative_importance</b></td>\n",
       "<td><b>scaled_importance</b></td>\n",
       "<td><b>percentage</b></td></tr>\n",
       "<tr><td>VV_c</td>\n",
       "<td>124190.1875000</td>\n",
       "<td>1.0</td>\n",
       "<td>0.2297880</td></tr>\n",
       "<tr><td>VV</td>\n",
       "<td>102624.8515625</td>\n",
       "<td>0.8263523</td>\n",
       "<td>0.1898858</td></tr>\n",
       "<tr><td>VV_GLCMMean</td>\n",
       "<td>46166.6562500</td>\n",
       "<td>0.3717416</td>\n",
       "<td>0.0854217</td></tr>\n",
       "<tr><td>VV_GLCMVariance</td>\n",
       "<td>45806.6289062</td>\n",
       "<td>0.3688426</td>\n",
       "<td>0.0847556</td></tr>\n",
       "<tr><td>VV_GLCMCorrelation</td>\n",
       "<td>40937.1992188</td>\n",
       "<td>0.3296331</td>\n",
       "<td>0.0757457</td></tr>\n",
       "<tr><td>VV_Homogeneity</td>\n",
       "<td>34938.8203125</td>\n",
       "<td>0.2813332</td>\n",
       "<td>0.0646470</td></tr>\n",
       "<tr><td>VV_Entropy</td>\n",
       "<td>32943.1015625</td>\n",
       "<td>0.2652633</td>\n",
       "<td>0.0609543</td></tr>\n",
       "<tr><td>VV_Dissimilarity</td>\n",
       "<td>31003.9082031</td>\n",
       "<td>0.2496486</td>\n",
       "<td>0.0573663</td></tr>\n",
       "<tr><td>VV_Contrast</td>\n",
       "<td>28683.5136719</td>\n",
       "<td>0.2309644</td>\n",
       "<td>0.0530728</td></tr>\n",
       "<tr><td>VV_Energy</td>\n",
       "<td>27075.6542969</td>\n",
       "<td>0.2180177</td>\n",
       "<td>0.0500978</td></tr>\n",
       "<tr><td>VV_ASM</td>\n",
       "<td>26085.0019531</td>\n",
       "<td>0.2100408</td>\n",
       "<td>0.0482648</td></tr></table></div>"
      ],
      "text/plain": [
       "variable            relative_importance    scaled_importance    percentage\n",
       "------------------  ---------------------  -------------------  ------------\n",
       "VV_c                124190                 1                    0.229788\n",
       "VV                  102625                 0.826352             0.189886\n",
       "VV_GLCMMean         46166.7                0.371742             0.0854217\n",
       "VV_GLCMVariance     45806.6                0.368843             0.0847556\n",
       "VV_GLCMCorrelation  40937.2                0.329633             0.0757457\n",
       "VV_Homogeneity      34938.8                0.281333             0.064647\n",
       "VV_Entropy          32943.1                0.265263             0.0609543\n",
       "VV_Dissimilarity    31003.9                0.249649             0.0573663\n",
       "VV_Contrast         28683.5                0.230964             0.0530728\n",
       "VV_Energy           27075.7                0.218018             0.0500978\n",
       "VV_ASM              26085                  0.210041             0.0482648"
      ]
     },
     "metadata": {},
     "output_type": "display_data"
    },
    {
     "data": {
      "text/plain": []
     },
     "execution_count": 75,
     "metadata": {},
     "output_type": "execute_result"
    }
   ],
   "source": [
    "# Print model details\n",
    "rf_v1"
   ]
  },
  {
   "cell_type": "code",
   "execution_count": 144,
   "metadata": {},
   "outputs": [
    {
     "name": "stdout",
     "output_type": "stream",
     "text": [
      "Parse progress: |█████████████████████████████████████████████████████████| 100%\n",
      "Parse progress: |█████████████████████████████████████████████████████████| 100%\n",
      "Parse progress: |█████████████████████████████████████████████████████████| 100%\n",
      "Parse progress: |█████████████████████████████████████████████████████████| 100%\n",
      "Parse progress: |█████████████████████████████████████████████████████████| 100%\n",
      "Parse progress: |█████████████████████████████████████████████████████████| 100%\n"
     ]
    },
    {
     "data": {
      "text/plain": [
       "(17784, 17)"
      ]
     },
     "execution_count": 144,
     "metadata": {},
     "output_type": "execute_result"
    }
   ],
   "source": [
    "data_test = read_parquet_data(saldana.data_directory+'parquet/', 'test')\n",
    "data_test.shape"
   ]
  },
  {
   "cell_type": "code",
   "execution_count": 145,
   "metadata": {},
   "outputs": [
    {
     "data": {
      "text/html": [
       "<table>\n",
       "<thead>\n",
       "<tr><th style=\"text-align: right;\">     x</th><th style=\"text-align: right;\">     y</th><th style=\"text-align: right;\">       time</th><th style=\"text-align: right;\">       VV</th><th style=\"text-align: right;\">  VV_c</th><th style=\"text-align: right;\">  VV_ASM</th><th style=\"text-align: right;\">  VV_Contrast</th><th style=\"text-align: right;\">  VV_Dissimilarity</th><th style=\"text-align: right;\">  VV_Energy</th><th style=\"text-align: right;\">  VV_Entropy</th><th style=\"text-align: right;\">  VV_GLCMCorrelation</th><th style=\"text-align: right;\">  VV_GLCMMean</th><th style=\"text-align: right;\">  VV_GLCMVariance</th><th style=\"text-align: right;\">  VV_Homogeneity</th><th style=\"text-align: right;\">  train</th><th style=\"text-align: right;\">  test</th><th style=\"text-align: right;\">  __index_level_0__</th></tr>\n",
       "</thead>\n",
       "<tbody>\n",
       "<tr><td style=\"text-align: right;\">500015</td><td style=\"text-align: right;\">425465</td><td style=\"text-align: right;\">1.44858e+15</td><td style=\"text-align: right;\"> -8.26991</td><td style=\"text-align: right;\">   nan</td><td style=\"text-align: right;\">4       </td><td style=\"text-align: right;\">      0      </td><td style=\"text-align: right;\">          0       </td><td style=\"text-align: right;\">   2       </td><td style=\"text-align: right;\">  -1.38629  </td><td style=\"text-align: right;\">            1       </td><td style=\"text-align: right;\">      30     </td><td style=\"text-align: right;\">          450    </td><td style=\"text-align: right;\">         2      </td><td style=\"text-align: right;\">      0</td><td style=\"text-align: right;\">     2</td><td style=\"text-align: right;\">        4.04709e+06</td></tr>\n",
       "<tr><td style=\"text-align: right;\">500015</td><td style=\"text-align: right;\">425475</td><td style=\"text-align: right;\">1.44858e+15</td><td style=\"text-align: right;\"> -8.03065</td><td style=\"text-align: right;\">   nan</td><td style=\"text-align: right;\">4       </td><td style=\"text-align: right;\">      0      </td><td style=\"text-align: right;\">          0       </td><td style=\"text-align: right;\">   2       </td><td style=\"text-align: right;\">  -1.38629  </td><td style=\"text-align: right;\">            1       </td><td style=\"text-align: right;\">      30     </td><td style=\"text-align: right;\">          450    </td><td style=\"text-align: right;\">         2      </td><td style=\"text-align: right;\">      0</td><td style=\"text-align: right;\">     2</td><td style=\"text-align: right;\">        4.04709e+06</td></tr>\n",
       "<tr><td style=\"text-align: right;\">500025</td><td style=\"text-align: right;\">425435</td><td style=\"text-align: right;\">1.44858e+15</td><td style=\"text-align: right;\">-10.1297 </td><td style=\"text-align: right;\">   nan</td><td style=\"text-align: right;\">1.19444 </td><td style=\"text-align: right;\">      5.16667</td><td style=\"text-align: right;\">          2.16667 </td><td style=\"text-align: right;\">   1.09291 </td><td style=\"text-align: right;\">   1.70455  </td><td style=\"text-align: right;\">            0.99385 </td><td style=\"text-align: right;\">      28.9167</td><td style=\"text-align: right;\">          420.083</td><td style=\"text-align: right;\">         1.21667</td><td style=\"text-align: right;\">      0</td><td style=\"text-align: right;\">     2</td><td style=\"text-align: right;\">        4.05072e+06</td></tr>\n",
       "<tr><td style=\"text-align: right;\">500025</td><td style=\"text-align: right;\">425445</td><td style=\"text-align: right;\">1.44858e+15</td><td style=\"text-align: right;\"> -9.7657 </td><td style=\"text-align: right;\">   nan</td><td style=\"text-align: right;\">2.29167 </td><td style=\"text-align: right;\">      5      </td><td style=\"text-align: right;\">          1.33333 </td><td style=\"text-align: right;\">   1.51383 </td><td style=\"text-align: right;\">   0.634256 </td><td style=\"text-align: right;\">            0.99422 </td><td style=\"text-align: right;\">      29.3333</td><td style=\"text-align: right;\">          432.5  </td><td style=\"text-align: right;\">         1.62308</td><td style=\"text-align: right;\">      0</td><td style=\"text-align: right;\">     2</td><td style=\"text-align: right;\">        4.05072e+06</td></tr>\n",
       "<tr><td style=\"text-align: right;\">500025</td><td style=\"text-align: right;\">425455</td><td style=\"text-align: right;\">1.44858e+15</td><td style=\"text-align: right;\"> -8.40913</td><td style=\"text-align: right;\">   nan</td><td style=\"text-align: right;\">1.91667 </td><td style=\"text-align: right;\">      1.16667</td><td style=\"text-align: right;\">          0.833333</td><td style=\"text-align: right;\">   1.38444 </td><td style=\"text-align: right;\">   0.723722 </td><td style=\"text-align: right;\">            0.998668</td><td style=\"text-align: right;\">      29.5833</td><td style=\"text-align: right;\">          438.083</td><td style=\"text-align: right;\">         1.61667</td><td style=\"text-align: right;\">      0</td><td style=\"text-align: right;\">     2</td><td style=\"text-align: right;\">        4.05072e+06</td></tr>\n",
       "<tr><td style=\"text-align: right;\">500025</td><td style=\"text-align: right;\">425465</td><td style=\"text-align: right;\">1.44858e+15</td><td style=\"text-align: right;\"> -7.14769</td><td style=\"text-align: right;\">   nan</td><td style=\"text-align: right;\">2.375   </td><td style=\"text-align: right;\">      0.5    </td><td style=\"text-align: right;\">          0.5     </td><td style=\"text-align: right;\">   1.5411  </td><td style=\"text-align: right;\">   0.0849495</td><td style=\"text-align: right;\">            0.999435</td><td style=\"text-align: right;\">      29.75  </td><td style=\"text-align: right;\">          442.75 </td><td style=\"text-align: right;\">         1.75   </td><td style=\"text-align: right;\">      0</td><td style=\"text-align: right;\">     2</td><td style=\"text-align: right;\">        4.05072e+06</td></tr>\n",
       "<tr><td style=\"text-align: right;\">500035</td><td style=\"text-align: right;\">425395</td><td style=\"text-align: right;\">1.44858e+15</td><td style=\"text-align: right;\"> -9.75582</td><td style=\"text-align: right;\">   nan</td><td style=\"text-align: right;\">1.19444 </td><td style=\"text-align: right;\">     13.5    </td><td style=\"text-align: right;\">          3.5     </td><td style=\"text-align: right;\">   1.09291 </td><td style=\"text-align: right;\">   1.70455  </td><td style=\"text-align: right;\">            0.98277 </td><td style=\"text-align: right;\">      27.75  </td><td style=\"text-align: right;\">          391.75 </td><td style=\"text-align: right;\">         1.09615</td><td style=\"text-align: right;\">      0</td><td style=\"text-align: right;\">     2</td><td style=\"text-align: right;\">        4.05435e+06</td></tr>\n",
       "<tr><td style=\"text-align: right;\">500035</td><td style=\"text-align: right;\">425405</td><td style=\"text-align: right;\">1.44858e+15</td><td style=\"text-align: right;\">-10.2752 </td><td style=\"text-align: right;\">   nan</td><td style=\"text-align: right;\">1.51389 </td><td style=\"text-align: right;\">     14.1667 </td><td style=\"text-align: right;\">          3.16667 </td><td style=\"text-align: right;\">   1.2304  </td><td style=\"text-align: right;\">   1.34161  </td><td style=\"text-align: right;\">            0.982507</td><td style=\"text-align: right;\">      28.25  </td><td style=\"text-align: right;\">          404.917</td><td style=\"text-align: right;\">         1.2859 </td><td style=\"text-align: right;\">      0</td><td style=\"text-align: right;\">     2</td><td style=\"text-align: right;\">        4.05435e+06</td></tr>\n",
       "<tr><td style=\"text-align: right;\">500035</td><td style=\"text-align: right;\">425415</td><td style=\"text-align: right;\">1.44858e+15</td><td style=\"text-align: right;\"> -9.4332 </td><td style=\"text-align: right;\">   nan</td><td style=\"text-align: right;\">0.958333</td><td style=\"text-align: right;\">      7      </td><td style=\"text-align: right;\">          2.33333 </td><td style=\"text-align: right;\">   0.978945</td><td style=\"text-align: right;\">   2.1268   </td><td style=\"text-align: right;\">            0.991637</td><td style=\"text-align: right;\">      28.8333</td><td style=\"text-align: right;\">          418.5  </td><td style=\"text-align: right;\">         1.22308</td><td style=\"text-align: right;\">      0</td><td style=\"text-align: right;\">     2</td><td style=\"text-align: right;\">        4.05435e+06</td></tr>\n",
       "<tr><td style=\"text-align: right;\">500035</td><td style=\"text-align: right;\">425425</td><td style=\"text-align: right;\">1.44858e+15</td><td style=\"text-align: right;\"> -8.95347</td><td style=\"text-align: right;\">   nan</td><td style=\"text-align: right;\">1.86111 </td><td style=\"text-align: right;\">      6      </td><td style=\"text-align: right;\">          1.66667 </td><td style=\"text-align: right;\">   1.36423 </td><td style=\"text-align: right;\">   1.04198  </td><td style=\"text-align: right;\">            0.992991</td><td style=\"text-align: right;\">      29.1667</td><td style=\"text-align: right;\">          428    </td><td style=\"text-align: right;\">         1.52308</td><td style=\"text-align: right;\">      0</td><td style=\"text-align: right;\">     2</td><td style=\"text-align: right;\">        4.05435e+06</td></tr>\n",
       "</tbody>\n",
       "</table>"
      ]
     },
     "metadata": {},
     "output_type": "display_data"
    },
    {
     "data": {
      "text/plain": []
     },
     "execution_count": 145,
     "metadata": {},
     "output_type": "execute_result"
    }
   ],
   "source": [
    "data_test"
   ]
  },
  {
   "cell_type": "code",
   "execution_count": 146,
   "metadata": {},
   "outputs": [],
   "source": [
    "#data_test = data_test.drop('column_name', 1)\n",
    "data_test['train'] = data_test['train'].asfactor()\n",
    "data_test['test'] = data_test['test'].asfactor()"
   ]
  },
  {
   "cell_type": "code",
   "execution_count": 147,
   "metadata": {},
   "outputs": [],
   "source": [
    "data_test = data_test.drop('train', 1)"
   ]
  },
  {
   "cell_type": "code",
   "execution_count": 148,
   "metadata": {},
   "outputs": [
    {
     "name": "stdout",
     "output_type": "stream",
     "text": [
      "drf prediction progress: |████████████████████████████████████████████████| 100%\n"
     ]
    }
   ],
   "source": [
    "# Predict using test data\n",
    "final_rf_predictions = rf_v1.predict(data_test)"
   ]
  },
  {
   "cell_type": "code",
   "execution_count": 219,
   "metadata": {},
   "outputs": [
    {
     "data": {
      "text/html": [
       "<table>\n",
       "<thead>\n",
       "<tr><th style=\"text-align: right;\">  predict</th><th style=\"text-align: right;\">        p1</th><th style=\"text-align: right;\">      p2</th><th style=\"text-align: right;\">      p3</th><th style=\"text-align: right;\">      p4</th><th style=\"text-align: right;\">         p5</th></tr>\n",
       "</thead>\n",
       "<tbody>\n",
       "<tr><td style=\"text-align: right;\">        2</td><td style=\"text-align: right;\">0.284704  </td><td style=\"text-align: right;\">0.351772</td><td style=\"text-align: right;\">0.251337</td><td style=\"text-align: right;\">0.112036</td><td style=\"text-align: right;\">0.000151615</td></tr>\n",
       "<tr><td style=\"text-align: right;\">        2</td><td style=\"text-align: right;\">0.295331  </td><td style=\"text-align: right;\">0.331696</td><td style=\"text-align: right;\">0.253062</td><td style=\"text-align: right;\">0.119758</td><td style=\"text-align: right;\">0.000153015</td></tr>\n",
       "<tr><td style=\"text-align: right;\">        4</td><td style=\"text-align: right;\">0.0343383 </td><td style=\"text-align: right;\">0.197264</td><td style=\"text-align: right;\">0.277319</td><td style=\"text-align: right;\">0.491078</td><td style=\"text-align: right;\">0          </td></tr>\n",
       "<tr><td style=\"text-align: right;\">        3</td><td style=\"text-align: right;\">0.222725  </td><td style=\"text-align: right;\">0.211794</td><td style=\"text-align: right;\">0.308279</td><td style=\"text-align: right;\">0.257201</td><td style=\"text-align: right;\">0          </td></tr>\n",
       "<tr><td style=\"text-align: right;\">        2</td><td style=\"text-align: right;\">0.178638  </td><td style=\"text-align: right;\">0.439845</td><td style=\"text-align: right;\">0.115907</td><td style=\"text-align: right;\">0.265609</td><td style=\"text-align: right;\">0          </td></tr>\n",
       "<tr><td style=\"text-align: right;\">        1</td><td style=\"text-align: right;\">0.263691  </td><td style=\"text-align: right;\">0.245334</td><td style=\"text-align: right;\">0.255133</td><td style=\"text-align: right;\">0.235842</td><td style=\"text-align: right;\">0          </td></tr>\n",
       "<tr><td style=\"text-align: right;\">        3</td><td style=\"text-align: right;\">0.00497306</td><td style=\"text-align: right;\">0.298   </td><td style=\"text-align: right;\">0.396687</td><td style=\"text-align: right;\">0.30034 </td><td style=\"text-align: right;\">0          </td></tr>\n",
       "<tr><td style=\"text-align: right;\">        3</td><td style=\"text-align: right;\">0.0493224 </td><td style=\"text-align: right;\">0.2073  </td><td style=\"text-align: right;\">0.574769</td><td style=\"text-align: right;\">0.168609</td><td style=\"text-align: right;\">0          </td></tr>\n",
       "<tr><td style=\"text-align: right;\">        4</td><td style=\"text-align: right;\">0.0728653 </td><td style=\"text-align: right;\">0.256431</td><td style=\"text-align: right;\">0.324409</td><td style=\"text-align: right;\">0.346295</td><td style=\"text-align: right;\">0          </td></tr>\n",
       "<tr><td style=\"text-align: right;\">        3</td><td style=\"text-align: right;\">0.0295567 </td><td style=\"text-align: right;\">0.323046</td><td style=\"text-align: right;\">0.410315</td><td style=\"text-align: right;\">0.237083</td><td style=\"text-align: right;\">0          </td></tr>\n",
       "</tbody>\n",
       "</table>"
      ]
     },
     "metadata": {},
     "output_type": "display_data"
    },
    {
     "data": {
      "text/plain": []
     },
     "execution_count": 219,
     "metadata": {},
     "output_type": "execute_result"
    }
   ],
   "source": [
    "final_rf_predictions"
   ]
  },
  {
   "cell_type": "code",
   "execution_count": 220,
   "metadata": {},
   "outputs": [
    {
     "name": "stdout",
     "output_type": "stream",
     "text": [
      "drf prediction progress: |████████████████████████████████████████████████| 100%\n"
     ]
    },
    {
     "data": {
      "text/plain": [
       "predict    0.125281\n",
       "dtype: float64"
      ]
     },
     "execution_count": 220,
     "metadata": {},
     "output_type": "execute_result"
    }
   ],
   "source": [
    "# Get test data accuracy\n",
    "(rf_v1.predict(data_test)['predict']==data_test['test']).as_data_frame(use_pandas=True).mean()"
   ]
  },
  {
   "cell_type": "code",
   "execution_count": 151,
   "metadata": {},
   "outputs": [
    {
     "data": {
      "text/plain": [
       "(17784, 6)"
      ]
     },
     "execution_count": 151,
     "metadata": {},
     "output_type": "execute_result"
    }
   ],
   "source": [
    "# Shape of test data predictions\n",
    "final_rf_predictions.as_data_frame().shape"
   ]
  },
  {
   "cell_type": "code",
   "execution_count": 152,
   "metadata": {},
   "outputs": [
    {
     "data": {
      "text/plain": [
       "(17784, 1)"
      ]
     },
     "execution_count": 152,
     "metadata": {},
     "output_type": "execute_result"
    }
   ],
   "source": [
    "final_rf_predictions['predict'].as_data_frame().shape"
   ]
  },
  {
   "cell_type": "code",
   "execution_count": 153,
   "metadata": {},
   "outputs": [],
   "source": [
    "resulting_class_df = data_test.as_data_frame().join(final_rf_predictions['predict'].as_data_frame())"
   ]
  },
  {
   "cell_type": "code",
   "execution_count": 154,
   "metadata": {},
   "outputs": [],
   "source": [
    "# Create MultiIndex from coordinates ## TODO include time!\n",
    "resulting_class_df.set_index(['time','x', 'y'], inplace=True)"
   ]
  },
  {
   "cell_type": "code",
   "execution_count": 157,
   "metadata": {},
   "outputs": [],
   "source": [
    "import xarray as xr\n",
    "# Return to xarray\n",
    "xarr = xr.Dataset.from_dataframe(resulting_class_df).sortby('time')"
   ]
  },
  {
   "cell_type": "code",
   "execution_count": 158,
   "metadata": {},
   "outputs": [
    {
     "data": {
      "text/plain": [
       "<xarray.Dataset>\n",
       "Dimensions:             (time: 6, x: 205, y: 271)\n",
       "Coordinates:\n",
       "  * time                (time) int64 1448582400000000 1449187200000000 ...\n",
       "  * x                   (x) int64 500015 500025 500035 500045 500055 500065 ...\n",
       "  * y                   (y) int64 425095 425105 425115 425125 425135 425145 ...\n",
       "Data variables:\n",
       "    VV                  (time, x, y) float64 nan nan nan nan nan nan nan nan ...\n",
       "    VV_c                (time, x, y) float64 nan nan nan nan nan nan nan nan ...\n",
       "    VV_ASM              (time, x, y) float64 nan nan nan nan nan nan nan nan ...\n",
       "    VV_Contrast         (time, x, y) float64 nan nan nan nan nan nan nan nan ...\n",
       "    VV_Dissimilarity    (time, x, y) float64 nan nan nan nan nan nan nan nan ...\n",
       "    VV_Energy           (time, x, y) float64 nan nan nan nan nan nan nan nan ...\n",
       "    VV_Entropy          (time, x, y) float64 nan nan nan nan nan nan nan nan ...\n",
       "    VV_GLCMCorrelation  (time, x, y) float64 nan nan nan nan nan nan nan nan ...\n",
       "    VV_GLCMMean         (time, x, y) float64 nan nan nan nan nan nan nan nan ...\n",
       "    VV_GLCMVariance     (time, x, y) float64 nan nan nan nan nan nan nan nan ...\n",
       "    VV_Homogeneity      (time, x, y) float64 nan nan nan nan nan nan nan nan ...\n",
       "    test                (time, x, y) float64 nan nan nan nan nan nan nan nan ...\n",
       "    __index_level_0__   (time, x, y) float64 nan nan nan nan nan nan nan nan ...\n",
       "    predict             (time, x, y) float64 nan nan nan nan nan nan nan nan ..."
      ]
     },
     "execution_count": 158,
     "metadata": {},
     "output_type": "execute_result"
    }
   ],
   "source": [
    "# Plot phenology class from test data. WHY IS IT LIKE THAT?!\n",
    "xarr#['predict'].plot()"
   ]
  },
  {
   "cell_type": "code",
   "execution_count": 215,
   "metadata": {},
   "outputs": [],
   "source": [
    "import numpy as np\n",
    "import pandas as pd\n",
    "\n",
    "xarr['time'] = np.array([np.datetime64(pd.to_datetime(i, unit='us')) for i in xarr.time.values], dtype=np.datetime64)"
   ]
  },
  {
   "cell_type": "code",
   "execution_count": 216,
   "metadata": {},
   "outputs": [
    {
     "data": {
      "text/plain": [
       "<xarray.Dataset>\n",
       "Dimensions:             (time: 6, x: 205, y: 271)\n",
       "Coordinates:\n",
       "  * time                (time) datetime64[us] 2015-11-27 2015-12-04 ...\n",
       "  * x                   (x) int64 500015 500025 500035 500045 500055 500065 ...\n",
       "  * y                   (y) int64 425095 425105 425115 425125 425135 425145 ...\n",
       "Data variables:\n",
       "    VV                  (time, x, y) float64 nan nan nan nan nan nan nan nan ...\n",
       "    VV_c                (time, x, y) float64 nan nan nan nan nan nan nan nan ...\n",
       "    VV_ASM              (time, x, y) float64 nan nan nan nan nan nan nan nan ...\n",
       "    VV_Contrast         (time, x, y) float64 nan nan nan nan nan nan nan nan ...\n",
       "    VV_Dissimilarity    (time, x, y) float64 nan nan nan nan nan nan nan nan ...\n",
       "    VV_Energy           (time, x, y) float64 nan nan nan nan nan nan nan nan ...\n",
       "    VV_Entropy          (time, x, y) float64 nan nan nan nan nan nan nan nan ...\n",
       "    VV_GLCMCorrelation  (time, x, y) float64 nan nan nan nan nan nan nan nan ...\n",
       "    VV_GLCMMean         (time, x, y) float64 nan nan nan nan nan nan nan nan ...\n",
       "    VV_GLCMVariance     (time, x, y) float64 nan nan nan nan nan nan nan nan ...\n",
       "    VV_Homogeneity      (time, x, y) float64 nan nan nan nan nan nan nan nan ...\n",
       "    test                (time, x, y) float64 nan nan nan nan nan nan nan nan ...\n",
       "    __index_level_0__   (time, x, y) float64 nan nan nan nan nan nan nan nan ...\n",
       "    predict             (time, x, y) float64 nan nan nan nan nan nan nan nan ..."
      ]
     },
     "execution_count": 216,
     "metadata": {},
     "output_type": "execute_result"
    }
   ],
   "source": [
    "xarr"
   ]
  },
  {
   "cell_type": "code",
   "execution_count": 159,
   "metadata": {},
   "outputs": [],
   "source": [
    "# Prepare to compare initial with prediction\n",
    "#original = sat_data_again['class'].isel(time=0).drop('time').drop('mask')\n",
    "predicted = xarr.isel(time=0)['predict']\n",
    "test = xarr.isel(time=0)['test']"
   ]
  },
  {
   "cell_type": "code",
   "execution_count": 217,
   "metadata": {},
   "outputs": [
    {
     "data": {
      "text/plain": [
       "<matplotlib.colorbar.Colorbar at 0x7fc53d6ab9b0>"
      ]
     },
     "execution_count": 217,
     "metadata": {},
     "output_type": "execute_result"
    },
    {
     "data": {
      "image/png": "[encoded data removed]",
      "text/plain": [
       "<Figure size 720x1800 with 9 Axes>"
      ]
     },
     "metadata": {},
     "output_type": "display_data"
    }
   ],
   "source": [
    "import matplotlib.pyplot as plt\n",
    "from datetime import datetime#as dt\n",
    "\n",
    "data_to_plot = []#[predicted, test]\n",
    "tags = []#['predicted', 'ground_truth']\n",
    "\n",
    "for time in xarr.time.values:#[0,1,2,3]:\n",
    "    predicted = xarr.sel(time=time)['predict']\n",
    "    test = xarr.sel(time=time)['test']\n",
    "    data_to_plot += [predicted, test]\n",
    "    tags += ['predicted '+str(time.astype(datetime)), 'ground_truth '+str(time)]\n",
    "\n",
    "fig, axes = plt.subplots(nrows=4, ncols=2, figsize=(10, 25), sharex=True, sharey=True)\n",
    "for idx, ax in enumerate(axes.flat):\n",
    "    im = ax.imshow(data_to_plot[idx], cmap='YlGn',\n",
    "     vmin=1, vmax=5, extent=[0.05,0.5,1,0.05],aspect=0.5)\n",
    "    ax.set_title(tags[idx])\n",
    "\n",
    "fig.subplots_adjust(right=0.8)\n",
    "# put colorbar at desire position\n",
    "cbar_ax = fig.add_axes([0.85, 0.25, 0.03, 0.5])\n",
    "fig.colorbar(im, cax=cbar_ax)"
   ]
  },
  {
   "cell_type": "code",
   "execution_count": 177,
   "metadata": {},
   "outputs": [
    {
     "data": {
      "text/plain": [
       "<xarray.DataArray 'predict' (time: 6, x: 205, y: 271)>\n",
       "array([[[nan, nan, ..., nan, nan],\n",
       "        [nan, nan, ..., nan, nan],\n",
       "        ...,\n",
       "        [nan, nan, ..., nan, nan],\n",
       "        [nan, nan, ..., nan, nan]],\n",
       "\n",
       "       [[nan, nan, ..., nan, nan],\n",
       "        [nan, nan, ..., nan, nan],\n",
       "        ...,\n",
       "        [nan, nan, ..., nan, nan],\n",
       "        [nan, nan, ..., nan, nan]],\n",
       "\n",
       "       ...,\n",
       "\n",
       "       [[nan, nan, ..., nan, nan],\n",
       "        [nan, nan, ..., nan, nan],\n",
       "        ...,\n",
       "        [nan, nan, ..., nan, nan],\n",
       "        [nan, nan, ..., nan, nan]],\n",
       "\n",
       "       [[nan, nan, ..., nan, nan],\n",
       "        [nan, nan, ..., nan, nan],\n",
       "        ...,\n",
       "        [nan, nan, ..., nan, nan],\n",
       "        [nan, nan, ..., nan, nan]]])\n",
       "Coordinates:\n",
       "  * time     (time) int64 1448582400000000 1449187200000000 1450656000000000 ...\n",
       "  * x        (x) int64 500015 500025 500035 500045 500055 500065 500075 ...\n",
       "  * y        (y) int64 425095 425105 425115 425125 425135 425145 425155 ..."
      ]
     },
     "execution_count": 177,
     "metadata": {},
     "output_type": "execute_result"
    }
   ],
   "source": []
  },
  {
   "cell_type": "code",
   "execution_count": 48,
   "metadata": {},
   "outputs": [],
   "source": [
    "# Concatenate into one xarray\n",
    "dimnames = xr.Variable('band', pd.Index(['class', 'predict']))\n",
    "da = xr.concat([original.where(original>0).drop('class_mask'), predicted], dimnames)"
   ]
  },
  {
   "cell_type": "code",
   "execution_count": 50,
   "metadata": {},
   "outputs": [
    {
     "data": {
      "text/plain": [
       "<xarray.plot.facetgrid.FacetGrid at 0x7f39bc230dd0>"
      ]
     },
     "execution_count": 50,
     "metadata": {},
     "output_type": "execute_result"
    },
    {
     "data": {
      "image/png": "[encoded data removed]",
      "text/plain": [
       "<Figure size 504x216 with 3 Axes>"
      ]
     },
     "metadata": {},
     "output_type": "display_data"
    }
   ],
   "source": [
    "# Plot\n",
    "da.plot(x='x', y='y', col='band', vmin=1., vmax=5., cmap='RdYlGn')"
   ]
  },
  {
   "cell_type": "code",
   "execution_count": 51,
   "metadata": {},
   "outputs": [
    {
     "data": {
      "text/plain": [
       "<xarray.Dataset>\n",
       "Dimensions:     (x: 2979, y: 3631)\n",
       "Coordinates:\n",
       "  * y           (y) float64 4.122e+05 4.122e+05 4.122e+05 4.122e+05 ...\n",
       "  * x           (x) float64 4.889e+05 4.889e+05 4.889e+05 4.889e+05 ...\n",
       "    class_mask  (x, y) bool dask.array<shape=(2979, 3631), chunksize=(2979, 3631)>\n",
       "Data variables:\n",
       "    class       (x, y) uint8 dask.array<shape=(2979, 3631), chunksize=(2979, 3631)>\n",
       "    predict     (x, y) float64 nan nan nan nan nan nan nan nan nan nan nan ..."
      ]
     },
     "execution_count": 51,
     "metadata": {},
     "output_type": "execute_result"
    }
   ],
   "source": [
    "# Test merging into dataset\n",
    "merged = xr.merge([original, predicted])\n",
    "merged"
   ]
  },
  {
   "cell_type": "code",
   "execution_count": 52,
   "metadata": {},
   "outputs": [
    {
     "data": {
      "text/plain": [
       "<matplotlib.collections.QuadMesh at 0x7f39b6ff9d50>"
      ]
     },
     "execution_count": 52,
     "metadata": {},
     "output_type": "execute_result"
    },
    {
     "data": {
      "image/png": "[encoded data removed]",
      "text/plain": [
       "<Figure size 432x288 with 2 Axes>"
      ]
     },
     "metadata": {},
     "output_type": "display_data"
    }
   ],
   "source": [
    "merged['class'].where(merged.class_mask).plot()"
   ]
  },
  {
   "cell_type": "code",
   "execution_count": 53,
   "metadata": {},
   "outputs": [
    {
     "data": {
      "text/plain": [
       "<matplotlib.collections.QuadMesh at 0x7f3984069410>"
      ]
     },
     "execution_count": 53,
     "metadata": {},
     "output_type": "execute_result"
    },
    {
     "data": {
      "image/png": "[encoded data removed]",
      "text/plain": [
       "<Figure size 432x288 with 2 Axes>"
      ]
     },
     "metadata": {},
     "output_type": "display_data"
    }
   ],
   "source": [
    "merged['predict'].plot()"
   ]
  },
  {
   "cell_type": "code",
   "execution_count": 221,
   "metadata": {},
   "outputs": [
    {
     "name": "stdout",
     "output_type": "stream",
     "text": [
      "H2O session _sid_a1e4 closed.\n"
     ]
    }
   ],
   "source": [
    "# Close h2o cluster\n",
    "h2o.cluster().shutdown(prompt=False)"
   ]
  },
  {
   "cell_type": "markdown",
   "metadata": {},
   "source": [
    "## Rest of h2o.ai tutorial"
   ]
  },
  {
   "cell_type": "code",
   "execution_count": 169,
   "metadata": {},
   "outputs": [],
   "source": [
    "# Import H2O RF:\n",
    "from h2o.estimators.random_forest import H2ORandomForestEstimator"
   ]
  },
  {
   "cell_type": "code",
   "execution_count": 170,
   "metadata": {},
   "outputs": [],
   "source": [
    "# Initialize the RF estimator:\n",
    "\n",
    "rf_fit1 = H2ORandomForestEstimator(model_id='rf_fit1', seed=1)"
   ]
  },
  {
   "cell_type": "code",
   "execution_count": 171,
   "metadata": {},
   "outputs": [
    {
     "name": "stdout",
     "output_type": "stream",
     "text": [
      "drf Model Build progress: |███████████████████████████████████████████████| 100%\n"
     ]
    }
   ],
   "source": [
    "rf_fit1.train(x=x, y=y, training_frame=train)"
   ]
  },
  {
   "cell_type": "code",
   "execution_count": 172,
   "metadata": {},
   "outputs": [
    {
     "name": "stdout",
     "output_type": "stream",
     "text": [
      "drf Model Build progress: |███████████████████████████████████████████████| 100%\n"
     ]
    }
   ],
   "source": [
    "rf_fit2 = H2ORandomForestEstimator(model_id='rf_fit2', ntrees=100, seed=1)\n",
    "rf_fit2.train(x=x, y=y, training_frame=train)"
   ]
  },
  {
   "cell_type": "code",
   "execution_count": 175,
   "metadata": {},
   "outputs": [
    {
     "name": "stdout",
     "output_type": "stream",
     "text": [
      "Model Details\n",
      "=============\n",
      "H2ORandomForestEstimator :  Distributed Random Forest\n",
      "Model Key:  rf_fit2\n",
      "\n",
      "\n",
      "ModelMetricsMultinomial: drf\n",
      "** Reported on train data. **\n",
      "\n",
      "MSE: 0.4206132597914997\n",
      "RMSE: 0.6485470374548786\n",
      "LogLoss: 1.2138039820414677\n",
      "Mean Per-Class Error: 0.5250613497511829\n",
      "Confusion Matrix: Row labels: Actual class; Column labels: Predicted class\n",
      "\n"
     ]
    },
    {
     "data": {
      "text/html": [
       "<div style=\"overflow:auto\"><table style=\"width:50%\"><tr><td><b>1</b></td>\n",
       "<td><b>2</b></td>\n",
       "<td><b>3</b></td>\n",
       "<td><b>4</b></td>\n",
       "<td><b>5</b></td>\n",
       "<td><b>Error</b></td>\n",
       "<td><b>Rate</b></td></tr>\n",
       "<tr><td>3213.0</td>\n",
       "<td>374.0</td>\n",
       "<td>905.0</td>\n",
       "<td>1055.0</td>\n",
       "<td>683.0</td>\n",
       "<td>0.4842697</td>\n",
       "<td>3,017 / 6,230</td></tr>\n",
       "<tr><td>340.0</td>\n",
       "<td>1190.0</td>\n",
       "<td>1230.0</td>\n",
       "<td>1165.0</td>\n",
       "<td>230.0</td>\n",
       "<td>0.7135981</td>\n",
       "<td>2,965 / 4,155</td></tr>\n",
       "<tr><td>500.0</td>\n",
       "<td>666.0</td>\n",
       "<td>4718.0</td>\n",
       "<td>2358.0</td>\n",
       "<td>783.0</td>\n",
       "<td>0.4772299</td>\n",
       "<td>4,307 / 9,025</td></tr>\n",
       "<tr><td>409.0</td>\n",
       "<td>498.0</td>\n",
       "<td>1708.0</td>\n",
       "<td>4458.0</td>\n",
       "<td>726.0</td>\n",
       "<td>0.4283883</td>\n",
       "<td>3,341 / 7,799</td></tr>\n",
       "<tr><td>795.0</td>\n",
       "<td>119.0</td>\n",
       "<td>818.0</td>\n",
       "<td>767.0</td>\n",
       "<td>2290.0</td>\n",
       "<td>0.5218208</td>\n",
       "<td>2,499 / 4,789</td></tr>\n",
       "<tr><td>5257.0</td>\n",
       "<td>2847.0</td>\n",
       "<td>9379.0</td>\n",
       "<td>9803.0</td>\n",
       "<td>4712.0</td>\n",
       "<td>0.5040628</td>\n",
       "<td>16,129 / 31,998</td></tr></table></div>"
      ],
      "text/plain": [
       "1     2     3     4     5     Error     Rate\n",
       "----  ----  ----  ----  ----  --------  ---------------\n",
       "3213  374   905   1055  683   0.48427   3,017 / 6,230\n",
       "340   1190  1230  1165  230   0.713598  2,965 / 4,155\n",
       "500   666   4718  2358  783   0.47723   4,307 / 9,025\n",
       "409   498   1708  4458  726   0.428388  3,341 / 7,799\n",
       "795   119   818   767   2290  0.521821  2,499 / 4,789\n",
       "5257  2847  9379  9803  4712  0.504063  16,129 / 31,998"
      ]
     },
     "metadata": {},
     "output_type": "display_data"
    },
    {
     "name": "stdout",
     "output_type": "stream",
     "text": [
      "Top-5 Hit Ratios: \n"
     ]
    },
    {
     "data": {
      "text/html": [
       "<div style=\"overflow:auto\"><table style=\"width:50%\"><tr><td><b>k</b></td>\n",
       "<td><b>hit_ratio</b></td></tr>\n",
       "<tr><td>1</td>\n",
       "<td>0.4959373</td></tr>\n",
       "<tr><td>2</td>\n",
       "<td>0.7532659</td></tr>\n",
       "<tr><td>3</td>\n",
       "<td>0.9112132</td></tr>\n",
       "<tr><td>4</td>\n",
       "<td>0.9831240</td></tr>\n",
       "<tr><td>5</td>\n",
       "<td>1.0</td></tr></table></div>"
      ],
      "text/plain": [
       "k    hit_ratio\n",
       "---  -----------\n",
       "1    0.495937\n",
       "2    0.753266\n",
       "3    0.911213\n",
       "4    0.983124\n",
       "5    1"
      ]
     },
     "metadata": {},
     "output_type": "display_data"
    },
    {
     "name": "stdout",
     "output_type": "stream",
     "text": [
      "Scoring History: \n"
     ]
    },
    {
     "data": {
      "text/html": [
       "<div style=\"overflow:auto\"><table style=\"width:50%\"><tr><td><b></b></td>\n",
       "<td><b>timestamp</b></td>\n",
       "<td><b>duration</b></td>\n",
       "<td><b>number_of_trees</b></td>\n",
       "<td><b>training_rmse</b></td>\n",
       "<td><b>training_logloss</b></td>\n",
       "<td><b>training_classification_error</b></td></tr>\n",
       "<tr><td></td>\n",
       "<td>2018-06-18 15:38:56</td>\n",
       "<td> 0.047 sec</td>\n",
       "<td>0.0</td>\n",
       "<td>nan</td>\n",
       "<td>nan</td>\n",
       "<td>nan</td></tr>\n",
       "<tr><td></td>\n",
       "<td>2018-06-18 15:38:56</td>\n",
       "<td> 0.337 sec</td>\n",
       "<td>1.0</td>\n",
       "<td>0.7303790</td>\n",
       "<td>12.2817779</td>\n",
       "<td>0.5919030</td></tr>\n",
       "<tr><td></td>\n",
       "<td>2018-06-18 15:38:56</td>\n",
       "<td> 0.543 sec</td>\n",
       "<td>2.0</td>\n",
       "<td>0.7203099</td>\n",
       "<td>10.7833210</td>\n",
       "<td>0.5901275</td></tr>\n",
       "<tr><td></td>\n",
       "<td>2018-06-18 15:38:56</td>\n",
       "<td> 0.751 sec</td>\n",
       "<td>3.0</td>\n",
       "<td>0.7095381</td>\n",
       "<td>9.5448896</td>\n",
       "<td>0.5829394</td></tr>\n",
       "<tr><td></td>\n",
       "<td>2018-06-18 15:38:57</td>\n",
       "<td> 0.914 sec</td>\n",
       "<td>4.0</td>\n",
       "<td>0.7001012</td>\n",
       "<td>8.4149456</td>\n",
       "<td>0.5747498</td></tr>\n",
       "<tr><td>---</td>\n",
       "<td>---</td>\n",
       "<td>---</td>\n",
       "<td>---</td>\n",
       "<td>---</td>\n",
       "<td>---</td>\n",
       "<td>---</td></tr>\n",
       "<tr><td></td>\n",
       "<td>2018-06-18 15:39:00</td>\n",
       "<td> 3.960 sec</td>\n",
       "<td>20.0</td>\n",
       "<td>0.6555561</td>\n",
       "<td>2.1665261</td>\n",
       "<td>0.5224865</td></tr>\n",
       "<tr><td></td>\n",
       "<td>2018-06-18 15:39:04</td>\n",
       "<td> 8.106 sec</td>\n",
       "<td>42.0</td>\n",
       "<td>0.6502603</td>\n",
       "<td>1.4000393</td>\n",
       "<td>0.5078755</td></tr>\n",
       "<tr><td></td>\n",
       "<td>2018-06-18 15:39:08</td>\n",
       "<td>12.139 sec</td>\n",
       "<td>64.0</td>\n",
       "<td>0.6493819</td>\n",
       "<td>1.2696775</td>\n",
       "<td>0.5062191</td></tr>\n",
       "<tr><td></td>\n",
       "<td>2018-06-18 15:39:12</td>\n",
       "<td>16.225 sec</td>\n",
       "<td>86.0</td>\n",
       "<td>0.6487907</td>\n",
       "<td>1.2245171</td>\n",
       "<td>0.5043753</td></tr>\n",
       "<tr><td></td>\n",
       "<td>2018-06-18 15:39:15</td>\n",
       "<td>18.795 sec</td>\n",
       "<td>100.0</td>\n",
       "<td>0.6485470</td>\n",
       "<td>1.2138040</td>\n",
       "<td>0.5040628</td></tr></table></div>"
      ],
      "text/plain": [
       "     timestamp            duration    number_of_trees    training_rmse       training_logloss    training_classification_error\n",
       "---  -------------------  ----------  -----------------  ------------------  ------------------  -------------------------------\n",
       "     2018-06-18 15:38:56  0.047 sec   0.0                nan                 nan                 nan\n",
       "     2018-06-18 15:38:56  0.337 sec   1.0                0.7303790117307496  12.28177791881698   0.5919029723266143\n",
       "     2018-06-18 15:38:56  0.543 sec   2.0                0.7203099122716076  10.783320965135731  0.5901275365312129\n",
       "     2018-06-18 15:38:56  0.751 sec   3.0                0.709538117972836   9.544889569201596   0.582939379994143\n",
       "     2018-06-18 15:38:57  0.914 sec   4.0                0.7001012269647482  8.414945572358864   0.5747498419075252\n",
       "---  ---                  ---         ---                ---                 ---                 ---\n",
       "     2018-06-18 15:39:00  3.960 sec   20.0               0.6555561300219596  2.166526118444028   0.5224864831077913\n",
       "     2018-06-18 15:39:04  8.106 sec   42.0               0.6502603169116357  1.4000393267995292  0.5078754922182637\n",
       "     2018-06-18 15:39:08  12.139 sec  64.0               0.6493818697209397  1.2696774796776653  0.5062191386961685\n",
       "     2018-06-18 15:39:12  16.225 sec  86.0               0.6487906772744717  1.2245171435482312  0.5043752734545909\n",
       "     2018-06-18 15:39:15  18.795 sec  100.0              0.6485470374548786  1.2138039820414677  0.5040627539221201"
      ]
     },
     "metadata": {},
     "output_type": "display_data"
    },
    {
     "name": "stdout",
     "output_type": "stream",
     "text": [
      "\n",
      "See the whole table with table.as_data_frame()\n",
      "Variable Importances: \n"
     ]
    },
    {
     "data": {
      "text/html": [
       "<div style=\"overflow:auto\"><table style=\"width:50%\"><tr><td><b>variable</b></td>\n",
       "<td><b>relative_importance</b></td>\n",
       "<td><b>scaled_importance</b></td>\n",
       "<td><b>percentage</b></td></tr>\n",
       "<tr><td>VV_c</td>\n",
       "<td>229833.0312500</td>\n",
       "<td>1.0</td>\n",
       "<td>0.2235553</td></tr>\n",
       "<tr><td>VV</td>\n",
       "<td>196951.2031250</td>\n",
       "<td>0.8569317</td>\n",
       "<td>0.1915716</td></tr>\n",
       "<tr><td>VV_GLCMVariance</td>\n",
       "<td>88588.0937500</td>\n",
       "<td>0.3854454</td>\n",
       "<td>0.0861684</td></tr>\n",
       "<tr><td>VV_GLCMMean</td>\n",
       "<td>87577.4687500</td>\n",
       "<td>0.3810482</td>\n",
       "<td>0.0851854</td></tr>\n",
       "<tr><td>VV_GLCMCorrelation</td>\n",
       "<td>77738.0</td>\n",
       "<td>0.3382368</td>\n",
       "<td>0.0756147</td></tr>\n",
       "<tr><td>VV_Homogeneity</td>\n",
       "<td>67700.2265625</td>\n",
       "<td>0.2945626</td>\n",
       "<td>0.0658511</td></tr>\n",
       "<tr><td>VV_Entropy</td>\n",
       "<td>60788.5937500</td>\n",
       "<td>0.2644902</td>\n",
       "<td>0.0591282</td></tr>\n",
       "<tr><td>VV_Contrast</td>\n",
       "<td>57747.9335938</td>\n",
       "<td>0.2512604</td>\n",
       "<td>0.0561706</td></tr>\n",
       "<tr><td>VV_Dissimilarity</td>\n",
       "<td>56038.2187500</td>\n",
       "<td>0.2438214</td>\n",
       "<td>0.0545076</td></tr>\n",
       "<tr><td>VV_Energy</td>\n",
       "<td>53866.6523438</td>\n",
       "<td>0.2343730</td>\n",
       "<td>0.0523953</td></tr>\n",
       "<tr><td>VV_ASM</td>\n",
       "<td>51251.7578125</td>\n",
       "<td>0.2229956</td>\n",
       "<td>0.0498519</td></tr></table></div>"
      ],
      "text/plain": [
       "variable            relative_importance    scaled_importance    percentage\n",
       "------------------  ---------------------  -------------------  ------------\n",
       "VV_c                229833                 1                    0.223555\n",
       "VV                  196951                 0.856932             0.191572\n",
       "VV_GLCMVariance     88588.1                0.385445             0.0861684\n",
       "VV_GLCMMean         87577.5                0.381048             0.0851854\n",
       "VV_GLCMCorrelation  77738                  0.338237             0.0756147\n",
       "VV_Homogeneity      67700.2                0.294563             0.0658511\n",
       "VV_Entropy          60788.6                0.26449              0.0591282\n",
       "VV_Contrast         57747.9                0.25126              0.0561706\n",
       "VV_Dissimilarity    56038.2                0.243821             0.0545076\n",
       "VV_Energy           53866.7                0.234373             0.0523953\n",
       "VV_ASM              51251.8                0.222996             0.0498519"
      ]
     },
     "metadata": {},
     "output_type": "display_data"
    },
    {
     "data": {
      "text/plain": []
     },
     "execution_count": 175,
     "metadata": {},
     "output_type": "execute_result"
    }
   ],
   "source": [
    "rf_fit2"
   ]
  },
  {
   "cell_type": "code",
   "execution_count": 173,
   "metadata": {},
   "outputs": [
    {
     "ename": "TypeError",
     "evalue": "must be str, not type",
     "output_type": "error",
     "traceback": [
      "\u001b[0;31m---------------------------------------------------------------------------\u001b[0m",
      "\u001b[0;31mTypeError\u001b[0m                                 Traceback (most recent call last)",
      "\u001b[0;32m<ipython-input-173-47106ff20252>\u001b[0m in \u001b[0;36m<module>\u001b[0;34m()\u001b[0m\n\u001b[0;32m----> 1\u001b[0;31m \u001b[0mrf_perf1\u001b[0m \u001b[0;34m=\u001b[0m \u001b[0mrf_fit1\u001b[0m\u001b[0;34m.\u001b[0m\u001b[0mmodel_performance\u001b[0m\u001b[0;34m(\u001b[0m\u001b[0mtest\u001b[0m\u001b[0;34m)\u001b[0m\u001b[0;34m\u001b[0m\u001b[0m\n\u001b[0m\u001b[1;32m      2\u001b[0m \u001b[0mrf_perf2\u001b[0m \u001b[0;34m=\u001b[0m \u001b[0mrf_fit2\u001b[0m\u001b[0;34m.\u001b[0m\u001b[0mmodel_performance\u001b[0m\u001b[0;34m(\u001b[0m\u001b[0mtest\u001b[0m\u001b[0;34m)\u001b[0m\u001b[0;34m\u001b[0m\u001b[0m\n",
      "\u001b[0;32m~/anaconda3/envs/models3/lib/python3.6/site-packages/h2o/model/model_base.py\u001b[0m in \u001b[0;36mmodel_performance\u001b[0;34m(self, test_data, train, valid, xval)\u001b[0m\n\u001b[1;32m    281\u001b[0m         \u001b[0;32melse\u001b[0m\u001b[0;34m:\u001b[0m  \u001b[0;31m# cases dealing with test_data not None\u001b[0m\u001b[0;34m\u001b[0m\u001b[0m\n\u001b[1;32m    282\u001b[0m             \u001b[0;32mif\u001b[0m \u001b[0;32mnot\u001b[0m \u001b[0misinstance\u001b[0m\u001b[0;34m(\u001b[0m\u001b[0mtest_data\u001b[0m\u001b[0;34m,\u001b[0m \u001b[0mh2o\u001b[0m\u001b[0;34m.\u001b[0m\u001b[0mH2OFrame\u001b[0m\u001b[0;34m)\u001b[0m\u001b[0;34m:\u001b[0m\u001b[0;34m\u001b[0m\u001b[0m\n\u001b[0;32m--> 283\u001b[0;31m                 \u001b[0;32mraise\u001b[0m \u001b[0mValueError\u001b[0m\u001b[0;34m(\u001b[0m\u001b[0;34m\"`test_data` must be of type H2OFrame.  Got: \"\u001b[0m \u001b[0;34m+\u001b[0m \u001b[0mtype\u001b[0m\u001b[0;34m(\u001b[0m\u001b[0mtest_data\u001b[0m\u001b[0;34m)\u001b[0m\u001b[0;34m)\u001b[0m\u001b[0;34m\u001b[0m\u001b[0m\n\u001b[0m\u001b[1;32m    284\u001b[0m             \u001b[0mres\u001b[0m \u001b[0;34m=\u001b[0m \u001b[0mh2o\u001b[0m\u001b[0;34m.\u001b[0m\u001b[0mapi\u001b[0m\u001b[0;34m(\u001b[0m\u001b[0;34m\"POST /3/ModelMetrics/models/%s/frames/%s\"\u001b[0m \u001b[0;34m%\u001b[0m \u001b[0;34m(\u001b[0m\u001b[0mself\u001b[0m\u001b[0;34m.\u001b[0m\u001b[0mmodel_id\u001b[0m\u001b[0;34m,\u001b[0m \u001b[0mtest_data\u001b[0m\u001b[0;34m.\u001b[0m\u001b[0mframe_id\u001b[0m\u001b[0;34m)\u001b[0m\u001b[0;34m)\u001b[0m\u001b[0;34m\u001b[0m\u001b[0m\n\u001b[1;32m    285\u001b[0m \u001b[0;34m\u001b[0m\u001b[0m\n",
      "\u001b[0;31mTypeError\u001b[0m: must be str, not type"
     ]
    }
   ],
   "source": [
    "rf_perf1 = rf_fit1.model_performance(test)\n",
    "rf_perf2 = rf_fit2.model_performance(test)"
   ]
  },
  {
   "cell_type": "code",
   "execution_count": 30,
   "metadata": {},
   "outputs": [
    {
     "name": "stdout",
     "output_type": "stream",
     "text": [
      "0.663462768485\n",
      "0.669287987873\n"
     ]
    }
   ],
   "source": [
    "print rf_perf1.auc()\n",
    "print rf_perf2.auc()"
   ]
  },
  {
   "cell_type": "code",
   "execution_count": 174,
   "metadata": {},
   "outputs": [
    {
     "name": "stdout",
     "output_type": "stream",
     "text": [
      "drf Model Build progress: |███████████████████████████████████████████████| 100%\n"
     ]
    }
   ],
   "source": [
    "rf_fit3 = H2ORandomForestEstimator(model_id='rf_fit3', seed=1, nfolds=5)\n",
    "rf_fit3.train(x=x, y=y, training_frame=data)"
   ]
  },
  {
   "cell_type": "code",
   "execution_count": 32,
   "metadata": {},
   "outputs": [
    {
     "name": "stdout",
     "output_type": "stream",
     "text": [
      "0.663606041745\n"
     ]
    }
   ],
   "source": [
    "print rf_fit3.auc(xval=True)"
   ]
  },
  {
   "cell_type": "code",
   "execution_count": 33,
   "metadata": {},
   "outputs": [],
   "source": [
    "# Import H2O GBM:\n",
    "from h2o.estimators.gbm import H2OGradientBoostingEstimator"
   ]
  },
  {
   "cell_type": "code",
   "execution_count": 34,
   "metadata": {},
   "outputs": [
    {
     "name": "stdout",
     "output_type": "stream",
     "text": [
      "gbm Model Build progress: |███████████████████████████████████████████████| 100%\n"
     ]
    }
   ],
   "source": [
    "# Initialize and train the GBM estimator:\n",
    "\n",
    "gbm_fit1 = H2OGradientBoostingEstimator(model_id='gbm_fit1', seed=1)\n",
    "gbm_fit1.train(x=x, y=y, training_frame=train)"
   ]
  },
  {
   "cell_type": "code",
   "execution_count": 35,
   "metadata": {},
   "outputs": [
    {
     "name": "stdout",
     "output_type": "stream",
     "text": [
      "gbm Model Build progress: |███████████████████████████████████████████████| 100%\n"
     ]
    }
   ],
   "source": [
    "gbm_fit2 = H2OGradientBoostingEstimator(model_id='gbm_fit2', ntrees=500, seed=1)\n",
    "gbm_fit2.train(x=x, y=y, training_frame=train)"
   ]
  },
  {
   "cell_type": "code",
   "execution_count": 36,
   "metadata": {},
   "outputs": [
    {
     "name": "stdout",
     "output_type": "stream",
     "text": [
      "gbm Model Build progress: |███████████████████████████████████████████████| 100%\n"
     ]
    }
   ],
   "source": [
    "gbm_fit3 = H2OGradientBoostingEstimator(model_id='gbm_fit3', \n",
    "                                        ntrees=500, \n",
    "                                        score_tree_interval=5,     #used for early stopping\n",
    "                                        stopping_rounds=3,         #used for early stopping\n",
    "                                        stopping_metric='AUC',     #used for early stopping\n",
    "                                        stopping_tolerance=0.0005, #used for early stopping\n",
    "                                        seed=1)\n",
    "\n",
    "# The use of a validation_frame is recommended with using early stopping\n",
    "gbm_fit3.train(x=x, y=y, training_frame=train, validation_frame=valid)\n"
   ]
  },
  {
   "cell_type": "code",
   "execution_count": 37,
   "metadata": {},
   "outputs": [],
   "source": [
    "gbm_perf1 = gbm_fit1.model_performance(test)\n",
    "gbm_perf2 = gbm_fit2.model_performance(test)\n",
    "gbm_perf3 = gbm_fit3.model_performance(test)"
   ]
  },
  {
   "cell_type": "code",
   "execution_count": 38,
   "metadata": {},
   "outputs": [
    {
     "name": "stdout",
     "output_type": "stream",
     "text": [
      "0.683883128672\n",
      "0.684086466361\n",
      "0.684443511563\n"
     ]
    }
   ],
   "source": [
    "# Retreive test set AUC\n",
    "print gbm_perf1.auc()\n",
    "print gbm_perf2.auc()\n",
    "print gbm_perf3.auc()"
   ]
  },
  {
   "cell_type": "code",
   "execution_count": 39,
   "metadata": {},
   "outputs": [
    {
     "name": "stdout",
     "output_type": "stream",
     "text": [
      "Scoring History: \n"
     ]
    },
    {
     "data": {
      "text/html": [
       "<div style=\"overflow:auto\"><table style=\"width:50%\"><tr><td><b></b></td>\n",
       "<td><b>timestamp</b></td>\n",
       "<td><b>duration</b></td>\n",
       "<td><b>number_of_trees</b></td>\n",
       "<td><b>training_rmse</b></td>\n",
       "<td><b>training_logloss</b></td>\n",
       "<td><b>training_auc</b></td>\n",
       "<td><b>training_lift</b></td>\n",
       "<td><b>training_classification_error</b></td></tr>\n",
       "<tr><td></td>\n",
       "<td>2018-04-25 08:45:40</td>\n",
       "<td> 0.028 sec</td>\n",
       "<td>0.0</td>\n",
       "<td>0.3856346</td>\n",
       "<td>0.4740298</td>\n",
       "<td>0.5</td>\n",
       "<td>1.0</td>\n",
       "<td>0.8182546</td></tr>\n",
       "<tr><td></td>\n",
       "<td>2018-04-25 08:45:40</td>\n",
       "<td> 0.128 sec</td>\n",
       "<td>1.0</td>\n",
       "<td>0.3837005</td>\n",
       "<td>0.4691294</td>\n",
       "<td>0.6577912</td>\n",
       "<td>2.6832997</td>\n",
       "<td>0.4006858</td></tr>\n",
       "<tr><td></td>\n",
       "<td>2018-04-25 08:45:40</td>\n",
       "<td> 0.174 sec</td>\n",
       "<td>2.0</td>\n",
       "<td>0.3820620</td>\n",
       "<td>0.4651166</td>\n",
       "<td>0.6658294</td>\n",
       "<td>2.7939915</td>\n",
       "<td>0.3332492</td></tr>\n",
       "<tr><td></td>\n",
       "<td>2018-04-25 08:45:40</td>\n",
       "<td> 0.221 sec</td>\n",
       "<td>3.0</td>\n",
       "<td>0.3806936</td>\n",
       "<td>0.4618385</td>\n",
       "<td>0.6685103</td>\n",
       "<td>2.9710023</td>\n",
       "<td>0.3447454</td></tr>\n",
       "<tr><td></td>\n",
       "<td>2018-04-25 08:45:40</td>\n",
       "<td> 0.276 sec</td>\n",
       "<td>4.0</td>\n",
       "<td>0.3795380</td>\n",
       "<td>0.4591170</td>\n",
       "<td>0.6701132</td>\n",
       "<td>2.9754401</td>\n",
       "<td>0.3318046</td></tr>\n",
       "<tr><td>---</td>\n",
       "<td>---</td>\n",
       "<td>---</td>\n",
       "<td>---</td>\n",
       "<td>---</td>\n",
       "<td>---</td>\n",
       "<td>---</td>\n",
       "<td>---</td>\n",
       "<td>---</td></tr>\n",
       "<tr><td></td>\n",
       "<td>2018-04-25 08:45:43</td>\n",
       "<td> 3.795 sec</td>\n",
       "<td>43.0</td>\n",
       "<td>0.3677312</td>\n",
       "<td>0.4317210</td>\n",
       "<td>0.7124068</td>\n",
       "<td>3.6410228</td>\n",
       "<td>0.2975859</td></tr>\n",
       "<tr><td></td>\n",
       "<td>2018-04-25 08:45:43</td>\n",
       "<td> 3.888 sec</td>\n",
       "<td>44.0</td>\n",
       "<td>0.3676187</td>\n",
       "<td>0.4314625</td>\n",
       "<td>0.7129225</td>\n",
       "<td>3.6553764</td>\n",
       "<td>0.3021722</td></tr>\n",
       "<tr><td></td>\n",
       "<td>2018-04-25 08:45:44</td>\n",
       "<td> 3.989 sec</td>\n",
       "<td>45.0</td>\n",
       "<td>0.3674805</td>\n",
       "<td>0.4311606</td>\n",
       "<td>0.7134660</td>\n",
       "<td>3.6649454</td>\n",
       "<td>0.3023984</td></tr>\n",
       "<tr><td></td>\n",
       "<td>2018-04-25 08:45:48</td>\n",
       "<td> 7.995 sec</td>\n",
       "<td>226.0</td>\n",
       "<td>0.3612902</td>\n",
       "<td>0.4176954</td>\n",
       "<td>0.7402357</td>\n",
       "<td>4.2582264</td>\n",
       "<td>0.2599471</td></tr>\n",
       "<tr><td></td>\n",
       "<td>2018-04-25 08:45:50</td>\n",
       "<td>10.864 sec</td>\n",
       "<td>500.0</td>\n",
       "<td>0.3612902</td>\n",
       "<td>0.4176954</td>\n",
       "<td>0.7402357</td>\n",
       "<td>4.2582264</td>\n",
       "<td>0.2599471</td></tr></table></div>"
      ],
      "text/plain": [
       "     timestamp            duration    number_of_trees    training_rmse    training_logloss    training_auc    training_lift    training_classification_error\n",
       "---  -------------------  ----------  -----------------  ---------------  ------------------  --------------  ---------------  -------------------------------\n",
       "     2018-04-25 08:45:40  0.028 sec   0.0                0.385634551401   0.474029820223      0.5             1.0              0.818254603683\n",
       "     2018-04-25 08:45:40  0.128 sec   1.0                0.3837005122     0.469129436808      0.657791165609  2.68329972068    0.400685766004\n",
       "     2018-04-25 08:45:40  0.174 sec   2.0                0.382061982395   0.465116567784      0.665829430978  2.79399154264    0.333249208062\n",
       "     2018-04-25 08:45:40  0.221 sec   3.0                0.380693585036   0.461838509958      0.668510341023  2.97100227756    0.344745361507\n",
       "     2018-04-25 08:45:40  0.276 sec   4.0                0.37953800372    0.459117012737      0.670113151912  2.97544005596    0.331804574094\n",
       "---  ---                  ---         ---                ---              ---                 ---             ---              ---\n",
       "     2018-04-25 08:45:43  3.795 sec   43.0               0.367731196852   0.431721034686      0.712406800184  3.64102279257    0.297585894803\n",
       "     2018-04-25 08:45:43  3.888 sec   44.0               0.367618740501   0.43146245139       0.712922465256  3.65537636468    0.302172172521\n",
       "     2018-04-25 08:45:44  3.989 sec   45.0               0.367480513734   0.431160572065      0.713465990166  3.66494541276    0.302398440492\n",
       "     2018-04-25 08:45:48  7.995 sec   226.0              0.361290217025   0.417695443147      0.740235728925  4.25822639341    0.259947088105\n",
       "     2018-04-25 08:45:50  10.864 sec  500.0              0.361290217025   0.417695443147      0.740235728925  4.25822639341    0.259947088105"
      ]
     },
     "metadata": {},
     "output_type": "display_data"
    },
    {
     "data": {
      "text/plain": []
     },
     "execution_count": 39,
     "metadata": {},
     "output_type": "execute_result"
    }
   ],
   "source": [
    "gbm_fit2.scoring_history()"
   ]
  },
  {
   "cell_type": "code",
   "execution_count": 40,
   "metadata": {},
   "outputs": [],
   "source": [
    "# Import H2O DL:\n",
    "from h2o.estimators.deeplearning import H2ODeepLearningEstimator"
   ]
  },
  {
   "cell_type": "code",
   "execution_count": 41,
   "metadata": {},
   "outputs": [
    {
     "name": "stdout",
     "output_type": "stream",
     "text": [
      "deeplearning Model Build progress: |██████████████████████████████████████| 100%\n"
     ]
    }
   ],
   "source": [
    "dl_fit1 = H2ODeepLearningEstimator(model_id='dl_fit1', seed=1)\n",
    "dl_fit1.train(x=x, y=y, training_frame=train)"
   ]
  },
  {
   "cell_type": "code",
   "execution_count": 42,
   "metadata": {},
   "outputs": [
    {
     "name": "stdout",
     "output_type": "stream",
     "text": [
      "deeplearning Model Build progress: |██████████████████████████████████████| 100%\n"
     ]
    }
   ],
   "source": [
    "dl_fit2 = H2ODeepLearningEstimator(model_id='dl_fit2', \n",
    "                                   epochs=20, \n",
    "                                   hidden=[10,10], \n",
    "                                   stopping_rounds=0,  #disable early stopping\n",
    "                                   seed=1)\n",
    "dl_fit2.train(x=x, y=y, training_frame=train)"
   ]
  },
  {
   "cell_type": "code",
   "execution_count": 43,
   "metadata": {},
   "outputs": [
    {
     "name": "stdout",
     "output_type": "stream",
     "text": [
      "deeplearning Model Build progress: |██████████████████████████████████████| 100%\n"
     ]
    }
   ],
   "source": [
    "dl_fit3 = H2ODeepLearningEstimator(model_id='dl_fit3', \n",
    "                                   epochs=20, \n",
    "                                   hidden=[10,10],\n",
    "                                   score_interval=1,          #used for early stopping\n",
    "                                   stopping_rounds=3,         #used for early stopping\n",
    "                                   stopping_metric='AUC',     #used for early stopping\n",
    "                                   stopping_tolerance=0.0005, #used for early stopping\n",
    "                                   seed=1)\n",
    "dl_fit3.train(x=x, y=y, training_frame=train, validation_frame=valid)"
   ]
  },
  {
   "cell_type": "code",
   "execution_count": 44,
   "metadata": {},
   "outputs": [],
   "source": [
    "dl_perf1 = dl_fit1.model_performance(test)\n",
    "dl_perf2 = dl_fit2.model_performance(test)\n",
    "dl_perf3 = dl_fit3.model_performance(test)"
   ]
  },
  {
   "cell_type": "code",
   "execution_count": 45,
   "metadata": {},
   "outputs": [
    {
     "name": "stdout",
     "output_type": "stream",
     "text": [
      "0.686254936726\n",
      "0.681516110354\n",
      "0.681802966019\n"
     ]
    }
   ],
   "source": [
    "# Retreive test set AUC\n",
    "print dl_perf1.auc()\n",
    "print dl_perf2.auc()\n",
    "print dl_perf3.auc()"
   ]
  },
  {
   "cell_type": "code",
   "execution_count": 47,
   "metadata": {},
   "outputs": [
    {
     "name": "stdout",
     "output_type": "stream",
     "text": [
      "naivebayes Model Build progress: |████████████████████████████████████████| 100%\n"
     ]
    }
   ],
   "source": [
    "from h2o.estimators.naive_bayes import H2ONaiveBayesEstimator\n",
    "nb_fit1 = H2ONaiveBayesEstimator(model_id='nb_fit1')\n",
    "nb_fit1.train(x=x, y=y, training_frame=train)"
   ]
  },
  {
   "cell_type": "code",
   "execution_count": 48,
   "metadata": {},
   "outputs": [
    {
     "name": "stdout",
     "output_type": "stream",
     "text": [
      "naivebayes Model Build progress: |████████████████████████████████████████| 100%\n"
     ]
    }
   ],
   "source": [
    "nb_fit2 = H2ONaiveBayesEstimator(model_id='nb_fit2', laplace=6)\n",
    "nb_fit2.train(x=x, y=y, training_frame=train)"
   ]
  },
  {
   "cell_type": "code",
   "execution_count": 49,
   "metadata": {},
   "outputs": [],
   "source": [
    "nb_perf1 = nb_fit1.model_performance(test)\n",
    "nb_perf2 = nb_fit2.model_performance(test)"
   ]
  },
  {
   "cell_type": "code",
   "execution_count": 50,
   "metadata": {},
   "outputs": [
    {
     "name": "stdout",
     "output_type": "stream",
     "text": [
      "0.651337099516\n",
      "0.651391851824\n"
     ]
    }
   ],
   "source": [
    "# Retreive test set AUC\n",
    "print nb_perf1.auc()\n",
    "print nb_perf2.auc()"
   ]
  }
 ],
 "metadata": {
  "kernelspec": {
   "display_name": "Python 3",
   "language": "python",
   "name": "python3"
  },
  "language_info": {
   "codemirror_mode": {
    "name": "ipython",
    "version": 3
   },
   "file_extension": ".py",
   "mimetype": "text/x-python",
   "name": "python",
   "nbconvert_exporter": "python",
   "pygments_lexer": "ipython3",
   "version": "3.6.5"
  }
 },
 "nbformat": 4,
 "nbformat_minor": 2
}
