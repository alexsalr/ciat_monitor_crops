{
 "cells": [
  {
   "cell_type": "markdown",
   "metadata": {},
   "source": [
    "# Classification models\n",
    "\n",
    "This notebook shows classification model training and evaluation using features derived from remote sensing time series in the previous notebooks. In this case, we make use of h2o python package to achieve model training and classification in shorter time frames via h2o processing in Java. \n",
    "\n",
    "## Machine learning with h2o.ai\n",
    "\n",
    "First we import the h2o python package and initialize the H2O cluster with a memory limit of 8GB."
   ]
  },
  {
   "cell_type": "code",
   "execution_count": 1,
   "metadata": {},
   "outputs": [],
   "source": [
    "import h2o"
   ]
  },
  {
   "cell_type": "code",
   "execution_count": 2,
   "metadata": {},
   "outputs": [
    {
     "name": "stdout",
     "output_type": "stream",
     "text": [
      "Checking whether there is an H2O instance running at http://localhost:54321..... not found.\n",
      "Attempting to start a local H2O server...\n",
      "  Java Version: openjdk version \"1.8.0_121\"; OpenJDK Runtime Environment (Zulu 8.20.0.5-linux64) (build 1.8.0_121-b15); OpenJDK 64-Bit Server VM (Zulu 8.20.0.5-linux64) (build 25.121-b15, mixed mode)\n",
      "  Starting server from /home/azalazar/anaconda3/envs/models3/h2o_jar/h2o.jar\n",
      "  Ice root: /tmp/tmpo0uxz4y1\n",
      "  JVM stdout: /tmp/tmpo0uxz4y1/h2o_azalazar_started_from_python.out\n",
      "  JVM stderr: /tmp/tmpo0uxz4y1/h2o_azalazar_started_from_python.err\n",
      "  Server is running at http://127.0.0.1:54321\n",
      "Connecting to H2O server at http://127.0.0.1:54321... successful.\n",
      "Warning: Your H2O cluster version is too old (4 months and 27 days)! Please download and install the latest version from http://h2o.ai/download/\n"
     ]
    },
    {
     "data": {
      "text/html": [
       "<div style=\"overflow:auto\"><table style=\"width:50%\"><tr><td>H2O cluster uptime:</td>\n",
       "<td>04 secs</td></tr>\n",
       "<tr><td>H2O cluster timezone:</td>\n",
       "<td>America/Bogota</td></tr>\n",
       "<tr><td>H2O data parsing timezone:</td>\n",
       "<td>UTC</td></tr>\n",
       "<tr><td>H2O cluster version:</td>\n",
       "<td>3.18.0.2</td></tr>\n",
       "<tr><td>H2O cluster version age:</td>\n",
       "<td>4 months and 27 days !!!</td></tr>\n",
       "<tr><td>H2O cluster name:</td>\n",
       "<td>H2O_from_python_azalazar_jn96ba</td></tr>\n",
       "<tr><td>H2O cluster total nodes:</td>\n",
       "<td>1</td></tr>\n",
       "<tr><td>H2O cluster free memory:</td>\n",
       "<td>7.111 Gb</td></tr>\n",
       "<tr><td>H2O cluster total cores:</td>\n",
       "<td>24</td></tr>\n",
       "<tr><td>H2O cluster allowed cores:</td>\n",
       "<td>24</td></tr>\n",
       "<tr><td>H2O cluster status:</td>\n",
       "<td>accepting new members, healthy</td></tr>\n",
       "<tr><td>H2O connection url:</td>\n",
       "<td>http://127.0.0.1:54321</td></tr>\n",
       "<tr><td>H2O connection proxy:</td>\n",
       "<td>None</td></tr>\n",
       "<tr><td>H2O internal security:</td>\n",
       "<td>False</td></tr>\n",
       "<tr><td>H2O API Extensions:</td>\n",
       "<td>XGBoost, Algos, AutoML, Core V3, Core V4</td></tr>\n",
       "<tr><td>Python version:</td>\n",
       "<td>3.6.5 final</td></tr></table></div>"
      ],
      "text/plain": [
       "--------------------------  ----------------------------------------\n",
       "H2O cluster uptime:         04 secs\n",
       "H2O cluster timezone:       America/Bogota\n",
       "H2O data parsing timezone:  UTC\n",
       "H2O cluster version:        3.18.0.2\n",
       "H2O cluster version age:    4 months and 27 days !!!\n",
       "H2O cluster name:           H2O_from_python_azalazar_jn96ba\n",
       "H2O cluster total nodes:    1\n",
       "H2O cluster free memory:    7.111 Gb\n",
       "H2O cluster total cores:    24\n",
       "H2O cluster allowed cores:  24\n",
       "H2O cluster status:         accepting new members, healthy\n",
       "H2O connection url:         http://127.0.0.1:54321\n",
       "H2O connection proxy:\n",
       "H2O internal security:      False\n",
       "H2O API Extensions:         XGBoost, Algos, AutoML, Core V3, Core V4\n",
       "Python version:             3.6.5 final\n",
       "--------------------------  ----------------------------------------"
      ]
     },
     "metadata": {},
     "output_type": "display_data"
    }
   ],
   "source": [
    "# Initialize h2o cluster\n",
    "h2o.init(nthreads = -1, max_mem_size = 8)"
   ]
  },
  {
   "cell_type": "markdown",
   "metadata": {},
   "source": [
    "### Data ingestion\n",
    "\n",
    "In the previous prepare dataset norbeooks, the multi-dimensional labeled arrays stored as netCDF files are transformed to dataframes and serialized to parquet format files via dask, xarray and pandas. The parquet files can be read directly as h2o data frames."
   ]
  },
  {
   "cell_type": "code",
   "execution_count": 23,
   "metadata": {},
   "outputs": [
    {
     "name": "stdout",
     "output_type": "stream",
     "text": [
      "Parse progress: |█████████████████████████████████████████████████████████| 100%\n"
     ]
    }
   ],
   "source": [
    "data2 = h2o.import_file(os.environ['WIN_SVR_DATA']+'Saldana/parquet77/')"
   ]
  },
  {
   "cell_type": "markdown",
   "metadata": {},
   "source": [
    "We specify the features to be used on the models. The ground truth class is in the *vclass*, while the feature names are indicated as the combination of *band*, *derivative* and *relative time*. Considering two vegetation indices, radar backscattering for VV polarization and 9 GLCM texture variable time series and their first derivative, and 8 times, we get 192 predictor variables."
   ]
  },
  {
   "cell_type": "code",
   "execution_count": 4,
   "metadata": {},
   "outputs": [
    {
     "name": "stdout",
     "output_type": "stream",
     "text": [
      "192 predictor variables in x\n"
     ]
    }
   ],
   "source": [
    "y = 'vclass'\n",
    "\n",
    "x = []\n",
    "\n",
    "for band in ['NDVI','LSWI','VV','VV_ASM','VV_Contrast','VV_Dissimilarity','VV_Energy','VV_Entropy',\n",
    "             'VV_GLCMCorrelation','VV_GLCMMean', 'VV_GLCMVariance', 'VV_Homogeneity']:\n",
    "    for der in ['','_1der']:\n",
    "        for time in ['_0','_16','_n16','_n32','_n48','_n64','_n80','_n96']:\n",
    "            x.append(band+time)\n",
    "\n",
    "print('{} predictor variables in x'.format(len(x)))"
   ]
  },
  {
   "cell_type": "code",
   "execution_count": 94,
   "metadata": {},
   "outputs": [
    {
     "name": "stdout",
     "output_type": "stream",
     "text": [
      "Number of train pixels: 13723\n",
      "Number of test pixels: 9786\n"
     ]
    }
   ],
   "source": [
    "# Split train and test datasets\n",
    "train = data[data['tt']=='train']\n",
    "print('Number of train pixels: {}'.format(train.shape[0]))\n",
    "test = data[data['tt']=='test']\n",
    "print('Number of test pixels: {}'.format(test.shape[0]))"
   ]
  },
  {
   "cell_type": "code",
   "execution_count": 95,
   "metadata": {},
   "outputs": [
    {
     "data": {
      "text/plain": [
       "[['1', '2', '3', '4', '5']]"
      ]
     },
     "execution_count": 95,
     "metadata": {},
     "output_type": "execute_result"
    }
   ],
   "source": [
    "# Change classification type is a factor\n",
    "data['vclass'] = data['vclass'].asfactor()\n",
    "# Verify factor levels\n",
    "data['vclass'].levels()"
   ]
  },
  {
   "cell_type": "markdown",
   "metadata": {},
   "source": [
    "### Model initialization"
   ]
  },
  {
   "cell_type": "code",
   "execution_count": 96,
   "metadata": {},
   "outputs": [],
   "source": [
    "from h2o.estimators.random_forest import H2ORandomForestEstimator\n",
    "\n",
    "rf_model = H2ORandomForestEstimator(model_id='rf_mod1', ntrees=200, seed=1)"
   ]
  },
  {
   "cell_type": "markdown",
   "metadata": {},
   "source": [
    "### Model training"
   ]
  },
  {
   "cell_type": "code",
   "execution_count": 97,
   "metadata": {},
   "outputs": [
    {
     "name": "stdout",
     "output_type": "stream",
     "text": [
      "drf Model Build progress: |███████████████████████████████████████████████| 100%\n"
     ]
    }
   ],
   "source": [
    "rf_model.train(x=x, y=y, training_frame=train)"
   ]
  },
  {
   "cell_type": "code",
   "execution_count": 98,
   "metadata": {},
   "outputs": [
    {
     "name": "stdout",
     "output_type": "stream",
     "text": [
      "Model Details\n",
      "=============\n",
      "H2ORandomForestEstimator :  Distributed Random Forest\n",
      "Model Key:  rf_mod1\n",
      "\n",
      "\n",
      "ModelMetricsMultinomial: drf\n",
      "** Reported on train data. **\n",
      "\n",
      "MSE: 0.0011470154277978364\n",
      "RMSE: 0.033867616210737896\n",
      "LogLoss: 0.014219155894141846\n",
      "Mean Per-Class Error: 0.0002673362166555397\n",
      "Confusion Matrix: Row labels: Actual class; Column labels: Predicted class\n",
      "\n"
     ]
    },
    {
     "data": {
      "text/html": [
       "<div style=\"overflow:auto\"><table style=\"width:50%\"><tr><td><b>1</b></td>\n",
       "<td><b>2</b></td>\n",
       "<td><b>3</b></td>\n",
       "<td><b>4</b></td>\n",
       "<td><b>5</b></td>\n",
       "<td><b>Error</b></td>\n",
       "<td><b>Rate</b></td></tr>\n",
       "<tr><td>3767.0</td>\n",
       "<td>0.0</td>\n",
       "<td>0.0</td>\n",
       "<td>0.0</td>\n",
       "<td>0.0</td>\n",
       "<td>0.0</td>\n",
       "<td>0 / 3,767</td></tr>\n",
       "<tr><td>0.0</td>\n",
       "<td>2174.0</td>\n",
       "<td>0.0</td>\n",
       "<td>0.0</td>\n",
       "<td>0.0</td>\n",
       "<td>0.0</td>\n",
       "<td>0 / 2,174</td></tr>\n",
       "<tr><td>0.0</td>\n",
       "<td>0.0</td>\n",
       "<td>1878.0</td>\n",
       "<td>2.0</td>\n",
       "<td>0.0</td>\n",
       "<td>0.0010638</td>\n",
       "<td>2 / 1,880</td></tr>\n",
       "<tr><td>0.0</td>\n",
       "<td>0.0</td>\n",
       "<td>1.0</td>\n",
       "<td>3664.0</td>\n",
       "<td>0.0</td>\n",
       "<td>0.0002729</td>\n",
       "<td>1 / 3,665</td></tr>\n",
       "<tr><td>0.0</td>\n",
       "<td>0.0</td>\n",
       "<td>0.0</td>\n",
       "<td>0.0</td>\n",
       "<td>2237.0</td>\n",
       "<td>0.0</td>\n",
       "<td>0 / 2,237</td></tr>\n",
       "<tr><td>3767.0</td>\n",
       "<td>2174.0</td>\n",
       "<td>1879.0</td>\n",
       "<td>3666.0</td>\n",
       "<td>2237.0</td>\n",
       "<td>0.0002186</td>\n",
       "<td>3 / 13,723</td></tr></table></div>"
      ],
      "text/plain": [
       "1     2     3     4     5     Error        Rate\n",
       "----  ----  ----  ----  ----  -----------  ----------\n",
       "3767  0     0     0     0     0            0 / 3,767\n",
       "0     2174  0     0     0     0            0 / 2,174\n",
       "0     0     1878  2     0     0.00106383   2 / 1,880\n",
       "0     0     1     3664  0     0.000272851  1 / 3,665\n",
       "0     0     0     0     2237  0            0 / 2,237\n",
       "3767  2174  1879  3666  2237  0.000218611  3 / 13,723"
      ]
     },
     "metadata": {},
     "output_type": "display_data"
    },
    {
     "name": "stdout",
     "output_type": "stream",
     "text": [
      "Top-5 Hit Ratios: \n"
     ]
    },
    {
     "data": {
      "text/html": [
       "<div style=\"overflow:auto\"><table style=\"width:50%\"><tr><td><b>k</b></td>\n",
       "<td><b>hit_ratio</b></td></tr>\n",
       "<tr><td>1</td>\n",
       "<td>0.9997814</td></tr>\n",
       "<tr><td>2</td>\n",
       "<td>1.0</td></tr>\n",
       "<tr><td>3</td>\n",
       "<td>1.0</td></tr>\n",
       "<tr><td>4</td>\n",
       "<td>1.0</td></tr>\n",
       "<tr><td>5</td>\n",
       "<td>1.0</td></tr></table></div>"
      ],
      "text/plain": [
       "k    hit_ratio\n",
       "---  -----------\n",
       "1    0.999781\n",
       "2    1\n",
       "3    1\n",
       "4    1\n",
       "5    1"
      ]
     },
     "metadata": {},
     "output_type": "display_data"
    },
    {
     "name": "stdout",
     "output_type": "stream",
     "text": [
      "Scoring History: \n"
     ]
    },
    {
     "data": {
      "text/html": [
       "<div style=\"overflow:auto\"><table style=\"width:50%\"><tr><td><b></b></td>\n",
       "<td><b>timestamp</b></td>\n",
       "<td><b>duration</b></td>\n",
       "<td><b>number_of_trees</b></td>\n",
       "<td><b>training_rmse</b></td>\n",
       "<td><b>training_logloss</b></td>\n",
       "<td><b>training_classification_error</b></td></tr>\n",
       "<tr><td></td>\n",
       "<td>2018-08-02 14:40:30</td>\n",
       "<td> 0.011 sec</td>\n",
       "<td>0.0</td>\n",
       "<td>nan</td>\n",
       "<td>nan</td>\n",
       "<td>nan</td></tr>\n",
       "<tr><td></td>\n",
       "<td>2018-08-02 14:40:30</td>\n",
       "<td> 0.210 sec</td>\n",
       "<td>1.0</td>\n",
       "<td>0.1290737</td>\n",
       "<td>0.4961912</td>\n",
       "<td>0.0117717</td></tr>\n",
       "<tr><td></td>\n",
       "<td>2018-08-02 14:40:31</td>\n",
       "<td> 0.371 sec</td>\n",
       "<td>2.0</td>\n",
       "<td>0.1084652</td>\n",
       "<td>0.3220883</td>\n",
       "<td>0.0092177</td></tr>\n",
       "<tr><td></td>\n",
       "<td>2018-08-02 14:40:31</td>\n",
       "<td> 1.195 sec</td>\n",
       "<td>3.0</td>\n",
       "<td>0.1012190</td>\n",
       "<td>0.2697081</td>\n",
       "<td>0.0087530</td></tr>\n",
       "<tr><td></td>\n",
       "<td>2018-08-02 14:40:32</td>\n",
       "<td> 1.339 sec</td>\n",
       "<td>4.0</td>\n",
       "<td>0.0896309</td>\n",
       "<td>0.1953214</td>\n",
       "<td>0.0068104</td></tr>\n",
       "<tr><td>---</td>\n",
       "<td>---</td>\n",
       "<td>---</td>\n",
       "<td>---</td>\n",
       "<td>---</td>\n",
       "<td>---</td>\n",
       "<td>---</td></tr>\n",
       "<tr><td></td>\n",
       "<td>2018-08-02 14:40:51</td>\n",
       "<td>20.391 sec</td>\n",
       "<td>121.0</td>\n",
       "<td>0.0356748</td>\n",
       "<td>0.0142761</td>\n",
       "<td>0.0002186</td></tr>\n",
       "<tr><td></td>\n",
       "<td>2018-08-02 14:40:55</td>\n",
       "<td>24.517 sec</td>\n",
       "<td>148.0</td>\n",
       "<td>0.0350226</td>\n",
       "<td>0.0141928</td>\n",
       "<td>0.0002186</td></tr>\n",
       "<tr><td></td>\n",
       "<td>2018-08-02 14:40:59</td>\n",
       "<td>28.678 sec</td>\n",
       "<td>173.0</td>\n",
       "<td>0.0342649</td>\n",
       "<td>0.0142433</td>\n",
       "<td>0.0002186</td></tr>\n",
       "<tr><td></td>\n",
       "<td>2018-08-02 14:41:03</td>\n",
       "<td>32.785 sec</td>\n",
       "<td>199.0</td>\n",
       "<td>0.0338949</td>\n",
       "<td>0.0142167</td>\n",
       "<td>0.0002186</td></tr>\n",
       "<tr><td></td>\n",
       "<td>2018-08-02 14:41:03</td>\n",
       "<td>32.992 sec</td>\n",
       "<td>200.0</td>\n",
       "<td>0.0338676</td>\n",
       "<td>0.0142192</td>\n",
       "<td>0.0002186</td></tr></table></div>"
      ],
      "text/plain": [
       "     timestamp            duration    number_of_trees    training_rmse         training_logloss      training_classification_error\n",
       "---  -------------------  ----------  -----------------  --------------------  --------------------  -------------------------------\n",
       "     2018-08-02 14:40:30  0.011 sec   0.0                nan                   nan                   nan\n",
       "     2018-08-02 14:40:30  0.210 sec   1.0                0.12907368423382026   0.49619123764298795   0.011771747805267359\n",
       "     2018-08-02 14:40:31  0.371 sec   2.0                0.10846522890932808   0.32208832852934494   0.009217707701637356\n",
       "     2018-08-02 14:40:31  1.195 sec   3.0                0.10121904810323366   0.26970806157189237   0.008752950432730134\n",
       "     2018-08-02 14:40:32  1.339 sec   4.0                0.08963092635872488   0.19532135932960962   0.00681044267877412\n",
       "---  ---                  ---         ---                ---                   ---                   ---\n",
       "     2018-08-02 14:40:51  20.391 sec  121.0              0.03567477013932467   0.01427614394418542   0.00021861109086934345\n",
       "     2018-08-02 14:40:55  24.517 sec  148.0              0.03502258905391576   0.014192835018693659  0.00021861109086934345\n",
       "     2018-08-02 14:40:59  28.678 sec  173.0              0.034264883656349436  0.014243281766957513  0.00021861109086934345\n",
       "     2018-08-02 14:41:03  32.785 sec  199.0              0.033894863187324806  0.0142167354138689    0.00021861109086934345\n",
       "     2018-08-02 14:41:03  32.992 sec  200.0              0.033867616210737896  0.014219155894141846  0.00021861109086934345"
      ]
     },
     "metadata": {},
     "output_type": "display_data"
    },
    {
     "name": "stdout",
     "output_type": "stream",
     "text": [
      "\n",
      "See the whole table with table.as_data_frame()\n",
      "Variable Importances: \n"
     ]
    },
    {
     "data": {
      "text/html": [
       "<div style=\"overflow:auto\"><table style=\"width:50%\"><tr><td><b>variable</b></td>\n",
       "<td><b>relative_importance</b></td>\n",
       "<td><b>scaled_importance</b></td>\n",
       "<td><b>percentage</b></td></tr>\n",
       "<tr><td>NDVI_0</td>\n",
       "<td>188450.4687500</td>\n",
       "<td>1.0</td>\n",
       "<td>0.1193510</td></tr>\n",
       "<tr><td>NDVI_n16</td>\n",
       "<td>99374.1640625</td>\n",
       "<td>0.5273225</td>\n",
       "<td>0.0629365</td></tr>\n",
       "<tr><td>LSWI_n32</td>\n",
       "<td>95177.6171875</td>\n",
       "<td>0.5050538</td>\n",
       "<td>0.0602787</td></tr>\n",
       "<tr><td>LSWI_0</td>\n",
       "<td>93691.3359375</td>\n",
       "<td>0.4971669</td>\n",
       "<td>0.0593374</td></tr>\n",
       "<tr><td>LSWI_n48</td>\n",
       "<td>92875.5937500</td>\n",
       "<td>0.4928382</td>\n",
       "<td>0.0588207</td></tr>\n",
       "<tr><td>---</td>\n",
       "<td>---</td>\n",
       "<td>---</td>\n",
       "<td>---</td></tr>\n",
       "<tr><td>VV_GLCMCorrelation_n96</td>\n",
       "<td>443.6259155</td>\n",
       "<td>0.0023541</td>\n",
       "<td>0.0002810</td></tr>\n",
       "<tr><td>VV_Contrast_n80</td>\n",
       "<td>408.5744324</td>\n",
       "<td>0.0021681</td>\n",
       "<td>0.0002588</td></tr>\n",
       "<tr><td>VV_GLCMCorrelation_16</td>\n",
       "<td>347.9339905</td>\n",
       "<td>0.0018463</td>\n",
       "<td>0.0002204</td></tr>\n",
       "<tr><td>VV_GLCMCorrelation_n80</td>\n",
       "<td>347.3798218</td>\n",
       "<td>0.0018433</td>\n",
       "<td>0.0002200</td></tr>\n",
       "<tr><td>VV_Contrast_n64</td>\n",
       "<td>285.5489807</td>\n",
       "<td>0.0015152</td>\n",
       "<td>0.0001808</td></tr></table></div>"
      ],
      "text/plain": [
       "variable                relative_importance    scaled_importance      percentage\n",
       "----------------------  ---------------------  ---------------------  ----------------------\n",
       "NDVI_0                  188450.46875           1.0                    0.11935097931531637\n",
       "NDVI_n16                99374.1640625          0.5273224562488651     0.06293645156826012\n",
       "LSWI_n32                95177.6171875          0.5050537566651715     0.060278660464867705\n",
       "LSWI_0                  93691.3359375          0.4971669031070001     0.05933735676898347\n",
       "LSWI_n48                92875.59375            0.49283822091846086    0.05882072431063654\n",
       "---                     ---                    ---                    ---\n",
       "VV_GLCMCorrelation_n96  443.62591552734375     0.002354071701014773   0.00028096076289458574\n",
       "VV_Contrast_n80         408.5744323730469      0.0021680733143469395  0.000258761673294711\n",
       "VV_GLCMCorrelation_16   347.9339904785156      0.0018462888035587102  0.00022035637680363585\n",
       "VV_GLCMCorrelation_n80  347.37982177734375     0.0018433481438466506  0.00022000540618716843\n",
       "VV_Contrast_n64         285.5489807128906      0.0015152468582697045  0.00018084619643894562"
      ]
     },
     "metadata": {},
     "output_type": "display_data"
    },
    {
     "name": "stdout",
     "output_type": "stream",
     "text": [
      "\n",
      "See the whole table with table.as_data_frame()\n"
     ]
    },
    {
     "data": {
      "text/plain": []
     },
     "execution_count": 98,
     "metadata": {},
     "output_type": "execute_result"
    }
   ],
   "source": [
    "# visualize training scores\n",
    "rf_model"
   ]
  },
  {
   "cell_type": "markdown",
   "metadata": {},
   "source": [
    "### Model evaluation"
   ]
  },
  {
   "cell_type": "code",
   "execution_count": 79,
   "metadata": {},
   "outputs": [
    {
     "data": {
      "text/html": [
       "<div>\n",
       "<style scoped>\n",
       "    .dataframe tbody tr th:only-of-type {\n",
       "        vertical-align: middle;\n",
       "    }\n",
       "\n",
       "    .dataframe tbody tr th {\n",
       "        vertical-align: top;\n",
       "    }\n",
       "\n",
       "    .dataframe thead th {\n",
       "        text-align: right;\n",
       "    }\n",
       "</style>\n",
       "<table border=\"1\" class=\"dataframe\">\n",
       "  <thead>\n",
       "    <tr style=\"text-align: right;\">\n",
       "      <th></th>\n",
       "      <th>1</th>\n",
       "      <th>2</th>\n",
       "      <th>3</th>\n",
       "      <th>4</th>\n",
       "      <th>5</th>\n",
       "      <th>Error</th>\n",
       "      <th>Rate</th>\n",
       "    </tr>\n",
       "  </thead>\n",
       "  <tbody>\n",
       "    <tr>\n",
       "      <th>0</th>\n",
       "      <td>1541.0</td>\n",
       "      <td>16.0</td>\n",
       "      <td>8.0</td>\n",
       "      <td>28.0</td>\n",
       "      <td>0.0</td>\n",
       "      <td>0.032643</td>\n",
       "      <td>52 / 1,593</td>\n",
       "    </tr>\n",
       "    <tr>\n",
       "      <th>1</th>\n",
       "      <td>160.0</td>\n",
       "      <td>411.0</td>\n",
       "      <td>3.0</td>\n",
       "      <td>2.0</td>\n",
       "      <td>0.0</td>\n",
       "      <td>0.286458</td>\n",
       "      <td>165 / 576</td>\n",
       "    </tr>\n",
       "    <tr>\n",
       "      <th>2</th>\n",
       "      <td>9.0</td>\n",
       "      <td>1.0</td>\n",
       "      <td>2174.0</td>\n",
       "      <td>34.0</td>\n",
       "      <td>0.0</td>\n",
       "      <td>0.019838</td>\n",
       "      <td>44 / 2,218</td>\n",
       "    </tr>\n",
       "    <tr>\n",
       "      <th>3</th>\n",
       "      <td>38.0</td>\n",
       "      <td>3.0</td>\n",
       "      <td>457.0</td>\n",
       "      <td>2563.0</td>\n",
       "      <td>34.0</td>\n",
       "      <td>0.171890</td>\n",
       "      <td>532 / 3,095</td>\n",
       "    </tr>\n",
       "    <tr>\n",
       "      <th>4</th>\n",
       "      <td>0.0</td>\n",
       "      <td>0.0</td>\n",
       "      <td>0.0</td>\n",
       "      <td>1.0</td>\n",
       "      <td>2303.0</td>\n",
       "      <td>0.000434</td>\n",
       "      <td>1 / 2,304</td>\n",
       "    </tr>\n",
       "    <tr>\n",
       "      <th>5</th>\n",
       "      <td>1748.0</td>\n",
       "      <td>431.0</td>\n",
       "      <td>2642.0</td>\n",
       "      <td>2628.0</td>\n",
       "      <td>2337.0</td>\n",
       "      <td>0.081136</td>\n",
       "      <td>794 / 9,786</td>\n",
       "    </tr>\n",
       "  </tbody>\n",
       "</table>\n",
       "</div>"
      ],
      "text/plain": [
       "        1      2       3       4       5     Error         Rate\n",
       "0  1541.0   16.0     8.0    28.0     0.0  0.032643   52 / 1,593\n",
       "1   160.0  411.0     3.0     2.0     0.0  0.286458    165 / 576\n",
       "2     9.0    1.0  2174.0    34.0     0.0  0.019838   44 / 2,218\n",
       "3    38.0    3.0   457.0  2563.0    34.0  0.171890  532 / 3,095\n",
       "4     0.0    0.0     0.0     1.0  2303.0  0.000434    1 / 2,304\n",
       "5  1748.0  431.0  2642.0  2628.0  2337.0  0.081136  794 / 9,786"
      ]
     },
     "execution_count": 79,
     "metadata": {},
     "output_type": "execute_result"
    }
   ],
   "source": [
    "rf_perf = rf_v1.model_performance(test)\n",
    "rf_perf.confusion_matrix().as_data_frame()"
   ]
  },
  {
   "cell_type": "code",
   "execution_count": 70,
   "metadata": {},
   "outputs": [
    {
     "name": "stdout",
     "output_type": "stream",
     "text": [
      "drf prediction progress: |████████████████████████████████████████████████| 100%\n"
     ]
    },
    {
     "data": {
      "text/plain": [
       "0.9954493921513025"
      ]
     },
     "execution_count": 70,
     "metadata": {},
     "output_type": "execute_result"
    }
   ],
   "source": [
    "from sklearn.metrics import cohen_kappa_score\n",
    "#from sklearn.metrics import confusion_matrix\n",
    "#from sklearn.metrics import precision_score\n",
    "#from sklearn.metrics import recall_score\n",
    "#from sklearn.metrics import accuracy_score\n",
    "\n",
    "classification = rf_fit2.predict(test)['predict'].as_data_frame().values\n",
    "ground_truth = test['vclass'].as_data_frame().values\n",
    "\n",
    "cohen_kappa_score(classification, ground_truth)"
   ]
  },
  {
   "cell_type": "code",
   "execution_count": 215,
   "metadata": {},
   "outputs": [
    {
     "name": "stdout",
     "output_type": "stream",
     "text": [
      "drf prediction progress: |████████████████████████████████████████████████| 100%\n"
     ]
    },
    {
     "data": {
      "text/plain": [
       "0.756108360769294"
      ]
     },
     "execution_count": 215,
     "metadata": {},
     "output_type": "execute_result"
    }
   ],
   "source": [
    "from sklearn.metrics import cohen_kappa_score\n",
    "\n",
    "cohen_kappa_score(rf_fit2.predict(test)['predict'].as_data_frame().values,\n",
    "                  test['vclass'].as_data_frame().values)"
   ]
  },
  {
   "cell_type": "markdown",
   "metadata": {},
   "source": [
    "### Visualize classification"
   ]
  },
  {
   "cell_type": "code",
   "execution_count": 102,
   "metadata": {},
   "outputs": [
    {
     "data": {
      "text/plain": [
       "<xarray.Dataset>\n",
       "Dimensions:  (time: 3, x: 369, y: 295)\n",
       "Coordinates:\n",
       "  * x        (x) int64 499455 499465 499475 499485 499495 499505 499515 ...\n",
       "  * time     (time) datetime64[us] 2015-11-27 2015-12-21 2016-01-07\n",
       "  * y        (y) int64 425045 425055 425065 425075 425085 425095 425105 ...\n",
       "Data variables:\n",
       "    vclass   (time, x, y) float64 nan nan nan nan nan nan nan nan nan nan ...\n",
       "    predict  (time, x, y) float64 nan nan nan nan nan nan nan nan nan nan ..."
      ]
     },
     "execution_count": 102,
     "metadata": {},
     "output_type": "execute_result"
    }
   ],
   "source": [
    "import xarray as xr\n",
    "import numpy as np\n",
    "import pandas as pd\n",
    "\n",
    "# Join original test dataset and prediction as pandas dataframe\n",
    "resulting_class_df = test.as_data_frame().join(rf_v1.predict(test)['predict'].as_data_frame())\n",
    "# Set pandas MultiIndex from variables to be coordinates\n",
    "resulting_class_df.set_index(['time','x', 'y'], inplace=True)\n",
    "# Return to xarray and keep only ground truth and prediction\n",
    "xarr = xr.Dataset.from_dataframe(resulting_class_df).sortby('time')[['vclass','predict']]\n",
    "# Convert time to np.datetime64\n",
    "xarr['time'] = np.array([np.datetime64(pd.to_datetime(i, unit='us')) for i in xarr.time.values], dtype=np.datetime64)\n",
    "# Visualize array\n",
    "xarr"
   ]
  },
  {
   "cell_type": "code",
   "execution_count": 65,
   "metadata": {},
   "outputs": [],
   "source": [
    "## Create a method to visualize classifications\n",
    "\n",
    "import matplotlib.pyplot as plt\n",
    "from datetime import datetime\n",
    "\n",
    "def compare_predictions(xarr):\n",
    "    \n",
    "    data_to_plot = []\n",
    "    tags = []\n",
    "    \n",
    "    times = xarr.time.values\n",
    "    \n",
    "    for date in [0,1,2]:\n",
    "        predicted = xarr.isel(time=date)['predict']\n",
    "        test = xarr.isel(time=date)['vclass']\n",
    "        data_to_plot += [test, predicted]\n",
    "        tags += ['ground_truth '+str(times[date])[:10], 'classified '+str(times[date])[:10]]\n",
    "\n",
    "    fig, axes = plt.subplots(nrows=3, ncols=2, figsize=(10, 15), sharex=False, sharey=False)\n",
    "    for idx, ax in enumerate(axes.flat):\n",
    "        im = ax.imshow(data_to_plot[idx],cmap='viridis',vmin=1,vmax=5,extent=[0.05,0.5,1,0.05],aspect=0.5)\n",
    "        ax.set_title(tags[idx])\n",
    "        \n",
    "    fig.subplots_adjust(right=0.8)\n",
    "    # put colorbar at desire position\n",
    "    cbar_ax = fig.add_axes([0.85, 0.25, 0.03, 0.5])\n",
    "    fig.colorbar(im, cax=cbar_ax)"
   ]
  },
  {
   "cell_type": "code",
   "execution_count": 103,
   "metadata": {},
   "outputs": [
    {
     "data": {
      "image/png": "[encoded data removed]",
      "text/plain": [
       "<Figure size 720x1080 with 7 Axes>"
      ]
     },
     "metadata": {},
     "output_type": "display_data"
    }
   ],
   "source": [
    "compare_predictions(xarr)"
   ]
  },
  {
   "cell_type": "markdown",
   "metadata": {},
   "source": [
    "## Evaluate train/test splits\n",
    "\n",
    "As data availability is very limited, we evaluate the stability of the model results, given different configuration of the dataset splitting into train and test datasets. This split is done at polygon level to avoid using correlated pixels from the same field in both train and test dataframes. \n",
    "\n",
    "The results show that there is still a high variability in the models performance (~20%) in the different split configurations."
   ]
  },
  {
   "cell_type": "code",
   "execution_count": 7,
   "metadata": {},
   "outputs": [
    {
     "name": "stdout",
     "output_type": "stream",
     "text": [
      "Parse progress: |█████████████████████████████████████████████████████████| 100%\n",
      "drf Model Build progress: |███████████████████████████████████████████████| 100%\n",
      "drf prediction progress: |████████████████████████████████████████████████| 100%\n",
      "predict    0.760774\n",
      "dtype: float64\n",
      "Parse progress: |█████████████████████████████████████████████████████████| 100%\n",
      "drf Model Build progress: |███████████████████████████████████████████████| 100%\n",
      "drf prediction progress: |████████████████████████████████████████████████| 100%\n",
      "predict    0.782191\n",
      "dtype: float64\n",
      "Parse progress: |█████████████████████████████████████████████████████████| 100%\n",
      "drf Model Build progress: |███████████████████████████████████████████████| 100%\n",
      "drf prediction progress: |████████████████████████████████████████████████| 100%\n",
      "predict    0.820605\n",
      "dtype: float64\n",
      "Parse progress: |█████████████████████████████████████████████████████████| 100%\n",
      "drf Model Build progress: |███████████████████████████████████████████████| 100%\n",
      "drf prediction progress: |████████████████████████████████████████████████| 100%\n",
      "predict    0.74105\n",
      "dtype: float64\n",
      "Parse progress: |█████████████████████████████████████████████████████████| 100%\n",
      "drf Model Build progress: |███████████████████████████████████████████████| 100%\n",
      "drf prediction progress: |████████████████████████████████████████████████| 100%\n",
      "predict    0.681926\n",
      "dtype: float64\n",
      "Parse progress: |█████████████████████████████████████████████████████████| 100%\n",
      "drf Model Build progress: |███████████████████████████████████████████████| 100%\n",
      "drf prediction progress: |████████████████████████████████████████████████| 100%\n",
      "predict    0.830739\n",
      "dtype: float64\n",
      "Parse progress: |█████████████████████████████████████████████████████████| 100%\n",
      "drf Model Build progress: |███████████████████████████████████████████████| 100%\n",
      "drf prediction progress: |████████████████████████████████████████████████| 100%\n",
      "predict    0.894543\n",
      "dtype: float64\n",
      "Parse progress: |█████████████████████████████████████████████████████████| 100%\n",
      "drf Model Build progress: |███████████████████████████████████████████████| 100%\n",
      "drf prediction progress: |████████████████████████████████████████████████| 100%\n",
      "predict    0.889222\n",
      "dtype: float64\n",
      "Parse progress: |█████████████████████████████████████████████████████████| 100%\n",
      "drf Model Build progress: |███████████████████████████████████████████████| 100%\n",
      "drf prediction progress: |████████████████████████████████████████████████| 100%\n",
      "predict    0.733324\n",
      "dtype: float64\n"
     ]
    }
   ],
   "source": [
    "\n",
    "performances = []\n",
    "\n",
    "for seed in [11,22,33,44,55,66,77,88,99]:\n",
    "    \n",
    "    data = h2o.import_file(os.environ['WIN_SVR_DATA']+'Saldana/parquet'+str(seed)+'/')\n",
    "    \n",
    "    data['vclass'] = data['vclass'].asfactor()\n",
    "    \n",
    "    train = data[data['tt']=='train']\n",
    "    \n",
    "    test = data[data['tt']=='test']\n",
    "    \n",
    "    rf_fit2 = H2ORandomForestEstimator(model_id='rf_fit2', ntrees=200, seed=1)\n",
    "    \n",
    "    rf_fit2.train(x=x, y=y, training_frame=train)\n",
    "    \n",
    "    perf = (rf_fit2.predict(test)['predict']==test['vclass']).as_data_frame(use_pandas=True).mean()\n",
    "    \n",
    "    performances.append(perf)\n",
    "    \n",
    "    print(perf)\n",
    "    "
   ]
  },
  {
   "cell_type": "code",
   "execution_count": 93,
   "metadata": {},
   "outputs": [
    {
     "data": {
      "image/png": "[encoded data removed]",
      "text/plain": [
       "<Figure size 432x432 with 1 Axes>"
      ]
     },
     "metadata": {},
     "output_type": "display_data"
    }
   ],
   "source": [
    "from matplotlib import pyplot as plt\n",
    "\n",
    "peffloat = list(map(lambda x: x[0], performances))\n",
    "\n",
    "fig, ax1 = plt.subplots(figsize=(6, 6))\n",
    "\n",
    "ax1.boxplot(peffloat)\n",
    "\n",
    "ax1.set_xticklabels(['9 split configurations'])\n",
    "\n",
    "ax1.set_ylabel('Proportion of correct class')\n",
    "\n",
    "plt.show()"
   ]
  },
  {
   "cell_type": "markdown",
   "metadata": {
    "scrolled": true
   },
   "source": [
    "## Evaluate PCA for number of features reduction"
   ]
  },
  {
   "cell_type": "code",
   "execution_count": 246,
   "metadata": {},
   "outputs": [
    {
     "name": "stdout",
     "output_type": "stream",
     "text": [
      "pca Model Build progress: |███████████████████████████████████████████████| 100%\n"
     ]
    },
    {
     "name": "stderr",
     "output_type": "stream",
     "text": [
      "/home/azalazar/anaconda3/envs/models3/lib/python3.6/site-packages/h2o/job.py:69: UserWarning: _train: Dataset used may contain fewer number of rows due to removal of rows with NA/missing values.  If this is not desirable, set impute_missing argument in pca call to TRUE/True/true/... depending on the client language.\n",
      "  warnings.warn(w)\n"
     ]
    }
   ],
   "source": [
    "from h2o.transforms.decomposition import H2OPCA\n",
    "\n",
    "pca_decomp = H2OPCA(k=5, transform=\"Normalize\", pca_method=\"Randomized\")\n",
    "    \n",
    "pca_decomp.train(x=x[95:], training_frame=trna)"
   ]
  },
  {
   "cell_type": "code",
   "execution_count": 255,
   "metadata": {},
   "outputs": [
    {
     "name": "stdout",
     "output_type": "stream",
     "text": [
      "pca prediction progress: |████████████████████████████████████████████████| 100%\n"
     ]
    },
    {
     "data": {
      "text/html": [
       "<table>\n",
       "<thead>\n",
       "<tr><th style=\"text-align: right;\">      PC1</th><th style=\"text-align: right;\">        PC2</th><th style=\"text-align: right;\">      PC3</th><th style=\"text-align: right;\">       PC4</th><th style=\"text-align: right;\">       PC5</th></tr>\n",
       "</thead>\n",
       "<tbody>\n",
       "<tr><td style=\"text-align: right;\"> 0.90946 </td><td style=\"text-align: right;\">-0.0436199 </td><td style=\"text-align: right;\">-0.344552</td><td style=\"text-align: right;\">-0.357488 </td><td style=\"text-align: right;\">-0.374252 </td></tr>\n",
       "<tr><td style=\"text-align: right;\"> 0.164619</td><td style=\"text-align: right;\"> 0.00636798</td><td style=\"text-align: right;\">-0.488122</td><td style=\"text-align: right;\">-0.355426 </td><td style=\"text-align: right;\">-0.137801 </td></tr>\n",
       "<tr><td style=\"text-align: right;\">-2.10022 </td><td style=\"text-align: right;\">-0.780076  </td><td style=\"text-align: right;\">-0.172951</td><td style=\"text-align: right;\">-0.324009 </td><td style=\"text-align: right;\">-0.705758 </td></tr>\n",
       "<tr><td style=\"text-align: right;\"> 0.330836</td><td style=\"text-align: right;\">-1.13984   </td><td style=\"text-align: right;\">-0.277284</td><td style=\"text-align: right;\">-0.0133179</td><td style=\"text-align: right;\">-0.727431 </td></tr>\n",
       "<tr><td style=\"text-align: right;\">-1.40602 </td><td style=\"text-align: right;\">-1.37454   </td><td style=\"text-align: right;\">-0.151375</td><td style=\"text-align: right;\">-0.555844 </td><td style=\"text-align: right;\"> 0.184074 </td></tr>\n",
       "<tr><td style=\"text-align: right;\">-1.67164 </td><td style=\"text-align: right;\">-1.26164   </td><td style=\"text-align: right;\">-0.108125</td><td style=\"text-align: right;\">-0.469677 </td><td style=\"text-align: right;\"> 0.0750802</td></tr>\n",
       "<tr><td style=\"text-align: right;\">-1.42925 </td><td style=\"text-align: right;\">-1.0184    </td><td style=\"text-align: right;\">-0.116186</td><td style=\"text-align: right;\">-0.632901 </td><td style=\"text-align: right;\"> 0.207976 </td></tr>\n",
       "<tr><td style=\"text-align: right;\">-0.257357</td><td style=\"text-align: right;\">-0.418097  </td><td style=\"text-align: right;\"> 0.24194 </td><td style=\"text-align: right;\">-0.332715 </td><td style=\"text-align: right;\">-0.58057  </td></tr>\n",
       "<tr><td style=\"text-align: right;\">-0.138028</td><td style=\"text-align: right;\">-0.583739  </td><td style=\"text-align: right;\"> 0.310093</td><td style=\"text-align: right;\">-0.637453 </td><td style=\"text-align: right;\">-0.514822 </td></tr>\n",
       "<tr><td style=\"text-align: right;\">-1.9083  </td><td style=\"text-align: right;\">-0.484657  </td><td style=\"text-align: right;\">-0.339135</td><td style=\"text-align: right;\">-0.349974 </td><td style=\"text-align: right;\"> 0.718678 </td></tr>\n",
       "</tbody>\n",
       "</table>"
      ]
     },
     "metadata": {},
     "output_type": "display_data"
    },
    {
     "data": {
      "text/plain": []
     },
     "execution_count": 255,
     "metadata": {},
     "output_type": "execute_result"
    }
   ],
   "source": [
    "pca_decomp.predict(train)"
   ]
  },
  {
   "cell_type": "code",
   "execution_count": 252,
   "metadata": {},
   "outputs": [
    {
     "name": "stdout",
     "output_type": "stream",
     "text": [
      "pca prediction progress: |████████████████████████████████████████████████| 100%\n"
     ]
    },
    {
     "data": {
      "text/plain": [
       "(17656, 5)"
      ]
     },
     "execution_count": 252,
     "metadata": {},
     "output_type": "execute_result"
    }
   ],
   "source": [
    "pca_decomp.predict(train).shape"
   ]
  },
  {
   "cell_type": "markdown",
   "metadata": {},
   "source": [
    "## Other model configurations"
   ]
  },
  {
   "cell_type": "code",
   "execution_count": 31,
   "metadata": {},
   "outputs": [],
   "source": [
    "from h2o.estimators.random_forest import H2ORandomForestEstimator\n",
    "\n",
    "rf_v1 = H2ORandomForestEstimator(model_id=\"rf_covType_v1\", ntrees=500, stopping_rounds=2,\n",
    "                                 score_each_iteration=True, seed=100)\n",
    "\n",
    "rf_fit2 = H2ORandomForestEstimator(model_id='rf_fit2', ntrees=200, seed=1)"
   ]
  },
  {
   "cell_type": "code",
   "execution_count": 96,
   "metadata": {},
   "outputs": [
    {
     "name": "stdout",
     "output_type": "stream",
     "text": [
      "H2O session _sid_8aa9 closed.\n"
     ]
    }
   ],
   "source": [
    "# Close h2o cluster\n",
    "h2o.cluster().shutdown(prompt=False)"
   ]
  },
  {
   "cell_type": "code",
   "execution_count": 196,
   "metadata": {},
   "outputs": [],
   "source": [
    "# Import H2O GBM:\n",
    "from h2o.estimators.gbm import H2OGradientBoostingEstimator\n",
    "\n",
    "gbm_fit1 = H2OGradientBoostingEstimator(model_id='gbm_fit1', seed=1)\n",
    "gbm_fit2 = H2OGradientBoostingEstimator(model_id='gbm_fit2', ntrees=500, seed=1)\n",
    "gbm_fit3 = H2OGradientBoostingEstimator(model_id='gbm_fit3', ntrees=500, \n",
    "                                        score_tree_interval=5,     #used for early stopping\n",
    "                                        stopping_rounds=3,         #used for early stopping\n",
    "                                        stopping_metric='misclassification',     #used for early stopping\n",
    "                                        #stopping_tolerance=0.0005, #used for early stopping\n",
    "                                        seed=1)"
   ]
  },
  {
   "cell_type": "code",
   "execution_count": 161,
   "metadata": {},
   "outputs": [],
   "source": [
    "# Import H2O DL <to test>\n",
    "from h2o.estimators.deeplearning import H2ODeepLearningEstimator"
   ]
  },
  {
   "cell_type": "code",
   "execution_count": 169,
   "metadata": {},
   "outputs": [
    {
     "name": "stdout",
     "output_type": "stream",
     "text": [
      "naivebayes Model Build progress: |████████████████████████████████████████| 100%\n"
     ]
    }
   ],
   "source": [
    "from h2o.estimators.naive_bayes import H2ONaiveBayesEstimator\n",
    "nb_fit1 = H2ONaiveBayesEstimator(model_id='nb_fit1')\n",
    "nb_fit2 = H2ONaiveBayesEstimator(model_id='nb_fit2', laplace=6)"
   ]
  }
 ],
 "metadata": {
  "kernelspec": {
   "display_name": "Python 3",
   "language": "python",
   "name": "python3"
  },
  "language_info": {
   "codemirror_mode": {
    "name": "ipython",
    "version": 3
   },
   "file_extension": ".py",
   "mimetype": "text/x-python",
   "name": "python",
   "nbconvert_exporter": "python",
   "pygments_lexer": "ipython3",
   "version": "3.6.5"
  }
 },
 "nbformat": 4,
 "nbformat_minor": 2
}
