{
 "cells": [
  {
   "cell_type": "markdown",
   "metadata": {},
   "source": [
    "## Test ML models\n",
    "### h2o.ai\n",
    "Transform netCDF serialized files to h2o dataframes via xarray and pandas."
   ]
  },
  {
   "cell_type": "code",
   "execution_count": 1,
   "metadata": {},
   "outputs": [
    {
     "data": {
      "text/html": [
       "<table style=\"border: 2px solid white;\">\n",
       "<tr>\n",
       "<td style=\"vertical-align: top; border: 0px solid white\">\n",
       "<h3>Client</h3>\n",
       "<ul>\n",
       "  <li><b>Scheduler: </b>tcp://127.0.0.1:40524\n",
       "  <li><b>Dashboard: </b><a href='http://127.0.0.1:57090/status' target='_blank'>http://127.0.0.1:57090/status</a>\n",
       "</ul>\n",
       "</td>\n",
       "<td style=\"vertical-align: top; border: 0px solid white\">\n",
       "<h3>Cluster</h3>\n",
       "<ul>\n",
       "  <li><b>Workers: </b>8</li>\n",
       "  <li><b>Cores: </b>24</li>\n",
       "  <li><b>Memory: </b>33.55 GB</li>\n",
       "</ul>\n",
       "</td>\n",
       "</tr>\n",
       "</table>"
      ],
      "text/plain": [
       "<Client: scheduler='tcp://127.0.0.1:40524' processes=8 cores=24>"
      ]
     },
     "execution_count": 1,
     "metadata": {},
     "output_type": "execute_result"
    }
   ],
   "source": [
    "from dask.distributed import Client\n",
    "client = Client(n_workers=8)\n",
    "client"
   ]
  },
  {
   "cell_type": "code",
   "execution_count": 3,
   "metadata": {},
   "outputs": [],
   "source": [
    "client.close()"
   ]
  },
  {
   "cell_type": "code",
   "execution_count": 1,
   "metadata": {},
   "outputs": [],
   "source": [
    "# Load data\n",
    "import sys\n",
    "sys.path.append('../b_Temporal_Stack')\n",
    "import regionstack\n",
    "import eotempstack"
   ]
  },
  {
   "cell_type": "code",
   "execution_count": 2,
   "metadata": {},
   "outputs": [
    {
     "name": "stdout",
     "output_type": "stream",
     "text": [
      "S1 object initialized from /mnt/workspace_cluster_6/TRANSVERSAL_PROJECTS/MADR/COMPONENTE_2/Imagenes_Satelitales/Temp/asalazar_tests/data/Saldana_training_2015/pre/\n",
      "Creation of new S1 stacks failed, reading existing stacks\n",
      "Reading 8 S1 stack files\n",
      "S1 object initialized from /mnt/workspace_cluster_6/TRANSVERSAL_PROJECTS/MADR/COMPONENTE_2/Imagenes_Satelitales/Temp/asalazar_tests/data/Saldana_training_2015/pre/\n",
      "Creation of new S1 stacks failed, reading existing stacks\n",
      "Reading 6 S1 stack files\n",
      "S2 object initialized from /mnt/workspace_cluster_6/TRANSVERSAL_PROJECTS/MADR/COMPONENTE_2/Imagenes_Satelitales/Temp/asalazar_tests/data/Saldana_training_2015/pre/\n",
      "Reading 6 S2 stack files\n",
      "LE07 object initialized from /mnt/workspace_cluster_6/TRANSVERSAL_PROJECTS/MADR/COMPONENTE_2/Imagenes_Satelitales/Temp/asalazar_tests/data/Saldana_training_2015/pre/\n",
      "Reading 4 LE07 stack files\n",
      "LC08 object initialized from /mnt/workspace_cluster_6/TRANSVERSAL_PROJECTS/MADR/COMPONENTE_2/Imagenes_Satelitales/Temp/asalazar_tests/data/Saldana_training_2015/pre/\n",
      "Reading 4 LC08 stack files\n"
     ]
    }
   ],
   "source": [
    "saldana = regionstack.regionStack('Saldana_training_2015')"
   ]
  },
  {
   "cell_type": "code",
   "execution_count": 3,
   "metadata": {},
   "outputs": [
    {
     "data": {
      "text/plain": [
       "<xarray.Dataset>\n",
       "Dimensions:  (time: 8, x: 2979, y: 3631)\n",
       "Coordinates:\n",
       "  * time     (time) datetime64[ns] 2015-12-11 2015-12-21 2015-12-31 ...\n",
       "  * x        (x) float64 4.889e+05 4.889e+05 4.889e+05 4.889e+05 4.889e+05 ...\n",
       "  * y        (y) float64 4.485e+05 4.484e+05 4.484e+05 4.484e+05 4.484e+05 ...\n",
       "    mask     (time, y, x) int8 dask.array<shape=(8, 3631, 2979), chunksize=(1, 1000, 1000)>\n",
       "Data variables:\n",
       "    blue     (time, y, x) uint16 dask.array<shape=(8, 3631, 2979), chunksize=(8, 1000, 1000)>\n",
       "    swir1    (time, y, x) uint16 dask.array<shape=(8, 3631, 2979), chunksize=(8, 1000, 1000)>\n",
       "    swir2    (time, y, x) uint16 dask.array<shape=(8, 3631, 2979), chunksize=(8, 1000, 1000)>\n",
       "    green    (time, y, x) uint16 dask.array<shape=(8, 3631, 2979), chunksize=(8, 1000, 1000)>\n",
       "    nir      (time, y, x) uint16 dask.array<shape=(8, 3631, 2979), chunksize=(8, 1000, 1000)>\n",
       "    NDVI     (time, y, x) float32 dask.array<shape=(8, 3631, 2979), chunksize=(8, 1000, 1000)>\n",
       "    LSWI     (time, y, x) float32 dask.array<shape=(8, 3631, 2979), chunksize=(8, 1000, 1000)>\n",
       "    red      (time, y, x) uint16 dask.array<shape=(8, 3631, 2979), chunksize=(8, 1000, 1000)>\n",
       "    NDVI_c   (time, x, y) float64 dask.array<shape=(8, 2979, 3631), chunksize=(1, 1000, 1000)>\n",
       "    LSWI_c   (time, x, y) float64 dask.array<shape=(8, 2979, 3631), chunksize=(1, 1000, 1000)>"
      ]
     },
     "execution_count": 3,
     "metadata": {},
     "output_type": "execute_result"
    }
   ],
   "source": [
    "saldana.S2"
   ]
  },
  {
   "cell_type": "code",
   "execution_count": 6,
   "metadata": {
    "scrolled": true
   },
   "outputs": [
    {
     "name": "stdout",
     "output_type": "stream",
     "text": [
      "Processing band NDVI for date 2015-12-21T00:00:00.000000000\n",
      "Processing band NDVI for date 2015-12-31T00:00:00.000000000\n",
      "Processing band NDVI for date 2016-01-10T00:00:00.000000000\n",
      "Processing band NDVI for date 2016-01-20T00:00:00.000000000\n",
      "Processing band NDVI for date 2016-01-30T00:00:00.000000000\n",
      "Processing band NDVI for date 2016-02-09T00:00:00.000000000\n",
      "Processing band NDVI for date 2016-02-19T00:00:00.000000000\n",
      "Processing band LSWI for date 2015-12-21T00:00:00.000000000\n",
      "Processing band LSWI for date 2015-12-31T00:00:00.000000000\n",
      "Processing band LSWI for date 2016-01-10T00:00:00.000000000\n",
      "Processing band LSWI for date 2016-01-20T00:00:00.000000000\n",
      "Processing band LSWI for date 2016-01-30T00:00:00.000000000\n",
      "Processing band LSWI for date 2016-02-09T00:00:00.000000000\n",
      "Processing band LSWI for date 2016-02-19T00:00:00.000000000\n"
     ]
    }
   ],
   "source": [
    "saldana.calcTempVariation('S2', ['NDVI','LSWI'])#,'red', 'green','blue','nir','swir1','swir2'])"
   ]
  },
  {
   "cell_type": "code",
   "execution_count": 12,
   "metadata": {},
   "outputs": [
    {
     "name": "stdout",
     "output_type": "stream",
     "text": [
      "Processing band VV for date 2015-12-21T00:00:00.000000000\n",
      "Processing band VV for date 2016-01-14T00:00:00.000000000\n",
      "Processing band VV for date 2016-02-07T00:00:00.000000000\n",
      "Processing band VV for date 2015-12-28T00:00:00.000000000\n",
      "Processing band VV for date 2016-01-21T00:00:00.000000000\n",
      "Processing band VV for date 2016-02-14T00:00:00.000000000\n",
      "Processing band VH for date 2015-12-28T00:00:00.000000000\n",
      "Processing band VH for date 2016-01-21T00:00:00.000000000\n",
      "Processing band VH for date 2016-02-14T00:00:00.000000000\n"
     ]
    }
   ],
   "source": [
    "saldana.calcTempVariation('S1_ASCENDING', ['VV'])\n",
    "saldana.calcTempVariation('S1_DESCENDING', ['VV','VH'])\n",
    "#saldana.S1_ASCENDING #[['NDVI_c','LSWI_c']]"
   ]
  },
  {
   "cell_type": "code",
   "execution_count": 17,
   "metadata": {},
   "outputs": [],
   "source": [
    "ratio = saldana.S1_DESCENDING.VV / saldana.S1_DESCENDING.VH"
   ]
  },
  {
   "cell_type": "code",
   "execution_count": 3,
   "metadata": {
    "scrolled": true
   },
   "outputs": [
    {
     "name": "stdout",
     "output_type": "stream",
     "text": [
      "Adding dataset with classes as class_ds attribute of regionStack\n"
     ]
    }
   ],
   "source": [
    "shp_file = '/home/azalazar/data/saldana.shp'\n",
    "\n",
    "saldana.regionTrainingClasses(shp_file, testset=0.3)"
   ]
  },
  {
   "cell_type": "code",
   "execution_count": 4,
   "metadata": {},
   "outputs": [
    {
     "data": {
      "text/plain": [
       "<xarray.Dataset>\n",
       "Dimensions:  (time: 19, x: 2979, y: 3631)\n",
       "Coordinates:\n",
       "  * x        (x) float64 4.889e+05 4.889e+05 4.889e+05 4.889e+05 4.889e+05 ...\n",
       "  * y        (y) float64 4.485e+05 4.484e+05 4.484e+05 4.484e+05 4.484e+05 ...\n",
       "  * time     (time) datetime64[ns] 2015-11-20 2015-11-27 2015-11-28 ...\n",
       "Data variables:\n",
       "    train    (time, y, x) uint8 dask.array<shape=(19, 3631, 2979), chunksize=(1, 3631, 2979)>\n",
       "    test     (time, y, x) uint8 dask.array<shape=(19, 3631, 2979), chunksize=(1, 3631, 2979)>"
      ]
     },
     "execution_count": 4,
     "metadata": {},
     "output_type": "execute_result"
    }
   ],
   "source": [
    "saldana.class_ds"
   ]
  },
  {
   "cell_type": "code",
   "execution_count": 6,
   "metadata": {},
   "outputs": [],
   "source": [
    "saldana.train.to_netcdf(saldana.data_directory+'train.nc')#, chunks={'time':1})"
   ]
  },
  {
   "cell_type": "code",
   "execution_count": 21,
   "metadata": {},
   "outputs": [
    {
     "data": {
      "text/html": [
       "<table style=\"border: 2px solid white;\">\n",
       "<tr>\n",
       "<td style=\"vertical-align: top; border: 0px solid white\">\n",
       "<h3>Client</h3>\n",
       "<ul>\n",
       "  <li><b>Scheduler: </b>tcp://127.0.0.1:41298\n",
       "  <li><b>Dashboard: </b><a href='http://127.0.0.1:55865/status' target='_blank'>http://127.0.0.1:55865/status</a>\n",
       "</ul>\n",
       "</td>\n",
       "<td style=\"vertical-align: top; border: 0px solid white\">\n",
       "<h3>Cluster</h3>\n",
       "<ul>\n",
       "  <li><b>Workers: </b>4</li>\n",
       "  <li><b>Cores: </b>24</li>\n",
       "  <li><b>Memory: </b>33.55 GB</li>\n",
       "</ul>\n",
       "</td>\n",
       "</tr>\n",
       "</table>"
      ],
      "text/plain": [
       "<Client: scheduler='tcp://127.0.0.1:41298' processes=4 cores=24>"
      ]
     },
     "execution_count": 21,
     "metadata": {},
     "output_type": "execute_result"
    }
   ],
   "source": [
    "client"
   ]
  },
  {
   "cell_type": "code",
   "execution_count": 27,
   "metadata": {},
   "outputs": [
    {
     "data": {
      "text/plain": [
       "<xarray.Dataset>\n",
       "Dimensions:   (time: 4, x: 2981, y: 3635)\n",
       "Coordinates:\n",
       "  * y         (y) float64 4.122e+05 4.122e+05 4.122e+05 4.122e+05 4.122e+05 ...\n",
       "  * x         (x) float64 4.889e+05 4.889e+05 4.889e+05 4.889e+05 4.889e+05 ...\n",
       "  * time      (time) datetime64[ns] 2015-12-11 2015-12-21 2015-12-31 2016-01-10\n",
       "    mask      (time, x, y) bool dask.array<shape=(4, 2981, 3635), chunksize=(1, 1000, 1220)>\n",
       "Data variables:\n",
       "    NDVI      (time, x, y) float32 dask.array<shape=(4, 2981, 3635), chunksize=(1, 1000, 1220)>\n",
       "    LSWI      (time, x, y) float32 dask.array<shape=(4, 2981, 3635), chunksize=(1, 1000, 1220)>\n",
       "    VV_ASC    (time, x, y) float32 dask.array<shape=(4, 2981, 3635), chunksize=(1, 1000, 1220)>\n",
       "    VV_DSC    (time, x, y) float32 dask.array<shape=(4, 2981, 3635), chunksize=(1, 1000, 1220)>\n",
       "    VH_DSC    (time, x, y) float32 dask.array<shape=(4, 2981, 3635), chunksize=(1, 1000, 1220)>\n",
       "    train     (time, x, y) float64 dask.array<shape=(4, 2981, 3635), chunksize=(1, 1000, 1220)>\n",
       "    test      (time, x, y) float64 dask.array<shape=(4, 2981, 3635), chunksize=(1, 1000, 1220)>\n",
       "    NDVI_c    (x, y, time) float64 dask.array<shape=(2981, 3635, 4), chunksize=(1000, 1220, 1)>\n",
       "    LSWI_c    (x, y, time) float64 dask.array<shape=(2981, 3635, 4), chunksize=(1000, 1220, 1)>\n",
       "    VV_ASC_c  (x, y, time) float64 dask.array<shape=(2981, 3635, 4), chunksize=(1000, 1220, 1)>\n",
       "    VV_DSC_c  (x, y, time) float64 dask.array<shape=(2981, 3635, 4), chunksize=(1000, 1220, 1)>\n",
       "    VH_DSC_c  (x, y, time) float64 dask.array<shape=(2981, 3635, 4), chunksize=(1000, 1220, 1)>"
      ]
     },
     "execution_count": 27,
     "metadata": {},
     "output_type": "execute_result"
    }
   ],
   "source": [
    "t_dir = '/mnt/workspace_cluster_6/TRANSVERSAL_PROJECTS/MADR/COMPONENTE_2/Imagenes_Satelitales/Temp/asalazar_tests/data/Saldana_training_2015/'\n",
    "train_data = xr.open_mfdataset(t_dir+'train.nc', chunks={'time':1, 'x':1000,'y':1220})\n",
    "train_data"
   ]
  },
  {
   "cell_type": "code",
   "execution_count": 18,
   "metadata": {},
   "outputs": [
    {
     "data": {
      "text/plain": [
       "<matplotlib.collections.QuadMesh at 0x7fa633931b38>"
      ]
     },
     "execution_count": 18,
     "metadata": {},
     "output_type": "execute_result"
    },
    {
     "data": {
      "image/png": "[encoded data removed]",
      "text/plain": [
       "<Figure size 432x288 with 2 Axes>"
      ]
     },
     "metadata": {},
     "output_type": "display_data"
    }
   ],
   "source": [
    "train_data.train.isel(time=0).plot()"
   ]
  },
  {
   "cell_type": "code",
   "execution_count": 37,
   "metadata": {},
   "outputs": [
    {
     "data": {
      "text/plain": [
       "[<matplotlib.lines.Line2D at 0x7febc641bb50>]"
      ]
     },
     "execution_count": 37,
     "metadata": {},
     "output_type": "execute_result"
    },
    {
     "data": {
      "image/png": "[encoded data removed]",
      "text/plain": [
       "<Figure size 432x288 with 1 Axes>"
      ]
     },
     "metadata": {},
     "output_type": "display_data"
    }
   ],
   "source": [
    "saldana.train.time.plot(marker='o')"
   ]
  },
  {
   "cell_type": "code",
   "execution_count": 34,
   "metadata": {},
   "outputs": [],
   "source": [
    "import h2o"
   ]
  },
  {
   "cell_type": "code",
   "execution_count": 35,
   "metadata": {},
   "outputs": [
    {
     "name": "stdout",
     "output_type": "stream",
     "text": [
      "Checking whether there is an H2O instance running at http://localhost:54321..... not found.\n",
      "Attempting to start a local H2O server...\n",
      "  Java Version: openjdk version \"1.8.0_121\"; OpenJDK Runtime Environment (Zulu 8.20.0.5-linux64) (build 1.8.0_121-b15); OpenJDK 64-Bit Server VM (Zulu 8.20.0.5-linux64) (build 25.121-b15, mixed mode)\n",
      "  Starting server from /home/azalazar/anaconda3/envs/models3/h2o_jar/h2o.jar\n",
      "  Ice root: /tmp/tmpu493eakk\n",
      "  JVM stdout: /tmp/tmpu493eakk/h2o_azalazar_started_from_python.out\n",
      "  JVM stderr: /tmp/tmpu493eakk/h2o_azalazar_started_from_python.err\n",
      "  Server is running at http://127.0.0.1:54321\n",
      "Connecting to H2O server at http://127.0.0.1:54321... successful.\n"
     ]
    },
    {
     "data": {
      "text/html": [
       "<div style=\"overflow:auto\"><table style=\"width:50%\"><tr><td>H2O cluster uptime:</td>\n",
       "<td>07 secs</td></tr>\n",
       "<tr><td>H2O cluster timezone:</td>\n",
       "<td>America/Bogota</td></tr>\n",
       "<tr><td>H2O data parsing timezone:</td>\n",
       "<td>UTC</td></tr>\n",
       "<tr><td>H2O cluster version:</td>\n",
       "<td>3.18.0.2</td></tr>\n",
       "<tr><td>H2O cluster version age:</td>\n",
       "<td>2 months and 25 days </td></tr>\n",
       "<tr><td>H2O cluster name:</td>\n",
       "<td>H2O_from_python_azalazar_mzv5cg</td></tr>\n",
       "<tr><td>H2O cluster total nodes:</td>\n",
       "<td>1</td></tr>\n",
       "<tr><td>H2O cluster free memory:</td>\n",
       "<td>7.111 Gb</td></tr>\n",
       "<tr><td>H2O cluster total cores:</td>\n",
       "<td>24</td></tr>\n",
       "<tr><td>H2O cluster allowed cores:</td>\n",
       "<td>24</td></tr>\n",
       "<tr><td>H2O cluster status:</td>\n",
       "<td>accepting new members, healthy</td></tr>\n",
       "<tr><td>H2O connection url:</td>\n",
       "<td>http://127.0.0.1:54321</td></tr>\n",
       "<tr><td>H2O connection proxy:</td>\n",
       "<td>None</td></tr>\n",
       "<tr><td>H2O internal security:</td>\n",
       "<td>False</td></tr>\n",
       "<tr><td>H2O API Extensions:</td>\n",
       "<td>XGBoost, Algos, AutoML, Core V3, Core V4</td></tr>\n",
       "<tr><td>Python version:</td>\n",
       "<td>3.6.5 final</td></tr></table></div>"
      ],
      "text/plain": [
       "--------------------------  ----------------------------------------\n",
       "H2O cluster uptime:         07 secs\n",
       "H2O cluster timezone:       America/Bogota\n",
       "H2O data parsing timezone:  UTC\n",
       "H2O cluster version:        3.18.0.2\n",
       "H2O cluster version age:    2 months and 25 days\n",
       "H2O cluster name:           H2O_from_python_azalazar_mzv5cg\n",
       "H2O cluster total nodes:    1\n",
       "H2O cluster free memory:    7.111 Gb\n",
       "H2O cluster total cores:    24\n",
       "H2O cluster allowed cores:  24\n",
       "H2O cluster status:         accepting new members, healthy\n",
       "H2O connection url:         http://127.0.0.1:54321\n",
       "H2O connection proxy:\n",
       "H2O internal security:      False\n",
       "H2O API Extensions:         XGBoost, Algos, AutoML, Core V3, Core V4\n",
       "Python version:             3.6.5 final\n",
       "--------------------------  ----------------------------------------"
      ]
     },
     "metadata": {},
     "output_type": "display_data"
    }
   ],
   "source": [
    "# Initialize h2o cluster\n",
    "h2o.init(nthreads = -1, max_mem_size = 8)"
   ]
  },
  {
   "cell_type": "code",
   "execution_count": 28,
   "metadata": {},
   "outputs": [],
   "source": [
    "# Select only data from a date and transform to pandas dataframe\n",
    "data_pd = train_data.to_dask_dataframe()"
   ]
  },
  {
   "cell_type": "code",
   "execution_count": 29,
   "metadata": {},
   "outputs": [
    {
     "data": {
      "text/html": [
       "<div><strong>Dask DataFrame Structure:</strong></div>\n",
       "<div>\n",
       "<style scoped>\n",
       "    .dataframe tbody tr th:only-of-type {\n",
       "        vertical-align: middle;\n",
       "    }\n",
       "\n",
       "    .dataframe tbody tr th {\n",
       "        vertical-align: top;\n",
       "    }\n",
       "\n",
       "    .dataframe thead th {\n",
       "        text-align: right;\n",
       "    }\n",
       "</style>\n",
       "<table border=\"1\" class=\"dataframe\">\n",
       "  <thead>\n",
       "    <tr style=\"text-align: right;\">\n",
       "      <th></th>\n",
       "      <th>time</th>\n",
       "      <th>x</th>\n",
       "      <th>y</th>\n",
       "      <th>mask</th>\n",
       "      <th>NDVI</th>\n",
       "      <th>LSWI</th>\n",
       "      <th>VV_ASC</th>\n",
       "      <th>VV_DSC</th>\n",
       "      <th>VH_DSC</th>\n",
       "      <th>train</th>\n",
       "      <th>test</th>\n",
       "      <th>NDVI_c</th>\n",
       "      <th>LSWI_c</th>\n",
       "      <th>VV_ASC_c</th>\n",
       "      <th>VV_DSC_c</th>\n",
       "      <th>VH_DSC_c</th>\n",
       "    </tr>\n",
       "    <tr>\n",
       "      <th>npartitions=4</th>\n",
       "      <th></th>\n",
       "      <th></th>\n",
       "      <th></th>\n",
       "      <th></th>\n",
       "      <th></th>\n",
       "      <th></th>\n",
       "      <th></th>\n",
       "      <th></th>\n",
       "      <th></th>\n",
       "      <th></th>\n",
       "      <th></th>\n",
       "      <th></th>\n",
       "      <th></th>\n",
       "      <th></th>\n",
       "      <th></th>\n",
       "      <th></th>\n",
       "    </tr>\n",
       "  </thead>\n",
       "  <tbody>\n",
       "    <tr>\n",
       "      <th>0</th>\n",
       "      <td>datetime64[ns]</td>\n",
       "      <td>float64</td>\n",
       "      <td>float64</td>\n",
       "      <td>bool</td>\n",
       "      <td>float32</td>\n",
       "      <td>float32</td>\n",
       "      <td>float32</td>\n",
       "      <td>float32</td>\n",
       "      <td>float32</td>\n",
       "      <td>float64</td>\n",
       "      <td>float64</td>\n",
       "      <td>float64</td>\n",
       "      <td>float64</td>\n",
       "      <td>float64</td>\n",
       "      <td>float64</td>\n",
       "      <td>float64</td>\n",
       "    </tr>\n",
       "    <tr>\n",
       "      <th>10835935</th>\n",
       "      <td>...</td>\n",
       "      <td>...</td>\n",
       "      <td>...</td>\n",
       "      <td>...</td>\n",
       "      <td>...</td>\n",
       "      <td>...</td>\n",
       "      <td>...</td>\n",
       "      <td>...</td>\n",
       "      <td>...</td>\n",
       "      <td>...</td>\n",
       "      <td>...</td>\n",
       "      <td>...</td>\n",
       "      <td>...</td>\n",
       "      <td>...</td>\n",
       "      <td>...</td>\n",
       "      <td>...</td>\n",
       "    </tr>\n",
       "    <tr>\n",
       "      <th>21671870</th>\n",
       "      <td>...</td>\n",
       "      <td>...</td>\n",
       "      <td>...</td>\n",
       "      <td>...</td>\n",
       "      <td>...</td>\n",
       "      <td>...</td>\n",
       "      <td>...</td>\n",
       "      <td>...</td>\n",
       "      <td>...</td>\n",
       "      <td>...</td>\n",
       "      <td>...</td>\n",
       "      <td>...</td>\n",
       "      <td>...</td>\n",
       "      <td>...</td>\n",
       "      <td>...</td>\n",
       "      <td>...</td>\n",
       "    </tr>\n",
       "    <tr>\n",
       "      <th>32507805</th>\n",
       "      <td>...</td>\n",
       "      <td>...</td>\n",
       "      <td>...</td>\n",
       "      <td>...</td>\n",
       "      <td>...</td>\n",
       "      <td>...</td>\n",
       "      <td>...</td>\n",
       "      <td>...</td>\n",
       "      <td>...</td>\n",
       "      <td>...</td>\n",
       "      <td>...</td>\n",
       "      <td>...</td>\n",
       "      <td>...</td>\n",
       "      <td>...</td>\n",
       "      <td>...</td>\n",
       "      <td>...</td>\n",
       "    </tr>\n",
       "    <tr>\n",
       "      <th>43343739</th>\n",
       "      <td>...</td>\n",
       "      <td>...</td>\n",
       "      <td>...</td>\n",
       "      <td>...</td>\n",
       "      <td>...</td>\n",
       "      <td>...</td>\n",
       "      <td>...</td>\n",
       "      <td>...</td>\n",
       "      <td>...</td>\n",
       "      <td>...</td>\n",
       "      <td>...</td>\n",
       "      <td>...</td>\n",
       "      <td>...</td>\n",
       "      <td>...</td>\n",
       "      <td>...</td>\n",
       "      <td>...</td>\n",
       "    </tr>\n",
       "  </tbody>\n",
       "</table>\n",
       "</div>\n",
       "<div>Dask Name: concat-indexed, 1960 tasks</div>"
      ],
      "text/plain": [
       "Dask DataFrame Structure:\n",
       "                         time        x        y  mask     NDVI     LSWI   VV_ASC   VV_DSC   VH_DSC    train     test   NDVI_c   LSWI_c VV_ASC_c VV_DSC_c VH_DSC_c\n",
       "npartitions=4                                                                                                                                                    \n",
       "0              datetime64[ns]  float64  float64  bool  float32  float32  float32  float32  float32  float64  float64  float64  float64  float64  float64  float64\n",
       "10835935                  ...      ...      ...   ...      ...      ...      ...      ...      ...      ...      ...      ...      ...      ...      ...      ...\n",
       "21671870                  ...      ...      ...   ...      ...      ...      ...      ...      ...      ...      ...      ...      ...      ...      ...      ...\n",
       "32507805                  ...      ...      ...   ...      ...      ...      ...      ...      ...      ...      ...      ...      ...      ...      ...      ...\n",
       "43343739                  ...      ...      ...   ...      ...      ...      ...      ...      ...      ...      ...      ...      ...      ...      ...      ...\n",
       "Dask Name: concat-indexed, 1960 tasks"
      ]
     },
     "execution_count": 29,
     "metadata": {},
     "output_type": "execute_result"
    }
   ],
   "source": [
    "data_pd"
   ]
  },
  {
   "cell_type": "code",
   "execution_count": 19,
   "metadata": {},
   "outputs": [],
   "source": [
    "data_train = data_pd[data_pd['train']>0]"
   ]
  },
  {
   "cell_type": "code",
   "execution_count": 30,
   "metadata": {},
   "outputs": [],
   "source": [
    "data_test = data_pd[data_pd['test']>0]"
   ]
  },
  {
   "cell_type": "code",
   "execution_count": 31,
   "metadata": {},
   "outputs": [
    {
     "data": {
      "text/html": [
       "<div><strong>Dask DataFrame Structure:</strong></div>\n",
       "<div>\n",
       "<style scoped>\n",
       "    .dataframe tbody tr th:only-of-type {\n",
       "        vertical-align: middle;\n",
       "    }\n",
       "\n",
       "    .dataframe tbody tr th {\n",
       "        vertical-align: top;\n",
       "    }\n",
       "\n",
       "    .dataframe thead th {\n",
       "        text-align: right;\n",
       "    }\n",
       "</style>\n",
       "<table border=\"1\" class=\"dataframe\">\n",
       "  <thead>\n",
       "    <tr style=\"text-align: right;\">\n",
       "      <th></th>\n",
       "      <th>time</th>\n",
       "      <th>x</th>\n",
       "      <th>y</th>\n",
       "      <th>mask</th>\n",
       "      <th>NDVI</th>\n",
       "      <th>LSWI</th>\n",
       "      <th>VV_ASC</th>\n",
       "      <th>VV_DSC</th>\n",
       "      <th>VH_DSC</th>\n",
       "      <th>train</th>\n",
       "      <th>test</th>\n",
       "      <th>NDVI_c</th>\n",
       "      <th>LSWI_c</th>\n",
       "      <th>VV_ASC_c</th>\n",
       "      <th>VV_DSC_c</th>\n",
       "      <th>VH_DSC_c</th>\n",
       "    </tr>\n",
       "    <tr>\n",
       "      <th>npartitions=4</th>\n",
       "      <th></th>\n",
       "      <th></th>\n",
       "      <th></th>\n",
       "      <th></th>\n",
       "      <th></th>\n",
       "      <th></th>\n",
       "      <th></th>\n",
       "      <th></th>\n",
       "      <th></th>\n",
       "      <th></th>\n",
       "      <th></th>\n",
       "      <th></th>\n",
       "      <th></th>\n",
       "      <th></th>\n",
       "      <th></th>\n",
       "      <th></th>\n",
       "    </tr>\n",
       "  </thead>\n",
       "  <tbody>\n",
       "    <tr>\n",
       "      <th>0</th>\n",
       "      <td>datetime64[ns]</td>\n",
       "      <td>float64</td>\n",
       "      <td>float64</td>\n",
       "      <td>bool</td>\n",
       "      <td>float32</td>\n",
       "      <td>float32</td>\n",
       "      <td>float32</td>\n",
       "      <td>float32</td>\n",
       "      <td>float32</td>\n",
       "      <td>float64</td>\n",
       "      <td>float64</td>\n",
       "      <td>float64</td>\n",
       "      <td>float64</td>\n",
       "      <td>float64</td>\n",
       "      <td>float64</td>\n",
       "      <td>float64</td>\n",
       "    </tr>\n",
       "    <tr>\n",
       "      <th>10835935</th>\n",
       "      <td>...</td>\n",
       "      <td>...</td>\n",
       "      <td>...</td>\n",
       "      <td>...</td>\n",
       "      <td>...</td>\n",
       "      <td>...</td>\n",
       "      <td>...</td>\n",
       "      <td>...</td>\n",
       "      <td>...</td>\n",
       "      <td>...</td>\n",
       "      <td>...</td>\n",
       "      <td>...</td>\n",
       "      <td>...</td>\n",
       "      <td>...</td>\n",
       "      <td>...</td>\n",
       "      <td>...</td>\n",
       "    </tr>\n",
       "    <tr>\n",
       "      <th>21671870</th>\n",
       "      <td>...</td>\n",
       "      <td>...</td>\n",
       "      <td>...</td>\n",
       "      <td>...</td>\n",
       "      <td>...</td>\n",
       "      <td>...</td>\n",
       "      <td>...</td>\n",
       "      <td>...</td>\n",
       "      <td>...</td>\n",
       "      <td>...</td>\n",
       "      <td>...</td>\n",
       "      <td>...</td>\n",
       "      <td>...</td>\n",
       "      <td>...</td>\n",
       "      <td>...</td>\n",
       "      <td>...</td>\n",
       "    </tr>\n",
       "    <tr>\n",
       "      <th>32507805</th>\n",
       "      <td>...</td>\n",
       "      <td>...</td>\n",
       "      <td>...</td>\n",
       "      <td>...</td>\n",
       "      <td>...</td>\n",
       "      <td>...</td>\n",
       "      <td>...</td>\n",
       "      <td>...</td>\n",
       "      <td>...</td>\n",
       "      <td>...</td>\n",
       "      <td>...</td>\n",
       "      <td>...</td>\n",
       "      <td>...</td>\n",
       "      <td>...</td>\n",
       "      <td>...</td>\n",
       "      <td>...</td>\n",
       "    </tr>\n",
       "    <tr>\n",
       "      <th>43343739</th>\n",
       "      <td>...</td>\n",
       "      <td>...</td>\n",
       "      <td>...</td>\n",
       "      <td>...</td>\n",
       "      <td>...</td>\n",
       "      <td>...</td>\n",
       "      <td>...</td>\n",
       "      <td>...</td>\n",
       "      <td>...</td>\n",
       "      <td>...</td>\n",
       "      <td>...</td>\n",
       "      <td>...</td>\n",
       "      <td>...</td>\n",
       "      <td>...</td>\n",
       "      <td>...</td>\n",
       "      <td>...</td>\n",
       "    </tr>\n",
       "  </tbody>\n",
       "</table>\n",
       "</div>\n",
       "<div>Dask Name: getitem, 1972 tasks</div>"
      ],
      "text/plain": [
       "Dask DataFrame Structure:\n",
       "                         time        x        y  mask     NDVI     LSWI   VV_ASC   VV_DSC   VH_DSC    train     test   NDVI_c   LSWI_c VV_ASC_c VV_DSC_c VH_DSC_c\n",
       "npartitions=4                                                                                                                                                    \n",
       "0              datetime64[ns]  float64  float64  bool  float32  float32  float32  float32  float32  float64  float64  float64  float64  float64  float64  float64\n",
       "10835935                  ...      ...      ...   ...      ...      ...      ...      ...      ...      ...      ...      ...      ...      ...      ...      ...\n",
       "21671870                  ...      ...      ...   ...      ...      ...      ...      ...      ...      ...      ...      ...      ...      ...      ...      ...\n",
       "32507805                  ...      ...      ...   ...      ...      ...      ...      ...      ...      ...      ...      ...      ...      ...      ...      ...\n",
       "43343739                  ...      ...      ...   ...      ...      ...      ...      ...      ...      ...      ...      ...      ...      ...      ...      ...\n",
       "Dask Name: getitem, 1972 tasks"
      ]
     },
     "execution_count": 31,
     "metadata": {},
     "output_type": "execute_result"
    }
   ],
   "source": [
    "data_test"
   ]
  },
  {
   "cell_type": "code",
   "execution_count": 7,
   "metadata": {},
   "outputs": [
    {
     "data": {
      "text/html": [
       "<div><strong>Dask DataFrame Structure:</strong></div>\n",
       "<div>\n",
       "<style scoped>\n",
       "    .dataframe tbody tr th:only-of-type {\n",
       "        vertical-align: middle;\n",
       "    }\n",
       "\n",
       "    .dataframe tbody tr th {\n",
       "        vertical-align: top;\n",
       "    }\n",
       "\n",
       "    .dataframe thead th {\n",
       "        text-align: right;\n",
       "    }\n",
       "</style>\n",
       "<table border=\"1\" class=\"dataframe\">\n",
       "  <thead>\n",
       "    <tr style=\"text-align: right;\">\n",
       "      <th></th>\n",
       "      <th>time</th>\n",
       "      <th>x</th>\n",
       "      <th>y</th>\n",
       "      <th>mask</th>\n",
       "      <th>NDVI</th>\n",
       "      <th>LSWI</th>\n",
       "      <th>VV_ASC</th>\n",
       "      <th>VV_DSC</th>\n",
       "      <th>VH_DSC</th>\n",
       "      <th>train</th>\n",
       "      <th>test</th>\n",
       "      <th>NDVI_c</th>\n",
       "      <th>LSWI_c</th>\n",
       "      <th>VV_ASC_c</th>\n",
       "      <th>VV_DSC_c</th>\n",
       "      <th>VH_DSC_c</th>\n",
       "    </tr>\n",
       "    <tr>\n",
       "      <th>npartitions=4</th>\n",
       "      <th></th>\n",
       "      <th></th>\n",
       "      <th></th>\n",
       "      <th></th>\n",
       "      <th></th>\n",
       "      <th></th>\n",
       "      <th></th>\n",
       "      <th></th>\n",
       "      <th></th>\n",
       "      <th></th>\n",
       "      <th></th>\n",
       "      <th></th>\n",
       "      <th></th>\n",
       "      <th></th>\n",
       "      <th></th>\n",
       "      <th></th>\n",
       "    </tr>\n",
       "  </thead>\n",
       "  <tbody>\n",
       "    <tr>\n",
       "      <th>0</th>\n",
       "      <td>datetime64[ns]</td>\n",
       "      <td>float64</td>\n",
       "      <td>float64</td>\n",
       "      <td>bool</td>\n",
       "      <td>float32</td>\n",
       "      <td>float32</td>\n",
       "      <td>float32</td>\n",
       "      <td>float32</td>\n",
       "      <td>float32</td>\n",
       "      <td>float64</td>\n",
       "      <td>float64</td>\n",
       "      <td>float64</td>\n",
       "      <td>float64</td>\n",
       "      <td>float64</td>\n",
       "      <td>float64</td>\n",
       "      <td>float64</td>\n",
       "    </tr>\n",
       "    <tr>\n",
       "      <th>10835935</th>\n",
       "      <td>...</td>\n",
       "      <td>...</td>\n",
       "      <td>...</td>\n",
       "      <td>...</td>\n",
       "      <td>...</td>\n",
       "      <td>...</td>\n",
       "      <td>...</td>\n",
       "      <td>...</td>\n",
       "      <td>...</td>\n",
       "      <td>...</td>\n",
       "      <td>...</td>\n",
       "      <td>...</td>\n",
       "      <td>...</td>\n",
       "      <td>...</td>\n",
       "      <td>...</td>\n",
       "      <td>...</td>\n",
       "    </tr>\n",
       "    <tr>\n",
       "      <th>21671870</th>\n",
       "      <td>...</td>\n",
       "      <td>...</td>\n",
       "      <td>...</td>\n",
       "      <td>...</td>\n",
       "      <td>...</td>\n",
       "      <td>...</td>\n",
       "      <td>...</td>\n",
       "      <td>...</td>\n",
       "      <td>...</td>\n",
       "      <td>...</td>\n",
       "      <td>...</td>\n",
       "      <td>...</td>\n",
       "      <td>...</td>\n",
       "      <td>...</td>\n",
       "      <td>...</td>\n",
       "      <td>...</td>\n",
       "    </tr>\n",
       "    <tr>\n",
       "      <th>32507805</th>\n",
       "      <td>...</td>\n",
       "      <td>...</td>\n",
       "      <td>...</td>\n",
       "      <td>...</td>\n",
       "      <td>...</td>\n",
       "      <td>...</td>\n",
       "      <td>...</td>\n",
       "      <td>...</td>\n",
       "      <td>...</td>\n",
       "      <td>...</td>\n",
       "      <td>...</td>\n",
       "      <td>...</td>\n",
       "      <td>...</td>\n",
       "      <td>...</td>\n",
       "      <td>...</td>\n",
       "      <td>...</td>\n",
       "    </tr>\n",
       "    <tr>\n",
       "      <th>43343739</th>\n",
       "      <td>...</td>\n",
       "      <td>...</td>\n",
       "      <td>...</td>\n",
       "      <td>...</td>\n",
       "      <td>...</td>\n",
       "      <td>...</td>\n",
       "      <td>...</td>\n",
       "      <td>...</td>\n",
       "      <td>...</td>\n",
       "      <td>...</td>\n",
       "      <td>...</td>\n",
       "      <td>...</td>\n",
       "      <td>...</td>\n",
       "      <td>...</td>\n",
       "      <td>...</td>\n",
       "      <td>...</td>\n",
       "    </tr>\n",
       "  </tbody>\n",
       "</table>\n",
       "</div>\n",
       "<div>Dask Name: concat-indexed, 376 tasks</div>"
      ],
      "text/plain": [
       "Dask DataFrame Structure:\n",
       "                         time        x        y  mask     NDVI     LSWI   VV_ASC   VV_DSC   VH_DSC    train     test   NDVI_c   LSWI_c VV_ASC_c VV_DSC_c VH_DSC_c\n",
       "npartitions=4                                                                                                                                                    \n",
       "0              datetime64[ns]  float64  float64  bool  float32  float32  float32  float32  float32  float64  float64  float64  float64  float64  float64  float64\n",
       "10835935                  ...      ...      ...   ...      ...      ...      ...      ...      ...      ...      ...      ...      ...      ...      ...      ...\n",
       "21671870                  ...      ...      ...   ...      ...      ...      ...      ...      ...      ...      ...      ...      ...      ...      ...      ...\n",
       "32507805                  ...      ...      ...   ...      ...      ...      ...      ...      ...      ...      ...      ...      ...      ...      ...      ...\n",
       "43343739                  ...      ...      ...   ...      ...      ...      ...      ...      ...      ...      ...      ...      ...      ...      ...      ...\n",
       "Dask Name: concat-indexed, 376 tasks"
      ]
     },
     "execution_count": 7,
     "metadata": {},
     "output_type": "execute_result"
    }
   ],
   "source": [
    "# Remove multi-index, as it is not preserved in h20\n",
    "data_pd#_v2.reset_index(inplace=True)"
   ]
  },
  {
   "cell_type": "code",
   "execution_count": 32,
   "metadata": {},
   "outputs": [],
   "source": [
    "# Inspect dataframe\n",
    "# Select only data from a date and transform to pandas dataframe\n",
    "from dask.diagnostics import ProgressBar\n",
    "from dask.dataframe import to_parquet\n",
    "with ProgressBar():\n",
    "    to_parquet(data_test, saldana.data_directory+'test_parquet/')#train_temp-*.parquet')\n",
    "    #data_pd.to_csv(, chunksize=10835935)"
   ]
  },
  {
   "cell_type": "code",
   "execution_count": 36,
   "metadata": {},
   "outputs": [
    {
     "name": "stdout",
     "output_type": "stream",
     "text": [
      "Parse progress: |█████████████████████████████████████████████████████████| 100%\n"
     ]
    },
    {
     "data": {
      "text/plain": [
       "(41916, 17)"
      ]
     },
     "execution_count": 36,
     "metadata": {},
     "output_type": "execute_result"
    }
   ],
   "source": [
    "# Load data to h2o frame\n",
    "data = h2o.import_file(saldana.data_directory+'train_parquet/')  # 3764 rows x 14 columns\n",
    "data.shape"
   ]
  },
  {
   "cell_type": "code",
   "execution_count": 37,
   "metadata": {},
   "outputs": [
    {
     "data": {
      "text/html": [
       "<table>\n",
       "<thead>\n",
       "<tr><th style=\"text-align: right;\">       time</th><th style=\"text-align: right;\">     x</th><th style=\"text-align: right;\">     y</th><th style=\"text-align: right;\">  mask</th><th style=\"text-align: right;\">    NDVI</th><th style=\"text-align: right;\">    LSWI</th><th style=\"text-align: right;\">   VV_ASC</th><th style=\"text-align: right;\">   VV_DSC</th><th style=\"text-align: right;\">   VH_DSC</th><th style=\"text-align: right;\">  train</th><th style=\"text-align: right;\">  test</th><th style=\"text-align: right;\">  NDVI_c</th><th style=\"text-align: right;\">  LSWI_c</th><th style=\"text-align: right;\">  VV_ASC_c</th><th style=\"text-align: right;\">  VV_DSC_c</th><th style=\"text-align: right;\">  VH_DSC_c</th><th style=\"text-align: right;\">  __index_level_0__</th></tr>\n",
       "</thead>\n",
       "<tbody>\n",
       "<tr><td style=\"text-align: right;\">1.44979e+15</td><td style=\"text-align: right;\">499455</td><td style=\"text-align: right;\">425195</td><td style=\"text-align: right;\">     1</td><td style=\"text-align: right;\">0.709615</td><td style=\"text-align: right;\">0.21326 </td><td style=\"text-align: right;\"> -9.08935</td><td style=\"text-align: right;\"> -9.71602</td><td style=\"text-align: right;\"> -9.71602</td><td style=\"text-align: right;\">      3</td><td style=\"text-align: right;\">     0</td><td style=\"text-align: right;\">     nan</td><td style=\"text-align: right;\">     nan</td><td style=\"text-align: right;\">       nan</td><td style=\"text-align: right;\">       nan</td><td style=\"text-align: right;\">       nan</td><td style=\"text-align: right;\">        3.8435e+06 </td></tr>\n",
       "<tr><td style=\"text-align: right;\">1.44979e+15</td><td style=\"text-align: right;\">499455</td><td style=\"text-align: right;\">425205</td><td style=\"text-align: right;\">     1</td><td style=\"text-align: right;\">0.717918</td><td style=\"text-align: right;\">0.255152</td><td style=\"text-align: right;\">-10.2519 </td><td style=\"text-align: right;\"> -8.3694 </td><td style=\"text-align: right;\"> -8.3694 </td><td style=\"text-align: right;\">      3</td><td style=\"text-align: right;\">     0</td><td style=\"text-align: right;\">     nan</td><td style=\"text-align: right;\">     nan</td><td style=\"text-align: right;\">       nan</td><td style=\"text-align: right;\">       nan</td><td style=\"text-align: right;\">       nan</td><td style=\"text-align: right;\">        3.8435e+06 </td></tr>\n",
       "<tr><td style=\"text-align: right;\">1.44979e+15</td><td style=\"text-align: right;\">499455</td><td style=\"text-align: right;\">425215</td><td style=\"text-align: right;\">     1</td><td style=\"text-align: right;\">0.704536</td><td style=\"text-align: right;\">0.229661</td><td style=\"text-align: right;\">-11.7565 </td><td style=\"text-align: right;\"> -8.20925</td><td style=\"text-align: right;\"> -8.20925</td><td style=\"text-align: right;\">      3</td><td style=\"text-align: right;\">     0</td><td style=\"text-align: right;\">     nan</td><td style=\"text-align: right;\">     nan</td><td style=\"text-align: right;\">       nan</td><td style=\"text-align: right;\">       nan</td><td style=\"text-align: right;\">       nan</td><td style=\"text-align: right;\">        3.8435e+06 </td></tr>\n",
       "<tr><td style=\"text-align: right;\">1.44979e+15</td><td style=\"text-align: right;\">499465</td><td style=\"text-align: right;\">425185</td><td style=\"text-align: right;\">     1</td><td style=\"text-align: right;\">0.712936</td><td style=\"text-align: right;\">0.252391</td><td style=\"text-align: right;\"> -9.27636</td><td style=\"text-align: right;\">-10.0572 </td><td style=\"text-align: right;\">-10.0572 </td><td style=\"text-align: right;\">      3</td><td style=\"text-align: right;\">     0</td><td style=\"text-align: right;\">     nan</td><td style=\"text-align: right;\">     nan</td><td style=\"text-align: right;\">       nan</td><td style=\"text-align: right;\">       nan</td><td style=\"text-align: right;\">       nan</td><td style=\"text-align: right;\">        3.84713e+06</td></tr>\n",
       "<tr><td style=\"text-align: right;\">1.44979e+15</td><td style=\"text-align: right;\">499465</td><td style=\"text-align: right;\">425195</td><td style=\"text-align: right;\">     1</td><td style=\"text-align: right;\">0.706736</td><td style=\"text-align: right;\">0.239459</td><td style=\"text-align: right;\"> -9.9639 </td><td style=\"text-align: right;\"> -9.31317</td><td style=\"text-align: right;\"> -9.31317</td><td style=\"text-align: right;\">      3</td><td style=\"text-align: right;\">     0</td><td style=\"text-align: right;\">     nan</td><td style=\"text-align: right;\">     nan</td><td style=\"text-align: right;\">       nan</td><td style=\"text-align: right;\">       nan</td><td style=\"text-align: right;\">       nan</td><td style=\"text-align: right;\">        3.84713e+06</td></tr>\n",
       "<tr><td style=\"text-align: right;\">1.44979e+15</td><td style=\"text-align: right;\">499465</td><td style=\"text-align: right;\">425205</td><td style=\"text-align: right;\">     1</td><td style=\"text-align: right;\">0.722325</td><td style=\"text-align: right;\">0.249866</td><td style=\"text-align: right;\">-11.2325 </td><td style=\"text-align: right;\"> -8.88681</td><td style=\"text-align: right;\"> -8.88681</td><td style=\"text-align: right;\">      3</td><td style=\"text-align: right;\">     0</td><td style=\"text-align: right;\">     nan</td><td style=\"text-align: right;\">     nan</td><td style=\"text-align: right;\">       nan</td><td style=\"text-align: right;\">       nan</td><td style=\"text-align: right;\">       nan</td><td style=\"text-align: right;\">        3.84714e+06</td></tr>\n",
       "<tr><td style=\"text-align: right;\">1.44979e+15</td><td style=\"text-align: right;\">499465</td><td style=\"text-align: right;\">425215</td><td style=\"text-align: right;\">     1</td><td style=\"text-align: right;\">0.722034</td><td style=\"text-align: right;\">0.241716</td><td style=\"text-align: right;\">-10.3556 </td><td style=\"text-align: right;\"> -7.81855</td><td style=\"text-align: right;\"> -7.81855</td><td style=\"text-align: right;\">      3</td><td style=\"text-align: right;\">     0</td><td style=\"text-align: right;\">     nan</td><td style=\"text-align: right;\">     nan</td><td style=\"text-align: right;\">       nan</td><td style=\"text-align: right;\">       nan</td><td style=\"text-align: right;\">       nan</td><td style=\"text-align: right;\">        3.84714e+06</td></tr>\n",
       "<tr><td style=\"text-align: right;\">1.44979e+15</td><td style=\"text-align: right;\">499465</td><td style=\"text-align: right;\">425225</td><td style=\"text-align: right;\">     1</td><td style=\"text-align: right;\">0.690714</td><td style=\"text-align: right;\">0.22491 </td><td style=\"text-align: right;\"> -8.91777</td><td style=\"text-align: right;\"> -8.10482</td><td style=\"text-align: right;\"> -8.10482</td><td style=\"text-align: right;\">      3</td><td style=\"text-align: right;\">     0</td><td style=\"text-align: right;\">     nan</td><td style=\"text-align: right;\">     nan</td><td style=\"text-align: right;\">       nan</td><td style=\"text-align: right;\">       nan</td><td style=\"text-align: right;\">       nan</td><td style=\"text-align: right;\">        3.84714e+06</td></tr>\n",
       "<tr><td style=\"text-align: right;\">1.44979e+15</td><td style=\"text-align: right;\">499465</td><td style=\"text-align: right;\">425235</td><td style=\"text-align: right;\">     1</td><td style=\"text-align: right;\">0.711845</td><td style=\"text-align: right;\">0.225125</td><td style=\"text-align: right;\"> -9.23218</td><td style=\"text-align: right;\">-10.1214 </td><td style=\"text-align: right;\">-10.1214 </td><td style=\"text-align: right;\">      3</td><td style=\"text-align: right;\">     0</td><td style=\"text-align: right;\">     nan</td><td style=\"text-align: right;\">     nan</td><td style=\"text-align: right;\">       nan</td><td style=\"text-align: right;\">       nan</td><td style=\"text-align: right;\">       nan</td><td style=\"text-align: right;\">        3.84714e+06</td></tr>\n",
       "<tr><td style=\"text-align: right;\">1.44979e+15</td><td style=\"text-align: right;\">499465</td><td style=\"text-align: right;\">425245</td><td style=\"text-align: right;\">     1</td><td style=\"text-align: right;\">0.681194</td><td style=\"text-align: right;\">0.207536</td><td style=\"text-align: right;\">-10.0666 </td><td style=\"text-align: right;\">-12.4578 </td><td style=\"text-align: right;\">-12.4578 </td><td style=\"text-align: right;\">      3</td><td style=\"text-align: right;\">     0</td><td style=\"text-align: right;\">     nan</td><td style=\"text-align: right;\">     nan</td><td style=\"text-align: right;\">       nan</td><td style=\"text-align: right;\">       nan</td><td style=\"text-align: right;\">       nan</td><td style=\"text-align: right;\">        3.84714e+06</td></tr>\n",
       "</tbody>\n",
       "</table>"
      ]
     },
     "metadata": {},
     "output_type": "display_data"
    },
    {
     "data": {
      "text/plain": []
     },
     "execution_count": 37,
     "metadata": {},
     "output_type": "execute_result"
    }
   ],
   "source": [
    "data"
   ]
  },
  {
   "cell_type": "code",
   "execution_count": 38,
   "metadata": {},
   "outputs": [],
   "source": [
    "data['train'] = data['train'].asfactor()\n",
    "data['test'] = data['test'].asfactor() #encode the class response as a factor\n",
    "#after encoding, this shows the 5 factor levels, in this dataset '2' is missing!!!"
   ]
  },
  {
   "cell_type": "code",
   "execution_count": 39,
   "metadata": {},
   "outputs": [
    {
     "data": {
      "text/plain": [
       "[['1', '2', '3', '4', '5']]"
      ]
     },
     "execution_count": 39,
     "metadata": {},
     "output_type": "execute_result"
    }
   ],
   "source": [
    "data['train'].levels()"
   ]
  },
  {
   "cell_type": "code",
   "execution_count": 40,
   "metadata": {},
   "outputs": [
    {
     "data": {
      "text/plain": [
       "[['0']]"
      ]
     },
     "execution_count": 40,
     "metadata": {},
     "output_type": "execute_result"
    }
   ],
   "source": [
    "data['test'].levels()"
   ]
  },
  {
   "cell_type": "code",
   "execution_count": 41,
   "metadata": {},
   "outputs": [],
   "source": [
    "# To train and test the model using only this data, split data\n",
    "train, valid = data.split_frame(ratios=[0.5], seed=1)\n",
    "# train = splits[0]\n",
    "# valid = splits[1]\n",
    "# test = splits[2]"
   ]
  },
  {
   "cell_type": "code",
   "execution_count": 43,
   "metadata": {},
   "outputs": [
    {
     "name": "stdout",
     "output_type": "stream",
     "text": [
      "21049\n",
      "20867\n"
     ]
    }
   ],
   "source": [
    "# Show number of observations from each dataset\n",
    "print(train.nrow)\n",
    "print(valid.nrow)\n",
    "#print test.nrow"
   ]
  },
  {
   "cell_type": "code",
   "execution_count": 44,
   "metadata": {},
   "outputs": [],
   "source": [
    "# Define response variables and predictors\n",
    "y = 'train'\n",
    "x = list(data.columns)"
   ]
  },
  {
   "cell_type": "code",
   "execution_count": 46,
   "metadata": {},
   "outputs": [],
   "source": [
    "x.remove(y)  #remove the response\n",
    "x.remove('time')\n",
    "x.remove('x')\n",
    "x.remove('y')\n",
    "x.remove('test')\n",
    "x.remove('mask')\n",
    "x.remove('__index_level_0__')\n",
    "#x.remove('qa_cloud') #remove cloud mask"
   ]
  },
  {
   "cell_type": "code",
   "execution_count": 47,
   "metadata": {},
   "outputs": [
    {
     "data": {
      "text/plain": [
       "['NDVI',\n",
       " 'LSWI',\n",
       " 'VV_ASC',\n",
       " 'VV_DSC',\n",
       " 'VH_DSC',\n",
       " 'NDVI_c',\n",
       " 'LSWI_c',\n",
       " 'VV_ASC_c',\n",
       " 'VV_DSC_c',\n",
       " 'VH_DSC_c']"
      ]
     },
     "execution_count": 47,
     "metadata": {},
     "output_type": "execute_result"
    }
   ],
   "source": [
    "# Show predictors\n",
    "x"
   ]
  },
  {
   "cell_type": "code",
   "execution_count": 48,
   "metadata": {},
   "outputs": [],
   "source": [
    "# test random forest\n",
    "from h2o.estimators.random_forest import H2ORandomForestEstimator"
   ]
  },
  {
   "cell_type": "code",
   "execution_count": 49,
   "metadata": {},
   "outputs": [],
   "source": [
    "# Initialize model\n",
    "rf_v1 = H2ORandomForestEstimator(\n",
    "    model_id=\"rf_covType_v1\",\n",
    "    ntrees=200,\n",
    "    stopping_rounds=2,\n",
    "    score_each_iteration=True,\n",
    "    seed=1000000)"
   ]
  },
  {
   "cell_type": "code",
   "execution_count": 52,
   "metadata": {},
   "outputs": [
    {
     "name": "stdout",
     "output_type": "stream",
     "text": [
      "drf Model Build progress: |███████████████████████████████████████████████| 100%\n"
     ]
    }
   ],
   "source": [
    "# Train model\n",
    "rf_v1.train(x, y, training_frame=train, validation_frame=valid)"
   ]
  },
  {
   "cell_type": "code",
   "execution_count": 53,
   "metadata": {},
   "outputs": [
    {
     "name": "stdout",
     "output_type": "stream",
     "text": [
      "Model Details\n",
      "=============\n",
      "H2ORandomForestEstimator :  Distributed Random Forest\n",
      "Model Key:  rf_covType_v1\n",
      "\n",
      "\n",
      "ModelMetricsMultinomial: drf\n",
      "** Reported on train data. **\n",
      "\n",
      "MSE: 0.0671766011544988\n",
      "RMSE: 0.2591844925038896\n",
      "LogLoss: 0.31171953686334875\n",
      "Mean Per-Class Error: 0.0716122913201176\n",
      "Confusion Matrix: Row labels: Actual class; Column labels: Predicted class\n",
      "\n"
     ]
    },
    {
     "data": {
      "text/html": [
       "<div style=\"overflow:auto\"><table style=\"width:50%\"><tr><td><b>1</b></td>\n",
       "<td><b>2</b></td>\n",
       "<td><b>3</b></td>\n",
       "<td><b>4</b></td>\n",
       "<td><b>5</b></td>\n",
       "<td><b>Error</b></td>\n",
       "<td><b>Rate</b></td></tr>\n",
       "<tr><td>4363.0</td>\n",
       "<td>25.0</td>\n",
       "<td>77.0</td>\n",
       "<td>138.0</td>\n",
       "<td>4.0</td>\n",
       "<td>0.0529629</td>\n",
       "<td>244 / 4,607</td></tr>\n",
       "<tr><td>21.0</td>\n",
       "<td>2627.0</td>\n",
       "<td>64.0</td>\n",
       "<td>181.0</td>\n",
       "<td>1.0</td>\n",
       "<td>0.0922598</td>\n",
       "<td>267 / 2,894</td></tr>\n",
       "<tr><td>54.0</td>\n",
       "<td>57.0</td>\n",
       "<td>4789.0</td>\n",
       "<td>286.0</td>\n",
       "<td>22.0</td>\n",
       "<td>0.0804531</td>\n",
       "<td>419 / 5,208</td></tr>\n",
       "<tr><td>36.0</td>\n",
       "<td>93.0</td>\n",
       "<td>224.0</td>\n",
       "<td>5391.0</td>\n",
       "<td>127.0</td>\n",
       "<td>0.0817578</td>\n",
       "<td>480 / 5,871</td></tr>\n",
       "<tr><td>13.0</td>\n",
       "<td>1.0</td>\n",
       "<td>14.0</td>\n",
       "<td>97.0</td>\n",
       "<td>2344.0</td>\n",
       "<td>0.0506278</td>\n",
       "<td>125 / 2,469</td></tr>\n",
       "<tr><td>4487.0</td>\n",
       "<td>2803.0</td>\n",
       "<td>5168.0</td>\n",
       "<td>6093.0</td>\n",
       "<td>2498.0</td>\n",
       "<td>0.0729251</td>\n",
       "<td>1,535 / 21,049</td></tr></table></div>"
      ],
      "text/plain": [
       "1     2     3     4     5     Error      Rate\n",
       "----  ----  ----  ----  ----  ---------  --------------\n",
       "4363  25    77    138   4     0.0529629  244 / 4,607\n",
       "21    2627  64    181   1     0.0922598  267 / 2,894\n",
       "54    57    4789  286   22    0.0804531  419 / 5,208\n",
       "36    93    224   5391  127   0.0817578  480 / 5,871\n",
       "13    1     14    97    2344  0.0506278  125 / 2,469\n",
       "4487  2803  5168  6093  2498  0.0729251  1,535 / 21,049"
      ]
     },
     "metadata": {},
     "output_type": "display_data"
    },
    {
     "name": "stdout",
     "output_type": "stream",
     "text": [
      "Top-5 Hit Ratios: \n"
     ]
    },
    {
     "data": {
      "text/html": [
       "<div style=\"overflow:auto\"><table style=\"width:50%\"><tr><td><b>k</b></td>\n",
       "<td><b>hit_ratio</b></td></tr>\n",
       "<tr><td>1</td>\n",
       "<td>0.9270749</td></tr>\n",
       "<tr><td>2</td>\n",
       "<td>0.9843223</td></tr>\n",
       "<tr><td>3</td>\n",
       "<td>0.9956768</td></tr>\n",
       "<tr><td>4</td>\n",
       "<td>0.997102</td></tr>\n",
       "<tr><td>5</td>\n",
       "<td>1.0</td></tr></table></div>"
      ],
      "text/plain": [
       "k    hit_ratio\n",
       "---  -----------\n",
       "1    0.927075\n",
       "2    0.984322\n",
       "3    0.995677\n",
       "4    0.997102\n",
       "5    1"
      ]
     },
     "metadata": {},
     "output_type": "display_data"
    },
    {
     "name": "stdout",
     "output_type": "stream",
     "text": [
      "\n",
      "ModelMetricsMultinomial: drf\n",
      "** Reported on validation data. **\n",
      "\n",
      "MSE: 0.06509157799579554\n",
      "RMSE: 0.25513051169116474\n",
      "LogLoss: 0.2372199728293856\n",
      "Mean Per-Class Error: 0.0675206473113754\n",
      "Confusion Matrix: Row labels: Actual class; Column labels: Predicted class\n",
      "\n"
     ]
    },
    {
     "data": {
      "text/html": [
       "<div style=\"overflow:auto\"><table style=\"width:50%\"><tr><td><b>1</b></td>\n",
       "<td><b>2</b></td>\n",
       "<td><b>3</b></td>\n",
       "<td><b>4</b></td>\n",
       "<td><b>5</b></td>\n",
       "<td><b>Error</b></td>\n",
       "<td><b>Rate</b></td></tr>\n",
       "<tr><td>4411.0</td>\n",
       "<td>15.0</td>\n",
       "<td>75.0</td>\n",
       "<td>138.0</td>\n",
       "<td>6.0</td>\n",
       "<td>0.0503767</td>\n",
       "<td>234 / 4,645</td></tr>\n",
       "<tr><td>19.0</td>\n",
       "<td>2752.0</td>\n",
       "<td>56.0</td>\n",
       "<td>176.0</td>\n",
       "<td>0.0</td>\n",
       "<td>0.0835831</td>\n",
       "<td>251 / 3,003</td></tr>\n",
       "<tr><td>40.0</td>\n",
       "<td>57.0</td>\n",
       "<td>4718.0</td>\n",
       "<td>285.0</td>\n",
       "<td>20.0</td>\n",
       "<td>0.0785156</td>\n",
       "<td>402 / 5,120</td></tr>\n",
       "<tr><td>35.0</td>\n",
       "<td>51.0</td>\n",
       "<td>218.0</td>\n",
       "<td>5302.0</td>\n",
       "<td>100.0</td>\n",
       "<td>0.0708027</td>\n",
       "<td>404 / 5,706</td></tr>\n",
       "<tr><td>19.0</td>\n",
       "<td>1.0</td>\n",
       "<td>17.0</td>\n",
       "<td>93.0</td>\n",
       "<td>2263.0</td>\n",
       "<td>0.0543251</td>\n",
       "<td>130 / 2,393</td></tr>\n",
       "<tr><td>4524.0</td>\n",
       "<td>2876.0</td>\n",
       "<td>5084.0</td>\n",
       "<td>5994.0</td>\n",
       "<td>2389.0</td>\n",
       "<td>0.0680980</td>\n",
       "<td>1,421 / 20,867</td></tr></table></div>"
      ],
      "text/plain": [
       "1     2     3     4     5     Error      Rate\n",
       "----  ----  ----  ----  ----  ---------  --------------\n",
       "4411  15    75    138   6     0.0503767  234 / 4,645\n",
       "19    2752  56    176   0     0.0835831  251 / 3,003\n",
       "40    57    4718  285   20    0.0785156  402 / 5,120\n",
       "35    51    218   5302  100   0.0708027  404 / 5,706\n",
       "19    1     17    93    2263  0.0543251  130 / 2,393\n",
       "4524  2876  5084  5994  2389  0.068098   1,421 / 20,867"
      ]
     },
     "metadata": {},
     "output_type": "display_data"
    },
    {
     "name": "stdout",
     "output_type": "stream",
     "text": [
      "Top-5 Hit Ratios: \n"
     ]
    },
    {
     "data": {
      "text/html": [
       "<div style=\"overflow:auto\"><table style=\"width:50%\"><tr><td><b>k</b></td>\n",
       "<td><b>hit_ratio</b></td></tr>\n",
       "<tr><td>1</td>\n",
       "<td>0.9319021</td></tr>\n",
       "<tr><td>2</td>\n",
       "<td>0.9873964</td></tr>\n",
       "<tr><td>3</td>\n",
       "<td>0.9980831</td></tr>\n",
       "<tr><td>4</td>\n",
       "<td>0.9991374</td></tr>\n",
       "<tr><td>5</td>\n",
       "<td>1.0</td></tr></table></div>"
      ],
      "text/plain": [
       "k    hit_ratio\n",
       "---  -----------\n",
       "1    0.931902\n",
       "2    0.987396\n",
       "3    0.998083\n",
       "4    0.999137\n",
       "5    1"
      ]
     },
     "metadata": {},
     "output_type": "display_data"
    },
    {
     "name": "stdout",
     "output_type": "stream",
     "text": [
      "Scoring History: \n"
     ]
    },
    {
     "data": {
      "text/html": [
       "<div style=\"overflow:auto\"><table style=\"width:50%\"><tr><td><b></b></td>\n",
       "<td><b>timestamp</b></td>\n",
       "<td><b>duration</b></td>\n",
       "<td><b>number_of_trees</b></td>\n",
       "<td><b>training_rmse</b></td>\n",
       "<td><b>training_logloss</b></td>\n",
       "<td><b>training_classification_error</b></td>\n",
       "<td><b>validation_rmse</b></td>\n",
       "<td><b>validation_logloss</b></td>\n",
       "<td><b>validation_classification_error</b></td></tr>\n",
       "<tr><td></td>\n",
       "<td>2018-05-31 15:30:16</td>\n",
       "<td> 0.067 sec</td>\n",
       "<td>0.0</td>\n",
       "<td>nan</td>\n",
       "<td>nan</td>\n",
       "<td>nan</td>\n",
       "<td>nan</td>\n",
       "<td>nan</td>\n",
       "<td>nan</td></tr>\n",
       "<tr><td></td>\n",
       "<td>2018-05-31 15:30:19</td>\n",
       "<td> 3.393 sec</td>\n",
       "<td>1.0</td>\n",
       "<td>0.3654526</td>\n",
       "<td>3.6924524</td>\n",
       "<td>0.1352903</td>\n",
       "<td>0.3646914</td>\n",
       "<td>3.6625662</td>\n",
       "<td>0.1444865</td></tr>\n",
       "<tr><td></td>\n",
       "<td>2018-05-31 15:30:20</td>\n",
       "<td> 4.220 sec</td>\n",
       "<td>2.0</td>\n",
       "<td>0.3452772</td>\n",
       "<td>3.0148755</td>\n",
       "<td>0.1276308</td>\n",
       "<td>0.2915029</td>\n",
       "<td>1.4539432</td>\n",
       "<td>0.0978579</td></tr>\n",
       "<tr><td></td>\n",
       "<td>2018-05-31 15:30:21</td>\n",
       "<td> 4.695 sec</td>\n",
       "<td>3.0</td>\n",
       "<td>0.3264960</td>\n",
       "<td>2.5123015</td>\n",
       "<td>0.1176321</td>\n",
       "<td>0.2722008</td>\n",
       "<td>0.8923015</td>\n",
       "<td>0.0856376</td></tr>\n",
       "<tr><td></td>\n",
       "<td>2018-05-31 15:30:21</td>\n",
       "<td> 5.017 sec</td>\n",
       "<td>4.0</td>\n",
       "<td>0.3152811</td>\n",
       "<td>2.0836621</td>\n",
       "<td>0.1091877</td>\n",
       "<td>0.2657253</td>\n",
       "<td>0.5735578</td>\n",
       "<td>0.0790722</td></tr>\n",
       "<tr><td>---</td>\n",
       "<td>---</td>\n",
       "<td>---</td>\n",
       "<td>---</td>\n",
       "<td>---</td>\n",
       "<td>---</td>\n",
       "<td>---</td>\n",
       "<td>---</td>\n",
       "<td>---</td>\n",
       "<td>---</td></tr>\n",
       "<tr><td></td>\n",
       "<td>2018-05-31 15:30:30</td>\n",
       "<td>13.789 sec</td>\n",
       "<td>19.0</td>\n",
       "<td>0.2596168</td>\n",
       "<td>0.3562469</td>\n",
       "<td>0.0745950</td>\n",
       "<td>0.2534196</td>\n",
       "<td>0.2398572</td>\n",
       "<td>0.0694398</td></tr>\n",
       "<tr><td></td>\n",
       "<td>2018-05-31 15:30:31</td>\n",
       "<td>14.745 sec</td>\n",
       "<td>20.0</td>\n",
       "<td>0.2586892</td>\n",
       "<td>0.3426445</td>\n",
       "<td>0.0741603</td>\n",
       "<td>0.2532537</td>\n",
       "<td>0.2348911</td>\n",
       "<td>0.0693439</td></tr>\n",
       "<tr><td></td>\n",
       "<td>2018-05-31 15:30:31</td>\n",
       "<td>15.643 sec</td>\n",
       "<td>21.0</td>\n",
       "<td>0.2592673</td>\n",
       "<td>0.3330268</td>\n",
       "<td>0.0734477</td>\n",
       "<td>0.2545134</td>\n",
       "<td>0.2380346</td>\n",
       "<td>0.0694398</td></tr>\n",
       "<tr><td></td>\n",
       "<td>2018-05-31 15:30:32</td>\n",
       "<td>16.545 sec</td>\n",
       "<td>22.0</td>\n",
       "<td>0.2601842</td>\n",
       "<td>0.3267021</td>\n",
       "<td>0.0732576</td>\n",
       "<td>0.2555975</td>\n",
       "<td>0.2380666</td>\n",
       "<td>0.0686730</td></tr>\n",
       "<tr><td></td>\n",
       "<td>2018-05-31 15:30:33</td>\n",
       "<td>17.366 sec</td>\n",
       "<td>23.0</td>\n",
       "<td>0.2591845</td>\n",
       "<td>0.3117195</td>\n",
       "<td>0.0729251</td>\n",
       "<td>0.2551305</td>\n",
       "<td>0.2372200</td>\n",
       "<td>0.0680980</td></tr></table></div>"
      ],
      "text/plain": [
       "     timestamp            duration    number_of_trees    training_rmse        training_logloss     training_classification_error    validation_rmse      validation_logloss    validation_classification_error\n",
       "---  -------------------  ----------  -----------------  -------------------  -------------------  -------------------------------  -------------------  --------------------  ---------------------------------\n",
       "     2018-05-31 15:30:16  0.067 sec   0.0                nan                  nan                  nan                              nan                  nan                   nan\n",
       "     2018-05-31 15:30:19  3.393 sec   1.0                0.3654526314417197   3.692452409910911    0.13529028049575995              0.36469144301539336  3.6625661872307305    0.14448650980016295\n",
       "     2018-05-31 15:30:20  4.220 sec   2.0                0.34527719128896467  3.014875510136408    0.12763084743070446              0.29150288836689664  1.453943247475032     0.09785786169550008\n",
       "     2018-05-31 15:30:21  4.695 sec   3.0                0.3264959923223133   2.5123014892522564   0.11763212994099359              0.2722007558184646   0.8923015007862513    0.08563760962284947\n",
       "     2018-05-31 15:30:21  5.017 sec   4.0                0.31528110314497665  2.0836620625698896   0.10918767507002801              0.2657253224944429   0.573557813503528     0.0790722192936215\n",
       "---  ---                  ---         ---                ---                  ---                  ---                              ---                  ---                   ---\n",
       "     2018-05-31 15:30:30  13.789 sec  19.0               0.25961682486156495  0.35624690509746393  0.07459495415023519              0.25341963797147615  0.23985722817795488   0.06943978530694397\n",
       "     2018-05-31 15:30:31  14.745 sec  20.0               0.2586891907356446   0.34264447111485963  0.07416029265048221              0.25325372411036606  0.23489107535744663   0.06934394019264868\n",
       "     2018-05-31 15:30:31  15.643 sec  21.0               0.25926730695910105  0.33302682412728424  0.07344766972302723              0.25451343829553275  0.23803459528627965   0.06943978530694397\n",
       "     2018-05-31 15:30:32  16.545 sec  22.0               0.2601841917436258   0.32670209794982624  0.07325763694237256              0.255597532135575    0.23806656823867609   0.06867302439258159\n",
       "     2018-05-31 15:30:33  17.366 sec  23.0               0.2591844925038896   0.31171953686334875  0.0729250795762269               0.25513051169116474  0.2372199728293856    0.0680979537068098"
      ]
     },
     "metadata": {},
     "output_type": "display_data"
    },
    {
     "name": "stdout",
     "output_type": "stream",
     "text": [
      "\n",
      "See the whole table with table.as_data_frame()\n",
      "Variable Importances: \n"
     ]
    },
    {
     "data": {
      "text/html": [
       "<div style=\"overflow:auto\"><table style=\"width:50%\"><tr><td><b>variable</b></td>\n",
       "<td><b>relative_importance</b></td>\n",
       "<td><b>scaled_importance</b></td>\n",
       "<td><b>percentage</b></td></tr>\n",
       "<tr><td>LSWI</td>\n",
       "<td>58794.7148438</td>\n",
       "<td>1.0</td>\n",
       "<td>0.2528743</td></tr>\n",
       "<tr><td>NDVI</td>\n",
       "<td>58038.7226562</td>\n",
       "<td>0.9871418</td>\n",
       "<td>0.2496228</td></tr>\n",
       "<tr><td>NDVI_c</td>\n",
       "<td>18046.8398438</td>\n",
       "<td>0.3069466</td>\n",
       "<td>0.0776189</td></tr>\n",
       "<tr><td>LSWI_c</td>\n",
       "<td>17175.9042969</td>\n",
       "<td>0.2921335</td>\n",
       "<td>0.0738730</td></tr>\n",
       "<tr><td>VV_ASC</td>\n",
       "<td>16742.3925781</td>\n",
       "<td>0.2847602</td>\n",
       "<td>0.0720085</td></tr>\n",
       "<tr><td>VV_DSC</td>\n",
       "<td>13681.0146484</td>\n",
       "<td>0.2326912</td>\n",
       "<td>0.0588416</td></tr>\n",
       "<tr><td>VV_DSC_c</td>\n",
       "<td>12957.7343750</td>\n",
       "<td>0.2203894</td>\n",
       "<td>0.0557308</td></tr>\n",
       "<tr><td>VH_DSC</td>\n",
       "<td>12847.7197266</td>\n",
       "<td>0.2185183</td>\n",
       "<td>0.0552576</td></tr>\n",
       "<tr><td>VV_ASC_c</td>\n",
       "<td>12810.6035156</td>\n",
       "<td>0.2178870</td>\n",
       "<td>0.0550980</td></tr>\n",
       "<tr><td>VH_DSC_c</td>\n",
       "<td>11410.0800781</td>\n",
       "<td>0.1940664</td>\n",
       "<td>0.0490744</td></tr></table></div>"
      ],
      "text/plain": [
       "variable    relative_importance    scaled_importance    percentage\n",
       "----------  ---------------------  -------------------  ------------\n",
       "LSWI        58794.7                1                    0.252874\n",
       "NDVI        58038.7                0.987142             0.249623\n",
       "NDVI_c      18046.8                0.306947             0.0776189\n",
       "LSWI_c      17175.9                0.292133             0.073873\n",
       "VV_ASC      16742.4                0.28476              0.0720085\n",
       "VV_DSC      13681                  0.232691             0.0588416\n",
       "VV_DSC_c    12957.7                0.220389             0.0557308\n",
       "VH_DSC      12847.7                0.218518             0.0552576\n",
       "VV_ASC_c    12810.6                0.217887             0.055098\n",
       "VH_DSC_c    11410.1                0.194066             0.0490744"
      ]
     },
     "metadata": {},
     "output_type": "display_data"
    },
    {
     "data": {
      "text/plain": []
     },
     "execution_count": 53,
     "metadata": {},
     "output_type": "execute_result"
    }
   ],
   "source": [
    "# Print model details\n",
    "rf_v1"
   ]
  },
  {
   "cell_type": "code",
   "execution_count": 54,
   "metadata": {},
   "outputs": [
    {
     "name": "stdout",
     "output_type": "stream",
     "text": [
      "Parse progress: |█████████████████████████████████████████████████████████| 100%\n"
     ]
    },
    {
     "data": {
      "text/plain": [
       "(12096, 17)"
      ]
     },
     "execution_count": 54,
     "metadata": {},
     "output_type": "execute_result"
    }
   ],
   "source": [
    "data_test = h2o.import_file(saldana.data_directory+'test_parquet/')  # 3764 rows x 14 columns\n",
    "data_test.shape"
   ]
  },
  {
   "cell_type": "code",
   "execution_count": 55,
   "metadata": {},
   "outputs": [
    {
     "data": {
      "text/html": [
       "<table>\n",
       "<thead>\n",
       "<tr><th style=\"text-align: right;\">       time</th><th style=\"text-align: right;\">     x</th><th style=\"text-align: right;\">     y</th><th style=\"text-align: right;\">  mask</th><th style=\"text-align: right;\">    NDVI</th><th style=\"text-align: right;\">    LSWI</th><th style=\"text-align: right;\">  VV_ASC</th><th style=\"text-align: right;\">   VV_DSC</th><th style=\"text-align: right;\">   VH_DSC</th><th style=\"text-align: right;\">  train</th><th style=\"text-align: right;\">  test</th><th style=\"text-align: right;\">  NDVI_c</th><th style=\"text-align: right;\">  LSWI_c</th><th style=\"text-align: right;\">  VV_ASC_c</th><th style=\"text-align: right;\">  VV_DSC_c</th><th style=\"text-align: right;\">  VH_DSC_c</th><th style=\"text-align: right;\">  __index_level_0__</th></tr>\n",
       "</thead>\n",
       "<tbody>\n",
       "<tr><td style=\"text-align: right;\">1.44979e+15</td><td style=\"text-align: right;\">500015</td><td style=\"text-align: right;\">425465</td><td style=\"text-align: right;\">     1</td><td style=\"text-align: right;\">0.810879</td><td style=\"text-align: right;\">0.295475</td><td style=\"text-align: right;\">-11.4987</td><td style=\"text-align: right;\">-11.417  </td><td style=\"text-align: right;\">-11.417  </td><td style=\"text-align: right;\">      0</td><td style=\"text-align: right;\">     2</td><td style=\"text-align: right;\">     nan</td><td style=\"text-align: right;\">     nan</td><td style=\"text-align: right;\">       nan</td><td style=\"text-align: right;\">       nan</td><td style=\"text-align: right;\">       nan</td><td style=\"text-align: right;\">        4.04709e+06</td></tr>\n",
       "<tr><td style=\"text-align: right;\">1.44979e+15</td><td style=\"text-align: right;\">500015</td><td style=\"text-align: right;\">425475</td><td style=\"text-align: right;\">     1</td><td style=\"text-align: right;\">0.794955</td><td style=\"text-align: right;\">0.281163</td><td style=\"text-align: right;\">-11.674 </td><td style=\"text-align: right;\">-10.2996 </td><td style=\"text-align: right;\">-10.2996 </td><td style=\"text-align: right;\">      0</td><td style=\"text-align: right;\">     2</td><td style=\"text-align: right;\">     nan</td><td style=\"text-align: right;\">     nan</td><td style=\"text-align: right;\">       nan</td><td style=\"text-align: right;\">       nan</td><td style=\"text-align: right;\">       nan</td><td style=\"text-align: right;\">        4.04709e+06</td></tr>\n",
       "<tr><td style=\"text-align: right;\">1.44979e+15</td><td style=\"text-align: right;\">500025</td><td style=\"text-align: right;\">425435</td><td style=\"text-align: right;\">     1</td><td style=\"text-align: right;\">0.841195</td><td style=\"text-align: right;\">0.317124</td><td style=\"text-align: right;\">-14.6016</td><td style=\"text-align: right;\"> -6.48855</td><td style=\"text-align: right;\"> -6.48855</td><td style=\"text-align: right;\">      0</td><td style=\"text-align: right;\">     2</td><td style=\"text-align: right;\">     nan</td><td style=\"text-align: right;\">     nan</td><td style=\"text-align: right;\">       nan</td><td style=\"text-align: right;\">       nan</td><td style=\"text-align: right;\">       nan</td><td style=\"text-align: right;\">        4.05072e+06</td></tr>\n",
       "<tr><td style=\"text-align: right;\">1.44979e+15</td><td style=\"text-align: right;\">500025</td><td style=\"text-align: right;\">425445</td><td style=\"text-align: right;\">     1</td><td style=\"text-align: right;\">0.826168</td><td style=\"text-align: right;\">0.293319</td><td style=\"text-align: right;\">-14.1299</td><td style=\"text-align: right;\"> -8.33873</td><td style=\"text-align: right;\"> -8.33873</td><td style=\"text-align: right;\">      0</td><td style=\"text-align: right;\">     2</td><td style=\"text-align: right;\">     nan</td><td style=\"text-align: right;\">     nan</td><td style=\"text-align: right;\">       nan</td><td style=\"text-align: right;\">       nan</td><td style=\"text-align: right;\">       nan</td><td style=\"text-align: right;\">        4.05072e+06</td></tr>\n",
       "<tr><td style=\"text-align: right;\">1.44979e+15</td><td style=\"text-align: right;\">500025</td><td style=\"text-align: right;\">425455</td><td style=\"text-align: right;\">     1</td><td style=\"text-align: right;\">0.818182</td><td style=\"text-align: right;\">0.281994</td><td style=\"text-align: right;\">-12.4317</td><td style=\"text-align: right;\"> -9.34113</td><td style=\"text-align: right;\"> -9.34113</td><td style=\"text-align: right;\">      0</td><td style=\"text-align: right;\">     2</td><td style=\"text-align: right;\">     nan</td><td style=\"text-align: right;\">     nan</td><td style=\"text-align: right;\">       nan</td><td style=\"text-align: right;\">       nan</td><td style=\"text-align: right;\">       nan</td><td style=\"text-align: right;\">        4.05072e+06</td></tr>\n",
       "<tr><td style=\"text-align: right;\">1.44979e+15</td><td style=\"text-align: right;\">500025</td><td style=\"text-align: right;\">425465</td><td style=\"text-align: right;\">     1</td><td style=\"text-align: right;\">0.808405</td><td style=\"text-align: right;\">0.306833</td><td style=\"text-align: right;\">-11.155 </td><td style=\"text-align: right;\"> -9.6535 </td><td style=\"text-align: right;\"> -9.6535 </td><td style=\"text-align: right;\">      0</td><td style=\"text-align: right;\">     2</td><td style=\"text-align: right;\">     nan</td><td style=\"text-align: right;\">     nan</td><td style=\"text-align: right;\">       nan</td><td style=\"text-align: right;\">       nan</td><td style=\"text-align: right;\">       nan</td><td style=\"text-align: right;\">        4.05072e+06</td></tr>\n",
       "<tr><td style=\"text-align: right;\">1.44979e+15</td><td style=\"text-align: right;\">500035</td><td style=\"text-align: right;\">425395</td><td style=\"text-align: right;\">     1</td><td style=\"text-align: right;\">0.825935</td><td style=\"text-align: right;\">0.291202</td><td style=\"text-align: right;\">-15.3389</td><td style=\"text-align: right;\"> -7.95088</td><td style=\"text-align: right;\"> -7.95088</td><td style=\"text-align: right;\">      0</td><td style=\"text-align: right;\">     2</td><td style=\"text-align: right;\">     nan</td><td style=\"text-align: right;\">     nan</td><td style=\"text-align: right;\">       nan</td><td style=\"text-align: right;\">       nan</td><td style=\"text-align: right;\">       nan</td><td style=\"text-align: right;\">        4.05435e+06</td></tr>\n",
       "<tr><td style=\"text-align: right;\">1.44979e+15</td><td style=\"text-align: right;\">500035</td><td style=\"text-align: right;\">425405</td><td style=\"text-align: right;\">     1</td><td style=\"text-align: right;\">0.831389</td><td style=\"text-align: right;\">0.303571</td><td style=\"text-align: right;\">-16.0903</td><td style=\"text-align: right;\"> -8.95111</td><td style=\"text-align: right;\"> -8.95111</td><td style=\"text-align: right;\">      0</td><td style=\"text-align: right;\">     2</td><td style=\"text-align: right;\">     nan</td><td style=\"text-align: right;\">     nan</td><td style=\"text-align: right;\">       nan</td><td style=\"text-align: right;\">       nan</td><td style=\"text-align: right;\">       nan</td><td style=\"text-align: right;\">        4.05435e+06</td></tr>\n",
       "<tr><td style=\"text-align: right;\">1.44979e+15</td><td style=\"text-align: right;\">500035</td><td style=\"text-align: right;\">425415</td><td style=\"text-align: right;\">     1</td><td style=\"text-align: right;\">0.835287</td><td style=\"text-align: right;\">0.290909</td><td style=\"text-align: right;\">-15.2471</td><td style=\"text-align: right;\"> -8.84224</td><td style=\"text-align: right;\"> -8.84224</td><td style=\"text-align: right;\">      0</td><td style=\"text-align: right;\">     2</td><td style=\"text-align: right;\">     nan</td><td style=\"text-align: right;\">     nan</td><td style=\"text-align: right;\">       nan</td><td style=\"text-align: right;\">       nan</td><td style=\"text-align: right;\">       nan</td><td style=\"text-align: right;\">        4.05435e+06</td></tr>\n",
       "<tr><td style=\"text-align: right;\">1.44979e+15</td><td style=\"text-align: right;\">500035</td><td style=\"text-align: right;\">425425</td><td style=\"text-align: right;\">     1</td><td style=\"text-align: right;\">0.837384</td><td style=\"text-align: right;\">0.305479</td><td style=\"text-align: right;\">-14.8105</td><td style=\"text-align: right;\"> -7.92872</td><td style=\"text-align: right;\"> -7.92872</td><td style=\"text-align: right;\">      0</td><td style=\"text-align: right;\">     2</td><td style=\"text-align: right;\">     nan</td><td style=\"text-align: right;\">     nan</td><td style=\"text-align: right;\">       nan</td><td style=\"text-align: right;\">       nan</td><td style=\"text-align: right;\">       nan</td><td style=\"text-align: right;\">        4.05435e+06</td></tr>\n",
       "</tbody>\n",
       "</table>"
      ]
     },
     "metadata": {},
     "output_type": "display_data"
    },
    {
     "data": {
      "text/plain": []
     },
     "execution_count": 55,
     "metadata": {},
     "output_type": "execute_result"
    }
   ],
   "source": [
    "data_test"
   ]
  },
  {
   "cell_type": "code",
   "execution_count": 60,
   "metadata": {},
   "outputs": [],
   "source": [
    "#data_test = data_test.drop('column_name', 1)\n",
    "data_test['train'] = data_test['train'].asfactor()\n",
    "data_test['test'] = data_test['test'].asfactor()"
   ]
  },
  {
   "cell_type": "code",
   "execution_count": 62,
   "metadata": {},
   "outputs": [],
   "source": [
    "data_test = data_test.drop('train', 1)"
   ]
  },
  {
   "cell_type": "code",
   "execution_count": 63,
   "metadata": {},
   "outputs": [
    {
     "name": "stdout",
     "output_type": "stream",
     "text": [
      "drf prediction progress: |████████████████████████████████████████████████| 100%\n"
     ]
    }
   ],
   "source": [
    "# Predict using test data\n",
    "final_rf_predictions = rf_v1.predict(data_test)"
   ]
  },
  {
   "cell_type": "code",
   "execution_count": 65,
   "metadata": {},
   "outputs": [
    {
     "data": {
      "text/plain": [
       "(12096, 6)"
      ]
     },
     "execution_count": 65,
     "metadata": {},
     "output_type": "execute_result"
    }
   ],
   "source": [
    "final_rf_predictions.shape"
   ]
  },
  {
   "cell_type": "code",
   "execution_count": 66,
   "metadata": {},
   "outputs": [
    {
     "data": {
      "text/plain": [
       "predict    0.149967\n",
       "dtype: float64"
      ]
     },
     "execution_count": 66,
     "metadata": {},
     "output_type": "execute_result"
    }
   ],
   "source": [
    "# Get test data accuracy\n",
    "(final_rf_predictions['predict']==data_test['test']).as_data_frame(use_pandas=True).mean()"
   ]
  },
  {
   "cell_type": "code",
   "execution_count": 67,
   "metadata": {},
   "outputs": [
    {
     "data": {
      "text/plain": [
       "(12096, 6)"
      ]
     },
     "execution_count": 67,
     "metadata": {},
     "output_type": "execute_result"
    }
   ],
   "source": [
    "# Shape of test data predictions\n",
    "final_rf_predictions.as_data_frame().shape"
   ]
  },
  {
   "cell_type": "code",
   "execution_count": 68,
   "metadata": {},
   "outputs": [
    {
     "data": {
      "text/plain": [
       "(12096, 1)"
      ]
     },
     "execution_count": 68,
     "metadata": {},
     "output_type": "execute_result"
    }
   ],
   "source": [
    "final_rf_predictions['predict'].as_data_frame().shape"
   ]
  },
  {
   "cell_type": "code",
   "execution_count": 73,
   "metadata": {},
   "outputs": [],
   "source": [
    "resulting_class_df = data_test.as_data_frame().join(final_rf_predictions['predict'].as_data_frame())"
   ]
  },
  {
   "cell_type": "code",
   "execution_count": 74,
   "metadata": {},
   "outputs": [],
   "source": [
    "# Create MultiIndex from coordinates ## TODO include time!\n",
    "resulting_class_df.set_index(['time','x', 'y'], inplace=True)"
   ]
  },
  {
   "cell_type": "code",
   "execution_count": 130,
   "metadata": {},
   "outputs": [],
   "source": [
    "# Return to xarray\n",
    "xarr = xr.Dataset.from_dataframe(resulting_class_df).sortby('time')"
   ]
  },
  {
   "cell_type": "code",
   "execution_count": 131,
   "metadata": {},
   "outputs": [
    {
     "data": {
      "text/plain": [
       "<xarray.Dataset>\n",
       "Dimensions:            (time: 4, x: 205, y: 271)\n",
       "Coordinates:\n",
       "  * time               (time) int64 1449792000000000 1450656000000000 ...\n",
       "  * x                  (x) int64 500015 500025 500035 500045 500055 500065 ...\n",
       "  * y                  (y) int64 425095 425105 425115 425125 425135 425145 ...\n",
       "Data variables:\n",
       "    mask               (time, x, y) float64 nan nan nan nan nan nan nan nan ...\n",
       "    NDVI               (time, x, y) float64 nan nan nan nan nan nan nan nan ...\n",
       "    LSWI               (time, x, y) float64 nan nan nan nan nan nan nan nan ...\n",
       "    VV_ASC             (time, x, y) float64 nan nan nan nan nan nan nan nan ...\n",
       "    VV_DSC             (time, x, y) float64 nan nan nan nan nan nan nan nan ...\n",
       "    VH_DSC             (time, x, y) float64 nan nan nan nan nan nan nan nan ...\n",
       "    test               (time, x, y) float64 nan nan nan nan nan nan nan nan ...\n",
       "    NDVI_c             (time, x, y) float64 nan nan nan nan nan nan nan nan ...\n",
       "    LSWI_c             (time, x, y) float64 nan nan nan nan nan nan nan nan ...\n",
       "    VV_ASC_c           (time, x, y) float64 nan nan nan nan nan nan nan nan ...\n",
       "    VV_DSC_c           (time, x, y) float64 nan nan nan nan nan nan nan nan ...\n",
       "    VH_DSC_c           (time, x, y) float64 nan nan nan nan nan nan nan nan ...\n",
       "    __index_level_0__  (time, x, y) float64 nan nan nan nan nan nan nan nan ...\n",
       "    predict            (time, x, y) float64 nan nan nan nan nan nan nan nan ..."
      ]
     },
     "execution_count": 131,
     "metadata": {},
     "output_type": "execute_result"
    }
   ],
   "source": [
    "# Plot phenology class from test data. WHY IS IT LIKE THAT?!\n",
    "xarr#['predict'].plot()"
   ]
  },
  {
   "cell_type": "code",
   "execution_count": 83,
   "metadata": {},
   "outputs": [],
   "source": [
    "# Prepare to compare initial with prediction\n",
    "#original = sat_data_again['class'].isel(time=0).drop('time').drop('mask')\n",
    "predicted = xarr.isel(time=0)['predict']\n",
    "test = xarr.isel(time=0)['test']"
   ]
  },
  {
   "cell_type": "code",
   "execution_count": 134,
   "metadata": {},
   "outputs": [
    {
     "data": {
      "text/plain": [
       "<matplotlib.colorbar.Colorbar at 0x7fa6869d7208>"
      ]
     },
     "execution_count": 134,
     "metadata": {},
     "output_type": "execute_result"
    },
    {
     "data": {
      "image/png": "[encoded data removed]",
      "text/plain": [
       "<Figure size 720x1800 with 9 Axes>"
      ]
     },
     "metadata": {},
     "output_type": "display_data"
    }
   ],
   "source": [
    "\n",
    "data_to_plot = []#[predicted, test]\n",
    "tags = []#['predicted', 'ground_truth']\n",
    "\n",
    "for time in [0,1,2,3]:\n",
    "    predicted = xarr.isel(time=time)['predict']\n",
    "    test = xarr.isel(time=time)['test']\n",
    "    data_to_plot += [predicted, test]\n",
    "    tags += ['predicted '+str(time), 'ground_truth '+str(time)]\n",
    "\n",
    "\n",
    "fig, axes = plt.subplots(nrows=4, ncols=2, figsize=(10, 25), sharex=True, sharey=True)\n",
    "for idx, ax in enumerate(axes.flat):\n",
    "    im = ax.imshow(data_to_plot[idx], cmap='YlGn',\n",
    "     vmin=1, vmax=5, extent=[0.05,0.5,1,0.05],aspect=0.5)\n",
    "    ax.set_title(tags[idx])\n",
    "\n",
    "fig.subplots_adjust(right=0.8)\n",
    "# put colorbar at desire position\n",
    "cbar_ax = fig.add_axes([0.85, 0.25, 0.03, 0.5])\n",
    "fig.colorbar(im, cax=cbar_ax)"
   ]
  },
  {
   "cell_type": "code",
   "execution_count": 97,
   "metadata": {},
   "outputs": [
    {
     "ename": "TypeError",
     "evalue": "colorbar() missing 1 required positional argument: 'mappable'",
     "output_type": "error",
     "traceback": [
      "\u001b[0;31m---------------------------------------------------------------------------\u001b[0m",
      "\u001b[0;31mTypeError\u001b[0m                                 Traceback (most recent call last)",
      "\u001b[0;32m<ipython-input-97-e91b01a9e298>\u001b[0m in \u001b[0;36m<module>\u001b[0;34m()\u001b[0m\n\u001b[1;32m      8\u001b[0m \u001b[0max\u001b[0m\u001b[0;34m[\u001b[0m\u001b[0;36m1\u001b[0m\u001b[0;34m]\u001b[0m\u001b[0;34m.\u001b[0m\u001b[0mimshow\u001b[0m\u001b[0;34m(\u001b[0m\u001b[0mtest\u001b[0m\u001b[0;34m)\u001b[0m\u001b[0;34m\u001b[0m\u001b[0m\n\u001b[1;32m      9\u001b[0m \u001b[0max\u001b[0m\u001b[0;34m[\u001b[0m\u001b[0;36m1\u001b[0m\u001b[0;34m]\u001b[0m\u001b[0;34m.\u001b[0m\u001b[0mset_title\u001b[0m\u001b[0;34m(\u001b[0m\u001b[0;34m'Ground truth'\u001b[0m\u001b[0;34m)\u001b[0m\u001b[0;34m\u001b[0m\u001b[0m\n\u001b[0;32m---> 10\u001b[0;31m \u001b[0mfig\u001b[0m\u001b[0;34m.\u001b[0m\u001b[0mcolorbar\u001b[0m\u001b[0;34m(\u001b[0m\u001b[0;34m)\u001b[0m\u001b[0;31m#ax[0], ax=ax[0])\u001b[0m\u001b[0;34m\u001b[0m\u001b[0m\n\u001b[0m\u001b[1;32m     11\u001b[0m \u001b[0;32mfor\u001b[0m \u001b[0ma\u001b[0m \u001b[0;32min\u001b[0m \u001b[0max\u001b[0m\u001b[0;34m.\u001b[0m\u001b[0mravel\u001b[0m\u001b[0;34m(\u001b[0m\u001b[0;34m)\u001b[0m\u001b[0;34m:\u001b[0m\u001b[0;34m\u001b[0m\u001b[0m\n\u001b[1;32m     12\u001b[0m     \u001b[0ma\u001b[0m\u001b[0;34m.\u001b[0m\u001b[0mset_axis_off\u001b[0m\u001b[0;34m(\u001b[0m\u001b[0;34m)\u001b[0m\u001b[0;34m\u001b[0m\u001b[0m\n",
      "\u001b[0;31mTypeError\u001b[0m: colorbar() missing 1 required positional argument: 'mappable'"
     ]
    },
    {
     "data": {
      "image/png": "[encoded data removed]",
      "text/plain": [
       "<Figure size 720x720 with 2 Axes>"
      ]
     },
     "metadata": {},
     "output_type": "display_data"
    }
   ],
   "source": [
    "import matplotlib.pyplot as plt\n",
    "\n",
    "#plt.imshow(predicted)\n",
    "#plt.colorbar()\n",
    "fig, ax = plt.subplots(1, 2, figsize=(10, 10), sharex=True, sharey=True)\n",
    "ax[0].imshow(predicted)\n",
    "ax[0].set_title('Predicted classes')\n",
    "ax[1].imshow(test)\n",
    "ax[1].set_title('Ground truth')\n",
    "fig.colorbar()#ax[0], ax=ax[0])\n",
    "for a in ax.ravel():\n",
    "    a.set_axis_off()\n",
    "plt.tight_layout()\n",
    "plt.show()"
   ]
  },
  {
   "cell_type": "code",
   "execution_count": 84,
   "metadata": {},
   "outputs": [
    {
     "data": {
      "text/plain": [
       "<matplotlib.image.AxesImage at 0x7fa686b3d080>"
      ]
     },
     "execution_count": 84,
     "metadata": {},
     "output_type": "execute_result"
    },
    {
     "data": {
      "image/png": "[encoded data removed]",
      "text/plain": [
       "<Figure size 432x288 with 1 Axes>"
      ]
     },
     "metadata": {},
     "output_type": "display_data"
    }
   ],
   "source": [
    "plt.imshow(test)"
   ]
  },
  {
   "cell_type": "code",
   "execution_count": 48,
   "metadata": {},
   "outputs": [],
   "source": [
    "# Concatenate into one xarray\n",
    "dimnames = xr.Variable('band', pd.Index(['class', 'predict']))\n",
    "da = xr.concat([original.where(original>0).drop('class_mask'), predicted], dimnames)"
   ]
  },
  {
   "cell_type": "code",
   "execution_count": 49,
   "metadata": {},
   "outputs": [
    {
     "data": {
      "text/plain": [
       "<xarray.DataArray 'class' (band: 2, x: 2979, y: 3631)>\n",
       "dask.array<shape=(2, 2979, 3631), dtype=float64, chunksize=(1, 2979, 3631)>\n",
       "Coordinates:\n",
       "  * y        (y) float64 4.122e+05 4.122e+05 4.122e+05 4.122e+05 4.122e+05 ...\n",
       "  * x        (x) float64 4.889e+05 4.889e+05 4.889e+05 4.889e+05 4.889e+05 ...\n",
       "  * band     (band) object 'class' 'predict'"
      ]
     },
     "execution_count": 49,
     "metadata": {},
     "output_type": "execute_result"
    }
   ],
   "source": [
    "da"
   ]
  },
  {
   "cell_type": "code",
   "execution_count": 50,
   "metadata": {},
   "outputs": [
    {
     "data": {
      "text/plain": [
       "<xarray.plot.facetgrid.FacetGrid at 0x7f39bc230dd0>"
      ]
     },
     "execution_count": 50,
     "metadata": {},
     "output_type": "execute_result"
    },
    {
     "data": {
      "image/png": "[encoded data removed]",
      "text/plain": [
       "<Figure size 504x216 with 3 Axes>"
      ]
     },
     "metadata": {},
     "output_type": "display_data"
    }
   ],
   "source": [
    "# Plot\n",
    "da.plot(x='x', y='y', col='band', vmin=1., vmax=5., cmap='RdYlGn')"
   ]
  },
  {
   "cell_type": "code",
   "execution_count": 51,
   "metadata": {},
   "outputs": [
    {
     "data": {
      "text/plain": [
       "<xarray.Dataset>\n",
       "Dimensions:     (x: 2979, y: 3631)\n",
       "Coordinates:\n",
       "  * y           (y) float64 4.122e+05 4.122e+05 4.122e+05 4.122e+05 ...\n",
       "  * x           (x) float64 4.889e+05 4.889e+05 4.889e+05 4.889e+05 ...\n",
       "    class_mask  (x, y) bool dask.array<shape=(2979, 3631), chunksize=(2979, 3631)>\n",
       "Data variables:\n",
       "    class       (x, y) uint8 dask.array<shape=(2979, 3631), chunksize=(2979, 3631)>\n",
       "    predict     (x, y) float64 nan nan nan nan nan nan nan nan nan nan nan ..."
      ]
     },
     "execution_count": 51,
     "metadata": {},
     "output_type": "execute_result"
    }
   ],
   "source": [
    "# Test merging into dataset\n",
    "merged = xr.merge([original, predicted])\n",
    "merged"
   ]
  },
  {
   "cell_type": "code",
   "execution_count": 52,
   "metadata": {},
   "outputs": [
    {
     "data": {
      "text/plain": [
       "<matplotlib.collections.QuadMesh at 0x7f39b6ff9d50>"
      ]
     },
     "execution_count": 52,
     "metadata": {},
     "output_type": "execute_result"
    },
    {
     "data": {
      "image/png": "[encoded data removed]",
      "text/plain": [
       "<Figure size 432x288 with 2 Axes>"
      ]
     },
     "metadata": {},
     "output_type": "display_data"
    }
   ],
   "source": [
    "merged['class'].where(merged.class_mask).plot()"
   ]
  },
  {
   "cell_type": "code",
   "execution_count": 53,
   "metadata": {},
   "outputs": [
    {
     "data": {
      "text/plain": [
       "<matplotlib.collections.QuadMesh at 0x7f3984069410>"
      ]
     },
     "execution_count": 53,
     "metadata": {},
     "output_type": "execute_result"
    },
    {
     "data": {
      "image/png": "[encoded data removed]",
      "text/plain": [
       "<Figure size 432x288 with 2 Axes>"
      ]
     },
     "metadata": {},
     "output_type": "display_data"
    }
   ],
   "source": [
    "merged['predict'].plot()"
   ]
  },
  {
   "cell_type": "code",
   "execution_count": 135,
   "metadata": {},
   "outputs": [
    {
     "name": "stdout",
     "output_type": "stream",
     "text": [
      "H2O session _sid_9afd closed.\n"
     ]
    }
   ],
   "source": [
    "# Close h2o cluster\n",
    "h2o.cluster().shutdown(prompt=False)"
   ]
  },
  {
   "cell_type": "markdown",
   "metadata": {},
   "source": [
    "## Rest of h2o.ai tutorial"
   ]
  },
  {
   "cell_type": "code",
   "execution_count": 25,
   "metadata": {},
   "outputs": [],
   "source": [
    "# Import H2O RF:\n",
    "from h2o.estimators.random_forest import H2ORandomForestEstimator"
   ]
  },
  {
   "cell_type": "code",
   "execution_count": 26,
   "metadata": {},
   "outputs": [],
   "source": [
    "# Initialize the RF estimator:\n",
    "\n",
    "rf_fit1 = H2ORandomForestEstimator(model_id='rf_fit1', seed=1)"
   ]
  },
  {
   "cell_type": "code",
   "execution_count": 27,
   "metadata": {},
   "outputs": [
    {
     "name": "stdout",
     "output_type": "stream",
     "text": [
      "drf Model Build progress: |███████████████████████████████████████████████| 100%\n"
     ]
    }
   ],
   "source": [
    "rf_fit1.train(x=x, y=y, training_frame=train)"
   ]
  },
  {
   "cell_type": "code",
   "execution_count": 28,
   "metadata": {},
   "outputs": [
    {
     "name": "stdout",
     "output_type": "stream",
     "text": [
      "drf Model Build progress: |███████████████████████████████████████████████| 100%\n"
     ]
    }
   ],
   "source": [
    "rf_fit2 = H2ORandomForestEstimator(model_id='rf_fit2', ntrees=100, seed=1)\n",
    "rf_fit2.train(x=x, y=y, training_frame=train)"
   ]
  },
  {
   "cell_type": "code",
   "execution_count": 29,
   "metadata": {},
   "outputs": [],
   "source": [
    "rf_perf1 = rf_fit1.model_performance(test)\n",
    "rf_perf2 = rf_fit2.model_performance(test)"
   ]
  },
  {
   "cell_type": "code",
   "execution_count": 30,
   "metadata": {},
   "outputs": [
    {
     "name": "stdout",
     "output_type": "stream",
     "text": [
      "0.663462768485\n",
      "0.669287987873\n"
     ]
    }
   ],
   "source": [
    "print rf_perf1.auc()\n",
    "print rf_perf2.auc()"
   ]
  },
  {
   "cell_type": "code",
   "execution_count": 31,
   "metadata": {},
   "outputs": [
    {
     "name": "stdout",
     "output_type": "stream",
     "text": [
      "drf Model Build progress: |███████████████████████████████████████████████| 100%\n"
     ]
    }
   ],
   "source": [
    "rf_fit3 = H2ORandomForestEstimator(model_id='rf_fit3', seed=1, nfolds=5)\n",
    "rf_fit3.train(x=x, y=y, training_frame=data)"
   ]
  },
  {
   "cell_type": "code",
   "execution_count": 32,
   "metadata": {},
   "outputs": [
    {
     "name": "stdout",
     "output_type": "stream",
     "text": [
      "0.663606041745\n"
     ]
    }
   ],
   "source": [
    "print rf_fit3.auc(xval=True)"
   ]
  },
  {
   "cell_type": "code",
   "execution_count": 33,
   "metadata": {},
   "outputs": [],
   "source": [
    "# Import H2O GBM:\n",
    "from h2o.estimators.gbm import H2OGradientBoostingEstimator"
   ]
  },
  {
   "cell_type": "code",
   "execution_count": 34,
   "metadata": {},
   "outputs": [
    {
     "name": "stdout",
     "output_type": "stream",
     "text": [
      "gbm Model Build progress: |███████████████████████████████████████████████| 100%\n"
     ]
    }
   ],
   "source": [
    "# Initialize and train the GBM estimator:\n",
    "\n",
    "gbm_fit1 = H2OGradientBoostingEstimator(model_id='gbm_fit1', seed=1)\n",
    "gbm_fit1.train(x=x, y=y, training_frame=train)"
   ]
  },
  {
   "cell_type": "code",
   "execution_count": 35,
   "metadata": {},
   "outputs": [
    {
     "name": "stdout",
     "output_type": "stream",
     "text": [
      "gbm Model Build progress: |███████████████████████████████████████████████| 100%\n"
     ]
    }
   ],
   "source": [
    "gbm_fit2 = H2OGradientBoostingEstimator(model_id='gbm_fit2', ntrees=500, seed=1)\n",
    "gbm_fit2.train(x=x, y=y, training_frame=train)"
   ]
  },
  {
   "cell_type": "code",
   "execution_count": 36,
   "metadata": {},
   "outputs": [
    {
     "name": "stdout",
     "output_type": "stream",
     "text": [
      "gbm Model Build progress: |███████████████████████████████████████████████| 100%\n"
     ]
    }
   ],
   "source": [
    "gbm_fit3 = H2OGradientBoostingEstimator(model_id='gbm_fit3', \n",
    "                                        ntrees=500, \n",
    "                                        score_tree_interval=5,     #used for early stopping\n",
    "                                        stopping_rounds=3,         #used for early stopping\n",
    "                                        stopping_metric='AUC',     #used for early stopping\n",
    "                                        stopping_tolerance=0.0005, #used for early stopping\n",
    "                                        seed=1)\n",
    "\n",
    "# The use of a validation_frame is recommended with using early stopping\n",
    "gbm_fit3.train(x=x, y=y, training_frame=train, validation_frame=valid)\n"
   ]
  },
  {
   "cell_type": "code",
   "execution_count": 37,
   "metadata": {},
   "outputs": [],
   "source": [
    "gbm_perf1 = gbm_fit1.model_performance(test)\n",
    "gbm_perf2 = gbm_fit2.model_performance(test)\n",
    "gbm_perf3 = gbm_fit3.model_performance(test)"
   ]
  },
  {
   "cell_type": "code",
   "execution_count": 38,
   "metadata": {},
   "outputs": [
    {
     "name": "stdout",
     "output_type": "stream",
     "text": [
      "0.683883128672\n",
      "0.684086466361\n",
      "0.684443511563\n"
     ]
    }
   ],
   "source": [
    "# Retreive test set AUC\n",
    "print gbm_perf1.auc()\n",
    "print gbm_perf2.auc()\n",
    "print gbm_perf3.auc()"
   ]
  },
  {
   "cell_type": "code",
   "execution_count": 39,
   "metadata": {},
   "outputs": [
    {
     "name": "stdout",
     "output_type": "stream",
     "text": [
      "Scoring History: \n"
     ]
    },
    {
     "data": {
      "text/html": [
       "<div style=\"overflow:auto\"><table style=\"width:50%\"><tr><td><b></b></td>\n",
       "<td><b>timestamp</b></td>\n",
       "<td><b>duration</b></td>\n",
       "<td><b>number_of_trees</b></td>\n",
       "<td><b>training_rmse</b></td>\n",
       "<td><b>training_logloss</b></td>\n",
       "<td><b>training_auc</b></td>\n",
       "<td><b>training_lift</b></td>\n",
       "<td><b>training_classification_error</b></td></tr>\n",
       "<tr><td></td>\n",
       "<td>2018-04-25 08:45:40</td>\n",
       "<td> 0.028 sec</td>\n",
       "<td>0.0</td>\n",
       "<td>0.3856346</td>\n",
       "<td>0.4740298</td>\n",
       "<td>0.5</td>\n",
       "<td>1.0</td>\n",
       "<td>0.8182546</td></tr>\n",
       "<tr><td></td>\n",
       "<td>2018-04-25 08:45:40</td>\n",
       "<td> 0.128 sec</td>\n",
       "<td>1.0</td>\n",
       "<td>0.3837005</td>\n",
       "<td>0.4691294</td>\n",
       "<td>0.6577912</td>\n",
       "<td>2.6832997</td>\n",
       "<td>0.4006858</td></tr>\n",
       "<tr><td></td>\n",
       "<td>2018-04-25 08:45:40</td>\n",
       "<td> 0.174 sec</td>\n",
       "<td>2.0</td>\n",
       "<td>0.3820620</td>\n",
       "<td>0.4651166</td>\n",
       "<td>0.6658294</td>\n",
       "<td>2.7939915</td>\n",
       "<td>0.3332492</td></tr>\n",
       "<tr><td></td>\n",
       "<td>2018-04-25 08:45:40</td>\n",
       "<td> 0.221 sec</td>\n",
       "<td>3.0</td>\n",
       "<td>0.3806936</td>\n",
       "<td>0.4618385</td>\n",
       "<td>0.6685103</td>\n",
       "<td>2.9710023</td>\n",
       "<td>0.3447454</td></tr>\n",
       "<tr><td></td>\n",
       "<td>2018-04-25 08:45:40</td>\n",
       "<td> 0.276 sec</td>\n",
       "<td>4.0</td>\n",
       "<td>0.3795380</td>\n",
       "<td>0.4591170</td>\n",
       "<td>0.6701132</td>\n",
       "<td>2.9754401</td>\n",
       "<td>0.3318046</td></tr>\n",
       "<tr><td>---</td>\n",
       "<td>---</td>\n",
       "<td>---</td>\n",
       "<td>---</td>\n",
       "<td>---</td>\n",
       "<td>---</td>\n",
       "<td>---</td>\n",
       "<td>---</td>\n",
       "<td>---</td></tr>\n",
       "<tr><td></td>\n",
       "<td>2018-04-25 08:45:43</td>\n",
       "<td> 3.795 sec</td>\n",
       "<td>43.0</td>\n",
       "<td>0.3677312</td>\n",
       "<td>0.4317210</td>\n",
       "<td>0.7124068</td>\n",
       "<td>3.6410228</td>\n",
       "<td>0.2975859</td></tr>\n",
       "<tr><td></td>\n",
       "<td>2018-04-25 08:45:43</td>\n",
       "<td> 3.888 sec</td>\n",
       "<td>44.0</td>\n",
       "<td>0.3676187</td>\n",
       "<td>0.4314625</td>\n",
       "<td>0.7129225</td>\n",
       "<td>3.6553764</td>\n",
       "<td>0.3021722</td></tr>\n",
       "<tr><td></td>\n",
       "<td>2018-04-25 08:45:44</td>\n",
       "<td> 3.989 sec</td>\n",
       "<td>45.0</td>\n",
       "<td>0.3674805</td>\n",
       "<td>0.4311606</td>\n",
       "<td>0.7134660</td>\n",
       "<td>3.6649454</td>\n",
       "<td>0.3023984</td></tr>\n",
       "<tr><td></td>\n",
       "<td>2018-04-25 08:45:48</td>\n",
       "<td> 7.995 sec</td>\n",
       "<td>226.0</td>\n",
       "<td>0.3612902</td>\n",
       "<td>0.4176954</td>\n",
       "<td>0.7402357</td>\n",
       "<td>4.2582264</td>\n",
       "<td>0.2599471</td></tr>\n",
       "<tr><td></td>\n",
       "<td>2018-04-25 08:45:50</td>\n",
       "<td>10.864 sec</td>\n",
       "<td>500.0</td>\n",
       "<td>0.3612902</td>\n",
       "<td>0.4176954</td>\n",
       "<td>0.7402357</td>\n",
       "<td>4.2582264</td>\n",
       "<td>0.2599471</td></tr></table></div>"
      ],
      "text/plain": [
       "     timestamp            duration    number_of_trees    training_rmse    training_logloss    training_auc    training_lift    training_classification_error\n",
       "---  -------------------  ----------  -----------------  ---------------  ------------------  --------------  ---------------  -------------------------------\n",
       "     2018-04-25 08:45:40  0.028 sec   0.0                0.385634551401   0.474029820223      0.5             1.0              0.818254603683\n",
       "     2018-04-25 08:45:40  0.128 sec   1.0                0.3837005122     0.469129436808      0.657791165609  2.68329972068    0.400685766004\n",
       "     2018-04-25 08:45:40  0.174 sec   2.0                0.382061982395   0.465116567784      0.665829430978  2.79399154264    0.333249208062\n",
       "     2018-04-25 08:45:40  0.221 sec   3.0                0.380693585036   0.461838509958      0.668510341023  2.97100227756    0.344745361507\n",
       "     2018-04-25 08:45:40  0.276 sec   4.0                0.37953800372    0.459117012737      0.670113151912  2.97544005596    0.331804574094\n",
       "---  ---                  ---         ---                ---              ---                 ---             ---              ---\n",
       "     2018-04-25 08:45:43  3.795 sec   43.0               0.367731196852   0.431721034686      0.712406800184  3.64102279257    0.297585894803\n",
       "     2018-04-25 08:45:43  3.888 sec   44.0               0.367618740501   0.43146245139       0.712922465256  3.65537636468    0.302172172521\n",
       "     2018-04-25 08:45:44  3.989 sec   45.0               0.367480513734   0.431160572065      0.713465990166  3.66494541276    0.302398440492\n",
       "     2018-04-25 08:45:48  7.995 sec   226.0              0.361290217025   0.417695443147      0.740235728925  4.25822639341    0.259947088105\n",
       "     2018-04-25 08:45:50  10.864 sec  500.0              0.361290217025   0.417695443147      0.740235728925  4.25822639341    0.259947088105"
      ]
     },
     "metadata": {},
     "output_type": "display_data"
    },
    {
     "data": {
      "text/plain": []
     },
     "execution_count": 39,
     "metadata": {},
     "output_type": "execute_result"
    }
   ],
   "source": [
    "gbm_fit2.scoring_history()"
   ]
  },
  {
   "cell_type": "code",
   "execution_count": 40,
   "metadata": {},
   "outputs": [],
   "source": [
    "# Import H2O DL:\n",
    "from h2o.estimators.deeplearning import H2ODeepLearningEstimator"
   ]
  },
  {
   "cell_type": "code",
   "execution_count": 41,
   "metadata": {},
   "outputs": [
    {
     "name": "stdout",
     "output_type": "stream",
     "text": [
      "deeplearning Model Build progress: |██████████████████████████████████████| 100%\n"
     ]
    }
   ],
   "source": [
    "dl_fit1 = H2ODeepLearningEstimator(model_id='dl_fit1', seed=1)\n",
    "dl_fit1.train(x=x, y=y, training_frame=train)"
   ]
  },
  {
   "cell_type": "code",
   "execution_count": 42,
   "metadata": {},
   "outputs": [
    {
     "name": "stdout",
     "output_type": "stream",
     "text": [
      "deeplearning Model Build progress: |██████████████████████████████████████| 100%\n"
     ]
    }
   ],
   "source": [
    "dl_fit2 = H2ODeepLearningEstimator(model_id='dl_fit2', \n",
    "                                   epochs=20, \n",
    "                                   hidden=[10,10], \n",
    "                                   stopping_rounds=0,  #disable early stopping\n",
    "                                   seed=1)\n",
    "dl_fit2.train(x=x, y=y, training_frame=train)"
   ]
  },
  {
   "cell_type": "code",
   "execution_count": 43,
   "metadata": {},
   "outputs": [
    {
     "name": "stdout",
     "output_type": "stream",
     "text": [
      "deeplearning Model Build progress: |██████████████████████████████████████| 100%\n"
     ]
    }
   ],
   "source": [
    "dl_fit3 = H2ODeepLearningEstimator(model_id='dl_fit3', \n",
    "                                   epochs=20, \n",
    "                                   hidden=[10,10],\n",
    "                                   score_interval=1,          #used for early stopping\n",
    "                                   stopping_rounds=3,         #used for early stopping\n",
    "                                   stopping_metric='AUC',     #used for early stopping\n",
    "                                   stopping_tolerance=0.0005, #used for early stopping\n",
    "                                   seed=1)\n",
    "dl_fit3.train(x=x, y=y, training_frame=train, validation_frame=valid)"
   ]
  },
  {
   "cell_type": "code",
   "execution_count": 44,
   "metadata": {},
   "outputs": [],
   "source": [
    "dl_perf1 = dl_fit1.model_performance(test)\n",
    "dl_perf2 = dl_fit2.model_performance(test)\n",
    "dl_perf3 = dl_fit3.model_performance(test)"
   ]
  },
  {
   "cell_type": "code",
   "execution_count": 45,
   "metadata": {},
   "outputs": [
    {
     "name": "stdout",
     "output_type": "stream",
     "text": [
      "0.686254936726\n",
      "0.681516110354\n",
      "0.681802966019\n"
     ]
    }
   ],
   "source": [
    "# Retreive test set AUC\n",
    "print dl_perf1.auc()\n",
    "print dl_perf2.auc()\n",
    "print dl_perf3.auc()"
   ]
  },
  {
   "cell_type": "code",
   "execution_count": 47,
   "metadata": {},
   "outputs": [
    {
     "name": "stdout",
     "output_type": "stream",
     "text": [
      "naivebayes Model Build progress: |████████████████████████████████████████| 100%\n"
     ]
    }
   ],
   "source": [
    "from h2o.estimators.naive_bayes import H2ONaiveBayesEstimator\n",
    "nb_fit1 = H2ONaiveBayesEstimator(model_id='nb_fit1')\n",
    "nb_fit1.train(x=x, y=y, training_frame=train)"
   ]
  },
  {
   "cell_type": "code",
   "execution_count": 48,
   "metadata": {},
   "outputs": [
    {
     "name": "stdout",
     "output_type": "stream",
     "text": [
      "naivebayes Model Build progress: |████████████████████████████████████████| 100%\n"
     ]
    }
   ],
   "source": [
    "nb_fit2 = H2ONaiveBayesEstimator(model_id='nb_fit2', laplace=6)\n",
    "nb_fit2.train(x=x, y=y, training_frame=train)"
   ]
  },
  {
   "cell_type": "code",
   "execution_count": 49,
   "metadata": {},
   "outputs": [],
   "source": [
    "nb_perf1 = nb_fit1.model_performance(test)\n",
    "nb_perf2 = nb_fit2.model_performance(test)"
   ]
  },
  {
   "cell_type": "code",
   "execution_count": 50,
   "metadata": {},
   "outputs": [
    {
     "name": "stdout",
     "output_type": "stream",
     "text": [
      "0.651337099516\n",
      "0.651391851824\n"
     ]
    }
   ],
   "source": [
    "# Retreive test set AUC\n",
    "print nb_perf1.auc()\n",
    "print nb_perf2.auc()"
   ]
  }
 ],
 "metadata": {
  "kernelspec": {
   "display_name": "Python 3",
   "language": "python",
   "name": "python3"
  },
  "language_info": {
   "codemirror_mode": {
    "name": "ipython",
    "version": 3
   },
   "file_extension": ".py",
   "mimetype": "text/x-python",
   "name": "python",
   "nbconvert_exporter": "python",
   "pygments_lexer": "ipython3",
   "version": "3.6.5"
  }
 },
 "nbformat": 4,
 "nbformat_minor": 2
}
