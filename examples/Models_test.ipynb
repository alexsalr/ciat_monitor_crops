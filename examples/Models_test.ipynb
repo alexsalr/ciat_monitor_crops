{
 "cells": [
  {
   "cell_type": "markdown",
   "metadata": {},
   "source": [
    "## Test ML models\n",
    "### h2o.ai\n",
    "Transform netCDF serialized files to h2o dataframes via xarray and pandas."
   ]
  },
  {
   "cell_type": "code",
   "execution_count": 1,
   "metadata": {},
   "outputs": [
    {
     "data": {
      "text/html": [
       "<table style=\"border: 2px solid white;\">\n",
       "<tr>\n",
       "<td style=\"vertical-align: top; border: 0px solid white\">\n",
       "<h3>Client</h3>\n",
       "<ul>\n",
       "  <li><b>Scheduler: </b>tcp://127.0.0.1:40164\n",
       "  <li><b>Dashboard: </b><a href='http://127.0.0.1:57880/status' target='_blank'>http://127.0.0.1:57880/status</a>\n",
       "</ul>\n",
       "</td>\n",
       "<td style=\"vertical-align: top; border: 0px solid white\">\n",
       "<h3>Cluster</h3>\n",
       "<ul>\n",
       "  <li><b>Workers: </b>6</li>\n",
       "  <li><b>Cores: </b>24</li>\n",
       "  <li><b>Memory: </b>33.55 GB</li>\n",
       "</ul>\n",
       "</td>\n",
       "</tr>\n",
       "</table>"
      ],
      "text/plain": [
       "<Client: scheduler='tcp://127.0.0.1:40164' processes=6 cores=24>"
      ]
     },
     "execution_count": 1,
     "metadata": {},
     "output_type": "execute_result"
    }
   ],
   "source": [
    "from dask.distributed import Client\n",
    "client = Client(n_workers=6)\n",
    "client"
   ]
  },
  {
   "cell_type": "code",
   "execution_count": 164,
   "metadata": {},
   "outputs": [
    {
     "name": "stderr",
     "output_type": "stream",
     "text": [
      "Exception ignored in: <generator object add_client at 0x7f7f502e85c8>\n",
      "RuntimeError: generator ignored GeneratorExit\n",
      "ERROR:asyncio:Future exception was never retrieved\n",
      "future: <Future finished exception=CommClosedError('in <closed TCP>: Stream is closed',)>\n",
      "Traceback (most recent call last):\n",
      "  File \"/home/azalazar/anaconda3/envs/models3/lib/python3.6/site-packages/distributed/comm/tcp.py\", line 179, in read\n",
      "    n_frames = yield stream.read_bytes(8)\n",
      "  File \"/home/azalazar/anaconda3/envs/models3/lib/python3.6/site-packages/tornado/gen.py\", line 1099, in run\n",
      "    value = future.result()\n",
      "tornado.iostream.StreamClosedError: Stream is closed\n",
      "\n",
      "During handling of the above exception, another exception occurred:\n",
      "\n",
      "Traceback (most recent call last):\n",
      "  File \"/home/azalazar/anaconda3/envs/models3/lib/python3.6/site-packages/tornado/gen.py\", line 1107, in run\n",
      "    yielded = self.gen.throw(*exc_info)\n",
      "  File \"/home/azalazar/anaconda3/envs/models3/lib/python3.6/site-packages/distributed/comm/tcp.py\", line 200, in read\n",
      "    convert_stream_closed_error(self, e)\n",
      "  File \"/home/azalazar/anaconda3/envs/models3/lib/python3.6/site-packages/distributed/comm/tcp.py\", line 128, in convert_stream_closed_error\n",
      "    raise CommClosedError(\"in %s: %s\" % (obj, exc))\n",
      "distributed.comm.core.CommClosedError: in <closed TCP>: Stream is closed\n"
     ]
    }
   ],
   "source": [
    "client.close()"
   ]
  },
  {
   "cell_type": "code",
   "execution_count": 2,
   "metadata": {},
   "outputs": [],
   "source": [
    "# Load data\n",
    "import sys\n",
    "sys.path.append('../b_Temporal_Stack')\n",
    "import regionstack\n",
    "import eotempstack"
   ]
  },
  {
   "cell_type": "code",
   "execution_count": 2,
   "metadata": {},
   "outputs": [
    {
     "name": "stdout",
     "output_type": "stream",
     "text": [
      "S1 object initialized from /mnt/workspace_cluster_6/TRANSVERSAL_PROJECTS/MADR/COMPONENTE_2/Imagenes_Satelitales/Temp/asalazar_tests/data/Saldana_training_2015/pre/\n"
     ]
    }
   ],
   "source": [
    "\n",
    "data_dir = '/mnt/workspace_cluster_6/TRANSVERSAL_PROJECTS/MADR/COMPONENTE_2/Imagenes_Satelitales/Temp/asalazar_tests/data/Saldana_training_2015/pre/'\n",
    "out_dir = '/mnt/workspace_cluster_6/TRANSVERSAL_PROJECTS/MADR/COMPONENTE_2/Imagenes_Satelitales/Temp/asalazar_tests/data/Saldana_training_2015/stack/'\n",
    "\n",
    "t = eotempstack.S1TempStack(data_dir, out_dir, 'ASCENDING')\n"
   ]
  },
  {
   "cell_type": "code",
   "execution_count": 3,
   "metadata": {},
   "outputs": [
    {
     "data": {
      "text/plain": [
       "{'VV': [datetime.date(2018, 4, 8),\n",
       "  datetime.date(2015, 11, 27),\n",
       "  datetime.date(2016, 2, 7),\n",
       "  datetime.date(2018, 4, 20),\n",
       "  datetime.date(2015, 12, 21),\n",
       "  datetime.date(2016, 1, 14)]}"
      ]
     },
     "execution_count": 3,
     "metadata": {},
     "output_type": "execute_result"
    }
   ],
   "source": [
    "t.getTempData()"
   ]
  },
  {
   "cell_type": "code",
   "execution_count": 4,
   "metadata": {},
   "outputs": [
    {
     "data": {
      "text/plain": [
       "'/mnt/workspace_cluster_6/TRANSVERSAL_PROJECTS/MADR/COMPONENTE_2/Imagenes_Satelitales/Temp/asalazar_tests/data/Saldana_training_2015/stack/S1_ASCENDING_'"
      ]
     },
     "execution_count": 4,
     "metadata": {},
     "output_type": "execute_result"
    }
   ],
   "source": [
    "t.out_directory+t.prod_type+'_'+t.orbit+'_'#+month+'.nc'"
   ]
  },
  {
   "cell_type": "code",
   "execution_count": 3,
   "metadata": {},
   "outputs": [],
   "source": [
    "t.createXDataset()"
   ]
  },
  {
   "cell_type": "code",
   "execution_count": 9,
   "metadata": {},
   "outputs": [],
   "source": [
    "from datetime import datetime as dt\n",
    "from calendar import monthrange\n",
    "time_ranges = list([(dt.strptime('01'+x.strftime('%m%Y'), '%d%m%Y').date(),\n",
    "                            dt.strptime(str(monthrange(x.year, x.month)[1])+x.strftime('%m%Y'), '%d%m%Y').date()) for x in next(iter(t.getTempData().values()))])"
   ]
  },
  {
   "cell_type": "code",
   "execution_count": 11,
   "metadata": {},
   "outputs": [
    {
     "data": {
      "text/plain": [
       "[(datetime.date(2015, 11, 1), datetime.date(2015, 11, 30)),\n",
       " (datetime.date(2015, 12, 1), datetime.date(2015, 12, 31)),\n",
       " (datetime.date(2016, 1, 1), datetime.date(2016, 1, 31)),\n",
       " (datetime.date(2016, 2, 1), datetime.date(2016, 2, 29))]"
      ]
     },
     "execution_count": 11,
     "metadata": {},
     "output_type": "execute_result"
    }
   ],
   "source": [
    "list(time_ranges)"
   ]
  },
  {
   "cell_type": "code",
   "execution_count": 15,
   "metadata": {},
   "outputs": [
    {
     "data": {
      "text/plain": [
       "{'VV_ASM': [],\n",
       " 'VV_Contrast': [],\n",
       " 'VV_Dissimilarity': [],\n",
       " 'VV_Energy': [],\n",
       " 'VV_Entropy': [],\n",
       " 'VV_GLCMCorrelation': [],\n",
       " 'VV_GLCMMean': [],\n",
       " 'VV_GLCMVariance': [],\n",
       " 'VV_Homogeneity': [],\n",
       " 'VH_ASM': [],\n",
       " 'VH_Contrast': [],\n",
       " 'VH_Dissimilarity': [],\n",
       " 'VH_Energy': [],\n",
       " 'VH_Entropy': [],\n",
       " 'VH_GLCMCorrelation': [],\n",
       " 'VH_GLCMMean': [],\n",
       " 'VH_GLCMVariance': [],\n",
       " 'VH_Homogeneity': []}"
      ]
     },
     "execution_count": 15,
     "metadata": {},
     "output_type": "execute_result"
    }
   ],
   "source": [
    "t.getTempData()#.values()"
   ]
  },
  {
   "cell_type": "code",
   "execution_count": null,
   "metadata": {},
   "outputs": [],
   "source": [
    "saldana = regionstack.regionStack('Saldana_training_2015')"
   ]
  },
  {
   "cell_type": "code",
   "execution_count": 6,
   "metadata": {},
   "outputs": [
    {
     "data": {
      "text/plain": [
       "<matplotlib.collections.QuadMesh at 0x7f0e280e88d0>"
      ]
     },
     "execution_count": 6,
     "metadata": {},
     "output_type": "execute_result"
    },
    {
     "data": {
      "image/png": "[encoded data removed]",
      "text/plain": [
       "<Figure size 432x288 with 2 Axes>"
      ]
     },
     "metadata": {},
     "output_type": "display_data"
    }
   ],
   "source": [
    "saldana.S1_ASCENDING_GLCM.isel(time=0).VV_ASM.plot()"
   ]
  },
  {
   "cell_type": "code",
   "execution_count": 9,
   "metadata": {},
   "outputs": [
    {
     "data": {
      "text/plain": [
       "<xarray.Dataset>\n",
       "Dimensions:  (time: 8, x: 2979, y: 3631)\n",
       "Coordinates:\n",
       "  * time     (time) datetime64[ns] 2015-12-11 2015-12-21 2015-12-31 ...\n",
       "  * x        (x) float64 4.889e+05 4.889e+05 4.889e+05 4.889e+05 4.889e+05 ...\n",
       "  * y        (y) float64 4.485e+05 4.484e+05 4.484e+05 4.484e+05 4.484e+05 ...\n",
       "    mask     (time, y, x) int8 dask.array<shape=(8, 3631, 2979), chunksize=(1, 1000, 1000)>\n",
       "Data variables:\n",
       "    blue     (time, y, x) uint16 dask.array<shape=(8, 3631, 2979), chunksize=(8, 1000, 1000)>\n",
       "    swir1    (time, y, x) uint16 dask.array<shape=(8, 3631, 2979), chunksize=(8, 1000, 1000)>\n",
       "    swir2    (time, y, x) uint16 dask.array<shape=(8, 3631, 2979), chunksize=(8, 1000, 1000)>\n",
       "    green    (time, y, x) uint16 dask.array<shape=(8, 3631, 2979), chunksize=(8, 1000, 1000)>\n",
       "    nir      (time, y, x) uint16 dask.array<shape=(8, 3631, 2979), chunksize=(8, 1000, 1000)>\n",
       "    NDVI     (time, y, x) float32 dask.array<shape=(8, 3631, 2979), chunksize=(8, 1000, 1000)>\n",
       "    LSWI     (time, y, x) float32 dask.array<shape=(8, 3631, 2979), chunksize=(8, 1000, 1000)>\n",
       "    red      (time, y, x) uint16 dask.array<shape=(8, 3631, 2979), chunksize=(8, 1000, 1000)>\n",
       "    NDVI_c   (time, x, y) float64 dask.array<shape=(8, 2979, 3631), chunksize=(1, 1000, 1000)>\n",
       "    LSWI_c   (time, x, y) float64 dask.array<shape=(8, 2979, 3631), chunksize=(1, 1000, 1000)>"
      ]
     },
     "execution_count": 9,
     "metadata": {},
     "output_type": "execute_result"
    }
   ],
   "source": [
    "saldana.S2"
   ]
  },
  {
   "cell_type": "code",
   "execution_count": 6,
   "metadata": {
    "scrolled": true
   },
   "outputs": [
    {
     "name": "stdout",
     "output_type": "stream",
     "text": [
      "Processing band NDVI for date 2015-12-21T00:00:00.000000000\n",
      "Processing band NDVI for date 2015-12-31T00:00:00.000000000\n",
      "Processing band NDVI for date 2016-01-10T00:00:00.000000000\n",
      "Processing band NDVI for date 2016-01-20T00:00:00.000000000\n",
      "Processing band NDVI for date 2016-01-30T00:00:00.000000000\n",
      "Processing band NDVI for date 2016-02-09T00:00:00.000000000\n",
      "Processing band NDVI for date 2016-02-19T00:00:00.000000000\n",
      "Processing band LSWI for date 2015-12-21T00:00:00.000000000\n",
      "Processing band LSWI for date 2015-12-31T00:00:00.000000000\n",
      "Processing band LSWI for date 2016-01-10T00:00:00.000000000\n",
      "Processing band LSWI for date 2016-01-20T00:00:00.000000000\n",
      "Processing band LSWI for date 2016-01-30T00:00:00.000000000\n",
      "Processing band LSWI for date 2016-02-09T00:00:00.000000000\n",
      "Processing band LSWI for date 2016-02-19T00:00:00.000000000\n"
     ]
    }
   ],
   "source": [
    "saldana.calcTempVariation('S2', ['NDVI','LSWI'])#,'red', 'green','blue','nir','swir1','swir2'])"
   ]
  },
  {
   "cell_type": "code",
   "execution_count": 9,
   "metadata": {},
   "outputs": [
    {
     "name": "stdout",
     "output_type": "stream",
     "text": [
      "Processing band VV for date 2015-12-28T00:00:00.000000000\n",
      "Processing band VV for date 2016-01-21T00:00:00.000000000\n",
      "Processing band VV for date 2016-02-14T00:00:00.000000000\n"
     ]
    }
   ],
   "source": [
    "#saldana.calcTempVariation('S1_ASCENDING', ['VV'])\n",
    "saldana.calcTempVariation('S1_DESCENDING', ['VV'])\n",
    "#saldana.S1_ASCENDING #[['NDVI_c','LSWI_c']]"
   ]
  },
  {
   "cell_type": "code",
   "execution_count": 17,
   "metadata": {},
   "outputs": [],
   "source": [
    "ratio = saldana.S1_DESCENDING.VV / saldana.S1_DESCENDING.VH"
   ]
  },
  {
   "cell_type": "code",
   "execution_count": 4,
   "metadata": {
    "scrolled": true
   },
   "outputs": [
    {
     "name": "stdout",
     "output_type": "stream",
     "text": [
      "Adding dataset with classes as class_ds attribute of regionStack\n"
     ]
    }
   ],
   "source": [
    "shp_file = '/home/azalazar/data/saldana.shp'\n",
    "\n",
    "saldana.regionTrainingClasses(shp_file, testset=0.3)"
   ]
  },
  {
   "cell_type": "code",
   "execution_count": 5,
   "metadata": {},
   "outputs": [
    {
     "data": {
      "text/plain": [
       "{'S1_DESCENDING': ['VV', 'VV_c'],\n",
       " 'S1_ASCENDING': ['VV', 'VV_c'],\n",
       " 'S1_ASCENDING_GLCM': ['VV_ASM',\n",
       "  'VV_Contrast',\n",
       "  'VV_Dissimilarity',\n",
       "  'VV_Energy',\n",
       "  'VV_Entropy',\n",
       "  'VV_GLCMCorrelation',\n",
       "  'VV_GLCMMean',\n",
       "  'VV_GLCMVariance',\n",
       "  'VV_Homogeneity'],\n",
       " 'S1_DESCENDING_GLCM': ['VV_ASM',\n",
       "  'VV_Contrast',\n",
       "  'VV_Dissimilarity',\n",
       "  'VV_Energy',\n",
       "  'VV_Entropy',\n",
       "  'VV_GLCMCorrelation',\n",
       "  'VV_GLCMMean',\n",
       "  'VV_GLCMVariance',\n",
       "  'VV_Homogeneity']}"
      ]
     },
     "execution_count": 5,
     "metadata": {},
     "output_type": "execute_result"
    }
   ],
   "source": [
    "data_dict = dict([('S1_DESCENDING',['VV','VV_c']),\n",
    "                  ('S1_ASCENDING',['VV','VV_c']),\n",
    "                  ('S1_ASCENDING_GLCM',['VV_ASM','VV_Contrast','VV_Dissimilarity',\n",
    "                                        'VV_Energy','VV_Entropy','VV_GLCMCorrelation',\n",
    "                                        'VV_GLCMMean','VV_GLCMVariance','VV_Homogeneity']),\n",
    "                  ('S1_DESCENDING_GLCM',['VV_ASM','VV_Contrast','VV_Dissimilarity',\n",
    "                                         'VV_Energy','VV_Entropy','VV_GLCMCorrelation',\n",
    "                                         'VV_GLCMMean','VV_GLCMVariance','VV_Homogeneity'])])\n",
    "data_dict"
   ]
  },
  {
   "cell_type": "code",
   "execution_count": 6,
   "metadata": {},
   "outputs": [
    {
     "name": "stdout",
     "output_type": "stream",
     "text": [
      "Writing test parquet dataset to /mnt/workspace_cluster_6/TRANSVERSAL_PROJECTS/MADR/COMPONENTE_2/Imagenes_Satelitales/Temp/asalazar_tests/data/Saldana_training_2015/parquet/test0/ . 1 of 6...\n",
      "Writing test parquet dataset to /mnt/workspace_cluster_6/TRANSVERSAL_PROJECTS/MADR/COMPONENTE_2/Imagenes_Satelitales/Temp/asalazar_tests/data/Saldana_training_2015/parquet/test1/ . 2 of 6...\n",
      "Writing test parquet dataset to /mnt/workspace_cluster_6/TRANSVERSAL_PROJECTS/MADR/COMPONENTE_2/Imagenes_Satelitales/Temp/asalazar_tests/data/Saldana_training_2015/parquet/test2/ . 3 of 6...\n",
      "Writing test parquet dataset to /mnt/workspace_cluster_6/TRANSVERSAL_PROJECTS/MADR/COMPONENTE_2/Imagenes_Satelitales/Temp/asalazar_tests/data/Saldana_training_2015/parquet/test3/ . 4 of 6...\n",
      "Writing test parquet dataset to /mnt/workspace_cluster_6/TRANSVERSAL_PROJECTS/MADR/COMPONENTE_2/Imagenes_Satelitales/Temp/asalazar_tests/data/Saldana_training_2015/parquet/test4/ . 5 of 6...\n",
      "Writing test parquet dataset to /mnt/workspace_cluster_6/TRANSVERSAL_PROJECTS/MADR/COMPONENTE_2/Imagenes_Satelitales/Temp/asalazar_tests/data/Saldana_training_2015/parquet/test5/ . 6 of 6...\n"
     ]
    }
   ],
   "source": [
    "saldana.buildTrainingDataFrame(data_dict, ['test'])"
   ]
  },
  {
   "cell_type": "code",
   "execution_count": 12,
   "metadata": {},
   "outputs": [
    {
     "name": "stdout",
     "output_type": "stream",
     "text": [
      "0\n",
      "1\n",
      "2\n",
      "3\n",
      "4\n",
      "5\n",
      "6\n",
      "7\n"
     ]
    }
   ],
   "source": [
    "import numpy as np\n",
    "for index, date in np.ndenumerate(saldana.S2.time.values):\n",
    "    print(index[0])"
   ]
  },
  {
   "cell_type": "code",
   "execution_count": 18,
   "metadata": {},
   "outputs": [
    {
     "data": {
      "text/plain": [
       "array([1, 2, 3, 4, 5])"
      ]
     },
     "execution_count": 18,
     "metadata": {},
     "output_type": "execute_result"
    }
   ],
   "source": [
    "import numpy as np\n",
    "test = np.array([1,2,3,4,5,5])\n",
    "np.unique(test)"
   ]
  },
  {
   "cell_type": "code",
   "execution_count": 12,
   "metadata": {},
   "outputs": [
    {
     "name": "stdout",
     "output_type": "stream",
     "text": [
      "['2015-12-11T00:00:00.000000000' '2015-12-21T00:00:00.000000000'\n",
      " '2015-12-31T00:00:00.000000000' '2016-01-10T00:00:00.000000000'\n",
      " '2016-01-20T00:00:00.000000000' '2016-01-30T00:00:00.000000000'\n",
      " '2016-02-09T00:00:00.000000000' '2016-02-19T00:00:00.000000000']\n"
     ]
    }
   ],
   "source": [
    "import numpy as np\n",
    "a = np.array([], dtype=np.datetime64)\n",
    "a = np.append(a, saldana.S2.time.values)\n",
    "#print(a)\n",
    "#for num in range(10):\n",
    "#    print(num)\n",
    "#    a = np.append(a, num)\n",
    "print(a)"
   ]
  },
  {
   "cell_type": "code",
   "execution_count": 11,
   "metadata": {},
   "outputs": [],
   "source": [
    "saldana.S1_DESCENDING_GLCM = saldana.S1_DESCENCDING_GLCM"
   ]
  },
  {
   "cell_type": "code",
   "execution_count": 12,
   "metadata": {},
   "outputs": [
    {
     "ename": "AttributeError",
     "evalue": "'regionStack' object has no attribute 'train'",
     "output_type": "error",
     "traceback": [
      "\u001b[0;31m---------------------------------------------------------------------------\u001b[0m",
      "\u001b[0;31mAttributeError\u001b[0m                            Traceback (most recent call last)",
      "\u001b[0;32m<ipython-input-12-69816f6b848d>\u001b[0m in \u001b[0;36m<module>\u001b[0;34m()\u001b[0m\n\u001b[0;32m----> 1\u001b[0;31m \u001b[0msaldana\u001b[0m\u001b[0;34m.\u001b[0m\u001b[0mtrain\u001b[0m\u001b[0;31m#.to_netcdf(saldana.data_directory+'train.nc')#, chunks={'time':1})\u001b[0m\u001b[0;34m\u001b[0m\u001b[0m\n\u001b[0m",
      "\u001b[0;31mAttributeError\u001b[0m: 'regionStack' object has no attribute 'train'"
     ]
    }
   ],
   "source": [
    "saldana.train#.to_netcdf(saldana.data_directory+'train.nc')#, chunks={'time':1})"
   ]
  },
  {
   "cell_type": "code",
   "execution_count": 21,
   "metadata": {},
   "outputs": [
    {
     "data": {
      "text/html": [
       "<table style=\"border: 2px solid white;\">\n",
       "<tr>\n",
       "<td style=\"vertical-align: top; border: 0px solid white\">\n",
       "<h3>Client</h3>\n",
       "<ul>\n",
       "  <li><b>Scheduler: </b>tcp://127.0.0.1:41298\n",
       "  <li><b>Dashboard: </b><a href='http://127.0.0.1:55865/status' target='_blank'>http://127.0.0.1:55865/status</a>\n",
       "</ul>\n",
       "</td>\n",
       "<td style=\"vertical-align: top; border: 0px solid white\">\n",
       "<h3>Cluster</h3>\n",
       "<ul>\n",
       "  <li><b>Workers: </b>4</li>\n",
       "  <li><b>Cores: </b>24</li>\n",
       "  <li><b>Memory: </b>33.55 GB</li>\n",
       "</ul>\n",
       "</td>\n",
       "</tr>\n",
       "</table>"
      ],
      "text/plain": [
       "<Client: scheduler='tcp://127.0.0.1:41298' processes=4 cores=24>"
      ]
     },
     "execution_count": 21,
     "metadata": {},
     "output_type": "execute_result"
    }
   ],
   "source": [
    "client"
   ]
  },
  {
   "cell_type": "code",
   "execution_count": 27,
   "metadata": {},
   "outputs": [
    {
     "data": {
      "text/plain": [
       "<xarray.Dataset>\n",
       "Dimensions:   (time: 4, x: 2981, y: 3635)\n",
       "Coordinates:\n",
       "  * y         (y) float64 4.122e+05 4.122e+05 4.122e+05 4.122e+05 4.122e+05 ...\n",
       "  * x         (x) float64 4.889e+05 4.889e+05 4.889e+05 4.889e+05 4.889e+05 ...\n",
       "  * time      (time) datetime64[ns] 2015-12-11 2015-12-21 2015-12-31 2016-01-10\n",
       "    mask      (time, x, y) bool dask.array<shape=(4, 2981, 3635), chunksize=(1, 1000, 1220)>\n",
       "Data variables:\n",
       "    NDVI      (time, x, y) float32 dask.array<shape=(4, 2981, 3635), chunksize=(1, 1000, 1220)>\n",
       "    LSWI      (time, x, y) float32 dask.array<shape=(4, 2981, 3635), chunksize=(1, 1000, 1220)>\n",
       "    VV_ASC    (time, x, y) float32 dask.array<shape=(4, 2981, 3635), chunksize=(1, 1000, 1220)>\n",
       "    VV_DSC    (time, x, y) float32 dask.array<shape=(4, 2981, 3635), chunksize=(1, 1000, 1220)>\n",
       "    VH_DSC    (time, x, y) float32 dask.array<shape=(4, 2981, 3635), chunksize=(1, 1000, 1220)>\n",
       "    train     (time, x, y) float64 dask.array<shape=(4, 2981, 3635), chunksize=(1, 1000, 1220)>\n",
       "    test      (time, x, y) float64 dask.array<shape=(4, 2981, 3635), chunksize=(1, 1000, 1220)>\n",
       "    NDVI_c    (x, y, time) float64 dask.array<shape=(2981, 3635, 4), chunksize=(1000, 1220, 1)>\n",
       "    LSWI_c    (x, y, time) float64 dask.array<shape=(2981, 3635, 4), chunksize=(1000, 1220, 1)>\n",
       "    VV_ASC_c  (x, y, time) float64 dask.array<shape=(2981, 3635, 4), chunksize=(1000, 1220, 1)>\n",
       "    VV_DSC_c  (x, y, time) float64 dask.array<shape=(2981, 3635, 4), chunksize=(1000, 1220, 1)>\n",
       "    VH_DSC_c  (x, y, time) float64 dask.array<shape=(2981, 3635, 4), chunksize=(1000, 1220, 1)>"
      ]
     },
     "execution_count": 27,
     "metadata": {},
     "output_type": "execute_result"
    }
   ],
   "source": [
    "t_dir = '/mnt/workspace_cluster_6/TRANSVERSAL_PROJECTS/MADR/COMPONENTE_2/Imagenes_Satelitales/Temp/asalazar_tests/data/Saldana_training_2015/'\n",
    "train_data = xr.open_mfdataset(t_dir+'train.nc', chunks={'time':1, 'x':1000,'y':1220})\n",
    "train_data"
   ]
  },
  {
   "cell_type": "code",
   "execution_count": 190,
   "metadata": {},
   "outputs": [
    {
     "data": {
      "text/plain": [
       "array(['2015-12-04T00:00:00.000000000', '2015-12-28T00:00:00.000000000',\n",
       "       '2016-01-21T00:00:00.000000000', '2016-02-14T00:00:00.000000000'],\n",
       "      dtype='datetime64[ns]')"
      ]
     },
     "execution_count": 190,
     "metadata": {},
     "output_type": "execute_result"
    }
   ],
   "source": [
    "saldana.S1_DESCENDING.time.values"
   ]
  },
  {
   "cell_type": "code",
   "execution_count": 18,
   "metadata": {},
   "outputs": [
    {
     "data": {
      "text/plain": [
       "<matplotlib.collections.QuadMesh at 0x7fa633931b38>"
      ]
     },
     "execution_count": 18,
     "metadata": {},
     "output_type": "execute_result"
    },
    {
     "data": {
      "image/png": "[encoded data removed]",
      "text/plain": [
       "<Figure size 432x288 with 2 Axes>"
      ]
     },
     "metadata": {},
     "output_type": "display_data"
    }
   ],
   "source": [
    "train_data.train.isel(time=0).plot()"
   ]
  },
  {
   "cell_type": "code",
   "execution_count": 37,
   "metadata": {},
   "outputs": [
    {
     "data": {
      "text/plain": [
       "[<matplotlib.lines.Line2D at 0x7febc641bb50>]"
      ]
     },
     "execution_count": 37,
     "metadata": {},
     "output_type": "execute_result"
    },
    {
     "data": {
      "image/png": "[encoded data removed]",
      "text/plain": [
       "<Figure size 432x288 with 1 Axes>"
      ]
     },
     "metadata": {},
     "output_type": "display_data"
    }
   ],
   "source": [
    "saldana.train.time.plot(marker='o')"
   ]
  },
  {
   "cell_type": "markdown",
   "metadata": {},
   "source": [
    "### Machine learning with h2o.ai"
   ]
  },
  {
   "cell_type": "code",
   "execution_count": 1,
   "metadata": {},
   "outputs": [],
   "source": [
    "import h2o"
   ]
  },
  {
   "cell_type": "code",
   "execution_count": 33,
   "metadata": {},
   "outputs": [
    {
     "name": "stdout",
     "output_type": "stream",
     "text": [
      "Checking whether there is an H2O instance running at http://localhost:54321..... not found.\n",
      "Attempting to start a local H2O server...\n",
      "  Java Version: openjdk version \"1.8.0_121\"; OpenJDK Runtime Environment (Zulu 8.20.0.5-linux64) (build 1.8.0_121-b15); OpenJDK 64-Bit Server VM (Zulu 8.20.0.5-linux64) (build 25.121-b15, mixed mode)\n",
      "  Starting server from /home/azalazar/anaconda3/envs/models3/h2o_jar/h2o.jar\n",
      "  Ice root: /tmp/tmpg25folmr\n",
      "  JVM stdout: /tmp/tmpg25folmr/h2o_azalazar_started_from_python.out\n",
      "  JVM stderr: /tmp/tmpg25folmr/h2o_azalazar_started_from_python.err\n",
      "  Server is running at http://127.0.0.1:54321\n",
      "Connecting to H2O server at http://127.0.0.1:54321... successful.\n",
      "Warning: Your H2O cluster version is too old (4 months and 12 days)! Please download and install the latest version from http://h2o.ai/download/\n"
     ]
    },
    {
     "data": {
      "text/html": [
       "<div style=\"overflow:auto\"><table style=\"width:50%\"><tr><td>H2O cluster uptime:</td>\n",
       "<td>03 secs</td></tr>\n",
       "<tr><td>H2O cluster timezone:</td>\n",
       "<td>America/Bogota</td></tr>\n",
       "<tr><td>H2O data parsing timezone:</td>\n",
       "<td>UTC</td></tr>\n",
       "<tr><td>H2O cluster version:</td>\n",
       "<td>3.18.0.2</td></tr>\n",
       "<tr><td>H2O cluster version age:</td>\n",
       "<td>4 months and 12 days !!!</td></tr>\n",
       "<tr><td>H2O cluster name:</td>\n",
       "<td>H2O_from_python_azalazar_81j2wr</td></tr>\n",
       "<tr><td>H2O cluster total nodes:</td>\n",
       "<td>1</td></tr>\n",
       "<tr><td>H2O cluster free memory:</td>\n",
       "<td>7.111 Gb</td></tr>\n",
       "<tr><td>H2O cluster total cores:</td>\n",
       "<td>24</td></tr>\n",
       "<tr><td>H2O cluster allowed cores:</td>\n",
       "<td>24</td></tr>\n",
       "<tr><td>H2O cluster status:</td>\n",
       "<td>accepting new members, healthy</td></tr>\n",
       "<tr><td>H2O connection url:</td>\n",
       "<td>http://127.0.0.1:54321</td></tr>\n",
       "<tr><td>H2O connection proxy:</td>\n",
       "<td>None</td></tr>\n",
       "<tr><td>H2O internal security:</td>\n",
       "<td>False</td></tr>\n",
       "<tr><td>H2O API Extensions:</td>\n",
       "<td>XGBoost, Algos, AutoML, Core V3, Core V4</td></tr>\n",
       "<tr><td>Python version:</td>\n",
       "<td>3.6.5 final</td></tr></table></div>"
      ],
      "text/plain": [
       "--------------------------  ----------------------------------------\n",
       "H2O cluster uptime:         03 secs\n",
       "H2O cluster timezone:       America/Bogota\n",
       "H2O data parsing timezone:  UTC\n",
       "H2O cluster version:        3.18.0.2\n",
       "H2O cluster version age:    4 months and 12 days !!!\n",
       "H2O cluster name:           H2O_from_python_azalazar_81j2wr\n",
       "H2O cluster total nodes:    1\n",
       "H2O cluster free memory:    7.111 Gb\n",
       "H2O cluster total cores:    24\n",
       "H2O cluster allowed cores:  24\n",
       "H2O cluster status:         accepting new members, healthy\n",
       "H2O connection url:         http://127.0.0.1:54321\n",
       "H2O connection proxy:\n",
       "H2O internal security:      False\n",
       "H2O API Extensions:         XGBoost, Algos, AutoML, Core V3, Core V4\n",
       "Python version:             3.6.5 final\n",
       "--------------------------  ----------------------------------------"
      ]
     },
     "metadata": {},
     "output_type": "display_data"
    }
   ],
   "source": [
    "# Initialize h2o cluster\n",
    "h2o.init(nthreads = -1, max_mem_size = 8)"
   ]
  },
  {
   "cell_type": "code",
   "execution_count": 34,
   "metadata": {},
   "outputs": [
    {
     "name": "stdout",
     "output_type": "stream",
     "text": [
      "Parse progress: |█████████████████████████████████████████████████████████| 100%\n"
     ]
    }
   ],
   "source": [
    "import os\n",
    "\n",
    "data = h2o.import_file(os.environ['WIN_SVR_DATA']+'Saldana2/featdf/')"
   ]
  },
  {
   "cell_type": "code",
   "execution_count": 35,
   "metadata": {},
   "outputs": [
    {
     "data": {
      "text/html": [
       "<table>\n",
       "<thead>\n",
       "<tr><th>IDLote  </th><th style=\"text-align: right;\">  NDVI_0</th><th style=\"text-align: right;\">  NDVI_16</th><th style=\"text-align: right;\">  NDVI_32</th><th style=\"text-align: right;\">  NDVI_n112</th><th style=\"text-align: right;\">  NDVI_n16</th><th style=\"text-align: right;\">  NDVI_n32</th><th style=\"text-align: right;\">  NDVI_n48</th><th style=\"text-align: right;\">  NDVI_n64</th><th style=\"text-align: right;\">  NDVI_n80</th><th style=\"text-align: right;\">  NDVI_n96</th><th style=\"text-align: right;\">     VV_0</th><th style=\"text-align: right;\">    VV_16</th><th style=\"text-align: right;\">  VV_32</th><th style=\"text-align: right;\">  VV_ASM_0</th><th style=\"text-align: right;\">  VV_ASM_16</th><th style=\"text-align: right;\">  VV_ASM_32</th><th style=\"text-align: right;\">  VV_ASM_n112</th><th style=\"text-align: right;\">  VV_ASM_n128</th><th style=\"text-align: right;\">  VV_ASM_n144</th><th style=\"text-align: right;\">  VV_ASM_n16</th><th style=\"text-align: right;\">  VV_ASM_n160</th><th style=\"text-align: right;\">  VV_ASM_n176</th><th style=\"text-align: right;\">  VV_ASM_n192</th><th style=\"text-align: right;\">  VV_ASM_n208</th><th style=\"text-align: right;\">  VV_ASM_n32</th><th style=\"text-align: right;\">  VV_ASM_n48</th><th style=\"text-align: right;\">  VV_ASM_n64</th><th style=\"text-align: right;\">  VV_ASM_n80</th><th style=\"text-align: right;\">  VV_ASM_n96</th><th style=\"text-align: right;\">  VV_Contrast_0</th><th style=\"text-align: right;\">  VV_Contrast_16</th><th style=\"text-align: right;\">  VV_Contrast_32</th><th style=\"text-align: right;\">  VV_Contrast_n112</th><th style=\"text-align: right;\">  VV_Contrast_n128</th><th style=\"text-align: right;\">  VV_Contrast_n144</th><th style=\"text-align: right;\">  VV_Contrast_n16</th><th style=\"text-align: right;\">  VV_Contrast_n160</th><th style=\"text-align: right;\">  VV_Contrast_n176</th><th style=\"text-align: right;\">  VV_Contrast_n192</th><th style=\"text-align: right;\">  VV_Contrast_n208</th><th style=\"text-align: right;\">  VV_Contrast_n32</th><th style=\"text-align: right;\">  VV_Contrast_n48</th><th style=\"text-align: right;\">  VV_Contrast_n64</th><th style=\"text-align: right;\">  VV_Contrast_n80</th><th style=\"text-align: right;\">  VV_Contrast_n96</th><th style=\"text-align: right;\">  VV_Dissimilarity_0</th><th style=\"text-align: right;\">  VV_Dissimilarity_16</th><th style=\"text-align: right;\">  VV_Dissimilarity_32</th><th style=\"text-align: right;\">  VV_Dissimilarity_n112</th><th style=\"text-align: right;\">  VV_Dissimilarity_n128</th><th style=\"text-align: right;\">  VV_Dissimilarity_n144</th><th style=\"text-align: right;\">  VV_Dissimilarity_n16</th><th style=\"text-align: right;\">  VV_Dissimilarity_n160</th><th style=\"text-align: right;\">  VV_Dissimilarity_n176</th><th style=\"text-align: right;\">  VV_Dissimilarity_n192</th><th style=\"text-align: right;\">  VV_Dissimilarity_n208</th><th style=\"text-align: right;\">  VV_Dissimilarity_n32</th><th style=\"text-align: right;\">  VV_Dissimilarity_n48</th><th style=\"text-align: right;\">  VV_Dissimilarity_n64</th><th style=\"text-align: right;\">  VV_Dissimilarity_n80</th><th style=\"text-align: right;\">  VV_Dissimilarity_n96</th><th style=\"text-align: right;\">  VV_Energy_0</th><th style=\"text-align: right;\">  VV_Energy_16</th><th style=\"text-align: right;\">  VV_Energy_32</th><th style=\"text-align: right;\">  VV_Energy_n112</th><th style=\"text-align: right;\">  VV_Energy_n128</th><th style=\"text-align: right;\">  VV_Energy_n144</th><th style=\"text-align: right;\">  VV_Energy_n16</th><th style=\"text-align: right;\">  VV_Energy_n160</th><th style=\"text-align: right;\">  VV_Energy_n176</th><th style=\"text-align: right;\">  VV_Energy_n192</th><th style=\"text-align: right;\">  VV_Energy_n208</th><th style=\"text-align: right;\">  VV_Energy_n32</th><th style=\"text-align: right;\">  VV_Energy_n48</th><th style=\"text-align: right;\">  VV_Energy_n64</th><th style=\"text-align: right;\">  VV_Energy_n80</th><th style=\"text-align: right;\">  VV_Energy_n96</th><th style=\"text-align: right;\">  VV_Entropy_0</th><th style=\"text-align: right;\">  VV_Entropy_16</th><th style=\"text-align: right;\">  VV_Entropy_32</th><th style=\"text-align: right;\">  VV_Entropy_n112</th><th style=\"text-align: right;\">  VV_Entropy_n128</th><th style=\"text-align: right;\">  VV_Entropy_n144</th><th style=\"text-align: right;\">  VV_Entropy_n16</th><th style=\"text-align: right;\">  VV_Entropy_n160</th><th style=\"text-align: right;\">  VV_Entropy_n176</th><th style=\"text-align: right;\">  VV_Entropy_n192</th><th style=\"text-align: right;\">  VV_Entropy_n208</th><th style=\"text-align: right;\">  VV_Entropy_n32</th><th style=\"text-align: right;\">  VV_Entropy_n48</th><th style=\"text-align: right;\">  VV_Entropy_n64</th><th style=\"text-align: right;\">  VV_Entropy_n80</th><th style=\"text-align: right;\">  VV_Entropy_n96</th><th style=\"text-align: right;\">  VV_GLCMCorrelation_0</th><th style=\"text-align: right;\">  VV_GLCMCorrelation_16</th><th style=\"text-align: right;\">  VV_GLCMCorrelation_32</th><th style=\"text-align: right;\">  VV_GLCMCorrelation_n112</th><th style=\"text-align: right;\">  VV_GLCMCorrelation_n128</th><th style=\"text-align: right;\">  VV_GLCMCorrelation_n144</th><th style=\"text-align: right;\">  VV_GLCMCorrelation_n16</th><th style=\"text-align: right;\">  VV_GLCMCorrelation_n160</th><th style=\"text-align: right;\">  VV_GLCMCorrelation_n176</th><th style=\"text-align: right;\">  VV_GLCMCorrelation_n192</th><th style=\"text-align: right;\">  VV_GLCMCorrelation_n208</th><th style=\"text-align: right;\">  VV_GLCMCorrelation_n32</th><th style=\"text-align: right;\">  VV_GLCMCorrelation_n48</th><th style=\"text-align: right;\">  VV_GLCMCorrelation_n64</th><th style=\"text-align: right;\">  VV_GLCMCorrelation_n80</th><th style=\"text-align: right;\">  VV_GLCMCorrelation_n96</th><th style=\"text-align: right;\">  VV_GLCMMean_0</th><th style=\"text-align: right;\">  VV_GLCMMean_16</th><th style=\"text-align: right;\">  VV_GLCMMean_32</th><th style=\"text-align: right;\">  VV_GLCMMean_n112</th><th style=\"text-align: right;\">  VV_GLCMMean_n128</th><th style=\"text-align: right;\">  VV_GLCMMean_n144</th><th style=\"text-align: right;\">  VV_GLCMMean_n16</th><th style=\"text-align: right;\">  VV_GLCMMean_n160</th><th style=\"text-align: right;\">  VV_GLCMMean_n176</th><th style=\"text-align: right;\">  VV_GLCMMean_n192</th><th style=\"text-align: right;\">  VV_GLCMMean_n208</th><th style=\"text-align: right;\">  VV_GLCMMean_n32</th><th style=\"text-align: right;\">  VV_GLCMMean_n48</th><th style=\"text-align: right;\">  VV_GLCMMean_n64</th><th style=\"text-align: right;\">  VV_GLCMMean_n80</th><th style=\"text-align: right;\">  VV_GLCMMean_n96</th><th style=\"text-align: right;\">  VV_GLCMVariance_0</th><th style=\"text-align: right;\">  VV_GLCMVariance_16</th><th style=\"text-align: right;\">  VV_GLCMVariance_32</th><th style=\"text-align: right;\">  VV_GLCMVariance_n112</th><th style=\"text-align: right;\">  VV_GLCMVariance_n128</th><th style=\"text-align: right;\">  VV_GLCMVariance_n144</th><th style=\"text-align: right;\">  VV_GLCMVariance_n16</th><th style=\"text-align: right;\">  VV_GLCMVariance_n160</th><th style=\"text-align: right;\">  VV_GLCMVariance_n176</th><th style=\"text-align: right;\">  VV_GLCMVariance_n192</th><th style=\"text-align: right;\">  VV_GLCMVariance_n208</th><th style=\"text-align: right;\">  VV_GLCMVariance_n32</th><th style=\"text-align: right;\">  VV_GLCMVariance_n48</th><th style=\"text-align: right;\">  VV_GLCMVariance_n64</th><th style=\"text-align: right;\">  VV_GLCMVariance_n80</th><th style=\"text-align: right;\">  VV_GLCMVariance_n96</th><th style=\"text-align: right;\">  VV_Homogeneity_0</th><th style=\"text-align: right;\">  VV_Homogeneity_16</th><th style=\"text-align: right;\">  VV_Homogeneity_32</th><th style=\"text-align: right;\">  VV_Homogeneity_n112</th><th style=\"text-align: right;\">  VV_Homogeneity_n128</th><th style=\"text-align: right;\">  VV_Homogeneity_n144</th><th style=\"text-align: right;\">  VV_Homogeneity_n16</th><th style=\"text-align: right;\">  VV_Homogeneity_n160</th><th style=\"text-align: right;\">  VV_Homogeneity_n176</th><th style=\"text-align: right;\">  VV_Homogeneity_n192</th><th style=\"text-align: right;\">  VV_Homogeneity_n208</th><th style=\"text-align: right;\">  VV_Homogeneity_n32</th><th style=\"text-align: right;\">  VV_Homogeneity_n48</th><th style=\"text-align: right;\">  VV_Homogeneity_n64</th><th style=\"text-align: right;\">  VV_Homogeneity_n80</th><th style=\"text-align: right;\">  VV_Homogeneity_n96</th><th style=\"text-align: right;\">  VV_n112</th><th style=\"text-align: right;\">  VV_n128</th><th style=\"text-align: right;\">  VV_n144</th><th style=\"text-align: right;\">   VV_n16</th><th style=\"text-align: right;\">  VV_n160</th><th style=\"text-align: right;\">  VV_n176</th><th style=\"text-align: right;\">  VV_n192</th><th style=\"text-align: right;\">  VV_n208</th><th style=\"text-align: right;\">  VV_n32</th><th style=\"text-align: right;\">  VV_n48</th><th style=\"text-align: right;\">  VV_n64</th><th style=\"text-align: right;\">   VV_n80</th><th style=\"text-align: right;\">   VV_n96</th><th style=\"text-align: right;\">       time</th><th>tt   </th><th style=\"text-align: right;\">  vclass</th><th style=\"text-align: right;\">     x</th><th style=\"text-align: right;\">     y</th><th style=\"text-align: right;\">  __index_level_0__</th></tr>\n",
       "</thead>\n",
       "<tbody>\n",
       "<tr><td>21C914  </td><td style=\"text-align: right;\">0.282755</td><td style=\"text-align: right;\"> 0.301326</td><td style=\"text-align: right;\">      nan</td><td style=\"text-align: right;\">        nan</td><td style=\"text-align: right;\">  0.237963</td><td style=\"text-align: right;\">  0.886977</td><td style=\"text-align: right;\">  1.08404 </td><td style=\"text-align: right;\">  0.884083</td><td style=\"text-align: right;\">  0.604007</td><td style=\"text-align: right;\">  0.401498</td><td style=\"text-align: right;\"> -6.81144</td><td style=\"text-align: right;\"> -9.50691</td><td style=\"text-align: right;\">    nan</td><td style=\"text-align: right;\">-0.0148192</td><td style=\"text-align: right;\"> -0.165639 </td><td style=\"text-align: right;\">        nan</td><td style=\"text-align: right;\">     2.70233 </td><td style=\"text-align: right;\">    0.233923 </td><td style=\"text-align: right;\">     0.359993</td><td style=\"text-align: right;\">   4.40326  </td><td style=\"text-align: right;\">     0.664309</td><td style=\"text-align: right;\">     1.75831 </td><td style=\"text-align: right;\">     0.571546</td><td style=\"text-align: right;\">          nan</td><td style=\"text-align: right;\">   -0.93358 </td><td style=\"text-align: right;\">    0.473584</td><td style=\"text-align: right;\">    0.421863</td><td style=\"text-align: right;\">    0.15936 </td><td style=\"text-align: right;\">    0.780442</td><td style=\"text-align: right;\">       41.8622 </td><td style=\"text-align: right;\">        16.8198 </td><td style=\"text-align: right;\">             nan</td><td style=\"text-align: right;\">          -3.06328</td><td style=\"text-align: right;\">         -10.1589 </td><td style=\"text-align: right;\">          78.8441 </td><td style=\"text-align: right;\">       -27.6502  </td><td style=\"text-align: right;\">          19.0516 </td><td style=\"text-align: right;\">       -36.933    </td><td style=\"text-align: right;\">          36.0568 </td><td style=\"text-align: right;\">               nan</td><td style=\"text-align: right;\">      135.991    </td><td style=\"text-align: right;\">          5.12496</td><td style=\"text-align: right;\">          9.14076</td><td style=\"text-align: right;\">         24.6476 </td><td style=\"text-align: right;\">          6.92442</td><td style=\"text-align: right;\">             7.53337</td><td style=\"text-align: right;\">              4.50843</td><td style=\"text-align: right;\">                  nan</td><td style=\"text-align: right;\">              -0.172035</td><td style=\"text-align: right;\">                1.3565 </td><td style=\"text-align: right;\">                9.7209 </td><td style=\"text-align: right;\">             -1.97151 </td><td style=\"text-align: right;\">               3.19976 </td><td style=\"text-align: right;\">              -3.68256 </td><td style=\"text-align: right;\">                6.47784</td><td style=\"text-align: right;\">                    nan</td><td style=\"text-align: right;\">            10.4025   </td><td style=\"text-align: right;\">              2.7044  </td><td style=\"text-align: right;\">               3.95341</td><td style=\"text-align: right;\">               4.91113</td><td style=\"text-align: right;\">               2.62751</td><td style=\"text-align: right;\">     0.403614</td><td style=\"text-align: right;\">      0.421322</td><td style=\"text-align: right;\">           nan</td><td style=\"text-align: right;\">        1.70697 </td><td style=\"text-align: right;\">        0.616559</td><td style=\"text-align: right;\">        0.555831</td><td style=\"text-align: right;\">       2.12353 </td><td style=\"text-align: right;\">        0.802769</td><td style=\"text-align: right;\">        1.42604 </td><td style=\"text-align: right;\">        0.722651</td><td style=\"text-align: right;\">             nan</td><td style=\"text-align: right;\">      -0.142388</td><td style=\"text-align: right;\">       0.631041</td><td style=\"text-align: right;\">       0.676203</td><td style=\"text-align: right;\">       0.526454</td><td style=\"text-align: right;\">       0.895009</td><td style=\"text-align: right;\">       4.65294</td><td style=\"text-align: right;\">        4.45107</td><td style=\"text-align: right;\">            nan</td><td style=\"text-align: right;\">        -0.586453</td><td style=\"text-align: right;\">          3.06791</td><td style=\"text-align: right;\">          4.06458</td><td style=\"text-align: right;\">       -1.96141 </td><td style=\"text-align: right;\">         2.60074 </td><td style=\"text-align: right;\">       -0.540986 </td><td style=\"text-align: right;\">          2.94295</td><td style=\"text-align: right;\">              nan</td><td style=\"text-align: right;\">       2.71806  </td><td style=\"text-align: right;\">         2.59412</td><td style=\"text-align: right;\">         3.69741</td><td style=\"text-align: right;\">        4.10838 </td><td style=\"text-align: right;\">        2.31707 </td><td style=\"text-align: right;\">              0.824696</td><td style=\"text-align: right;\">               0.874445</td><td style=\"text-align: right;\">                    nan</td><td style=\"text-align: right;\">                 0.9276  </td><td style=\"text-align: right;\">                 0.93371 </td><td style=\"text-align: right;\">                 0.565192</td><td style=\"text-align: right;\">                1.01165 </td><td style=\"text-align: right;\">                 0.837912</td><td style=\"text-align: right;\">                 1.14738 </td><td style=\"text-align: right;\">                 0.579383</td><td style=\"text-align: right;\">                      nan</td><td style=\"text-align: right;\">                0.198218</td><td style=\"text-align: right;\">                0.697833</td><td style=\"text-align: right;\">                0.901603</td><td style=\"text-align: right;\">                0.868479</td><td style=\"text-align: right;\">                0.991084</td><td style=\"text-align: right;\">       14.8682 </td><td style=\"text-align: right;\">        10.9121 </td><td style=\"text-align: right;\">             nan</td><td style=\"text-align: right;\">           2.62375</td><td style=\"text-align: right;\">           7.23629</td><td style=\"text-align: right;\">          10.0192 </td><td style=\"text-align: right;\">         -1.52636</td><td style=\"text-align: right;\">           5.2672 </td><td style=\"text-align: right;\">        -0.141424 </td><td style=\"text-align: right;\">           6.8101 </td><td style=\"text-align: right;\">               nan</td><td style=\"text-align: right;\">          19.1867</td><td style=\"text-align: right;\">          4.99048</td><td style=\"text-align: right;\">          7.86409</td><td style=\"text-align: right;\">          18.0371</td><td style=\"text-align: right;\">          29.7947</td><td style=\"text-align: right;\">           121.586 </td><td style=\"text-align: right;\">             70.8866</td><td style=\"text-align: right;\">                 nan</td><td style=\"text-align: right;\">              22.1279 </td><td style=\"text-align: right;\">               32.4738</td><td style=\"text-align: right;\">              83.3017 </td><td style=\"text-align: right;\">             -54.3141</td><td style=\"text-align: right;\">              25.5542 </td><td style=\"text-align: right;\">             -31.0305 </td><td style=\"text-align: right;\">              37.833  </td><td style=\"text-align: right;\">                   nan</td><td style=\"text-align: right;\">              285.999</td><td style=\"text-align: right;\">             13.8577 </td><td style=\"text-align: right;\">              35.1977</td><td style=\"text-align: right;\">             187.974 </td><td style=\"text-align: right;\">              428.365</td><td style=\"text-align: right;\">          0.448537</td><td style=\"text-align: right;\">          0.560812 </td><td style=\"text-align: right;\">                nan</td><td style=\"text-align: right;\">             1.89568 </td><td style=\"text-align: right;\">             1.05223 </td><td style=\"text-align: right;\">             0.408397</td><td style=\"text-align: right;\">            2.11421 </td><td style=\"text-align: right;\">             1.17585 </td><td style=\"text-align: right;\">              2.02134</td><td style=\"text-align: right;\">             0.708882</td><td style=\"text-align: right;\">                  nan</td><td style=\"text-align: right;\">           -0.139036</td><td style=\"text-align: right;\">            0.724973</td><td style=\"text-align: right;\">            0.659135</td><td style=\"text-align: right;\">            0.813096</td><td style=\"text-align: right;\">            1.07129 </td><td style=\"text-align: right;\">-13.8648 </td><td style=\"text-align: right;\">-11.8342 </td><td style=\"text-align: right;\"> -9.48158</td><td style=\"text-align: right;\">-11.6383 </td><td style=\"text-align: right;\"> -7.32976</td><td style=\"text-align: right;\"> -6.97554</td><td style=\"text-align: right;\">-10.8479 </td><td style=\"text-align: right;\">      nan</td><td style=\"text-align: right;\">-4.2545 </td><td style=\"text-align: right;\">-7.88563</td><td style=\"text-align: right;\">-8.4829 </td><td style=\"text-align: right;\"> -7.6292 </td><td style=\"text-align: right;\"> -8.97218</td><td style=\"text-align: right;\">1.45074e+15</td><td>train</td><td style=\"text-align: right;\">       5</td><td style=\"text-align: right;\">500365</td><td style=\"text-align: right;\">424425</td><td style=\"text-align: right;\">                 17</td></tr>\n",
       "<tr><td>21C914  </td><td style=\"text-align: right;\">0.282755</td><td style=\"text-align: right;\"> 0.301326</td><td style=\"text-align: right;\">      nan</td><td style=\"text-align: right;\">        nan</td><td style=\"text-align: right;\">  0.193397</td><td style=\"text-align: right;\">  0.886977</td><td style=\"text-align: right;\">  1.09538 </td><td style=\"text-align: right;\">  0.884083</td><td style=\"text-align: right;\">  0.604007</td><td style=\"text-align: right;\">  0.406834</td><td style=\"text-align: right;\"> -6.86128</td><td style=\"text-align: right;\"> -9.00174</td><td style=\"text-align: right;\">    nan</td><td style=\"text-align: right;\"> 0.0100946</td><td style=\"text-align: right;\">  0.0762765</td><td style=\"text-align: right;\">        nan</td><td style=\"text-align: right;\">     1.40857 </td><td style=\"text-align: right;\">    0.807748 </td><td style=\"text-align: right;\">     0.417219</td><td style=\"text-align: right;\">   4.39264  </td><td style=\"text-align: right;\">     1.32092 </td><td style=\"text-align: right;\">     1.93019 </td><td style=\"text-align: right;\">     0.396736</td><td style=\"text-align: right;\">          nan</td><td style=\"text-align: right;\">   -1.02158 </td><td style=\"text-align: right;\">    0.811305</td><td style=\"text-align: right;\">    0.342959</td><td style=\"text-align: right;\">    0.442501</td><td style=\"text-align: right;\">    1.19976 </td><td style=\"text-align: right;\">       43.3661 </td><td style=\"text-align: right;\">        15.1406 </td><td style=\"text-align: right;\">             nan</td><td style=\"text-align: right;\">           1.29101</td><td style=\"text-align: right;\">         -22.8436 </td><td style=\"text-align: right;\">          85.2746 </td><td style=\"text-align: right;\">       -16.5762  </td><td style=\"text-align: right;\">          19.7896 </td><td style=\"text-align: right;\">       -37.2263   </td><td style=\"text-align: right;\">          31.379  </td><td style=\"text-align: right;\">               nan</td><td style=\"text-align: right;\">       89.7299   </td><td style=\"text-align: right;\">         -1.05729</td><td style=\"text-align: right;\">         15.3158 </td><td style=\"text-align: right;\">         17.8536 </td><td style=\"text-align: right;\">          3.56329</td><td style=\"text-align: right;\">             7.22555</td><td style=\"text-align: right;\">              3.67134</td><td style=\"text-align: right;\">                  nan</td><td style=\"text-align: right;\">               1.36212 </td><td style=\"text-align: right;\">               -1.3294 </td><td style=\"text-align: right;\">               10.0481 </td><td style=\"text-align: right;\">             -1.23368 </td><td style=\"text-align: right;\">               2.96411 </td><td style=\"text-align: right;\">              -4.35005 </td><td style=\"text-align: right;\">                6.25228</td><td style=\"text-align: right;\">                    nan</td><td style=\"text-align: right;\">             7.81435  </td><td style=\"text-align: right;\">              0.652523</td><td style=\"text-align: right;\">               4.74206</td><td style=\"text-align: right;\">               4.60627</td><td style=\"text-align: right;\">               1.62347</td><td style=\"text-align: right;\">     0.424418</td><td style=\"text-align: right;\">      0.583668</td><td style=\"text-align: right;\">           nan</td><td style=\"text-align: right;\">        1.20414 </td><td style=\"text-align: right;\">        0.900154</td><td style=\"text-align: right;\">        0.625515</td><td style=\"text-align: right;\">       2.11713 </td><td style=\"text-align: right;\">        1.11183 </td><td style=\"text-align: right;\">        1.51571 </td><td style=\"text-align: right;\">        0.595766</td><td style=\"text-align: right;\">             nan</td><td style=\"text-align: right;\">      -0.195455</td><td style=\"text-align: right;\">       0.835587</td><td style=\"text-align: right;\">       0.588077</td><td style=\"text-align: right;\">       0.632156</td><td style=\"text-align: right;\">       1.08967 </td><td style=\"text-align: right;\">       4.51386</td><td style=\"text-align: right;\">        4.01102</td><td style=\"text-align: right;\">            nan</td><td style=\"text-align: right;\">         1.01625 </td><td style=\"text-align: right;\">          2.04682</td><td style=\"text-align: right;\">          3.51566</td><td style=\"text-align: right;\">       -1.90402 </td><td style=\"text-align: right;\">         1.72658 </td><td style=\"text-align: right;\">       -0.64093  </td><td style=\"text-align: right;\">          3.74919</td><td style=\"text-align: right;\">              nan</td><td style=\"text-align: right;\">       2.8827   </td><td style=\"text-align: right;\">         1.37961</td><td style=\"text-align: right;\">         4.17257</td><td style=\"text-align: right;\">        3.93844 </td><td style=\"text-align: right;\">        1.70548 </td><td style=\"text-align: right;\">              0.777773</td><td style=\"text-align: right;\">               0.940546</td><td style=\"text-align: right;\">                    nan</td><td style=\"text-align: right;\">                 0.710801</td><td style=\"text-align: right;\">                 1.07643 </td><td style=\"text-align: right;\">                 0.624504</td><td style=\"text-align: right;\">                0.983047</td><td style=\"text-align: right;\">                 0.881828</td><td style=\"text-align: right;\">                 1.18064 </td><td style=\"text-align: right;\">                 0.580016</td><td style=\"text-align: right;\">                      nan</td><td style=\"text-align: right;\">                0.250082</td><td style=\"text-align: right;\">                0.841094</td><td style=\"text-align: right;\">                0.903655</td><td style=\"text-align: right;\">                0.942038</td><td style=\"text-align: right;\">                1.01307 </td><td style=\"text-align: right;\">       13.2831 </td><td style=\"text-align: right;\">        12.7005 </td><td style=\"text-align: right;\">             nan</td><td style=\"text-align: right;\">           3.49207</td><td style=\"text-align: right;\">           5.40017</td><td style=\"text-align: right;\">          11.5067 </td><td style=\"text-align: right;\">         -2.21513</td><td style=\"text-align: right;\">           6.03844</td><td style=\"text-align: right;\">        -0.392564 </td><td style=\"text-align: right;\">           6.43698</td><td style=\"text-align: right;\">               nan</td><td style=\"text-align: right;\">          21.7726</td><td style=\"text-align: right;\">          4.14413</td><td style=\"text-align: right;\">          9.68784</td><td style=\"text-align: right;\">          17.1407</td><td style=\"text-align: right;\">          30.0817</td><td style=\"text-align: right;\">           105.005 </td><td style=\"text-align: right;\">             87.2775</td><td style=\"text-align: right;\">                 nan</td><td style=\"text-align: right;\">              28.483  </td><td style=\"text-align: right;\">               10.3563</td><td style=\"text-align: right;\">             105.78   </td><td style=\"text-align: right;\">             -66.0309</td><td style=\"text-align: right;\">              31.476  </td><td style=\"text-align: right;\">             -34.943  </td><td style=\"text-align: right;\">              32.7903 </td><td style=\"text-align: right;\">                   nan</td><td style=\"text-align: right;\">              332.825</td><td style=\"text-align: right;\">              6.21285</td><td style=\"text-align: right;\">              53.5213</td><td style=\"text-align: right;\">             184.639 </td><td style=\"text-align: right;\">              438.705</td><td style=\"text-align: right;\">          0.593164</td><td style=\"text-align: right;\">          0.870927 </td><td style=\"text-align: right;\">                nan</td><td style=\"text-align: right;\">             1.37    </td><td style=\"text-align: right;\">             1.67521 </td><td style=\"text-align: right;\">             0.432216</td><td style=\"text-align: right;\">            2.10454 </td><td style=\"text-align: right;\">             1.31181 </td><td style=\"text-align: right;\">              2.43092</td><td style=\"text-align: right;\">             0.560186</td><td style=\"text-align: right;\">                  nan</td><td style=\"text-align: right;\">           -0.286089</td><td style=\"text-align: right;\">            1.33382 </td><td style=\"text-align: right;\">            0.637972</td><td style=\"text-align: right;\">            0.823659</td><td style=\"text-align: right;\">            1.36669 </td><td style=\"text-align: right;\">-15.3164 </td><td style=\"text-align: right;\">-12.5327 </td><td style=\"text-align: right;\"> -9.46734</td><td style=\"text-align: right;\">-12.6504 </td><td style=\"text-align: right;\"> -8.23863</td><td style=\"text-align: right;\"> -8.99884</td><td style=\"text-align: right;\">-11.3877 </td><td style=\"text-align: right;\">      nan</td><td style=\"text-align: right;\">-3.40898</td><td style=\"text-align: right;\">-8.35145</td><td style=\"text-align: right;\">-9.38707</td><td style=\"text-align: right;\"> -7.43078</td><td style=\"text-align: right;\"> -8.60444</td><td style=\"text-align: right;\">1.45074e+15</td><td>train</td><td style=\"text-align: right;\">       5</td><td style=\"text-align: right;\">500365</td><td style=\"text-align: right;\">424415</td><td style=\"text-align: right;\">                 18</td></tr>\n",
       "<tr><td>21C908  </td><td style=\"text-align: right;\">0.810516</td><td style=\"text-align: right;\"> 0.628304</td><td style=\"text-align: right;\">      nan</td><td style=\"text-align: right;\">        nan</td><td style=\"text-align: right;\">  0.837052</td><td style=\"text-align: right;\">  0.819342</td><td style=\"text-align: right;\">  0.746166</td><td style=\"text-align: right;\">  0.642758</td><td style=\"text-align: right;\">  0.54431 </td><td style=\"text-align: right;\">  0.486017</td><td style=\"text-align: right;\">-11.3966 </td><td style=\"text-align: right;\">-10.0848 </td><td style=\"text-align: right;\">    nan</td><td style=\"text-align: right;\"> 0.0660112</td><td style=\"text-align: right;\"> -0.18408  </td><td style=\"text-align: right;\">        nan</td><td style=\"text-align: right;\">     0.796391</td><td style=\"text-align: right;\">    0.0798489</td><td style=\"text-align: right;\">     0.368647</td><td style=\"text-align: right;\">   3.70089  </td><td style=\"text-align: right;\">     0.72952 </td><td style=\"text-align: right;\">     1.87153 </td><td style=\"text-align: right;\">     0.733866</td><td style=\"text-align: right;\">          nan</td><td style=\"text-align: right;\">    2.27808 </td><td style=\"text-align: right;\">    0.292151</td><td style=\"text-align: right;\">    0.335033</td><td style=\"text-align: right;\">    0.250847</td><td style=\"text-align: right;\">    0.342158</td><td style=\"text-align: right;\">       15.8672 </td><td style=\"text-align: right;\">        43.9392 </td><td style=\"text-align: right;\">             nan</td><td style=\"text-align: right;\">          23.2321 </td><td style=\"text-align: right;\">          14.0756 </td><td style=\"text-align: right;\">           5.38156</td><td style=\"text-align: right;\">         0.302768</td><td style=\"text-align: right;\">           3.65071</td><td style=\"text-align: right;\">        -0.0536561</td><td style=\"text-align: right;\">           4.82695</td><td style=\"text-align: right;\">               nan</td><td style=\"text-align: right;\">       -0.667934 </td><td style=\"text-align: right;\">          7.7201 </td><td style=\"text-align: right;\">         72.328  </td><td style=\"text-align: right;\">         18.7612 </td><td style=\"text-align: right;\">        115.742  </td><td style=\"text-align: right;\">             4.67029</td><td style=\"text-align: right;\">              8.0943 </td><td style=\"text-align: right;\">                  nan</td><td style=\"text-align: right;\">               4.7468  </td><td style=\"text-align: right;\">                4.65982</td><td style=\"text-align: right;\">                2.87385</td><td style=\"text-align: right;\">              0.17269 </td><td style=\"text-align: right;\">               2.46814 </td><td style=\"text-align: right;\">               0.791939</td><td style=\"text-align: right;\">                2.15145</td><td style=\"text-align: right;\">                    nan</td><td style=\"text-align: right;\">            -0.694917 </td><td style=\"text-align: right;\">              3.29924 </td><td style=\"text-align: right;\">              10.5238 </td><td style=\"text-align: right;\">               3.98458</td><td style=\"text-align: right;\">              12.4792 </td><td style=\"text-align: right;\">     0.407305</td><td style=\"text-align: right;\">      0.255782</td><td style=\"text-align: right;\">           nan</td><td style=\"text-align: right;\">        0.907748</td><td style=\"text-align: right;\">        0.370334</td><td style=\"text-align: right;\">        0.606075</td><td style=\"text-align: right;\">       1.86903 </td><td style=\"text-align: right;\">        0.85656 </td><td style=\"text-align: right;\">        1.4148  </td><td style=\"text-align: right;\">        0.819236</td><td style=\"text-align: right;\">             nan</td><td style=\"text-align: right;\">       1.04461 </td><td style=\"text-align: right;\">       0.518053</td><td style=\"text-align: right;\">       0.587724</td><td style=\"text-align: right;\">       0.517926</td><td style=\"text-align: right;\">       0.58866 </td><td style=\"text-align: right;\">       4.79937</td><td style=\"text-align: right;\">        5.71814</td><td style=\"text-align: right;\">            nan</td><td style=\"text-align: right;\">         2.16823 </td><td style=\"text-align: right;\">          5.0283 </td><td style=\"text-align: right;\">          3.57231</td><td style=\"text-align: right;\">       -1.0519  </td><td style=\"text-align: right;\">         2.31333 </td><td style=\"text-align: right;\">       -0.0316586</td><td style=\"text-align: right;\">          2.7405 </td><td style=\"text-align: right;\">              nan</td><td style=\"text-align: right;\">      -1.56239  </td><td style=\"text-align: right;\">         3.08191</td><td style=\"text-align: right;\">         4.23105</td><td style=\"text-align: right;\">        4.2814  </td><td style=\"text-align: right;\">        3.83109 </td><td style=\"text-align: right;\">              0.809781</td><td style=\"text-align: right;\">               0.850084</td><td style=\"text-align: right;\">                    nan</td><td style=\"text-align: right;\">                 0.681861</td><td style=\"text-align: right;\">                 0.950327</td><td style=\"text-align: right;\">                 0.822999</td><td style=\"text-align: right;\">                0.962335</td><td style=\"text-align: right;\">                 0.751787</td><td style=\"text-align: right;\">                 0.793411</td><td style=\"text-align: right;\">                 0.931822</td><td style=\"text-align: right;\">                      nan</td><td style=\"text-align: right;\">                0.402124</td><td style=\"text-align: right;\">                0.725838</td><td style=\"text-align: right;\">                0.676987</td><td style=\"text-align: right;\">                0.915991</td><td style=\"text-align: right;\">                0.803441</td><td style=\"text-align: right;\">        9.45801</td><td style=\"text-align: right;\">        19.0128 </td><td style=\"text-align: right;\">             nan</td><td style=\"text-align: right;\">           6.79511</td><td style=\"text-align: right;\">          11.229  </td><td style=\"text-align: right;\">           5.13788</td><td style=\"text-align: right;\">         -3.62952</td><td style=\"text-align: right;\">           3.63144</td><td style=\"text-align: right;\">         0.131538 </td><td style=\"text-align: right;\">           8.32307</td><td style=\"text-align: right;\">               nan</td><td style=\"text-align: right;\">          25.3234</td><td style=\"text-align: right;\">          6.05166</td><td style=\"text-align: right;\">         12.8914 </td><td style=\"text-align: right;\">          10.3974</td><td style=\"text-align: right;\">          21.7083</td><td style=\"text-align: right;\">            59.4316</td><td style=\"text-align: right;\">            186.297 </td><td style=\"text-align: right;\">                 nan</td><td style=\"text-align: right;\">              37.5787 </td><td style=\"text-align: right;\">               70.6633</td><td style=\"text-align: right;\">              15.2607 </td><td style=\"text-align: right;\">             -89.8171</td><td style=\"text-align: right;\">               8.34029</td><td style=\"text-align: right;\">             -12.3091 </td><td style=\"text-align: right;\">              41.5414 </td><td style=\"text-align: right;\">                   nan</td><td style=\"text-align: right;\">              406.943</td><td style=\"text-align: right;\">             19.1056 </td><td style=\"text-align: right;\">             104.608 </td><td style=\"text-align: right;\">              83.9271</td><td style=\"text-align: right;\">              276.508</td><td style=\"text-align: right;\">          0.617769</td><td style=\"text-align: right;\">          0.360963 </td><td style=\"text-align: right;\">                nan</td><td style=\"text-align: right;\">             0.858438</td><td style=\"text-align: right;\">             0.462949</td><td style=\"text-align: right;\">             0.817312</td><td style=\"text-align: right;\">            1.88219 </td><td style=\"text-align: right;\">             0.881256</td><td style=\"text-align: right;\">              1.53095</td><td style=\"text-align: right;\">             1.17259 </td><td style=\"text-align: right;\">                  nan</td><td style=\"text-align: right;\">            1.03004 </td><td style=\"text-align: right;\">            0.563299</td><td style=\"text-align: right;\">            0.376925</td><td style=\"text-align: right;\">            0.8394  </td><td style=\"text-align: right;\">            0.357115</td><td style=\"text-align: right;\"> -6.41143</td><td style=\"text-align: right;\">-10.5768 </td><td style=\"text-align: right;\">-12.7515 </td><td style=\"text-align: right;\">-10.8919 </td><td style=\"text-align: right;\">-10.8387 </td><td style=\"text-align: right;\">-11.1324 </td><td style=\"text-align: right;\"> -9.91396</td><td style=\"text-align: right;\">      nan</td><td style=\"text-align: right;\">-3.77541</td><td style=\"text-align: right;\">-8.28994</td><td style=\"text-align: right;\">-7.39025</td><td style=\"text-align: right;\">-12.9211 </td><td style=\"text-align: right;\">-12.4887 </td><td style=\"text-align: right;\">1.45074e+15</td><td>train</td><td style=\"text-align: right;\">       4</td><td style=\"text-align: right;\">499705</td><td style=\"text-align: right;\">424295</td><td style=\"text-align: right;\">                  5</td></tr>\n",
       "<tr><td>21C908  </td><td style=\"text-align: right;\">0.810516</td><td style=\"text-align: right;\"> 0.628304</td><td style=\"text-align: right;\">      nan</td><td style=\"text-align: right;\">        nan</td><td style=\"text-align: right;\">  0.776896</td><td style=\"text-align: right;\">  0.819342</td><td style=\"text-align: right;\">  0.768076</td><td style=\"text-align: right;\">  0.642758</td><td style=\"text-align: right;\">  0.511445</td><td style=\"text-align: right;\">  0.442197</td><td style=\"text-align: right;\">-13.1445 </td><td style=\"text-align: right;\">-11.8793 </td><td style=\"text-align: right;\">    nan</td><td style=\"text-align: right;\"> 0.207612 </td><td style=\"text-align: right;\"> -0.18174  </td><td style=\"text-align: right;\">        nan</td><td style=\"text-align: right;\">     0.27084 </td><td style=\"text-align: right;\">    0.266621 </td><td style=\"text-align: right;\">     0.532564</td><td style=\"text-align: right;\">   4.3278   </td><td style=\"text-align: right;\">     2.06914 </td><td style=\"text-align: right;\">     4.31879 </td><td style=\"text-align: right;\">     0.887248</td><td style=\"text-align: right;\">          nan</td><td style=\"text-align: right;\">   -0.565193</td><td style=\"text-align: right;\">    0.617653</td><td style=\"text-align: right;\">    0.35492 </td><td style=\"text-align: right;\">    0.454648</td><td style=\"text-align: right;\">    0.454251</td><td style=\"text-align: right;\">        9.7098 </td><td style=\"text-align: right;\">        29.8924 </td><td style=\"text-align: right;\">             nan</td><td style=\"text-align: right;\">          23.2422 </td><td style=\"text-align: right;\">          38.6727 </td><td style=\"text-align: right;\">           4.65204</td><td style=\"text-align: right;\">        -7.61    </td><td style=\"text-align: right;\">           1.70308</td><td style=\"text-align: right;\">        -4.59486  </td><td style=\"text-align: right;\">           8.59708</td><td style=\"text-align: right;\">               nan</td><td style=\"text-align: right;\">       35.0255   </td><td style=\"text-align: right;\">          2.86524</td><td style=\"text-align: right;\">         38.5715 </td><td style=\"text-align: right;\">         17.4371 </td><td style=\"text-align: right;\">         70.7728 </td><td style=\"text-align: right;\">             3.59507</td><td style=\"text-align: right;\">              6.97412</td><td style=\"text-align: right;\">                  nan</td><td style=\"text-align: right;\">               5.78354 </td><td style=\"text-align: right;\">                6.33354</td><td style=\"text-align: right;\">                2.45456</td><td style=\"text-align: right;\">             -0.895837</td><td style=\"text-align: right;\">               0.886539</td><td style=\"text-align: right;\">              -1.36877 </td><td style=\"text-align: right;\">                3.14843</td><td style=\"text-align: right;\">                    nan</td><td style=\"text-align: right;\">             4.15137  </td><td style=\"text-align: right;\">              1.9899  </td><td style=\"text-align: right;\">               6.64347</td><td style=\"text-align: right;\">               5.161  </td><td style=\"text-align: right;\">              10.3743 </td><td style=\"text-align: right;\">     0.588267</td><td style=\"text-align: right;\">      0.397748</td><td style=\"text-align: right;\">           nan</td><td style=\"text-align: right;\">        0.518974</td><td style=\"text-align: right;\">        0.517964</td><td style=\"text-align: right;\">        0.731462</td><td style=\"text-align: right;\">       2.08448 </td><td style=\"text-align: right;\">        1.42079 </td><td style=\"text-align: right;\">        2.27748 </td><td style=\"text-align: right;\">        0.788474</td><td style=\"text-align: right;\">             nan</td><td style=\"text-align: right;\">       0.068253</td><td style=\"text-align: right;\">       0.725851</td><td style=\"text-align: right;\">       0.61051 </td><td style=\"text-align: right;\">       0.688611</td><td style=\"text-align: right;\">       0.675748</td><td style=\"text-align: right;\">       3.39879</td><td style=\"text-align: right;\">        4.51456</td><td style=\"text-align: right;\">            nan</td><td style=\"text-align: right;\">         4.12206 </td><td style=\"text-align: right;\">          4.1076 </td><td style=\"text-align: right;\">          2.96237</td><td style=\"text-align: right;\">       -1.79775 </td><td style=\"text-align: right;\">         0.474882</td><td style=\"text-align: right;\">       -2.37812  </td><td style=\"text-align: right;\">          3.16199</td><td style=\"text-align: right;\">              nan</td><td style=\"text-align: right;\">       1.68836  </td><td style=\"text-align: right;\">         2.11062</td><td style=\"text-align: right;\">         4.0542 </td><td style=\"text-align: right;\">        3.2988  </td><td style=\"text-align: right;\">        3.07786 </td><td style=\"text-align: right;\">              0.766464</td><td style=\"text-align: right;\">               0.826915</td><td style=\"text-align: right;\">                    nan</td><td style=\"text-align: right;\">                 0.694792</td><td style=\"text-align: right;\">                 0.699486</td><td style=\"text-align: right;\">                 0.734157</td><td style=\"text-align: right;\">                0.967963</td><td style=\"text-align: right;\">                 0.877507</td><td style=\"text-align: right;\">                 1.01145 </td><td style=\"text-align: right;\">                 0.889149</td><td style=\"text-align: right;\">                      nan</td><td style=\"text-align: right;\">                0.341765</td><td style=\"text-align: right;\">                0.778355</td><td style=\"text-align: right;\">                0.754816</td><td style=\"text-align: right;\">                0.994049</td><td style=\"text-align: right;\">                0.864951</td><td style=\"text-align: right;\">        6.54046</td><td style=\"text-align: right;\">        13.6347 </td><td style=\"text-align: right;\">             nan</td><td style=\"text-align: right;\">           8.14772</td><td style=\"text-align: right;\">           8.65127</td><td style=\"text-align: right;\">           3.81848</td><td style=\"text-align: right;\">         -3.18365</td><td style=\"text-align: right;\">           2.5839 </td><td style=\"text-align: right;\">        -0.328533 </td><td style=\"text-align: right;\">           7.34183</td><td style=\"text-align: right;\">               nan</td><td style=\"text-align: right;\">          22.9953</td><td style=\"text-align: right;\">          5.36029</td><td style=\"text-align: right;\">         10.6125 </td><td style=\"text-align: right;\">          12.7376</td><td style=\"text-align: right;\">          20.9727</td><td style=\"text-align: right;\">            32.8932</td><td style=\"text-align: right;\">            106.194 </td><td style=\"text-align: right;\">                 nan</td><td style=\"text-align: right;\">              46.6016 </td><td style=\"text-align: right;\">               56.8178</td><td style=\"text-align: right;\">               9.16343</td><td style=\"text-align: right;\">             -77.8202</td><td style=\"text-align: right;\">               4.89349</td><td style=\"text-align: right;\">             -12.7525 </td><td style=\"text-align: right;\">              34.0968 </td><td style=\"text-align: right;\">                   nan</td><td style=\"text-align: right;\">              353.548</td><td style=\"text-align: right;\">             13.3246 </td><td style=\"text-align: right;\">              69.1537</td><td style=\"text-align: right;\">              99.5822</td><td style=\"text-align: right;\">              241.248</td><td style=\"text-align: right;\">          0.761439</td><td style=\"text-align: right;\">          0.29798  </td><td style=\"text-align: right;\">                nan</td><td style=\"text-align: right;\">             0.52901 </td><td style=\"text-align: right;\">             0.707559</td><td style=\"text-align: right;\">             1.01817 </td><td style=\"text-align: right;\">            2.06216 </td><td style=\"text-align: right;\">             1.62044 </td><td style=\"text-align: right;\">              2.40204</td><td style=\"text-align: right;\">             0.930867</td><td style=\"text-align: right;\">                  nan</td><td style=\"text-align: right;\">            0.193659</td><td style=\"text-align: right;\">            0.890262</td><td style=\"text-align: right;\">            0.737589</td><td style=\"text-align: right;\">            0.454945</td><td style=\"text-align: right;\">            0.390479</td><td style=\"text-align: right;\"> -5.5697 </td><td style=\"text-align: right;\">-11.2423 </td><td style=\"text-align: right;\">-12.9706 </td><td style=\"text-align: right;\">-10.1062 </td><td style=\"text-align: right;\">-10.9242 </td><td style=\"text-align: right;\"> -9.73174</td><td style=\"text-align: right;\">-10.1313 </td><td style=\"text-align: right;\">      nan</td><td style=\"text-align: right;\">-4.31144</td><td style=\"text-align: right;\">-8.48137</td><td style=\"text-align: right;\">-6.60455</td><td style=\"text-align: right;\">-14.0588 </td><td style=\"text-align: right;\">-13.1783 </td><td style=\"text-align: right;\">1.45074e+15</td><td>train</td><td style=\"text-align: right;\">       4</td><td style=\"text-align: right;\">499715</td><td style=\"text-align: right;\">424305</td><td style=\"text-align: right;\">                 33</td></tr>\n",
       "<tr><td>21C908  </td><td style=\"text-align: right;\">0.810516</td><td style=\"text-align: right;\"> 0.628304</td><td style=\"text-align: right;\">      nan</td><td style=\"text-align: right;\">        nan</td><td style=\"text-align: right;\">  0.813878</td><td style=\"text-align: right;\">  0.819342</td><td style=\"text-align: right;\">  0.754622</td><td style=\"text-align: right;\">  0.642758</td><td style=\"text-align: right;\">  0.531627</td><td style=\"text-align: right;\">  0.469106</td><td style=\"text-align: right;\">-12.1821 </td><td style=\"text-align: right;\">-10.901  </td><td style=\"text-align: right;\">    nan</td><td style=\"text-align: right;\"> 0.139195 </td><td style=\"text-align: right;\"> -0.19645  </td><td style=\"text-align: right;\">        nan</td><td style=\"text-align: right;\">     0.251399</td><td style=\"text-align: right;\">    0.212562 </td><td style=\"text-align: right;\">     0.472756</td><td style=\"text-align: right;\">   4.03975  </td><td style=\"text-align: right;\">     1.06672 </td><td style=\"text-align: right;\">     2.34807 </td><td style=\"text-align: right;\">     0.708586</td><td style=\"text-align: right;\">          nan</td><td style=\"text-align: right;\">    0.760146</td><td style=\"text-align: right;\">    0.418528</td><td style=\"text-align: right;\">    0.347888</td><td style=\"text-align: right;\">    0.200056</td><td style=\"text-align: right;\">    0.191363</td><td style=\"text-align: right;\">       23.6635 </td><td style=\"text-align: right;\">        39.5426 </td><td style=\"text-align: right;\">             nan</td><td style=\"text-align: right;\">          13.5063 </td><td style=\"text-align: right;\">          30.9844 </td><td style=\"text-align: right;\">           4.48283</td><td style=\"text-align: right;\">         0.939614</td><td style=\"text-align: right;\">           2.80871</td><td style=\"text-align: right;\">        -4.48794  </td><td style=\"text-align: right;\">          11.0847 </td><td style=\"text-align: right;\">               nan</td><td style=\"text-align: right;\">        0.0362606</td><td style=\"text-align: right;\">          4.56709</td><td style=\"text-align: right;\">         29.6599 </td><td style=\"text-align: right;\">         25.1501 </td><td style=\"text-align: right;\">         64.3346 </td><td style=\"text-align: right;\">             5.69787</td><td style=\"text-align: right;\">              8.35556</td><td style=\"text-align: right;\">                  nan</td><td style=\"text-align: right;\">               4.35822 </td><td style=\"text-align: right;\">                6.13096</td><td style=\"text-align: right;\">                2.31943</td><td style=\"text-align: right;\">              0.153079</td><td style=\"text-align: right;\">               1.58798 </td><td style=\"text-align: right;\">              -0.482575</td><td style=\"text-align: right;\">                3.49218</td><td style=\"text-align: right;\">                    nan</td><td style=\"text-align: right;\">            -0.0704777</td><td style=\"text-align: right;\">              2.51832 </td><td style=\"text-align: right;\">               6.72817</td><td style=\"text-align: right;\">               5.72313</td><td style=\"text-align: right;\">               9.29277</td><td style=\"text-align: right;\">     0.514174</td><td style=\"text-align: right;\">      0.329071</td><td style=\"text-align: right;\">           nan</td><td style=\"text-align: right;\">        0.501462</td><td style=\"text-align: right;\">        0.467449</td><td style=\"text-align: right;\">        0.686568</td><td style=\"text-align: right;\">       1.96924 </td><td style=\"text-align: right;\">        1.03149 </td><td style=\"text-align: right;\">        1.61507 </td><td style=\"text-align: right;\">        0.778896</td><td style=\"text-align: right;\">             nan</td><td style=\"text-align: right;\">       0.604443</td><td style=\"text-align: right;\">       0.600921</td><td style=\"text-align: right;\">       0.605436</td><td style=\"text-align: right;\">       0.453699</td><td style=\"text-align: right;\">       0.438066</td><td style=\"text-align: right;\">       4.24043</td><td style=\"text-align: right;\">        5.1243 </td><td style=\"text-align: right;\">            nan</td><td style=\"text-align: right;\">         4.25211 </td><td style=\"text-align: right;\">          4.46589</td><td style=\"text-align: right;\">          3.2755 </td><td style=\"text-align: right;\">       -1.37884 </td><td style=\"text-align: right;\">         1.55233 </td><td style=\"text-align: right;\">       -0.662992 </td><td style=\"text-align: right;\">          2.95907</td><td style=\"text-align: right;\">              nan</td><td style=\"text-align: right;\">      -0.0766392</td><td style=\"text-align: right;\">         2.52667</td><td style=\"text-align: right;\">         3.92309</td><td style=\"text-align: right;\">        4.94534 </td><td style=\"text-align: right;\">        4.78121 </td><td style=\"text-align: right;\">              0.658815</td><td style=\"text-align: right;\">               0.796102</td><td style=\"text-align: right;\">                    nan</td><td style=\"text-align: right;\">                 0.816801</td><td style=\"text-align: right;\">                 0.808663</td><td style=\"text-align: right;\">                 0.801559</td><td style=\"text-align: right;\">                0.950929</td><td style=\"text-align: right;\">                 0.784385</td><td style=\"text-align: right;\">                 0.880951</td><td style=\"text-align: right;\">                 0.865438</td><td style=\"text-align: right;\">                      nan</td><td style=\"text-align: right;\">                0.383682</td><td style=\"text-align: right;\">                0.781892</td><td style=\"text-align: right;\">                0.799806</td><td style=\"text-align: right;\">                0.947505</td><td style=\"text-align: right;\">                0.885781</td><td style=\"text-align: right;\">        8.51324</td><td style=\"text-align: right;\">        16.8382 </td><td style=\"text-align: right;\">             nan</td><td style=\"text-align: right;\">           8.28182</td><td style=\"text-align: right;\">          10.0547 </td><td style=\"text-align: right;\">           4.51152</td><td style=\"text-align: right;\">         -3.6047 </td><td style=\"text-align: right;\">           2.96437</td><td style=\"text-align: right;\">        -0.029619 </td><td style=\"text-align: right;\">           7.78484</td><td style=\"text-align: right;\">               nan</td><td style=\"text-align: right;\">          25.0268</td><td style=\"text-align: right;\">          6.01167</td><td style=\"text-align: right;\">         10.1605 </td><td style=\"text-align: right;\">          14.2617</td><td style=\"text-align: right;\">          22.307 </td><td style=\"text-align: right;\">            53.1713</td><td style=\"text-align: right;\">            153.625 </td><td style=\"text-align: right;\">                 nan</td><td style=\"text-align: right;\">              45.1593 </td><td style=\"text-align: right;\">               68.1444</td><td style=\"text-align: right;\">              12.1495 </td><td style=\"text-align: right;\">             -88.0855</td><td style=\"text-align: right;\">               6.13477</td><td style=\"text-align: right;\">             -13.1807 </td><td style=\"text-align: right;\">              39.3009 </td><td style=\"text-align: right;\">                   nan</td><td style=\"text-align: right;\">              399.779</td><td style=\"text-align: right;\">             17.8508 </td><td style=\"text-align: right;\">              63.2063</td><td style=\"text-align: right;\">             122.803 </td><td style=\"text-align: right;\">              268.949</td><td style=\"text-align: right;\">          0.454257</td><td style=\"text-align: right;\">          0.0981849</td><td style=\"text-align: right;\">                nan</td><td style=\"text-align: right;\">             0.583416</td><td style=\"text-align: right;\">             0.469694</td><td style=\"text-align: right;\">             1.07505 </td><td style=\"text-align: right;\">            1.92601 </td><td style=\"text-align: right;\">             1.31343 </td><td style=\"text-align: right;\">              1.89086</td><td style=\"text-align: right;\">             0.935897</td><td style=\"text-align: right;\">                  nan</td><td style=\"text-align: right;\">            0.767165</td><td style=\"text-align: right;\">            0.69218 </td><td style=\"text-align: right;\">            0.518773</td><td style=\"text-align: right;\">            0.432165</td><td style=\"text-align: right;\">            0.34386 </td><td style=\"text-align: right;\"> -5.86167</td><td style=\"text-align: right;\">-10.9951 </td><td style=\"text-align: right;\">-13.3145 </td><td style=\"text-align: right;\">-10.5049 </td><td style=\"text-align: right;\">-11.574  </td><td style=\"text-align: right;\">-11.1779 </td><td style=\"text-align: right;\">-10.4071 </td><td style=\"text-align: right;\">      nan</td><td style=\"text-align: right;\">-4.04466</td><td style=\"text-align: right;\">-8.21252</td><td style=\"text-align: right;\">-6.99889</td><td style=\"text-align: right;\">-13.4569 </td><td style=\"text-align: right;\">-13.3548 </td><td style=\"text-align: right;\">1.45074e+15</td><td>train</td><td style=\"text-align: right;\">       4</td><td style=\"text-align: right;\">499715</td><td style=\"text-align: right;\">424295</td><td style=\"text-align: right;\">                 34</td></tr>\n",
       "<tr><td>21C908  </td><td style=\"text-align: right;\">0.810516</td><td style=\"text-align: right;\"> 0.628304</td><td style=\"text-align: right;\">      nan</td><td style=\"text-align: right;\">        nan</td><td style=\"text-align: right;\">  0.769221</td><td style=\"text-align: right;\">  0.819342</td><td style=\"text-align: right;\">  0.770918</td><td style=\"text-align: right;\">  0.642758</td><td style=\"text-align: right;\">  0.507182</td><td style=\"text-align: right;\">  0.436513</td><td style=\"text-align: right;\">-10.6589 </td><td style=\"text-align: right;\"> -8.7809 </td><td style=\"text-align: right;\">    nan</td><td style=\"text-align: right;\"> 0.0588199</td><td style=\"text-align: right;\"> -0.203683 </td><td style=\"text-align: right;\">        nan</td><td style=\"text-align: right;\">     0.376636</td><td style=\"text-align: right;\">    0.369338 </td><td style=\"text-align: right;\">     0.409592</td><td style=\"text-align: right;\">   3.83009  </td><td style=\"text-align: right;\">     0.895045</td><td style=\"text-align: right;\">     4.38031 </td><td style=\"text-align: right;\">     1.05054 </td><td style=\"text-align: right;\">          nan</td><td style=\"text-align: right;\">    1.71898 </td><td style=\"text-align: right;\">    0.252812</td><td style=\"text-align: right;\">    0.309128</td><td style=\"text-align: right;\">    0.183817</td><td style=\"text-align: right;\">    0.280298</td><td style=\"text-align: right;\">       42.3802 </td><td style=\"text-align: right;\">        29.5693 </td><td style=\"text-align: right;\">             nan</td><td style=\"text-align: right;\">           2.89171</td><td style=\"text-align: right;\">          35.7692 </td><td style=\"text-align: right;\">           5.15087</td><td style=\"text-align: right;\">         2.51679 </td><td style=\"text-align: right;\">           3.5903 </td><td style=\"text-align: right;\">       -15.4751   </td><td style=\"text-align: right;\">          32.0172 </td><td style=\"text-align: right;\">               nan</td><td style=\"text-align: right;\">       -0.237582 </td><td style=\"text-align: right;\">          6.72451</td><td style=\"text-align: right;\">         17.1932 </td><td style=\"text-align: right;\">         54.4947 </td><td style=\"text-align: right;\">         74.1622 </td><td style=\"text-align: right;\">             7.33218</td><td style=\"text-align: right;\">              7.21331</td><td style=\"text-align: right;\">                  nan</td><td style=\"text-align: right;\">               2.30684 </td><td style=\"text-align: right;\">                6.58251</td><td style=\"text-align: right;\">                2.44779</td><td style=\"text-align: right;\">              0.324224</td><td style=\"text-align: right;\">               1.59306 </td><td style=\"text-align: right;\">              -2.72198 </td><td style=\"text-align: right;\">                6.07033</td><td style=\"text-align: right;\">                    nan</td><td style=\"text-align: right;\">            -0.367388 </td><td style=\"text-align: right;\">              3.03316 </td><td style=\"text-align: right;\">               5.06907</td><td style=\"text-align: right;\">               8.87893</td><td style=\"text-align: right;\">              10.2564 </td><td style=\"text-align: right;\">     0.416893</td><td style=\"text-align: right;\">      0.269957</td><td style=\"text-align: right;\">           nan</td><td style=\"text-align: right;\">        0.616214</td><td style=\"text-align: right;\">        0.585909</td><td style=\"text-align: right;\">        0.633588</td><td style=\"text-align: right;\">       1.90372 </td><td style=\"text-align: right;\">        0.959839</td><td style=\"text-align: right;\">        2.262   </td><td style=\"text-align: right;\">        0.832168</td><td style=\"text-align: right;\">             nan</td><td style=\"text-align: right;\">       0.907924</td><td style=\"text-align: right;\">       0.478208</td><td style=\"text-align: right;\">       0.567881</td><td style=\"text-align: right;\">       0.435228</td><td style=\"text-align: right;\">       0.52958 </td><td style=\"text-align: right;\">       4.7015 </td><td style=\"text-align: right;\">        5.56624</td><td style=\"text-align: right;\">            nan</td><td style=\"text-align: right;\">         3.41164 </td><td style=\"text-align: right;\">          3.78187</td><td style=\"text-align: right;\">          3.55885</td><td style=\"text-align: right;\">       -1.20335 </td><td style=\"text-align: right;\">         1.7791  </td><td style=\"text-align: right;\">       -2.81169  </td><td style=\"text-align: right;\">          2.89533</td><td style=\"text-align: right;\">              nan</td><td style=\"text-align: right;\">      -1.02131  </td><td style=\"text-align: right;\">         3.3623 </td><td style=\"text-align: right;\">         4.24416</td><td style=\"text-align: right;\">        5.09136 </td><td style=\"text-align: right;\">        4.17185 </td><td style=\"text-align: right;\">              0.558566</td><td style=\"text-align: right;\">               0.803756</td><td style=\"text-align: right;\">                    nan</td><td style=\"text-align: right;\">                 0.956353</td><td style=\"text-align: right;\">                 0.769518</td><td style=\"text-align: right;\">                 0.788788</td><td style=\"text-align: right;\">                0.9438  </td><td style=\"text-align: right;\">                 0.830298</td><td style=\"text-align: right;\">                 1.11786 </td><td style=\"text-align: right;\">                 0.713363</td><td style=\"text-align: right;\">                      nan</td><td style=\"text-align: right;\">                0.392404</td><td style=\"text-align: right;\">                0.755052</td><td style=\"text-align: right;\">                0.949671</td><td style=\"text-align: right;\">                0.738356</td><td style=\"text-align: right;\">                0.82296 </td><td style=\"text-align: right;\">        9.50635</td><td style=\"text-align: right;\">        16.5354 </td><td style=\"text-align: right;\">             nan</td><td style=\"text-align: right;\">           7.98028</td><td style=\"text-align: right;\">           9.86555</td><td style=\"text-align: right;\">           4.66072</td><td style=\"text-align: right;\">         -3.53497</td><td style=\"text-align: right;\">           3.01635</td><td style=\"text-align: right;\">        -0.392111 </td><td style=\"text-align: right;\">           7.71701</td><td style=\"text-align: right;\">               nan</td><td style=\"text-align: right;\">          25.1757</td><td style=\"text-align: right;\">          6.01795</td><td style=\"text-align: right;\">         12.582  </td><td style=\"text-align: right;\">          13.3498</td><td style=\"text-align: right;\">          20.0793</td><td style=\"text-align: right;\">            67.2189</td><td style=\"text-align: right;\">            143.717 </td><td style=\"text-align: right;\">                 nan</td><td style=\"text-align: right;\">              38.2574 </td><td style=\"text-align: right;\">               64.0094</td><td style=\"text-align: right;\">              13.382  </td><td style=\"text-align: right;\">             -87.2938</td><td style=\"text-align: right;\">               6.74833</td><td style=\"text-align: right;\">             -17.657  </td><td style=\"text-align: right;\">              45.4677 </td><td style=\"text-align: right;\">                   nan</td><td style=\"text-align: right;\">              402.687</td><td style=\"text-align: right;\">             18.7098 </td><td style=\"text-align: right;\">              85.1266</td><td style=\"text-align: right;\">             116.816 </td><td style=\"text-align: right;\">              222.868</td><td style=\"text-align: right;\">          0.450546</td><td style=\"text-align: right;\">          0.0964761</td><td style=\"text-align: right;\">                nan</td><td style=\"text-align: right;\">             0.937469</td><td style=\"text-align: right;\">             0.55005 </td><td style=\"text-align: right;\">             1.04919 </td><td style=\"text-align: right;\">            1.9049  </td><td style=\"text-align: right;\">             1.35181 </td><td style=\"text-align: right;\">              2.49052</td><td style=\"text-align: right;\">             0.692968</td><td style=\"text-align: right;\">                  nan</td><td style=\"text-align: right;\">            0.907587</td><td style=\"text-align: right;\">            0.583165</td><td style=\"text-align: right;\">            0.596143</td><td style=\"text-align: right;\">            0.336431</td><td style=\"text-align: right;\">            0.327416</td><td style=\"text-align: right;\"> -3.34187</td><td style=\"text-align: right;\">-11.3547 </td><td style=\"text-align: right;\">-13.088  </td><td style=\"text-align: right;\">-10.8576 </td><td style=\"text-align: right;\">-14.4472 </td><td style=\"text-align: right;\">-14.2901 </td><td style=\"text-align: right;\"> -9.60989</td><td style=\"text-align: right;\">      nan</td><td style=\"text-align: right;\">-3.21768</td><td style=\"text-align: right;\">-7.39061</td><td style=\"text-align: right;\">-7.41644</td><td style=\"text-align: right;\">-12.1027 </td><td style=\"text-align: right;\">-12.764  </td><td style=\"text-align: right;\">1.45074e+15</td><td>train</td><td style=\"text-align: right;\">       4</td><td style=\"text-align: right;\">499715</td><td style=\"text-align: right;\">424285</td><td style=\"text-align: right;\">                 35</td></tr>\n",
       "<tr><td>21C908  </td><td style=\"text-align: right;\">0.76794 </td><td style=\"text-align: right;\"> 0.60707 </td><td style=\"text-align: right;\">      nan</td><td style=\"text-align: right;\">        nan</td><td style=\"text-align: right;\">  0.74352 </td><td style=\"text-align: right;\">  0.804184</td><td style=\"text-align: right;\">  0.749879</td><td style=\"text-align: right;\">  0.610959</td><td style=\"text-align: right;\">  0.47515 </td><td style=\"text-align: right;\">  0.430181</td><td style=\"text-align: right;\"> -9.20492</td><td style=\"text-align: right;\"> -7.49346</td><td style=\"text-align: right;\">    nan</td><td style=\"text-align: right;\"> 0.359663 </td><td style=\"text-align: right;\">  0.185103 </td><td style=\"text-align: right;\">        nan</td><td style=\"text-align: right;\">     0.337056</td><td style=\"text-align: right;\">    0.439819 </td><td style=\"text-align: right;\">     0.477204</td><td style=\"text-align: right;\">   1.88113  </td><td style=\"text-align: right;\">     1.6271  </td><td style=\"text-align: right;\">     4.78962 </td><td style=\"text-align: right;\">     1.02675 </td><td style=\"text-align: right;\">          nan</td><td style=\"text-align: right;\">    2.80572 </td><td style=\"text-align: right;\">    0.305582</td><td style=\"text-align: right;\">    0.268685</td><td style=\"text-align: right;\">    0.217347</td><td style=\"text-align: right;\">    0.243305</td><td style=\"text-align: right;\">       31.1492 </td><td style=\"text-align: right;\">        30.5701 </td><td style=\"text-align: right;\">             nan</td><td style=\"text-align: right;\">           7.30415</td><td style=\"text-align: right;\">          34.6649 </td><td style=\"text-align: right;\">           2.89751</td><td style=\"text-align: right;\">         2.36882 </td><td style=\"text-align: right;\">           3.82816</td><td style=\"text-align: right;\">       -29.442    </td><td style=\"text-align: right;\">          65.8598 </td><td style=\"text-align: right;\">               nan</td><td style=\"text-align: right;\">       -0.153884 </td><td style=\"text-align: right;\">          4.39754</td><td style=\"text-align: right;\">         38.4441 </td><td style=\"text-align: right;\">         33.6852 </td><td style=\"text-align: right;\">         63.6925 </td><td style=\"text-align: right;\">             5.79133</td><td style=\"text-align: right;\">              7.4917 </td><td style=\"text-align: right;\">                  nan</td><td style=\"text-align: right;\">               3.18378 </td><td style=\"text-align: right;\">                6.55171</td><td style=\"text-align: right;\">                2.13159</td><td style=\"text-align: right;\">              0.839792</td><td style=\"text-align: right;\">               1.19164 </td><td style=\"text-align: right;\">              -3.59796 </td><td style=\"text-align: right;\">                8.21537</td><td style=\"text-align: right;\">                    nan</td><td style=\"text-align: right;\">            -0.684407 </td><td style=\"text-align: right;\">              2.52877 </td><td style=\"text-align: right;\">               6.97518</td><td style=\"text-align: right;\">               6.55948</td><td style=\"text-align: right;\">               9.40152</td><td style=\"text-align: right;\">     0.599024</td><td style=\"text-align: right;\">      0.452574</td><td style=\"text-align: right;\">           nan</td><td style=\"text-align: right;\">        0.580005</td><td style=\"text-align: right;\">        0.635883</td><td style=\"text-align: right;\">        0.690379</td><td style=\"text-align: right;\">       1.36185 </td><td style=\"text-align: right;\">        1.25511 </td><td style=\"text-align: right;\">        2.41771 </td><td style=\"text-align: right;\">        0.823237</td><td style=\"text-align: right;\">             nan</td><td style=\"text-align: right;\">       1.19119 </td><td style=\"text-align: right;\">       0.535786</td><td style=\"text-align: right;\">       0.516248</td><td style=\"text-align: right;\">       0.464858</td><td style=\"text-align: right;\">       0.493854</td><td style=\"text-align: right;\">       3.63433</td><td style=\"text-align: right;\">        4.49133</td><td style=\"text-align: right;\">            nan</td><td style=\"text-align: right;\">         3.74807 </td><td style=\"text-align: right;\">          3.63078</td><td style=\"text-align: right;\">          3.00993</td><td style=\"text-align: right;\">        0.545317</td><td style=\"text-align: right;\">         0.924833</td><td style=\"text-align: right;\">       -3.1238   </td><td style=\"text-align: right;\">          3.0239 </td><td style=\"text-align: right;\">              nan</td><td style=\"text-align: right;\">      -1.99831  </td><td style=\"text-align: right;\">         2.87926</td><td style=\"text-align: right;\">         4.67303</td><td style=\"text-align: right;\">        4.81312 </td><td style=\"text-align: right;\">        4.33333 </td><td style=\"text-align: right;\">              0.616919</td><td style=\"text-align: right;\">               0.846997</td><td style=\"text-align: right;\">                    nan</td><td style=\"text-align: right;\">                 0.923502</td><td style=\"text-align: right;\">                 0.751521</td><td style=\"text-align: right;\">                 0.820756</td><td style=\"text-align: right;\">                0.843961</td><td style=\"text-align: right;\">                 0.852939</td><td style=\"text-align: right;\">                 1.14814 </td><td style=\"text-align: right;\">                 0.61892 </td><td style=\"text-align: right;\">                      nan</td><td style=\"text-align: right;\">                0.414007</td><td style=\"text-align: right;\">                0.782908</td><td style=\"text-align: right;\">                0.883143</td><td style=\"text-align: right;\">                0.820176</td><td style=\"text-align: right;\">                0.846023</td><td style=\"text-align: right;\">        9.15848</td><td style=\"text-align: right;\">        18.1785 </td><td style=\"text-align: right;\">             nan</td><td style=\"text-align: right;\">           9.29076</td><td style=\"text-align: right;\">           9.65711</td><td style=\"text-align: right;\">           4.1402 </td><td style=\"text-align: right;\">         -3.35469</td><td style=\"text-align: right;\">           2.65672</td><td style=\"text-align: right;\">        -1.0703   </td><td style=\"text-align: right;\">           9.19652</td><td style=\"text-align: right;\">               nan</td><td style=\"text-align: right;\">          25.2463</td><td style=\"text-align: right;\">          6.04636</td><td style=\"text-align: right;\">         14.0677 </td><td style=\"text-align: right;\">          12.3236</td><td style=\"text-align: right;\">          19.7758</td><td style=\"text-align: right;\">            59.9259</td><td style=\"text-align: right;\">            165.465 </td><td style=\"text-align: right;\">                 nan</td><td style=\"text-align: right;\">              49.3265 </td><td style=\"text-align: right;\">               62.9096</td><td style=\"text-align: right;\">               9.61687</td><td style=\"text-align: right;\">             -88.4746</td><td style=\"text-align: right;\">               5.92725</td><td style=\"text-align: right;\">             -27.8017 </td><td style=\"text-align: right;\">              70.037  </td><td style=\"text-align: right;\">                   nan</td><td style=\"text-align: right;\">              407.219</td><td style=\"text-align: right;\">             17.8008 </td><td style=\"text-align: right;\">             113.895 </td><td style=\"text-align: right;\">              94.5647</td><td style=\"text-align: right;\">              214.288</td><td style=\"text-align: right;\">          0.725288</td><td style=\"text-align: right;\">          0.0914882</td><td style=\"text-align: right;\">                nan</td><td style=\"text-align: right;\">             0.783205</td><td style=\"text-align: right;\">             0.593409</td><td style=\"text-align: right;\">             1.03831 </td><td style=\"text-align: right;\">            1.6153  </td><td style=\"text-align: right;\">             1.54049 </td><td style=\"text-align: right;\">              2.54271</td><td style=\"text-align: right;\">             0.665329</td><td style=\"text-align: right;\">                  nan</td><td style=\"text-align: right;\">            1.08611 </td><td style=\"text-align: right;\">            0.685945</td><td style=\"text-align: right;\">            0.574691</td><td style=\"text-align: right;\">            0.591664</td><td style=\"text-align: right;\">            0.279253</td><td style=\"text-align: right;\"> -3.50441</td><td style=\"text-align: right;\">-10.4064 </td><td style=\"text-align: right;\">-11.7838 </td><td style=\"text-align: right;\">-10.1129 </td><td style=\"text-align: right;\">-13.0481 </td><td style=\"text-align: right;\">-14.8503 </td><td style=\"text-align: right;\"> -8.33155</td><td style=\"text-align: right;\">      nan</td><td style=\"text-align: right;\">-2.6691 </td><td style=\"text-align: right;\">-6.65426</td><td style=\"text-align: right;\">-6.40113</td><td style=\"text-align: right;\">-11.3797 </td><td style=\"text-align: right;\">-11.991  </td><td style=\"text-align: right;\">1.45074e+15</td><td>train</td><td style=\"text-align: right;\">       4</td><td style=\"text-align: right;\">499715</td><td style=\"text-align: right;\">424275</td><td style=\"text-align: right;\">                 36</td></tr>\n",
       "<tr><td>21D813A </td><td style=\"text-align: right;\">0.679389</td><td style=\"text-align: right;\"> 0.493976</td><td style=\"text-align: right;\">      nan</td><td style=\"text-align: right;\">        nan</td><td style=\"text-align: right;\">  0.938057</td><td style=\"text-align: right;\">  0.788982</td><td style=\"text-align: right;\">  0.707317</td><td style=\"text-align: right;\">  0.628156</td><td style=\"text-align: right;\">  0.524772</td><td style=\"text-align: right;\">  0.41679 </td><td style=\"text-align: right;\"> -7.77754</td><td style=\"text-align: right;\"> -6.0958 </td><td style=\"text-align: right;\">    nan</td><td style=\"text-align: right;\"> 0.41084  </td><td style=\"text-align: right;\">  0.228707 </td><td style=\"text-align: right;\">        nan</td><td style=\"text-align: right;\">     0.369458</td><td style=\"text-align: right;\">    0.541479 </td><td style=\"text-align: right;\">     0.327589</td><td style=\"text-align: right;\">   0.412996 </td><td style=\"text-align: right;\">     0.447289</td><td style=\"text-align: right;\">     0.573128</td><td style=\"text-align: right;\">     0.330634</td><td style=\"text-align: right;\">          nan</td><td style=\"text-align: right;\">    2.69625 </td><td style=\"text-align: right;\">    0.3047  </td><td style=\"text-align: right;\">    0.312718</td><td style=\"text-align: right;\">    0.32108 </td><td style=\"text-align: right;\">    0.263699</td><td style=\"text-align: right;\">       18.2132 </td><td style=\"text-align: right;\">        83.9297 </td><td style=\"text-align: right;\">             nan</td><td style=\"text-align: right;\">          12.8786 </td><td style=\"text-align: right;\">          12.0421 </td><td style=\"text-align: right;\">          16.7523 </td><td style=\"text-align: right;\">        19.2886  </td><td style=\"text-align: right;\">           6.77828</td><td style=\"text-align: right;\">       -16.1982   </td><td style=\"text-align: right;\">          41.3829 </td><td style=\"text-align: right;\">               nan</td><td style=\"text-align: right;\">       -6.1905   </td><td style=\"text-align: right;\">          3.13824</td><td style=\"text-align: right;\">         21.3525 </td><td style=\"text-align: right;\">         32.0575 </td><td style=\"text-align: right;\">         89.3085 </td><td style=\"text-align: right;\">             4.52098</td><td style=\"text-align: right;\">             10.6786 </td><td style=\"text-align: right;\">                  nan</td><td style=\"text-align: right;\">               3.7386  </td><td style=\"text-align: right;\">                2.90334</td><td style=\"text-align: right;\">                4.59742</td><td style=\"text-align: right;\">              4.77881 </td><td style=\"text-align: right;\">               2.68097 </td><td style=\"text-align: right;\">              -0.990417</td><td style=\"text-align: right;\">                7.73868</td><td style=\"text-align: right;\">                    nan</td><td style=\"text-align: right;\">            -1.63799  </td><td style=\"text-align: right;\">              1.98125 </td><td style=\"text-align: right;\">               5.70281</td><td style=\"text-align: right;\">               5.86212</td><td style=\"text-align: right;\">              11.7968 </td><td style=\"text-align: right;\">     0.607031</td><td style=\"text-align: right;\">      0.396283</td><td style=\"text-align: right;\">           nan</td><td style=\"text-align: right;\">        0.60754 </td><td style=\"text-align: right;\">        0.741005</td><td style=\"text-align: right;\">        0.570244</td><td style=\"text-align: right;\">       0.762479</td><td style=\"text-align: right;\">        0.666127</td><td style=\"text-align: right;\">        0.768615</td><td style=\"text-align: right;\">        0.573273</td><td style=\"text-align: right;\">             nan</td><td style=\"text-align: right;\">       1.22647 </td><td style=\"text-align: right;\">       0.533658</td><td style=\"text-align: right;\">       0.562318</td><td style=\"text-align: right;\">       0.569342</td><td style=\"text-align: right;\">       0.513655</td><td style=\"text-align: right;\">       3.77261</td><td style=\"text-align: right;\">        5.05609</td><td style=\"text-align: right;\">            nan</td><td style=\"text-align: right;\">         3.51538 </td><td style=\"text-align: right;\">          3.15657</td><td style=\"text-align: right;\">          3.93856</td><td style=\"text-align: right;\">        2.70571 </td><td style=\"text-align: right;\">         3.22106 </td><td style=\"text-align: right;\">        2.45441  </td><td style=\"text-align: right;\">          3.80741</td><td style=\"text-align: right;\">              nan</td><td style=\"text-align: right;\">      -2.08411  </td><td style=\"text-align: right;\">         3.04535</td><td style=\"text-align: right;\">         4.30403</td><td style=\"text-align: right;\">        4.18622 </td><td style=\"text-align: right;\">        4.19293 </td><td style=\"text-align: right;\">              0.897967</td><td style=\"text-align: right;\">               0.84178 </td><td style=\"text-align: right;\">                    nan</td><td style=\"text-align: right;\">                 0.61279 </td><td style=\"text-align: right;\">                 0.955693</td><td style=\"text-align: right;\">                 0.783818</td><td style=\"text-align: right;\">                0.306601</td><td style=\"text-align: right;\">                 0.839027</td><td style=\"text-align: right;\">                 0.823418</td><td style=\"text-align: right;\">                 0.770334</td><td style=\"text-align: right;\">                      nan</td><td style=\"text-align: right;\">                0.576652</td><td style=\"text-align: right;\">                0.805386</td><td style=\"text-align: right;\">                0.925049</td><td style=\"text-align: right;\">                0.876376</td><td style=\"text-align: right;\">                0.869355</td><td style=\"text-align: right;\">       11.5535 </td><td style=\"text-align: right;\">        20.5892 </td><td style=\"text-align: right;\">             nan</td><td style=\"text-align: right;\">           3.97797</td><td style=\"text-align: right;\">          11.5542 </td><td style=\"text-align: right;\">           8.04695</td><td style=\"text-align: right;\">         -1.12874</td><td style=\"text-align: right;\">           5.04435</td><td style=\"text-align: right;\">        -0.497053 </td><td style=\"text-align: right;\">          11.7329 </td><td style=\"text-align: right;\">               nan</td><td style=\"text-align: right;\">          24.595 </td><td style=\"text-align: right;\">          6.08506</td><td style=\"text-align: right;\">         12.2799 </td><td style=\"text-align: right;\">          11.7067</td><td style=\"text-align: right;\">          23.7345</td><td style=\"text-align: right;\">            79.7682</td><td style=\"text-align: right;\">            236.051 </td><td style=\"text-align: right;\">                 nan</td><td style=\"text-align: right;\">              20.2975 </td><td style=\"text-align: right;\">               72.4539</td><td style=\"text-align: right;\">              38.5915 </td><td style=\"text-align: right;\">             -74.2626</td><td style=\"text-align: right;\">              18.3837 </td><td style=\"text-align: right;\">             -33.8828 </td><td style=\"text-align: right;\">              89.3007 </td><td style=\"text-align: right;\">                   nan</td><td style=\"text-align: right;\">              400.447</td><td style=\"text-align: right;\">             18.3099 </td><td style=\"text-align: right;\">              80.6574</td><td style=\"text-align: right;\">             105.102 </td><td style=\"text-align: right;\">              303.323</td><td style=\"text-align: right;\">          0.767614</td><td style=\"text-align: right;\">          0.288151 </td><td style=\"text-align: right;\">                nan</td><td style=\"text-align: right;\">             0.811583</td><td style=\"text-align: right;\">             1.11656 </td><td style=\"text-align: right;\">             0.700706</td><td style=\"text-align: right;\">            0.774307</td><td style=\"text-align: right;\">             0.986595</td><td style=\"text-align: right;\">              1.50738</td><td style=\"text-align: right;\">             0.407313</td><td style=\"text-align: right;\">                  nan</td><td style=\"text-align: right;\">            1.20171 </td><td style=\"text-align: right;\">            0.862984</td><td style=\"text-align: right;\">            0.519962</td><td style=\"text-align: right;\">            0.666435</td><td style=\"text-align: right;\">            0.261426</td><td style=\"text-align: right;\">-11.0827 </td><td style=\"text-align: right;\"> -9.39919</td><td style=\"text-align: right;\"> -9.53203</td><td style=\"text-align: right;\">-12.1743 </td><td style=\"text-align: right;\"> -9.1995 </td><td style=\"text-align: right;\">-10.0099 </td><td style=\"text-align: right;\"> -7.41652</td><td style=\"text-align: right;\">      nan</td><td style=\"text-align: right;\">-1.8461 </td><td style=\"text-align: right;\">-7.01559</td><td style=\"text-align: right;\">-8.27629</td><td style=\"text-align: right;\">-10.3898 </td><td style=\"text-align: right;\">-10.2133 </td><td style=\"text-align: right;\">1.45074e+15</td><td>train</td><td style=\"text-align: right;\">       4</td><td style=\"text-align: right;\">502425</td><td style=\"text-align: right;\">424755</td><td style=\"text-align: right;\">                 26</td></tr>\n",
       "<tr><td>21D823  </td><td style=\"text-align: right;\">0.8434  </td><td style=\"text-align: right;\"> 0.752786</td><td style=\"text-align: right;\">      nan</td><td style=\"text-align: right;\">        nan</td><td style=\"text-align: right;\">  0.848867</td><td style=\"text-align: right;\">  0.408234</td><td style=\"text-align: right;\">  0.384102</td><td style=\"text-align: right;\">  0.30568 </td><td style=\"text-align: right;\">  0.138049</td><td style=\"text-align: right;\">  0.051291</td><td style=\"text-align: right;\">-12.439  </td><td style=\"text-align: right;\">-12.1034 </td><td style=\"text-align: right;\">    nan</td><td style=\"text-align: right;\"> 0.144504 </td><td style=\"text-align: right;\"> -0.332484 </td><td style=\"text-align: right;\">        nan</td><td style=\"text-align: right;\">     2.65265 </td><td style=\"text-align: right;\">    0.7326   </td><td style=\"text-align: right;\">     0.563537</td><td style=\"text-align: right;\">   3.84328  </td><td style=\"text-align: right;\">     3.5037  </td><td style=\"text-align: right;\">     3.87009 </td><td style=\"text-align: right;\">     1.1722  </td><td style=\"text-align: right;\">          nan</td><td style=\"text-align: right;\">    1.73319 </td><td style=\"text-align: right;\">    0.181483</td><td style=\"text-align: right;\">    0.152544</td><td style=\"text-align: right;\">    1.24843 </td><td style=\"text-align: right;\">    0.143929</td><td style=\"text-align: right;\">        7.89331</td><td style=\"text-align: right;\">         8.26714</td><td style=\"text-align: right;\">             nan</td><td style=\"text-align: right;\">           0.66976</td><td style=\"text-align: right;\">           4.71533</td><td style=\"text-align: right;\">          19.3183 </td><td style=\"text-align: right;\">         0.291021</td><td style=\"text-align: right;\">           4.1627 </td><td style=\"text-align: right;\">        -5.69594  </td><td style=\"text-align: right;\">           1.53208</td><td style=\"text-align: right;\">               nan</td><td style=\"text-align: right;\">       -2.29718  </td><td style=\"text-align: right;\">         10.5236 </td><td style=\"text-align: right;\">         22.452  </td><td style=\"text-align: right;\">          2.48886</td><td style=\"text-align: right;\">         30.0111 </td><td style=\"text-align: right;\">             3.32278</td><td style=\"text-align: right;\">              3.39268</td><td style=\"text-align: right;\">                  nan</td><td style=\"text-align: right;\">               0.292456</td><td style=\"text-align: right;\">                2.48807</td><td style=\"text-align: right;\">                4.62265</td><td style=\"text-align: right;\">              0.112953</td><td style=\"text-align: right;\">               0.946983</td><td style=\"text-align: right;\">              -1.12856 </td><td style=\"text-align: right;\">                1.18665</td><td style=\"text-align: right;\">                    nan</td><td style=\"text-align: right;\">            -0.787487 </td><td style=\"text-align: right;\">              3.85779 </td><td style=\"text-align: right;\">               6.10382</td><td style=\"text-align: right;\">               1.53566</td><td style=\"text-align: right;\">               6.79866</td><td style=\"text-align: right;\">     0.504114</td><td style=\"text-align: right;\">      0.256073</td><td style=\"text-align: right;\">           nan</td><td style=\"text-align: right;\">        1.66849 </td><td style=\"text-align: right;\">        0.779006</td><td style=\"text-align: right;\">        0.716959</td><td style=\"text-align: right;\">       1.91359 </td><td style=\"text-align: right;\">        1.78721 </td><td style=\"text-align: right;\">        2.08944 </td><td style=\"text-align: right;\">        1.08224 </td><td style=\"text-align: right;\">             nan</td><td style=\"text-align: right;\">       0.92656 </td><td style=\"text-align: right;\">       0.403258</td><td style=\"text-align: right;\">       0.489777</td><td style=\"text-align: right;\">       1.14006 </td><td style=\"text-align: right;\">       0.455619</td><td style=\"text-align: right;\">       4.03658</td><td style=\"text-align: right;\">        5.19012</td><td style=\"text-align: right;\">            nan</td><td style=\"text-align: right;\">        -0.384407</td><td style=\"text-align: right;\">          2.92446</td><td style=\"text-align: right;\">          3.11341</td><td style=\"text-align: right;\">       -1.26265 </td><td style=\"text-align: right;\">        -0.592113</td><td style=\"text-align: right;\">       -1.89762  </td><td style=\"text-align: right;\">          1.38486</td><td style=\"text-align: right;\">              nan</td><td style=\"text-align: right;\">      -1.1671   </td><td style=\"text-align: right;\">         3.91156</td><td style=\"text-align: right;\">         4.58905</td><td style=\"text-align: right;\">        0.969729</td><td style=\"text-align: right;\">        4.42319 </td><td style=\"text-align: right;\">              0.765566</td><td style=\"text-align: right;\">               0.822144</td><td style=\"text-align: right;\">                    nan</td><td style=\"text-align: right;\">                 0.925072</td><td style=\"text-align: right;\">                 0.928279</td><td style=\"text-align: right;\">                 0.694259</td><td style=\"text-align: right;\">                0.959452</td><td style=\"text-align: right;\">                 0.944568</td><td style=\"text-align: right;\">                 1.0013  </td><td style=\"text-align: right;\">                 0.920634</td><td style=\"text-align: right;\">                      nan</td><td style=\"text-align: right;\">                0.39533 </td><td style=\"text-align: right;\">                0.7501  </td><td style=\"text-align: right;\">                0.772378</td><td style=\"text-align: right;\">                0.984812</td><td style=\"text-align: right;\">                0.890027</td><td style=\"text-align: right;\">        6.44987</td><td style=\"text-align: right;\">         8.79847</td><td style=\"text-align: right;\">             nan</td><td style=\"text-align: right;\">           2.21249</td><td style=\"text-align: right;\">           6.84773</td><td style=\"text-align: right;\">           6.35266</td><td style=\"text-align: right;\">         -3.6617 </td><td style=\"text-align: right;\">           2.85908</td><td style=\"text-align: right;\">         0.372784 </td><td style=\"text-align: right;\">           3.97488</td><td style=\"text-align: right;\">               nan</td><td style=\"text-align: right;\">          24.7935</td><td style=\"text-align: right;\">          7.39977</td><td style=\"text-align: right;\">          9.29521</td><td style=\"text-align: right;\">           5.7953</td><td style=\"text-align: right;\">          15.4778</td><td style=\"text-align: right;\">            32.9844</td><td style=\"text-align: right;\">             58.0147</td><td style=\"text-align: right;\">                 nan</td><td style=\"text-align: right;\">               6.81677</td><td style=\"text-align: right;\">               26.0152</td><td style=\"text-align: right;\">              29.0144 </td><td style=\"text-align: right;\">             -88.9127</td><td style=\"text-align: right;\">               7.78644</td><td style=\"text-align: right;\">              -7.69909</td><td style=\"text-align: right;\">               8.93956</td><td style=\"text-align: right;\">                   nan</td><td style=\"text-align: right;\">              400.168</td><td style=\"text-align: right;\">             31.9575 </td><td style=\"text-align: right;\">              49.3939</td><td style=\"text-align: right;\">              35.8794</td><td style=\"text-align: right;\">              134.632</td><td style=\"text-align: right;\">          0.78081 </td><td style=\"text-align: right;\">          0.801709 </td><td style=\"text-align: right;\">                nan</td><td style=\"text-align: right;\">             1.87084 </td><td style=\"text-align: right;\">             1.00398 </td><td style=\"text-align: right;\">             0.7741  </td><td style=\"text-align: right;\">            1.90647 </td><td style=\"text-align: right;\">             1.7654  </td><td style=\"text-align: right;\">              2.22496</td><td style=\"text-align: right;\">             1.43234 </td><td style=\"text-align: right;\">                  nan</td><td style=\"text-align: right;\">            0.993133</td><td style=\"text-align: right;\">            0.43161 </td><td style=\"text-align: right;\">            0.498951</td><td style=\"text-align: right;\">            1.3141  </td><td style=\"text-align: right;\">            0.409498</td><td style=\"text-align: right;\">-12.7316 </td><td style=\"text-align: right;\">-12.2253 </td><td style=\"text-align: right;\">-11.2553 </td><td style=\"text-align: right;\">-13.0972 </td><td style=\"text-align: right;\">-12.2647 </td><td style=\"text-align: right;\">-10.852  </td><td style=\"text-align: right;\">-12.8282 </td><td style=\"text-align: right;\">      nan</td><td style=\"text-align: right;\">-2.97101</td><td style=\"text-align: right;\">-6.96975</td><td style=\"text-align: right;\">-8.69081</td><td style=\"text-align: right;\">-16.8071 </td><td style=\"text-align: right;\">-13.7233 </td><td style=\"text-align: right;\">1.45074e+15</td><td>train</td><td style=\"text-align: right;\">       1</td><td style=\"text-align: right;\">501275</td><td style=\"text-align: right;\">425415</td><td style=\"text-align: right;\">                 33</td></tr>\n",
       "<tr><td>21C918  </td><td style=\"text-align: right;\">0.878194</td><td style=\"text-align: right;\"> 0.77931 </td><td style=\"text-align: right;\">      nan</td><td style=\"text-align: right;\">        nan</td><td style=\"text-align: right;\">  0.959664</td><td style=\"text-align: right;\">  0.765349</td><td style=\"text-align: right;\">  0.490604</td><td style=\"text-align: right;\">  0.483741</td><td style=\"text-align: right;\">  0.621098</td><td style=\"text-align: right;\">  0.642666</td><td style=\"text-align: right;\">-11.4084 </td><td style=\"text-align: right;\">-12.5974 </td><td style=\"text-align: right;\">    nan</td><td style=\"text-align: right;\"> 0.581937 </td><td style=\"text-align: right;\">  0.790498 </td><td style=\"text-align: right;\">        nan</td><td style=\"text-align: right;\">     0.334099</td><td style=\"text-align: right;\">    0.697869 </td><td style=\"text-align: right;\">     0.397638</td><td style=\"text-align: right;\">   0.0516962</td><td style=\"text-align: right;\">     1.22405 </td><td style=\"text-align: right;\">     3.92374 </td><td style=\"text-align: right;\">     0.952689</td><td style=\"text-align: right;\">          nan</td><td style=\"text-align: right;\">    3.37738 </td><td style=\"text-align: right;\">    0.156234</td><td style=\"text-align: right;\">    0.244163</td><td style=\"text-align: right;\">    0.859233</td><td style=\"text-align: right;\">    1.95465 </td><td style=\"text-align: right;\">        3.13894</td><td style=\"text-align: right;\">         4.21906</td><td style=\"text-align: right;\">             nan</td><td style=\"text-align: right;\">          43.3806 </td><td style=\"text-align: right;\">          10.3811 </td><td style=\"text-align: right;\">           8.82006</td><td style=\"text-align: right;\">         2.72775 </td><td style=\"text-align: right;\">           6.19538</td><td style=\"text-align: right;\">        -1.30157  </td><td style=\"text-align: right;\">           3.5721 </td><td style=\"text-align: right;\">               nan</td><td style=\"text-align: right;\">       -6.9737   </td><td style=\"text-align: right;\">         23.2727 </td><td style=\"text-align: right;\">         31.2529 </td><td style=\"text-align: right;\">          4.46497</td><td style=\"text-align: right;\">         16.6687 </td><td style=\"text-align: right;\">             2.16063</td><td style=\"text-align: right;\">              2.48883</td><td style=\"text-align: right;\">                  nan</td><td style=\"text-align: right;\">               7.62468 </td><td style=\"text-align: right;\">                2.47354</td><td style=\"text-align: right;\">                3.56803</td><td style=\"text-align: right;\">              1.75928 </td><td style=\"text-align: right;\">               2.20598 </td><td style=\"text-align: right;\">              -0.604954</td><td style=\"text-align: right;\">                1.93036</td><td style=\"text-align: right;\">                    nan</td><td style=\"text-align: right;\">            -1.80235  </td><td style=\"text-align: right;\">              5.06945 </td><td style=\"text-align: right;\">               7.01904</td><td style=\"text-align: right;\">               2.165  </td><td style=\"text-align: right;\">               3.03885</td><td style=\"text-align: right;\">     0.726346</td><td style=\"text-align: right;\">      0.834858</td><td style=\"text-align: right;\">           nan</td><td style=\"text-align: right;\">        0.531484</td><td style=\"text-align: right;\">        0.848557</td><td style=\"text-align: right;\">        0.62746 </td><td style=\"text-align: right;\">       0.602405</td><td style=\"text-align: right;\">        1.09513 </td><td style=\"text-align: right;\">        2.15661 </td><td style=\"text-align: right;\">        0.833209</td><td style=\"text-align: right;\">             nan</td><td style=\"text-align: right;\">       1.44615 </td><td style=\"text-align: right;\">       0.410967</td><td style=\"text-align: right;\">       0.479605</td><td style=\"text-align: right;\">       0.868155</td><td style=\"text-align: right;\">       1.40895 </td><td style=\"text-align: right;\">       3.03272</td><td style=\"text-align: right;\">        2.46942</td><td style=\"text-align: right;\">            nan</td><td style=\"text-align: right;\">         4.16274 </td><td style=\"text-align: right;\">          2.48426</td><td style=\"text-align: right;\">          3.42517</td><td style=\"text-align: right;\">        2.78387 </td><td style=\"text-align: right;\">         1.757   </td><td style=\"text-align: right;\">       -1.95824  </td><td style=\"text-align: right;\">          2.84807</td><td style=\"text-align: right;\">              nan</td><td style=\"text-align: right;\">      -2.89485  </td><td style=\"text-align: right;\">         3.7636 </td><td style=\"text-align: right;\">         4.99954</td><td style=\"text-align: right;\">        2.72333 </td><td style=\"text-align: right;\">        0.621527</td><td style=\"text-align: right;\">              0.890823</td><td style=\"text-align: right;\">               0.817239</td><td style=\"text-align: right;\">                    nan</td><td style=\"text-align: right;\">                 0.495788</td><td style=\"text-align: right;\">                 0.840751</td><td style=\"text-align: right;\">                 0.848436</td><td style=\"text-align: right;\">                0.798616</td><td style=\"text-align: right;\">                 0.642534</td><td style=\"text-align: right;\">                 0.836825</td><td style=\"text-align: right;\">                 0.922711</td><td style=\"text-align: right;\">                      nan</td><td style=\"text-align: right;\">                0.460626</td><td style=\"text-align: right;\">                0.722034</td><td style=\"text-align: right;\">                0.946902</td><td style=\"text-align: right;\">                0.864828</td><td style=\"text-align: right;\">                0.996953</td><td style=\"text-align: right;\">        5.87224</td><td style=\"text-align: right;\">         6.38545</td><td style=\"text-align: right;\">             nan</td><td style=\"text-align: right;\">           8.71951</td><td style=\"text-align: right;\">           6.60267</td><td style=\"text-align: right;\">           6.93008</td><td style=\"text-align: right;\">         -1.70763</td><td style=\"text-align: right;\">           3.86265</td><td style=\"text-align: right;\">        -0.0502481</td><td style=\"text-align: right;\">           5.57112</td><td style=\"text-align: right;\">               nan</td><td style=\"text-align: right;\">          23.7933</td><td style=\"text-align: right;\">          9.61398</td><td style=\"text-align: right;\">         16.4979 </td><td style=\"text-align: right;\">          10.4741</td><td style=\"text-align: right;\">          28.5002</td><td style=\"text-align: right;\">            29.1532</td><td style=\"text-align: right;\">             42.3578</td><td style=\"text-align: right;\">                 nan</td><td style=\"text-align: right;\">              69.324  </td><td style=\"text-align: right;\">               34.8532</td><td style=\"text-align: right;\">              27.2884 </td><td style=\"text-align: right;\">             -82.5824</td><td style=\"text-align: right;\">              11.5506 </td><td style=\"text-align: right;\">              -9.25658</td><td style=\"text-align: right;\">              18.8385 </td><td style=\"text-align: right;\">                   nan</td><td style=\"text-align: right;\">              392.891</td><td style=\"text-align: right;\">             63.866  </td><td style=\"text-align: right;\">             138.694 </td><td style=\"text-align: right;\">             107.034 </td><td style=\"text-align: right;\">              412.656</td><td style=\"text-align: right;\">          1.03085 </td><td style=\"text-align: right;\">          1.03002  </td><td style=\"text-align: right;\">                nan</td><td style=\"text-align: right;\">             0.492777</td><td style=\"text-align: right;\">             1.23632 </td><td style=\"text-align: right;\">             0.724318</td><td style=\"text-align: right;\">            1.16829 </td><td style=\"text-align: right;\">             1.28892 </td><td style=\"text-align: right;\">              2.24284</td><td style=\"text-align: right;\">             1.19823 </td><td style=\"text-align: right;\">                  nan</td><td style=\"text-align: right;\">            1.26971 </td><td style=\"text-align: right;\">            0.488523</td><td style=\"text-align: right;\">            0.383552</td><td style=\"text-align: right;\">            1.24568 </td><td style=\"text-align: right;\">            1.42538 </td><td style=\"text-align: right;\"> -7.51866</td><td style=\"text-align: right;\">-11.5859 </td><td style=\"text-align: right;\"> -8.94308</td><td style=\"text-align: right;\"> -8.54814</td><td style=\"text-align: right;\">-10.5329 </td><td style=\"text-align: right;\">-13.1639 </td><td style=\"text-align: right;\">-10.041  </td><td style=\"text-align: right;\">      nan</td><td style=\"text-align: right;\">-3.25118</td><td style=\"text-align: right;\">-4.31378</td><td style=\"text-align: right;\">-6.57125</td><td style=\"text-align: right;\"> -9.80698</td><td style=\"text-align: right;\"> -7.30389</td><td style=\"text-align: right;\">1.45074e+15</td><td>train</td><td style=\"text-align: right;\">       3</td><td style=\"text-align: right;\">500015</td><td style=\"text-align: right;\">425475</td><td style=\"text-align: right;\">                  0</td></tr>\n",
       "</tbody>\n",
       "</table>"
      ]
     },
     "metadata": {},
     "output_type": "display_data"
    },
    {
     "data": {
      "text/plain": []
     },
     "execution_count": 35,
     "metadata": {},
     "output_type": "execute_result"
    }
   ],
   "source": [
    "data"
   ]
  },
  {
   "cell_type": "code",
   "execution_count": 42,
   "metadata": {},
   "outputs": [],
   "source": [
    "data['vclass'] = data['vclass'].asfactor()"
   ]
  },
  {
   "cell_type": "code",
   "execution_count": 37,
   "metadata": {},
   "outputs": [
    {
     "data": {
      "text/plain": [
       "[['1', '2', '3', '4', '5']]"
      ]
     },
     "execution_count": 37,
     "metadata": {},
     "output_type": "execute_result"
    }
   ],
   "source": [
    "data['vclass'].levels()"
   ]
  },
  {
   "cell_type": "code",
   "execution_count": 38,
   "metadata": {},
   "outputs": [],
   "source": [
    "train = data[data['tt']=='train']"
   ]
  },
  {
   "cell_type": "code",
   "execution_count": 39,
   "metadata": {},
   "outputs": [
    {
     "data": {
      "text/plain": [
       "(31416, 177)"
      ]
     },
     "execution_count": 39,
     "metadata": {},
     "output_type": "execute_result"
    }
   ],
   "source": [
    "train.shape"
   ]
  },
  {
   "cell_type": "code",
   "execution_count": 85,
   "metadata": {},
   "outputs": [
    {
     "data": {
      "text/plain": [
       "(9977, 177)"
      ]
     },
     "execution_count": 85,
     "metadata": {},
     "output_type": "execute_result"
    }
   ],
   "source": [
    "test = data[data['tt']=='test']\n",
    "test.shape"
   ]
  },
  {
   "cell_type": "code",
   "execution_count": 41,
   "metadata": {},
   "outputs": [],
   "source": [
    "data = data[data['time']!=1448582400000000]"
   ]
  },
  {
   "cell_type": "code",
   "execution_count": 146,
   "metadata": {},
   "outputs": [
    {
     "data": {
      "text/plain": [
       "[['1', '2', '3', '4', '5']]"
      ]
     },
     "execution_count": 146,
     "metadata": {},
     "output_type": "execute_result"
    }
   ],
   "source": [
    "data['train'] = data['train'].ascharacter()\n",
    "data['train'] = data['train'].asfactor()\n",
    "data['train'].levels()"
   ]
  },
  {
   "cell_type": "code",
   "execution_count": 10,
   "metadata": {},
   "outputs": [],
   "source": [
    "# To train and test the model using only this data, split data\n",
    "train, valid = train.split_frame(ratios=[0.5], seed=10)"
   ]
  },
  {
   "cell_type": "code",
   "execution_count": 43,
   "metadata": {},
   "outputs": [
    {
     "name": "stdout",
     "output_type": "stream",
     "text": [
      "31416\n",
      "15639\n"
     ]
    }
   ],
   "source": [
    "# Show number of observations from each dataset\n",
    "print(train.nrow)\n",
    "print(valid.nrow)"
   ]
  },
  {
   "cell_type": "code",
   "execution_count": 44,
   "metadata": {},
   "outputs": [],
   "source": [
    "# Define response variables and predictors\n",
    "y = 'vclass'\n",
    "x = list(data.columns)"
   ]
  },
  {
   "cell_type": "code",
   "execution_count": 14,
   "metadata": {},
   "outputs": [],
   "source": [
    "x.remove(y)\n",
    "x.remove('IDLote')\n",
    "x.remove('x')\n",
    "x.remove('y')\n",
    "x.remove('__index_level_0__')"
   ]
  },
  {
   "cell_type": "code",
   "execution_count": 45,
   "metadata": {},
   "outputs": [
    {
     "name": "stdout",
     "output_type": "stream",
     "text": [
      "['NDVI_0', 'NDVI_16', 'NDVI_n16', 'NDVI_n32', 'NDVI_n48', 'NDVI_n64', 'NDVI_n80', 'NDVI_n96', 'VV_0', 'VV_16', 'VV_n16', 'VV_n32', 'VV_n48', 'VV_n64', 'VV_n80', 'VV_n96', 'VV_ASM_0', 'VV_ASM_16', 'VV_ASM_n16', 'VV_ASM_n32', 'VV_ASM_n48', 'VV_ASM_n64', 'VV_ASM_n80', 'VV_ASM_n96', 'VV_Contrast_0', 'VV_Contrast_16', 'VV_Contrast_n16', 'VV_Contrast_n32', 'VV_Contrast_n48', 'VV_Contrast_n64', 'VV_Contrast_n80', 'VV_Contrast_n96', 'VV_Dissimilarity_0', 'VV_Dissimilarity_16', 'VV_Dissimilarity_n16', 'VV_Dissimilarity_n32', 'VV_Dissimilarity_n48', 'VV_Dissimilarity_n64', 'VV_Dissimilarity_n80', 'VV_Dissimilarity_n96', 'VV_Energy_0', 'VV_Energy_16', 'VV_Energy_n16', 'VV_Energy_n32', 'VV_Energy_n48', 'VV_Energy_n64', 'VV_Energy_n80', 'VV_Energy_n96', 'VV_Entropy_0', 'VV_Entropy_16', 'VV_Entropy_n16', 'VV_Entropy_n32', 'VV_Entropy_n48', 'VV_Entropy_n64', 'VV_Entropy_n80', 'VV_Entropy_n96', 'VV_GLCMCorrelation_0', 'VV_GLCMCorrelation_16', 'VV_GLCMCorrelation_n16', 'VV_GLCMCorrelation_n32', 'VV_GLCMCorrelation_n48', 'VV_GLCMCorrelation_n64', 'VV_GLCMCorrelation_n80', 'VV_GLCMCorrelation_n96', 'VV_GLCMMean_0', 'VV_GLCMMean_16', 'VV_GLCMMean_n16', 'VV_GLCMMean_n32', 'VV_GLCMMean_n48', 'VV_GLCMMean_n64', 'VV_GLCMMean_n80', 'VV_GLCMMean_n96', 'VV_GLCMVariance_0', 'VV_GLCMVariance_16', 'VV_GLCMVariance_n16', 'VV_GLCMVariance_n32', 'VV_GLCMVariance_n48', 'VV_GLCMVariance_n64', 'VV_GLCMVariance_n80', 'VV_GLCMVariance_n96', 'VV_Homogeneity_0', 'VV_Homogeneity_16', 'VV_Homogeneity_n16', 'VV_Homogeneity_n32', 'VV_Homogeneity_n48', 'VV_Homogeneity_n64', 'VV_Homogeneity_n80', 'VV_Homogeneity_n96']\n"
     ]
    }
   ],
   "source": [
    "x = []\n",
    "\n",
    "for band in ['NDVI','VV','VV_ASM','VV_Contrast','VV_Dissimilarity','VV_Energy','VV_Entropy','VV_GLCMCorrelation',\n",
    "            'VV_GLCMMean', 'VV_GLCMVariance', 'VV_Homogeneity']:\n",
    "    for time in ['_0','_16','_n16','_n32','_n48','_n64','_n80','_n96']:\n",
    "        x.append(band+time)\n",
    "\n",
    "print(x)"
   ]
  },
  {
   "cell_type": "code",
   "execution_count": 46,
   "metadata": {},
   "outputs": [],
   "source": [
    "# test random forest\n",
    "from h2o.estimators.random_forest import H2ORandomForestEstimator"
   ]
  },
  {
   "cell_type": "code",
   "execution_count": 47,
   "metadata": {},
   "outputs": [],
   "source": [
    "# Initialize model\n",
    "rf_v1 = H2ORandomForestEstimator(\n",
    "    model_id=\"rf_covType_v1\",\n",
    "    ntrees=500,\n",
    "    stopping_rounds=2,\n",
    "    score_each_iteration=True,\n",
    "    seed=100)"
   ]
  },
  {
   "cell_type": "code",
   "execution_count": 48,
   "metadata": {},
   "outputs": [
    {
     "name": "stdout",
     "output_type": "stream",
     "text": [
      "drf Model Build progress: |███████████████████████████████████████████████| 100%\n"
     ]
    }
   ],
   "source": [
    "# Train model\n",
    "rf_v1.train(x, y, training_frame=train)"
   ]
  },
  {
   "cell_type": "code",
   "execution_count": 49,
   "metadata": {},
   "outputs": [
    {
     "name": "stdout",
     "output_type": "stream",
     "text": [
      "Model Details\n",
      "=============\n",
      "H2ORandomForestEstimator :  Distributed Random Forest\n",
      "Model Key:  rf_covType_v1\n",
      "\n",
      "\n",
      "ModelMetricsMultinomial: drf\n",
      "** Reported on train data. **\n",
      "\n",
      "MSE: 0.005022567893281561\n",
      "RMSE: 0.07087007755944368\n",
      "LogLoss: 0.033714301338326334\n",
      "Mean Per-Class Error: 0.0010380608685901017\n",
      "Confusion Matrix: Row labels: Actual class; Column labels: Predicted class\n",
      "\n"
     ]
    },
    {
     "data": {
      "text/html": [
       "<div style=\"overflow:auto\"><table style=\"width:50%\"><tr><td><b>1</b></td>\n",
       "<td><b>2</b></td>\n",
       "<td><b>3</b></td>\n",
       "<td><b>4</b></td>\n",
       "<td><b>5</b></td>\n",
       "<td><b>Error</b></td>\n",
       "<td><b>Rate</b></td></tr>\n",
       "<tr><td>4624.0</td>\n",
       "<td>1.0</td>\n",
       "<td>1.0</td>\n",
       "<td>0.0</td>\n",
       "<td>0.0</td>\n",
       "<td>0.0004323</td>\n",
       "<td>2 / 4,626</td></tr>\n",
       "<tr><td>1.0</td>\n",
       "<td>4717.0</td>\n",
       "<td>2.0</td>\n",
       "<td>7.0</td>\n",
       "<td>0.0</td>\n",
       "<td>0.0021155</td>\n",
       "<td>10 / 4,727</td></tr>\n",
       "<tr><td>0.0</td>\n",
       "<td>0.0</td>\n",
       "<td>9030.0</td>\n",
       "<td>6.0</td>\n",
       "<td>0.0</td>\n",
       "<td>0.0006640</td>\n",
       "<td>6 / 9,036</td></tr>\n",
       "<tr><td>1.0</td>\n",
       "<td>7.0</td>\n",
       "<td>0.0</td>\n",
       "<td>9174.0</td>\n",
       "<td>3.0</td>\n",
       "<td>0.0011976</td>\n",
       "<td>11 / 9,185</td></tr>\n",
       "<tr><td>0.0</td>\n",
       "<td>0.0</td>\n",
       "<td>0.0</td>\n",
       "<td>3.0</td>\n",
       "<td>3839.0</td>\n",
       "<td>0.0007808</td>\n",
       "<td>3 / 3,842</td></tr>\n",
       "<tr><td>4626.0</td>\n",
       "<td>4725.0</td>\n",
       "<td>9033.0</td>\n",
       "<td>9190.0</td>\n",
       "<td>3842.0</td>\n",
       "<td>0.0010186</td>\n",
       "<td>32 / 31,416</td></tr></table></div>"
      ],
      "text/plain": [
       "1     2     3     4     5     Error        Rate\n",
       "----  ----  ----  ----  ----  -----------  -----------\n",
       "4624  1     1     0     0     0.000432339  2 / 4,626\n",
       "1     4717  2     7     0     0.00211551   10 / 4,727\n",
       "0     0     9030  6     0     0.000664011  6 / 9,036\n",
       "1     7     0     9174  3     0.0011976    11 / 9,185\n",
       "0     0     0     3     3839  0.000780843  3 / 3,842\n",
       "4626  4725  9033  9190  3842  0.00101859   32 / 31,416"
      ]
     },
     "metadata": {},
     "output_type": "display_data"
    },
    {
     "name": "stdout",
     "output_type": "stream",
     "text": [
      "Top-5 Hit Ratios: \n"
     ]
    },
    {
     "data": {
      "text/html": [
       "<div style=\"overflow:auto\"><table style=\"width:50%\"><tr><td><b>k</b></td>\n",
       "<td><b>hit_ratio</b></td></tr>\n",
       "<tr><td>1</td>\n",
       "<td>0.9989814</td></tr>\n",
       "<tr><td>2</td>\n",
       "<td>0.9999363</td></tr>\n",
       "<tr><td>3</td>\n",
       "<td>0.9999363</td></tr>\n",
       "<tr><td>4</td>\n",
       "<td>0.9999363</td></tr>\n",
       "<tr><td>5</td>\n",
       "<td>1.0</td></tr></table></div>"
      ],
      "text/plain": [
       "k    hit_ratio\n",
       "---  -----------\n",
       "1    0.998981\n",
       "2    0.999936\n",
       "3    0.999936\n",
       "4    0.999936\n",
       "5    1"
      ]
     },
     "metadata": {},
     "output_type": "display_data"
    },
    {
     "name": "stdout",
     "output_type": "stream",
     "text": [
      "Scoring History: \n"
     ]
    },
    {
     "data": {
      "text/html": [
       "<div style=\"overflow:auto\"><table style=\"width:50%\"><tr><td><b></b></td>\n",
       "<td><b>timestamp</b></td>\n",
       "<td><b>duration</b></td>\n",
       "<td><b>number_of_trees</b></td>\n",
       "<td><b>training_rmse</b></td>\n",
       "<td><b>training_logloss</b></td>\n",
       "<td><b>training_classification_error</b></td></tr>\n",
       "<tr><td></td>\n",
       "<td>2018-07-18 09:03:01</td>\n",
       "<td> 0.070 sec</td>\n",
       "<td>0.0</td>\n",
       "<td>nan</td>\n",
       "<td>nan</td>\n",
       "<td>nan</td></tr>\n",
       "<tr><td></td>\n",
       "<td>2018-07-18 09:03:05</td>\n",
       "<td> 3.546 sec</td>\n",
       "<td>1.0</td>\n",
       "<td>0.1893245</td>\n",
       "<td>1.0189254</td>\n",
       "<td>0.0352972</td></tr>\n",
       "<tr><td></td>\n",
       "<td>2018-07-18 09:03:05</td>\n",
       "<td> 4.128 sec</td>\n",
       "<td>2.0</td>\n",
       "<td>0.1673145</td>\n",
       "<td>0.7564199</td>\n",
       "<td>0.0270798</td></tr>\n",
       "<tr><td></td>\n",
       "<td>2018-07-18 09:03:06</td>\n",
       "<td> 4.642 sec</td>\n",
       "<td>3.0</td>\n",
       "<td>0.1602790</td>\n",
       "<td>0.6698992</td>\n",
       "<td>0.0240918</td></tr>\n",
       "<tr><td></td>\n",
       "<td>2018-07-18 09:03:07</td>\n",
       "<td> 5.176 sec</td>\n",
       "<td>4.0</td>\n",
       "<td>0.1481184</td>\n",
       "<td>0.5364082</td>\n",
       "<td>0.0197781</td></tr>\n",
       "<tr><td>---</td>\n",
       "<td>---</td>\n",
       "<td>---</td>\n",
       "<td>---</td>\n",
       "<td>---</td>\n",
       "<td>---</td>\n",
       "<td>---</td></tr>\n",
       "<tr><td></td>\n",
       "<td>2018-07-18 09:03:12</td>\n",
       "<td>11.122 sec</td>\n",
       "<td>20.0</td>\n",
       "<td>0.0735044</td>\n",
       "<td>0.0360426</td>\n",
       "<td>0.0012734</td></tr>\n",
       "<tr><td></td>\n",
       "<td>2018-07-18 09:03:13</td>\n",
       "<td>11.424 sec</td>\n",
       "<td>21.0</td>\n",
       "<td>0.0725897</td>\n",
       "<td>0.0330913</td>\n",
       "<td>0.0012415</td></tr>\n",
       "<tr><td></td>\n",
       "<td>2018-07-18 09:03:13</td>\n",
       "<td>11.743 sec</td>\n",
       "<td>22.0</td>\n",
       "<td>0.0721105</td>\n",
       "<td>0.0332856</td>\n",
       "<td>0.0011460</td></tr>\n",
       "<tr><td></td>\n",
       "<td>2018-07-18 09:03:13</td>\n",
       "<td>12.028 sec</td>\n",
       "<td>23.0</td>\n",
       "<td>0.0715013</td>\n",
       "<td>0.0338230</td>\n",
       "<td>0.0010823</td></tr>\n",
       "<tr><td></td>\n",
       "<td>2018-07-18 09:03:14</td>\n",
       "<td>12.321 sec</td>\n",
       "<td>24.0</td>\n",
       "<td>0.0708701</td>\n",
       "<td>0.0337143</td>\n",
       "<td>0.0010186</td></tr></table></div>"
      ],
      "text/plain": [
       "     timestamp            duration    number_of_trees    training_rmse        training_logloss      training_classification_error\n",
       "---  -------------------  ----------  -----------------  -------------------  --------------------  -------------------------------\n",
       "     2018-07-18 09:03:01  0.070 sec   0.0                nan                  nan                   nan\n",
       "     2018-07-18 09:03:05  3.546 sec   1.0                0.18932447153978715  1.0189253601760369    0.0352971936552205\n",
       "     2018-07-18 09:03:05  4.128 sec   2.0                0.16731449405227514  0.7564199353568516    0.02707981418918919\n",
       "     2018-07-18 09:03:06  4.642 sec   3.0                0.16027901377981363  0.6698992451635416    0.024091810472131978\n",
       "     2018-07-18 09:03:07  5.176 sec   4.0                0.14811836695603234  0.5364082035813801    0.019778062957650788\n",
       "---  ---                  ---         ---                ---                  ---                   ---\n",
       "     2018-07-18 09:03:12  11.122 sec  20.0               0.07350438114272065  0.03604261529941256   0.0012733987011333248\n",
       "     2018-07-18 09:03:13  11.424 sec  21.0               0.07258965338872767  0.033091257117416624  0.0012414846883555103\n",
       "     2018-07-18 09:03:13  11.743 sec  22.0               0.07211050524135008  0.03328564213786345   0.0011459858661743171\n",
       "     2018-07-18 09:03:13  12.028 sec  23.0               0.07150134919368685  0.03382298264205815   0.001082285532388986\n",
       "     2018-07-18 09:03:14  12.321 sec  24.0               0.07087007755944368  0.033714301338326334  0.0010185892538833714"
      ]
     },
     "metadata": {},
     "output_type": "display_data"
    },
    {
     "name": "stdout",
     "output_type": "stream",
     "text": [
      "\n",
      "See the whole table with table.as_data_frame()\n",
      "Variable Importances: \n"
     ]
    },
    {
     "data": {
      "text/html": [
       "<div style=\"overflow:auto\"><table style=\"width:50%\"><tr><td><b>variable</b></td>\n",
       "<td><b>relative_importance</b></td>\n",
       "<td><b>scaled_importance</b></td>\n",
       "<td><b>percentage</b></td></tr>\n",
       "<tr><td>NDVI_0</td>\n",
       "<td>35540.3945312</td>\n",
       "<td>1.0</td>\n",
       "<td>0.0885626</td></tr>\n",
       "<tr><td>NDVI_n64</td>\n",
       "<td>34640.1132812</td>\n",
       "<td>0.9746688</td>\n",
       "<td>0.0863192</td></tr>\n",
       "<tr><td>NDVI_n16</td>\n",
       "<td>34115.9453125</td>\n",
       "<td>0.9599203</td>\n",
       "<td>0.0850131</td></tr>\n",
       "<tr><td>NDVI_n80</td>\n",
       "<td>30896.3457031</td>\n",
       "<td>0.8693304</td>\n",
       "<td>0.0769902</td></tr>\n",
       "<tr><td>NDVI_n32</td>\n",
       "<td>26942.0019531</td>\n",
       "<td>0.7580670</td>\n",
       "<td>0.0671364</td></tr>\n",
       "<tr><td>---</td>\n",
       "<td>---</td>\n",
       "<td>---</td>\n",
       "<td>---</td></tr>\n",
       "<tr><td>VV_Homogeneity_n80</td>\n",
       "<td>286.5029297</td>\n",
       "<td>0.0080613</td>\n",
       "<td>0.0007139</td></tr>\n",
       "<tr><td>VV_Entropy_n64</td>\n",
       "<td>270.2827759</td>\n",
       "<td>0.0076049</td>\n",
       "<td>0.0006735</td></tr>\n",
       "<tr><td>VV_GLCMCorrelation_n96</td>\n",
       "<td>246.4607391</td>\n",
       "<td>0.0069347</td>\n",
       "<td>0.0006142</td></tr>\n",
       "<tr><td>VV_GLCMCorrelation_n80</td>\n",
       "<td>236.1168976</td>\n",
       "<td>0.0066436</td>\n",
       "<td>0.0005884</td></tr>\n",
       "<tr><td>VV_ASM_n64</td>\n",
       "<td>158.9553680</td>\n",
       "<td>0.0044725</td>\n",
       "<td>0.0003961</td></tr></table></div>"
      ],
      "text/plain": [
       "variable                relative_importance    scaled_importance     percentage\n",
       "----------------------  ---------------------  --------------------  ---------------------\n",
       "NDVI_0                  35540.39453125         1.0                   0.08856264118405041\n",
       "NDVI_n64                34640.11328125         0.9746687885186981    0.08631924219087457\n",
       "NDVI_n16                34115.9453125          0.9599202755755143    0.08501307493108906\n",
       "NDVI_n80                30896.345703125        0.8693304086975856    0.07699019705586817\n",
       "NDVI_n32                26942.001953125        0.7580670476079101    0.0671364199307518\n",
       "---                     ---                    ---                   ---\n",
       "VV_Homogeneity_n80      286.5029296875         0.008061332280247574  0.0007139328782009689\n",
       "VV_Entropy_n64          270.28277587890625     0.007604945849468601  0.0006735140904906211\n",
       "VV_GLCMCorrelation_n96  246.4607391357422      0.006934665255869174  0.0006141522707870428\n",
       "VV_GLCMCorrelation_n80  236.1168975830078      0.006643620609652903  0.0005883765882156522\n",
       "VV_ASM_n64              158.9553680419922      0.004472526828654806  0.0003960987887121945"
      ]
     },
     "metadata": {},
     "output_type": "display_data"
    },
    {
     "name": "stdout",
     "output_type": "stream",
     "text": [
      "\n",
      "See the whole table with table.as_data_frame()\n"
     ]
    },
    {
     "data": {
      "text/plain": []
     },
     "execution_count": 49,
     "metadata": {},
     "output_type": "execute_result"
    }
   ],
   "source": [
    "# Print model details\n",
    "rf_v1"
   ]
  },
  {
   "cell_type": "code",
   "execution_count": 50,
   "metadata": {},
   "outputs": [
    {
     "name": "stdout",
     "output_type": "stream",
     "text": [
      "drf prediction progress: |████████████████████████████████████████████████| 100%\n"
     ]
    }
   ],
   "source": [
    "predictions = rf_v1.predict(test)"
   ]
  },
  {
   "cell_type": "code",
   "execution_count": 51,
   "metadata": {},
   "outputs": [
    {
     "data": {
      "text/html": [
       "<table>\n",
       "<thead>\n",
       "<tr><th style=\"text-align: right;\">  predict</th><th style=\"text-align: right;\">       p1</th><th style=\"text-align: right;\">       p2</th><th style=\"text-align: right;\">        p3</th><th style=\"text-align: right;\">      p4</th><th style=\"text-align: right;\">       p5</th></tr>\n",
       "</thead>\n",
       "<tbody>\n",
       "<tr><td style=\"text-align: right;\">        4</td><td style=\"text-align: right;\">0.0416667</td><td style=\"text-align: right;\">0.0416667</td><td style=\"text-align: right;\">0.0416667 </td><td style=\"text-align: right;\">0.791667</td><td style=\"text-align: right;\">0.0833333</td></tr>\n",
       "<tr><td style=\"text-align: right;\">        4</td><td style=\"text-align: right;\">0.0481718</td><td style=\"text-align: right;\">0.0951828</td><td style=\"text-align: right;\">0.0951828 </td><td style=\"text-align: right;\">0.713871</td><td style=\"text-align: right;\">0.0475914</td></tr>\n",
       "<tr><td style=\"text-align: right;\">        5</td><td style=\"text-align: right;\">0        </td><td style=\"text-align: right;\">0.266667 </td><td style=\"text-align: right;\">0         </td><td style=\"text-align: right;\">0.166667</td><td style=\"text-align: right;\">0.566667 </td></tr>\n",
       "<tr><td style=\"text-align: right;\">        5</td><td style=\"text-align: right;\">0        </td><td style=\"text-align: right;\">0.280519 </td><td style=\"text-align: right;\">0.0337662 </td><td style=\"text-align: right;\">0.187013</td><td style=\"text-align: right;\">0.498701 </td></tr>\n",
       "<tr><td style=\"text-align: right;\">        5</td><td style=\"text-align: right;\">0        </td><td style=\"text-align: right;\">0.206304 </td><td style=\"text-align: right;\">0.0372493 </td><td style=\"text-align: right;\">0.275072</td><td style=\"text-align: right;\">0.481375 </td></tr>\n",
       "<tr><td style=\"text-align: right;\">        5</td><td style=\"text-align: right;\">0        </td><td style=\"text-align: right;\">0.199446 </td><td style=\"text-align: right;\">0.0360111 </td><td style=\"text-align: right;\">0.199446</td><td style=\"text-align: right;\">0.565097 </td></tr>\n",
       "<tr><td style=\"text-align: right;\">        5</td><td style=\"text-align: right;\">0.0768756</td><td style=\"text-align: right;\">0.115313 </td><td style=\"text-align: right;\">0.0384378 </td><td style=\"text-align: right;\">0.154368</td><td style=\"text-align: right;\">0.615005 </td></tr>\n",
       "<tr><td style=\"text-align: right;\">        5</td><td style=\"text-align: right;\">0        </td><td style=\"text-align: right;\">0.165791 </td><td style=\"text-align: right;\">0.00345397</td><td style=\"text-align: right;\">0.126145</td><td style=\"text-align: right;\">0.70461  </td></tr>\n",
       "<tr><td style=\"text-align: right;\">        5</td><td style=\"text-align: right;\">0        </td><td style=\"text-align: right;\">0.230032 </td><td style=\"text-align: right;\">0.00319489</td><td style=\"text-align: right;\">0.191693</td><td style=\"text-align: right;\">0.57508  </td></tr>\n",
       "<tr><td style=\"text-align: right;\">        5</td><td style=\"text-align: right;\">0        </td><td style=\"text-align: right;\">0.125    </td><td style=\"text-align: right;\">0.0416667 </td><td style=\"text-align: right;\">0.291667</td><td style=\"text-align: right;\">0.541667 </td></tr>\n",
       "</tbody>\n",
       "</table>"
      ]
     },
     "metadata": {},
     "output_type": "display_data"
    },
    {
     "data": {
      "text/plain": []
     },
     "execution_count": 51,
     "metadata": {},
     "output_type": "execute_result"
    }
   ],
   "source": [
    "predictions"
   ]
  },
  {
   "cell_type": "code",
   "execution_count": 52,
   "metadata": {},
   "outputs": [
    {
     "name": "stdout",
     "output_type": "stream",
     "text": [
      "drf prediction progress: |████████████████████████████████████████████████| 100%\n"
     ]
    },
    {
     "data": {
      "text/plain": [
       "predict    0.240754\n",
       "dtype: float64"
      ]
     },
     "execution_count": 52,
     "metadata": {},
     "output_type": "execute_result"
    }
   ],
   "source": [
    "# Get test data accuracy\n",
    "(rf_v1.predict(test)['predict']==test['vclass']).as_data_frame(use_pandas=True).mean()"
   ]
  },
  {
   "cell_type": "code",
   "execution_count": 53,
   "metadata": {},
   "outputs": [
    {
     "name": "stdout",
     "output_type": "stream",
     "text": [
      "drf prediction progress: |████████████████████████████████████████████████| 100%\n"
     ]
    }
   ],
   "source": [
    "resulting_class_df = test.as_data_frame().join(rf_v1.predict(test)['predict'].as_data_frame())"
   ]
  },
  {
   "cell_type": "code",
   "execution_count": 54,
   "metadata": {},
   "outputs": [
    {
     "data": {
      "text/html": [
       "<div>\n",
       "<style scoped>\n",
       "    .dataframe tbody tr th:only-of-type {\n",
       "        vertical-align: middle;\n",
       "    }\n",
       "\n",
       "    .dataframe tbody tr th {\n",
       "        vertical-align: top;\n",
       "    }\n",
       "\n",
       "    .dataframe thead th {\n",
       "        text-align: right;\n",
       "    }\n",
       "</style>\n",
       "<table border=\"1\" class=\"dataframe\">\n",
       "  <thead>\n",
       "    <tr style=\"text-align: right;\">\n",
       "      <th></th>\n",
       "      <th>IDLote</th>\n",
       "      <th>NDVI_0</th>\n",
       "      <th>NDVI_16</th>\n",
       "      <th>NDVI_32</th>\n",
       "      <th>NDVI_n112</th>\n",
       "      <th>NDVI_n16</th>\n",
       "      <th>NDVI_n32</th>\n",
       "      <th>NDVI_n48</th>\n",
       "      <th>NDVI_n64</th>\n",
       "      <th>NDVI_n80</th>\n",
       "      <th>...</th>\n",
       "      <th>VV_n64</th>\n",
       "      <th>VV_n80</th>\n",
       "      <th>VV_n96</th>\n",
       "      <th>time</th>\n",
       "      <th>tt</th>\n",
       "      <th>vclass</th>\n",
       "      <th>x</th>\n",
       "      <th>y</th>\n",
       "      <th>__index_level_0__</th>\n",
       "      <th>predict</th>\n",
       "    </tr>\n",
       "  </thead>\n",
       "  <tbody>\n",
       "    <tr>\n",
       "      <th>0</th>\n",
       "      <td>11B011A</td>\n",
       "      <td>0.658612</td>\n",
       "      <td>0.383268</td>\n",
       "      <td>NaN</td>\n",
       "      <td>NaN</td>\n",
       "      <td>0.757174</td>\n",
       "      <td>0.829607</td>\n",
       "      <td>0.736767</td>\n",
       "      <td>0.741148</td>\n",
       "      <td>0.805096</td>\n",
       "      <td>...</td>\n",
       "      <td>-8.626506</td>\n",
       "      <td>-11.714251</td>\n",
       "      <td>-8.535561</td>\n",
       "      <td>1450742400000000</td>\n",
       "      <td>test</td>\n",
       "      <td>2</td>\n",
       "      <td>499585</td>\n",
       "      <td>428605</td>\n",
       "      <td>39</td>\n",
       "      <td>4</td>\n",
       "    </tr>\n",
       "    <tr>\n",
       "      <th>1</th>\n",
       "      <td>11B011A</td>\n",
       "      <td>0.667417</td>\n",
       "      <td>0.382867</td>\n",
       "      <td>NaN</td>\n",
       "      <td>NaN</td>\n",
       "      <td>0.757133</td>\n",
       "      <td>0.843677</td>\n",
       "      <td>0.762084</td>\n",
       "      <td>0.754857</td>\n",
       "      <td>0.799972</td>\n",
       "      <td>...</td>\n",
       "      <td>-9.135911</td>\n",
       "      <td>-11.263686</td>\n",
       "      <td>-8.186055</td>\n",
       "      <td>1450742400000000</td>\n",
       "      <td>test</td>\n",
       "      <td>2</td>\n",
       "      <td>499585</td>\n",
       "      <td>428595</td>\n",
       "      <td>40</td>\n",
       "      <td>4</td>\n",
       "    </tr>\n",
       "    <tr>\n",
       "      <th>2</th>\n",
       "      <td>52B404A</td>\n",
       "      <td>0.475616</td>\n",
       "      <td>0.338145</td>\n",
       "      <td>NaN</td>\n",
       "      <td>NaN</td>\n",
       "      <td>0.557140</td>\n",
       "      <td>0.898613</td>\n",
       "      <td>0.889935</td>\n",
       "      <td>0.812548</td>\n",
       "      <td>0.671311</td>\n",
       "      <td>...</td>\n",
       "      <td>-7.579335</td>\n",
       "      <td>-5.353772</td>\n",
       "      <td>-11.256103</td>\n",
       "      <td>1450742400000000</td>\n",
       "      <td>test</td>\n",
       "      <td>4</td>\n",
       "      <td>507695</td>\n",
       "      <td>432605</td>\n",
       "      <td>15</td>\n",
       "      <td>5</td>\n",
       "    </tr>\n",
       "    <tr>\n",
       "      <th>3</th>\n",
       "      <td>52B404A</td>\n",
       "      <td>0.475616</td>\n",
       "      <td>0.265153</td>\n",
       "      <td>NaN</td>\n",
       "      <td>NaN</td>\n",
       "      <td>0.557140</td>\n",
       "      <td>0.898613</td>\n",
       "      <td>0.889935</td>\n",
       "      <td>0.812548</td>\n",
       "      <td>0.671311</td>\n",
       "      <td>...</td>\n",
       "      <td>-8.286157</td>\n",
       "      <td>-2.770491</td>\n",
       "      <td>-10.110527</td>\n",
       "      <td>1450742400000000</td>\n",
       "      <td>test</td>\n",
       "      <td>4</td>\n",
       "      <td>507695</td>\n",
       "      <td>432595</td>\n",
       "      <td>16</td>\n",
       "      <td>5</td>\n",
       "    </tr>\n",
       "    <tr>\n",
       "      <th>4</th>\n",
       "      <td>52B404A</td>\n",
       "      <td>0.486851</td>\n",
       "      <td>0.274616</td>\n",
       "      <td>NaN</td>\n",
       "      <td>NaN</td>\n",
       "      <td>0.565437</td>\n",
       "      <td>0.904387</td>\n",
       "      <td>0.888701</td>\n",
       "      <td>0.820368</td>\n",
       "      <td>0.702450</td>\n",
       "      <td>...</td>\n",
       "      <td>-8.205578</td>\n",
       "      <td>0.958659</td>\n",
       "      <td>-10.407002</td>\n",
       "      <td>1450742400000000</td>\n",
       "      <td>test</td>\n",
       "      <td>4</td>\n",
       "      <td>507695</td>\n",
       "      <td>432585</td>\n",
       "      <td>17</td>\n",
       "      <td>5</td>\n",
       "    </tr>\n",
       "    <tr>\n",
       "      <th>5</th>\n",
       "      <td>52B404A</td>\n",
       "      <td>0.486851</td>\n",
       "      <td>0.293112</td>\n",
       "      <td>NaN</td>\n",
       "      <td>NaN</td>\n",
       "      <td>0.565437</td>\n",
       "      <td>0.904387</td>\n",
       "      <td>0.888701</td>\n",
       "      <td>0.820368</td>\n",
       "      <td>0.702450</td>\n",
       "      <td>...</td>\n",
       "      <td>-7.022113</td>\n",
       "      <td>-2.035180</td>\n",
       "      <td>-11.206878</td>\n",
       "      <td>1450742400000000</td>\n",
       "      <td>test</td>\n",
       "      <td>4</td>\n",
       "      <td>507695</td>\n",
       "      <td>432575</td>\n",
       "      <td>18</td>\n",
       "      <td>5</td>\n",
       "    </tr>\n",
       "    <tr>\n",
       "      <th>6</th>\n",
       "      <td>52B404A</td>\n",
       "      <td>0.475616</td>\n",
       "      <td>0.292895</td>\n",
       "      <td>NaN</td>\n",
       "      <td>NaN</td>\n",
       "      <td>0.557140</td>\n",
       "      <td>0.898613</td>\n",
       "      <td>0.889935</td>\n",
       "      <td>0.812548</td>\n",
       "      <td>0.671311</td>\n",
       "      <td>...</td>\n",
       "      <td>-6.893254</td>\n",
       "      <td>-6.575107</td>\n",
       "      <td>-11.918604</td>\n",
       "      <td>1450742400000000</td>\n",
       "      <td>test</td>\n",
       "      <td>4</td>\n",
       "      <td>507705</td>\n",
       "      <td>432615</td>\n",
       "      <td>39</td>\n",
       "      <td>5</td>\n",
       "    </tr>\n",
       "    <tr>\n",
       "      <th>7</th>\n",
       "      <td>52B404A</td>\n",
       "      <td>0.475616</td>\n",
       "      <td>0.337136</td>\n",
       "      <td>NaN</td>\n",
       "      <td>NaN</td>\n",
       "      <td>0.557140</td>\n",
       "      <td>0.898613</td>\n",
       "      <td>0.889935</td>\n",
       "      <td>0.812548</td>\n",
       "      <td>0.671311</td>\n",
       "      <td>...</td>\n",
       "      <td>-7.472546</td>\n",
       "      <td>-6.928250</td>\n",
       "      <td>-12.638359</td>\n",
       "      <td>1450742400000000</td>\n",
       "      <td>test</td>\n",
       "      <td>4</td>\n",
       "      <td>507705</td>\n",
       "      <td>432605</td>\n",
       "      <td>40</td>\n",
       "      <td>5</td>\n",
       "    </tr>\n",
       "    <tr>\n",
       "      <th>8</th>\n",
       "      <td>52B404A</td>\n",
       "      <td>0.475616</td>\n",
       "      <td>0.241038</td>\n",
       "      <td>NaN</td>\n",
       "      <td>NaN</td>\n",
       "      <td>0.557140</td>\n",
       "      <td>0.898613</td>\n",
       "      <td>0.889935</td>\n",
       "      <td>0.812548</td>\n",
       "      <td>0.671311</td>\n",
       "      <td>...</td>\n",
       "      <td>-8.124290</td>\n",
       "      <td>-4.301150</td>\n",
       "      <td>-11.433998</td>\n",
       "      <td>1450742400000000</td>\n",
       "      <td>test</td>\n",
       "      <td>4</td>\n",
       "      <td>507705</td>\n",
       "      <td>432595</td>\n",
       "      <td>41</td>\n",
       "      <td>5</td>\n",
       "    </tr>\n",
       "    <tr>\n",
       "      <th>9</th>\n",
       "      <td>52B404A</td>\n",
       "      <td>0.486851</td>\n",
       "      <td>0.257533</td>\n",
       "      <td>NaN</td>\n",
       "      <td>NaN</td>\n",
       "      <td>1.026954</td>\n",
       "      <td>0.904387</td>\n",
       "      <td>0.888701</td>\n",
       "      <td>0.820368</td>\n",
       "      <td>0.702450</td>\n",
       "      <td>...</td>\n",
       "      <td>-7.833481</td>\n",
       "      <td>-2.875898</td>\n",
       "      <td>-10.647243</td>\n",
       "      <td>1450742400000000</td>\n",
       "      <td>test</td>\n",
       "      <td>4</td>\n",
       "      <td>507705</td>\n",
       "      <td>432585</td>\n",
       "      <td>42</td>\n",
       "      <td>5</td>\n",
       "    </tr>\n",
       "    <tr>\n",
       "      <th>10</th>\n",
       "      <td>52B404A</td>\n",
       "      <td>0.486851</td>\n",
       "      <td>0.284653</td>\n",
       "      <td>NaN</td>\n",
       "      <td>NaN</td>\n",
       "      <td>0.993426</td>\n",
       "      <td>0.904387</td>\n",
       "      <td>0.888701</td>\n",
       "      <td>0.820368</td>\n",
       "      <td>0.702450</td>\n",
       "      <td>...</td>\n",
       "      <td>-7.227486</td>\n",
       "      <td>-4.253404</td>\n",
       "      <td>-11.538484</td>\n",
       "      <td>1450742400000000</td>\n",
       "      <td>test</td>\n",
       "      <td>4</td>\n",
       "      <td>507705</td>\n",
       "      <td>432575</td>\n",
       "      <td>43</td>\n",
       "      <td>1</td>\n",
       "    </tr>\n",
       "    <tr>\n",
       "      <th>11</th>\n",
       "      <td>52B404A</td>\n",
       "      <td>0.486851</td>\n",
       "      <td>0.295791</td>\n",
       "      <td>NaN</td>\n",
       "      <td>NaN</td>\n",
       "      <td>0.947652</td>\n",
       "      <td>0.904387</td>\n",
       "      <td>0.888701</td>\n",
       "      <td>0.820368</td>\n",
       "      <td>0.702450</td>\n",
       "      <td>...</td>\n",
       "      <td>-7.102290</td>\n",
       "      <td>-5.655459</td>\n",
       "      <td>-12.721991</td>\n",
       "      <td>1450742400000000</td>\n",
       "      <td>test</td>\n",
       "      <td>4</td>\n",
       "      <td>507705</td>\n",
       "      <td>432565</td>\n",
       "      <td>44</td>\n",
       "      <td>5</td>\n",
       "    </tr>\n",
       "    <tr>\n",
       "      <th>12</th>\n",
       "      <td>52E309</td>\n",
       "      <td>0.860756</td>\n",
       "      <td>0.798577</td>\n",
       "      <td>NaN</td>\n",
       "      <td>NaN</td>\n",
       "      <td>0.921256</td>\n",
       "      <td>0.666368</td>\n",
       "      <td>0.433054</td>\n",
       "      <td>0.286066</td>\n",
       "      <td>0.222895</td>\n",
       "      <td>...</td>\n",
       "      <td>-4.740850</td>\n",
       "      <td>-11.439425</td>\n",
       "      <td>-9.523293</td>\n",
       "      <td>1450742400000000</td>\n",
       "      <td>test</td>\n",
       "      <td>3</td>\n",
       "      <td>509205</td>\n",
       "      <td>437375</td>\n",
       "      <td>12</td>\n",
       "      <td>3</td>\n",
       "    </tr>\n",
       "    <tr>\n",
       "      <th>13</th>\n",
       "      <td>52E309</td>\n",
       "      <td>0.860756</td>\n",
       "      <td>0.798577</td>\n",
       "      <td>NaN</td>\n",
       "      <td>NaN</td>\n",
       "      <td>0.901682</td>\n",
       "      <td>0.666368</td>\n",
       "      <td>0.440185</td>\n",
       "      <td>0.286066</td>\n",
       "      <td>0.212198</td>\n",
       "      <td>...</td>\n",
       "      <td>-5.712746</td>\n",
       "      <td>-11.345302</td>\n",
       "      <td>-9.492030</td>\n",
       "      <td>1450742400000000</td>\n",
       "      <td>test</td>\n",
       "      <td>3</td>\n",
       "      <td>509205</td>\n",
       "      <td>437365</td>\n",
       "      <td>13</td>\n",
       "      <td>3</td>\n",
       "    </tr>\n",
       "    <tr>\n",
       "      <th>14</th>\n",
       "      <td>52E309</td>\n",
       "      <td>0.817251</td>\n",
       "      <td>0.799839</td>\n",
       "      <td>NaN</td>\n",
       "      <td>NaN</td>\n",
       "      <td>1.158892</td>\n",
       "      <td>0.686774</td>\n",
       "      <td>0.364006</td>\n",
       "      <td>0.288625</td>\n",
       "      <td>0.342283</td>\n",
       "      <td>...</td>\n",
       "      <td>-6.054336</td>\n",
       "      <td>-11.991713</td>\n",
       "      <td>-9.903774</td>\n",
       "      <td>1450742400000000</td>\n",
       "      <td>test</td>\n",
       "      <td>3</td>\n",
       "      <td>509205</td>\n",
       "      <td>437355</td>\n",
       "      <td>14</td>\n",
       "      <td>3</td>\n",
       "    </tr>\n",
       "    <tr>\n",
       "      <th>15</th>\n",
       "      <td>11B011A</td>\n",
       "      <td>0.383268</td>\n",
       "      <td>NaN</td>\n",
       "      <td>NaN</td>\n",
       "      <td>0.815918</td>\n",
       "      <td>0.658612</td>\n",
       "      <td>0.757174</td>\n",
       "      <td>0.829607</td>\n",
       "      <td>0.736767</td>\n",
       "      <td>0.741148</td>\n",
       "      <td>...</td>\n",
       "      <td>-9.012735</td>\n",
       "      <td>-8.626506</td>\n",
       "      <td>-11.714251</td>\n",
       "      <td>1452124800000000</td>\n",
       "      <td>test</td>\n",
       "      <td>3</td>\n",
       "      <td>499585</td>\n",
       "      <td>428605</td>\n",
       "      <td>39</td>\n",
       "      <td>5</td>\n",
       "    </tr>\n",
       "    <tr>\n",
       "      <th>16</th>\n",
       "      <td>11B011A</td>\n",
       "      <td>0.382867</td>\n",
       "      <td>NaN</td>\n",
       "      <td>NaN</td>\n",
       "      <td>0.809271</td>\n",
       "      <td>0.667417</td>\n",
       "      <td>0.757133</td>\n",
       "      <td>0.843677</td>\n",
       "      <td>0.762084</td>\n",
       "      <td>0.754857</td>\n",
       "      <td>...</td>\n",
       "      <td>-8.810207</td>\n",
       "      <td>-9.135911</td>\n",
       "      <td>-11.263686</td>\n",
       "      <td>1452124800000000</td>\n",
       "      <td>test</td>\n",
       "      <td>3</td>\n",
       "      <td>499585</td>\n",
       "      <td>428595</td>\n",
       "      <td>40</td>\n",
       "      <td>5</td>\n",
       "    </tr>\n",
       "    <tr>\n",
       "      <th>17</th>\n",
       "      <td>62D835A</td>\n",
       "      <td>0.414687</td>\n",
       "      <td>NaN</td>\n",
       "      <td>NaN</td>\n",
       "      <td>0.610356</td>\n",
       "      <td>0.825166</td>\n",
       "      <td>0.072627</td>\n",
       "      <td>0.398496</td>\n",
       "      <td>0.384779</td>\n",
       "      <td>0.254726</td>\n",
       "      <td>...</td>\n",
       "      <td>-7.733277</td>\n",
       "      <td>-6.776438</td>\n",
       "      <td>-8.616839</td>\n",
       "      <td>1452124800000000</td>\n",
       "      <td>test</td>\n",
       "      <td>4</td>\n",
       "      <td>512545</td>\n",
       "      <td>437715</td>\n",
       "      <td>2</td>\n",
       "      <td>1</td>\n",
       "    </tr>\n",
       "    <tr>\n",
       "      <th>18</th>\n",
       "      <td>62D835A</td>\n",
       "      <td>0.436408</td>\n",
       "      <td>NaN</td>\n",
       "      <td>NaN</td>\n",
       "      <td>0.571911</td>\n",
       "      <td>0.825166</td>\n",
       "      <td>0.394067</td>\n",
       "      <td>0.398496</td>\n",
       "      <td>0.303083</td>\n",
       "      <td>0.254726</td>\n",
       "      <td>...</td>\n",
       "      <td>-7.875716</td>\n",
       "      <td>-7.214191</td>\n",
       "      <td>-8.116620</td>\n",
       "      <td>1452124800000000</td>\n",
       "      <td>test</td>\n",
       "      <td>4</td>\n",
       "      <td>512545</td>\n",
       "      <td>437705</td>\n",
       "      <td>3</td>\n",
       "      <td>1</td>\n",
       "    </tr>\n",
       "    <tr>\n",
       "      <th>19</th>\n",
       "      <td>62D835A</td>\n",
       "      <td>0.680803</td>\n",
       "      <td>NaN</td>\n",
       "      <td>NaN</td>\n",
       "      <td>0.538069</td>\n",
       "      <td>0.825166</td>\n",
       "      <td>0.676363</td>\n",
       "      <td>0.398496</td>\n",
       "      <td>0.231169</td>\n",
       "      <td>0.254726</td>\n",
       "      <td>...</td>\n",
       "      <td>-8.815128</td>\n",
       "      <td>-7.253093</td>\n",
       "      <td>-8.937183</td>\n",
       "      <td>1452124800000000</td>\n",
       "      <td>test</td>\n",
       "      <td>4</td>\n",
       "      <td>512545</td>\n",
       "      <td>437695</td>\n",
       "      <td>4</td>\n",
       "      <td>3</td>\n",
       "    </tr>\n",
       "    <tr>\n",
       "      <th>20</th>\n",
       "      <td>62D835A</td>\n",
       "      <td>0.671560</td>\n",
       "      <td>NaN</td>\n",
       "      <td>NaN</td>\n",
       "      <td>0.464291</td>\n",
       "      <td>0.831087</td>\n",
       "      <td>0.862544</td>\n",
       "      <td>0.406735</td>\n",
       "      <td>0.228377</td>\n",
       "      <td>0.309904</td>\n",
       "      <td>...</td>\n",
       "      <td>-9.947330</td>\n",
       "      <td>-6.743249</td>\n",
       "      <td>-10.470779</td>\n",
       "      <td>1452124800000000</td>\n",
       "      <td>test</td>\n",
       "      <td>4</td>\n",
       "      <td>512545</td>\n",
       "      <td>437685</td>\n",
       "      <td>5</td>\n",
       "      <td>3</td>\n",
       "    </tr>\n",
       "    <tr>\n",
       "      <th>21</th>\n",
       "      <td>62D835A</td>\n",
       "      <td>0.504791</td>\n",
       "      <td>NaN</td>\n",
       "      <td>NaN</td>\n",
       "      <td>0.527192</td>\n",
       "      <td>0.804863</td>\n",
       "      <td>0.787703</td>\n",
       "      <td>0.388665</td>\n",
       "      <td>0.201316</td>\n",
       "      <td>0.266752</td>\n",
       "      <td>...</td>\n",
       "      <td>-9.024920</td>\n",
       "      <td>-5.875991</td>\n",
       "      <td>-10.411404</td>\n",
       "      <td>1452124800000000</td>\n",
       "      <td>test</td>\n",
       "      <td>4</td>\n",
       "      <td>512555</td>\n",
       "      <td>437735</td>\n",
       "      <td>8</td>\n",
       "      <td>3</td>\n",
       "    </tr>\n",
       "    <tr>\n",
       "      <th>22</th>\n",
       "      <td>62D835A</td>\n",
       "      <td>0.461789</td>\n",
       "      <td>NaN</td>\n",
       "      <td>NaN</td>\n",
       "      <td>0.554478</td>\n",
       "      <td>0.804863</td>\n",
       "      <td>0.559635</td>\n",
       "      <td>0.388665</td>\n",
       "      <td>0.259299</td>\n",
       "      <td>0.266752</td>\n",
       "      <td>...</td>\n",
       "      <td>-8.471910</td>\n",
       "      <td>-6.000303</td>\n",
       "      <td>-9.797601</td>\n",
       "      <td>1452124800000000</td>\n",
       "      <td>test</td>\n",
       "      <td>4</td>\n",
       "      <td>512555</td>\n",
       "      <td>437725</td>\n",
       "      <td>9</td>\n",
       "      <td>1</td>\n",
       "    </tr>\n",
       "    <tr>\n",
       "      <th>23</th>\n",
       "      <td>62D835A</td>\n",
       "      <td>0.454038</td>\n",
       "      <td>NaN</td>\n",
       "      <td>NaN</td>\n",
       "      <td>0.567578</td>\n",
       "      <td>0.825166</td>\n",
       "      <td>0.430291</td>\n",
       "      <td>0.398496</td>\n",
       "      <td>0.293876</td>\n",
       "      <td>0.254726</td>\n",
       "      <td>...</td>\n",
       "      <td>-8.633346</td>\n",
       "      <td>-7.727499</td>\n",
       "      <td>-8.404757</td>\n",
       "      <td>1452124800000000</td>\n",
       "      <td>test</td>\n",
       "      <td>4</td>\n",
       "      <td>512555</td>\n",
       "      <td>437715</td>\n",
       "      <td>10</td>\n",
       "      <td>1</td>\n",
       "    </tr>\n",
       "    <tr>\n",
       "      <th>24</th>\n",
       "      <td>62D835A</td>\n",
       "      <td>0.461476</td>\n",
       "      <td>NaN</td>\n",
       "      <td>NaN</td>\n",
       "      <td>0.552283</td>\n",
       "      <td>0.825166</td>\n",
       "      <td>0.558178</td>\n",
       "      <td>0.398496</td>\n",
       "      <td>0.261373</td>\n",
       "      <td>0.254726</td>\n",
       "      <td>...</td>\n",
       "      <td>-9.278359</td>\n",
       "      <td>-8.400025</td>\n",
       "      <td>-8.634027</td>\n",
       "      <td>1452124800000000</td>\n",
       "      <td>test</td>\n",
       "      <td>4</td>\n",
       "      <td>512555</td>\n",
       "      <td>437705</td>\n",
       "      <td>11</td>\n",
       "      <td>3</td>\n",
       "    </tr>\n",
       "    <tr>\n",
       "      <th>25</th>\n",
       "      <td>62D835A</td>\n",
       "      <td>0.690872</td>\n",
       "      <td>NaN</td>\n",
       "      <td>NaN</td>\n",
       "      <td>0.539850</td>\n",
       "      <td>0.825166</td>\n",
       "      <td>0.661464</td>\n",
       "      <td>0.398496</td>\n",
       "      <td>0.234953</td>\n",
       "      <td>0.254726</td>\n",
       "      <td>...</td>\n",
       "      <td>-9.241454</td>\n",
       "      <td>-7.514375</td>\n",
       "      <td>-8.845185</td>\n",
       "      <td>1452124800000000</td>\n",
       "      <td>test</td>\n",
       "      <td>4</td>\n",
       "      <td>512555</td>\n",
       "      <td>437695</td>\n",
       "      <td>12</td>\n",
       "      <td>3</td>\n",
       "    </tr>\n",
       "    <tr>\n",
       "      <th>26</th>\n",
       "      <td>62D835A</td>\n",
       "      <td>0.685575</td>\n",
       "      <td>NaN</td>\n",
       "      <td>NaN</td>\n",
       "      <td>0.486307</td>\n",
       "      <td>0.831087</td>\n",
       "      <td>0.678372</td>\n",
       "      <td>0.406735</td>\n",
       "      <td>0.275161</td>\n",
       "      <td>0.309904</td>\n",
       "      <td>...</td>\n",
       "      <td>-10.100033</td>\n",
       "      <td>-6.725887</td>\n",
       "      <td>-10.373505</td>\n",
       "      <td>1452124800000000</td>\n",
       "      <td>test</td>\n",
       "      <td>4</td>\n",
       "      <td>512555</td>\n",
       "      <td>437685</td>\n",
       "      <td>13</td>\n",
       "      <td>4</td>\n",
       "    </tr>\n",
       "    <tr>\n",
       "      <th>27</th>\n",
       "      <td>62D835A</td>\n",
       "      <td>0.701382</td>\n",
       "      <td>NaN</td>\n",
       "      <td>NaN</td>\n",
       "      <td>0.488133</td>\n",
       "      <td>0.831087</td>\n",
       "      <td>0.663092</td>\n",
       "      <td>0.406735</td>\n",
       "      <td>0.279041</td>\n",
       "      <td>0.309904</td>\n",
       "      <td>...</td>\n",
       "      <td>-10.649700</td>\n",
       "      <td>-7.111340</td>\n",
       "      <td>-9.956827</td>\n",
       "      <td>1452124800000000</td>\n",
       "      <td>test</td>\n",
       "      <td>4</td>\n",
       "      <td>512555</td>\n",
       "      <td>437675</td>\n",
       "      <td>14</td>\n",
       "      <td>4</td>\n",
       "    </tr>\n",
       "    <tr>\n",
       "      <th>28</th>\n",
       "      <td>62D835A</td>\n",
       "      <td>0.477389</td>\n",
       "      <td>NaN</td>\n",
       "      <td>NaN</td>\n",
       "      <td>0.531225</td>\n",
       "      <td>0.804863</td>\n",
       "      <td>0.754082</td>\n",
       "      <td>0.388665</td>\n",
       "      <td>0.209885</td>\n",
       "      <td>0.266752</td>\n",
       "      <td>...</td>\n",
       "      <td>-9.255744</td>\n",
       "      <td>-6.047507</td>\n",
       "      <td>-9.835897</td>\n",
       "      <td>1452124800000000</td>\n",
       "      <td>test</td>\n",
       "      <td>4</td>\n",
       "      <td>512565</td>\n",
       "      <td>437725</td>\n",
       "      <td>17</td>\n",
       "      <td>3</td>\n",
       "    </tr>\n",
       "    <tr>\n",
       "      <th>29</th>\n",
       "      <td>62D835A</td>\n",
       "      <td>0.495767</td>\n",
       "      <td>NaN</td>\n",
       "      <td>NaN</td>\n",
       "      <td>0.531844</td>\n",
       "      <td>0.825166</td>\n",
       "      <td>0.729036</td>\n",
       "      <td>0.398496</td>\n",
       "      <td>0.217940</td>\n",
       "      <td>0.254726</td>\n",
       "      <td>...</td>\n",
       "      <td>-9.363995</td>\n",
       "      <td>-7.503952</td>\n",
       "      <td>-8.680803</td>\n",
       "      <td>1452124800000000</td>\n",
       "      <td>test</td>\n",
       "      <td>4</td>\n",
       "      <td>512565</td>\n",
       "      <td>437715</td>\n",
       "      <td>18</td>\n",
       "      <td>3</td>\n",
       "    </tr>\n",
       "    <tr>\n",
       "      <th>...</th>\n",
       "      <td>...</td>\n",
       "      <td>...</td>\n",
       "      <td>...</td>\n",
       "      <td>...</td>\n",
       "      <td>...</td>\n",
       "      <td>...</td>\n",
       "      <td>...</td>\n",
       "      <td>...</td>\n",
       "      <td>...</td>\n",
       "      <td>...</td>\n",
       "      <td>...</td>\n",
       "      <td>...</td>\n",
       "      <td>...</td>\n",
       "      <td>...</td>\n",
       "      <td>...</td>\n",
       "      <td>...</td>\n",
       "      <td>...</td>\n",
       "      <td>...</td>\n",
       "      <td>...</td>\n",
       "      <td>...</td>\n",
       "      <td>...</td>\n",
       "    </tr>\n",
       "    <tr>\n",
       "      <th>9947</th>\n",
       "      <td>52D618</td>\n",
       "      <td>0.535149</td>\n",
       "      <td>0.337401</td>\n",
       "      <td>0.486615</td>\n",
       "      <td>NaN</td>\n",
       "      <td>0.388846</td>\n",
       "      <td>0.460747</td>\n",
       "      <td>0.691801</td>\n",
       "      <td>0.867059</td>\n",
       "      <td>0.771574</td>\n",
       "      <td>...</td>\n",
       "      <td>-7.143986</td>\n",
       "      <td>-11.261137</td>\n",
       "      <td>-11.619761</td>\n",
       "      <td>1449360000000000</td>\n",
       "      <td>test</td>\n",
       "      <td>1</td>\n",
       "      <td>512925</td>\n",
       "      <td>434985</td>\n",
       "      <td>1496</td>\n",
       "      <td>2</td>\n",
       "    </tr>\n",
       "    <tr>\n",
       "      <th>9948</th>\n",
       "      <td>52D618</td>\n",
       "      <td>0.534140</td>\n",
       "      <td>0.337401</td>\n",
       "      <td>0.483579</td>\n",
       "      <td>NaN</td>\n",
       "      <td>0.388846</td>\n",
       "      <td>0.461115</td>\n",
       "      <td>0.691801</td>\n",
       "      <td>0.866507</td>\n",
       "      <td>0.770837</td>\n",
       "      <td>...</td>\n",
       "      <td>-8.202229</td>\n",
       "      <td>-11.329771</td>\n",
       "      <td>-10.118878</td>\n",
       "      <td>1449360000000000</td>\n",
       "      <td>test</td>\n",
       "      <td>1</td>\n",
       "      <td>512925</td>\n",
       "      <td>434975</td>\n",
       "      <td>1497</td>\n",
       "      <td>2</td>\n",
       "    </tr>\n",
       "    <tr>\n",
       "      <th>9949</th>\n",
       "      <td>52D618</td>\n",
       "      <td>0.565489</td>\n",
       "      <td>0.337401</td>\n",
       "      <td>0.472082</td>\n",
       "      <td>NaN</td>\n",
       "      <td>0.388846</td>\n",
       "      <td>0.449704</td>\n",
       "      <td>0.691801</td>\n",
       "      <td>0.883625</td>\n",
       "      <td>0.793661</td>\n",
       "      <td>...</td>\n",
       "      <td>-6.395440</td>\n",
       "      <td>-10.426274</td>\n",
       "      <td>-10.987253</td>\n",
       "      <td>1449360000000000</td>\n",
       "      <td>test</td>\n",
       "      <td>1</td>\n",
       "      <td>512925</td>\n",
       "      <td>434965</td>\n",
       "      <td>1498</td>\n",
       "      <td>2</td>\n",
       "    </tr>\n",
       "    <tr>\n",
       "      <th>9950</th>\n",
       "      <td>52D618</td>\n",
       "      <td>0.905811</td>\n",
       "      <td>0.295201</td>\n",
       "      <td>0.489713</td>\n",
       "      <td>NaN</td>\n",
       "      <td>0.413621</td>\n",
       "      <td>0.375258</td>\n",
       "      <td>0.761626</td>\n",
       "      <td>1.145340</td>\n",
       "      <td>1.099015</td>\n",
       "      <td>...</td>\n",
       "      <td>-4.038772</td>\n",
       "      <td>-9.209449</td>\n",
       "      <td>-11.692288</td>\n",
       "      <td>1449360000000000</td>\n",
       "      <td>test</td>\n",
       "      <td>1</td>\n",
       "      <td>512925</td>\n",
       "      <td>434955</td>\n",
       "      <td>1499</td>\n",
       "      <td>2</td>\n",
       "    </tr>\n",
       "    <tr>\n",
       "      <th>9951</th>\n",
       "      <td>52D618</td>\n",
       "      <td>0.867113</td>\n",
       "      <td>0.295201</td>\n",
       "      <td>0.479992</td>\n",
       "      <td>NaN</td>\n",
       "      <td>0.413621</td>\n",
       "      <td>0.389360</td>\n",
       "      <td>0.761626</td>\n",
       "      <td>1.124187</td>\n",
       "      <td>1.070811</td>\n",
       "      <td>...</td>\n",
       "      <td>-3.599917</td>\n",
       "      <td>-9.112253</td>\n",
       "      <td>-12.607297</td>\n",
       "      <td>1449360000000000</td>\n",
       "      <td>test</td>\n",
       "      <td>1</td>\n",
       "      <td>512925</td>\n",
       "      <td>434945</td>\n",
       "      <td>1500</td>\n",
       "      <td>2</td>\n",
       "    </tr>\n",
       "    <tr>\n",
       "      <th>9952</th>\n",
       "      <td>52D618</td>\n",
       "      <td>0.982282</td>\n",
       "      <td>0.295201</td>\n",
       "      <td>0.517521</td>\n",
       "      <td>NaN</td>\n",
       "      <td>0.413621</td>\n",
       "      <td>0.347410</td>\n",
       "      <td>0.761626</td>\n",
       "      <td>1.187111</td>\n",
       "      <td>1.154709</td>\n",
       "      <td>...</td>\n",
       "      <td>-6.848287</td>\n",
       "      <td>-10.697371</td>\n",
       "      <td>-11.701480</td>\n",
       "      <td>1449360000000000</td>\n",
       "      <td>test</td>\n",
       "      <td>1</td>\n",
       "      <td>512925</td>\n",
       "      <td>434935</td>\n",
       "      <td>1501</td>\n",
       "      <td>2</td>\n",
       "    </tr>\n",
       "    <tr>\n",
       "      <th>9953</th>\n",
       "      <td>52D618</td>\n",
       "      <td>1.185590</td>\n",
       "      <td>0.273342</td>\n",
       "      <td>0.540829</td>\n",
       "      <td>NaN</td>\n",
       "      <td>0.386433</td>\n",
       "      <td>0.238159</td>\n",
       "      <td>0.739722</td>\n",
       "      <td>1.296327</td>\n",
       "      <td>1.313181</td>\n",
       "      <td>...</td>\n",
       "      <td>-7.858473</td>\n",
       "      <td>-10.622763</td>\n",
       "      <td>-10.618224</td>\n",
       "      <td>1449360000000000</td>\n",
       "      <td>test</td>\n",
       "      <td>1</td>\n",
       "      <td>512925</td>\n",
       "      <td>434925</td>\n",
       "      <td>1502</td>\n",
       "      <td>2</td>\n",
       "    </tr>\n",
       "    <tr>\n",
       "      <th>9954</th>\n",
       "      <td>52D618</td>\n",
       "      <td>1.059451</td>\n",
       "      <td>0.273342</td>\n",
       "      <td>0.505276</td>\n",
       "      <td>NaN</td>\n",
       "      <td>0.386433</td>\n",
       "      <td>0.284103</td>\n",
       "      <td>0.739722</td>\n",
       "      <td>1.227411</td>\n",
       "      <td>1.221293</td>\n",
       "      <td>...</td>\n",
       "      <td>-5.614890</td>\n",
       "      <td>-9.526560</td>\n",
       "      <td>-12.776092</td>\n",
       "      <td>1449360000000000</td>\n",
       "      <td>test</td>\n",
       "      <td>1</td>\n",
       "      <td>512925</td>\n",
       "      <td>434915</td>\n",
       "      <td>1503</td>\n",
       "      <td>2</td>\n",
       "    </tr>\n",
       "    <tr>\n",
       "      <th>9955</th>\n",
       "      <td>52D618</td>\n",
       "      <td>1.121486</td>\n",
       "      <td>0.273342</td>\n",
       "      <td>0.516307</td>\n",
       "      <td>NaN</td>\n",
       "      <td>0.386433</td>\n",
       "      <td>0.261514</td>\n",
       "      <td>0.739722</td>\n",
       "      <td>1.261295</td>\n",
       "      <td>1.266471</td>\n",
       "      <td>...</td>\n",
       "      <td>-4.992663</td>\n",
       "      <td>-8.877541</td>\n",
       "      <td>-12.024251</td>\n",
       "      <td>1449360000000000</td>\n",
       "      <td>test</td>\n",
       "      <td>1</td>\n",
       "      <td>512925</td>\n",
       "      <td>434905</td>\n",
       "      <td>1504</td>\n",
       "      <td>2</td>\n",
       "    </tr>\n",
       "    <tr>\n",
       "      <th>9956</th>\n",
       "      <td>52D618</td>\n",
       "      <td>0.978584</td>\n",
       "      <td>0.313565</td>\n",
       "      <td>0.515496</td>\n",
       "      <td>NaN</td>\n",
       "      <td>0.374023</td>\n",
       "      <td>0.277775</td>\n",
       "      <td>0.675748</td>\n",
       "      <td>1.103848</td>\n",
       "      <td>1.097980</td>\n",
       "      <td>...</td>\n",
       "      <td>-4.515840</td>\n",
       "      <td>-8.447181</td>\n",
       "      <td>-11.536210</td>\n",
       "      <td>1449360000000000</td>\n",
       "      <td>test</td>\n",
       "      <td>1</td>\n",
       "      <td>512925</td>\n",
       "      <td>434895</td>\n",
       "      <td>1505</td>\n",
       "      <td>2</td>\n",
       "    </tr>\n",
       "    <tr>\n",
       "      <th>9957</th>\n",
       "      <td>52D618</td>\n",
       "      <td>0.966033</td>\n",
       "      <td>0.313565</td>\n",
       "      <td>0.523760</td>\n",
       "      <td>NaN</td>\n",
       "      <td>0.374023</td>\n",
       "      <td>0.282344</td>\n",
       "      <td>0.675748</td>\n",
       "      <td>1.096995</td>\n",
       "      <td>1.088843</td>\n",
       "      <td>...</td>\n",
       "      <td>-4.646696</td>\n",
       "      <td>-8.714379</td>\n",
       "      <td>-12.139687</td>\n",
       "      <td>1449360000000000</td>\n",
       "      <td>test</td>\n",
       "      <td>1</td>\n",
       "      <td>512925</td>\n",
       "      <td>434885</td>\n",
       "      <td>1506</td>\n",
       "      <td>2</td>\n",
       "    </tr>\n",
       "    <tr>\n",
       "      <th>9958</th>\n",
       "      <td>52D618</td>\n",
       "      <td>0.803145</td>\n",
       "      <td>0.313565</td>\n",
       "      <td>0.467304</td>\n",
       "      <td>NaN</td>\n",
       "      <td>0.374023</td>\n",
       "      <td>0.341728</td>\n",
       "      <td>0.675748</td>\n",
       "      <td>1.007919</td>\n",
       "      <td>0.970075</td>\n",
       "      <td>...</td>\n",
       "      <td>-5.515210</td>\n",
       "      <td>-9.416791</td>\n",
       "      <td>-12.293633</td>\n",
       "      <td>1449360000000000</td>\n",
       "      <td>test</td>\n",
       "      <td>1</td>\n",
       "      <td>512925</td>\n",
       "      <td>434875</td>\n",
       "      <td>1507</td>\n",
       "      <td>2</td>\n",
       "    </tr>\n",
       "    <tr>\n",
       "      <th>9959</th>\n",
       "      <td>52D618</td>\n",
       "      <td>0.325418</td>\n",
       "      <td>0.350475</td>\n",
       "      <td>0.530681</td>\n",
       "      <td>NaN</td>\n",
       "      <td>0.357509</td>\n",
       "      <td>0.471675</td>\n",
       "      <td>0.601476</td>\n",
       "      <td>0.657585</td>\n",
       "      <td>0.550678</td>\n",
       "      <td>...</td>\n",
       "      <td>-5.976837</td>\n",
       "      <td>-9.755192</td>\n",
       "      <td>-12.571831</td>\n",
       "      <td>1449360000000000</td>\n",
       "      <td>test</td>\n",
       "      <td>1</td>\n",
       "      <td>512925</td>\n",
       "      <td>434865</td>\n",
       "      <td>1508</td>\n",
       "      <td>2</td>\n",
       "    </tr>\n",
       "    <tr>\n",
       "      <th>9960</th>\n",
       "      <td>52D618</td>\n",
       "      <td>0.244400</td>\n",
       "      <td>0.350475</td>\n",
       "      <td>0.540076</td>\n",
       "      <td>NaN</td>\n",
       "      <td>0.357509</td>\n",
       "      <td>0.501169</td>\n",
       "      <td>0.601476</td>\n",
       "      <td>0.613345</td>\n",
       "      <td>0.491691</td>\n",
       "      <td>...</td>\n",
       "      <td>-6.825363</td>\n",
       "      <td>-10.354033</td>\n",
       "      <td>-12.471340</td>\n",
       "      <td>1449360000000000</td>\n",
       "      <td>test</td>\n",
       "      <td>1</td>\n",
       "      <td>512925</td>\n",
       "      <td>434855</td>\n",
       "      <td>1509</td>\n",
       "      <td>2</td>\n",
       "    </tr>\n",
       "    <tr>\n",
       "      <th>9961</th>\n",
       "      <td>52D618</td>\n",
       "      <td>0.311770</td>\n",
       "      <td>0.350475</td>\n",
       "      <td>0.522424</td>\n",
       "      <td>NaN</td>\n",
       "      <td>0.357509</td>\n",
       "      <td>0.476645</td>\n",
       "      <td>0.601476</td>\n",
       "      <td>0.650131</td>\n",
       "      <td>0.540739</td>\n",
       "      <td>...</td>\n",
       "      <td>-7.162232</td>\n",
       "      <td>-10.892588</td>\n",
       "      <td>-12.968312</td>\n",
       "      <td>1449360000000000</td>\n",
       "      <td>test</td>\n",
       "      <td>1</td>\n",
       "      <td>512925</td>\n",
       "      <td>434845</td>\n",
       "      <td>1510</td>\n",
       "      <td>2</td>\n",
       "    </tr>\n",
       "    <tr>\n",
       "      <th>9962</th>\n",
       "      <td>52D618</td>\n",
       "      <td>0.015680</td>\n",
       "      <td>0.426357</td>\n",
       "      <td>0.590734</td>\n",
       "      <td>NaN</td>\n",
       "      <td>0.351548</td>\n",
       "      <td>0.592323</td>\n",
       "      <td>0.625811</td>\n",
       "      <td>0.522936</td>\n",
       "      <td>0.354620</td>\n",
       "      <td>...</td>\n",
       "      <td>-8.230282</td>\n",
       "      <td>-11.342650</td>\n",
       "      <td>-11.745902</td>\n",
       "      <td>1449360000000000</td>\n",
       "      <td>test</td>\n",
       "      <td>1</td>\n",
       "      <td>512925</td>\n",
       "      <td>434835</td>\n",
       "      <td>1511</td>\n",
       "      <td>2</td>\n",
       "    </tr>\n",
       "    <tr>\n",
       "      <th>9963</th>\n",
       "      <td>52D618</td>\n",
       "      <td>0.122560</td>\n",
       "      <td>0.426357</td>\n",
       "      <td>0.607303</td>\n",
       "      <td>NaN</td>\n",
       "      <td>0.351548</td>\n",
       "      <td>0.553411</td>\n",
       "      <td>0.625811</td>\n",
       "      <td>0.581305</td>\n",
       "      <td>0.432444</td>\n",
       "      <td>...</td>\n",
       "      <td>-10.802146</td>\n",
       "      <td>-12.369674</td>\n",
       "      <td>-11.847170</td>\n",
       "      <td>1449360000000000</td>\n",
       "      <td>test</td>\n",
       "      <td>1</td>\n",
       "      <td>512925</td>\n",
       "      <td>434825</td>\n",
       "      <td>1512</td>\n",
       "      <td>2</td>\n",
       "    </tr>\n",
       "    <tr>\n",
       "      <th>9964</th>\n",
       "      <td>52D618</td>\n",
       "      <td>0.132991</td>\n",
       "      <td>0.426357</td>\n",
       "      <td>0.607648</td>\n",
       "      <td>NaN</td>\n",
       "      <td>0.351548</td>\n",
       "      <td>0.549612</td>\n",
       "      <td>0.625811</td>\n",
       "      <td>0.587002</td>\n",
       "      <td>0.440040</td>\n",
       "      <td>...</td>\n",
       "      <td>-12.154171</td>\n",
       "      <td>-12.569637</td>\n",
       "      <td>-12.342637</td>\n",
       "      <td>1449360000000000</td>\n",
       "      <td>test</td>\n",
       "      <td>1</td>\n",
       "      <td>512925</td>\n",
       "      <td>434815</td>\n",
       "      <td>1513</td>\n",
       "      <td>2</td>\n",
       "    </tr>\n",
       "    <tr>\n",
       "      <th>9965</th>\n",
       "      <td>52D618</td>\n",
       "      <td>0.178710</td>\n",
       "      <td>0.431644</td>\n",
       "      <td>0.561070</td>\n",
       "      <td>NaN</td>\n",
       "      <td>0.377236</td>\n",
       "      <td>0.584832</td>\n",
       "      <td>0.693947</td>\n",
       "      <td>0.681163</td>\n",
       "      <td>0.523060</td>\n",
       "      <td>...</td>\n",
       "      <td>-12.387225</td>\n",
       "      <td>-11.935895</td>\n",
       "      <td>-11.621568</td>\n",
       "      <td>1449360000000000</td>\n",
       "      <td>test</td>\n",
       "      <td>1</td>\n",
       "      <td>512925</td>\n",
       "      <td>434805</td>\n",
       "      <td>1514</td>\n",
       "      <td>2</td>\n",
       "    </tr>\n",
       "    <tr>\n",
       "      <th>9966</th>\n",
       "      <td>52D618</td>\n",
       "      <td>0.227332</td>\n",
       "      <td>0.431644</td>\n",
       "      <td>0.493704</td>\n",
       "      <td>NaN</td>\n",
       "      <td>0.377236</td>\n",
       "      <td>0.567140</td>\n",
       "      <td>0.693947</td>\n",
       "      <td>0.707701</td>\n",
       "      <td>0.558444</td>\n",
       "      <td>...</td>\n",
       "      <td>-12.383847</td>\n",
       "      <td>-11.409642</td>\n",
       "      <td>-10.676197</td>\n",
       "      <td>1449360000000000</td>\n",
       "      <td>test</td>\n",
       "      <td>1</td>\n",
       "      <td>512925</td>\n",
       "      <td>434795</td>\n",
       "      <td>1515</td>\n",
       "      <td>2</td>\n",
       "    </tr>\n",
       "    <tr>\n",
       "      <th>9967</th>\n",
       "      <td>52D618</td>\n",
       "      <td>0.220433</td>\n",
       "      <td>0.431644</td>\n",
       "      <td>0.474174</td>\n",
       "      <td>NaN</td>\n",
       "      <td>0.377236</td>\n",
       "      <td>0.569655</td>\n",
       "      <td>0.693947</td>\n",
       "      <td>0.703929</td>\n",
       "      <td>0.553415</td>\n",
       "      <td>...</td>\n",
       "      <td>-13.802809</td>\n",
       "      <td>-11.614139</td>\n",
       "      <td>-9.472503</td>\n",
       "      <td>1449360000000000</td>\n",
       "      <td>test</td>\n",
       "      <td>1</td>\n",
       "      <td>512925</td>\n",
       "      <td>434785</td>\n",
       "      <td>1516</td>\n",
       "      <td>2</td>\n",
       "    </tr>\n",
       "    <tr>\n",
       "      <th>9968</th>\n",
       "      <td>52D618</td>\n",
       "      <td>0.407938</td>\n",
       "      <td>0.397084</td>\n",
       "      <td>0.454867</td>\n",
       "      <td>NaN</td>\n",
       "      <td>0.396965</td>\n",
       "      <td>0.509235</td>\n",
       "      <td>0.672407</td>\n",
       "      <td>0.759661</td>\n",
       "      <td>0.644182</td>\n",
       "      <td>...</td>\n",
       "      <td>-13.606342</td>\n",
       "      <td>-11.459205</td>\n",
       "      <td>-9.928821</td>\n",
       "      <td>1449360000000000</td>\n",
       "      <td>test</td>\n",
       "      <td>1</td>\n",
       "      <td>512925</td>\n",
       "      <td>434775</td>\n",
       "      <td>1517</td>\n",
       "      <td>2</td>\n",
       "    </tr>\n",
       "    <tr>\n",
       "      <th>9969</th>\n",
       "      <td>52D618</td>\n",
       "      <td>0.319834</td>\n",
       "      <td>0.397084</td>\n",
       "      <td>0.426967</td>\n",
       "      <td>NaN</td>\n",
       "      <td>0.396965</td>\n",
       "      <td>0.541349</td>\n",
       "      <td>0.672407</td>\n",
       "      <td>0.711491</td>\n",
       "      <td>0.579955</td>\n",
       "      <td>...</td>\n",
       "      <td>-11.949531</td>\n",
       "      <td>-10.427531</td>\n",
       "      <td>-9.888812</td>\n",
       "      <td>1449360000000000</td>\n",
       "      <td>test</td>\n",
       "      <td>1</td>\n",
       "      <td>512925</td>\n",
       "      <td>434765</td>\n",
       "      <td>1518</td>\n",
       "      <td>2</td>\n",
       "    </tr>\n",
       "    <tr>\n",
       "      <th>9970</th>\n",
       "      <td>52D618</td>\n",
       "      <td>0.329313</td>\n",
       "      <td>0.397084</td>\n",
       "      <td>0.393617</td>\n",
       "      <td>NaN</td>\n",
       "      <td>0.396965</td>\n",
       "      <td>0.537918</td>\n",
       "      <td>0.672407</td>\n",
       "      <td>0.716637</td>\n",
       "      <td>0.586816</td>\n",
       "      <td>...</td>\n",
       "      <td>-11.396938</td>\n",
       "      <td>-9.967570</td>\n",
       "      <td>-9.084671</td>\n",
       "      <td>1449360000000000</td>\n",
       "      <td>test</td>\n",
       "      <td>1</td>\n",
       "      <td>512925</td>\n",
       "      <td>434755</td>\n",
       "      <td>1519</td>\n",
       "      <td>2</td>\n",
       "    </tr>\n",
       "    <tr>\n",
       "      <th>9971</th>\n",
       "      <td>52D618</td>\n",
       "      <td>0.314698</td>\n",
       "      <td>0.386478</td>\n",
       "      <td>0.411965</td>\n",
       "      <td>NaN</td>\n",
       "      <td>0.383231</td>\n",
       "      <td>0.505994</td>\n",
       "      <td>0.614052</td>\n",
       "      <td>0.642983</td>\n",
       "      <td>0.528368</td>\n",
       "      <td>...</td>\n",
       "      <td>-11.258026</td>\n",
       "      <td>-9.932149</td>\n",
       "      <td>-9.399418</td>\n",
       "      <td>1449360000000000</td>\n",
       "      <td>test</td>\n",
       "      <td>1</td>\n",
       "      <td>512925</td>\n",
       "      <td>434745</td>\n",
       "      <td>1520</td>\n",
       "      <td>2</td>\n",
       "    </tr>\n",
       "    <tr>\n",
       "      <th>9972</th>\n",
       "      <td>52D618</td>\n",
       "      <td>0.363238</td>\n",
       "      <td>0.386478</td>\n",
       "      <td>0.467250</td>\n",
       "      <td>NaN</td>\n",
       "      <td>0.383231</td>\n",
       "      <td>0.488273</td>\n",
       "      <td>0.614052</td>\n",
       "      <td>0.669564</td>\n",
       "      <td>0.563809</td>\n",
       "      <td>...</td>\n",
       "      <td>-11.295087</td>\n",
       "      <td>-9.696926</td>\n",
       "      <td>-9.191929</td>\n",
       "      <td>1449360000000000</td>\n",
       "      <td>test</td>\n",
       "      <td>1</td>\n",
       "      <td>512925</td>\n",
       "      <td>434735</td>\n",
       "      <td>1521</td>\n",
       "      <td>2</td>\n",
       "    </tr>\n",
       "    <tr>\n",
       "      <th>9973</th>\n",
       "      <td>52D618</td>\n",
       "      <td>0.307640</td>\n",
       "      <td>0.386478</td>\n",
       "      <td>0.494235</td>\n",
       "      <td>NaN</td>\n",
       "      <td>0.383231</td>\n",
       "      <td>0.508496</td>\n",
       "      <td>0.614052</td>\n",
       "      <td>0.639230</td>\n",
       "      <td>0.523363</td>\n",
       "      <td>...</td>\n",
       "      <td>-11.337869</td>\n",
       "      <td>-10.017505</td>\n",
       "      <td>-9.875848</td>\n",
       "      <td>1449360000000000</td>\n",
       "      <td>test</td>\n",
       "      <td>1</td>\n",
       "      <td>512925</td>\n",
       "      <td>434725</td>\n",
       "      <td>1522</td>\n",
       "      <td>2</td>\n",
       "    </tr>\n",
       "    <tr>\n",
       "      <th>9974</th>\n",
       "      <td>52D618</td>\n",
       "      <td>0.312820</td>\n",
       "      <td>0.375935</td>\n",
       "      <td>0.487620</td>\n",
       "      <td>NaN</td>\n",
       "      <td>0.392471</td>\n",
       "      <td>0.520971</td>\n",
       "      <td>0.629797</td>\n",
       "      <td>0.656667</td>\n",
       "      <td>0.539297</td>\n",
       "      <td>...</td>\n",
       "      <td>-11.626100</td>\n",
       "      <td>-10.856985</td>\n",
       "      <td>-10.687438</td>\n",
       "      <td>1449360000000000</td>\n",
       "      <td>test</td>\n",
       "      <td>1</td>\n",
       "      <td>512925</td>\n",
       "      <td>434715</td>\n",
       "      <td>1523</td>\n",
       "      <td>2</td>\n",
       "    </tr>\n",
       "    <tr>\n",
       "      <th>9975</th>\n",
       "      <td>52D618</td>\n",
       "      <td>0.230046</td>\n",
       "      <td>0.375935</td>\n",
       "      <td>0.442716</td>\n",
       "      <td>NaN</td>\n",
       "      <td>0.392471</td>\n",
       "      <td>0.551166</td>\n",
       "      <td>0.629797</td>\n",
       "      <td>0.611374</td>\n",
       "      <td>0.478907</td>\n",
       "      <td>...</td>\n",
       "      <td>-11.919423</td>\n",
       "      <td>-11.297678</td>\n",
       "      <td>-10.005905</td>\n",
       "      <td>1449360000000000</td>\n",
       "      <td>test</td>\n",
       "      <td>1</td>\n",
       "      <td>512925</td>\n",
       "      <td>434705</td>\n",
       "      <td>1524</td>\n",
       "      <td>2</td>\n",
       "    </tr>\n",
       "    <tr>\n",
       "      <th>9976</th>\n",
       "      <td>52D618</td>\n",
       "      <td>0.146764</td>\n",
       "      <td>0.375935</td>\n",
       "      <td>0.383774</td>\n",
       "      <td>NaN</td>\n",
       "      <td>0.392471</td>\n",
       "      <td>0.581557</td>\n",
       "      <td>0.629797</td>\n",
       "      <td>0.565787</td>\n",
       "      <td>0.418124</td>\n",
       "      <td>...</td>\n",
       "      <td>-11.225861</td>\n",
       "      <td>-10.556203</td>\n",
       "      <td>-8.994937</td>\n",
       "      <td>1449360000000000</td>\n",
       "      <td>test</td>\n",
       "      <td>1</td>\n",
       "      <td>512925</td>\n",
       "      <td>434695</td>\n",
       "      <td>1525</td>\n",
       "      <td>2</td>\n",
       "    </tr>\n",
       "  </tbody>\n",
       "</table>\n",
       "<p>9977 rows × 178 columns</p>\n",
       "</div>"
      ],
      "text/plain": [
       "       IDLote    NDVI_0   NDVI_16   NDVI_32  NDVI_n112  NDVI_n16  NDVI_n32  \\\n",
       "0     11B011A  0.658612  0.383268       NaN        NaN  0.757174  0.829607   \n",
       "1     11B011A  0.667417  0.382867       NaN        NaN  0.757133  0.843677   \n",
       "2     52B404A  0.475616  0.338145       NaN        NaN  0.557140  0.898613   \n",
       "3     52B404A  0.475616  0.265153       NaN        NaN  0.557140  0.898613   \n",
       "4     52B404A  0.486851  0.274616       NaN        NaN  0.565437  0.904387   \n",
       "5     52B404A  0.486851  0.293112       NaN        NaN  0.565437  0.904387   \n",
       "6     52B404A  0.475616  0.292895       NaN        NaN  0.557140  0.898613   \n",
       "7     52B404A  0.475616  0.337136       NaN        NaN  0.557140  0.898613   \n",
       "8     52B404A  0.475616  0.241038       NaN        NaN  0.557140  0.898613   \n",
       "9     52B404A  0.486851  0.257533       NaN        NaN  1.026954  0.904387   \n",
       "10    52B404A  0.486851  0.284653       NaN        NaN  0.993426  0.904387   \n",
       "11    52B404A  0.486851  0.295791       NaN        NaN  0.947652  0.904387   \n",
       "12     52E309  0.860756  0.798577       NaN        NaN  0.921256  0.666368   \n",
       "13     52E309  0.860756  0.798577       NaN        NaN  0.901682  0.666368   \n",
       "14     52E309  0.817251  0.799839       NaN        NaN  1.158892  0.686774   \n",
       "15    11B011A  0.383268       NaN       NaN   0.815918  0.658612  0.757174   \n",
       "16    11B011A  0.382867       NaN       NaN   0.809271  0.667417  0.757133   \n",
       "17    62D835A  0.414687       NaN       NaN   0.610356  0.825166  0.072627   \n",
       "18    62D835A  0.436408       NaN       NaN   0.571911  0.825166  0.394067   \n",
       "19    62D835A  0.680803       NaN       NaN   0.538069  0.825166  0.676363   \n",
       "20    62D835A  0.671560       NaN       NaN   0.464291  0.831087  0.862544   \n",
       "21    62D835A  0.504791       NaN       NaN   0.527192  0.804863  0.787703   \n",
       "22    62D835A  0.461789       NaN       NaN   0.554478  0.804863  0.559635   \n",
       "23    62D835A  0.454038       NaN       NaN   0.567578  0.825166  0.430291   \n",
       "24    62D835A  0.461476       NaN       NaN   0.552283  0.825166  0.558178   \n",
       "25    62D835A  0.690872       NaN       NaN   0.539850  0.825166  0.661464   \n",
       "26    62D835A  0.685575       NaN       NaN   0.486307  0.831087  0.678372   \n",
       "27    62D835A  0.701382       NaN       NaN   0.488133  0.831087  0.663092   \n",
       "28    62D835A  0.477389       NaN       NaN   0.531225  0.804863  0.754082   \n",
       "29    62D835A  0.495767       NaN       NaN   0.531844  0.825166  0.729036   \n",
       "...       ...       ...       ...       ...        ...       ...       ...   \n",
       "9947   52D618  0.535149  0.337401  0.486615        NaN  0.388846  0.460747   \n",
       "9948   52D618  0.534140  0.337401  0.483579        NaN  0.388846  0.461115   \n",
       "9949   52D618  0.565489  0.337401  0.472082        NaN  0.388846  0.449704   \n",
       "9950   52D618  0.905811  0.295201  0.489713        NaN  0.413621  0.375258   \n",
       "9951   52D618  0.867113  0.295201  0.479992        NaN  0.413621  0.389360   \n",
       "9952   52D618  0.982282  0.295201  0.517521        NaN  0.413621  0.347410   \n",
       "9953   52D618  1.185590  0.273342  0.540829        NaN  0.386433  0.238159   \n",
       "9954   52D618  1.059451  0.273342  0.505276        NaN  0.386433  0.284103   \n",
       "9955   52D618  1.121486  0.273342  0.516307        NaN  0.386433  0.261514   \n",
       "9956   52D618  0.978584  0.313565  0.515496        NaN  0.374023  0.277775   \n",
       "9957   52D618  0.966033  0.313565  0.523760        NaN  0.374023  0.282344   \n",
       "9958   52D618  0.803145  0.313565  0.467304        NaN  0.374023  0.341728   \n",
       "9959   52D618  0.325418  0.350475  0.530681        NaN  0.357509  0.471675   \n",
       "9960   52D618  0.244400  0.350475  0.540076        NaN  0.357509  0.501169   \n",
       "9961   52D618  0.311770  0.350475  0.522424        NaN  0.357509  0.476645   \n",
       "9962   52D618  0.015680  0.426357  0.590734        NaN  0.351548  0.592323   \n",
       "9963   52D618  0.122560  0.426357  0.607303        NaN  0.351548  0.553411   \n",
       "9964   52D618  0.132991  0.426357  0.607648        NaN  0.351548  0.549612   \n",
       "9965   52D618  0.178710  0.431644  0.561070        NaN  0.377236  0.584832   \n",
       "9966   52D618  0.227332  0.431644  0.493704        NaN  0.377236  0.567140   \n",
       "9967   52D618  0.220433  0.431644  0.474174        NaN  0.377236  0.569655   \n",
       "9968   52D618  0.407938  0.397084  0.454867        NaN  0.396965  0.509235   \n",
       "9969   52D618  0.319834  0.397084  0.426967        NaN  0.396965  0.541349   \n",
       "9970   52D618  0.329313  0.397084  0.393617        NaN  0.396965  0.537918   \n",
       "9971   52D618  0.314698  0.386478  0.411965        NaN  0.383231  0.505994   \n",
       "9972   52D618  0.363238  0.386478  0.467250        NaN  0.383231  0.488273   \n",
       "9973   52D618  0.307640  0.386478  0.494235        NaN  0.383231  0.508496   \n",
       "9974   52D618  0.312820  0.375935  0.487620        NaN  0.392471  0.520971   \n",
       "9975   52D618  0.230046  0.375935  0.442716        NaN  0.392471  0.551166   \n",
       "9976   52D618  0.146764  0.375935  0.383774        NaN  0.392471  0.581557   \n",
       "\n",
       "      NDVI_n48  NDVI_n64  NDVI_n80   ...        VV_n64     VV_n80     VV_n96  \\\n",
       "0     0.736767  0.741148  0.805096   ...     -8.626506 -11.714251  -8.535561   \n",
       "1     0.762084  0.754857  0.799972   ...     -9.135911 -11.263686  -8.186055   \n",
       "2     0.889935  0.812548  0.671311   ...     -7.579335  -5.353772 -11.256103   \n",
       "3     0.889935  0.812548  0.671311   ...     -8.286157  -2.770491 -10.110527   \n",
       "4     0.888701  0.820368  0.702450   ...     -8.205578   0.958659 -10.407002   \n",
       "5     0.888701  0.820368  0.702450   ...     -7.022113  -2.035180 -11.206878   \n",
       "6     0.889935  0.812548  0.671311   ...     -6.893254  -6.575107 -11.918604   \n",
       "7     0.889935  0.812548  0.671311   ...     -7.472546  -6.928250 -12.638359   \n",
       "8     0.889935  0.812548  0.671311   ...     -8.124290  -4.301150 -11.433998   \n",
       "9     0.888701  0.820368  0.702450   ...     -7.833481  -2.875898 -10.647243   \n",
       "10    0.888701  0.820368  0.702450   ...     -7.227486  -4.253404 -11.538484   \n",
       "11    0.888701  0.820368  0.702450   ...     -7.102290  -5.655459 -12.721991   \n",
       "12    0.433054  0.286066  0.222895   ...     -4.740850 -11.439425  -9.523293   \n",
       "13    0.440185  0.286066  0.212198   ...     -5.712746 -11.345302  -9.492030   \n",
       "14    0.364006  0.288625  0.342283   ...     -6.054336 -11.991713  -9.903774   \n",
       "15    0.829607  0.736767  0.741148   ...     -9.012735  -8.626506 -11.714251   \n",
       "16    0.843677  0.762084  0.754857   ...     -8.810207  -9.135911 -11.263686   \n",
       "17    0.398496  0.384779  0.254726   ...     -7.733277  -6.776438  -8.616839   \n",
       "18    0.398496  0.303083  0.254726   ...     -7.875716  -7.214191  -8.116620   \n",
       "19    0.398496  0.231169  0.254726   ...     -8.815128  -7.253093  -8.937183   \n",
       "20    0.406735  0.228377  0.309904   ...     -9.947330  -6.743249 -10.470779   \n",
       "21    0.388665  0.201316  0.266752   ...     -9.024920  -5.875991 -10.411404   \n",
       "22    0.388665  0.259299  0.266752   ...     -8.471910  -6.000303  -9.797601   \n",
       "23    0.398496  0.293876  0.254726   ...     -8.633346  -7.727499  -8.404757   \n",
       "24    0.398496  0.261373  0.254726   ...     -9.278359  -8.400025  -8.634027   \n",
       "25    0.398496  0.234953  0.254726   ...     -9.241454  -7.514375  -8.845185   \n",
       "26    0.406735  0.275161  0.309904   ...    -10.100033  -6.725887 -10.373505   \n",
       "27    0.406735  0.279041  0.309904   ...    -10.649700  -7.111340  -9.956827   \n",
       "28    0.388665  0.209885  0.266752   ...     -9.255744  -6.047507  -9.835897   \n",
       "29    0.398496  0.217940  0.254726   ...     -9.363995  -7.503952  -8.680803   \n",
       "...        ...       ...       ...   ...           ...        ...        ...   \n",
       "9947  0.691801  0.867059  0.771574   ...     -7.143986 -11.261137 -11.619761   \n",
       "9948  0.691801  0.866507  0.770837   ...     -8.202229 -11.329771 -10.118878   \n",
       "9949  0.691801  0.883625  0.793661   ...     -6.395440 -10.426274 -10.987253   \n",
       "9950  0.761626  1.145340  1.099015   ...     -4.038772  -9.209449 -11.692288   \n",
       "9951  0.761626  1.124187  1.070811   ...     -3.599917  -9.112253 -12.607297   \n",
       "9952  0.761626  1.187111  1.154709   ...     -6.848287 -10.697371 -11.701480   \n",
       "9953  0.739722  1.296327  1.313181   ...     -7.858473 -10.622763 -10.618224   \n",
       "9954  0.739722  1.227411  1.221293   ...     -5.614890  -9.526560 -12.776092   \n",
       "9955  0.739722  1.261295  1.266471   ...     -4.992663  -8.877541 -12.024251   \n",
       "9956  0.675748  1.103848  1.097980   ...     -4.515840  -8.447181 -11.536210   \n",
       "9957  0.675748  1.096995  1.088843   ...     -4.646696  -8.714379 -12.139687   \n",
       "9958  0.675748  1.007919  0.970075   ...     -5.515210  -9.416791 -12.293633   \n",
       "9959  0.601476  0.657585  0.550678   ...     -5.976837  -9.755192 -12.571831   \n",
       "9960  0.601476  0.613345  0.491691   ...     -6.825363 -10.354033 -12.471340   \n",
       "9961  0.601476  0.650131  0.540739   ...     -7.162232 -10.892588 -12.968312   \n",
       "9962  0.625811  0.522936  0.354620   ...     -8.230282 -11.342650 -11.745902   \n",
       "9963  0.625811  0.581305  0.432444   ...    -10.802146 -12.369674 -11.847170   \n",
       "9964  0.625811  0.587002  0.440040   ...    -12.154171 -12.569637 -12.342637   \n",
       "9965  0.693947  0.681163  0.523060   ...    -12.387225 -11.935895 -11.621568   \n",
       "9966  0.693947  0.707701  0.558444   ...    -12.383847 -11.409642 -10.676197   \n",
       "9967  0.693947  0.703929  0.553415   ...    -13.802809 -11.614139  -9.472503   \n",
       "9968  0.672407  0.759661  0.644182   ...    -13.606342 -11.459205  -9.928821   \n",
       "9969  0.672407  0.711491  0.579955   ...    -11.949531 -10.427531  -9.888812   \n",
       "9970  0.672407  0.716637  0.586816   ...    -11.396938  -9.967570  -9.084671   \n",
       "9971  0.614052  0.642983  0.528368   ...    -11.258026  -9.932149  -9.399418   \n",
       "9972  0.614052  0.669564  0.563809   ...    -11.295087  -9.696926  -9.191929   \n",
       "9973  0.614052  0.639230  0.523363   ...    -11.337869 -10.017505  -9.875848   \n",
       "9974  0.629797  0.656667  0.539297   ...    -11.626100 -10.856985 -10.687438   \n",
       "9975  0.629797  0.611374  0.478907   ...    -11.919423 -11.297678 -10.005905   \n",
       "9976  0.629797  0.565787  0.418124   ...    -11.225861 -10.556203  -8.994937   \n",
       "\n",
       "                  time    tt  vclass       x       y  __index_level_0__  \\\n",
       "0     1450742400000000  test       2  499585  428605                 39   \n",
       "1     1450742400000000  test       2  499585  428595                 40   \n",
       "2     1450742400000000  test       4  507695  432605                 15   \n",
       "3     1450742400000000  test       4  507695  432595                 16   \n",
       "4     1450742400000000  test       4  507695  432585                 17   \n",
       "5     1450742400000000  test       4  507695  432575                 18   \n",
       "6     1450742400000000  test       4  507705  432615                 39   \n",
       "7     1450742400000000  test       4  507705  432605                 40   \n",
       "8     1450742400000000  test       4  507705  432595                 41   \n",
       "9     1450742400000000  test       4  507705  432585                 42   \n",
       "10    1450742400000000  test       4  507705  432575                 43   \n",
       "11    1450742400000000  test       4  507705  432565                 44   \n",
       "12    1450742400000000  test       3  509205  437375                 12   \n",
       "13    1450742400000000  test       3  509205  437365                 13   \n",
       "14    1450742400000000  test       3  509205  437355                 14   \n",
       "15    1452124800000000  test       3  499585  428605                 39   \n",
       "16    1452124800000000  test       3  499585  428595                 40   \n",
       "17    1452124800000000  test       4  512545  437715                  2   \n",
       "18    1452124800000000  test       4  512545  437705                  3   \n",
       "19    1452124800000000  test       4  512545  437695                  4   \n",
       "20    1452124800000000  test       4  512545  437685                  5   \n",
       "21    1452124800000000  test       4  512555  437735                  8   \n",
       "22    1452124800000000  test       4  512555  437725                  9   \n",
       "23    1452124800000000  test       4  512555  437715                 10   \n",
       "24    1452124800000000  test       4  512555  437705                 11   \n",
       "25    1452124800000000  test       4  512555  437695                 12   \n",
       "26    1452124800000000  test       4  512555  437685                 13   \n",
       "27    1452124800000000  test       4  512555  437675                 14   \n",
       "28    1452124800000000  test       4  512565  437725                 17   \n",
       "29    1452124800000000  test       4  512565  437715                 18   \n",
       "...                ...   ...     ...     ...     ...                ...   \n",
       "9947  1449360000000000  test       1  512925  434985               1496   \n",
       "9948  1449360000000000  test       1  512925  434975               1497   \n",
       "9949  1449360000000000  test       1  512925  434965               1498   \n",
       "9950  1449360000000000  test       1  512925  434955               1499   \n",
       "9951  1449360000000000  test       1  512925  434945               1500   \n",
       "9952  1449360000000000  test       1  512925  434935               1501   \n",
       "9953  1449360000000000  test       1  512925  434925               1502   \n",
       "9954  1449360000000000  test       1  512925  434915               1503   \n",
       "9955  1449360000000000  test       1  512925  434905               1504   \n",
       "9956  1449360000000000  test       1  512925  434895               1505   \n",
       "9957  1449360000000000  test       1  512925  434885               1506   \n",
       "9958  1449360000000000  test       1  512925  434875               1507   \n",
       "9959  1449360000000000  test       1  512925  434865               1508   \n",
       "9960  1449360000000000  test       1  512925  434855               1509   \n",
       "9961  1449360000000000  test       1  512925  434845               1510   \n",
       "9962  1449360000000000  test       1  512925  434835               1511   \n",
       "9963  1449360000000000  test       1  512925  434825               1512   \n",
       "9964  1449360000000000  test       1  512925  434815               1513   \n",
       "9965  1449360000000000  test       1  512925  434805               1514   \n",
       "9966  1449360000000000  test       1  512925  434795               1515   \n",
       "9967  1449360000000000  test       1  512925  434785               1516   \n",
       "9968  1449360000000000  test       1  512925  434775               1517   \n",
       "9969  1449360000000000  test       1  512925  434765               1518   \n",
       "9970  1449360000000000  test       1  512925  434755               1519   \n",
       "9971  1449360000000000  test       1  512925  434745               1520   \n",
       "9972  1449360000000000  test       1  512925  434735               1521   \n",
       "9973  1449360000000000  test       1  512925  434725               1522   \n",
       "9974  1449360000000000  test       1  512925  434715               1523   \n",
       "9975  1449360000000000  test       1  512925  434705               1524   \n",
       "9976  1449360000000000  test       1  512925  434695               1525   \n",
       "\n",
       "      predict  \n",
       "0           4  \n",
       "1           4  \n",
       "2           5  \n",
       "3           5  \n",
       "4           5  \n",
       "5           5  \n",
       "6           5  \n",
       "7           5  \n",
       "8           5  \n",
       "9           5  \n",
       "10          1  \n",
       "11          5  \n",
       "12          3  \n",
       "13          3  \n",
       "14          3  \n",
       "15          5  \n",
       "16          5  \n",
       "17          1  \n",
       "18          1  \n",
       "19          3  \n",
       "20          3  \n",
       "21          3  \n",
       "22          1  \n",
       "23          1  \n",
       "24          3  \n",
       "25          3  \n",
       "26          4  \n",
       "27          4  \n",
       "28          3  \n",
       "29          3  \n",
       "...       ...  \n",
       "9947        2  \n",
       "9948        2  \n",
       "9949        2  \n",
       "9950        2  \n",
       "9951        2  \n",
       "9952        2  \n",
       "9953        2  \n",
       "9954        2  \n",
       "9955        2  \n",
       "9956        2  \n",
       "9957        2  \n",
       "9958        2  \n",
       "9959        2  \n",
       "9960        2  \n",
       "9961        2  \n",
       "9962        2  \n",
       "9963        2  \n",
       "9964        2  \n",
       "9965        2  \n",
       "9966        2  \n",
       "9967        2  \n",
       "9968        2  \n",
       "9969        2  \n",
       "9970        2  \n",
       "9971        2  \n",
       "9972        2  \n",
       "9973        2  \n",
       "9974        2  \n",
       "9975        2  \n",
       "9976        2  \n",
       "\n",
       "[9977 rows x 178 columns]"
      ]
     },
     "execution_count": 54,
     "metadata": {},
     "output_type": "execute_result"
    }
   ],
   "source": [
    "resulting_class_df"
   ]
  },
  {
   "cell_type": "code",
   "execution_count": 55,
   "metadata": {},
   "outputs": [],
   "source": [
    "# Create MultiIndex from coordinates ## TODO include time!\n",
    "resulting_class_df.set_index(['time','x', 'y','IDLote'], inplace=True)"
   ]
  },
  {
   "cell_type": "code",
   "execution_count": 56,
   "metadata": {},
   "outputs": [],
   "source": [
    "import xarray as xr\n",
    "import numpy as np\n",
    "import pandas as pd\n",
    "# Return to xarray\n",
    "xarr = xr.Dataset.from_dataframe(resulting_class_df).sortby('time')\n",
    "xarr['time'] = np.array([np.datetime64(pd.to_datetime(i, unit='us')) for i in xarr.time.values], dtype=np.datetime64)"
   ]
  },
  {
   "cell_type": "code",
   "execution_count": 57,
   "metadata": {},
   "outputs": [
    {
     "data": {
      "text/plain": [
       "<xarray.Dataset>\n",
       "Dimensions:                  (IDLote: 10, time: 3, x: 319, y: 374)\n",
       "Coordinates:\n",
       "  * time                     (time) datetime64[us] 2015-12-06 2015-12-22 ...\n",
       "  * x                        (x) int64 499585 499595 499605 499615 499625 ...\n",
       "  * y                        (y) int64 424065 424075 424085 424095 424105 ...\n",
       "  * IDLote                   (IDLote) object '11B011A' '21C908' '31D091' ...\n",
       "Data variables:\n",
       "    NDVI_0                   (time, x, y, IDLote) float64 nan nan nan nan ...\n",
       "    NDVI_16                  (time, x, y, IDLote) float64 nan nan nan nan ...\n",
       "    NDVI_32                  (time, x, y, IDLote) float64 nan nan nan nan ...\n",
       "    NDVI_n112                (time, x, y, IDLote) float64 nan nan nan nan ...\n",
       "    NDVI_n16                 (time, x, y, IDLote) float64 nan nan nan nan ...\n",
       "    NDVI_n32                 (time, x, y, IDLote) float64 nan nan nan nan ...\n",
       "    NDVI_n48                 (time, x, y, IDLote) float64 nan nan nan nan ...\n",
       "    NDVI_n64                 (time, x, y, IDLote) float64 nan nan nan nan ...\n",
       "    NDVI_n80                 (time, x, y, IDLote) float64 nan nan nan nan ...\n",
       "    NDVI_n96                 (time, x, y, IDLote) float64 nan nan nan nan ...\n",
       "    VV_0                     (time, x, y, IDLote) float64 nan nan nan nan ...\n",
       "    VV_16                    (time, x, y, IDLote) float64 nan nan nan nan ...\n",
       "    VV_32                    (time, x, y, IDLote) float64 nan nan nan nan ...\n",
       "    VV_ASM_0                 (time, x, y, IDLote) float64 nan nan nan nan ...\n",
       "    VV_ASM_16                (time, x, y, IDLote) float64 nan nan nan nan ...\n",
       "    VV_ASM_32                (time, x, y, IDLote) float64 nan nan nan nan ...\n",
       "    VV_ASM_n112              (time, x, y, IDLote) float64 nan nan nan nan ...\n",
       "    VV_ASM_n128              (time, x, y, IDLote) float64 nan nan nan nan ...\n",
       "    VV_ASM_n144              (time, x, y, IDLote) float64 nan nan nan nan ...\n",
       "    VV_ASM_n16               (time, x, y, IDLote) float64 nan nan nan nan ...\n",
       "    VV_ASM_n160              (time, x, y, IDLote) float64 nan nan nan nan ...\n",
       "    VV_ASM_n176              (time, x, y, IDLote) float64 nan nan nan nan ...\n",
       "    VV_ASM_n192              (time, x, y, IDLote) float64 nan nan nan nan ...\n",
       "    VV_ASM_n208              (time, x, y, IDLote) float64 nan nan nan nan ...\n",
       "    VV_ASM_n32               (time, x, y, IDLote) float64 nan nan nan nan ...\n",
       "    VV_ASM_n48               (time, x, y, IDLote) float64 nan nan nan nan ...\n",
       "    VV_ASM_n64               (time, x, y, IDLote) float64 nan nan nan nan ...\n",
       "    VV_ASM_n80               (time, x, y, IDLote) float64 nan nan nan nan ...\n",
       "    VV_ASM_n96               (time, x, y, IDLote) float64 nan nan nan nan ...\n",
       "    VV_Contrast_0            (time, x, y, IDLote) float64 nan nan nan nan ...\n",
       "    VV_Contrast_16           (time, x, y, IDLote) float64 nan nan nan nan ...\n",
       "    VV_Contrast_32           (time, x, y, IDLote) float64 nan nan nan nan ...\n",
       "    VV_Contrast_n112         (time, x, y, IDLote) float64 nan nan nan nan ...\n",
       "    VV_Contrast_n128         (time, x, y, IDLote) float64 nan nan nan nan ...\n",
       "    VV_Contrast_n144         (time, x, y, IDLote) float64 nan nan nan nan ...\n",
       "    VV_Contrast_n16          (time, x, y, IDLote) float64 nan nan nan nan ...\n",
       "    VV_Contrast_n160         (time, x, y, IDLote) float64 nan nan nan nan ...\n",
       "    VV_Contrast_n176         (time, x, y, IDLote) float64 nan nan nan nan ...\n",
       "    VV_Contrast_n192         (time, x, y, IDLote) float64 nan nan nan nan ...\n",
       "    VV_Contrast_n208         (time, x, y, IDLote) float64 nan nan nan nan ...\n",
       "    VV_Contrast_n32          (time, x, y, IDLote) float64 nan nan nan nan ...\n",
       "    VV_Contrast_n48          (time, x, y, IDLote) float64 nan nan nan nan ...\n",
       "    VV_Contrast_n64          (time, x, y, IDLote) float64 nan nan nan nan ...\n",
       "    VV_Contrast_n80          (time, x, y, IDLote) float64 nan nan nan nan ...\n",
       "    VV_Contrast_n96          (time, x, y, IDLote) float64 nan nan nan nan ...\n",
       "    VV_Dissimilarity_0       (time, x, y, IDLote) float64 nan nan nan nan ...\n",
       "    VV_Dissimilarity_16      (time, x, y, IDLote) float64 nan nan nan nan ...\n",
       "    VV_Dissimilarity_32      (time, x, y, IDLote) float64 nan nan nan nan ...\n",
       "    VV_Dissimilarity_n112    (time, x, y, IDLote) float64 nan nan nan nan ...\n",
       "    VV_Dissimilarity_n128    (time, x, y, IDLote) float64 nan nan nan nan ...\n",
       "    VV_Dissimilarity_n144    (time, x, y, IDLote) float64 nan nan nan nan ...\n",
       "    VV_Dissimilarity_n16     (time, x, y, IDLote) float64 nan nan nan nan ...\n",
       "    VV_Dissimilarity_n160    (time, x, y, IDLote) float64 nan nan nan nan ...\n",
       "    VV_Dissimilarity_n176    (time, x, y, IDLote) float64 nan nan nan nan ...\n",
       "    VV_Dissimilarity_n192    (time, x, y, IDLote) float64 nan nan nan nan ...\n",
       "    VV_Dissimilarity_n208    (time, x, y, IDLote) float64 nan nan nan nan ...\n",
       "    VV_Dissimilarity_n32     (time, x, y, IDLote) float64 nan nan nan nan ...\n",
       "    VV_Dissimilarity_n48     (time, x, y, IDLote) float64 nan nan nan nan ...\n",
       "    VV_Dissimilarity_n64     (time, x, y, IDLote) float64 nan nan nan nan ...\n",
       "    VV_Dissimilarity_n80     (time, x, y, IDLote) float64 nan nan nan nan ...\n",
       "    VV_Dissimilarity_n96     (time, x, y, IDLote) float64 nan nan nan nan ...\n",
       "    VV_Energy_0              (time, x, y, IDLote) float64 nan nan nan nan ...\n",
       "    VV_Energy_16             (time, x, y, IDLote) float64 nan nan nan nan ...\n",
       "    VV_Energy_32             (time, x, y, IDLote) float64 nan nan nan nan ...\n",
       "    VV_Energy_n112           (time, x, y, IDLote) float64 nan nan nan nan ...\n",
       "    VV_Energy_n128           (time, x, y, IDLote) float64 nan nan nan nan ...\n",
       "    VV_Energy_n144           (time, x, y, IDLote) float64 nan nan nan nan ...\n",
       "    VV_Energy_n16            (time, x, y, IDLote) float64 nan nan nan nan ...\n",
       "    VV_Energy_n160           (time, x, y, IDLote) float64 nan nan nan nan ...\n",
       "    VV_Energy_n176           (time, x, y, IDLote) float64 nan nan nan nan ...\n",
       "    VV_Energy_n192           (time, x, y, IDLote) float64 nan nan nan nan ...\n",
       "    VV_Energy_n208           (time, x, y, IDLote) float64 nan nan nan nan ...\n",
       "    VV_Energy_n32            (time, x, y, IDLote) float64 nan nan nan nan ...\n",
       "    VV_Energy_n48            (time, x, y, IDLote) float64 nan nan nan nan ...\n",
       "    VV_Energy_n64            (time, x, y, IDLote) float64 nan nan nan nan ...\n",
       "    VV_Energy_n80            (time, x, y, IDLote) float64 nan nan nan nan ...\n",
       "    VV_Energy_n96            (time, x, y, IDLote) float64 nan nan nan nan ...\n",
       "    VV_Entropy_0             (time, x, y, IDLote) float64 nan nan nan nan ...\n",
       "    VV_Entropy_16            (time, x, y, IDLote) float64 nan nan nan nan ...\n",
       "    VV_Entropy_32            (time, x, y, IDLote) float64 nan nan nan nan ...\n",
       "    VV_Entropy_n112          (time, x, y, IDLote) float64 nan nan nan nan ...\n",
       "    VV_Entropy_n128          (time, x, y, IDLote) float64 nan nan nan nan ...\n",
       "    VV_Entropy_n144          (time, x, y, IDLote) float64 nan nan nan nan ...\n",
       "    VV_Entropy_n16           (time, x, y, IDLote) float64 nan nan nan nan ...\n",
       "    VV_Entropy_n160          (time, x, y, IDLote) float64 nan nan nan nan ...\n",
       "    VV_Entropy_n176          (time, x, y, IDLote) float64 nan nan nan nan ...\n",
       "    VV_Entropy_n192          (time, x, y, IDLote) float64 nan nan nan nan ...\n",
       "    VV_Entropy_n208          (time, x, y, IDLote) float64 nan nan nan nan ...\n",
       "    VV_Entropy_n32           (time, x, y, IDLote) float64 nan nan nan nan ...\n",
       "    VV_Entropy_n48           (time, x, y, IDLote) float64 nan nan nan nan ...\n",
       "    VV_Entropy_n64           (time, x, y, IDLote) float64 nan nan nan nan ...\n",
       "    VV_Entropy_n80           (time, x, y, IDLote) float64 nan nan nan nan ...\n",
       "    VV_Entropy_n96           (time, x, y, IDLote) float64 nan nan nan nan ...\n",
       "    VV_GLCMCorrelation_0     (time, x, y, IDLote) float64 nan nan nan nan ...\n",
       "    VV_GLCMCorrelation_16    (time, x, y, IDLote) float64 nan nan nan nan ...\n",
       "    VV_GLCMCorrelation_32    (time, x, y, IDLote) float64 nan nan nan nan ...\n",
       "    VV_GLCMCorrelation_n112  (time, x, y, IDLote) float64 nan nan nan nan ...\n",
       "    VV_GLCMCorrelation_n128  (time, x, y, IDLote) float64 nan nan nan nan ...\n",
       "    VV_GLCMCorrelation_n144  (time, x, y, IDLote) float64 nan nan nan nan ...\n",
       "    VV_GLCMCorrelation_n16   (time, x, y, IDLote) float64 nan nan nan nan ...\n",
       "    VV_GLCMCorrelation_n160  (time, x, y, IDLote) float64 nan nan nan nan ...\n",
       "    VV_GLCMCorrelation_n176  (time, x, y, IDLote) float64 nan nan nan nan ...\n",
       "    VV_GLCMCorrelation_n192  (time, x, y, IDLote) float64 nan nan nan nan ...\n",
       "    VV_GLCMCorrelation_n208  (time, x, y, IDLote) float64 nan nan nan nan ...\n",
       "    VV_GLCMCorrelation_n32   (time, x, y, IDLote) float64 nan nan nan nan ...\n",
       "    VV_GLCMCorrelation_n48   (time, x, y, IDLote) float64 nan nan nan nan ...\n",
       "    VV_GLCMCorrelation_n64   (time, x, y, IDLote) float64 nan nan nan nan ...\n",
       "    VV_GLCMCorrelation_n80   (time, x, y, IDLote) float64 nan nan nan nan ...\n",
       "    VV_GLCMCorrelation_n96   (time, x, y, IDLote) float64 nan nan nan nan ...\n",
       "    VV_GLCMMean_0            (time, x, y, IDLote) float64 nan nan nan nan ...\n",
       "    VV_GLCMMean_16           (time, x, y, IDLote) float64 nan nan nan nan ...\n",
       "    VV_GLCMMean_32           (time, x, y, IDLote) float64 nan nan nan nan ...\n",
       "    VV_GLCMMean_n112         (time, x, y, IDLote) float64 nan nan nan nan ...\n",
       "    VV_GLCMMean_n128         (time, x, y, IDLote) float64 nan nan nan nan ...\n",
       "    VV_GLCMMean_n144         (time, x, y, IDLote) float64 nan nan nan nan ...\n",
       "    VV_GLCMMean_n16          (time, x, y, IDLote) float64 nan nan nan nan ...\n",
       "    VV_GLCMMean_n160         (time, x, y, IDLote) float64 nan nan nan nan ...\n",
       "    VV_GLCMMean_n176         (time, x, y, IDLote) float64 nan nan nan nan ...\n",
       "    VV_GLCMMean_n192         (time, x, y, IDLote) float64 nan nan nan nan ...\n",
       "    VV_GLCMMean_n208         (time, x, y, IDLote) float64 nan nan nan nan ...\n",
       "    VV_GLCMMean_n32          (time, x, y, IDLote) float64 nan nan nan nan ...\n",
       "    VV_GLCMMean_n48          (time, x, y, IDLote) float64 nan nan nan nan ...\n",
       "    VV_GLCMMean_n64          (time, x, y, IDLote) float64 nan nan nan nan ...\n",
       "    VV_GLCMMean_n80          (time, x, y, IDLote) float64 nan nan nan nan ...\n",
       "    VV_GLCMMean_n96          (time, x, y, IDLote) float64 nan nan nan nan ...\n",
       "    VV_GLCMVariance_0        (time, x, y, IDLote) float64 nan nan nan nan ...\n",
       "    VV_GLCMVariance_16       (time, x, y, IDLote) float64 nan nan nan nan ...\n",
       "    VV_GLCMVariance_32       (time, x, y, IDLote) float64 nan nan nan nan ...\n",
       "    VV_GLCMVariance_n112     (time, x, y, IDLote) float64 nan nan nan nan ...\n",
       "    VV_GLCMVariance_n128     (time, x, y, IDLote) float64 nan nan nan nan ...\n",
       "    VV_GLCMVariance_n144     (time, x, y, IDLote) float64 nan nan nan nan ...\n",
       "    VV_GLCMVariance_n16      (time, x, y, IDLote) float64 nan nan nan nan ...\n",
       "    VV_GLCMVariance_n160     (time, x, y, IDLote) float64 nan nan nan nan ...\n",
       "    VV_GLCMVariance_n176     (time, x, y, IDLote) float64 nan nan nan nan ...\n",
       "    VV_GLCMVariance_n192     (time, x, y, IDLote) float64 nan nan nan nan ...\n",
       "    VV_GLCMVariance_n208     (time, x, y, IDLote) float64 nan nan nan nan ...\n",
       "    VV_GLCMVariance_n32      (time, x, y, IDLote) float64 nan nan nan nan ...\n",
       "    VV_GLCMVariance_n48      (time, x, y, IDLote) float64 nan nan nan nan ...\n",
       "    VV_GLCMVariance_n64      (time, x, y, IDLote) float64 nan nan nan nan ...\n",
       "    VV_GLCMVariance_n80      (time, x, y, IDLote) float64 nan nan nan nan ...\n",
       "    VV_GLCMVariance_n96      (time, x, y, IDLote) float64 nan nan nan nan ...\n",
       "    VV_Homogeneity_0         (time, x, y, IDLote) float64 nan nan nan nan ...\n",
       "    VV_Homogeneity_16        (time, x, y, IDLote) float64 nan nan nan nan ...\n",
       "    VV_Homogeneity_32        (time, x, y, IDLote) float64 nan nan nan nan ...\n",
       "    VV_Homogeneity_n112      (time, x, y, IDLote) float64 nan nan nan nan ...\n",
       "    VV_Homogeneity_n128      (time, x, y, IDLote) float64 nan nan nan nan ...\n",
       "    VV_Homogeneity_n144      (time, x, y, IDLote) float64 nan nan nan nan ...\n",
       "    VV_Homogeneity_n16       (time, x, y, IDLote) float64 nan nan nan nan ...\n",
       "    VV_Homogeneity_n160      (time, x, y, IDLote) float64 nan nan nan nan ...\n",
       "    VV_Homogeneity_n176      (time, x, y, IDLote) float64 nan nan nan nan ...\n",
       "    VV_Homogeneity_n192      (time, x, y, IDLote) float64 nan nan nan nan ...\n",
       "    VV_Homogeneity_n208      (time, x, y, IDLote) float64 nan nan nan nan ...\n",
       "    VV_Homogeneity_n32       (time, x, y, IDLote) float64 nan nan nan nan ...\n",
       "    VV_Homogeneity_n48       (time, x, y, IDLote) float64 nan nan nan nan ...\n",
       "    VV_Homogeneity_n64       (time, x, y, IDLote) float64 nan nan nan nan ...\n",
       "    VV_Homogeneity_n80       (time, x, y, IDLote) float64 nan nan nan nan ...\n",
       "    VV_Homogeneity_n96       (time, x, y, IDLote) float64 nan nan nan nan ...\n",
       "    VV_n112                  (time, x, y, IDLote) float64 nan nan nan nan ...\n",
       "    VV_n128                  (time, x, y, IDLote) float64 nan nan nan nan ...\n",
       "    VV_n144                  (time, x, y, IDLote) float64 nan nan nan nan ...\n",
       "    VV_n16                   (time, x, y, IDLote) float64 nan nan nan nan ...\n",
       "    VV_n160                  (time, x, y, IDLote) float64 nan nan nan nan ...\n",
       "    VV_n176                  (time, x, y, IDLote) float64 nan nan nan nan ...\n",
       "    VV_n192                  (time, x, y, IDLote) float64 nan nan nan nan ...\n",
       "    VV_n208                  (time, x, y, IDLote) float64 nan nan nan nan ...\n",
       "    VV_n32                   (time, x, y, IDLote) float64 nan nan nan nan ...\n",
       "    VV_n48                   (time, x, y, IDLote) float64 nan nan nan nan ...\n",
       "    VV_n64                   (time, x, y, IDLote) float64 nan nan nan nan ...\n",
       "    VV_n80                   (time, x, y, IDLote) float64 nan nan nan nan ...\n",
       "    VV_n96                   (time, x, y, IDLote) float64 nan nan nan nan ...\n",
       "    tt                       (time, x, y, IDLote) object nan nan nan nan nan ...\n",
       "    vclass                   (time, x, y, IDLote) float64 nan nan nan nan ...\n",
       "    __index_level_0__        (time, x, y, IDLote) float64 nan nan nan nan ...\n",
       "    predict                  (time, x, y, IDLote) float64 nan nan nan nan ..."
      ]
     },
     "execution_count": 57,
     "metadata": {},
     "output_type": "execute_result"
    }
   ],
   "source": [
    "xarr"
   ]
  },
  {
   "cell_type": "code",
   "execution_count": 59,
   "metadata": {},
   "outputs": [],
   "source": [
    "# Prepare to compare initial with prediction\n",
    "#original = sat_data_again['class'].isel(time=0).drop('time').drop('mask')\n",
    "predicted = xarr.isel(time=0,IDLote=0)['predict']\n",
    "test = xarr.isel(time=0,IDLote=0)['vclass']"
   ]
  },
  {
   "cell_type": "code",
   "execution_count": 79,
   "metadata": {},
   "outputs": [],
   "source": [
    "import matplotlib.pyplot as plt\n",
    "from datetime import datetime#as dt\n",
    "import xarray as xr\n",
    "import numpy as np\n",
    "import pandas as pd\n",
    "\n",
    "def compare_predictions(xarr):\n",
    "    \n",
    "    #prediction = model.predict(test_data)\n",
    "    \n",
    "    #print('Prediction accuracy: {}'.format((prediction==test_data['test']).as_data_frame(use_pandas=True).mean()[0]))\n",
    "    \n",
    "    #resulting_class_df = data_test.as_data_frame().join(prediction['predict'].as_data_frame())\n",
    "    \n",
    "    # Create MultiIndex from coordinates ## TODO include time!\n",
    "    #resulting_class_df.set_index(['time','x', 'y'], inplace=True)\n",
    "    \n",
    "    # Return to xarray\n",
    "    #xarr = xr.Dataset.from_dataframe(resulting_class_df).sortby('time')\n",
    "    #xarr['time'] = np.array([np.datetime64(pd.to_datetime(i, unit='us')) for i in xarr.time.values], dtype=np.datetime64)\n",
    "    \n",
    "    data_to_plot = []#[predicted, test]\n",
    "    tags = []#['predicted', 'ground_truth']\n",
    "\n",
    "    for lote in xarr.IDLote.values:#[0,1,2,3]:\n",
    "        predicted = xarr.sel(IDLote=lote)['predict']\n",
    "        test = xarr.sel(IDLote=lote)['vclass']\n",
    "        data_to_plot += [predicted, test]\n",
    "        tags += ['predicted '+str(lote), 'ground_truth '+str(lote)]\n",
    "\n",
    "    fig, axes = plt.subplots(nrows=5, ncols=4, figsize=(10, 25), sharex=False, sharey=False)\n",
    "    for idx, ax in enumerate(axes.flat):\n",
    "        im = ax.imshow(data_to_plot[idx],cmap='viridis',vmin=1,vmax=5,extent=[0.05,0.5,1,0.05],aspect=0.5)\n",
    "        ax.set_title(tags[idx])\n",
    "        \n",
    "    fig.subplots_adjust(right=0.8)\n",
    "    # put colorbar at desire position\n",
    "    cbar_ax = fig.add_axes([0.85, 0.25, 0.03, 0.5])\n",
    "    fig.colorbar(im, cax=cbar_ax)"
   ]
  },
  {
   "cell_type": "code",
   "execution_count": 80,
   "metadata": {},
   "outputs": [
    {
     "data": {
      "image/png": "[encoded data removed]",
      "text/plain": [
       "<Figure size 720x1800 with 21 Axes>"
      ]
     },
     "metadata": {},
     "output_type": "display_data"
    }
   ],
   "source": [
    "compare_predictions(xarr.isel(time=0))"
   ]
  },
  {
   "cell_type": "code",
   "execution_count": 99,
   "metadata": {},
   "outputs": [
    {
     "name": "stdout",
     "output_type": "stream",
     "text": [
      "H2O session _sid_9e7f closed.\n"
     ]
    }
   ],
   "source": [
    "# Close h2o cluster\n",
    "h2o.cluster().shutdown(prompt=False)"
   ]
  },
  {
   "cell_type": "code",
   "execution_count": null,
   "metadata": {},
   "outputs": [],
   "source": []
  },
  {
   "cell_type": "code",
   "execution_count": 70,
   "metadata": {},
   "outputs": [
    {
     "data": {
      "text/plain": [
       "<xarray.DataArray 'truediv-2c34bebbd12760ac852b9ca262399f6e' (sample: 100, feature: 10)>\n",
       "dask.array<shape=(100, 10), dtype=float64, chunksize=(10, 10)>\n",
       "Coordinates:\n",
       "  * sample   (sample) int64 0 1 2 3 4 5 6 7 8 9 10 11 12 13 14 15 16 17 18 ...\n",
       "  * feature  (feature) int64 0 1 2 3 4 5 6 7 8 9"
      ]
     },
     "execution_count": 70,
     "metadata": {},
     "output_type": "execute_result"
    }
   ],
   "source": [
    "from sklearn_xarray import wrap\n",
    "from dask_ml.preprocessing import StandardScaler\n",
    "import xarray as xr\n",
    "import numpy as np\n",
    "import dask.array as da\n",
    "\n",
    "X = xr.DataArray(\n",
    "        da.from_array(np.random.random((100, 10)), chunks=(10, 10)),\n",
    "        coords={'sample': range(100), 'feature': range(10)},\n",
    "        dims=('sample', 'feature')\n",
    "    )\n",
    "\n",
    "Xt = wrap(StandardScaler()).fit_transform(X)\n",
    "type(Xt.data)\n",
    "\n",
    "Xt"
   ]
  },
  {
   "cell_type": "markdown",
   "metadata": {},
   "source": [
    "## Rest of h2o.ai tutorial"
   ]
  },
  {
   "cell_type": "code",
   "execution_count": 81,
   "metadata": {},
   "outputs": [],
   "source": [
    "# Import H2O RF:\n",
    "from h2o.estimators.random_forest import H2ORandomForestEstimator\n",
    "from h2o.estimators.gbm import H2OGradientBoostingEstimator"
   ]
  },
  {
   "cell_type": "code",
   "execution_count": 82,
   "metadata": {},
   "outputs": [],
   "source": [
    "# Initialize the RF estimator:\n",
    "\n",
    "rf_fit1 = H2ORandomForestEstimator(model_id='rf_fit1', balance_classes = True, seed=1)\n",
    "\n",
    "\n",
    "# Initialize model\n",
    "#rf_v1 = H2ORandomForestEstimator(\n",
    "#    model_id=\"rf_covType_v1\",\n",
    "#    ntrees=500,\n",
    "#    stopping_rounds=2,\n",
    "#    score_each_iteration=True,\n",
    "#    seed=100)\n",
    "#gbm_fit1 = H2OGradientBoostingEstimator"
   ]
  },
  {
   "cell_type": "code",
   "execution_count": 83,
   "metadata": {},
   "outputs": [
    {
     "data": {
      "text/html": [
       "<table>\n",
       "<thead>\n",
       "<tr><th>IDLote  </th><th style=\"text-align: right;\">  NDVI_0</th><th style=\"text-align: right;\">  NDVI_16</th><th style=\"text-align: right;\">  NDVI_32</th><th style=\"text-align: right;\">  NDVI_n112</th><th style=\"text-align: right;\">  NDVI_n16</th><th style=\"text-align: right;\">  NDVI_n32</th><th style=\"text-align: right;\">  NDVI_n48</th><th style=\"text-align: right;\">  NDVI_n64</th><th style=\"text-align: right;\">  NDVI_n80</th><th style=\"text-align: right;\">  NDVI_n96</th><th style=\"text-align: right;\">     VV_0</th><th style=\"text-align: right;\">    VV_16</th><th style=\"text-align: right;\">  VV_32</th><th style=\"text-align: right;\">  VV_ASM_0</th><th style=\"text-align: right;\">  VV_ASM_16</th><th style=\"text-align: right;\">  VV_ASM_32</th><th style=\"text-align: right;\">  VV_ASM_n112</th><th style=\"text-align: right;\">  VV_ASM_n128</th><th style=\"text-align: right;\">  VV_ASM_n144</th><th style=\"text-align: right;\">  VV_ASM_n16</th><th style=\"text-align: right;\">  VV_ASM_n160</th><th style=\"text-align: right;\">  VV_ASM_n176</th><th style=\"text-align: right;\">  VV_ASM_n192</th><th style=\"text-align: right;\">  VV_ASM_n208</th><th style=\"text-align: right;\">  VV_ASM_n32</th><th style=\"text-align: right;\">  VV_ASM_n48</th><th style=\"text-align: right;\">  VV_ASM_n64</th><th style=\"text-align: right;\">  VV_ASM_n80</th><th style=\"text-align: right;\">  VV_ASM_n96</th><th style=\"text-align: right;\">  VV_Contrast_0</th><th style=\"text-align: right;\">  VV_Contrast_16</th><th style=\"text-align: right;\">  VV_Contrast_32</th><th style=\"text-align: right;\">  VV_Contrast_n112</th><th style=\"text-align: right;\">  VV_Contrast_n128</th><th style=\"text-align: right;\">  VV_Contrast_n144</th><th style=\"text-align: right;\">  VV_Contrast_n16</th><th style=\"text-align: right;\">  VV_Contrast_n160</th><th style=\"text-align: right;\">  VV_Contrast_n176</th><th style=\"text-align: right;\">  VV_Contrast_n192</th><th style=\"text-align: right;\">  VV_Contrast_n208</th><th style=\"text-align: right;\">  VV_Contrast_n32</th><th style=\"text-align: right;\">  VV_Contrast_n48</th><th style=\"text-align: right;\">  VV_Contrast_n64</th><th style=\"text-align: right;\">  VV_Contrast_n80</th><th style=\"text-align: right;\">  VV_Contrast_n96</th><th style=\"text-align: right;\">  VV_Dissimilarity_0</th><th style=\"text-align: right;\">  VV_Dissimilarity_16</th><th style=\"text-align: right;\">  VV_Dissimilarity_32</th><th style=\"text-align: right;\">  VV_Dissimilarity_n112</th><th style=\"text-align: right;\">  VV_Dissimilarity_n128</th><th style=\"text-align: right;\">  VV_Dissimilarity_n144</th><th style=\"text-align: right;\">  VV_Dissimilarity_n16</th><th style=\"text-align: right;\">  VV_Dissimilarity_n160</th><th style=\"text-align: right;\">  VV_Dissimilarity_n176</th><th style=\"text-align: right;\">  VV_Dissimilarity_n192</th><th style=\"text-align: right;\">  VV_Dissimilarity_n208</th><th style=\"text-align: right;\">  VV_Dissimilarity_n32</th><th style=\"text-align: right;\">  VV_Dissimilarity_n48</th><th style=\"text-align: right;\">  VV_Dissimilarity_n64</th><th style=\"text-align: right;\">  VV_Dissimilarity_n80</th><th style=\"text-align: right;\">  VV_Dissimilarity_n96</th><th style=\"text-align: right;\">  VV_Energy_0</th><th style=\"text-align: right;\">  VV_Energy_16</th><th style=\"text-align: right;\">  VV_Energy_32</th><th style=\"text-align: right;\">  VV_Energy_n112</th><th style=\"text-align: right;\">  VV_Energy_n128</th><th style=\"text-align: right;\">  VV_Energy_n144</th><th style=\"text-align: right;\">  VV_Energy_n16</th><th style=\"text-align: right;\">  VV_Energy_n160</th><th style=\"text-align: right;\">  VV_Energy_n176</th><th style=\"text-align: right;\">  VV_Energy_n192</th><th style=\"text-align: right;\">  VV_Energy_n208</th><th style=\"text-align: right;\">  VV_Energy_n32</th><th style=\"text-align: right;\">  VV_Energy_n48</th><th style=\"text-align: right;\">  VV_Energy_n64</th><th style=\"text-align: right;\">  VV_Energy_n80</th><th style=\"text-align: right;\">  VV_Energy_n96</th><th style=\"text-align: right;\">  VV_Entropy_0</th><th style=\"text-align: right;\">  VV_Entropy_16</th><th style=\"text-align: right;\">  VV_Entropy_32</th><th style=\"text-align: right;\">  VV_Entropy_n112</th><th style=\"text-align: right;\">  VV_Entropy_n128</th><th style=\"text-align: right;\">  VV_Entropy_n144</th><th style=\"text-align: right;\">  VV_Entropy_n16</th><th style=\"text-align: right;\">  VV_Entropy_n160</th><th style=\"text-align: right;\">  VV_Entropy_n176</th><th style=\"text-align: right;\">  VV_Entropy_n192</th><th style=\"text-align: right;\">  VV_Entropy_n208</th><th style=\"text-align: right;\">  VV_Entropy_n32</th><th style=\"text-align: right;\">  VV_Entropy_n48</th><th style=\"text-align: right;\">  VV_Entropy_n64</th><th style=\"text-align: right;\">  VV_Entropy_n80</th><th style=\"text-align: right;\">  VV_Entropy_n96</th><th style=\"text-align: right;\">  VV_GLCMCorrelation_0</th><th style=\"text-align: right;\">  VV_GLCMCorrelation_16</th><th style=\"text-align: right;\">  VV_GLCMCorrelation_32</th><th style=\"text-align: right;\">  VV_GLCMCorrelation_n112</th><th style=\"text-align: right;\">  VV_GLCMCorrelation_n128</th><th style=\"text-align: right;\">  VV_GLCMCorrelation_n144</th><th style=\"text-align: right;\">  VV_GLCMCorrelation_n16</th><th style=\"text-align: right;\">  VV_GLCMCorrelation_n160</th><th style=\"text-align: right;\">  VV_GLCMCorrelation_n176</th><th style=\"text-align: right;\">  VV_GLCMCorrelation_n192</th><th style=\"text-align: right;\">  VV_GLCMCorrelation_n208</th><th style=\"text-align: right;\">  VV_GLCMCorrelation_n32</th><th style=\"text-align: right;\">  VV_GLCMCorrelation_n48</th><th style=\"text-align: right;\">  VV_GLCMCorrelation_n64</th><th style=\"text-align: right;\">  VV_GLCMCorrelation_n80</th><th style=\"text-align: right;\">  VV_GLCMCorrelation_n96</th><th style=\"text-align: right;\">  VV_GLCMMean_0</th><th style=\"text-align: right;\">  VV_GLCMMean_16</th><th style=\"text-align: right;\">  VV_GLCMMean_32</th><th style=\"text-align: right;\">  VV_GLCMMean_n112</th><th style=\"text-align: right;\">  VV_GLCMMean_n128</th><th style=\"text-align: right;\">  VV_GLCMMean_n144</th><th style=\"text-align: right;\">  VV_GLCMMean_n16</th><th style=\"text-align: right;\">  VV_GLCMMean_n160</th><th style=\"text-align: right;\">  VV_GLCMMean_n176</th><th style=\"text-align: right;\">  VV_GLCMMean_n192</th><th style=\"text-align: right;\">  VV_GLCMMean_n208</th><th style=\"text-align: right;\">  VV_GLCMMean_n32</th><th style=\"text-align: right;\">  VV_GLCMMean_n48</th><th style=\"text-align: right;\">  VV_GLCMMean_n64</th><th style=\"text-align: right;\">  VV_GLCMMean_n80</th><th style=\"text-align: right;\">  VV_GLCMMean_n96</th><th style=\"text-align: right;\">  VV_GLCMVariance_0</th><th style=\"text-align: right;\">  VV_GLCMVariance_16</th><th style=\"text-align: right;\">  VV_GLCMVariance_32</th><th style=\"text-align: right;\">  VV_GLCMVariance_n112</th><th style=\"text-align: right;\">  VV_GLCMVariance_n128</th><th style=\"text-align: right;\">  VV_GLCMVariance_n144</th><th style=\"text-align: right;\">  VV_GLCMVariance_n16</th><th style=\"text-align: right;\">  VV_GLCMVariance_n160</th><th style=\"text-align: right;\">  VV_GLCMVariance_n176</th><th style=\"text-align: right;\">  VV_GLCMVariance_n192</th><th style=\"text-align: right;\">  VV_GLCMVariance_n208</th><th style=\"text-align: right;\">  VV_GLCMVariance_n32</th><th style=\"text-align: right;\">  VV_GLCMVariance_n48</th><th style=\"text-align: right;\">  VV_GLCMVariance_n64</th><th style=\"text-align: right;\">  VV_GLCMVariance_n80</th><th style=\"text-align: right;\">  VV_GLCMVariance_n96</th><th style=\"text-align: right;\">  VV_Homogeneity_0</th><th style=\"text-align: right;\">  VV_Homogeneity_16</th><th style=\"text-align: right;\">  VV_Homogeneity_32</th><th style=\"text-align: right;\">  VV_Homogeneity_n112</th><th style=\"text-align: right;\">  VV_Homogeneity_n128</th><th style=\"text-align: right;\">  VV_Homogeneity_n144</th><th style=\"text-align: right;\">  VV_Homogeneity_n16</th><th style=\"text-align: right;\">  VV_Homogeneity_n160</th><th style=\"text-align: right;\">  VV_Homogeneity_n176</th><th style=\"text-align: right;\">  VV_Homogeneity_n192</th><th style=\"text-align: right;\">  VV_Homogeneity_n208</th><th style=\"text-align: right;\">  VV_Homogeneity_n32</th><th style=\"text-align: right;\">  VV_Homogeneity_n48</th><th style=\"text-align: right;\">  VV_Homogeneity_n64</th><th style=\"text-align: right;\">  VV_Homogeneity_n80</th><th style=\"text-align: right;\">  VV_Homogeneity_n96</th><th style=\"text-align: right;\">  VV_n112</th><th style=\"text-align: right;\">  VV_n128</th><th style=\"text-align: right;\">  VV_n144</th><th style=\"text-align: right;\">   VV_n16</th><th style=\"text-align: right;\">  VV_n160</th><th style=\"text-align: right;\">  VV_n176</th><th style=\"text-align: right;\">  VV_n192</th><th style=\"text-align: right;\">  VV_n208</th><th style=\"text-align: right;\">  VV_n32</th><th style=\"text-align: right;\">  VV_n48</th><th style=\"text-align: right;\">  VV_n64</th><th style=\"text-align: right;\">   VV_n80</th><th style=\"text-align: right;\">   VV_n96</th><th style=\"text-align: right;\">       time</th><th>tt   </th><th style=\"text-align: right;\">  vclass</th><th style=\"text-align: right;\">     x</th><th style=\"text-align: right;\">     y</th><th style=\"text-align: right;\">  __index_level_0__</th></tr>\n",
       "</thead>\n",
       "<tbody>\n",
       "<tr><td>21C914  </td><td style=\"text-align: right;\">0.282755</td><td style=\"text-align: right;\"> 0.301326</td><td style=\"text-align: right;\">      nan</td><td style=\"text-align: right;\">        nan</td><td style=\"text-align: right;\">  0.237963</td><td style=\"text-align: right;\">  0.886977</td><td style=\"text-align: right;\">  1.08404 </td><td style=\"text-align: right;\">  0.884083</td><td style=\"text-align: right;\">  0.604007</td><td style=\"text-align: right;\">  0.401498</td><td style=\"text-align: right;\"> -6.81144</td><td style=\"text-align: right;\"> -9.50691</td><td style=\"text-align: right;\">    nan</td><td style=\"text-align: right;\">-0.0148192</td><td style=\"text-align: right;\"> -0.165639 </td><td style=\"text-align: right;\">        nan</td><td style=\"text-align: right;\">     2.70233 </td><td style=\"text-align: right;\">    0.233923 </td><td style=\"text-align: right;\">     0.359993</td><td style=\"text-align: right;\">   4.40326  </td><td style=\"text-align: right;\">     0.664309</td><td style=\"text-align: right;\">     1.75831 </td><td style=\"text-align: right;\">     0.571546</td><td style=\"text-align: right;\">          nan</td><td style=\"text-align: right;\">   -0.93358 </td><td style=\"text-align: right;\">    0.473584</td><td style=\"text-align: right;\">    0.421863</td><td style=\"text-align: right;\">    0.15936 </td><td style=\"text-align: right;\">    0.780442</td><td style=\"text-align: right;\">       41.8622 </td><td style=\"text-align: right;\">        16.8198 </td><td style=\"text-align: right;\">             nan</td><td style=\"text-align: right;\">          -3.06328</td><td style=\"text-align: right;\">         -10.1589 </td><td style=\"text-align: right;\">          78.8441 </td><td style=\"text-align: right;\">       -27.6502  </td><td style=\"text-align: right;\">          19.0516 </td><td style=\"text-align: right;\">       -36.933    </td><td style=\"text-align: right;\">          36.0568 </td><td style=\"text-align: right;\">               nan</td><td style=\"text-align: right;\">      135.991    </td><td style=\"text-align: right;\">          5.12496</td><td style=\"text-align: right;\">          9.14076</td><td style=\"text-align: right;\">         24.6476 </td><td style=\"text-align: right;\">          6.92442</td><td style=\"text-align: right;\">             7.53337</td><td style=\"text-align: right;\">              4.50843</td><td style=\"text-align: right;\">                  nan</td><td style=\"text-align: right;\">              -0.172035</td><td style=\"text-align: right;\">                1.3565 </td><td style=\"text-align: right;\">                9.7209 </td><td style=\"text-align: right;\">             -1.97151 </td><td style=\"text-align: right;\">               3.19976 </td><td style=\"text-align: right;\">              -3.68256 </td><td style=\"text-align: right;\">                6.47784</td><td style=\"text-align: right;\">                    nan</td><td style=\"text-align: right;\">            10.4025   </td><td style=\"text-align: right;\">              2.7044  </td><td style=\"text-align: right;\">               3.95341</td><td style=\"text-align: right;\">               4.91113</td><td style=\"text-align: right;\">               2.62751</td><td style=\"text-align: right;\">     0.403614</td><td style=\"text-align: right;\">      0.421322</td><td style=\"text-align: right;\">           nan</td><td style=\"text-align: right;\">        1.70697 </td><td style=\"text-align: right;\">        0.616559</td><td style=\"text-align: right;\">        0.555831</td><td style=\"text-align: right;\">       2.12353 </td><td style=\"text-align: right;\">        0.802769</td><td style=\"text-align: right;\">        1.42604 </td><td style=\"text-align: right;\">        0.722651</td><td style=\"text-align: right;\">             nan</td><td style=\"text-align: right;\">      -0.142388</td><td style=\"text-align: right;\">       0.631041</td><td style=\"text-align: right;\">       0.676203</td><td style=\"text-align: right;\">       0.526454</td><td style=\"text-align: right;\">       0.895009</td><td style=\"text-align: right;\">       4.65294</td><td style=\"text-align: right;\">        4.45107</td><td style=\"text-align: right;\">            nan</td><td style=\"text-align: right;\">        -0.586453</td><td style=\"text-align: right;\">          3.06791</td><td style=\"text-align: right;\">          4.06458</td><td style=\"text-align: right;\">       -1.96141 </td><td style=\"text-align: right;\">         2.60074 </td><td style=\"text-align: right;\">       -0.540986 </td><td style=\"text-align: right;\">          2.94295</td><td style=\"text-align: right;\">              nan</td><td style=\"text-align: right;\">       2.71806  </td><td style=\"text-align: right;\">         2.59412</td><td style=\"text-align: right;\">         3.69741</td><td style=\"text-align: right;\">        4.10838 </td><td style=\"text-align: right;\">        2.31707 </td><td style=\"text-align: right;\">              0.824696</td><td style=\"text-align: right;\">               0.874445</td><td style=\"text-align: right;\">                    nan</td><td style=\"text-align: right;\">                 0.9276  </td><td style=\"text-align: right;\">                 0.93371 </td><td style=\"text-align: right;\">                 0.565192</td><td style=\"text-align: right;\">                1.01165 </td><td style=\"text-align: right;\">                 0.837912</td><td style=\"text-align: right;\">                 1.14738 </td><td style=\"text-align: right;\">                 0.579383</td><td style=\"text-align: right;\">                      nan</td><td style=\"text-align: right;\">                0.198218</td><td style=\"text-align: right;\">                0.697833</td><td style=\"text-align: right;\">                0.901603</td><td style=\"text-align: right;\">                0.868479</td><td style=\"text-align: right;\">                0.991084</td><td style=\"text-align: right;\">       14.8682 </td><td style=\"text-align: right;\">        10.9121 </td><td style=\"text-align: right;\">             nan</td><td style=\"text-align: right;\">           2.62375</td><td style=\"text-align: right;\">           7.23629</td><td style=\"text-align: right;\">          10.0192 </td><td style=\"text-align: right;\">         -1.52636</td><td style=\"text-align: right;\">           5.2672 </td><td style=\"text-align: right;\">        -0.141424 </td><td style=\"text-align: right;\">           6.8101 </td><td style=\"text-align: right;\">               nan</td><td style=\"text-align: right;\">          19.1867</td><td style=\"text-align: right;\">          4.99048</td><td style=\"text-align: right;\">          7.86409</td><td style=\"text-align: right;\">          18.0371</td><td style=\"text-align: right;\">          29.7947</td><td style=\"text-align: right;\">           121.586 </td><td style=\"text-align: right;\">             70.8866</td><td style=\"text-align: right;\">                 nan</td><td style=\"text-align: right;\">              22.1279 </td><td style=\"text-align: right;\">               32.4738</td><td style=\"text-align: right;\">              83.3017 </td><td style=\"text-align: right;\">             -54.3141</td><td style=\"text-align: right;\">              25.5542 </td><td style=\"text-align: right;\">             -31.0305 </td><td style=\"text-align: right;\">              37.833  </td><td style=\"text-align: right;\">                   nan</td><td style=\"text-align: right;\">              285.999</td><td style=\"text-align: right;\">             13.8577 </td><td style=\"text-align: right;\">              35.1977</td><td style=\"text-align: right;\">             187.974 </td><td style=\"text-align: right;\">              428.365</td><td style=\"text-align: right;\">          0.448537</td><td style=\"text-align: right;\">          0.560812 </td><td style=\"text-align: right;\">                nan</td><td style=\"text-align: right;\">             1.89568 </td><td style=\"text-align: right;\">             1.05223 </td><td style=\"text-align: right;\">             0.408397</td><td style=\"text-align: right;\">            2.11421 </td><td style=\"text-align: right;\">             1.17585 </td><td style=\"text-align: right;\">              2.02134</td><td style=\"text-align: right;\">             0.708882</td><td style=\"text-align: right;\">                  nan</td><td style=\"text-align: right;\">           -0.139036</td><td style=\"text-align: right;\">            0.724973</td><td style=\"text-align: right;\">            0.659135</td><td style=\"text-align: right;\">            0.813096</td><td style=\"text-align: right;\">            1.07129 </td><td style=\"text-align: right;\">-13.8648 </td><td style=\"text-align: right;\">-11.8342 </td><td style=\"text-align: right;\"> -9.48158</td><td style=\"text-align: right;\">-11.6383 </td><td style=\"text-align: right;\"> -7.32976</td><td style=\"text-align: right;\"> -6.97554</td><td style=\"text-align: right;\">-10.8479 </td><td style=\"text-align: right;\">      nan</td><td style=\"text-align: right;\">-4.2545 </td><td style=\"text-align: right;\">-7.88563</td><td style=\"text-align: right;\">-8.4829 </td><td style=\"text-align: right;\"> -7.6292 </td><td style=\"text-align: right;\"> -8.97218</td><td style=\"text-align: right;\">1.45074e+15</td><td>train</td><td style=\"text-align: right;\">       5</td><td style=\"text-align: right;\">500365</td><td style=\"text-align: right;\">424425</td><td style=\"text-align: right;\">                 17</td></tr>\n",
       "<tr><td>21C914  </td><td style=\"text-align: right;\">0.282755</td><td style=\"text-align: right;\"> 0.301326</td><td style=\"text-align: right;\">      nan</td><td style=\"text-align: right;\">        nan</td><td style=\"text-align: right;\">  0.193397</td><td style=\"text-align: right;\">  0.886977</td><td style=\"text-align: right;\">  1.09538 </td><td style=\"text-align: right;\">  0.884083</td><td style=\"text-align: right;\">  0.604007</td><td style=\"text-align: right;\">  0.406834</td><td style=\"text-align: right;\"> -6.86128</td><td style=\"text-align: right;\"> -9.00174</td><td style=\"text-align: right;\">    nan</td><td style=\"text-align: right;\"> 0.0100946</td><td style=\"text-align: right;\">  0.0762765</td><td style=\"text-align: right;\">        nan</td><td style=\"text-align: right;\">     1.40857 </td><td style=\"text-align: right;\">    0.807748 </td><td style=\"text-align: right;\">     0.417219</td><td style=\"text-align: right;\">   4.39264  </td><td style=\"text-align: right;\">     1.32092 </td><td style=\"text-align: right;\">     1.93019 </td><td style=\"text-align: right;\">     0.396736</td><td style=\"text-align: right;\">          nan</td><td style=\"text-align: right;\">   -1.02158 </td><td style=\"text-align: right;\">    0.811305</td><td style=\"text-align: right;\">    0.342959</td><td style=\"text-align: right;\">    0.442501</td><td style=\"text-align: right;\">    1.19976 </td><td style=\"text-align: right;\">       43.3661 </td><td style=\"text-align: right;\">        15.1406 </td><td style=\"text-align: right;\">             nan</td><td style=\"text-align: right;\">           1.29101</td><td style=\"text-align: right;\">         -22.8436 </td><td style=\"text-align: right;\">          85.2746 </td><td style=\"text-align: right;\">       -16.5762  </td><td style=\"text-align: right;\">          19.7896 </td><td style=\"text-align: right;\">       -37.2263   </td><td style=\"text-align: right;\">          31.379  </td><td style=\"text-align: right;\">               nan</td><td style=\"text-align: right;\">       89.7299   </td><td style=\"text-align: right;\">         -1.05729</td><td style=\"text-align: right;\">         15.3158 </td><td style=\"text-align: right;\">         17.8536 </td><td style=\"text-align: right;\">          3.56329</td><td style=\"text-align: right;\">             7.22555</td><td style=\"text-align: right;\">              3.67134</td><td style=\"text-align: right;\">                  nan</td><td style=\"text-align: right;\">               1.36212 </td><td style=\"text-align: right;\">               -1.3294 </td><td style=\"text-align: right;\">               10.0481 </td><td style=\"text-align: right;\">             -1.23368 </td><td style=\"text-align: right;\">               2.96411 </td><td style=\"text-align: right;\">              -4.35005 </td><td style=\"text-align: right;\">                6.25228</td><td style=\"text-align: right;\">                    nan</td><td style=\"text-align: right;\">             7.81435  </td><td style=\"text-align: right;\">              0.652523</td><td style=\"text-align: right;\">               4.74206</td><td style=\"text-align: right;\">               4.60627</td><td style=\"text-align: right;\">               1.62347</td><td style=\"text-align: right;\">     0.424418</td><td style=\"text-align: right;\">      0.583668</td><td style=\"text-align: right;\">           nan</td><td style=\"text-align: right;\">        1.20414 </td><td style=\"text-align: right;\">        0.900154</td><td style=\"text-align: right;\">        0.625515</td><td style=\"text-align: right;\">       2.11713 </td><td style=\"text-align: right;\">        1.11183 </td><td style=\"text-align: right;\">        1.51571 </td><td style=\"text-align: right;\">        0.595766</td><td style=\"text-align: right;\">             nan</td><td style=\"text-align: right;\">      -0.195455</td><td style=\"text-align: right;\">       0.835587</td><td style=\"text-align: right;\">       0.588077</td><td style=\"text-align: right;\">       0.632156</td><td style=\"text-align: right;\">       1.08967 </td><td style=\"text-align: right;\">       4.51386</td><td style=\"text-align: right;\">        4.01102</td><td style=\"text-align: right;\">            nan</td><td style=\"text-align: right;\">         1.01625 </td><td style=\"text-align: right;\">          2.04682</td><td style=\"text-align: right;\">          3.51566</td><td style=\"text-align: right;\">       -1.90402 </td><td style=\"text-align: right;\">         1.72658 </td><td style=\"text-align: right;\">       -0.64093  </td><td style=\"text-align: right;\">          3.74919</td><td style=\"text-align: right;\">              nan</td><td style=\"text-align: right;\">       2.8827   </td><td style=\"text-align: right;\">         1.37961</td><td style=\"text-align: right;\">         4.17257</td><td style=\"text-align: right;\">        3.93844 </td><td style=\"text-align: right;\">        1.70548 </td><td style=\"text-align: right;\">              0.777773</td><td style=\"text-align: right;\">               0.940546</td><td style=\"text-align: right;\">                    nan</td><td style=\"text-align: right;\">                 0.710801</td><td style=\"text-align: right;\">                 1.07643 </td><td style=\"text-align: right;\">                 0.624504</td><td style=\"text-align: right;\">                0.983047</td><td style=\"text-align: right;\">                 0.881828</td><td style=\"text-align: right;\">                 1.18064 </td><td style=\"text-align: right;\">                 0.580016</td><td style=\"text-align: right;\">                      nan</td><td style=\"text-align: right;\">                0.250082</td><td style=\"text-align: right;\">                0.841094</td><td style=\"text-align: right;\">                0.903655</td><td style=\"text-align: right;\">                0.942038</td><td style=\"text-align: right;\">                1.01307 </td><td style=\"text-align: right;\">       13.2831 </td><td style=\"text-align: right;\">        12.7005 </td><td style=\"text-align: right;\">             nan</td><td style=\"text-align: right;\">           3.49207</td><td style=\"text-align: right;\">           5.40017</td><td style=\"text-align: right;\">          11.5067 </td><td style=\"text-align: right;\">         -2.21513</td><td style=\"text-align: right;\">           6.03844</td><td style=\"text-align: right;\">        -0.392564 </td><td style=\"text-align: right;\">           6.43698</td><td style=\"text-align: right;\">               nan</td><td style=\"text-align: right;\">          21.7726</td><td style=\"text-align: right;\">          4.14413</td><td style=\"text-align: right;\">          9.68784</td><td style=\"text-align: right;\">          17.1407</td><td style=\"text-align: right;\">          30.0817</td><td style=\"text-align: right;\">           105.005 </td><td style=\"text-align: right;\">             87.2775</td><td style=\"text-align: right;\">                 nan</td><td style=\"text-align: right;\">              28.483  </td><td style=\"text-align: right;\">               10.3563</td><td style=\"text-align: right;\">             105.78   </td><td style=\"text-align: right;\">             -66.0309</td><td style=\"text-align: right;\">              31.476  </td><td style=\"text-align: right;\">             -34.943  </td><td style=\"text-align: right;\">              32.7903 </td><td style=\"text-align: right;\">                   nan</td><td style=\"text-align: right;\">              332.825</td><td style=\"text-align: right;\">              6.21285</td><td style=\"text-align: right;\">              53.5213</td><td style=\"text-align: right;\">             184.639 </td><td style=\"text-align: right;\">              438.705</td><td style=\"text-align: right;\">          0.593164</td><td style=\"text-align: right;\">          0.870927 </td><td style=\"text-align: right;\">                nan</td><td style=\"text-align: right;\">             1.37    </td><td style=\"text-align: right;\">             1.67521 </td><td style=\"text-align: right;\">             0.432216</td><td style=\"text-align: right;\">            2.10454 </td><td style=\"text-align: right;\">             1.31181 </td><td style=\"text-align: right;\">              2.43092</td><td style=\"text-align: right;\">             0.560186</td><td style=\"text-align: right;\">                  nan</td><td style=\"text-align: right;\">           -0.286089</td><td style=\"text-align: right;\">            1.33382 </td><td style=\"text-align: right;\">            0.637972</td><td style=\"text-align: right;\">            0.823659</td><td style=\"text-align: right;\">            1.36669 </td><td style=\"text-align: right;\">-15.3164 </td><td style=\"text-align: right;\">-12.5327 </td><td style=\"text-align: right;\"> -9.46734</td><td style=\"text-align: right;\">-12.6504 </td><td style=\"text-align: right;\"> -8.23863</td><td style=\"text-align: right;\"> -8.99884</td><td style=\"text-align: right;\">-11.3877 </td><td style=\"text-align: right;\">      nan</td><td style=\"text-align: right;\">-3.40898</td><td style=\"text-align: right;\">-8.35145</td><td style=\"text-align: right;\">-9.38707</td><td style=\"text-align: right;\"> -7.43078</td><td style=\"text-align: right;\"> -8.60444</td><td style=\"text-align: right;\">1.45074e+15</td><td>train</td><td style=\"text-align: right;\">       5</td><td style=\"text-align: right;\">500365</td><td style=\"text-align: right;\">424415</td><td style=\"text-align: right;\">                 18</td></tr>\n",
       "<tr><td>21C908  </td><td style=\"text-align: right;\">0.810516</td><td style=\"text-align: right;\"> 0.628304</td><td style=\"text-align: right;\">      nan</td><td style=\"text-align: right;\">        nan</td><td style=\"text-align: right;\">  0.837052</td><td style=\"text-align: right;\">  0.819342</td><td style=\"text-align: right;\">  0.746166</td><td style=\"text-align: right;\">  0.642758</td><td style=\"text-align: right;\">  0.54431 </td><td style=\"text-align: right;\">  0.486017</td><td style=\"text-align: right;\">-11.3966 </td><td style=\"text-align: right;\">-10.0848 </td><td style=\"text-align: right;\">    nan</td><td style=\"text-align: right;\"> 0.0660112</td><td style=\"text-align: right;\"> -0.18408  </td><td style=\"text-align: right;\">        nan</td><td style=\"text-align: right;\">     0.796391</td><td style=\"text-align: right;\">    0.0798489</td><td style=\"text-align: right;\">     0.368647</td><td style=\"text-align: right;\">   3.70089  </td><td style=\"text-align: right;\">     0.72952 </td><td style=\"text-align: right;\">     1.87153 </td><td style=\"text-align: right;\">     0.733866</td><td style=\"text-align: right;\">          nan</td><td style=\"text-align: right;\">    2.27808 </td><td style=\"text-align: right;\">    0.292151</td><td style=\"text-align: right;\">    0.335033</td><td style=\"text-align: right;\">    0.250847</td><td style=\"text-align: right;\">    0.342158</td><td style=\"text-align: right;\">       15.8672 </td><td style=\"text-align: right;\">        43.9392 </td><td style=\"text-align: right;\">             nan</td><td style=\"text-align: right;\">          23.2321 </td><td style=\"text-align: right;\">          14.0756 </td><td style=\"text-align: right;\">           5.38156</td><td style=\"text-align: right;\">         0.302768</td><td style=\"text-align: right;\">           3.65071</td><td style=\"text-align: right;\">        -0.0536561</td><td style=\"text-align: right;\">           4.82695</td><td style=\"text-align: right;\">               nan</td><td style=\"text-align: right;\">       -0.667934 </td><td style=\"text-align: right;\">          7.7201 </td><td style=\"text-align: right;\">         72.328  </td><td style=\"text-align: right;\">         18.7612 </td><td style=\"text-align: right;\">        115.742  </td><td style=\"text-align: right;\">             4.67029</td><td style=\"text-align: right;\">              8.0943 </td><td style=\"text-align: right;\">                  nan</td><td style=\"text-align: right;\">               4.7468  </td><td style=\"text-align: right;\">                4.65982</td><td style=\"text-align: right;\">                2.87385</td><td style=\"text-align: right;\">              0.17269 </td><td style=\"text-align: right;\">               2.46814 </td><td style=\"text-align: right;\">               0.791939</td><td style=\"text-align: right;\">                2.15145</td><td style=\"text-align: right;\">                    nan</td><td style=\"text-align: right;\">            -0.694917 </td><td style=\"text-align: right;\">              3.29924 </td><td style=\"text-align: right;\">              10.5238 </td><td style=\"text-align: right;\">               3.98458</td><td style=\"text-align: right;\">              12.4792 </td><td style=\"text-align: right;\">     0.407305</td><td style=\"text-align: right;\">      0.255782</td><td style=\"text-align: right;\">           nan</td><td style=\"text-align: right;\">        0.907748</td><td style=\"text-align: right;\">        0.370334</td><td style=\"text-align: right;\">        0.606075</td><td style=\"text-align: right;\">       1.86903 </td><td style=\"text-align: right;\">        0.85656 </td><td style=\"text-align: right;\">        1.4148  </td><td style=\"text-align: right;\">        0.819236</td><td style=\"text-align: right;\">             nan</td><td style=\"text-align: right;\">       1.04461 </td><td style=\"text-align: right;\">       0.518053</td><td style=\"text-align: right;\">       0.587724</td><td style=\"text-align: right;\">       0.517926</td><td style=\"text-align: right;\">       0.58866 </td><td style=\"text-align: right;\">       4.79937</td><td style=\"text-align: right;\">        5.71814</td><td style=\"text-align: right;\">            nan</td><td style=\"text-align: right;\">         2.16823 </td><td style=\"text-align: right;\">          5.0283 </td><td style=\"text-align: right;\">          3.57231</td><td style=\"text-align: right;\">       -1.0519  </td><td style=\"text-align: right;\">         2.31333 </td><td style=\"text-align: right;\">       -0.0316586</td><td style=\"text-align: right;\">          2.7405 </td><td style=\"text-align: right;\">              nan</td><td style=\"text-align: right;\">      -1.56239  </td><td style=\"text-align: right;\">         3.08191</td><td style=\"text-align: right;\">         4.23105</td><td style=\"text-align: right;\">        4.2814  </td><td style=\"text-align: right;\">        3.83109 </td><td style=\"text-align: right;\">              0.809781</td><td style=\"text-align: right;\">               0.850084</td><td style=\"text-align: right;\">                    nan</td><td style=\"text-align: right;\">                 0.681861</td><td style=\"text-align: right;\">                 0.950327</td><td style=\"text-align: right;\">                 0.822999</td><td style=\"text-align: right;\">                0.962335</td><td style=\"text-align: right;\">                 0.751787</td><td style=\"text-align: right;\">                 0.793411</td><td style=\"text-align: right;\">                 0.931822</td><td style=\"text-align: right;\">                      nan</td><td style=\"text-align: right;\">                0.402124</td><td style=\"text-align: right;\">                0.725838</td><td style=\"text-align: right;\">                0.676987</td><td style=\"text-align: right;\">                0.915991</td><td style=\"text-align: right;\">                0.803441</td><td style=\"text-align: right;\">        9.45801</td><td style=\"text-align: right;\">        19.0128 </td><td style=\"text-align: right;\">             nan</td><td style=\"text-align: right;\">           6.79511</td><td style=\"text-align: right;\">          11.229  </td><td style=\"text-align: right;\">           5.13788</td><td style=\"text-align: right;\">         -3.62952</td><td style=\"text-align: right;\">           3.63144</td><td style=\"text-align: right;\">         0.131538 </td><td style=\"text-align: right;\">           8.32307</td><td style=\"text-align: right;\">               nan</td><td style=\"text-align: right;\">          25.3234</td><td style=\"text-align: right;\">          6.05166</td><td style=\"text-align: right;\">         12.8914 </td><td style=\"text-align: right;\">          10.3974</td><td style=\"text-align: right;\">          21.7083</td><td style=\"text-align: right;\">            59.4316</td><td style=\"text-align: right;\">            186.297 </td><td style=\"text-align: right;\">                 nan</td><td style=\"text-align: right;\">              37.5787 </td><td style=\"text-align: right;\">               70.6633</td><td style=\"text-align: right;\">              15.2607 </td><td style=\"text-align: right;\">             -89.8171</td><td style=\"text-align: right;\">               8.34029</td><td style=\"text-align: right;\">             -12.3091 </td><td style=\"text-align: right;\">              41.5414 </td><td style=\"text-align: right;\">                   nan</td><td style=\"text-align: right;\">              406.943</td><td style=\"text-align: right;\">             19.1056 </td><td style=\"text-align: right;\">             104.608 </td><td style=\"text-align: right;\">              83.9271</td><td style=\"text-align: right;\">              276.508</td><td style=\"text-align: right;\">          0.617769</td><td style=\"text-align: right;\">          0.360963 </td><td style=\"text-align: right;\">                nan</td><td style=\"text-align: right;\">             0.858438</td><td style=\"text-align: right;\">             0.462949</td><td style=\"text-align: right;\">             0.817312</td><td style=\"text-align: right;\">            1.88219 </td><td style=\"text-align: right;\">             0.881256</td><td style=\"text-align: right;\">              1.53095</td><td style=\"text-align: right;\">             1.17259 </td><td style=\"text-align: right;\">                  nan</td><td style=\"text-align: right;\">            1.03004 </td><td style=\"text-align: right;\">            0.563299</td><td style=\"text-align: right;\">            0.376925</td><td style=\"text-align: right;\">            0.8394  </td><td style=\"text-align: right;\">            0.357115</td><td style=\"text-align: right;\"> -6.41143</td><td style=\"text-align: right;\">-10.5768 </td><td style=\"text-align: right;\">-12.7515 </td><td style=\"text-align: right;\">-10.8919 </td><td style=\"text-align: right;\">-10.8387 </td><td style=\"text-align: right;\">-11.1324 </td><td style=\"text-align: right;\"> -9.91396</td><td style=\"text-align: right;\">      nan</td><td style=\"text-align: right;\">-3.77541</td><td style=\"text-align: right;\">-8.28994</td><td style=\"text-align: right;\">-7.39025</td><td style=\"text-align: right;\">-12.9211 </td><td style=\"text-align: right;\">-12.4887 </td><td style=\"text-align: right;\">1.45074e+15</td><td>train</td><td style=\"text-align: right;\">       4</td><td style=\"text-align: right;\">499705</td><td style=\"text-align: right;\">424295</td><td style=\"text-align: right;\">                  5</td></tr>\n",
       "<tr><td>21C908  </td><td style=\"text-align: right;\">0.810516</td><td style=\"text-align: right;\"> 0.628304</td><td style=\"text-align: right;\">      nan</td><td style=\"text-align: right;\">        nan</td><td style=\"text-align: right;\">  0.776896</td><td style=\"text-align: right;\">  0.819342</td><td style=\"text-align: right;\">  0.768076</td><td style=\"text-align: right;\">  0.642758</td><td style=\"text-align: right;\">  0.511445</td><td style=\"text-align: right;\">  0.442197</td><td style=\"text-align: right;\">-13.1445 </td><td style=\"text-align: right;\">-11.8793 </td><td style=\"text-align: right;\">    nan</td><td style=\"text-align: right;\"> 0.207612 </td><td style=\"text-align: right;\"> -0.18174  </td><td style=\"text-align: right;\">        nan</td><td style=\"text-align: right;\">     0.27084 </td><td style=\"text-align: right;\">    0.266621 </td><td style=\"text-align: right;\">     0.532564</td><td style=\"text-align: right;\">   4.3278   </td><td style=\"text-align: right;\">     2.06914 </td><td style=\"text-align: right;\">     4.31879 </td><td style=\"text-align: right;\">     0.887248</td><td style=\"text-align: right;\">          nan</td><td style=\"text-align: right;\">   -0.565193</td><td style=\"text-align: right;\">    0.617653</td><td style=\"text-align: right;\">    0.35492 </td><td style=\"text-align: right;\">    0.454648</td><td style=\"text-align: right;\">    0.454251</td><td style=\"text-align: right;\">        9.7098 </td><td style=\"text-align: right;\">        29.8924 </td><td style=\"text-align: right;\">             nan</td><td style=\"text-align: right;\">          23.2422 </td><td style=\"text-align: right;\">          38.6727 </td><td style=\"text-align: right;\">           4.65204</td><td style=\"text-align: right;\">        -7.61    </td><td style=\"text-align: right;\">           1.70308</td><td style=\"text-align: right;\">        -4.59486  </td><td style=\"text-align: right;\">           8.59708</td><td style=\"text-align: right;\">               nan</td><td style=\"text-align: right;\">       35.0255   </td><td style=\"text-align: right;\">          2.86524</td><td style=\"text-align: right;\">         38.5715 </td><td style=\"text-align: right;\">         17.4371 </td><td style=\"text-align: right;\">         70.7728 </td><td style=\"text-align: right;\">             3.59507</td><td style=\"text-align: right;\">              6.97412</td><td style=\"text-align: right;\">                  nan</td><td style=\"text-align: right;\">               5.78354 </td><td style=\"text-align: right;\">                6.33354</td><td style=\"text-align: right;\">                2.45456</td><td style=\"text-align: right;\">             -0.895837</td><td style=\"text-align: right;\">               0.886539</td><td style=\"text-align: right;\">              -1.36877 </td><td style=\"text-align: right;\">                3.14843</td><td style=\"text-align: right;\">                    nan</td><td style=\"text-align: right;\">             4.15137  </td><td style=\"text-align: right;\">              1.9899  </td><td style=\"text-align: right;\">               6.64347</td><td style=\"text-align: right;\">               5.161  </td><td style=\"text-align: right;\">              10.3743 </td><td style=\"text-align: right;\">     0.588267</td><td style=\"text-align: right;\">      0.397748</td><td style=\"text-align: right;\">           nan</td><td style=\"text-align: right;\">        0.518974</td><td style=\"text-align: right;\">        0.517964</td><td style=\"text-align: right;\">        0.731462</td><td style=\"text-align: right;\">       2.08448 </td><td style=\"text-align: right;\">        1.42079 </td><td style=\"text-align: right;\">        2.27748 </td><td style=\"text-align: right;\">        0.788474</td><td style=\"text-align: right;\">             nan</td><td style=\"text-align: right;\">       0.068253</td><td style=\"text-align: right;\">       0.725851</td><td style=\"text-align: right;\">       0.61051 </td><td style=\"text-align: right;\">       0.688611</td><td style=\"text-align: right;\">       0.675748</td><td style=\"text-align: right;\">       3.39879</td><td style=\"text-align: right;\">        4.51456</td><td style=\"text-align: right;\">            nan</td><td style=\"text-align: right;\">         4.12206 </td><td style=\"text-align: right;\">          4.1076 </td><td style=\"text-align: right;\">          2.96237</td><td style=\"text-align: right;\">       -1.79775 </td><td style=\"text-align: right;\">         0.474882</td><td style=\"text-align: right;\">       -2.37812  </td><td style=\"text-align: right;\">          3.16199</td><td style=\"text-align: right;\">              nan</td><td style=\"text-align: right;\">       1.68836  </td><td style=\"text-align: right;\">         2.11062</td><td style=\"text-align: right;\">         4.0542 </td><td style=\"text-align: right;\">        3.2988  </td><td style=\"text-align: right;\">        3.07786 </td><td style=\"text-align: right;\">              0.766464</td><td style=\"text-align: right;\">               0.826915</td><td style=\"text-align: right;\">                    nan</td><td style=\"text-align: right;\">                 0.694792</td><td style=\"text-align: right;\">                 0.699486</td><td style=\"text-align: right;\">                 0.734157</td><td style=\"text-align: right;\">                0.967963</td><td style=\"text-align: right;\">                 0.877507</td><td style=\"text-align: right;\">                 1.01145 </td><td style=\"text-align: right;\">                 0.889149</td><td style=\"text-align: right;\">                      nan</td><td style=\"text-align: right;\">                0.341765</td><td style=\"text-align: right;\">                0.778355</td><td style=\"text-align: right;\">                0.754816</td><td style=\"text-align: right;\">                0.994049</td><td style=\"text-align: right;\">                0.864951</td><td style=\"text-align: right;\">        6.54046</td><td style=\"text-align: right;\">        13.6347 </td><td style=\"text-align: right;\">             nan</td><td style=\"text-align: right;\">           8.14772</td><td style=\"text-align: right;\">           8.65127</td><td style=\"text-align: right;\">           3.81848</td><td style=\"text-align: right;\">         -3.18365</td><td style=\"text-align: right;\">           2.5839 </td><td style=\"text-align: right;\">        -0.328533 </td><td style=\"text-align: right;\">           7.34183</td><td style=\"text-align: right;\">               nan</td><td style=\"text-align: right;\">          22.9953</td><td style=\"text-align: right;\">          5.36029</td><td style=\"text-align: right;\">         10.6125 </td><td style=\"text-align: right;\">          12.7376</td><td style=\"text-align: right;\">          20.9727</td><td style=\"text-align: right;\">            32.8932</td><td style=\"text-align: right;\">            106.194 </td><td style=\"text-align: right;\">                 nan</td><td style=\"text-align: right;\">              46.6016 </td><td style=\"text-align: right;\">               56.8178</td><td style=\"text-align: right;\">               9.16343</td><td style=\"text-align: right;\">             -77.8202</td><td style=\"text-align: right;\">               4.89349</td><td style=\"text-align: right;\">             -12.7525 </td><td style=\"text-align: right;\">              34.0968 </td><td style=\"text-align: right;\">                   nan</td><td style=\"text-align: right;\">              353.548</td><td style=\"text-align: right;\">             13.3246 </td><td style=\"text-align: right;\">              69.1537</td><td style=\"text-align: right;\">              99.5822</td><td style=\"text-align: right;\">              241.248</td><td style=\"text-align: right;\">          0.761439</td><td style=\"text-align: right;\">          0.29798  </td><td style=\"text-align: right;\">                nan</td><td style=\"text-align: right;\">             0.52901 </td><td style=\"text-align: right;\">             0.707559</td><td style=\"text-align: right;\">             1.01817 </td><td style=\"text-align: right;\">            2.06216 </td><td style=\"text-align: right;\">             1.62044 </td><td style=\"text-align: right;\">              2.40204</td><td style=\"text-align: right;\">             0.930867</td><td style=\"text-align: right;\">                  nan</td><td style=\"text-align: right;\">            0.193659</td><td style=\"text-align: right;\">            0.890262</td><td style=\"text-align: right;\">            0.737589</td><td style=\"text-align: right;\">            0.454945</td><td style=\"text-align: right;\">            0.390479</td><td style=\"text-align: right;\"> -5.5697 </td><td style=\"text-align: right;\">-11.2423 </td><td style=\"text-align: right;\">-12.9706 </td><td style=\"text-align: right;\">-10.1062 </td><td style=\"text-align: right;\">-10.9242 </td><td style=\"text-align: right;\"> -9.73174</td><td style=\"text-align: right;\">-10.1313 </td><td style=\"text-align: right;\">      nan</td><td style=\"text-align: right;\">-4.31144</td><td style=\"text-align: right;\">-8.48137</td><td style=\"text-align: right;\">-6.60455</td><td style=\"text-align: right;\">-14.0588 </td><td style=\"text-align: right;\">-13.1783 </td><td style=\"text-align: right;\">1.45074e+15</td><td>train</td><td style=\"text-align: right;\">       4</td><td style=\"text-align: right;\">499715</td><td style=\"text-align: right;\">424305</td><td style=\"text-align: right;\">                 33</td></tr>\n",
       "<tr><td>21C908  </td><td style=\"text-align: right;\">0.810516</td><td style=\"text-align: right;\"> 0.628304</td><td style=\"text-align: right;\">      nan</td><td style=\"text-align: right;\">        nan</td><td style=\"text-align: right;\">  0.813878</td><td style=\"text-align: right;\">  0.819342</td><td style=\"text-align: right;\">  0.754622</td><td style=\"text-align: right;\">  0.642758</td><td style=\"text-align: right;\">  0.531627</td><td style=\"text-align: right;\">  0.469106</td><td style=\"text-align: right;\">-12.1821 </td><td style=\"text-align: right;\">-10.901  </td><td style=\"text-align: right;\">    nan</td><td style=\"text-align: right;\"> 0.139195 </td><td style=\"text-align: right;\"> -0.19645  </td><td style=\"text-align: right;\">        nan</td><td style=\"text-align: right;\">     0.251399</td><td style=\"text-align: right;\">    0.212562 </td><td style=\"text-align: right;\">     0.472756</td><td style=\"text-align: right;\">   4.03975  </td><td style=\"text-align: right;\">     1.06672 </td><td style=\"text-align: right;\">     2.34807 </td><td style=\"text-align: right;\">     0.708586</td><td style=\"text-align: right;\">          nan</td><td style=\"text-align: right;\">    0.760146</td><td style=\"text-align: right;\">    0.418528</td><td style=\"text-align: right;\">    0.347888</td><td style=\"text-align: right;\">    0.200056</td><td style=\"text-align: right;\">    0.191363</td><td style=\"text-align: right;\">       23.6635 </td><td style=\"text-align: right;\">        39.5426 </td><td style=\"text-align: right;\">             nan</td><td style=\"text-align: right;\">          13.5063 </td><td style=\"text-align: right;\">          30.9844 </td><td style=\"text-align: right;\">           4.48283</td><td style=\"text-align: right;\">         0.939614</td><td style=\"text-align: right;\">           2.80871</td><td style=\"text-align: right;\">        -4.48794  </td><td style=\"text-align: right;\">          11.0847 </td><td style=\"text-align: right;\">               nan</td><td style=\"text-align: right;\">        0.0362606</td><td style=\"text-align: right;\">          4.56709</td><td style=\"text-align: right;\">         29.6599 </td><td style=\"text-align: right;\">         25.1501 </td><td style=\"text-align: right;\">         64.3346 </td><td style=\"text-align: right;\">             5.69787</td><td style=\"text-align: right;\">              8.35556</td><td style=\"text-align: right;\">                  nan</td><td style=\"text-align: right;\">               4.35822 </td><td style=\"text-align: right;\">                6.13096</td><td style=\"text-align: right;\">                2.31943</td><td style=\"text-align: right;\">              0.153079</td><td style=\"text-align: right;\">               1.58798 </td><td style=\"text-align: right;\">              -0.482575</td><td style=\"text-align: right;\">                3.49218</td><td style=\"text-align: right;\">                    nan</td><td style=\"text-align: right;\">            -0.0704777</td><td style=\"text-align: right;\">              2.51832 </td><td style=\"text-align: right;\">               6.72817</td><td style=\"text-align: right;\">               5.72313</td><td style=\"text-align: right;\">               9.29277</td><td style=\"text-align: right;\">     0.514174</td><td style=\"text-align: right;\">      0.329071</td><td style=\"text-align: right;\">           nan</td><td style=\"text-align: right;\">        0.501462</td><td style=\"text-align: right;\">        0.467449</td><td style=\"text-align: right;\">        0.686568</td><td style=\"text-align: right;\">       1.96924 </td><td style=\"text-align: right;\">        1.03149 </td><td style=\"text-align: right;\">        1.61507 </td><td style=\"text-align: right;\">        0.778896</td><td style=\"text-align: right;\">             nan</td><td style=\"text-align: right;\">       0.604443</td><td style=\"text-align: right;\">       0.600921</td><td style=\"text-align: right;\">       0.605436</td><td style=\"text-align: right;\">       0.453699</td><td style=\"text-align: right;\">       0.438066</td><td style=\"text-align: right;\">       4.24043</td><td style=\"text-align: right;\">        5.1243 </td><td style=\"text-align: right;\">            nan</td><td style=\"text-align: right;\">         4.25211 </td><td style=\"text-align: right;\">          4.46589</td><td style=\"text-align: right;\">          3.2755 </td><td style=\"text-align: right;\">       -1.37884 </td><td style=\"text-align: right;\">         1.55233 </td><td style=\"text-align: right;\">       -0.662992 </td><td style=\"text-align: right;\">          2.95907</td><td style=\"text-align: right;\">              nan</td><td style=\"text-align: right;\">      -0.0766392</td><td style=\"text-align: right;\">         2.52667</td><td style=\"text-align: right;\">         3.92309</td><td style=\"text-align: right;\">        4.94534 </td><td style=\"text-align: right;\">        4.78121 </td><td style=\"text-align: right;\">              0.658815</td><td style=\"text-align: right;\">               0.796102</td><td style=\"text-align: right;\">                    nan</td><td style=\"text-align: right;\">                 0.816801</td><td style=\"text-align: right;\">                 0.808663</td><td style=\"text-align: right;\">                 0.801559</td><td style=\"text-align: right;\">                0.950929</td><td style=\"text-align: right;\">                 0.784385</td><td style=\"text-align: right;\">                 0.880951</td><td style=\"text-align: right;\">                 0.865438</td><td style=\"text-align: right;\">                      nan</td><td style=\"text-align: right;\">                0.383682</td><td style=\"text-align: right;\">                0.781892</td><td style=\"text-align: right;\">                0.799806</td><td style=\"text-align: right;\">                0.947505</td><td style=\"text-align: right;\">                0.885781</td><td style=\"text-align: right;\">        8.51324</td><td style=\"text-align: right;\">        16.8382 </td><td style=\"text-align: right;\">             nan</td><td style=\"text-align: right;\">           8.28182</td><td style=\"text-align: right;\">          10.0547 </td><td style=\"text-align: right;\">           4.51152</td><td style=\"text-align: right;\">         -3.6047 </td><td style=\"text-align: right;\">           2.96437</td><td style=\"text-align: right;\">        -0.029619 </td><td style=\"text-align: right;\">           7.78484</td><td style=\"text-align: right;\">               nan</td><td style=\"text-align: right;\">          25.0268</td><td style=\"text-align: right;\">          6.01167</td><td style=\"text-align: right;\">         10.1605 </td><td style=\"text-align: right;\">          14.2617</td><td style=\"text-align: right;\">          22.307 </td><td style=\"text-align: right;\">            53.1713</td><td style=\"text-align: right;\">            153.625 </td><td style=\"text-align: right;\">                 nan</td><td style=\"text-align: right;\">              45.1593 </td><td style=\"text-align: right;\">               68.1444</td><td style=\"text-align: right;\">              12.1495 </td><td style=\"text-align: right;\">             -88.0855</td><td style=\"text-align: right;\">               6.13477</td><td style=\"text-align: right;\">             -13.1807 </td><td style=\"text-align: right;\">              39.3009 </td><td style=\"text-align: right;\">                   nan</td><td style=\"text-align: right;\">              399.779</td><td style=\"text-align: right;\">             17.8508 </td><td style=\"text-align: right;\">              63.2063</td><td style=\"text-align: right;\">             122.803 </td><td style=\"text-align: right;\">              268.949</td><td style=\"text-align: right;\">          0.454257</td><td style=\"text-align: right;\">          0.0981849</td><td style=\"text-align: right;\">                nan</td><td style=\"text-align: right;\">             0.583416</td><td style=\"text-align: right;\">             0.469694</td><td style=\"text-align: right;\">             1.07505 </td><td style=\"text-align: right;\">            1.92601 </td><td style=\"text-align: right;\">             1.31343 </td><td style=\"text-align: right;\">              1.89086</td><td style=\"text-align: right;\">             0.935897</td><td style=\"text-align: right;\">                  nan</td><td style=\"text-align: right;\">            0.767165</td><td style=\"text-align: right;\">            0.69218 </td><td style=\"text-align: right;\">            0.518773</td><td style=\"text-align: right;\">            0.432165</td><td style=\"text-align: right;\">            0.34386 </td><td style=\"text-align: right;\"> -5.86167</td><td style=\"text-align: right;\">-10.9951 </td><td style=\"text-align: right;\">-13.3145 </td><td style=\"text-align: right;\">-10.5049 </td><td style=\"text-align: right;\">-11.574  </td><td style=\"text-align: right;\">-11.1779 </td><td style=\"text-align: right;\">-10.4071 </td><td style=\"text-align: right;\">      nan</td><td style=\"text-align: right;\">-4.04466</td><td style=\"text-align: right;\">-8.21252</td><td style=\"text-align: right;\">-6.99889</td><td style=\"text-align: right;\">-13.4569 </td><td style=\"text-align: right;\">-13.3548 </td><td style=\"text-align: right;\">1.45074e+15</td><td>train</td><td style=\"text-align: right;\">       4</td><td style=\"text-align: right;\">499715</td><td style=\"text-align: right;\">424295</td><td style=\"text-align: right;\">                 34</td></tr>\n",
       "<tr><td>21C908  </td><td style=\"text-align: right;\">0.810516</td><td style=\"text-align: right;\"> 0.628304</td><td style=\"text-align: right;\">      nan</td><td style=\"text-align: right;\">        nan</td><td style=\"text-align: right;\">  0.769221</td><td style=\"text-align: right;\">  0.819342</td><td style=\"text-align: right;\">  0.770918</td><td style=\"text-align: right;\">  0.642758</td><td style=\"text-align: right;\">  0.507182</td><td style=\"text-align: right;\">  0.436513</td><td style=\"text-align: right;\">-10.6589 </td><td style=\"text-align: right;\"> -8.7809 </td><td style=\"text-align: right;\">    nan</td><td style=\"text-align: right;\"> 0.0588199</td><td style=\"text-align: right;\"> -0.203683 </td><td style=\"text-align: right;\">        nan</td><td style=\"text-align: right;\">     0.376636</td><td style=\"text-align: right;\">    0.369338 </td><td style=\"text-align: right;\">     0.409592</td><td style=\"text-align: right;\">   3.83009  </td><td style=\"text-align: right;\">     0.895045</td><td style=\"text-align: right;\">     4.38031 </td><td style=\"text-align: right;\">     1.05054 </td><td style=\"text-align: right;\">          nan</td><td style=\"text-align: right;\">    1.71898 </td><td style=\"text-align: right;\">    0.252812</td><td style=\"text-align: right;\">    0.309128</td><td style=\"text-align: right;\">    0.183817</td><td style=\"text-align: right;\">    0.280298</td><td style=\"text-align: right;\">       42.3802 </td><td style=\"text-align: right;\">        29.5693 </td><td style=\"text-align: right;\">             nan</td><td style=\"text-align: right;\">           2.89171</td><td style=\"text-align: right;\">          35.7692 </td><td style=\"text-align: right;\">           5.15087</td><td style=\"text-align: right;\">         2.51679 </td><td style=\"text-align: right;\">           3.5903 </td><td style=\"text-align: right;\">       -15.4751   </td><td style=\"text-align: right;\">          32.0172 </td><td style=\"text-align: right;\">               nan</td><td style=\"text-align: right;\">       -0.237582 </td><td style=\"text-align: right;\">          6.72451</td><td style=\"text-align: right;\">         17.1932 </td><td style=\"text-align: right;\">         54.4947 </td><td style=\"text-align: right;\">         74.1622 </td><td style=\"text-align: right;\">             7.33218</td><td style=\"text-align: right;\">              7.21331</td><td style=\"text-align: right;\">                  nan</td><td style=\"text-align: right;\">               2.30684 </td><td style=\"text-align: right;\">                6.58251</td><td style=\"text-align: right;\">                2.44779</td><td style=\"text-align: right;\">              0.324224</td><td style=\"text-align: right;\">               1.59306 </td><td style=\"text-align: right;\">              -2.72198 </td><td style=\"text-align: right;\">                6.07033</td><td style=\"text-align: right;\">                    nan</td><td style=\"text-align: right;\">            -0.367388 </td><td style=\"text-align: right;\">              3.03316 </td><td style=\"text-align: right;\">               5.06907</td><td style=\"text-align: right;\">               8.87893</td><td style=\"text-align: right;\">              10.2564 </td><td style=\"text-align: right;\">     0.416893</td><td style=\"text-align: right;\">      0.269957</td><td style=\"text-align: right;\">           nan</td><td style=\"text-align: right;\">        0.616214</td><td style=\"text-align: right;\">        0.585909</td><td style=\"text-align: right;\">        0.633588</td><td style=\"text-align: right;\">       1.90372 </td><td style=\"text-align: right;\">        0.959839</td><td style=\"text-align: right;\">        2.262   </td><td style=\"text-align: right;\">        0.832168</td><td style=\"text-align: right;\">             nan</td><td style=\"text-align: right;\">       0.907924</td><td style=\"text-align: right;\">       0.478208</td><td style=\"text-align: right;\">       0.567881</td><td style=\"text-align: right;\">       0.435228</td><td style=\"text-align: right;\">       0.52958 </td><td style=\"text-align: right;\">       4.7015 </td><td style=\"text-align: right;\">        5.56624</td><td style=\"text-align: right;\">            nan</td><td style=\"text-align: right;\">         3.41164 </td><td style=\"text-align: right;\">          3.78187</td><td style=\"text-align: right;\">          3.55885</td><td style=\"text-align: right;\">       -1.20335 </td><td style=\"text-align: right;\">         1.7791  </td><td style=\"text-align: right;\">       -2.81169  </td><td style=\"text-align: right;\">          2.89533</td><td style=\"text-align: right;\">              nan</td><td style=\"text-align: right;\">      -1.02131  </td><td style=\"text-align: right;\">         3.3623 </td><td style=\"text-align: right;\">         4.24416</td><td style=\"text-align: right;\">        5.09136 </td><td style=\"text-align: right;\">        4.17185 </td><td style=\"text-align: right;\">              0.558566</td><td style=\"text-align: right;\">               0.803756</td><td style=\"text-align: right;\">                    nan</td><td style=\"text-align: right;\">                 0.956353</td><td style=\"text-align: right;\">                 0.769518</td><td style=\"text-align: right;\">                 0.788788</td><td style=\"text-align: right;\">                0.9438  </td><td style=\"text-align: right;\">                 0.830298</td><td style=\"text-align: right;\">                 1.11786 </td><td style=\"text-align: right;\">                 0.713363</td><td style=\"text-align: right;\">                      nan</td><td style=\"text-align: right;\">                0.392404</td><td style=\"text-align: right;\">                0.755052</td><td style=\"text-align: right;\">                0.949671</td><td style=\"text-align: right;\">                0.738356</td><td style=\"text-align: right;\">                0.82296 </td><td style=\"text-align: right;\">        9.50635</td><td style=\"text-align: right;\">        16.5354 </td><td style=\"text-align: right;\">             nan</td><td style=\"text-align: right;\">           7.98028</td><td style=\"text-align: right;\">           9.86555</td><td style=\"text-align: right;\">           4.66072</td><td style=\"text-align: right;\">         -3.53497</td><td style=\"text-align: right;\">           3.01635</td><td style=\"text-align: right;\">        -0.392111 </td><td style=\"text-align: right;\">           7.71701</td><td style=\"text-align: right;\">               nan</td><td style=\"text-align: right;\">          25.1757</td><td style=\"text-align: right;\">          6.01795</td><td style=\"text-align: right;\">         12.582  </td><td style=\"text-align: right;\">          13.3498</td><td style=\"text-align: right;\">          20.0793</td><td style=\"text-align: right;\">            67.2189</td><td style=\"text-align: right;\">            143.717 </td><td style=\"text-align: right;\">                 nan</td><td style=\"text-align: right;\">              38.2574 </td><td style=\"text-align: right;\">               64.0094</td><td style=\"text-align: right;\">              13.382  </td><td style=\"text-align: right;\">             -87.2938</td><td style=\"text-align: right;\">               6.74833</td><td style=\"text-align: right;\">             -17.657  </td><td style=\"text-align: right;\">              45.4677 </td><td style=\"text-align: right;\">                   nan</td><td style=\"text-align: right;\">              402.687</td><td style=\"text-align: right;\">             18.7098 </td><td style=\"text-align: right;\">              85.1266</td><td style=\"text-align: right;\">             116.816 </td><td style=\"text-align: right;\">              222.868</td><td style=\"text-align: right;\">          0.450546</td><td style=\"text-align: right;\">          0.0964761</td><td style=\"text-align: right;\">                nan</td><td style=\"text-align: right;\">             0.937469</td><td style=\"text-align: right;\">             0.55005 </td><td style=\"text-align: right;\">             1.04919 </td><td style=\"text-align: right;\">            1.9049  </td><td style=\"text-align: right;\">             1.35181 </td><td style=\"text-align: right;\">              2.49052</td><td style=\"text-align: right;\">             0.692968</td><td style=\"text-align: right;\">                  nan</td><td style=\"text-align: right;\">            0.907587</td><td style=\"text-align: right;\">            0.583165</td><td style=\"text-align: right;\">            0.596143</td><td style=\"text-align: right;\">            0.336431</td><td style=\"text-align: right;\">            0.327416</td><td style=\"text-align: right;\"> -3.34187</td><td style=\"text-align: right;\">-11.3547 </td><td style=\"text-align: right;\">-13.088  </td><td style=\"text-align: right;\">-10.8576 </td><td style=\"text-align: right;\">-14.4472 </td><td style=\"text-align: right;\">-14.2901 </td><td style=\"text-align: right;\"> -9.60989</td><td style=\"text-align: right;\">      nan</td><td style=\"text-align: right;\">-3.21768</td><td style=\"text-align: right;\">-7.39061</td><td style=\"text-align: right;\">-7.41644</td><td style=\"text-align: right;\">-12.1027 </td><td style=\"text-align: right;\">-12.764  </td><td style=\"text-align: right;\">1.45074e+15</td><td>train</td><td style=\"text-align: right;\">       4</td><td style=\"text-align: right;\">499715</td><td style=\"text-align: right;\">424285</td><td style=\"text-align: right;\">                 35</td></tr>\n",
       "<tr><td>21C908  </td><td style=\"text-align: right;\">0.76794 </td><td style=\"text-align: right;\"> 0.60707 </td><td style=\"text-align: right;\">      nan</td><td style=\"text-align: right;\">        nan</td><td style=\"text-align: right;\">  0.74352 </td><td style=\"text-align: right;\">  0.804184</td><td style=\"text-align: right;\">  0.749879</td><td style=\"text-align: right;\">  0.610959</td><td style=\"text-align: right;\">  0.47515 </td><td style=\"text-align: right;\">  0.430181</td><td style=\"text-align: right;\"> -9.20492</td><td style=\"text-align: right;\"> -7.49346</td><td style=\"text-align: right;\">    nan</td><td style=\"text-align: right;\"> 0.359663 </td><td style=\"text-align: right;\">  0.185103 </td><td style=\"text-align: right;\">        nan</td><td style=\"text-align: right;\">     0.337056</td><td style=\"text-align: right;\">    0.439819 </td><td style=\"text-align: right;\">     0.477204</td><td style=\"text-align: right;\">   1.88113  </td><td style=\"text-align: right;\">     1.6271  </td><td style=\"text-align: right;\">     4.78962 </td><td style=\"text-align: right;\">     1.02675 </td><td style=\"text-align: right;\">          nan</td><td style=\"text-align: right;\">    2.80572 </td><td style=\"text-align: right;\">    0.305582</td><td style=\"text-align: right;\">    0.268685</td><td style=\"text-align: right;\">    0.217347</td><td style=\"text-align: right;\">    0.243305</td><td style=\"text-align: right;\">       31.1492 </td><td style=\"text-align: right;\">        30.5701 </td><td style=\"text-align: right;\">             nan</td><td style=\"text-align: right;\">           7.30415</td><td style=\"text-align: right;\">          34.6649 </td><td style=\"text-align: right;\">           2.89751</td><td style=\"text-align: right;\">         2.36882 </td><td style=\"text-align: right;\">           3.82816</td><td style=\"text-align: right;\">       -29.442    </td><td style=\"text-align: right;\">          65.8598 </td><td style=\"text-align: right;\">               nan</td><td style=\"text-align: right;\">       -0.153884 </td><td style=\"text-align: right;\">          4.39754</td><td style=\"text-align: right;\">         38.4441 </td><td style=\"text-align: right;\">         33.6852 </td><td style=\"text-align: right;\">         63.6925 </td><td style=\"text-align: right;\">             5.79133</td><td style=\"text-align: right;\">              7.4917 </td><td style=\"text-align: right;\">                  nan</td><td style=\"text-align: right;\">               3.18378 </td><td style=\"text-align: right;\">                6.55171</td><td style=\"text-align: right;\">                2.13159</td><td style=\"text-align: right;\">              0.839792</td><td style=\"text-align: right;\">               1.19164 </td><td style=\"text-align: right;\">              -3.59796 </td><td style=\"text-align: right;\">                8.21537</td><td style=\"text-align: right;\">                    nan</td><td style=\"text-align: right;\">            -0.684407 </td><td style=\"text-align: right;\">              2.52877 </td><td style=\"text-align: right;\">               6.97518</td><td style=\"text-align: right;\">               6.55948</td><td style=\"text-align: right;\">               9.40152</td><td style=\"text-align: right;\">     0.599024</td><td style=\"text-align: right;\">      0.452574</td><td style=\"text-align: right;\">           nan</td><td style=\"text-align: right;\">        0.580005</td><td style=\"text-align: right;\">        0.635883</td><td style=\"text-align: right;\">        0.690379</td><td style=\"text-align: right;\">       1.36185 </td><td style=\"text-align: right;\">        1.25511 </td><td style=\"text-align: right;\">        2.41771 </td><td style=\"text-align: right;\">        0.823237</td><td style=\"text-align: right;\">             nan</td><td style=\"text-align: right;\">       1.19119 </td><td style=\"text-align: right;\">       0.535786</td><td style=\"text-align: right;\">       0.516248</td><td style=\"text-align: right;\">       0.464858</td><td style=\"text-align: right;\">       0.493854</td><td style=\"text-align: right;\">       3.63433</td><td style=\"text-align: right;\">        4.49133</td><td style=\"text-align: right;\">            nan</td><td style=\"text-align: right;\">         3.74807 </td><td style=\"text-align: right;\">          3.63078</td><td style=\"text-align: right;\">          3.00993</td><td style=\"text-align: right;\">        0.545317</td><td style=\"text-align: right;\">         0.924833</td><td style=\"text-align: right;\">       -3.1238   </td><td style=\"text-align: right;\">          3.0239 </td><td style=\"text-align: right;\">              nan</td><td style=\"text-align: right;\">      -1.99831  </td><td style=\"text-align: right;\">         2.87926</td><td style=\"text-align: right;\">         4.67303</td><td style=\"text-align: right;\">        4.81312 </td><td style=\"text-align: right;\">        4.33333 </td><td style=\"text-align: right;\">              0.616919</td><td style=\"text-align: right;\">               0.846997</td><td style=\"text-align: right;\">                    nan</td><td style=\"text-align: right;\">                 0.923502</td><td style=\"text-align: right;\">                 0.751521</td><td style=\"text-align: right;\">                 0.820756</td><td style=\"text-align: right;\">                0.843961</td><td style=\"text-align: right;\">                 0.852939</td><td style=\"text-align: right;\">                 1.14814 </td><td style=\"text-align: right;\">                 0.61892 </td><td style=\"text-align: right;\">                      nan</td><td style=\"text-align: right;\">                0.414007</td><td style=\"text-align: right;\">                0.782908</td><td style=\"text-align: right;\">                0.883143</td><td style=\"text-align: right;\">                0.820176</td><td style=\"text-align: right;\">                0.846023</td><td style=\"text-align: right;\">        9.15848</td><td style=\"text-align: right;\">        18.1785 </td><td style=\"text-align: right;\">             nan</td><td style=\"text-align: right;\">           9.29076</td><td style=\"text-align: right;\">           9.65711</td><td style=\"text-align: right;\">           4.1402 </td><td style=\"text-align: right;\">         -3.35469</td><td style=\"text-align: right;\">           2.65672</td><td style=\"text-align: right;\">        -1.0703   </td><td style=\"text-align: right;\">           9.19652</td><td style=\"text-align: right;\">               nan</td><td style=\"text-align: right;\">          25.2463</td><td style=\"text-align: right;\">          6.04636</td><td style=\"text-align: right;\">         14.0677 </td><td style=\"text-align: right;\">          12.3236</td><td style=\"text-align: right;\">          19.7758</td><td style=\"text-align: right;\">            59.9259</td><td style=\"text-align: right;\">            165.465 </td><td style=\"text-align: right;\">                 nan</td><td style=\"text-align: right;\">              49.3265 </td><td style=\"text-align: right;\">               62.9096</td><td style=\"text-align: right;\">               9.61687</td><td style=\"text-align: right;\">             -88.4746</td><td style=\"text-align: right;\">               5.92725</td><td style=\"text-align: right;\">             -27.8017 </td><td style=\"text-align: right;\">              70.037  </td><td style=\"text-align: right;\">                   nan</td><td style=\"text-align: right;\">              407.219</td><td style=\"text-align: right;\">             17.8008 </td><td style=\"text-align: right;\">             113.895 </td><td style=\"text-align: right;\">              94.5647</td><td style=\"text-align: right;\">              214.288</td><td style=\"text-align: right;\">          0.725288</td><td style=\"text-align: right;\">          0.0914882</td><td style=\"text-align: right;\">                nan</td><td style=\"text-align: right;\">             0.783205</td><td style=\"text-align: right;\">             0.593409</td><td style=\"text-align: right;\">             1.03831 </td><td style=\"text-align: right;\">            1.6153  </td><td style=\"text-align: right;\">             1.54049 </td><td style=\"text-align: right;\">              2.54271</td><td style=\"text-align: right;\">             0.665329</td><td style=\"text-align: right;\">                  nan</td><td style=\"text-align: right;\">            1.08611 </td><td style=\"text-align: right;\">            0.685945</td><td style=\"text-align: right;\">            0.574691</td><td style=\"text-align: right;\">            0.591664</td><td style=\"text-align: right;\">            0.279253</td><td style=\"text-align: right;\"> -3.50441</td><td style=\"text-align: right;\">-10.4064 </td><td style=\"text-align: right;\">-11.7838 </td><td style=\"text-align: right;\">-10.1129 </td><td style=\"text-align: right;\">-13.0481 </td><td style=\"text-align: right;\">-14.8503 </td><td style=\"text-align: right;\"> -8.33155</td><td style=\"text-align: right;\">      nan</td><td style=\"text-align: right;\">-2.6691 </td><td style=\"text-align: right;\">-6.65426</td><td style=\"text-align: right;\">-6.40113</td><td style=\"text-align: right;\">-11.3797 </td><td style=\"text-align: right;\">-11.991  </td><td style=\"text-align: right;\">1.45074e+15</td><td>train</td><td style=\"text-align: right;\">       4</td><td style=\"text-align: right;\">499715</td><td style=\"text-align: right;\">424275</td><td style=\"text-align: right;\">                 36</td></tr>\n",
       "<tr><td>21D813A </td><td style=\"text-align: right;\">0.679389</td><td style=\"text-align: right;\"> 0.493976</td><td style=\"text-align: right;\">      nan</td><td style=\"text-align: right;\">        nan</td><td style=\"text-align: right;\">  0.938057</td><td style=\"text-align: right;\">  0.788982</td><td style=\"text-align: right;\">  0.707317</td><td style=\"text-align: right;\">  0.628156</td><td style=\"text-align: right;\">  0.524772</td><td style=\"text-align: right;\">  0.41679 </td><td style=\"text-align: right;\"> -7.77754</td><td style=\"text-align: right;\"> -6.0958 </td><td style=\"text-align: right;\">    nan</td><td style=\"text-align: right;\"> 0.41084  </td><td style=\"text-align: right;\">  0.228707 </td><td style=\"text-align: right;\">        nan</td><td style=\"text-align: right;\">     0.369458</td><td style=\"text-align: right;\">    0.541479 </td><td style=\"text-align: right;\">     0.327589</td><td style=\"text-align: right;\">   0.412996 </td><td style=\"text-align: right;\">     0.447289</td><td style=\"text-align: right;\">     0.573128</td><td style=\"text-align: right;\">     0.330634</td><td style=\"text-align: right;\">          nan</td><td style=\"text-align: right;\">    2.69625 </td><td style=\"text-align: right;\">    0.3047  </td><td style=\"text-align: right;\">    0.312718</td><td style=\"text-align: right;\">    0.32108 </td><td style=\"text-align: right;\">    0.263699</td><td style=\"text-align: right;\">       18.2132 </td><td style=\"text-align: right;\">        83.9297 </td><td style=\"text-align: right;\">             nan</td><td style=\"text-align: right;\">          12.8786 </td><td style=\"text-align: right;\">          12.0421 </td><td style=\"text-align: right;\">          16.7523 </td><td style=\"text-align: right;\">        19.2886  </td><td style=\"text-align: right;\">           6.77828</td><td style=\"text-align: right;\">       -16.1982   </td><td style=\"text-align: right;\">          41.3829 </td><td style=\"text-align: right;\">               nan</td><td style=\"text-align: right;\">       -6.1905   </td><td style=\"text-align: right;\">          3.13824</td><td style=\"text-align: right;\">         21.3525 </td><td style=\"text-align: right;\">         32.0575 </td><td style=\"text-align: right;\">         89.3085 </td><td style=\"text-align: right;\">             4.52098</td><td style=\"text-align: right;\">             10.6786 </td><td style=\"text-align: right;\">                  nan</td><td style=\"text-align: right;\">               3.7386  </td><td style=\"text-align: right;\">                2.90334</td><td style=\"text-align: right;\">                4.59742</td><td style=\"text-align: right;\">              4.77881 </td><td style=\"text-align: right;\">               2.68097 </td><td style=\"text-align: right;\">              -0.990417</td><td style=\"text-align: right;\">                7.73868</td><td style=\"text-align: right;\">                    nan</td><td style=\"text-align: right;\">            -1.63799  </td><td style=\"text-align: right;\">              1.98125 </td><td style=\"text-align: right;\">               5.70281</td><td style=\"text-align: right;\">               5.86212</td><td style=\"text-align: right;\">              11.7968 </td><td style=\"text-align: right;\">     0.607031</td><td style=\"text-align: right;\">      0.396283</td><td style=\"text-align: right;\">           nan</td><td style=\"text-align: right;\">        0.60754 </td><td style=\"text-align: right;\">        0.741005</td><td style=\"text-align: right;\">        0.570244</td><td style=\"text-align: right;\">       0.762479</td><td style=\"text-align: right;\">        0.666127</td><td style=\"text-align: right;\">        0.768615</td><td style=\"text-align: right;\">        0.573273</td><td style=\"text-align: right;\">             nan</td><td style=\"text-align: right;\">       1.22647 </td><td style=\"text-align: right;\">       0.533658</td><td style=\"text-align: right;\">       0.562318</td><td style=\"text-align: right;\">       0.569342</td><td style=\"text-align: right;\">       0.513655</td><td style=\"text-align: right;\">       3.77261</td><td style=\"text-align: right;\">        5.05609</td><td style=\"text-align: right;\">            nan</td><td style=\"text-align: right;\">         3.51538 </td><td style=\"text-align: right;\">          3.15657</td><td style=\"text-align: right;\">          3.93856</td><td style=\"text-align: right;\">        2.70571 </td><td style=\"text-align: right;\">         3.22106 </td><td style=\"text-align: right;\">        2.45441  </td><td style=\"text-align: right;\">          3.80741</td><td style=\"text-align: right;\">              nan</td><td style=\"text-align: right;\">      -2.08411  </td><td style=\"text-align: right;\">         3.04535</td><td style=\"text-align: right;\">         4.30403</td><td style=\"text-align: right;\">        4.18622 </td><td style=\"text-align: right;\">        4.19293 </td><td style=\"text-align: right;\">              0.897967</td><td style=\"text-align: right;\">               0.84178 </td><td style=\"text-align: right;\">                    nan</td><td style=\"text-align: right;\">                 0.61279 </td><td style=\"text-align: right;\">                 0.955693</td><td style=\"text-align: right;\">                 0.783818</td><td style=\"text-align: right;\">                0.306601</td><td style=\"text-align: right;\">                 0.839027</td><td style=\"text-align: right;\">                 0.823418</td><td style=\"text-align: right;\">                 0.770334</td><td style=\"text-align: right;\">                      nan</td><td style=\"text-align: right;\">                0.576652</td><td style=\"text-align: right;\">                0.805386</td><td style=\"text-align: right;\">                0.925049</td><td style=\"text-align: right;\">                0.876376</td><td style=\"text-align: right;\">                0.869355</td><td style=\"text-align: right;\">       11.5535 </td><td style=\"text-align: right;\">        20.5892 </td><td style=\"text-align: right;\">             nan</td><td style=\"text-align: right;\">           3.97797</td><td style=\"text-align: right;\">          11.5542 </td><td style=\"text-align: right;\">           8.04695</td><td style=\"text-align: right;\">         -1.12874</td><td style=\"text-align: right;\">           5.04435</td><td style=\"text-align: right;\">        -0.497053 </td><td style=\"text-align: right;\">          11.7329 </td><td style=\"text-align: right;\">               nan</td><td style=\"text-align: right;\">          24.595 </td><td style=\"text-align: right;\">          6.08506</td><td style=\"text-align: right;\">         12.2799 </td><td style=\"text-align: right;\">          11.7067</td><td style=\"text-align: right;\">          23.7345</td><td style=\"text-align: right;\">            79.7682</td><td style=\"text-align: right;\">            236.051 </td><td style=\"text-align: right;\">                 nan</td><td style=\"text-align: right;\">              20.2975 </td><td style=\"text-align: right;\">               72.4539</td><td style=\"text-align: right;\">              38.5915 </td><td style=\"text-align: right;\">             -74.2626</td><td style=\"text-align: right;\">              18.3837 </td><td style=\"text-align: right;\">             -33.8828 </td><td style=\"text-align: right;\">              89.3007 </td><td style=\"text-align: right;\">                   nan</td><td style=\"text-align: right;\">              400.447</td><td style=\"text-align: right;\">             18.3099 </td><td style=\"text-align: right;\">              80.6574</td><td style=\"text-align: right;\">             105.102 </td><td style=\"text-align: right;\">              303.323</td><td style=\"text-align: right;\">          0.767614</td><td style=\"text-align: right;\">          0.288151 </td><td style=\"text-align: right;\">                nan</td><td style=\"text-align: right;\">             0.811583</td><td style=\"text-align: right;\">             1.11656 </td><td style=\"text-align: right;\">             0.700706</td><td style=\"text-align: right;\">            0.774307</td><td style=\"text-align: right;\">             0.986595</td><td style=\"text-align: right;\">              1.50738</td><td style=\"text-align: right;\">             0.407313</td><td style=\"text-align: right;\">                  nan</td><td style=\"text-align: right;\">            1.20171 </td><td style=\"text-align: right;\">            0.862984</td><td style=\"text-align: right;\">            0.519962</td><td style=\"text-align: right;\">            0.666435</td><td style=\"text-align: right;\">            0.261426</td><td style=\"text-align: right;\">-11.0827 </td><td style=\"text-align: right;\"> -9.39919</td><td style=\"text-align: right;\"> -9.53203</td><td style=\"text-align: right;\">-12.1743 </td><td style=\"text-align: right;\"> -9.1995 </td><td style=\"text-align: right;\">-10.0099 </td><td style=\"text-align: right;\"> -7.41652</td><td style=\"text-align: right;\">      nan</td><td style=\"text-align: right;\">-1.8461 </td><td style=\"text-align: right;\">-7.01559</td><td style=\"text-align: right;\">-8.27629</td><td style=\"text-align: right;\">-10.3898 </td><td style=\"text-align: right;\">-10.2133 </td><td style=\"text-align: right;\">1.45074e+15</td><td>train</td><td style=\"text-align: right;\">       4</td><td style=\"text-align: right;\">502425</td><td style=\"text-align: right;\">424755</td><td style=\"text-align: right;\">                 26</td></tr>\n",
       "<tr><td>21D823  </td><td style=\"text-align: right;\">0.8434  </td><td style=\"text-align: right;\"> 0.752786</td><td style=\"text-align: right;\">      nan</td><td style=\"text-align: right;\">        nan</td><td style=\"text-align: right;\">  0.848867</td><td style=\"text-align: right;\">  0.408234</td><td style=\"text-align: right;\">  0.384102</td><td style=\"text-align: right;\">  0.30568 </td><td style=\"text-align: right;\">  0.138049</td><td style=\"text-align: right;\">  0.051291</td><td style=\"text-align: right;\">-12.439  </td><td style=\"text-align: right;\">-12.1034 </td><td style=\"text-align: right;\">    nan</td><td style=\"text-align: right;\"> 0.144504 </td><td style=\"text-align: right;\"> -0.332484 </td><td style=\"text-align: right;\">        nan</td><td style=\"text-align: right;\">     2.65265 </td><td style=\"text-align: right;\">    0.7326   </td><td style=\"text-align: right;\">     0.563537</td><td style=\"text-align: right;\">   3.84328  </td><td style=\"text-align: right;\">     3.5037  </td><td style=\"text-align: right;\">     3.87009 </td><td style=\"text-align: right;\">     1.1722  </td><td style=\"text-align: right;\">          nan</td><td style=\"text-align: right;\">    1.73319 </td><td style=\"text-align: right;\">    0.181483</td><td style=\"text-align: right;\">    0.152544</td><td style=\"text-align: right;\">    1.24843 </td><td style=\"text-align: right;\">    0.143929</td><td style=\"text-align: right;\">        7.89331</td><td style=\"text-align: right;\">         8.26714</td><td style=\"text-align: right;\">             nan</td><td style=\"text-align: right;\">           0.66976</td><td style=\"text-align: right;\">           4.71533</td><td style=\"text-align: right;\">          19.3183 </td><td style=\"text-align: right;\">         0.291021</td><td style=\"text-align: right;\">           4.1627 </td><td style=\"text-align: right;\">        -5.69594  </td><td style=\"text-align: right;\">           1.53208</td><td style=\"text-align: right;\">               nan</td><td style=\"text-align: right;\">       -2.29718  </td><td style=\"text-align: right;\">         10.5236 </td><td style=\"text-align: right;\">         22.452  </td><td style=\"text-align: right;\">          2.48886</td><td style=\"text-align: right;\">         30.0111 </td><td style=\"text-align: right;\">             3.32278</td><td style=\"text-align: right;\">              3.39268</td><td style=\"text-align: right;\">                  nan</td><td style=\"text-align: right;\">               0.292456</td><td style=\"text-align: right;\">                2.48807</td><td style=\"text-align: right;\">                4.62265</td><td style=\"text-align: right;\">              0.112953</td><td style=\"text-align: right;\">               0.946983</td><td style=\"text-align: right;\">              -1.12856 </td><td style=\"text-align: right;\">                1.18665</td><td style=\"text-align: right;\">                    nan</td><td style=\"text-align: right;\">            -0.787487 </td><td style=\"text-align: right;\">              3.85779 </td><td style=\"text-align: right;\">               6.10382</td><td style=\"text-align: right;\">               1.53566</td><td style=\"text-align: right;\">               6.79866</td><td style=\"text-align: right;\">     0.504114</td><td style=\"text-align: right;\">      0.256073</td><td style=\"text-align: right;\">           nan</td><td style=\"text-align: right;\">        1.66849 </td><td style=\"text-align: right;\">        0.779006</td><td style=\"text-align: right;\">        0.716959</td><td style=\"text-align: right;\">       1.91359 </td><td style=\"text-align: right;\">        1.78721 </td><td style=\"text-align: right;\">        2.08944 </td><td style=\"text-align: right;\">        1.08224 </td><td style=\"text-align: right;\">             nan</td><td style=\"text-align: right;\">       0.92656 </td><td style=\"text-align: right;\">       0.403258</td><td style=\"text-align: right;\">       0.489777</td><td style=\"text-align: right;\">       1.14006 </td><td style=\"text-align: right;\">       0.455619</td><td style=\"text-align: right;\">       4.03658</td><td style=\"text-align: right;\">        5.19012</td><td style=\"text-align: right;\">            nan</td><td style=\"text-align: right;\">        -0.384407</td><td style=\"text-align: right;\">          2.92446</td><td style=\"text-align: right;\">          3.11341</td><td style=\"text-align: right;\">       -1.26265 </td><td style=\"text-align: right;\">        -0.592113</td><td style=\"text-align: right;\">       -1.89762  </td><td style=\"text-align: right;\">          1.38486</td><td style=\"text-align: right;\">              nan</td><td style=\"text-align: right;\">      -1.1671   </td><td style=\"text-align: right;\">         3.91156</td><td style=\"text-align: right;\">         4.58905</td><td style=\"text-align: right;\">        0.969729</td><td style=\"text-align: right;\">        4.42319 </td><td style=\"text-align: right;\">              0.765566</td><td style=\"text-align: right;\">               0.822144</td><td style=\"text-align: right;\">                    nan</td><td style=\"text-align: right;\">                 0.925072</td><td style=\"text-align: right;\">                 0.928279</td><td style=\"text-align: right;\">                 0.694259</td><td style=\"text-align: right;\">                0.959452</td><td style=\"text-align: right;\">                 0.944568</td><td style=\"text-align: right;\">                 1.0013  </td><td style=\"text-align: right;\">                 0.920634</td><td style=\"text-align: right;\">                      nan</td><td style=\"text-align: right;\">                0.39533 </td><td style=\"text-align: right;\">                0.7501  </td><td style=\"text-align: right;\">                0.772378</td><td style=\"text-align: right;\">                0.984812</td><td style=\"text-align: right;\">                0.890027</td><td style=\"text-align: right;\">        6.44987</td><td style=\"text-align: right;\">         8.79847</td><td style=\"text-align: right;\">             nan</td><td style=\"text-align: right;\">           2.21249</td><td style=\"text-align: right;\">           6.84773</td><td style=\"text-align: right;\">           6.35266</td><td style=\"text-align: right;\">         -3.6617 </td><td style=\"text-align: right;\">           2.85908</td><td style=\"text-align: right;\">         0.372784 </td><td style=\"text-align: right;\">           3.97488</td><td style=\"text-align: right;\">               nan</td><td style=\"text-align: right;\">          24.7935</td><td style=\"text-align: right;\">          7.39977</td><td style=\"text-align: right;\">          9.29521</td><td style=\"text-align: right;\">           5.7953</td><td style=\"text-align: right;\">          15.4778</td><td style=\"text-align: right;\">            32.9844</td><td style=\"text-align: right;\">             58.0147</td><td style=\"text-align: right;\">                 nan</td><td style=\"text-align: right;\">               6.81677</td><td style=\"text-align: right;\">               26.0152</td><td style=\"text-align: right;\">              29.0144 </td><td style=\"text-align: right;\">             -88.9127</td><td style=\"text-align: right;\">               7.78644</td><td style=\"text-align: right;\">              -7.69909</td><td style=\"text-align: right;\">               8.93956</td><td style=\"text-align: right;\">                   nan</td><td style=\"text-align: right;\">              400.168</td><td style=\"text-align: right;\">             31.9575 </td><td style=\"text-align: right;\">              49.3939</td><td style=\"text-align: right;\">              35.8794</td><td style=\"text-align: right;\">              134.632</td><td style=\"text-align: right;\">          0.78081 </td><td style=\"text-align: right;\">          0.801709 </td><td style=\"text-align: right;\">                nan</td><td style=\"text-align: right;\">             1.87084 </td><td style=\"text-align: right;\">             1.00398 </td><td style=\"text-align: right;\">             0.7741  </td><td style=\"text-align: right;\">            1.90647 </td><td style=\"text-align: right;\">             1.7654  </td><td style=\"text-align: right;\">              2.22496</td><td style=\"text-align: right;\">             1.43234 </td><td style=\"text-align: right;\">                  nan</td><td style=\"text-align: right;\">            0.993133</td><td style=\"text-align: right;\">            0.43161 </td><td style=\"text-align: right;\">            0.498951</td><td style=\"text-align: right;\">            1.3141  </td><td style=\"text-align: right;\">            0.409498</td><td style=\"text-align: right;\">-12.7316 </td><td style=\"text-align: right;\">-12.2253 </td><td style=\"text-align: right;\">-11.2553 </td><td style=\"text-align: right;\">-13.0972 </td><td style=\"text-align: right;\">-12.2647 </td><td style=\"text-align: right;\">-10.852  </td><td style=\"text-align: right;\">-12.8282 </td><td style=\"text-align: right;\">      nan</td><td style=\"text-align: right;\">-2.97101</td><td style=\"text-align: right;\">-6.96975</td><td style=\"text-align: right;\">-8.69081</td><td style=\"text-align: right;\">-16.8071 </td><td style=\"text-align: right;\">-13.7233 </td><td style=\"text-align: right;\">1.45074e+15</td><td>train</td><td style=\"text-align: right;\">       1</td><td style=\"text-align: right;\">501275</td><td style=\"text-align: right;\">425415</td><td style=\"text-align: right;\">                 33</td></tr>\n",
       "<tr><td>21C918  </td><td style=\"text-align: right;\">0.878194</td><td style=\"text-align: right;\"> 0.77931 </td><td style=\"text-align: right;\">      nan</td><td style=\"text-align: right;\">        nan</td><td style=\"text-align: right;\">  0.959664</td><td style=\"text-align: right;\">  0.765349</td><td style=\"text-align: right;\">  0.490604</td><td style=\"text-align: right;\">  0.483741</td><td style=\"text-align: right;\">  0.621098</td><td style=\"text-align: right;\">  0.642666</td><td style=\"text-align: right;\">-11.4084 </td><td style=\"text-align: right;\">-12.5974 </td><td style=\"text-align: right;\">    nan</td><td style=\"text-align: right;\"> 0.581937 </td><td style=\"text-align: right;\">  0.790498 </td><td style=\"text-align: right;\">        nan</td><td style=\"text-align: right;\">     0.334099</td><td style=\"text-align: right;\">    0.697869 </td><td style=\"text-align: right;\">     0.397638</td><td style=\"text-align: right;\">   0.0516962</td><td style=\"text-align: right;\">     1.22405 </td><td style=\"text-align: right;\">     3.92374 </td><td style=\"text-align: right;\">     0.952689</td><td style=\"text-align: right;\">          nan</td><td style=\"text-align: right;\">    3.37738 </td><td style=\"text-align: right;\">    0.156234</td><td style=\"text-align: right;\">    0.244163</td><td style=\"text-align: right;\">    0.859233</td><td style=\"text-align: right;\">    1.95465 </td><td style=\"text-align: right;\">        3.13894</td><td style=\"text-align: right;\">         4.21906</td><td style=\"text-align: right;\">             nan</td><td style=\"text-align: right;\">          43.3806 </td><td style=\"text-align: right;\">          10.3811 </td><td style=\"text-align: right;\">           8.82006</td><td style=\"text-align: right;\">         2.72775 </td><td style=\"text-align: right;\">           6.19538</td><td style=\"text-align: right;\">        -1.30157  </td><td style=\"text-align: right;\">           3.5721 </td><td style=\"text-align: right;\">               nan</td><td style=\"text-align: right;\">       -6.9737   </td><td style=\"text-align: right;\">         23.2727 </td><td style=\"text-align: right;\">         31.2529 </td><td style=\"text-align: right;\">          4.46497</td><td style=\"text-align: right;\">         16.6687 </td><td style=\"text-align: right;\">             2.16063</td><td style=\"text-align: right;\">              2.48883</td><td style=\"text-align: right;\">                  nan</td><td style=\"text-align: right;\">               7.62468 </td><td style=\"text-align: right;\">                2.47354</td><td style=\"text-align: right;\">                3.56803</td><td style=\"text-align: right;\">              1.75928 </td><td style=\"text-align: right;\">               2.20598 </td><td style=\"text-align: right;\">              -0.604954</td><td style=\"text-align: right;\">                1.93036</td><td style=\"text-align: right;\">                    nan</td><td style=\"text-align: right;\">            -1.80235  </td><td style=\"text-align: right;\">              5.06945 </td><td style=\"text-align: right;\">               7.01904</td><td style=\"text-align: right;\">               2.165  </td><td style=\"text-align: right;\">               3.03885</td><td style=\"text-align: right;\">     0.726346</td><td style=\"text-align: right;\">      0.834858</td><td style=\"text-align: right;\">           nan</td><td style=\"text-align: right;\">        0.531484</td><td style=\"text-align: right;\">        0.848557</td><td style=\"text-align: right;\">        0.62746 </td><td style=\"text-align: right;\">       0.602405</td><td style=\"text-align: right;\">        1.09513 </td><td style=\"text-align: right;\">        2.15661 </td><td style=\"text-align: right;\">        0.833209</td><td style=\"text-align: right;\">             nan</td><td style=\"text-align: right;\">       1.44615 </td><td style=\"text-align: right;\">       0.410967</td><td style=\"text-align: right;\">       0.479605</td><td style=\"text-align: right;\">       0.868155</td><td style=\"text-align: right;\">       1.40895 </td><td style=\"text-align: right;\">       3.03272</td><td style=\"text-align: right;\">        2.46942</td><td style=\"text-align: right;\">            nan</td><td style=\"text-align: right;\">         4.16274 </td><td style=\"text-align: right;\">          2.48426</td><td style=\"text-align: right;\">          3.42517</td><td style=\"text-align: right;\">        2.78387 </td><td style=\"text-align: right;\">         1.757   </td><td style=\"text-align: right;\">       -1.95824  </td><td style=\"text-align: right;\">          2.84807</td><td style=\"text-align: right;\">              nan</td><td style=\"text-align: right;\">      -2.89485  </td><td style=\"text-align: right;\">         3.7636 </td><td style=\"text-align: right;\">         4.99954</td><td style=\"text-align: right;\">        2.72333 </td><td style=\"text-align: right;\">        0.621527</td><td style=\"text-align: right;\">              0.890823</td><td style=\"text-align: right;\">               0.817239</td><td style=\"text-align: right;\">                    nan</td><td style=\"text-align: right;\">                 0.495788</td><td style=\"text-align: right;\">                 0.840751</td><td style=\"text-align: right;\">                 0.848436</td><td style=\"text-align: right;\">                0.798616</td><td style=\"text-align: right;\">                 0.642534</td><td style=\"text-align: right;\">                 0.836825</td><td style=\"text-align: right;\">                 0.922711</td><td style=\"text-align: right;\">                      nan</td><td style=\"text-align: right;\">                0.460626</td><td style=\"text-align: right;\">                0.722034</td><td style=\"text-align: right;\">                0.946902</td><td style=\"text-align: right;\">                0.864828</td><td style=\"text-align: right;\">                0.996953</td><td style=\"text-align: right;\">        5.87224</td><td style=\"text-align: right;\">         6.38545</td><td style=\"text-align: right;\">             nan</td><td style=\"text-align: right;\">           8.71951</td><td style=\"text-align: right;\">           6.60267</td><td style=\"text-align: right;\">           6.93008</td><td style=\"text-align: right;\">         -1.70763</td><td style=\"text-align: right;\">           3.86265</td><td style=\"text-align: right;\">        -0.0502481</td><td style=\"text-align: right;\">           5.57112</td><td style=\"text-align: right;\">               nan</td><td style=\"text-align: right;\">          23.7933</td><td style=\"text-align: right;\">          9.61398</td><td style=\"text-align: right;\">         16.4979 </td><td style=\"text-align: right;\">          10.4741</td><td style=\"text-align: right;\">          28.5002</td><td style=\"text-align: right;\">            29.1532</td><td style=\"text-align: right;\">             42.3578</td><td style=\"text-align: right;\">                 nan</td><td style=\"text-align: right;\">              69.324  </td><td style=\"text-align: right;\">               34.8532</td><td style=\"text-align: right;\">              27.2884 </td><td style=\"text-align: right;\">             -82.5824</td><td style=\"text-align: right;\">              11.5506 </td><td style=\"text-align: right;\">              -9.25658</td><td style=\"text-align: right;\">              18.8385 </td><td style=\"text-align: right;\">                   nan</td><td style=\"text-align: right;\">              392.891</td><td style=\"text-align: right;\">             63.866  </td><td style=\"text-align: right;\">             138.694 </td><td style=\"text-align: right;\">             107.034 </td><td style=\"text-align: right;\">              412.656</td><td style=\"text-align: right;\">          1.03085 </td><td style=\"text-align: right;\">          1.03002  </td><td style=\"text-align: right;\">                nan</td><td style=\"text-align: right;\">             0.492777</td><td style=\"text-align: right;\">             1.23632 </td><td style=\"text-align: right;\">             0.724318</td><td style=\"text-align: right;\">            1.16829 </td><td style=\"text-align: right;\">             1.28892 </td><td style=\"text-align: right;\">              2.24284</td><td style=\"text-align: right;\">             1.19823 </td><td style=\"text-align: right;\">                  nan</td><td style=\"text-align: right;\">            1.26971 </td><td style=\"text-align: right;\">            0.488523</td><td style=\"text-align: right;\">            0.383552</td><td style=\"text-align: right;\">            1.24568 </td><td style=\"text-align: right;\">            1.42538 </td><td style=\"text-align: right;\"> -7.51866</td><td style=\"text-align: right;\">-11.5859 </td><td style=\"text-align: right;\"> -8.94308</td><td style=\"text-align: right;\"> -8.54814</td><td style=\"text-align: right;\">-10.5329 </td><td style=\"text-align: right;\">-13.1639 </td><td style=\"text-align: right;\">-10.041  </td><td style=\"text-align: right;\">      nan</td><td style=\"text-align: right;\">-3.25118</td><td style=\"text-align: right;\">-4.31378</td><td style=\"text-align: right;\">-6.57125</td><td style=\"text-align: right;\"> -9.80698</td><td style=\"text-align: right;\"> -7.30389</td><td style=\"text-align: right;\">1.45074e+15</td><td>train</td><td style=\"text-align: right;\">       3</td><td style=\"text-align: right;\">500015</td><td style=\"text-align: right;\">425475</td><td style=\"text-align: right;\">                  0</td></tr>\n",
       "</tbody>\n",
       "</table>"
      ]
     },
     "metadata": {},
     "output_type": "display_data"
    },
    {
     "data": {
      "text/plain": []
     },
     "execution_count": 83,
     "metadata": {},
     "output_type": "execute_result"
    }
   ],
   "source": [
    "train"
   ]
  },
  {
   "cell_type": "code",
   "execution_count": 86,
   "metadata": {},
   "outputs": [
    {
     "name": "stdout",
     "output_type": "stream",
     "text": [
      "drf Model Build progress: |███████████████████████████████████████████████| 100%\n"
     ]
    }
   ],
   "source": [
    "rf_fit1.train(x=x, y=y, training_frame=train, validation_frame=test)"
   ]
  },
  {
   "cell_type": "code",
   "execution_count": 172,
   "metadata": {},
   "outputs": [
    {
     "name": "stdout",
     "output_type": "stream",
     "text": [
      "drf Model Build progress: |███████████████████████████████████████████████| 100%\n"
     ]
    }
   ],
   "source": [
    "rf_fit2 = H2ORandomForestEstimator(model_id='rf_fit2', ntrees=100, seed=1)\n",
    "rf_fit2.train(x=x, y=y, training_frame=train)"
   ]
  },
  {
   "cell_type": "code",
   "execution_count": 107,
   "metadata": {},
   "outputs": [],
   "source": [
    "data_test['train'] = data_test['test']"
   ]
  },
  {
   "cell_type": "code",
   "execution_count": 89,
   "metadata": {},
   "outputs": [
    {
     "name": "stdout",
     "output_type": "stream",
     "text": [
      "\n",
      "ModelMetricsMultinomial: drf\n",
      "** Reported on train data. **\n",
      "\n",
      "MSE: 0.002176173066882767\n",
      "RMSE: 0.04664947016722448\n",
      "LogLoss: 0.019300008969039297\n",
      "Mean Per-Class Error: 0.0001739889396833573\n",
      "Confusion Matrix: Row labels: Actual class; Column labels: Predicted class\n",
      "\n"
     ]
    },
    {
     "data": {
      "text/html": [
       "<div style=\"overflow:auto\"><table style=\"width:50%\"><tr><td><b>1</b></td>\n",
       "<td><b>2</b></td>\n",
       "<td><b>3</b></td>\n",
       "<td><b>4</b></td>\n",
       "<td><b>5</b></td>\n",
       "<td><b>Error</b></td>\n",
       "<td><b>Rate</b></td></tr>\n",
       "<tr><td>9184.0</td>\n",
       "<td>0.0</td>\n",
       "<td>0.0</td>\n",
       "<td>0.0</td>\n",
       "<td>0.0</td>\n",
       "<td>0.0</td>\n",
       "<td>0 / 9,184</td></tr>\n",
       "<tr><td>0.0</td>\n",
       "<td>9174.0</td>\n",
       "<td>0.0</td>\n",
       "<td>0.0</td>\n",
       "<td>0.0</td>\n",
       "<td>0.0</td>\n",
       "<td>0 / 9,174</td></tr>\n",
       "<tr><td>0.0</td>\n",
       "<td>0.0</td>\n",
       "<td>9203.0</td>\n",
       "<td>4.0</td>\n",
       "<td>0.0</td>\n",
       "<td>0.0004345</td>\n",
       "<td>4 / 9,207</td></tr>\n",
       "<tr><td>0.0</td>\n",
       "<td>4.0</td>\n",
       "<td>0.0</td>\n",
       "<td>9181.0</td>\n",
       "<td>0.0</td>\n",
       "<td>0.0004355</td>\n",
       "<td>4 / 9,185</td></tr>\n",
       "<tr><td>0.0</td>\n",
       "<td>0.0</td>\n",
       "<td>0.0</td>\n",
       "<td>0.0</td>\n",
       "<td>9222.0</td>\n",
       "<td>0.0</td>\n",
       "<td>0 / 9,222</td></tr>\n",
       "<tr><td>9184.0</td>\n",
       "<td>9178.0</td>\n",
       "<td>9203.0</td>\n",
       "<td>9185.0</td>\n",
       "<td>9222.0</td>\n",
       "<td>0.0001740</td>\n",
       "<td>8 / 45,972</td></tr></table></div>"
      ],
      "text/plain": [
       "1     2     3     4     5     Error        Rate\n",
       "----  ----  ----  ----  ----  -----------  ----------\n",
       "9184  0     0     0     0     0            0 / 9,184\n",
       "0     9174  0     0     0     0            0 / 9,174\n",
       "0     0     9203  4     0     0.000434452  4 / 9,207\n",
       "0     4     0     9181  0     0.000435493  4 / 9,185\n",
       "0     0     0     0     9222  0            0 / 9,222\n",
       "9184  9178  9203  9185  9222  0.000174019  8 / 45,972"
      ]
     },
     "metadata": {},
     "output_type": "display_data"
    },
    {
     "name": "stdout",
     "output_type": "stream",
     "text": [
      "Top-5 Hit Ratios: \n"
     ]
    },
    {
     "data": {
      "text/html": [
       "<div style=\"overflow:auto\"><table style=\"width:50%\"><tr><td><b>k</b></td>\n",
       "<td><b>hit_ratio</b></td></tr>\n",
       "<tr><td>1</td>\n",
       "<td>0.9998259</td></tr>\n",
       "<tr><td>2</td>\n",
       "<td>1.0</td></tr>\n",
       "<tr><td>3</td>\n",
       "<td>1.0</td></tr>\n",
       "<tr><td>4</td>\n",
       "<td>1.0</td></tr>\n",
       "<tr><td>5</td>\n",
       "<td>1.0</td></tr></table></div>"
      ],
      "text/plain": [
       "k    hit_ratio\n",
       "---  -----------\n",
       "1    0.999826\n",
       "2    1\n",
       "3    1\n",
       "4    1\n",
       "5    1"
      ]
     },
     "metadata": {},
     "output_type": "display_data"
    },
    {
     "data": {
      "text/plain": []
     },
     "execution_count": 89,
     "metadata": {},
     "output_type": "execute_result"
    }
   ],
   "source": [
    "rf_perf1 = rf_fit1.model_performance()\n",
    "rf_perf1"
   ]
  },
  {
   "cell_type": "code",
   "execution_count": 114,
   "metadata": {},
   "outputs": [
    {
     "name": "stdout",
     "output_type": "stream",
     "text": [
      "drf prediction progress: |████████████████████████████████████████████████| 100%\n",
      "Prediction accuracy: 0.26883715699505173\n"
     ]
    },
    {
     "data": {
      "image/png": "[encoded data removed]",
      "text/plain": [
       "<Figure size 720x1800 with 9 Axes>"
      ]
     },
     "metadata": {},
     "output_type": "display_data"
    }
   ],
   "source": [
    "compare_predictions(rf_fit1, data_test)"
   ]
  },
  {
   "cell_type": "code",
   "execution_count": 119,
   "metadata": {},
   "outputs": [],
   "source": [
    "# Import H2O GBM:\n",
    "from h2o.estimators.gbm import H2OGradientBoostingEstimator"
   ]
  },
  {
   "cell_type": "code",
   "execution_count": 90,
   "metadata": {},
   "outputs": [
    {
     "name": "stdout",
     "output_type": "stream",
     "text": [
      "gbm Model Build progress: |███████████████████████████████████████████████| 100%\n"
     ]
    }
   ],
   "source": [
    "# Initialize and train the GBM estimator:\n",
    "\n",
    "gbm_fit1 = H2OGradientBoostingEstimator(model_id='gbm_fit1', seed=1)\n",
    "gbm_fit1.train(x=x, y=y, training_frame=train)"
   ]
  },
  {
   "cell_type": "code",
   "execution_count": 91,
   "metadata": {},
   "outputs": [
    {
     "name": "stdout",
     "output_type": "stream",
     "text": [
      "gbm Model Build progress: |███████████████████████████████████████████████| 100%\n"
     ]
    }
   ],
   "source": [
    "gbm_fit2 = H2OGradientBoostingEstimator(model_id='gbm_fit2', ntrees=500, seed=1)\n",
    "gbm_fit2.train(x=x, y=y, training_frame=train)"
   ]
  },
  {
   "cell_type": "code",
   "execution_count": 159,
   "metadata": {},
   "outputs": [
    {
     "name": "stdout",
     "output_type": "stream",
     "text": [
      "gbm Model Build progress: |███████████████████████████████████████████████| 100%\n"
     ]
    }
   ],
   "source": [
    "gbm_fit3 = H2OGradientBoostingEstimator(model_id='gbm_fit3', \n",
    "                                        ntrees=500, \n",
    "                                        score_tree_interval=5,     #used for early stopping\n",
    "                                        stopping_rounds=3,         #used for early stopping\n",
    "                                        stopping_metric='misclassification',     #used for early stopping\n",
    "                                        #stopping_tolerance=0.0005, #used for early stopping\n",
    "                                        seed=1)\n",
    "\n",
    "# The use of a validation_frame is recommended with using early stopping\n",
    "gbm_fit3.train(x=x, y=y, training_frame=train, validation_frame=valid)"
   ]
  },
  {
   "cell_type": "code",
   "execution_count": 92,
   "metadata": {},
   "outputs": [],
   "source": [
    "gbm_perf1 = gbm_fit1.model_performance(test)\n",
    "gbm_perf2 = gbm_fit2.model_performance(test)\n",
    "#gbm_perf3 = gbm_fit3.model_performance(data_test)"
   ]
  },
  {
   "cell_type": "code",
   "execution_count": 93,
   "metadata": {},
   "outputs": [
    {
     "name": "stdout",
     "output_type": "stream",
     "text": [
      "\n",
      "ModelMetricsMultinomial: gbm\n",
      "** Reported on test data. **\n",
      "\n",
      "MSE: 0.7260192918829322\n",
      "RMSE: 0.8520676568694133\n",
      "LogLoss: 3.8697527652585877\n",
      "Mean Per-Class Error: 0.8568680656109139\n",
      "Confusion Matrix: Row labels: Actual class; Column labels: Predicted class\n",
      "\n"
     ]
    },
    {
     "data": {
      "text/html": [
       "<div style=\"overflow:auto\"><table style=\"width:50%\"><tr><td><b>1</b></td>\n",
       "<td><b>2</b></td>\n",
       "<td><b>3</b></td>\n",
       "<td><b>4</b></td>\n",
       "<td><b>5</b></td>\n",
       "<td><b>Error</b></td>\n",
       "<td><b>Rate</b></td></tr>\n",
       "<tr><td>21.0</td>\n",
       "<td>1553.0</td>\n",
       "<td>8.0</td>\n",
       "<td>11.0</td>\n",
       "<td>0.0</td>\n",
       "<td>0.9868173</td>\n",
       "<td>1,572 / 1,593</td></tr>\n",
       "<tr><td>1.0</td>\n",
       "<td>11.0</td>\n",
       "<td>1000.0</td>\n",
       "<td>962.0</td>\n",
       "<td>0.0</td>\n",
       "<td>0.9944276</td>\n",
       "<td>1,963 / 1,974</td></tr>\n",
       "<tr><td>261.0</td>\n",
       "<td>219.0</td>\n",
       "<td>1647.0</td>\n",
       "<td>493.0</td>\n",
       "<td>1028.0</td>\n",
       "<td>0.5485197</td>\n",
       "<td>2,001 / 3,648</td></tr>\n",
       "<tr><td>2.0</td>\n",
       "<td>638.0</td>\n",
       "<td>628.0</td>\n",
       "<td>590.0</td>\n",
       "<td>546.0</td>\n",
       "<td>0.7545757</td>\n",
       "<td>1,814 / 2,404</td></tr>\n",
       "<tr><td>0.0</td>\n",
       "<td>0.0</td>\n",
       "<td>0.0</td>\n",
       "<td>358.0</td>\n",
       "<td>0.0</td>\n",
       "<td>1.0</td>\n",
       "<td>358 / 358</td></tr>\n",
       "<tr><td>285.0</td>\n",
       "<td>2421.0</td>\n",
       "<td>3283.0</td>\n",
       "<td>2414.0</td>\n",
       "<td>1574.0</td>\n",
       "<td>0.7725769</td>\n",
       "<td>7,708 / 9,977</td></tr></table></div>"
      ],
      "text/plain": [
       "1    2     3     4     5     Error     Rate\n",
       "---  ----  ----  ----  ----  --------  -------------\n",
       "21   1553  8     11    0     0.986817  1,572 / 1,593\n",
       "1    11    1000  962   0     0.994428  1,963 / 1,974\n",
       "261  219   1647  493   1028  0.54852   2,001 / 3,648\n",
       "2    638   628   590   546   0.754576  1,814 / 2,404\n",
       "0    0     0     358   0     1         358 / 358\n",
       "285  2421  3283  2414  1574  0.772577  7,708 / 9,977"
      ]
     },
     "metadata": {},
     "output_type": "display_data"
    },
    {
     "name": "stdout",
     "output_type": "stream",
     "text": [
      "Top-5 Hit Ratios: \n"
     ]
    },
    {
     "data": {
      "text/html": [
       "<div style=\"overflow:auto\"><table style=\"width:50%\"><tr><td><b>k</b></td>\n",
       "<td><b>hit_ratio</b></td></tr>\n",
       "<tr><td>1</td>\n",
       "<td>0.2274231</td></tr>\n",
       "<tr><td>2</td>\n",
       "<td>0.4772978</td></tr>\n",
       "<tr><td>3</td>\n",
       "<td>0.7565401</td></tr>\n",
       "<tr><td>4</td>\n",
       "<td>0.9608099</td></tr>\n",
       "<tr><td>5</td>\n",
       "<td>1.0</td></tr></table></div>"
      ],
      "text/plain": [
       "k    hit_ratio\n",
       "---  -----------\n",
       "1    0.227423\n",
       "2    0.477298\n",
       "3    0.75654\n",
       "4    0.96081\n",
       "5    1"
      ]
     },
     "metadata": {},
     "output_type": "display_data"
    },
    {
     "name": "stdout",
     "output_type": "stream",
     "text": [
      "\n",
      "\n",
      "ModelMetricsMultinomial: gbm\n",
      "** Reported on test data. **\n",
      "\n",
      "MSE: 0.7346150643079511\n",
      "RMSE: 0.8570968815180412\n",
      "LogLoss: 12.998162202089159\n",
      "Mean Per-Class Error: 0.8398103931951836\n",
      "Confusion Matrix: Row labels: Actual class; Column labels: Predicted class\n",
      "\n"
     ]
    },
    {
     "data": {
      "text/html": [
       "<div style=\"overflow:auto\"><table style=\"width:50%\"><tr><td><b>1</b></td>\n",
       "<td><b>2</b></td>\n",
       "<td><b>3</b></td>\n",
       "<td><b>4</b></td>\n",
       "<td><b>5</b></td>\n",
       "<td><b>Error</b></td>\n",
       "<td><b>Rate</b></td></tr>\n",
       "<tr><td>1.0</td>\n",
       "<td>1563.0</td>\n",
       "<td>0.0</td>\n",
       "<td>29.0</td>\n",
       "<td>0.0</td>\n",
       "<td>0.9993723</td>\n",
       "<td>1,592 / 1,593</td></tr>\n",
       "<tr><td>0.0</td>\n",
       "<td>13.0</td>\n",
       "<td>979.0</td>\n",
       "<td>982.0</td>\n",
       "<td>0.0</td>\n",
       "<td>0.9934144</td>\n",
       "<td>1,961 / 1,974</td></tr>\n",
       "<tr><td>697.0</td>\n",
       "<td>131.0</td>\n",
       "<td>1806.0</td>\n",
       "<td>452.0</td>\n",
       "<td>562.0</td>\n",
       "<td>0.5049342</td>\n",
       "<td>1,842 / 3,648</td></tr>\n",
       "<tr><td>3.0</td>\n",
       "<td>629.0</td>\n",
       "<td>598.0</td>\n",
       "<td>718.0</td>\n",
       "<td>456.0</td>\n",
       "<td>0.7013311</td>\n",
       "<td>1,686 / 2,404</td></tr>\n",
       "<tr><td>0.0</td>\n",
       "<td>0.0</td>\n",
       "<td>0.0</td>\n",
       "<td>358.0</td>\n",
       "<td>0.0</td>\n",
       "<td>1.0</td>\n",
       "<td>358 / 358</td></tr>\n",
       "<tr><td>701.0</td>\n",
       "<td>2336.0</td>\n",
       "<td>3383.0</td>\n",
       "<td>2539.0</td>\n",
       "<td>1018.0</td>\n",
       "<td>0.7456149</td>\n",
       "<td>7,439 / 9,977</td></tr></table></div>"
      ],
      "text/plain": [
       "1    2     3     4     5     Error     Rate\n",
       "---  ----  ----  ----  ----  --------  -------------\n",
       "1    1563  0     29    0     0.999372  1,592 / 1,593\n",
       "0    13    979   982   0     0.993414  1,961 / 1,974\n",
       "697  131   1806  452   562   0.504934  1,842 / 3,648\n",
       "3    629   598   718   456   0.701331  1,686 / 2,404\n",
       "0    0     0     358   0     1         358 / 358\n",
       "701  2336  3383  2539  1018  0.745615  7,439 / 9,977"
      ]
     },
     "metadata": {},
     "output_type": "display_data"
    },
    {
     "name": "stdout",
     "output_type": "stream",
     "text": [
      "Top-5 Hit Ratios: \n"
     ]
    },
    {
     "data": {
      "text/html": [
       "<div style=\"overflow:auto\"><table style=\"width:50%\"><tr><td><b>k</b></td>\n",
       "<td><b>hit_ratio</b></td></tr>\n",
       "<tr><td>1</td>\n",
       "<td>0.2543851</td></tr>\n",
       "<tr><td>2</td>\n",
       "<td>0.4581538</td></tr>\n",
       "<tr><td>3</td>\n",
       "<td>0.7205573</td></tr>\n",
       "<tr><td>4</td>\n",
       "<td>0.9425679</td></tr>\n",
       "<tr><td>5</td>\n",
       "<td>1.0</td></tr></table></div>"
      ],
      "text/plain": [
       "k    hit_ratio\n",
       "---  -----------\n",
       "1    0.254385\n",
       "2    0.458154\n",
       "3    0.720557\n",
       "4    0.942568\n",
       "5    1"
      ]
     },
     "metadata": {},
     "output_type": "display_data"
    },
    {
     "name": "stdout",
     "output_type": "stream",
     "text": [
      "\n"
     ]
    }
   ],
   "source": [
    "# Retreive test set AUC\n",
    "print(gbm_perf1)\n",
    "print(gbm_perf2)\n",
    "#print(gbm_perf3)"
   ]
  },
  {
   "cell_type": "code",
   "execution_count": 162,
   "metadata": {
    "scrolled": true
   },
   "outputs": [
    {
     "name": "stdout",
     "output_type": "stream",
     "text": [
      "gbm prediction progress: |████████████████████████████████████████████████| 100%\n",
      "Prediction accuracy: 0.2706365272154746\n"
     ]
    },
    {
     "name": "stderr",
     "output_type": "stream",
     "text": [
      "distributed.utils_perf - WARNING - full garbage collections took 23% CPU time recently (threshold: 10%)\n",
      "distributed.utils_perf - WARNING - full garbage collections took 24% CPU time recently (threshold: 10%)\n",
      "distributed.utils_perf - WARNING - full garbage collections took 24% CPU time recently (threshold: 10%)\n",
      "distributed.utils_perf - WARNING - full garbage collections took 24% CPU time recently (threshold: 10%)\n",
      "distributed.utils_perf - WARNING - full garbage collections took 24% CPU time recently (threshold: 10%)\n"
     ]
    },
    {
     "data": {
      "image/png": "[encoded data removed]",
      "text/plain": [
       "<Figure size 720x1800 with 9 Axes>"
      ]
     },
     "metadata": {},
     "output_type": "display_data"
    }
   ],
   "source": [
    "compare_predictions(gbm_fit1, data_test)"
   ]
  },
  {
   "cell_type": "code",
   "execution_count": 94,
   "metadata": {},
   "outputs": [],
   "source": [
    "# Import H2O DL:\n",
    "from h2o.estimators.deeplearning import H2ODeepLearningEstimator"
   ]
  },
  {
   "cell_type": "code",
   "execution_count": 95,
   "metadata": {},
   "outputs": [
    {
     "name": "stdout",
     "output_type": "stream",
     "text": [
      "deeplearning Model Build progress: |██████████████████████████████████████| 100%\n"
     ]
    }
   ],
   "source": [
    "dl_fit1 = H2ODeepLearningEstimator(model_id='dl_fit1', seed=1)\n",
    "dl_fit1.train(x=x, y=y, training_frame=train)"
   ]
  },
  {
   "cell_type": "code",
   "execution_count": 96,
   "metadata": {},
   "outputs": [
    {
     "name": "stdout",
     "output_type": "stream",
     "text": [
      "deeplearning Model Build progress: |██████████████████████████████████████| 100%\n"
     ]
    }
   ],
   "source": [
    "dl_fit2 = H2ODeepLearningEstimator(model_id='dl_fit2', \n",
    "                                   epochs=20, \n",
    "                                   hidden=[10,10], \n",
    "                                   stopping_rounds=0,  #disable early stopping\n",
    "                                   seed=1)\n",
    "dl_fit2.train(x=x, y=y, training_frame=train)"
   ]
  },
  {
   "cell_type": "code",
   "execution_count": 151,
   "metadata": {},
   "outputs": [
    {
     "name": "stdout",
     "output_type": "stream",
     "text": [
      "deeplearning Model Build progress: |██████████████████████████████████████| 100%\n"
     ]
    }
   ],
   "source": [
    "dl_fit3 = H2ODeepLearningEstimator(model_id='dl_fit3', \n",
    "                                   epochs=20, \n",
    "                                   hidden=[10,10],\n",
    "                                   score_interval=1,          #used for early stopping\n",
    "                                   stopping_rounds=3,         #used for early stopping\n",
    "                                   stopping_metric='misclassification',     #used for early stopping\n",
    "                                   #stopping_tolerance=0.0005, #used for early stopping\n",
    "                                   seed=1)\n",
    "dl_fit3.train(x=x, y=y, training_frame=train, validation_frame=valid)"
   ]
  },
  {
   "cell_type": "code",
   "execution_count": 97,
   "metadata": {},
   "outputs": [],
   "source": [
    "dl_perf1 = dl_fit1.model_performance(test)\n",
    "dl_perf2 = dl_fit2.model_performance(test)\n",
    "#dl_perf3 = dl_fit3.model_performance(data_test)"
   ]
  },
  {
   "cell_type": "code",
   "execution_count": 98,
   "metadata": {},
   "outputs": [
    {
     "name": "stdout",
     "output_type": "stream",
     "text": [
      "\n",
      "ModelMetricsMultinomial: deeplearning\n",
      "** Reported on test data. **\n",
      "\n",
      "MSE: 0.7050135044865603\n",
      "RMSE: 0.839650822953542\n",
      "LogLoss: 17.519950470602296\n",
      "Mean Per-Class Error: 0.799730714581594\n",
      "Confusion Matrix: Row labels: Actual class; Column labels: Predicted class\n",
      "\n"
     ]
    },
    {
     "data": {
      "text/html": [
       "<div style=\"overflow:auto\"><table style=\"width:50%\"><tr><td><b>1</b></td>\n",
       "<td><b>2</b></td>\n",
       "<td><b>3</b></td>\n",
       "<td><b>4</b></td>\n",
       "<td><b>5</b></td>\n",
       "<td><b>Error</b></td>\n",
       "<td><b>Rate</b></td></tr>\n",
       "<tr><td>139.0</td>\n",
       "<td>1116.0</td>\n",
       "<td>82.0</td>\n",
       "<td>256.0</td>\n",
       "<td>0.0</td>\n",
       "<td>0.9127433</td>\n",
       "<td>1,454 / 1,593</td></tr>\n",
       "<tr><td>6.0</td>\n",
       "<td>225.0</td>\n",
       "<td>583.0</td>\n",
       "<td>1159.0</td>\n",
       "<td>1.0</td>\n",
       "<td>0.8860182</td>\n",
       "<td>1,749 / 1,974</td></tr>\n",
       "<tr><td>302.0</td>\n",
       "<td>174.0</td>\n",
       "<td>1547.0</td>\n",
       "<td>71.0</td>\n",
       "<td>1554.0</td>\n",
       "<td>0.5759320</td>\n",
       "<td>2,101 / 3,648</td></tr>\n",
       "<tr><td>14.0</td>\n",
       "<td>381.0</td>\n",
       "<td>914.0</td>\n",
       "<td>904.0</td>\n",
       "<td>191.0</td>\n",
       "<td>0.6239601</td>\n",
       "<td>1,500 / 2,404</td></tr>\n",
       "<tr><td>0.0</td>\n",
       "<td>0.0</td>\n",
       "<td>0.0</td>\n",
       "<td>358.0</td>\n",
       "<td>0.0</td>\n",
       "<td>1.0</td>\n",
       "<td>358 / 358</td></tr>\n",
       "<tr><td>461.0</td>\n",
       "<td>1896.0</td>\n",
       "<td>3126.0</td>\n",
       "<td>2748.0</td>\n",
       "<td>1746.0</td>\n",
       "<td>0.7178511</td>\n",
       "<td>7,162 / 9,977</td></tr></table></div>"
      ],
      "text/plain": [
       "1    2     3     4     5     Error     Rate\n",
       "---  ----  ----  ----  ----  --------  -------------\n",
       "139  1116  82    256   0     0.912743  1,454 / 1,593\n",
       "6    225   583   1159  1     0.886018  1,749 / 1,974\n",
       "302  174   1547  71    1554  0.575932  2,101 / 3,648\n",
       "14   381   914   904   191   0.62396   1,500 / 2,404\n",
       "0    0     0     358   0     1         358 / 358\n",
       "461  1896  3126  2748  1746  0.717851  7,162 / 9,977"
      ]
     },
     "metadata": {},
     "output_type": "display_data"
    },
    {
     "name": "stdout",
     "output_type": "stream",
     "text": [
      "Top-5 Hit Ratios: \n"
     ]
    },
    {
     "data": {
      "text/html": [
       "<div style=\"overflow:auto\"><table style=\"width:50%\"><tr><td><b>k</b></td>\n",
       "<td><b>hit_ratio</b></td></tr>\n",
       "<tr><td>1</td>\n",
       "<td>0.2821490</td></tr>\n",
       "<tr><td>2</td>\n",
       "<td>0.4512379</td></tr>\n",
       "<tr><td>3</td>\n",
       "<td>0.6402726</td></tr>\n",
       "<tr><td>4</td>\n",
       "<td>0.8552671</td></tr>\n",
       "<tr><td>5</td>\n",
       "<td>1.0</td></tr></table></div>"
      ],
      "text/plain": [
       "k    hit_ratio\n",
       "---  -----------\n",
       "1    0.282149\n",
       "2    0.451238\n",
       "3    0.640273\n",
       "4    0.855267\n",
       "5    1"
      ]
     },
     "metadata": {},
     "output_type": "display_data"
    },
    {
     "name": "stdout",
     "output_type": "stream",
     "text": [
      "\n",
      "\n",
      "ModelMetricsMultinomial: deeplearning\n",
      "** Reported on test data. **\n",
      "\n",
      "MSE: 0.7387241408624404\n",
      "RMSE: 0.8594906287228735\n",
      "LogLoss: 15.486074346820088\n",
      "Mean Per-Class Error: 0.8338489621101249\n",
      "Confusion Matrix: Row labels: Actual class; Column labels: Predicted class\n",
      "\n"
     ]
    },
    {
     "data": {
      "text/html": [
       "<div style=\"overflow:auto\"><table style=\"width:50%\"><tr><td><b>1</b></td>\n",
       "<td><b>2</b></td>\n",
       "<td><b>3</b></td>\n",
       "<td><b>4</b></td>\n",
       "<td><b>5</b></td>\n",
       "<td><b>Error</b></td>\n",
       "<td><b>Rate</b></td></tr>\n",
       "<tr><td>1.0</td>\n",
       "<td>1463.0</td>\n",
       "<td>2.0</td>\n",
       "<td>127.0</td>\n",
       "<td>0.0</td>\n",
       "<td>0.9993723</td>\n",
       "<td>1,592 / 1,593</td></tr>\n",
       "<tr><td>1.0</td>\n",
       "<td>20.0</td>\n",
       "<td>1002.0</td>\n",
       "<td>951.0</td>\n",
       "<td>0.0</td>\n",
       "<td>0.9898683</td>\n",
       "<td>1,954 / 1,974</td></tr>\n",
       "<tr><td>141.0</td>\n",
       "<td>470.0</td>\n",
       "<td>1398.0</td>\n",
       "<td>95.0</td>\n",
       "<td>1544.0</td>\n",
       "<td>0.6167763</td>\n",
       "<td>2,250 / 3,648</td></tr>\n",
       "<tr><td>0.0</td>\n",
       "<td>350.0</td>\n",
       "<td>938.0</td>\n",
       "<td>1050.0</td>\n",
       "<td>66.0</td>\n",
       "<td>0.5632280</td>\n",
       "<td>1,354 / 2,404</td></tr>\n",
       "<tr><td>0.0</td>\n",
       "<td>0.0</td>\n",
       "<td>0.0</td>\n",
       "<td>358.0</td>\n",
       "<td>0.0</td>\n",
       "<td>1.0</td>\n",
       "<td>358 / 358</td></tr>\n",
       "<tr><td>143.0</td>\n",
       "<td>2303.0</td>\n",
       "<td>3340.0</td>\n",
       "<td>2581.0</td>\n",
       "<td>1610.0</td>\n",
       "<td>0.7525308</td>\n",
       "<td>7,508 / 9,977</td></tr></table></div>"
      ],
      "text/plain": [
       "1    2     3     4     5     Error     Rate\n",
       "---  ----  ----  ----  ----  --------  -------------\n",
       "1    1463  2     127   0     0.999372  1,592 / 1,593\n",
       "1    20    1002  951   0     0.989868  1,954 / 1,974\n",
       "141  470   1398  95    1544  0.616776  2,250 / 3,648\n",
       "0    350   938   1050  66    0.563228  1,354 / 2,404\n",
       "0    0     0     358   0     1         358 / 358\n",
       "143  2303  3340  2581  1610  0.752531  7,508 / 9,977"
      ]
     },
     "metadata": {},
     "output_type": "display_data"
    },
    {
     "name": "stdout",
     "output_type": "stream",
     "text": [
      "Top-5 Hit Ratios: \n"
     ]
    },
    {
     "data": {
      "text/html": [
       "<div style=\"overflow:auto\"><table style=\"width:50%\"><tr><td><b>k</b></td>\n",
       "<td><b>hit_ratio</b></td></tr>\n",
       "<tr><td>1</td>\n",
       "<td>0.2474692</td></tr>\n",
       "<tr><td>2</td>\n",
       "<td>0.4632655</td></tr>\n",
       "<tr><td>3</td>\n",
       "<td>0.6209282</td></tr>\n",
       "<tr><td>4</td>\n",
       "<td>0.8075574</td></tr>\n",
       "<tr><td>5</td>\n",
       "<td>1.0</td></tr></table></div>"
      ],
      "text/plain": [
       "k    hit_ratio\n",
       "---  -----------\n",
       "1    0.247469\n",
       "2    0.463265\n",
       "3    0.620928\n",
       "4    0.807557\n",
       "5    1"
      ]
     },
     "metadata": {},
     "output_type": "display_data"
    },
    {
     "name": "stdout",
     "output_type": "stream",
     "text": [
      "\n"
     ]
    }
   ],
   "source": [
    "# Retreive test set AUC\n",
    "print(dl_perf1)\n",
    "print(dl_perf2)\n",
    "#print(dl_perf3)"
   ]
  },
  {
   "cell_type": "code",
   "execution_count": 156,
   "metadata": {},
   "outputs": [
    {
     "name": "stdout",
     "output_type": "stream",
     "text": [
      "deeplearning prediction progress: |███████████████████████████████████████| 100%\n",
      "Prediction accuracy: 0.3833783175888439\n"
     ]
    },
    {
     "name": "stderr",
     "output_type": "stream",
     "text": [
      "distributed.utils_perf - WARNING - full garbage collections took 26% CPU time recently (threshold: 10%)\n"
     ]
    },
    {
     "data": {
      "image/png": "[encoded data removed]",
      "text/plain": [
       "<Figure size 720x1800 with 9 Axes>"
      ]
     },
     "metadata": {},
     "output_type": "display_data"
    }
   ],
   "source": [
    "compare_predictions(dl_fit3, data_test)"
   ]
  },
  {
   "cell_type": "code",
   "execution_count": 140,
   "metadata": {},
   "outputs": [
    {
     "name": "stdout",
     "output_type": "stream",
     "text": [
      "naivebayes Model Build progress: |████████████████████████████████████████| 100%\n"
     ]
    }
   ],
   "source": [
    "from h2o.estimators.naive_bayes import H2ONaiveBayesEstimator\n",
    "nb_fit1 = H2ONaiveBayesEstimator(model_id='nb_fit1')\n",
    "nb_fit1.train(x=x, y=y, training_frame=train)"
   ]
  },
  {
   "cell_type": "code",
   "execution_count": 141,
   "metadata": {},
   "outputs": [
    {
     "name": "stdout",
     "output_type": "stream",
     "text": [
      "naivebayes Model Build progress: |████████████████████████████████████████| 100%\n"
     ]
    }
   ],
   "source": [
    "nb_fit2 = H2ONaiveBayesEstimator(model_id='nb_fit2', laplace=6)\n",
    "nb_fit2.train(x=x, y=y, training_frame=train)"
   ]
  },
  {
   "cell_type": "code",
   "execution_count": 143,
   "metadata": {},
   "outputs": [],
   "source": [
    "nb_perf1 = nb_fit1.model_performance(data_test)\n",
    "nb_perf2 = nb_fit2.model_performance(data_test)"
   ]
  },
  {
   "cell_type": "code",
   "execution_count": 144,
   "metadata": {},
   "outputs": [
    {
     "name": "stdout",
     "output_type": "stream",
     "text": [
      "\n",
      "ModelMetricsMultinomial: naivebayes\n",
      "** Reported on test data. **\n",
      "\n",
      "MSE: 0.6428137757212611\n",
      "RMSE: 0.8017566811204389\n",
      "LogLoss: 8.684570795782838\n",
      "Mean Per-Class Error: 0.6559728969246914\n",
      "Confusion Matrix: Row labels: Actual class; Column labels: Predicted class\n",
      "\n"
     ]
    },
    {
     "data": {
      "text/html": [
       "<div style=\"overflow:auto\"><table style=\"width:50%\"><tr><td><b>1</b></td>\n",
       "<td><b>2</b></td>\n",
       "<td><b>3</b></td>\n",
       "<td><b>4</b></td>\n",
       "<td><b>5</b></td>\n",
       "<td><b>Error</b></td>\n",
       "<td><b>Rate</b></td></tr>\n",
       "<tr><td>0.0</td>\n",
       "<td>0.0</td>\n",
       "<td>0.0</td>\n",
       "<td>0.0</td>\n",
       "<td>0.0</td>\n",
       "<td>nan</td>\n",
       "<td>0 / 0</td></tr>\n",
       "<tr><td>2490.0</td>\n",
       "<td>107.0</td>\n",
       "<td>1261.0</td>\n",
       "<td>229.0</td>\n",
       "<td>188.0</td>\n",
       "<td>0.9749708</td>\n",
       "<td>4,168 / 4,275</td></tr>\n",
       "<tr><td>855.0</td>\n",
       "<td>254.0</td>\n",
       "<td>2615.0</td>\n",
       "<td>3053.0</td>\n",
       "<td>865.0</td>\n",
       "<td>0.6578121</td>\n",
       "<td>5,027 / 7,642</td></tr>\n",
       "<tr><td>665.0</td>\n",
       "<td>52.0</td>\n",
       "<td>1591.0</td>\n",
       "<td>1409.0</td>\n",
       "<td>1430.0</td>\n",
       "<td>0.7262483</td>\n",
       "<td>3,738 / 5,147</td></tr>\n",
       "<tr><td>292.0</td>\n",
       "<td>94.0</td>\n",
       "<td>0.0</td>\n",
       "<td>277.0</td>\n",
       "<td>57.0</td>\n",
       "<td>0.9208333</td>\n",
       "<td>663 / 720</td></tr>\n",
       "<tr><td>4302.0</td>\n",
       "<td>507.0</td>\n",
       "<td>5467.0</td>\n",
       "<td>4968.0</td>\n",
       "<td>2540.0</td>\n",
       "<td>0.7645074</td>\n",
       "<td>13,596 / 17,784</td></tr></table></div>"
      ],
      "text/plain": [
       "1     2    3     4     5     Error     Rate\n",
       "----  ---  ----  ----  ----  --------  ---------------\n",
       "0     0    0     0     0     nan       0 / 0\n",
       "2490  107  1261  229   188   0.974971  4,168 / 4,275\n",
       "855   254  2615  3053  865   0.657812  5,027 / 7,642\n",
       "665   52   1591  1409  1430  0.726248  3,738 / 5,147\n",
       "292   94   0     277   57    0.920833  663 / 720\n",
       "4302  507  5467  4968  2540  0.764507  13,596 / 17,784"
      ]
     },
     "metadata": {},
     "output_type": "display_data"
    },
    {
     "name": "stdout",
     "output_type": "stream",
     "text": [
      "Top-5 Hit Ratios: \n"
     ]
    },
    {
     "data": {
      "text/html": [
       "<div style=\"overflow:auto\"><table style=\"width:50%\"><tr><td><b>k</b></td>\n",
       "<td><b>hit_ratio</b></td></tr>\n",
       "<tr><td>1</td>\n",
       "<td>0.2354926</td></tr>\n",
       "<tr><td>2</td>\n",
       "<td>0.5178812</td></tr>\n",
       "<tr><td>3</td>\n",
       "<td>0.7149122</td></tr>\n",
       "<tr><td>4</td>\n",
       "<td>0.8408119</td></tr>\n",
       "<tr><td>5</td>\n",
       "<td>0.9999999</td></tr></table></div>"
      ],
      "text/plain": [
       "k    hit_ratio\n",
       "---  -----------\n",
       "1    0.235493\n",
       "2    0.517881\n",
       "3    0.714912\n",
       "4    0.840812\n",
       "5    1"
      ]
     },
     "metadata": {},
     "output_type": "display_data"
    },
    {
     "name": "stdout",
     "output_type": "stream",
     "text": [
      "\n",
      "\n",
      "ModelMetricsMultinomial: naivebayes\n",
      "** Reported on test data. **\n",
      "\n",
      "MSE: 0.6428325296364288\n",
      "RMSE: 0.8017683765505028\n",
      "LogLoss: 8.684464770332518\n",
      "Mean Per-Class Error: 0.6560514104028385\n",
      "Confusion Matrix: Row labels: Actual class; Column labels: Predicted class\n",
      "\n"
     ]
    },
    {
     "data": {
      "text/html": [
       "<div style=\"overflow:auto\"><table style=\"width:50%\"><tr><td><b>1</b></td>\n",
       "<td><b>2</b></td>\n",
       "<td><b>3</b></td>\n",
       "<td><b>4</b></td>\n",
       "<td><b>5</b></td>\n",
       "<td><b>Error</b></td>\n",
       "<td><b>Rate</b></td></tr>\n",
       "<tr><td>0.0</td>\n",
       "<td>0.0</td>\n",
       "<td>0.0</td>\n",
       "<td>0.0</td>\n",
       "<td>0.0</td>\n",
       "<td>nan</td>\n",
       "<td>0 / 0</td></tr>\n",
       "<tr><td>2490.0</td>\n",
       "<td>107.0</td>\n",
       "<td>1260.0</td>\n",
       "<td>229.0</td>\n",
       "<td>189.0</td>\n",
       "<td>0.9749708</td>\n",
       "<td>4,168 / 4,275</td></tr>\n",
       "<tr><td>856.0</td>\n",
       "<td>257.0</td>\n",
       "<td>2612.0</td>\n",
       "<td>3055.0</td>\n",
       "<td>862.0</td>\n",
       "<td>0.6582047</td>\n",
       "<td>5,030 / 7,642</td></tr>\n",
       "<tr><td>665.0</td>\n",
       "<td>55.0</td>\n",
       "<td>1590.0</td>\n",
       "<td>1409.0</td>\n",
       "<td>1428.0</td>\n",
       "<td>0.7262483</td>\n",
       "<td>3,738 / 5,147</td></tr>\n",
       "<tr><td>291.0</td>\n",
       "<td>95.0</td>\n",
       "<td>0.0</td>\n",
       "<td>277.0</td>\n",
       "<td>57.0</td>\n",
       "<td>0.9208333</td>\n",
       "<td>663 / 720</td></tr>\n",
       "<tr><td>4302.0</td>\n",
       "<td>514.0</td>\n",
       "<td>5462.0</td>\n",
       "<td>4970.0</td>\n",
       "<td>2536.0</td>\n",
       "<td>0.7646761</td>\n",
       "<td>13,599 / 17,784</td></tr></table></div>"
      ],
      "text/plain": [
       "1     2    3     4     5     Error     Rate\n",
       "----  ---  ----  ----  ----  --------  ---------------\n",
       "0     0    0     0     0     nan       0 / 0\n",
       "2490  107  1260  229   189   0.974971  4,168 / 4,275\n",
       "856   257  2612  3055  862   0.658205  5,030 / 7,642\n",
       "665   55   1590  1409  1428  0.726248  3,738 / 5,147\n",
       "291   95   0     277   57    0.920833  663 / 720\n",
       "4302  514  5462  4970  2536  0.764676  13,599 / 17,784"
      ]
     },
     "metadata": {},
     "output_type": "display_data"
    },
    {
     "name": "stdout",
     "output_type": "stream",
     "text": [
      "Top-5 Hit Ratios: \n"
     ]
    },
    {
     "data": {
      "text/html": [
       "<div style=\"overflow:auto\"><table style=\"width:50%\"><tr><td><b>k</b></td>\n",
       "<td><b>hit_ratio</b></td></tr>\n",
       "<tr><td>1</td>\n",
       "<td>0.2353239</td></tr>\n",
       "<tr><td>2</td>\n",
       "<td>0.5178813</td></tr>\n",
       "<tr><td>3</td>\n",
       "<td>0.7149686</td></tr>\n",
       "<tr><td>4</td>\n",
       "<td>0.8409807</td></tr>\n",
       "<tr><td>5</td>\n",
       "<td>1.0</td></tr></table></div>"
      ],
      "text/plain": [
       "k    hit_ratio\n",
       "---  -----------\n",
       "1    0.235324\n",
       "2    0.517881\n",
       "3    0.714969\n",
       "4    0.840981\n",
       "5    1"
      ]
     },
     "metadata": {},
     "output_type": "display_data"
    },
    {
     "name": "stdout",
     "output_type": "stream",
     "text": [
      "\n"
     ]
    }
   ],
   "source": [
    "# Retreive test set AUC\n",
    "print(nb_perf1)#.auc()\n",
    "print(nb_perf2)#.auc()"
   ]
  }
 ],
 "metadata": {
  "kernelspec": {
   "display_name": "Python 3",
   "language": "python",
   "name": "python3"
  },
  "language_info": {
   "codemirror_mode": {
    "name": "ipython",
    "version": 3
   },
   "file_extension": ".py",
   "mimetype": "text/x-python",
   "name": "python",
   "nbconvert_exporter": "python",
   "pygments_lexer": "ipython3",
   "version": "3.6.5"
  }
 },
 "nbformat": 4,
 "nbformat_minor": 2
}
