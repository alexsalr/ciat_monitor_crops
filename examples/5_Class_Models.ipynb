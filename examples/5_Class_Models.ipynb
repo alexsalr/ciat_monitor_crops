{
 "cells": [
  {
   "cell_type": "markdown",
   "metadata": {},
   "source": [
    "# Classification models\n",
    "\n",
    "This notebook shows classification model training and evaluation using features derived from remote sensing time series in the previous notebooks. In this case, we make use of h2o python package to achieve model training and classification in shorter time frames via h2o processing in Java. \n",
    "\n",
    "## Machine learning with h2o.ai\n",
    "\n",
    "First we import the h2o python package and initialize the H2O cluster with a memory limit of 8GB."
   ]
  },
  {
   "cell_type": "code",
   "execution_count": 1,
   "metadata": {},
   "outputs": [],
   "source": [
    "import h2o\n",
    "import os"
   ]
  },
  {
   "cell_type": "code",
   "execution_count": 2,
   "metadata": {},
   "outputs": [
    {
     "name": "stdout",
     "output_type": "stream",
     "text": [
      "Checking whether there is an H2O instance running at http://localhost:54321..... not found.\n",
      "Attempting to start a local H2O server...\n",
      "  Java Version: openjdk version \"1.8.0_121\"; OpenJDK Runtime Environment (Zulu 8.20.0.5-linux64) (build 1.8.0_121-b15); OpenJDK 64-Bit Server VM (Zulu 8.20.0.5-linux64) (build 25.121-b15, mixed mode)\n",
      "  Starting server from /home/azalazar/anaconda3/envs/models3/h2o_jar/h2o.jar\n",
      "  Ice root: /tmp/tmpeun4pd2e\n",
      "  JVM stdout: /tmp/tmpeun4pd2e/h2o_azalazar_started_from_python.out\n",
      "  JVM stderr: /tmp/tmpeun4pd2e/h2o_azalazar_started_from_python.err\n",
      "  Server is running at http://127.0.0.1:54321\n",
      "Connecting to H2O server at http://127.0.0.1:54321... successful.\n",
      "Warning: Your H2O cluster version is too old (5 months and 2 days)! Please download and install the latest version from http://h2o.ai/download/\n"
     ]
    },
    {
     "data": {
      "text/html": [
       "<div style=\"overflow:auto\"><table style=\"width:50%\"><tr><td>H2O cluster uptime:</td>\n",
       "<td>03 secs</td></tr>\n",
       "<tr><td>H2O cluster timezone:</td>\n",
       "<td>America/Bogota</td></tr>\n",
       "<tr><td>H2O data parsing timezone:</td>\n",
       "<td>UTC</td></tr>\n",
       "<tr><td>H2O cluster version:</td>\n",
       "<td>3.18.0.2</td></tr>\n",
       "<tr><td>H2O cluster version age:</td>\n",
       "<td>5 months and 2 days !!!</td></tr>\n",
       "<tr><td>H2O cluster name:</td>\n",
       "<td>H2O_from_python_azalazar_gx5pfg</td></tr>\n",
       "<tr><td>H2O cluster total nodes:</td>\n",
       "<td>1</td></tr>\n",
       "<tr><td>H2O cluster free memory:</td>\n",
       "<td>7.111 Gb</td></tr>\n",
       "<tr><td>H2O cluster total cores:</td>\n",
       "<td>24</td></tr>\n",
       "<tr><td>H2O cluster allowed cores:</td>\n",
       "<td>24</td></tr>\n",
       "<tr><td>H2O cluster status:</td>\n",
       "<td>accepting new members, healthy</td></tr>\n",
       "<tr><td>H2O connection url:</td>\n",
       "<td>http://127.0.0.1:54321</td></tr>\n",
       "<tr><td>H2O connection proxy:</td>\n",
       "<td>None</td></tr>\n",
       "<tr><td>H2O internal security:</td>\n",
       "<td>False</td></tr>\n",
       "<tr><td>H2O API Extensions:</td>\n",
       "<td>XGBoost, Algos, AutoML, Core V3, Core V4</td></tr>\n",
       "<tr><td>Python version:</td>\n",
       "<td>3.6.5 final</td></tr></table></div>"
      ],
      "text/plain": [
       "--------------------------  ----------------------------------------\n",
       "H2O cluster uptime:         03 secs\n",
       "H2O cluster timezone:       America/Bogota\n",
       "H2O data parsing timezone:  UTC\n",
       "H2O cluster version:        3.18.0.2\n",
       "H2O cluster version age:    5 months and 2 days !!!\n",
       "H2O cluster name:           H2O_from_python_azalazar_gx5pfg\n",
       "H2O cluster total nodes:    1\n",
       "H2O cluster free memory:    7.111 Gb\n",
       "H2O cluster total cores:    24\n",
       "H2O cluster allowed cores:  24\n",
       "H2O cluster status:         accepting new members, healthy\n",
       "H2O connection url:         http://127.0.0.1:54321\n",
       "H2O connection proxy:\n",
       "H2O internal security:      False\n",
       "H2O API Extensions:         XGBoost, Algos, AutoML, Core V3, Core V4\n",
       "Python version:             3.6.5 final\n",
       "--------------------------  ----------------------------------------"
      ]
     },
     "metadata": {},
     "output_type": "display_data"
    }
   ],
   "source": [
    "# Initialize h2o cluster\n",
    "h2o.init(nthreads = -1, max_mem_size = 8)"
   ]
  },
  {
   "cell_type": "markdown",
   "metadata": {},
   "source": [
    "### Data ingestion\n",
    "\n",
    "In the previous prepare dataset norbeooks, the multi-dimensional labeled arrays stored as netCDF files are transformed to dataframes and serialized to parquet format files via dask, xarray and pandas. The parquet files can be read directly as h2o data frames."
   ]
  },
  {
   "cell_type": "code",
   "execution_count": 8,
   "metadata": {},
   "outputs": [
    {
     "name": "stdout",
     "output_type": "stream",
     "text": [
      "Parse progress: |█████████████████████████████████████████████████████████| 100%\n"
     ]
    }
   ],
   "source": [
    "data = h2o.import_file(os.environ['WIN_SVR_DATA']+'Saldana/parquet77/')"
   ]
  },
  {
   "cell_type": "markdown",
   "metadata": {},
   "source": [
    "We specify the features to be used on the models. The ground truth class is in the *vclass*, while the feature names are indicated as the combination of *band*, *derivative* and *relative time*. Considering two vegetation indices, radar backscattering for VV polarization and 9 GLCM texture variable time series and their first derivative, and 8 times, we get 192 predictor variables."
   ]
  },
  {
   "cell_type": "code",
   "execution_count": 9,
   "metadata": {},
   "outputs": [
    {
     "name": "stdout",
     "output_type": "stream",
     "text": [
      "192 predictor variables in x\n"
     ]
    }
   ],
   "source": [
    "y = 'vclass'\n",
    "\n",
    "x = []\n",
    "\n",
    "for band in ['NDVI','LSWI','VV','VV_ASM','VV_Contrast','VV_Dissimilarity','VV_Energy','VV_Entropy',\n",
    "             'VV_GLCMCorrelation','VV_GLCMMean', 'VV_GLCMVariance', 'VV_Homogeneity']:\n",
    "    for der in ['','_1der']:\n",
    "        for time in ['_0','_16','_n16','_n32','_n48','_n64','_n80','_n96']:\n",
    "            x.append(band+time)\n",
    "\n",
    "print('{} predictor variables in x'.format(len(x)))"
   ]
  },
  {
   "cell_type": "code",
   "execution_count": 10,
   "metadata": {},
   "outputs": [
    {
     "data": {
      "text/plain": [
       "[['1', '2', '3', '4', '5']]"
      ]
     },
     "execution_count": 10,
     "metadata": {},
     "output_type": "execute_result"
    }
   ],
   "source": [
    "# Change classification type is a factor\n",
    "data['vclass'] = data['vclass'].asfactor()\n",
    "# Verify factor levels\n",
    "data['vclass'].levels()"
   ]
  },
  {
   "cell_type": "code",
   "execution_count": 11,
   "metadata": {},
   "outputs": [
    {
     "name": "stdout",
     "output_type": "stream",
     "text": [
      "Number of train pixels: 13723\n",
      "Number of test pixels: 9786\n"
     ]
    }
   ],
   "source": [
    "# Split train and test datasets\n",
    "train = data[data['tt']=='train']\n",
    "print('Number of train pixels: {}'.format(train.shape[0]))\n",
    "test = data[data['tt']=='test']\n",
    "print('Number of test pixels: {}'.format(test.shape[0]))"
   ]
  },
  {
   "cell_type": "markdown",
   "metadata": {},
   "source": [
    "### Model initialization"
   ]
  },
  {
   "cell_type": "code",
   "execution_count": 12,
   "metadata": {},
   "outputs": [],
   "source": [
    "from h2o.estimators.random_forest import H2ORandomForestEstimator\n",
    "\n",
    "rf_model = H2ORandomForestEstimator(model_id='rf_mod1', ntrees=200, seed=1)"
   ]
  },
  {
   "cell_type": "markdown",
   "metadata": {},
   "source": [
    "### Model training"
   ]
  },
  {
   "cell_type": "code",
   "execution_count": 13,
   "metadata": {},
   "outputs": [
    {
     "name": "stdout",
     "output_type": "stream",
     "text": [
      "drf Model Build progress: |███████████████████████████████████████████████| 100%\n"
     ]
    }
   ],
   "source": [
    "rf_model.train(x=x, y=y, training_frame=train)"
   ]
  },
  {
   "cell_type": "code",
   "execution_count": 14,
   "metadata": {
    "scrolled": false
   },
   "outputs": [
    {
     "name": "stdout",
     "output_type": "stream",
     "text": [
      "Model Details\n",
      "=============\n",
      "H2ORandomForestEstimator :  Distributed Random Forest\n",
      "Model Key:  rf_mod1\n",
      "\n",
      "\n",
      "ModelMetricsMultinomial: drf\n",
      "** Reported on train data. **\n",
      "\n",
      "MSE: 0.0011470154277978364\n",
      "RMSE: 0.033867616210737896\n",
      "LogLoss: 0.014219155894141846\n",
      "Mean Per-Class Error: 0.0002673362166555397\n",
      "Confusion Matrix: Row labels: Actual class; Column labels: Predicted class\n",
      "\n"
     ]
    },
    {
     "data": {
      "text/html": [
       "<div style=\"overflow:auto\"><table style=\"width:50%\"><tr><td><b>1</b></td>\n",
       "<td><b>2</b></td>\n",
       "<td><b>3</b></td>\n",
       "<td><b>4</b></td>\n",
       "<td><b>5</b></td>\n",
       "<td><b>Error</b></td>\n",
       "<td><b>Rate</b></td></tr>\n",
       "<tr><td>3767.0</td>\n",
       "<td>0.0</td>\n",
       "<td>0.0</td>\n",
       "<td>0.0</td>\n",
       "<td>0.0</td>\n",
       "<td>0.0</td>\n",
       "<td>0 / 3,767</td></tr>\n",
       "<tr><td>0.0</td>\n",
       "<td>2174.0</td>\n",
       "<td>0.0</td>\n",
       "<td>0.0</td>\n",
       "<td>0.0</td>\n",
       "<td>0.0</td>\n",
       "<td>0 / 2,174</td></tr>\n",
       "<tr><td>0.0</td>\n",
       "<td>0.0</td>\n",
       "<td>1878.0</td>\n",
       "<td>2.0</td>\n",
       "<td>0.0</td>\n",
       "<td>0.0010638</td>\n",
       "<td>2 / 1,880</td></tr>\n",
       "<tr><td>0.0</td>\n",
       "<td>0.0</td>\n",
       "<td>1.0</td>\n",
       "<td>3664.0</td>\n",
       "<td>0.0</td>\n",
       "<td>0.0002729</td>\n",
       "<td>1 / 3,665</td></tr>\n",
       "<tr><td>0.0</td>\n",
       "<td>0.0</td>\n",
       "<td>0.0</td>\n",
       "<td>0.0</td>\n",
       "<td>2237.0</td>\n",
       "<td>0.0</td>\n",
       "<td>0 / 2,237</td></tr>\n",
       "<tr><td>3767.0</td>\n",
       "<td>2174.0</td>\n",
       "<td>1879.0</td>\n",
       "<td>3666.0</td>\n",
       "<td>2237.0</td>\n",
       "<td>0.0002186</td>\n",
       "<td>3 / 13,723</td></tr></table></div>"
      ],
      "text/plain": [
       "1     2     3     4     5     Error        Rate\n",
       "----  ----  ----  ----  ----  -----------  ----------\n",
       "3767  0     0     0     0     0            0 / 3,767\n",
       "0     2174  0     0     0     0            0 / 2,174\n",
       "0     0     1878  2     0     0.00106383   2 / 1,880\n",
       "0     0     1     3664  0     0.000272851  1 / 3,665\n",
       "0     0     0     0     2237  0            0 / 2,237\n",
       "3767  2174  1879  3666  2237  0.000218611  3 / 13,723"
      ]
     },
     "metadata": {},
     "output_type": "display_data"
    },
    {
     "name": "stdout",
     "output_type": "stream",
     "text": [
      "Top-5 Hit Ratios: \n"
     ]
    },
    {
     "data": {
      "text/html": [
       "<div style=\"overflow:auto\"><table style=\"width:50%\"><tr><td><b>k</b></td>\n",
       "<td><b>hit_ratio</b></td></tr>\n",
       "<tr><td>1</td>\n",
       "<td>0.9997814</td></tr>\n",
       "<tr><td>2</td>\n",
       "<td>1.0</td></tr>\n",
       "<tr><td>3</td>\n",
       "<td>1.0</td></tr>\n",
       "<tr><td>4</td>\n",
       "<td>1.0</td></tr>\n",
       "<tr><td>5</td>\n",
       "<td>1.0</td></tr></table></div>"
      ],
      "text/plain": [
       "k    hit_ratio\n",
       "---  -----------\n",
       "1    0.999781\n",
       "2    1\n",
       "3    1\n",
       "4    1\n",
       "5    1"
      ]
     },
     "metadata": {},
     "output_type": "display_data"
    },
    {
     "name": "stdout",
     "output_type": "stream",
     "text": [
      "Scoring History: \n"
     ]
    },
    {
     "data": {
      "text/html": [
       "<div style=\"overflow:auto\"><table style=\"width:50%\"><tr><td><b></b></td>\n",
       "<td><b>timestamp</b></td>\n",
       "<td><b>duration</b></td>\n",
       "<td><b>number_of_trees</b></td>\n",
       "<td><b>training_rmse</b></td>\n",
       "<td><b>training_logloss</b></td>\n",
       "<td><b>training_classification_error</b></td></tr>\n",
       "<tr><td></td>\n",
       "<td>2018-08-08 10:44:43</td>\n",
       "<td> 0.054 sec</td>\n",
       "<td>0.0</td>\n",
       "<td>nan</td>\n",
       "<td>nan</td>\n",
       "<td>nan</td></tr>\n",
       "<tr><td></td>\n",
       "<td>2018-08-08 10:44:45</td>\n",
       "<td> 2.528 sec</td>\n",
       "<td>1.0</td>\n",
       "<td>0.1290737</td>\n",
       "<td>0.4961912</td>\n",
       "<td>0.0117717</td></tr>\n",
       "<tr><td></td>\n",
       "<td>2018-08-08 10:44:46</td>\n",
       "<td> 2.816 sec</td>\n",
       "<td>2.0</td>\n",
       "<td>0.1084652</td>\n",
       "<td>0.3220883</td>\n",
       "<td>0.0092177</td></tr>\n",
       "<tr><td></td>\n",
       "<td>2018-08-08 10:44:46</td>\n",
       "<td> 3.159 sec</td>\n",
       "<td>3.0</td>\n",
       "<td>0.1012190</td>\n",
       "<td>0.2697081</td>\n",
       "<td>0.0087530</td></tr>\n",
       "<tr><td></td>\n",
       "<td>2018-08-08 10:44:46</td>\n",
       "<td> 3.437 sec</td>\n",
       "<td>4.0</td>\n",
       "<td>0.0896309</td>\n",
       "<td>0.1953214</td>\n",
       "<td>0.0068104</td></tr>\n",
       "<tr><td></td>\n",
       "<td>2018-08-08 10:44:46</td>\n",
       "<td> 3.728 sec</td>\n",
       "<td>5.0</td>\n",
       "<td>0.0860898</td>\n",
       "<td>0.1691385</td>\n",
       "<td>0.0066575</td></tr>\n",
       "<tr><td></td>\n",
       "<td>2018-08-08 10:44:51</td>\n",
       "<td> 7.886 sec</td>\n",
       "<td>19.0</td>\n",
       "<td>0.0495094</td>\n",
       "<td>0.0184750</td>\n",
       "<td>0.0008016</td></tr>\n",
       "<tr><td></td>\n",
       "<td>2018-08-08 10:44:55</td>\n",
       "<td>11.919 sec</td>\n",
       "<td>44.0</td>\n",
       "<td>0.0402112</td>\n",
       "<td>0.0162691</td>\n",
       "<td>0.0002186</td></tr>\n",
       "<tr><td></td>\n",
       "<td>2018-08-08 10:44:59</td>\n",
       "<td>16.023 sec</td>\n",
       "<td>67.0</td>\n",
       "<td>0.0379184</td>\n",
       "<td>0.0139870</td>\n",
       "<td>0.0002186</td></tr>\n",
       "<tr><td></td>\n",
       "<td>2018-08-08 10:45:03</td>\n",
       "<td>20.051 sec</td>\n",
       "<td>90.0</td>\n",
       "<td>0.0368562</td>\n",
       "<td>0.0142181</td>\n",
       "<td>0.0001457</td></tr>\n",
       "<tr><td></td>\n",
       "<td>2018-08-08 10:45:07</td>\n",
       "<td>24.103 sec</td>\n",
       "<td>115.0</td>\n",
       "<td>0.0355728</td>\n",
       "<td>0.0141081</td>\n",
       "<td>0.0002186</td></tr>\n",
       "<tr><td></td>\n",
       "<td>2018-08-08 10:45:11</td>\n",
       "<td>28.233 sec</td>\n",
       "<td>140.0</td>\n",
       "<td>0.0349149</td>\n",
       "<td>0.0140711</td>\n",
       "<td>0.0002186</td></tr>\n",
       "<tr><td></td>\n",
       "<td>2018-08-08 10:45:15</td>\n",
       "<td>32.339 sec</td>\n",
       "<td>165.0</td>\n",
       "<td>0.0344739</td>\n",
       "<td>0.0142124</td>\n",
       "<td>0.0002186</td></tr>\n",
       "<tr><td></td>\n",
       "<td>2018-08-08 10:45:19</td>\n",
       "<td>36.485 sec</td>\n",
       "<td>192.0</td>\n",
       "<td>0.0340173</td>\n",
       "<td>0.0142282</td>\n",
       "<td>0.0002186</td></tr>\n",
       "<tr><td></td>\n",
       "<td>2018-08-08 10:45:21</td>\n",
       "<td>37.760 sec</td>\n",
       "<td>200.0</td>\n",
       "<td>0.0338676</td>\n",
       "<td>0.0142192</td>\n",
       "<td>0.0002186</td></tr></table></div>"
      ],
      "text/plain": [
       "    timestamp            duration    number_of_trees    training_rmse    training_logloss    training_classification_error\n",
       "--  -------------------  ----------  -----------------  ---------------  ------------------  -------------------------------\n",
       "    2018-08-08 10:44:43  0.054 sec   0                  nan              nan                 nan\n",
       "    2018-08-08 10:44:45  2.528 sec   1                  0.129074         0.496191            0.0117717\n",
       "    2018-08-08 10:44:46  2.816 sec   2                  0.108465         0.322088            0.00921771\n",
       "    2018-08-08 10:44:46  3.159 sec   3                  0.101219         0.269708            0.00875295\n",
       "    2018-08-08 10:44:46  3.437 sec   4                  0.0896309        0.195321            0.00681044\n",
       "    2018-08-08 10:44:46  3.728 sec   5                  0.0860898        0.169138            0.00665747\n",
       "    2018-08-08 10:44:51  7.886 sec   19                 0.0495094        0.018475            0.000801632\n",
       "    2018-08-08 10:44:55  11.919 sec  44                 0.0402112        0.0162691           0.000218611\n",
       "    2018-08-08 10:44:59  16.023 sec  67                 0.0379184        0.013987            0.000218611\n",
       "    2018-08-08 10:45:03  20.051 sec  90                 0.0368562        0.0142181           0.000145741\n",
       "    2018-08-08 10:45:07  24.103 sec  115                0.0355728        0.0141081           0.000218611\n",
       "    2018-08-08 10:45:11  28.233 sec  140                0.0349149        0.0140711           0.000218611\n",
       "    2018-08-08 10:45:15  32.339 sec  165                0.0344739        0.0142124           0.000218611\n",
       "    2018-08-08 10:45:19  36.485 sec  192                0.0340173        0.0142282           0.000218611\n",
       "    2018-08-08 10:45:21  37.760 sec  200                0.0338676        0.0142192           0.000218611"
      ]
     },
     "metadata": {},
     "output_type": "display_data"
    },
    {
     "name": "stdout",
     "output_type": "stream",
     "text": [
      "Variable Importances: \n"
     ]
    },
    {
     "data": {
      "text/html": [
       "<div style=\"overflow:auto\"><table style=\"width:50%\"><tr><td><b>variable</b></td>\n",
       "<td><b>relative_importance</b></td>\n",
       "<td><b>scaled_importance</b></td>\n",
       "<td><b>percentage</b></td></tr>\n",
       "<tr><td>NDVI_0</td>\n",
       "<td>188450.4687500</td>\n",
       "<td>1.0</td>\n",
       "<td>0.1193510</td></tr>\n",
       "<tr><td>NDVI_n16</td>\n",
       "<td>99374.1640625</td>\n",
       "<td>0.5273225</td>\n",
       "<td>0.0629365</td></tr>\n",
       "<tr><td>LSWI_n32</td>\n",
       "<td>95177.6171875</td>\n",
       "<td>0.5050538</td>\n",
       "<td>0.0602787</td></tr>\n",
       "<tr><td>LSWI_0</td>\n",
       "<td>93691.3359375</td>\n",
       "<td>0.4971669</td>\n",
       "<td>0.0593374</td></tr>\n",
       "<tr><td>LSWI_n48</td>\n",
       "<td>92875.5937500</td>\n",
       "<td>0.4928382</td>\n",
       "<td>0.0588207</td></tr>\n",
       "<tr><td>---</td>\n",
       "<td>---</td>\n",
       "<td>---</td>\n",
       "<td>---</td></tr>\n",
       "<tr><td>VV_GLCMCorrelation_n96</td>\n",
       "<td>443.6259155</td>\n",
       "<td>0.0023541</td>\n",
       "<td>0.0002810</td></tr>\n",
       "<tr><td>VV_Contrast_n80</td>\n",
       "<td>408.5744324</td>\n",
       "<td>0.0021681</td>\n",
       "<td>0.0002588</td></tr>\n",
       "<tr><td>VV_GLCMCorrelation_16</td>\n",
       "<td>347.9339905</td>\n",
       "<td>0.0018463</td>\n",
       "<td>0.0002204</td></tr>\n",
       "<tr><td>VV_GLCMCorrelation_n80</td>\n",
       "<td>347.3798218</td>\n",
       "<td>0.0018433</td>\n",
       "<td>0.0002200</td></tr>\n",
       "<tr><td>VV_Contrast_n64</td>\n",
       "<td>285.5489807</td>\n",
       "<td>0.0015152</td>\n",
       "<td>0.0001808</td></tr></table></div>"
      ],
      "text/plain": [
       "variable                relative_importance    scaled_importance      percentage\n",
       "----------------------  ---------------------  ---------------------  ----------------------\n",
       "NDVI_0                  188450.46875           1.0                    0.11935097992430439\n",
       "NDVI_n16                99374.1640625          0.5273224562488651     0.06293645188939317\n",
       "LSWI_n32                95177.6171875          0.5050537566651715     0.060278660772439395\n",
       "LSWI_0                  93691.3359375          0.4971669031070001     0.05933735707175215\n",
       "LSWI_n48                92875.59375            0.49283822091846086    0.05882072461076911\n",
       "---                     ---                    ---                    ---\n",
       "VV_GLCMCorrelation_n96  443.62591552734375     0.002354071701014773   0.0002809607643281872\n",
       "VV_Contrast_n80         408.5744323730469      0.0021680733143469395  0.00025876167461504166\n",
       "VV_GLCMCorrelation_16   347.9339904785156      0.0018462888035587102  0.0002203563779280036\n",
       "VV_GLCMCorrelation_n80  347.37982177734375     0.0018433481438466506  0.00022000540730974537\n",
       "VV_Contrast_n64         285.5489807128906      0.0015152468582697045  0.0001808461973617128"
      ]
     },
     "metadata": {},
     "output_type": "display_data"
    },
    {
     "name": "stdout",
     "output_type": "stream",
     "text": [
      "\n",
      "See the whole table with table.as_data_frame()\n"
     ]
    },
    {
     "data": {
      "text/plain": []
     },
     "execution_count": 14,
     "metadata": {},
     "output_type": "execute_result"
    }
   ],
   "source": [
    "# Visualize model details incl. training scores\n",
    "rf_model"
   ]
  },
  {
   "cell_type": "markdown",
   "metadata": {},
   "source": [
    "### Model evaluation"
   ]
  },
  {
   "cell_type": "code",
   "execution_count": 16,
   "metadata": {},
   "outputs": [
    {
     "data": {
      "text/html": [
       "<div>\n",
       "<style scoped>\n",
       "    .dataframe tbody tr th:only-of-type {\n",
       "        vertical-align: middle;\n",
       "    }\n",
       "\n",
       "    .dataframe tbody tr th {\n",
       "        vertical-align: top;\n",
       "    }\n",
       "\n",
       "    .dataframe thead th {\n",
       "        text-align: right;\n",
       "    }\n",
       "</style>\n",
       "<table border=\"1\" class=\"dataframe\">\n",
       "  <thead>\n",
       "    <tr style=\"text-align: right;\">\n",
       "      <th></th>\n",
       "      <th>1</th>\n",
       "      <th>2</th>\n",
       "      <th>3</th>\n",
       "      <th>4</th>\n",
       "      <th>5</th>\n",
       "      <th>Error</th>\n",
       "      <th>Rate</th>\n",
       "    </tr>\n",
       "  </thead>\n",
       "  <tbody>\n",
       "    <tr>\n",
       "      <th>0</th>\n",
       "      <td>1267.0</td>\n",
       "      <td>252.0</td>\n",
       "      <td>12.0</td>\n",
       "      <td>62.0</td>\n",
       "      <td>0.0</td>\n",
       "      <td>0.204645</td>\n",
       "      <td>326 / 1,593</td>\n",
       "    </tr>\n",
       "    <tr>\n",
       "      <th>1</th>\n",
       "      <td>332.0</td>\n",
       "      <td>242.0</td>\n",
       "      <td>2.0</td>\n",
       "      <td>0.0</td>\n",
       "      <td>0.0</td>\n",
       "      <td>0.579861</td>\n",
       "      <td>334 / 576</td>\n",
       "    </tr>\n",
       "    <tr>\n",
       "      <th>2</th>\n",
       "      <td>1.0</td>\n",
       "      <td>1.0</td>\n",
       "      <td>2214.0</td>\n",
       "      <td>2.0</td>\n",
       "      <td>0.0</td>\n",
       "      <td>0.001803</td>\n",
       "      <td>4 / 2,218</td>\n",
       "    </tr>\n",
       "    <tr>\n",
       "      <th>3</th>\n",
       "      <td>3.0</td>\n",
       "      <td>0.0</td>\n",
       "      <td>329.0</td>\n",
       "      <td>2728.0</td>\n",
       "      <td>35.0</td>\n",
       "      <td>0.118578</td>\n",
       "      <td>367 / 3,095</td>\n",
       "    </tr>\n",
       "    <tr>\n",
       "      <th>4</th>\n",
       "      <td>0.0</td>\n",
       "      <td>0.0</td>\n",
       "      <td>0.0</td>\n",
       "      <td>1.0</td>\n",
       "      <td>2303.0</td>\n",
       "      <td>0.000434</td>\n",
       "      <td>1 / 2,304</td>\n",
       "    </tr>\n",
       "    <tr>\n",
       "      <th>5</th>\n",
       "      <td>1603.0</td>\n",
       "      <td>495.0</td>\n",
       "      <td>2557.0</td>\n",
       "      <td>2793.0</td>\n",
       "      <td>2338.0</td>\n",
       "      <td>0.105457</td>\n",
       "      <td>1,032 / 9,786</td>\n",
       "    </tr>\n",
       "  </tbody>\n",
       "</table>\n",
       "</div>"
      ],
      "text/plain": [
       "        1      2       3       4       5     Error           Rate\n",
       "0  1267.0  252.0    12.0    62.0     0.0  0.204645    326 / 1,593\n",
       "1   332.0  242.0     2.0     0.0     0.0  0.579861      334 / 576\n",
       "2     1.0    1.0  2214.0     2.0     0.0  0.001803      4 / 2,218\n",
       "3     3.0    0.0   329.0  2728.0    35.0  0.118578    367 / 3,095\n",
       "4     0.0    0.0     0.0     1.0  2303.0  0.000434      1 / 2,304\n",
       "5  1603.0  495.0  2557.0  2793.0  2338.0  0.105457  1,032 / 9,786"
      ]
     },
     "execution_count": 16,
     "metadata": {},
     "output_type": "execute_result"
    }
   ],
   "source": [
    "rf_perf = rf_model.model_performance(test)\n",
    "rf_perf.confusion_matrix().as_data_frame()"
   ]
  },
  {
   "cell_type": "code",
   "execution_count": 18,
   "metadata": {},
   "outputs": [
    {
     "name": "stdout",
     "output_type": "stream",
     "text": [
      "drf prediction progress: |████████████████████████████████████████████████| 100%\n"
     ]
    },
    {
     "data": {
      "text/plain": [
       "0.8620797627201269"
      ]
     },
     "execution_count": 18,
     "metadata": {},
     "output_type": "execute_result"
    }
   ],
   "source": [
    "from sklearn.metrics import cohen_kappa_score\n",
    "#from sklearn.metrics import confusion_matrix\n",
    "#from sklearn.metrics import precision_score\n",
    "#from sklearn.metrics import recall_score\n",
    "#from sklearn.metrics import accuracy_score\n",
    "\n",
    "classification = rf_model.predict(test)['predict'].as_data_frame().values\n",
    "ground_truth = test['vclass'].as_data_frame().values\n",
    "\n",
    "cohen_kappa_score(classification, ground_truth)"
   ]
  },
  {
   "cell_type": "markdown",
   "metadata": {},
   "source": [
    "### Visualize classification"
   ]
  },
  {
   "cell_type": "code",
   "execution_count": 20,
   "metadata": {},
   "outputs": [
    {
     "name": "stdout",
     "output_type": "stream",
     "text": [
      "drf prediction progress: |████████████████████████████████████████████████| 100%\n"
     ]
    },
    {
     "data": {
      "text/plain": [
       "<xarray.Dataset>\n",
       "Dimensions:  (time: 3, x: 369, y: 295)\n",
       "Coordinates:\n",
       "  * time     (time) datetime64[us] 2015-11-27 2015-12-21 2016-01-07\n",
       "  * y        (y) int64 425045 425055 425065 425075 425085 425095 425105 ...\n",
       "  * x        (x) int64 499455 499465 499475 499485 499495 499505 499515 ...\n",
       "Data variables:\n",
       "    vclass   (time, x, y) float64 nan nan nan nan nan nan nan nan nan nan ...\n",
       "    predict  (time, x, y) float64 nan nan nan nan nan nan nan nan nan nan ..."
      ]
     },
     "execution_count": 20,
     "metadata": {},
     "output_type": "execute_result"
    }
   ],
   "source": [
    "import xarray as xr\n",
    "import numpy as np\n",
    "import pandas as pd\n",
    "\n",
    "# Join original test dataset and prediction as pandas dataframe\n",
    "resulting_class_df = test.as_data_frame().join(rf_model.predict(test)['predict'].as_data_frame())\n",
    "# Set pandas MultiIndex from variables to be coordinates\n",
    "resulting_class_df.set_index(['time','x', 'y'], inplace=True)\n",
    "# Return to xarray and keep only ground truth and prediction\n",
    "xarr = xr.Dataset.from_dataframe(resulting_class_df).sortby('time')[['vclass','predict']]\n",
    "# Convert time to np.datetime64\n",
    "xarr['time'] = np.array([np.datetime64(pd.to_datetime(i, unit='us')) for i in xarr.time.values],\n",
    "                        dtype=np.datetime64)\n",
    "# Visualize array\n",
    "xarr"
   ]
  },
  {
   "cell_type": "code",
   "execution_count": 21,
   "metadata": {},
   "outputs": [],
   "source": [
    "## Create a method to visualize classifications\n",
    "\n",
    "import matplotlib.pyplot as plt\n",
    "from datetime import datetime\n",
    "\n",
    "def compare_predictions(xarr):\n",
    "    \n",
    "    data_to_plot = []\n",
    "    tags = []\n",
    "    \n",
    "    times = xarr.time.values\n",
    "    \n",
    "    for date in [0,1,2]:\n",
    "        predicted = xarr.isel(time=date)['predict']\n",
    "        test = xarr.isel(time=date)['vclass']\n",
    "        data_to_plot += [test, predicted]\n",
    "        tags += ['ground_truth '+str(times[date])[:10], 'classified '+str(times[date])[:10]]\n",
    "\n",
    "    fig, axes = plt.subplots(nrows=3, ncols=2, figsize=(10, 15), sharex=False, sharey=False)\n",
    "    for idx, ax in enumerate(axes.flat):\n",
    "        im = ax.imshow(data_to_plot[idx],cmap='viridis',vmin=1,vmax=5,extent=[0.05,0.5,1,0.05],aspect=0.5)\n",
    "        ax.set_title(tags[idx])\n",
    "        \n",
    "    fig.subplots_adjust(right=0.8)\n",
    "    # put colorbar at desire position\n",
    "    cbar_ax = fig.add_axes([0.85, 0.25, 0.03, 0.5])\n",
    "    fig.colorbar(im, cax=cbar_ax)\n",
    "    "
   ]
  },
  {
   "cell_type": "code",
   "execution_count": 22,
   "metadata": {},
   "outputs": [
    {
     "data": {
      "image/png": "[encoded data removed]",
      "text/plain": [
       "<Figure size 720x1080 with 7 Axes>"
      ]
     },
     "metadata": {},
     "output_type": "display_data"
    }
   ],
   "source": [
    "compare_predictions(xarr)"
   ]
  },
  {
   "cell_type": "code",
   "execution_count": 77,
   "metadata": {},
   "outputs": [
    {
     "data": {
      "text/plain": [
       "[89.98827323365582,\n",
       " 91.37469314885071,\n",
       " 87.83529813770716,\n",
       " 88.48448687350835,\n",
       " 83.22595230021477,\n",
       " 93.8780287955051,\n",
       " 96.10668301655426,\n",
       " 95.77383694150161,\n",
       " 91.3253364540667]"
      ]
     },
     "execution_count": 77,
     "metadata": {},
     "output_type": "execute_result"
    }
   ],
   "source": [
    "performances_idx_opt_dyn"
   ]
  },
  {
   "cell_type": "markdown",
   "metadata": {
    "scrolled": true
   },
   "source": [
    "## Evaluate PCA for number of features reduction"
   ]
  },
  {
   "cell_type": "code",
   "execution_count": 63,
   "metadata": {},
   "outputs": [],
   "source": [
    "from h2o.transforms.decomposition import H2OPCA\n",
    "\n",
    "pca_decomp = H2OPCA(k=5, transform=\"Normalize\", pca_method=\"Randomized\")"
   ]
  },
  {
   "cell_type": "code",
   "execution_count": 85,
   "metadata": {},
   "outputs": [],
   "source": [
    "pca_in = []\n",
    "\n",
    "for band in ['VV', 'VV_ASM','VV_Contrast','VV_Dissimilarity','VV_Energy','VV_Entropy',\n",
    "             'VV_GLCMCorrelation','VV_GLCMMean', 'VV_GLCMVariance', 'VV_Homogeneity']:\n",
    "    for der in ['','_1der']:\n",
    "        for time in ['_0','_16','_n16','_n32','_n48','_n64','_n80','_n96']:\n",
    "            pca_in.append(band+time)\n",
    "\n",
    "#pca_decomp.train(x=pca_in, training_frame=train)"
   ]
  },
  {
   "cell_type": "code",
   "execution_count": 65,
   "metadata": {},
   "outputs": [
    {
     "name": "stdout",
     "output_type": "stream",
     "text": [
      "pca prediction progress: |████████████████████████████████████████████████| 100%\n"
     ]
    },
    {
     "data": {
      "text/html": [
       "<table>\n",
       "<thead>\n",
       "<tr><th style=\"text-align: right;\">      PC1</th><th style=\"text-align: right;\">     PC2</th><th style=\"text-align: right;\">      PC3</th><th style=\"text-align: right;\">       PC4</th><th style=\"text-align: right;\">     PC5</th></tr>\n",
       "</thead>\n",
       "<tbody>\n",
       "<tr><td style=\"text-align: right;\">-0.689761</td><td style=\"text-align: right;\">0.802824</td><td style=\"text-align: right;\"> 0.552728</td><td style=\"text-align: right;\"> 0.443724 </td><td style=\"text-align: right;\">0.583944</td></tr>\n",
       "<tr><td style=\"text-align: right;\"> 0.708632</td><td style=\"text-align: right;\">0.436599</td><td style=\"text-align: right;\"> 0.981662</td><td style=\"text-align: right;\">-0.0978511</td><td style=\"text-align: right;\">0.306588</td></tr>\n",
       "<tr><td style=\"text-align: right;\"> 0.418011</td><td style=\"text-align: right;\">0.338275</td><td style=\"text-align: right;\"> 0.659393</td><td style=\"text-align: right;\">-0.145665 </td><td style=\"text-align: right;\">0.244776</td></tr>\n",
       "<tr><td style=\"text-align: right;\"> 0.885644</td><td style=\"text-align: right;\">0.639863</td><td style=\"text-align: right;\">-0.585567</td><td style=\"text-align: right;\"> 0.0489467</td><td style=\"text-align: right;\">0.400723</td></tr>\n",
       "<tr><td style=\"text-align: right;\"> 0.940557</td><td style=\"text-align: right;\">0.94801 </td><td style=\"text-align: right;\">-0.211738</td><td style=\"text-align: right;\"> 0.0912162</td><td style=\"text-align: right;\">0.144138</td></tr>\n",
       "<tr><td style=\"text-align: right;\"> 0.941079</td><td style=\"text-align: right;\">0.730361</td><td style=\"text-align: right;\">-0.494833</td><td style=\"text-align: right;\"> 0.1335   </td><td style=\"text-align: right;\">0.247753</td></tr>\n",
       "<tr><td style=\"text-align: right;\"> 0.857098</td><td style=\"text-align: right;\">0.643208</td><td style=\"text-align: right;\">-0.531565</td><td style=\"text-align: right;\"> 0.0960422</td><td style=\"text-align: right;\">0.300967</td></tr>\n",
       "<tr><td style=\"text-align: right;\"> 0.901296</td><td style=\"text-align: right;\">0.659432</td><td style=\"text-align: right;\">-0.49995 </td><td style=\"text-align: right;\"> 0.0166188</td><td style=\"text-align: right;\">0.311604</td></tr>\n",
       "<tr><td style=\"text-align: right;\"> 0.58629 </td><td style=\"text-align: right;\">0.732859</td><td style=\"text-align: right;\">-0.144946</td><td style=\"text-align: right;\">-0.671958 </td><td style=\"text-align: right;\">0.158541</td></tr>\n",
       "<tr><td style=\"text-align: right;\"> 0.416676</td><td style=\"text-align: right;\">0.701205</td><td style=\"text-align: right;\">-0.158334</td><td style=\"text-align: right;\">-0.70054  </td><td style=\"text-align: right;\">0.196546</td></tr>\n",
       "</tbody>\n",
       "</table>"
      ]
     },
     "metadata": {},
     "output_type": "display_data"
    },
    {
     "data": {
      "text/plain": []
     },
     "execution_count": 65,
     "metadata": {},
     "output_type": "execute_result"
    }
   ],
   "source": [
    "pca = pca_decomp.predict(train)\n",
    "pca"
   ]
  },
  {
   "cell_type": "code",
   "execution_count": 68,
   "metadata": {},
   "outputs": [],
   "source": [
    "pca_train = train.cbind(pca)"
   ]
  },
  {
   "cell_type": "code",
   "execution_count": 67,
   "metadata": {},
   "outputs": [
    {
     "name": "stdout",
     "output_type": "stream",
     "text": [
      "['PC1', 'PC2', 'PC3', 'PC4', 'PC5', 'NDVI_0', 'NDVI_16', 'NDVI_n16', 'NDVI_n32', 'NDVI_n48', 'NDVI_n64', 'NDVI_n80', 'NDVI_n96', 'NDVI_0', 'NDVI_16', 'NDVI_n16', 'NDVI_n32', 'NDVI_n48', 'NDVI_n64', 'NDVI_n80', 'NDVI_n96', 'LSWI_0', 'LSWI_16', 'LSWI_n16', 'LSWI_n32', 'LSWI_n48', 'LSWI_n64', 'LSWI_n80', 'LSWI_n96', 'LSWI_0', 'LSWI_16', 'LSWI_n16', 'LSWI_n32', 'LSWI_n48', 'LSWI_n64', 'LSWI_n80', 'LSWI_n96', 'VV_0', 'VV_16', 'VV_n16', 'VV_n32', 'VV_n48', 'VV_n64', 'VV_n80', 'VV_n96', 'VV_0', 'VV_16', 'VV_n16', 'VV_n32', 'VV_n48', 'VV_n64', 'VV_n80', 'VV_n96']\n"
     ]
    }
   ],
   "source": [
    "pca_x = ['PC1','PC2','PC3','PC4','PC5']\n",
    "\n",
    "for band in ['NDVI','LSWI','VV']:\n",
    "    for der in ['','_1der']:\n",
    "        for time in ['_0','_16','_n16','_n32','_n48','_n64','_n80','_n96']:\n",
    "            pca_x.append(band+time)\n",
    "\n",
    "print(pca_x)"
   ]
  },
  {
   "cell_type": "code",
   "execution_count": 70,
   "metadata": {},
   "outputs": [
    {
     "name": "stdout",
     "output_type": "stream",
     "text": [
      "pca prediction progress: |████████████████████████████████████████████████| 100%\n"
     ]
    }
   ],
   "source": [
    "pca_test = test.cbind(pca_decomp.predict(test))"
   ]
  },
  {
   "cell_type": "markdown",
   "metadata": {},
   "source": [
    "## Evaluate train/test splits\n",
    "\n",
    "As data availability is very limited, we evaluate the stability of the model results, given different configuration of the dataset splitting into train and test datasets. This split is done at polygon level to avoid using correlated pixels from the same field in both train and test dataframes. \n",
    "\n",
    "The results show that there is still a high variability in the models performance (~20%) in the different split configurations."
   ]
  },
  {
   "cell_type": "code",
   "execution_count": 62,
   "metadata": {},
   "outputs": [],
   "source": [
    "opt_x = []\n",
    "opt_vv_x = []\n",
    "\n",
    "\n",
    "for band in ['NDVI','LSWI']:\n",
    "    for der in ['','_1der']:\n",
    "        for time in ['_0','_16','_n16','_n32','_n48','_n64','_n80','_n96']:\n",
    "            opt_x.append(band+time)\n",
    "\n",
    "for band in ['NDVI','LSWI','VV']:\n",
    "    for der in ['','_1der']:\n",
    "        for time in ['_0','_16','_n16','_n32','_n48','_n64','_n80','_n96']:\n",
    "            opt_vv_x.append(band+time)\n",
    "\n"
   ]
  },
  {
   "cell_type": "code",
   "execution_count": 86,
   "metadata": {
    "scrolled": true
   },
   "outputs": [
    {
     "name": "stdout",
     "output_type": "stream",
     "text": [
      "Parse progress: |█████████████████████████████████████████████████████████| 100%\n",
      "drf Model Build progress: |███████████████████████████████████████████████| 100%\n",
      "drf prediction progress: |████████████████████████████████████████████████| 100%\n",
      "drf Model Build progress: |███████████████████████████████████████████████| 100%\n",
      "drf prediction progress: |████████████████████████████████████████████████| 100%\n",
      "drf Model Build progress: |███████████████████████████████████████████████| 100%\n",
      "drf prediction progress: |████████████████████████████████████████████████| 100%\n",
      "drf Model Build progress: |███████████████████████████████████████████████| 100%\n",
      "drf prediction progress: |████████████████████████████████████████████████| 100%\n",
      "pca Model Build progress: |███████████████████████████████████████████████| 100%\n"
     ]
    },
    {
     "name": "stderr",
     "output_type": "stream",
     "text": [
      "/home/azalazar/anaconda3/envs/models3/lib/python3.6/site-packages/h2o/job.py:69: UserWarning: _train: Dataset used may contain fewer number of rows due to removal of rows with NA/missing values.  If this is not desirable, set impute_missing argument in pca call to TRUE/True/true/... depending on the client language.\n",
      "  warnings.warn(w)\n"
     ]
    },
    {
     "name": "stdout",
     "output_type": "stream",
     "text": [
      "pca prediction progress: |████████████████████████████████████████████████| 100%\n",
      "pca prediction progress: |████████████████████████████████████████████████| 100%\n",
      "drf Model Build progress: |███████████████████████████████████████████████| 100%\n",
      "drf prediction progress: |████████████████████████████████████████████████| 100%\n",
      "Parse progress: |█████████████████████████████████████████████████████████| 100%\n",
      "drf Model Build progress: |███████████████████████████████████████████████| 100%\n",
      "drf prediction progress: |████████████████████████████████████████████████| 100%\n",
      "drf Model Build progress: |███████████████████████████████████████████████| 100%\n",
      "drf prediction progress: |████████████████████████████████████████████████| 100%\n",
      "drf Model Build progress: |███████████████████████████████████████████████| 100%\n",
      "drf prediction progress: |████████████████████████████████████████████████| 100%\n",
      "drf Model Build progress: |███████████████████████████████████████████████| 100%\n",
      "drf prediction progress: |████████████████████████████████████████████████| 100%\n",
      "pca Model Build progress: |███████████████████████████████████████████████| 100%\n",
      "pca prediction progress: |████████████████████████████████████████████████| 100%\n",
      "pca prediction progress: |████████████████████████████████████████████████| 100%\n",
      "drf Model Build progress: |███████████████████████████████████████████████| 100%\n",
      "drf prediction progress: |████████████████████████████████████████████████| 100%\n",
      "Parse progress: |█████████████████████████████████████████████████████████| 100%\n",
      "drf Model Build progress: |███████████████████████████████████████████████| 100%\n",
      "drf prediction progress: |████████████████████████████████████████████████| 100%\n",
      "drf Model Build progress: |███████████████████████████████████████████████| 100%\n",
      "drf prediction progress: |████████████████████████████████████████████████| 100%\n",
      "drf Model Build progress: |███████████████████████████████████████████████| 100%\n",
      "drf prediction progress: |████████████████████████████████████████████████| 100%\n",
      "drf Model Build progress: |███████████████████████████████████████████████| 100%\n",
      "drf prediction progress: |████████████████████████████████████████████████| 100%\n",
      "pca Model Build progress: |███████████████████████████████████████████████| 100%\n",
      "pca prediction progress: |████████████████████████████████████████████████| 100%\n",
      "pca prediction progress: |████████████████████████████████████████████████| 100%\n",
      "drf Model Build progress: |███████████████████████████████████████████████| 100%\n",
      "drf prediction progress: |████████████████████████████████████████████████| 100%\n",
      "Parse progress: |█████████████████████████████████████████████████████████| 100%\n",
      "drf Model Build progress: |███████████████████████████████████████████████| 100%\n",
      "drf prediction progress: |████████████████████████████████████████████████| 100%\n",
      "drf Model Build progress: |███████████████████████████████████████████████| 100%\n",
      "drf prediction progress: |████████████████████████████████████████████████| 100%\n",
      "drf Model Build progress: |███████████████████████████████████████████████| 100%\n",
      "drf prediction progress: |████████████████████████████████████████████████| 100%\n",
      "drf Model Build progress: |███████████████████████████████████████████████| 100%\n",
      "drf prediction progress: |████████████████████████████████████████████████| 100%\n",
      "pca Model Build progress: |███████████████████████████████████████████████| 100%\n",
      "pca prediction progress: |████████████████████████████████████████████████| 100%\n",
      "pca prediction progress: |████████████████████████████████████████████████| 100%\n",
      "drf Model Build progress: |███████████████████████████████████████████████| 100%\n",
      "drf prediction progress: |████████████████████████████████████████████████| 100%\n",
      "Parse progress: |█████████████████████████████████████████████████████████| 100%\n",
      "drf Model Build progress: |███████████████████████████████████████████████| 100%\n",
      "drf prediction progress: |████████████████████████████████████████████████| 100%\n",
      "drf Model Build progress: |███████████████████████████████████████████████| 100%\n",
      "drf prediction progress: |████████████████████████████████████████████████| 100%\n",
      "drf Model Build progress: |███████████████████████████████████████████████| 100%\n",
      "drf prediction progress: |████████████████████████████████████████████████| 100%\n",
      "drf Model Build progress: |███████████████████████████████████████████████| 100%\n",
      "drf prediction progress: |████████████████████████████████████████████████| 100%\n",
      "pca Model Build progress: |███████████████████████████████████████████████| 100%\n",
      "pca prediction progress: |████████████████████████████████████████████████| 100%\n",
      "pca prediction progress: |████████████████████████████████████████████████| 100%\n",
      "drf Model Build progress: |███████████████████████████████████████████████| 100%\n",
      "drf prediction progress: |████████████████████████████████████████████████| 100%\n",
      "Parse progress: |█████████████████████████████████████████████████████████| 100%\n",
      "drf Model Build progress: |███████████████████████████████████████████████| 100%\n",
      "drf prediction progress: |████████████████████████████████████████████████| 100%\n",
      "drf Model Build progress: |███████████████████████████████████████████████| 100%\n",
      "drf prediction progress: |████████████████████████████████████████████████| 100%\n",
      "drf Model Build progress: |███████████████████████████████████████████████| 100%\n",
      "drf prediction progress: |████████████████████████████████████████████████| 100%\n",
      "drf Model Build progress: |███████████████████████████████████████████████| 100%\n",
      "drf prediction progress: |████████████████████████████████████████████████| 100%\n",
      "pca Model Build progress: |███████████████████████████████████████████████| 100%\n",
      "pca prediction progress: |████████████████████████████████████████████████| 100%\n",
      "pca prediction progress: |████████████████████████████████████████████████| 100%\n",
      "drf Model Build progress: |███████████████████████████████████████████████| 100%\n",
      "drf prediction progress: |████████████████████████████████████████████████| 100%\n",
      "Parse progress: |█████████████████████████████████████████████████████████| 100%\n",
      "drf Model Build progress: |███████████████████████████████████████████████| 100%\n",
      "drf prediction progress: |████████████████████████████████████████████████| 100%\n",
      "drf Model Build progress: |███████████████████████████████████████████████| 100%\n",
      "drf prediction progress: |████████████████████████████████████████████████| 100%\n",
      "drf Model Build progress: |███████████████████████████████████████████████| 100%\n",
      "drf prediction progress: |████████████████████████████████████████████████| 100%\n",
      "drf Model Build progress: |███████████████████████████████████████████████| 100%\n",
      "drf prediction progress: |████████████████████████████████████████████████| 100%\n",
      "pca Model Build progress: |███████████████████████████████████████████████| 100%\n",
      "pca prediction progress: |████████████████████████████████████████████████| 100%\n",
      "pca prediction progress: |████████████████████████████████████████████████| 100%\n",
      "drf Model Build progress: |███████████████████████████████████████████████| 100%\n",
      "drf prediction progress: |████████████████████████████████████████████████| 100%\n",
      "Parse progress: |█████████████████████████████████████████████████████████| 100%\n",
      "drf Model Build progress: |███████████████████████████████████████████████| 100%\n",
      "drf prediction progress: |████████████████████████████████████████████████| 100%\n",
      "drf Model Build progress: |███████████████████████████████████████████████| 100%\n",
      "drf prediction progress: |████████████████████████████████████████████████| 100%\n",
      "drf Model Build progress: |███████████████████████████████████████████████| 100%\n",
      "drf prediction progress: |████████████████████████████████████████████████| 100%\n",
      "drf Model Build progress: |███████████████████████████████████████████████| 100%\n",
      "drf prediction progress: |████████████████████████████████████████████████| 100%\n",
      "pca Model Build progress: |███████████████████████████████████████████████| 100%\n",
      "pca prediction progress: |████████████████████████████████████████████████| 100%\n",
      "pca prediction progress: |████████████████████████████████████████████████| 100%\n",
      "drf Model Build progress: |███████████████████████████████████████████████| 100%\n",
      "drf prediction progress: |████████████████████████████████████████████████| 100%\n",
      "Parse progress: |█████████████████████████████████████████████████████████| 100%\n",
      "drf Model Build progress: |███████████████████████████████████████████████| 100%\n",
      "drf prediction progress: |████████████████████████████████████████████████| 100%\n",
      "drf Model Build progress: |███████████████████████████████████████████████| 100%\n",
      "drf prediction progress: |████████████████████████████████████████████████| 100%\n",
      "drf Model Build progress: |███████████████████████████████████████████████| 100%\n",
      "drf prediction progress: |████████████████████████████████████████████████| 100%\n",
      "drf Model Build progress: |███████████████████████████████████████████████| 100%\n",
      "drf prediction progress: |████████████████████████████████████████████████| 100%\n",
      "pca Model Build progress: |███████████████████████████████████████████████| 100%\n",
      "pca prediction progress: |████████████████████████████████████████████████| 100%\n",
      "pca prediction progress: |████████████████████████████████████████████████| 100%\n",
      "drf Model Build progress: |███████████████████████████████████████████████| 100%\n",
      "drf prediction progress: |████████████████████████████████████████████████| 100%\n"
     ]
    }
   ],
   "source": [
    "\n",
    "#Only including NDVI+LSWI at time0\n",
    "performances_idx_opt_stat = []\n",
    "#Incld NDVI+LSWI time-series features\n",
    "performances_idx_opt_dyn = []\n",
    "#Incld NDVI+LSWI+VV time-series\n",
    "performances_idx_opt_vv_dyn = []\n",
    "#Incld NDVI+LSWI+VV+GLCM time-series\n",
    "performances_idx_opt_vv_glcm_dyn = []\n",
    "#Incld NDVI+LSWI+PCA time-series\n",
    "performances_idx_opt_dyn_pca = []\n",
    "\n",
    "for seed in [11,22,33,44,55,66,77,88,99]:\n",
    "    \n",
    "    #Read data\n",
    "    data = h2o.import_file(os.environ['WIN_SVR_DATA']+'Saldana/parquet'+str(seed)+'/')\n",
    "    data['vclass'] = data['vclass'].asfactor()\n",
    "    #Split\n",
    "    train = data[data['tt']=='train']\n",
    "    test = data[data['tt']=='test']\n",
    "    \n",
    "    #Fit model 1\n",
    "    rf_fit = H2ORandomForestEstimator(model_id='rf_fit', ntrees=200, seed=1)\n",
    "    rf_fit.train(x=['NDVI_0','LSWI_0'], y=y, training_frame=train)\n",
    "    perf = (rf_fit.predict(test)['predict']==test['vclass']).as_data_frame(use_pandas=True).mean()[0]*100\n",
    "    performances_idx_opt_stat.append(perf)\n",
    "    \n",
    "    #Fit model 2\n",
    "    rf_fit = H2ORandomForestEstimator(model_id='rf_fit', ntrees=200, seed=1)\n",
    "    rf_fit.train(x=opt_x, y=y, training_frame=train)\n",
    "    perf = (rf_fit.predict(test)['predict']==test['vclass']).as_data_frame(use_pandas=True).mean()[0]*100\n",
    "    performances_idx_opt_dyn.append(perf)\n",
    "    \n",
    "    #Fit model 3\n",
    "    rf_fit = H2ORandomForestEstimator(model_id='rf_fit', ntrees=200, seed=1)\n",
    "    rf_fit.train(x=opt_vv_x, y=y, training_frame=train)\n",
    "    perf = (rf_fit.predict(test)['predict']==test['vclass']).as_data_frame(use_pandas=True).mean()[0]*100\n",
    "    performances_idx_opt_vv_dyn.append(perf)\n",
    "    \n",
    "    #Fit model 4\n",
    "    rf_fit = H2ORandomForestEstimator(model_id='rf_fit', ntrees=200, seed=1)\n",
    "    rf_fit.train(x=x, y=y, training_frame=train)\n",
    "    perf = (rf_fit.predict(test)['predict']==test['vclass']).as_data_frame(use_pandas=True).mean()[0]*100\n",
    "    performances_idx_opt_vv_glcm_dyn.append(perf)\n",
    "    \n",
    "    #Fit model 5\n",
    "    \n",
    "    pca_decomp = H2OPCA(k=5, transform=\"Normalize\", pca_method=\"Randomized\")\n",
    "    pca_decomp.train(x=pca_in, training_frame=train)\n",
    "    pca = pca_decomp.predict(train)\n",
    "    pca_train = train.cbind(pca)\n",
    "    pca_test = test.cbind(pca_decomp.predict(test))\n",
    "    \n",
    "    rf_fit = H2ORandomForestEstimator(model_id='rf_fit', ntrees=200, seed=1)\n",
    "    rf_fit.train(x=pca_x, y=y, training_frame=pca_train)\n",
    "    perf = (rf_fit.predict(pca_test)['predict']==pca_test['vclass']).as_data_frame(use_pandas=True).mean()[0]*100\n",
    "    performances_idx_opt_dyn_pca.append(perf)\n",
    "    "
   ]
  },
  {
   "cell_type": "code",
   "execution_count": 90,
   "metadata": {},
   "outputs": [
    {
     "data": {
      "image/png": "[encoded data removed]",
      "text/plain": [
       "<Figure size 720x288 with 1 Axes>"
      ]
     },
     "metadata": {},
     "output_type": "display_data"
    }
   ],
   "source": [
    "from matplotlib import pyplot as plt\n",
    "\n",
    "fig, ax1 = plt.subplots(figsize=(10, 4))\n",
    "\n",
    "ax1.boxplot([performances_idx_opt_stat, performances_idx_opt_dyn, performances_idx_opt_vv_dyn,\n",
    "            performances_idx_opt_vv_glcm_dyn, performances_idx_opt_dyn_pca])\n",
    "\n",
    "ax1.set_xticklabels(['NDVI_0+LSWI_0','NDVI+LSWI','NDVI+LSWI+VV',\n",
    "                    'NDVI+LSWI+VV+GLCM','NDVI+LSWI+VV+PCA'])\n",
    "\n",
    "ax1.set_ylabel('Classification accuracy (%)')\n",
    "\n",
    "plt.tight_layout()\n",
    "\n",
    "plt.show()"
   ]
  },
  {
   "cell_type": "markdown",
   "metadata": {},
   "source": [
    "## Other model configurations"
   ]
  },
  {
   "cell_type": "code",
   "execution_count": 31,
   "metadata": {},
   "outputs": [],
   "source": [
    "from h2o.estimators.random_forest import H2ORandomForestEstimator\n",
    "\n",
    "rf_v1 = H2ORandomForestEstimator(model_id=\"rf_covType_v1\", ntrees=500, stopping_rounds=2,\n",
    "                                 score_each_iteration=True, seed=100)\n",
    "\n",
    "rf_fit2 = H2ORandomForestEstimator(model_id='rf_fit2', ntrees=200, seed=1)"
   ]
  },
  {
   "cell_type": "code",
   "execution_count": 196,
   "metadata": {},
   "outputs": [],
   "source": [
    "# Import H2O GBM:\n",
    "from h2o.estimators.gbm import H2OGradientBoostingEstimator\n",
    "\n",
    "gbm_fit1 = H2OGradientBoostingEstimator(model_id='gbm_fit1', seed=1)\n",
    "gbm_fit2 = H2OGradientBoostingEstimator(model_id='gbm_fit2', ntrees=500, seed=1)\n",
    "gbm_fit3 = H2OGradientBoostingEstimator(model_id='gbm_fit3', ntrees=500, \n",
    "                                        score_tree_interval=5,     #used for early stopping\n",
    "                                        stopping_rounds=3,         #used for early stopping\n",
    "                                        stopping_metric='misclassification',     #used for early stopping\n",
    "                                        #stopping_tolerance=0.0005, #used for early stopping\n",
    "                                        seed=1)"
   ]
  },
  {
   "cell_type": "code",
   "execution_count": 161,
   "metadata": {},
   "outputs": [],
   "source": [
    "# Import H2O DL <to test>\n",
    "from h2o.estimators.deeplearning import H2ODeepLearningEstimator"
   ]
  },
  {
   "cell_type": "code",
   "execution_count": 169,
   "metadata": {},
   "outputs": [
    {
     "name": "stdout",
     "output_type": "stream",
     "text": [
      "naivebayes Model Build progress: |████████████████████████████████████████| 100%\n"
     ]
    }
   ],
   "source": [
    "from h2o.estimators.naive_bayes import H2ONaiveBayesEstimator\n",
    "nb_fit1 = H2ONaiveBayesEstimator(model_id='nb_fit1')\n",
    "nb_fit2 = H2ONaiveBayesEstimator(model_id='nb_fit2', laplace=6)"
   ]
  },
  {
   "cell_type": "code",
   "execution_count": 7,
   "metadata": {},
   "outputs": [
    {
     "name": "stdout",
     "output_type": "stream",
     "text": [
      "H2O session _sid_abda closed.\n"
     ]
    }
   ],
   "source": [
    "# Close h2o cluster\n",
    "h2o.cluster().shutdown(prompt=False)"
   ]
  }
 ],
 "metadata": {
  "kernelspec": {
   "display_name": "Python 3",
   "language": "python",
   "name": "python3"
  },
  "language_info": {
   "codemirror_mode": {
    "name": "ipython",
    "version": 3
   },
   "file_extension": ".py",
   "mimetype": "text/x-python",
   "name": "python",
   "nbconvert_exporter": "python",
   "pygments_lexer": "ipython3",
   "version": "3.6.5"
  }
 },
 "nbformat": 4,
 "nbformat_minor": 2
}
