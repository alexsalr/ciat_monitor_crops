{
 "cells": [
  {
   "cell_type": "markdown",
   "metadata": {},
   "source": [
    "# Classification models\n",
    "\n",
    "This notebook shows classification model training and evaluation using features derived from remote sensing time series in the previous notebooks. In this case, we make use of h2o python package to achieve model training and classification in shorter time frames via h2o processing in Java. \n",
    "\n",
    "## Machine learning with h2o.ai\n",
    "\n",
    "First we import the h2o python package and initialize the H2O cluster with a memory limit of 8GB."
   ]
  },
  {
   "cell_type": "code",
   "execution_count": 1,
   "metadata": {},
   "outputs": [],
   "source": [
    "import h2o\n",
    "import os"
   ]
  },
  {
   "cell_type": "code",
   "execution_count": 27,
   "metadata": {},
   "outputs": [
    {
     "name": "stdout",
     "output_type": "stream",
     "text": [
      "Checking whether there is an H2O instance running at http://localhost:54321..... not found.\n",
      "Attempting to start a local H2O server...\n",
      "  Java Version: openjdk version \"1.8.0_121\"; OpenJDK Runtime Environment (Zulu 8.20.0.5-linux64) (build 1.8.0_121-b15); OpenJDK 64-Bit Server VM (Zulu 8.20.0.5-linux64) (build 25.121-b15, mixed mode)\n",
      "  Starting server from /home/azalazar/anaconda3/envs/models3/h2o_jar/h2o.jar\n",
      "  Ice root: /tmp/tmpzmma9o19\n",
      "  JVM stdout: /tmp/tmpzmma9o19/h2o_azalazar_started_from_python.out\n",
      "  JVM stderr: /tmp/tmpzmma9o19/h2o_azalazar_started_from_python.err\n",
      "  Server is running at http://127.0.0.1:54321\n",
      "Connecting to H2O server at http://127.0.0.1:54321... successful.\n",
      "Warning: Your H2O cluster version is too old (5 months and 7 days)! Please download and install the latest version from http://h2o.ai/download/\n"
     ]
    },
    {
     "data": {
      "text/html": [
       "<div style=\"overflow:auto\"><table style=\"width:50%\"><tr><td>H2O cluster uptime:</td>\n",
       "<td>03 secs</td></tr>\n",
       "<tr><td>H2O cluster timezone:</td>\n",
       "<td>America/Bogota</td></tr>\n",
       "<tr><td>H2O data parsing timezone:</td>\n",
       "<td>UTC</td></tr>\n",
       "<tr><td>H2O cluster version:</td>\n",
       "<td>3.18.0.2</td></tr>\n",
       "<tr><td>H2O cluster version age:</td>\n",
       "<td>5 months and 7 days !!!</td></tr>\n",
       "<tr><td>H2O cluster name:</td>\n",
       "<td>H2O_from_python_azalazar_23frpg</td></tr>\n",
       "<tr><td>H2O cluster total nodes:</td>\n",
       "<td>1</td></tr>\n",
       "<tr><td>H2O cluster free memory:</td>\n",
       "<td>7.111 Gb</td></tr>\n",
       "<tr><td>H2O cluster total cores:</td>\n",
       "<td>24</td></tr>\n",
       "<tr><td>H2O cluster allowed cores:</td>\n",
       "<td>24</td></tr>\n",
       "<tr><td>H2O cluster status:</td>\n",
       "<td>accepting new members, healthy</td></tr>\n",
       "<tr><td>H2O connection url:</td>\n",
       "<td>http://127.0.0.1:54321</td></tr>\n",
       "<tr><td>H2O connection proxy:</td>\n",
       "<td>None</td></tr>\n",
       "<tr><td>H2O internal security:</td>\n",
       "<td>False</td></tr>\n",
       "<tr><td>H2O API Extensions:</td>\n",
       "<td>XGBoost, Algos, AutoML, Core V3, Core V4</td></tr>\n",
       "<tr><td>Python version:</td>\n",
       "<td>3.6.5 final</td></tr></table></div>"
      ],
      "text/plain": [
       "--------------------------  ----------------------------------------\n",
       "H2O cluster uptime:         03 secs\n",
       "H2O cluster timezone:       America/Bogota\n",
       "H2O data parsing timezone:  UTC\n",
       "H2O cluster version:        3.18.0.2\n",
       "H2O cluster version age:    5 months and 7 days !!!\n",
       "H2O cluster name:           H2O_from_python_azalazar_23frpg\n",
       "H2O cluster total nodes:    1\n",
       "H2O cluster free memory:    7.111 Gb\n",
       "H2O cluster total cores:    24\n",
       "H2O cluster allowed cores:  24\n",
       "H2O cluster status:         accepting new members, healthy\n",
       "H2O connection url:         http://127.0.0.1:54321\n",
       "H2O connection proxy:\n",
       "H2O internal security:      False\n",
       "H2O API Extensions:         XGBoost, Algos, AutoML, Core V3, Core V4\n",
       "Python version:             3.6.5 final\n",
       "--------------------------  ----------------------------------------"
      ]
     },
     "metadata": {},
     "output_type": "display_data"
    }
   ],
   "source": [
    "# Initialize h2o cluster\n",
    "h2o.init(nthreads = -1, max_mem_size = 8)"
   ]
  },
  {
   "cell_type": "markdown",
   "metadata": {},
   "source": [
    "### Data ingestion\n",
    "\n",
    "In the previous prepare dataset norbeooks, the multi-dimensional labeled arrays stored as netCDF files are transformed to dataframes and serialized to parquet format files via dask, xarray and pandas. The parquet files can be read directly as h2o data frames."
   ]
  },
  {
   "cell_type": "code",
   "execution_count": 3,
   "metadata": {},
   "outputs": [
    {
     "name": "stdout",
     "output_type": "stream",
     "text": [
      "Parse progress: |█████████████████████████████████████████████████████████| 100%\n"
     ]
    }
   ],
   "source": [
    "data = h2o.import_file(os.environ['WIN_SVR_DATA']+'Saldana/parquet77/')"
   ]
  },
  {
   "cell_type": "markdown",
   "metadata": {},
   "source": [
    "We specify the features to be used on the models. The ground truth class is in the *vclass*, while the feature names are indicated as the combination of *band*, *derivative* and *relative time*. Considering two vegetation indices, radar backscattering for VV polarization and 9 GLCM texture variable time series and their first derivative, and 8 times, we get 192 predictor variables."
   ]
  },
  {
   "cell_type": "code",
   "execution_count": 62,
   "metadata": {},
   "outputs": [
    {
     "name": "stdout",
     "output_type": "stream",
     "text": [
      "24 predictor variables in x\n"
     ]
    }
   ],
   "source": [
    "y = 'vclass'\n",
    "\n",
    "x = []\n",
    "\n",
    "for band in ['NDVI','LSWI','VV']:#,'VV_ASM','VV_Contrast','VV_Dissimilarity','VV_Energy','VV_Entropy',\n",
    "             #'VV_GLCMCorrelation','VV_GLCMMean', 'VV_GLCMVariance', 'VV_Homogeneity']:\n",
    "    for time in ['_0','_16','_n16','_n32','_n48','_n64','_n80','_n96']:\n",
    "        x.append(band+time)\n",
    "\n",
    "print('{} predictor variables in x'.format(len(x)))"
   ]
  },
  {
   "cell_type": "code",
   "execution_count": 63,
   "metadata": {},
   "outputs": [
    {
     "data": {
      "text/plain": [
       "['NDVI_0',\n",
       " 'NDVI_16',\n",
       " 'NDVI_n16',\n",
       " 'NDVI_n32',\n",
       " 'NDVI_n48',\n",
       " 'NDVI_n64',\n",
       " 'NDVI_n80',\n",
       " 'NDVI_n96',\n",
       " 'LSWI_0',\n",
       " 'LSWI_16',\n",
       " 'LSWI_n16',\n",
       " 'LSWI_n32',\n",
       " 'LSWI_n48',\n",
       " 'LSWI_n64',\n",
       " 'LSWI_n80',\n",
       " 'LSWI_n96',\n",
       " 'VV_0',\n",
       " 'VV_16',\n",
       " 'VV_n16',\n",
       " 'VV_n32',\n",
       " 'VV_n48',\n",
       " 'VV_n64',\n",
       " 'VV_n80',\n",
       " 'VV_n96']"
      ]
     },
     "execution_count": 63,
     "metadata": {},
     "output_type": "execute_result"
    }
   ],
   "source": [
    "x"
   ]
  },
  {
   "cell_type": "code",
   "execution_count": 4,
   "metadata": {},
   "outputs": [
    {
     "data": {
      "text/plain": [
       "[['1', '2', '3', '4', '5']]"
      ]
     },
     "execution_count": 4,
     "metadata": {},
     "output_type": "execute_result"
    }
   ],
   "source": [
    "# Change classification type is a factor\n",
    "data['vclass'] = data['vclass'].asfactor()\n",
    "# Verify factor levels\n",
    "data['vclass'].levels()"
   ]
  },
  {
   "cell_type": "code",
   "execution_count": 5,
   "metadata": {},
   "outputs": [
    {
     "name": "stdout",
     "output_type": "stream",
     "text": [
      "Number of train pixels: 13723\n",
      "Number of test pixels: 9786\n"
     ]
    }
   ],
   "source": [
    "# Split train and test datasets\n",
    "train = data[data['tt']=='train']\n",
    "print('Number of train pixels: {}'.format(train.shape[0]))\n",
    "test = data[data['tt']=='test']\n",
    "print('Number of test pixels: {}'.format(test.shape[0]))"
   ]
  },
  {
   "cell_type": "markdown",
   "metadata": {},
   "source": [
    "### Model initialization"
   ]
  },
  {
   "cell_type": "code",
   "execution_count": 66,
   "metadata": {},
   "outputs": [],
   "source": [
    "from h2o.estimators.random_forest import H2ORandomForestEstimator\n",
    "\n",
    "rf_model = H2ORandomForestEstimator(model_id='rf_mod', ntrees=200, seed=1)"
   ]
  },
  {
   "cell_type": "markdown",
   "metadata": {},
   "source": [
    "### Model training"
   ]
  },
  {
   "cell_type": "code",
   "execution_count": 67,
   "metadata": {},
   "outputs": [
    {
     "name": "stdout",
     "output_type": "stream",
     "text": [
      "drf Model Build progress: |███████████████████████████████████████████████| 100%\n"
     ]
    }
   ],
   "source": [
    "rf_model.train(x=x, y=y, training_frame=train)"
   ]
  },
  {
   "cell_type": "code",
   "execution_count": 68,
   "metadata": {
    "scrolled": true
   },
   "outputs": [
    {
     "name": "stdout",
     "output_type": "stream",
     "text": [
      "Model Details\n",
      "=============\n",
      "H2ORandomForestEstimator :  Distributed Random Forest\n",
      "Model Key:  rf_mod\n",
      "\n",
      "\n",
      "ModelMetricsMultinomial: drf\n",
      "** Reported on train data. **\n",
      "\n",
      "MSE: 0.0005277831965658146\n",
      "RMSE: 0.022973532522575075\n",
      "LogLoss: 0.005335441285692484\n",
      "Mean Per-Class Error: 0.0002127659574468085\n",
      "Confusion Matrix: Row labels: Actual class; Column labels: Predicted class\n",
      "\n"
     ]
    },
    {
     "data": {
      "text/html": [
       "<div style=\"overflow:auto\"><table style=\"width:50%\"><tr><td><b>1</b></td>\n",
       "<td><b>2</b></td>\n",
       "<td><b>3</b></td>\n",
       "<td><b>4</b></td>\n",
       "<td><b>5</b></td>\n",
       "<td><b>Error</b></td>\n",
       "<td><b>Rate</b></td></tr>\n",
       "<tr><td>3767.0</td>\n",
       "<td>0.0</td>\n",
       "<td>0.0</td>\n",
       "<td>0.0</td>\n",
       "<td>0.0</td>\n",
       "<td>0.0</td>\n",
       "<td>0 / 3,767</td></tr>\n",
       "<tr><td>0.0</td>\n",
       "<td>2174.0</td>\n",
       "<td>0.0</td>\n",
       "<td>0.0</td>\n",
       "<td>0.0</td>\n",
       "<td>0.0</td>\n",
       "<td>0 / 2,174</td></tr>\n",
       "<tr><td>0.0</td>\n",
       "<td>2.0</td>\n",
       "<td>1878.0</td>\n",
       "<td>0.0</td>\n",
       "<td>0.0</td>\n",
       "<td>0.0010638</td>\n",
       "<td>2 / 1,880</td></tr>\n",
       "<tr><td>0.0</td>\n",
       "<td>0.0</td>\n",
       "<td>0.0</td>\n",
       "<td>3665.0</td>\n",
       "<td>0.0</td>\n",
       "<td>0.0</td>\n",
       "<td>0 / 3,665</td></tr>\n",
       "<tr><td>0.0</td>\n",
       "<td>0.0</td>\n",
       "<td>0.0</td>\n",
       "<td>0.0</td>\n",
       "<td>2237.0</td>\n",
       "<td>0.0</td>\n",
       "<td>0 / 2,237</td></tr>\n",
       "<tr><td>3767.0</td>\n",
       "<td>2176.0</td>\n",
       "<td>1878.0</td>\n",
       "<td>3665.0</td>\n",
       "<td>2237.0</td>\n",
       "<td>0.0001457</td>\n",
       "<td>2 / 13,723</td></tr></table></div>"
      ],
      "text/plain": [
       "1     2     3     4     5     Error        Rate\n",
       "----  ----  ----  ----  ----  -----------  ----------\n",
       "3767  0     0     0     0     0            0 / 3,767\n",
       "0     2174  0     0     0     0            0 / 2,174\n",
       "0     2     1878  0     0     0.00106383   2 / 1,880\n",
       "0     0     0     3665  0     0            0 / 3,665\n",
       "0     0     0     0     2237  0            0 / 2,237\n",
       "3767  2176  1878  3665  2237  0.000145741  2 / 13,723"
      ]
     },
     "metadata": {},
     "output_type": "display_data"
    },
    {
     "name": "stdout",
     "output_type": "stream",
     "text": [
      "Top-5 Hit Ratios: \n"
     ]
    },
    {
     "data": {
      "text/html": [
       "<div style=\"overflow:auto\"><table style=\"width:50%\"><tr><td><b>k</b></td>\n",
       "<td><b>hit_ratio</b></td></tr>\n",
       "<tr><td>1</td>\n",
       "<td>0.9998543</td></tr>\n",
       "<tr><td>2</td>\n",
       "<td>1.0</td></tr>\n",
       "<tr><td>3</td>\n",
       "<td>1.0</td></tr>\n",
       "<tr><td>4</td>\n",
       "<td>1.0</td></tr>\n",
       "<tr><td>5</td>\n",
       "<td>1.0</td></tr></table></div>"
      ],
      "text/plain": [
       "k    hit_ratio\n",
       "---  -----------\n",
       "1    0.999854\n",
       "2    1\n",
       "3    1\n",
       "4    1\n",
       "5    1"
      ]
     },
     "metadata": {},
     "output_type": "display_data"
    },
    {
     "name": "stdout",
     "output_type": "stream",
     "text": [
      "Scoring History: \n"
     ]
    },
    {
     "data": {
      "text/html": [
       "<div style=\"overflow:auto\"><table style=\"width:50%\"><tr><td><b></b></td>\n",
       "<td><b>timestamp</b></td>\n",
       "<td><b>duration</b></td>\n",
       "<td><b>number_of_trees</b></td>\n",
       "<td><b>training_rmse</b></td>\n",
       "<td><b>training_logloss</b></td>\n",
       "<td><b>training_classification_error</b></td></tr>\n",
       "<tr><td></td>\n",
       "<td>2018-08-08 15:05:45</td>\n",
       "<td> 0.014 sec</td>\n",
       "<td>0.0</td>\n",
       "<td>nan</td>\n",
       "<td>nan</td>\n",
       "<td>nan</td></tr>\n",
       "<tr><td></td>\n",
       "<td>2018-08-08 15:05:45</td>\n",
       "<td> 0.106 sec</td>\n",
       "<td>1.0</td>\n",
       "<td>0.0493260</td>\n",
       "<td>0.0764375</td>\n",
       "<td>0.0021947</td></tr>\n",
       "<tr><td></td>\n",
       "<td>2018-08-08 15:05:45</td>\n",
       "<td> 0.173 sec</td>\n",
       "<td>2.0</td>\n",
       "<td>0.0719599</td>\n",
       "<td>0.1531267</td>\n",
       "<td>0.0053366</td></tr>\n",
       "<tr><td></td>\n",
       "<td>2018-08-08 15:05:45</td>\n",
       "<td> 0.228 sec</td>\n",
       "<td>3.0</td>\n",
       "<td>0.0639555</td>\n",
       "<td>0.1146300</td>\n",
       "<td>0.0043273</td></tr>\n",
       "<tr><td></td>\n",
       "<td>2018-08-08 15:05:45</td>\n",
       "<td> 0.287 sec</td>\n",
       "<td>4.0</td>\n",
       "<td>0.0648730</td>\n",
       "<td>0.1091808</td>\n",
       "<td>0.0044530</td></tr>\n",
       "<tr><td>---</td>\n",
       "<td>---</td>\n",
       "<td>---</td>\n",
       "<td>---</td>\n",
       "<td>---</td>\n",
       "<td>---</td>\n",
       "<td>---</td></tr>\n",
       "<tr><td></td>\n",
       "<td>2018-08-08 15:05:49</td>\n",
       "<td> 3.869 sec</td>\n",
       "<td>60.0</td>\n",
       "<td>0.0255698</td>\n",
       "<td>0.0053993</td>\n",
       "<td>0.0000729</td></tr>\n",
       "<tr><td></td>\n",
       "<td>2018-08-08 15:05:49</td>\n",
       "<td> 3.930 sec</td>\n",
       "<td>61.0</td>\n",
       "<td>0.0253514</td>\n",
       "<td>0.0053584</td>\n",
       "<td>0.0000729</td></tr>\n",
       "<tr><td></td>\n",
       "<td>2018-08-08 15:05:49</td>\n",
       "<td> 3.995 sec</td>\n",
       "<td>62.0</td>\n",
       "<td>0.0255275</td>\n",
       "<td>0.0054142</td>\n",
       "<td>0.0000729</td></tr>\n",
       "<tr><td></td>\n",
       "<td>2018-08-08 15:05:53</td>\n",
       "<td> 8.036 sec</td>\n",
       "<td>139.0</td>\n",
       "<td>0.0234350</td>\n",
       "<td>0.0052663</td>\n",
       "<td>0.0002186</td></tr>\n",
       "<tr><td></td>\n",
       "<td>2018-08-08 15:05:56</td>\n",
       "<td>11.302 sec</td>\n",
       "<td>200.0</td>\n",
       "<td>0.0229735</td>\n",
       "<td>0.0053354</td>\n",
       "<td>0.0001457</td></tr></table></div>"
      ],
      "text/plain": [
       "     timestamp            duration    number_of_trees    training_rmse         training_logloss       training_classification_error\n",
       "---  -------------------  ----------  -----------------  --------------------  ---------------------  -------------------------------\n",
       "     2018-08-08 15:05:45  0.014 sec   0.0                nan                   nan                    nan\n",
       "     2018-08-08 15:05:45  0.106 sec   1.0                0.049325952296139994  0.07643746890949032    0.002194732641660016\n",
       "     2018-08-08 15:05:45  0.173 sec   2.0                0.07195986722990697   0.15312673623206666    0.005336567616737417\n",
       "     2018-08-08 15:05:45  0.228 sec   3.0                0.0639555358070251    0.11462995680387543    0.004327301337529505\n",
       "     2018-08-08 15:05:45  0.287 sec   4.0                0.06487298607287705   0.109180848832815      0.004452981751506156\n",
       "---  ---                  ---         ---                ---                   ---                    ---\n",
       "     2018-08-08 15:05:49  3.869 sec   60.0               0.025569830464040537  0.00539934677805874    7.287036362311447e-05\n",
       "     2018-08-08 15:05:49  3.930 sec   61.0               0.025351396931453433  0.005358412764189853   7.287036362311447e-05\n",
       "     2018-08-08 15:05:49  3.995 sec   62.0               0.02552754349924309   0.00541423941252644    7.287036362311447e-05\n",
       "     2018-08-08 15:05:53  8.036 sec   139.0              0.023434983716645486  0.0052663056039870615  0.00021861109086934345\n",
       "     2018-08-08 15:05:56  11.302 sec  200.0              0.022973532522575075  0.005335441285692484   0.00014574072724622895"
      ]
     },
     "metadata": {},
     "output_type": "display_data"
    },
    {
     "name": "stdout",
     "output_type": "stream",
     "text": [
      "\n",
      "See the whole table with table.as_data_frame()\n",
      "Variable Importances: \n"
     ]
    },
    {
     "data": {
      "text/html": [
       "<div style=\"overflow:auto\"><table style=\"width:50%\"><tr><td><b>variable</b></td>\n",
       "<td><b>relative_importance</b></td>\n",
       "<td><b>scaled_importance</b></td>\n",
       "<td><b>percentage</b></td></tr>\n",
       "<tr><td>NDVI_0</td>\n",
       "<td>289652.8125000</td>\n",
       "<td>1.0</td>\n",
       "<td>0.1769236</td></tr>\n",
       "<tr><td>NDVI_n16</td>\n",
       "<td>147644.9062500</td>\n",
       "<td>0.5097306</td>\n",
       "<td>0.0901834</td></tr>\n",
       "<tr><td>NDVI_n64</td>\n",
       "<td>137538.4843750</td>\n",
       "<td>0.4748391</td>\n",
       "<td>0.0840103</td></tr>\n",
       "<tr><td>NDVI_n32</td>\n",
       "<td>121625.5546875</td>\n",
       "<td>0.4199012</td>\n",
       "<td>0.0742904</td></tr>\n",
       "<tr><td>LSWI_0</td>\n",
       "<td>121456.3828125</td>\n",
       "<td>0.4193171</td>\n",
       "<td>0.0741871</td></tr>\n",
       "<tr><td>---</td>\n",
       "<td>---</td>\n",
       "<td>---</td>\n",
       "<td>---</td></tr>\n",
       "<tr><td>VV_n96</td>\n",
       "<td>9487.1611328</td>\n",
       "<td>0.0327536</td>\n",
       "<td>0.0057949</td></tr>\n",
       "<tr><td>VV_n16</td>\n",
       "<td>6459.7939453</td>\n",
       "<td>0.0223019</td>\n",
       "<td>0.0039457</td></tr>\n",
       "<tr><td>VV_0</td>\n",
       "<td>6412.0346680</td>\n",
       "<td>0.0221370</td>\n",
       "<td>0.0039166</td></tr>\n",
       "<tr><td>VV_n32</td>\n",
       "<td>6247.7192383</td>\n",
       "<td>0.0215697</td>\n",
       "<td>0.0038162</td></tr>\n",
       "<tr><td>VV_16</td>\n",
       "<td>4051.7204590</td>\n",
       "<td>0.0139882</td>\n",
       "<td>0.0024748</td></tr></table></div>"
      ],
      "text/plain": [
       "variable    relative_importance    scaled_importance     percentage\n",
       "----------  ---------------------  --------------------  ---------------------\n",
       "NDVI_0      289652.8125            1.0                   0.1769236285071258\n",
       "NDVI_n16    147644.90625           0.5097306149927338    0.0901833899656832\n",
       "NDVI_n64    137538.484375          0.47483911234247034   0.0840102587127326\n",
       "NDVI_n32    121625.5546875         0.41990116939568817   0.07429043850387043\n",
       "LSWI_0      121456.3828125         0.4193171188783123    0.07418710616710483\n",
       "---         ---                    ---                   ---\n",
       "VV_n96      9487.1611328125        0.032753561240882134  0.005794878901267225\n",
       "VV_n16      6459.7939453125        0.022301851273453455  0.003945724449725649\n",
       "VV_0        6412.03466796875       0.022136966710684883  0.003916552474595823\n",
       "VV_n32      6247.71923828125       0.021569682629203713  0.003816186516505842\n",
       "VV_16       4051.720458984375      0.013988196503302984  0.0024748424816350536"
      ]
     },
     "metadata": {},
     "output_type": "display_data"
    },
    {
     "name": "stdout",
     "output_type": "stream",
     "text": [
      "\n",
      "See the whole table with table.as_data_frame()\n"
     ]
    },
    {
     "data": {
      "text/plain": []
     },
     "execution_count": 68,
     "metadata": {},
     "output_type": "execute_result"
    }
   ],
   "source": [
    "# Visualize model details incl. training scores\n",
    "rf_model"
   ]
  },
  {
   "cell_type": "markdown",
   "metadata": {},
   "source": [
    "### Model evaluation"
   ]
  },
  {
   "cell_type": "code",
   "execution_count": 69,
   "metadata": {},
   "outputs": [
    {
     "name": "stdout",
     "output_type": "stream",
     "text": [
      "\n",
      "ModelMetricsMultinomial: drf\n",
      "** Reported on test data. **\n",
      "\n",
      "MSE: 0.13920324254288519\n",
      "RMSE: 0.3730995075618369\n",
      "LogLoss: 0.43288634691285627\n",
      "Mean Per-Class Error: 0.06172761900909374\n",
      "Confusion Matrix: Row labels: Actual class; Column labels: Predicted class\n",
      "\n"
     ]
    },
    {
     "data": {
      "text/html": [
       "<div style=\"overflow:auto\"><table style=\"width:50%\"><tr><td><b>1</b></td>\n",
       "<td><b>2</b></td>\n",
       "<td><b>3</b></td>\n",
       "<td><b>4</b></td>\n",
       "<td><b>5</b></td>\n",
       "<td><b>Error</b></td>\n",
       "<td><b>Rate</b></td></tr>\n",
       "<tr><td>1379.0</td>\n",
       "<td>119.0</td>\n",
       "<td>0.0</td>\n",
       "<td>95.0</td>\n",
       "<td>0.0</td>\n",
       "<td>0.1343377</td>\n",
       "<td>214 / 1,593</td></tr>\n",
       "<tr><td>35.0</td>\n",
       "<td>541.0</td>\n",
       "<td>0.0</td>\n",
       "<td>0.0</td>\n",
       "<td>0.0</td>\n",
       "<td>0.0607639</td>\n",
       "<td>35 / 576</td></tr>\n",
       "<tr><td>0.0</td>\n",
       "<td>0.0</td>\n",
       "<td>2217.0</td>\n",
       "<td>1.0</td>\n",
       "<td>0.0</td>\n",
       "<td>0.0004509</td>\n",
       "<td>1 / 2,218</td></tr>\n",
       "<tr><td>0.0</td>\n",
       "<td>0.0</td>\n",
       "<td>314.0</td>\n",
       "<td>2745.0</td>\n",
       "<td>36.0</td>\n",
       "<td>0.1130856</td>\n",
       "<td>350 / 3,095</td></tr>\n",
       "<tr><td>0.0</td>\n",
       "<td>0.0</td>\n",
       "<td>0.0</td>\n",
       "<td>0.0</td>\n",
       "<td>2304.0</td>\n",
       "<td>0.0</td>\n",
       "<td>0 / 2,304</td></tr>\n",
       "<tr><td>1414.0</td>\n",
       "<td>660.0</td>\n",
       "<td>2531.0</td>\n",
       "<td>2841.0</td>\n",
       "<td>2340.0</td>\n",
       "<td>0.0613121</td>\n",
       "<td>600 / 9,786</td></tr></table></div>"
      ],
      "text/plain": [
       "1     2    3     4     5     Error        Rate\n",
       "----  ---  ----  ----  ----  -----------  -----------\n",
       "1379  119  0     95    0     0.134338     214 / 1,593\n",
       "35    541  0     0     0     0.0607639    35 / 576\n",
       "0     0    2217  1     0     0.000450857  1 / 2,218\n",
       "0     0    314   2745  36    0.113086     350 / 3,095\n",
       "0     0    0     0     2304  0            0 / 2,304\n",
       "1414  660  2531  2841  2340  0.0613121    600 / 9,786"
      ]
     },
     "metadata": {},
     "output_type": "display_data"
    },
    {
     "name": "stdout",
     "output_type": "stream",
     "text": [
      "Top-5 Hit Ratios: \n"
     ]
    },
    {
     "data": {
      "text/html": [
       "<div style=\"overflow:auto\"><table style=\"width:50%\"><tr><td><b>k</b></td>\n",
       "<td><b>hit_ratio</b></td></tr>\n",
       "<tr><td>1</td>\n",
       "<td>0.9386879</td></tr>\n",
       "<tr><td>2</td>\n",
       "<td>0.9912119</td></tr>\n",
       "<tr><td>3</td>\n",
       "<td>0.9979563</td></tr>\n",
       "<tr><td>4</td>\n",
       "<td>0.9998978</td></tr>\n",
       "<tr><td>5</td>\n",
       "<td>1.0</td></tr></table></div>"
      ],
      "text/plain": [
       "k    hit_ratio\n",
       "---  -----------\n",
       "1    0.938688\n",
       "2    0.991212\n",
       "3    0.997956\n",
       "4    0.999898\n",
       "5    1"
      ]
     },
     "metadata": {},
     "output_type": "display_data"
    },
    {
     "data": {
      "text/plain": []
     },
     "execution_count": 69,
     "metadata": {},
     "output_type": "execute_result"
    }
   ],
   "source": [
    "rf_perf = rf_model.model_performance(test)\n",
    "rf_perf"
   ]
  },
  {
   "cell_type": "code",
   "execution_count": 70,
   "metadata": {},
   "outputs": [
    {
     "data": {
      "text/html": [
       "<div>\n",
       "<style scoped>\n",
       "    .dataframe tbody tr th:only-of-type {\n",
       "        vertical-align: middle;\n",
       "    }\n",
       "\n",
       "    .dataframe tbody tr th {\n",
       "        vertical-align: top;\n",
       "    }\n",
       "\n",
       "    .dataframe thead th {\n",
       "        text-align: right;\n",
       "    }\n",
       "</style>\n",
       "<table border=\"1\" class=\"dataframe\">\n",
       "  <thead>\n",
       "    <tr style=\"text-align: right;\">\n",
       "      <th></th>\n",
       "      <th>1</th>\n",
       "      <th>2</th>\n",
       "      <th>3</th>\n",
       "      <th>4</th>\n",
       "      <th>5</th>\n",
       "      <th>Error</th>\n",
       "      <th>Rate</th>\n",
       "    </tr>\n",
       "  </thead>\n",
       "  <tbody>\n",
       "    <tr>\n",
       "      <th>0</th>\n",
       "      <td>1379.0</td>\n",
       "      <td>119.0</td>\n",
       "      <td>0.0</td>\n",
       "      <td>95.0</td>\n",
       "      <td>0.0</td>\n",
       "      <td>0.134338</td>\n",
       "      <td>214 / 1,593</td>\n",
       "    </tr>\n",
       "    <tr>\n",
       "      <th>1</th>\n",
       "      <td>35.0</td>\n",
       "      <td>541.0</td>\n",
       "      <td>0.0</td>\n",
       "      <td>0.0</td>\n",
       "      <td>0.0</td>\n",
       "      <td>0.060764</td>\n",
       "      <td>35 / 576</td>\n",
       "    </tr>\n",
       "    <tr>\n",
       "      <th>2</th>\n",
       "      <td>0.0</td>\n",
       "      <td>0.0</td>\n",
       "      <td>2217.0</td>\n",
       "      <td>1.0</td>\n",
       "      <td>0.0</td>\n",
       "      <td>0.000451</td>\n",
       "      <td>1 / 2,218</td>\n",
       "    </tr>\n",
       "    <tr>\n",
       "      <th>3</th>\n",
       "      <td>0.0</td>\n",
       "      <td>0.0</td>\n",
       "      <td>314.0</td>\n",
       "      <td>2745.0</td>\n",
       "      <td>36.0</td>\n",
       "      <td>0.113086</td>\n",
       "      <td>350 / 3,095</td>\n",
       "    </tr>\n",
       "    <tr>\n",
       "      <th>4</th>\n",
       "      <td>0.0</td>\n",
       "      <td>0.0</td>\n",
       "      <td>0.0</td>\n",
       "      <td>0.0</td>\n",
       "      <td>2304.0</td>\n",
       "      <td>0.000000</td>\n",
       "      <td>0 / 2,304</td>\n",
       "    </tr>\n",
       "    <tr>\n",
       "      <th>5</th>\n",
       "      <td>1414.0</td>\n",
       "      <td>660.0</td>\n",
       "      <td>2531.0</td>\n",
       "      <td>2841.0</td>\n",
       "      <td>2340.0</td>\n",
       "      <td>0.061312</td>\n",
       "      <td>600 / 9,786</td>\n",
       "    </tr>\n",
       "  </tbody>\n",
       "</table>\n",
       "</div>"
      ],
      "text/plain": [
       "        1      2       3       4       5     Error         Rate\n",
       "0  1379.0  119.0     0.0    95.0     0.0  0.134338  214 / 1,593\n",
       "1    35.0  541.0     0.0     0.0     0.0  0.060764     35 / 576\n",
       "2     0.0    0.0  2217.0     1.0     0.0  0.000451    1 / 2,218\n",
       "3     0.0    0.0   314.0  2745.0    36.0  0.113086  350 / 3,095\n",
       "4     0.0    0.0     0.0     0.0  2304.0  0.000000    0 / 2,304\n",
       "5  1414.0  660.0  2531.0  2841.0  2340.0  0.061312  600 / 9,786"
      ]
     },
     "execution_count": 70,
     "metadata": {},
     "output_type": "execute_result"
    }
   ],
   "source": [
    "rf_perf.confusion_matrix().as_data_frame()"
   ]
  },
  {
   "cell_type": "code",
   "execution_count": 71,
   "metadata": {},
   "outputs": [
    {
     "name": "stdout",
     "output_type": "stream",
     "text": [
      "drf prediction progress: |████████████████████████████████████████████████| 100%\n"
     ]
    },
    {
     "data": {
      "text/plain": [
       "0.9199346790468922"
      ]
     },
     "execution_count": 71,
     "metadata": {},
     "output_type": "execute_result"
    }
   ],
   "source": [
    "from sklearn.metrics import cohen_kappa_score\n",
    "\n",
    "classification = rf_model.predict(test)['predict'].as_data_frame().values\n",
    "ground_truth = test['vclass'].as_data_frame().values\n",
    "\n",
    "cohen_kappa_score(classification, ground_truth)"
   ]
  },
  {
   "cell_type": "markdown",
   "metadata": {},
   "source": [
    "### Visualize classification"
   ]
  },
  {
   "cell_type": "code",
   "execution_count": 20,
   "metadata": {},
   "outputs": [
    {
     "name": "stdout",
     "output_type": "stream",
     "text": [
      "drf prediction progress: |████████████████████████████████████████████████| 100%\n"
     ]
    },
    {
     "data": {
      "text/plain": [
       "<xarray.Dataset>\n",
       "Dimensions:  (time: 3, x: 369, y: 295)\n",
       "Coordinates:\n",
       "  * time     (time) datetime64[us] 2015-11-27 2015-12-21 2016-01-07\n",
       "  * y        (y) int64 425045 425055 425065 425075 425085 425095 425105 ...\n",
       "  * x        (x) int64 499455 499465 499475 499485 499495 499505 499515 ...\n",
       "Data variables:\n",
       "    vclass   (time, x, y) float64 nan nan nan nan nan nan nan nan nan nan ...\n",
       "    predict  (time, x, y) float64 nan nan nan nan nan nan nan nan nan nan ..."
      ]
     },
     "execution_count": 20,
     "metadata": {},
     "output_type": "execute_result"
    }
   ],
   "source": [
    "import xarray as xr\n",
    "import numpy as np\n",
    "import pandas as pd\n",
    "\n",
    "# Join original test dataset and prediction as pandas dataframe\n",
    "resulting_class_df = test.as_data_frame().join(rf_model.predict(test)['predict'].as_data_frame())\n",
    "# Set pandas MultiIndex from variables to be coordinates\n",
    "resulting_class_df.set_index(['time','x', 'y'], inplace=True)\n",
    "# Return to xarray and keep only ground truth and prediction\n",
    "xarr = xr.Dataset.from_dataframe(resulting_class_df).sortby('time')[['vclass','predict']]\n",
    "# Convert time to np.datetime64\n",
    "xarr['time'] = np.array([np.datetime64(pd.to_datetime(i, unit='us')) for i in xarr.time.values],\n",
    "                        dtype=np.datetime64)\n",
    "# Visualize array\n",
    "xarr"
   ]
  },
  {
   "cell_type": "code",
   "execution_count": 21,
   "metadata": {},
   "outputs": [],
   "source": [
    "## Create a method to visualize classifications\n",
    "\n",
    "import matplotlib.pyplot as plt\n",
    "from datetime import datetime\n",
    "\n",
    "def compare_predictions(xarr):\n",
    "    \n",
    "    data_to_plot = []\n",
    "    tags = []\n",
    "    \n",
    "    times = xarr.time.values\n",
    "    \n",
    "    for date in [0,1,2]:\n",
    "        predicted = xarr.isel(time=date)['predict']\n",
    "        test = xarr.isel(time=date)['vclass']\n",
    "        data_to_plot += [test, predicted]\n",
    "        tags += ['ground_truth '+str(times[date])[:10], 'classified '+str(times[date])[:10]]\n",
    "\n",
    "    fig, axes = plt.subplots(nrows=3, ncols=2, figsize=(10, 15), sharex=False, sharey=False)\n",
    "    for idx, ax in enumerate(axes.flat):\n",
    "        im = ax.imshow(data_to_plot[idx],cmap='viridis',vmin=1,vmax=5,extent=[0.05,0.5,1,0.05],aspect=0.5)\n",
    "        ax.set_title(tags[idx])\n",
    "        \n",
    "    fig.subplots_adjust(right=0.8)\n",
    "    # put colorbar at desire position\n",
    "    cbar_ax = fig.add_axes([0.85, 0.25, 0.03, 0.5])\n",
    "    fig.colorbar(im, cax=cbar_ax)\n",
    "    "
   ]
  },
  {
   "cell_type": "code",
   "execution_count": 22,
   "metadata": {},
   "outputs": [
    {
     "data": {
      "image/png": "[encoded data removed]",
      "text/plain": [
       "<Figure size 720x1080 with 7 Axes>"
      ]
     },
     "metadata": {},
     "output_type": "display_data"
    }
   ],
   "source": [
    "compare_predictions(xarr)"
   ]
  },
  {
   "cell_type": "code",
   "execution_count": 77,
   "metadata": {},
   "outputs": [
    {
     "data": {
      "text/plain": [
       "[89.98827323365582,\n",
       " 91.37469314885071,\n",
       " 87.83529813770716,\n",
       " 88.48448687350835,\n",
       " 83.22595230021477,\n",
       " 93.8780287955051,\n",
       " 96.10668301655426,\n",
       " 95.77383694150161,\n",
       " 91.3253364540667]"
      ]
     },
     "execution_count": 77,
     "metadata": {},
     "output_type": "execute_result"
    }
   ],
   "source": [
    "performances_idx_opt_dyn"
   ]
  },
  {
   "cell_type": "markdown",
   "metadata": {
    "scrolled": true
   },
   "source": [
    "## Evaluate PCA for number of features reduction"
   ]
  },
  {
   "cell_type": "code",
   "execution_count": 9,
   "metadata": {},
   "outputs": [],
   "source": [
    "from h2o.transforms.decomposition import H2OPCA\n",
    "\n",
    "pca_decomp = H2OPCA(k=5, transform=\"Normalize\", pca_method=\"Randomized\")"
   ]
  },
  {
   "cell_type": "code",
   "execution_count": 10,
   "metadata": {},
   "outputs": [
    {
     "name": "stdout",
     "output_type": "stream",
     "text": [
      "pca Model Build progress: |███████████████████████████████████████████████| 100%\n"
     ]
    },
    {
     "name": "stderr",
     "output_type": "stream",
     "text": [
      "/home/azalazar/anaconda3/envs/models3/lib/python3.6/site-packages/h2o/job.py:69: UserWarning: _train: Dataset used may contain fewer number of rows due to removal of rows with NA/missing values.  If this is not desirable, set impute_missing argument in pca call to TRUE/True/true/... depending on the client language.\n",
      "  warnings.warn(w)\n"
     ]
    }
   ],
   "source": [
    "pca_in = []\n",
    "\n",
    "for band in ['VV', 'VV_ASM','VV_Contrast','VV_Dissimilarity','VV_Energy','VV_Entropy',\n",
    "             'VV_GLCMCorrelation','VV_GLCMMean', 'VV_GLCMVariance', 'VV_Homogeneity']:\n",
    "    for time in ['_0','_16','_n16','_n32','_n48','_n64','_n80','_n96']:\n",
    "        pca_in.append(band+time)\n",
    "\n",
    "pca_decomp.train(x=pca_in, training_frame=train)"
   ]
  },
  {
   "cell_type": "code",
   "execution_count": 11,
   "metadata": {},
   "outputs": [
    {
     "name": "stdout",
     "output_type": "stream",
     "text": [
      "pca prediction progress: |████████████████████████████████████████████████| 100%\n"
     ]
    },
    {
     "data": {
      "text/html": [
       "<table>\n",
       "<thead>\n",
       "<tr><th style=\"text-align: right;\">      PC1</th><th style=\"text-align: right;\">       PC2</th><th style=\"text-align: right;\">       PC3</th><th style=\"text-align: right;\">       PC4</th><th style=\"text-align: right;\">        PC5</th></tr>\n",
       "</thead>\n",
       "<tbody>\n",
       "<tr><td style=\"text-align: right;\"> 0.677655</td><td style=\"text-align: right;\">-0.652975 </td><td style=\"text-align: right;\">-0.635978 </td><td style=\"text-align: right;\">-0.0396511</td><td style=\"text-align: right;\">-0.680439  </td></tr>\n",
       "<tr><td style=\"text-align: right;\"> 1.04114 </td><td style=\"text-align: right;\">-0.0732995</td><td style=\"text-align: right;\">-0.255472 </td><td style=\"text-align: right;\">-0.0145579</td><td style=\"text-align: right;\">-0.265154  </td></tr>\n",
       "<tr><td style=\"text-align: right;\"> 0.526017</td><td style=\"text-align: right;\"> 0.111692 </td><td style=\"text-align: right;\">-0.478997 </td><td style=\"text-align: right;\">-0.0972112</td><td style=\"text-align: right;\">-0.230372  </td></tr>\n",
       "<tr><td style=\"text-align: right;\">-0.83453 </td><td style=\"text-align: right;\">-0.166141 </td><td style=\"text-align: right;\">-0.532808 </td><td style=\"text-align: right;\"> 0.666974 </td><td style=\"text-align: right;\">-0.287741  </td></tr>\n",
       "<tr><td style=\"text-align: right;\">-0.559648</td><td style=\"text-align: right;\">-0.165388 </td><td style=\"text-align: right;\">-0.278192 </td><td style=\"text-align: right;\"> 0.50558  </td><td style=\"text-align: right;\">-0.141509  </td></tr>\n",
       "<tr><td style=\"text-align: right;\">-1.03998 </td><td style=\"text-align: right;\">-0.43539  </td><td style=\"text-align: right;\"> 0.514649 </td><td style=\"text-align: right;\">-0.413076 </td><td style=\"text-align: right;\">-0.144622  </td></tr>\n",
       "<tr><td style=\"text-align: right;\">-1.11656 </td><td style=\"text-align: right;\">-0.595919 </td><td style=\"text-align: right;\">-0.0585248</td><td style=\"text-align: right;\">-0.319733 </td><td style=\"text-align: right;\">-0.00064835</td></tr>\n",
       "<tr><td style=\"text-align: right;\">-1.12899 </td><td style=\"text-align: right;\">-0.445998 </td><td style=\"text-align: right;\"> 0.302785 </td><td style=\"text-align: right;\">-0.451194 </td><td style=\"text-align: right;\">-0.0411013 </td></tr>\n",
       "<tr><td style=\"text-align: right;\">-1.09889 </td><td style=\"text-align: right;\">-0.415281 </td><td style=\"text-align: right;\"> 0.441927 </td><td style=\"text-align: right;\">-0.366412 </td><td style=\"text-align: right;\">-0.102405  </td></tr>\n",
       "<tr><td style=\"text-align: right;\">-1.2258  </td><td style=\"text-align: right;\">-0.454175 </td><td style=\"text-align: right;\"> 0.490449 </td><td style=\"text-align: right;\">-0.238746 </td><td style=\"text-align: right;\">-0.182565  </td></tr>\n",
       "</tbody>\n",
       "</table>"
      ]
     },
     "metadata": {},
     "output_type": "display_data"
    },
    {
     "data": {
      "text/plain": []
     },
     "execution_count": 11,
     "metadata": {},
     "output_type": "execute_result"
    }
   ],
   "source": [
    "pca = pca_decomp.predict(train)\n",
    "pca"
   ]
  },
  {
   "cell_type": "code",
   "execution_count": 12,
   "metadata": {},
   "outputs": [],
   "source": [
    "pca_train = train.cbind(pca)"
   ]
  },
  {
   "cell_type": "code",
   "execution_count": 13,
   "metadata": {},
   "outputs": [
    {
     "name": "stdout",
     "output_type": "stream",
     "text": [
      "['PC1', 'PC2', 'PC3', 'PC4', 'PC5', 'NDVI_0', 'NDVI_16', 'NDVI_n16', 'NDVI_n32', 'NDVI_n48', 'NDVI_n64', 'NDVI_n80', 'NDVI_n96', 'NDVI_0', 'NDVI_16', 'NDVI_n16', 'NDVI_n32', 'NDVI_n48', 'NDVI_n64', 'NDVI_n80', 'NDVI_n96', 'LSWI_0', 'LSWI_16', 'LSWI_n16', 'LSWI_n32', 'LSWI_n48', 'LSWI_n64', 'LSWI_n80', 'LSWI_n96', 'LSWI_0', 'LSWI_16', 'LSWI_n16', 'LSWI_n32', 'LSWI_n48', 'LSWI_n64', 'LSWI_n80', 'LSWI_n96', 'VV_0', 'VV_16', 'VV_n16', 'VV_n32', 'VV_n48', 'VV_n64', 'VV_n80', 'VV_n96', 'VV_0', 'VV_16', 'VV_n16', 'VV_n32', 'VV_n48', 'VV_n64', 'VV_n80', 'VV_n96']\n"
     ]
    }
   ],
   "source": [
    "pca_x = ['PC1','PC2','PC3','PC4','PC5']\n",
    "\n",
    "for band in ['NDVI','LSWI','VV']:\n",
    "    for der in ['','_1der']:\n",
    "        for time in ['_0','_16','_n16','_n32','_n48','_n64','_n80','_n96']:\n",
    "            pca_x.append(band+time)\n",
    "\n",
    "print(pca_x)"
   ]
  },
  {
   "cell_type": "code",
   "execution_count": 14,
   "metadata": {},
   "outputs": [
    {
     "name": "stdout",
     "output_type": "stream",
     "text": [
      "pca prediction progress: |████████████████████████████████████████████████| 100%\n"
     ]
    }
   ],
   "source": [
    "pca_test = test.cbind(pca_decomp.predict(test))"
   ]
  },
  {
   "cell_type": "markdown",
   "metadata": {},
   "source": [
    "## Evaluate train/test splits\n",
    "\n",
    "As data availability is very limited, we evaluate the stability of the model results, given different configuration of the dataset splitting into train and test datasets. This split is done at polygon level to avoid using correlated pixels from the same field in both train and test dataframes. \n",
    "\n",
    "The results show that there is still a high variability in the models performance (~20%) in the different split configurations."
   ]
  },
  {
   "cell_type": "code",
   "execution_count": 18,
   "metadata": {},
   "outputs": [],
   "source": [
    "y = 'vclass'\n",
    "x_opt_stat = ['NDVI_0','LSWI_0']\n",
    "x_opt_dyn = []\n",
    "x_opt_vv_dyn = []\n",
    "x_opt_vv_glcm_dyn = []\n",
    "x_opt_dyn_pca = ['PC1','PC2','PC3','PC4','PC5']\n",
    "\n",
    "for band in ['NDVI','LSWI']:\n",
    "    for time in ['_0','_16','_n16','_n32','_n48','_n64','_n80','_n96']:\n",
    "        x_opt_dyn.append(band+time)\n",
    "        x_opt_dyn_pca.append(band+time)\n",
    "\n",
    "for band in ['NDVI','LSWI','VV']:\n",
    "    for time in ['_0','_16','_n16','_n32','_n48','_n64','_n80','_n96']:\n",
    "        x_opt_vv_dyn.append(band+time)\n",
    "\n",
    "for band in ['NDVI','LSWI','VV','VV_ASM','VV_Contrast','VV_Dissimilarity','VV_Energy','VV_Entropy',\n",
    "             'VV_GLCMCorrelation','VV_GLCMMean', 'VV_GLCMVariance', 'VV_Homogeneity']:\n",
    "    for time in ['_0','_16','_n16','_n32','_n48','_n64','_n80','_n96']:\n",
    "        x_opt_vv_glcm_dyn.append(band+time)\n",
    "        "
   ]
  },
  {
   "cell_type": "code",
   "execution_count": 20,
   "metadata": {
    "scrolled": true
   },
   "outputs": [
    {
     "name": "stdout",
     "output_type": "stream",
     "text": [
      "Parse progress: |█████████████████████████████████████████████████████████| 100%\n",
      "drf Model Build progress: |███████████████████████████████████████████████| 100%\n",
      "drf prediction progress: |████████████████████████████████████████████████| 100%\n",
      "drf prediction progress: |████████████████████████████████████████████████| 100%\n",
      "drf Model Build progress: |███████████████████████████████████████████████| 100%\n",
      "drf prediction progress: |████████████████████████████████████████████████| 100%\n",
      "drf prediction progress: |████████████████████████████████████████████████| 100%\n",
      "drf Model Build progress: |███████████████████████████████████████████████| 100%\n",
      "drf prediction progress: |████████████████████████████████████████████████| 100%\n",
      "drf prediction progress: |████████████████████████████████████████████████| 100%\n",
      "drf Model Build progress: |███████████████████████████████████████████████| 100%\n",
      "drf prediction progress: |████████████████████████████████████████████████| 100%\n",
      "drf prediction progress: |████████████████████████████████████████████████| 100%\n",
      "pca Model Build progress: |███████████████████████████████████████████████| 100%\n"
     ]
    },
    {
     "name": "stderr",
     "output_type": "stream",
     "text": [
      "/home/azalazar/anaconda3/envs/models3/lib/python3.6/site-packages/h2o/job.py:69: UserWarning: _train: Dataset used may contain fewer number of rows due to removal of rows with NA/missing values.  If this is not desirable, set impute_missing argument in pca call to TRUE/True/true/... depending on the client language.\n",
      "  warnings.warn(w)\n"
     ]
    },
    {
     "name": "stdout",
     "output_type": "stream",
     "text": [
      "pca prediction progress: |████████████████████████████████████████████████| 100%\n",
      "pca prediction progress: |████████████████████████████████████████████████| 100%\n",
      "drf Model Build progress: |███████████████████████████████████████████████| 100%\n",
      "drf prediction progress: |████████████████████████████████████████████████| 100%\n",
      "drf prediction progress: |████████████████████████████████████████████████| 100%\n",
      "Parse progress: |█████████████████████████████████████████████████████████| 100%\n",
      "drf Model Build progress: |███████████████████████████████████████████████| 100%\n",
      "drf prediction progress: |████████████████████████████████████████████████| 100%\n",
      "drf prediction progress: |████████████████████████████████████████████████| 100%\n",
      "drf Model Build progress: |███████████████████████████████████████████████| 100%\n",
      "drf prediction progress: |████████████████████████████████████████████████| 100%\n",
      "drf prediction progress: |████████████████████████████████████████████████| 100%\n",
      "drf Model Build progress: |███████████████████████████████████████████████| 100%\n",
      "drf prediction progress: |████████████████████████████████████████████████| 100%\n",
      "drf prediction progress: |████████████████████████████████████████████████| 100%\n",
      "drf Model Build progress: |███████████████████████████████████████████████| 100%\n",
      "drf prediction progress: |████████████████████████████████████████████████| 100%\n",
      "drf prediction progress: |████████████████████████████████████████████████| 100%\n",
      "pca Model Build progress: |███████████████████████████████████████████████| 100%\n",
      "pca prediction progress: |████████████████████████████████████████████████| 100%\n",
      "pca prediction progress: |████████████████████████████████████████████████| 100%\n",
      "drf Model Build progress: |███████████████████████████████████████████████| 100%\n",
      "drf prediction progress: |████████████████████████████████████████████████| 100%\n",
      "drf prediction progress: |████████████████████████████████████████████████| 100%\n",
      "Parse progress: |█████████████████████████████████████████████████████████| 100%\n",
      "drf Model Build progress: |███████████████████████████████████████████████| 100%\n",
      "drf prediction progress: |████████████████████████████████████████████████| 100%\n",
      "drf prediction progress: |████████████████████████████████████████████████| 100%\n",
      "drf Model Build progress: |███████████████████████████████████████████████| 100%\n",
      "drf prediction progress: |████████████████████████████████████████████████| 100%\n",
      "drf prediction progress: |████████████████████████████████████████████████| 100%\n",
      "drf Model Build progress: |███████████████████████████████████████████████| 100%\n",
      "drf prediction progress: |████████████████████████████████████████████████| 100%\n",
      "drf prediction progress: |████████████████████████████████████████████████| 100%\n",
      "drf Model Build progress: |███████████████████████████████████████████████| 100%\n",
      "drf prediction progress: |████████████████████████████████████████████████| 100%\n",
      "drf prediction progress: |████████████████████████████████████████████████| 100%\n",
      "pca Model Build progress: |███████████████████████████████████████████████| 100%\n",
      "pca prediction progress: |████████████████████████████████████████████████| 100%\n",
      "pca prediction progress: |████████████████████████████████████████████████| 100%\n",
      "drf Model Build progress: |███████████████████████████████████████████████| 100%\n",
      "drf prediction progress: |████████████████████████████████████████████████| 100%\n",
      "drf prediction progress: |████████████████████████████████████████████████| 100%\n",
      "Parse progress: |█████████████████████████████████████████████████████████| 100%\n",
      "drf Model Build progress: |███████████████████████████████████████████████| 100%\n",
      "drf prediction progress: |████████████████████████████████████████████████| 100%\n",
      "drf prediction progress: |████████████████████████████████████████████████| 100%\n",
      "drf Model Build progress: |███████████████████████████████████████████████| 100%\n",
      "drf prediction progress: |████████████████████████████████████████████████| 100%\n",
      "drf prediction progress: |████████████████████████████████████████████████| 100%\n",
      "drf Model Build progress: |███████████████████████████████████████████████| 100%\n",
      "drf prediction progress: |████████████████████████████████████████████████| 100%\n",
      "drf prediction progress: |████████████████████████████████████████████████| 100%\n",
      "drf Model Build progress: |███████████████████████████████████████████████| 100%\n",
      "drf prediction progress: |████████████████████████████████████████████████| 100%\n",
      "drf prediction progress: |████████████████████████████████████████████████| 100%\n",
      "pca Model Build progress: |███████████████████████████████████████████████| 100%\n",
      "pca prediction progress: |████████████████████████████████████████████████| 100%\n",
      "pca prediction progress: |████████████████████████████████████████████████| 100%\n",
      "drf Model Build progress: |███████████████████████████████████████████████| 100%\n",
      "drf prediction progress: |████████████████████████████████████████████████| 100%\n",
      "drf prediction progress: |████████████████████████████████████████████████| 100%\n",
      "Parse progress: |█████████████████████████████████████████████████████████| 100%\n",
      "drf Model Build progress: |███████████████████████████████████████████████| 100%\n",
      "drf prediction progress: |████████████████████████████████████████████████| 100%\n",
      "drf prediction progress: |████████████████████████████████████████████████| 100%\n",
      "drf Model Build progress: |███████████████████████████████████████████████| 100%\n",
      "drf prediction progress: |████████████████████████████████████████████████| 100%\n",
      "drf prediction progress: |████████████████████████████████████████████████| 100%\n",
      "drf Model Build progress: |███████████████████████████████████████████████| 100%\n",
      "drf prediction progress: |████████████████████████████████████████████████| 100%\n",
      "drf prediction progress: |████████████████████████████████████████████████| 100%\n",
      "drf Model Build progress: |███████████████████████████████████████████████| 100%\n",
      "drf prediction progress: |████████████████████████████████████████████████| 100%\n",
      "drf prediction progress: |████████████████████████████████████████████████| 100%\n",
      "pca Model Build progress: |███████████████████████████████████████████████| 100%\n",
      "pca prediction progress: |████████████████████████████████████████████████| 100%\n",
      "pca prediction progress: |████████████████████████████████████████████████| 100%\n",
      "drf Model Build progress: |███████████████████████████████████████████████| 100%\n",
      "drf prediction progress: |████████████████████████████████████████████████| 100%\n",
      "drf prediction progress: |████████████████████████████████████████████████| 100%\n",
      "Parse progress: |█████████████████████████████████████████████████████████| 100%\n",
      "drf Model Build progress: |███████████████████████████████████████████████| 100%\n",
      "drf prediction progress: |████████████████████████████████████████████████| 100%\n",
      "drf prediction progress: |████████████████████████████████████████████████| 100%\n",
      "drf Model Build progress: |███████████████████████████████████████████████| 100%\n",
      "drf prediction progress: |████████████████████████████████████████████████| 100%\n",
      "drf prediction progress: |████████████████████████████████████████████████| 100%\n",
      "drf Model Build progress: |███████████████████████████████████████████████| 100%\n",
      "drf prediction progress: |████████████████████████████████████████████████| 100%\n",
      "drf prediction progress: |████████████████████████████████████████████████| 100%\n",
      "drf Model Build progress: |███████████████████████████████████████████████| 100%\n",
      "drf prediction progress: |████████████████████████████████████████████████| 100%\n",
      "drf prediction progress: |████████████████████████████████████████████████| 100%\n",
      "pca Model Build progress: |███████████████████████████████████████████████| 100%\n",
      "pca prediction progress: |████████████████████████████████████████████████| 100%\n",
      "pca prediction progress: |████████████████████████████████████████████████| 100%\n",
      "drf Model Build progress: |███████████████████████████████████████████████| 100%\n",
      "drf prediction progress: |████████████████████████████████████████████████| 100%\n",
      "drf prediction progress: |████████████████████████████████████████████████| 100%\n",
      "Parse progress: |█████████████████████████████████████████████████████████| 100%\n"
     ]
    },
    {
     "name": "stdout",
     "output_type": "stream",
     "text": [
      "drf Model Build progress: |███████████████████████████████████████████████| 100%\n",
      "drf prediction progress: |████████████████████████████████████████████████| 100%\n",
      "drf prediction progress: |████████████████████████████████████████████████| 100%\n",
      "drf Model Build progress: |███████████████████████████████████████████████| 100%\n",
      "drf prediction progress: |████████████████████████████████████████████████| 100%\n",
      "drf prediction progress: |████████████████████████████████████████████████| 100%\n",
      "drf Model Build progress: |███████████████████████████████████████████████| 100%\n",
      "drf prediction progress: |████████████████████████████████████████████████| 100%\n",
      "drf prediction progress: |████████████████████████████████████████████████| 100%\n",
      "drf Model Build progress: |███████████████████████████████████████████████| 100%\n",
      "drf prediction progress: |████████████████████████████████████████████████| 100%\n",
      "drf prediction progress: |████████████████████████████████████████████████| 100%\n",
      "pca Model Build progress: |███████████████████████████████████████████████| 100%\n",
      "pca prediction progress: |████████████████████████████████████████████████| 100%\n",
      "pca prediction progress: |████████████████████████████████████████████████| 100%\n",
      "drf Model Build progress: |███████████████████████████████████████████████| 100%\n",
      "drf prediction progress: |████████████████████████████████████████████████| 100%\n",
      "drf prediction progress: |████████████████████████████████████████████████| 100%\n",
      "Parse progress: |█████████████████████████████████████████████████████████| 100%\n",
      "drf Model Build progress: |███████████████████████████████████████████████| 100%\n",
      "drf prediction progress: |████████████████████████████████████████████████| 100%\n",
      "drf prediction progress: |████████████████████████████████████████████████| 100%\n",
      "drf Model Build progress: |███████████████████████████████████████████████| 100%\n",
      "drf prediction progress: |████████████████████████████████████████████████| 100%\n",
      "drf prediction progress: |████████████████████████████████████████████████| 100%\n",
      "drf Model Build progress: |███████████████████████████████████████████████| 100%\n",
      "drf prediction progress: |████████████████████████████████████████████████| 100%\n",
      "drf prediction progress: |████████████████████████████████████████████████| 100%\n",
      "drf Model Build progress: |███████████████████████████████████████████████| 100%\n",
      "drf prediction progress: |████████████████████████████████████████████████| 100%\n",
      "drf prediction progress: |████████████████████████████████████████████████| 100%\n",
      "pca Model Build progress: |███████████████████████████████████████████████| 100%\n",
      "pca prediction progress: |████████████████████████████████████████████████| 100%\n",
      "pca prediction progress: |████████████████████████████████████████████████| 100%\n",
      "drf Model Build progress: |███████████████████████████████████████████████| 100%\n",
      "drf prediction progress: |████████████████████████████████████████████████| 100%\n",
      "drf prediction progress: |████████████████████████████████████████████████| 100%\n",
      "Parse progress: |█████████████████████████████████████████████████████████| 100%\n",
      "drf Model Build progress: |███████████████████████████████████████████████| 100%\n",
      "drf prediction progress: |████████████████████████████████████████████████| 100%\n",
      "drf prediction progress: |████████████████████████████████████████████████| 100%\n",
      "drf Model Build progress: |███████████████████████████████████████████████| 100%\n",
      "drf prediction progress: |████████████████████████████████████████████████| 100%\n",
      "drf prediction progress: |████████████████████████████████████████████████| 100%\n",
      "drf Model Build progress: |███████████████████████████████████████████████| 100%\n",
      "drf prediction progress: |████████████████████████████████████████████████| 100%\n",
      "drf prediction progress: |████████████████████████████████████████████████| 100%\n",
      "drf Model Build progress: |███████████████████████████████████████████████| 100%\n",
      "drf prediction progress: |████████████████████████████████████████████████| 100%\n",
      "drf prediction progress: |████████████████████████████████████████████████| 100%\n",
      "pca Model Build progress: |███████████████████████████████████████████████| 100%\n",
      "pca prediction progress: |████████████████████████████████████████████████| 100%\n",
      "pca prediction progress: |████████████████████████████████████████████████| 100%\n",
      "drf Model Build progress: |███████████████████████████████████████████████| 100%\n",
      "drf prediction progress: |████████████████████████████████████████████████| 100%\n",
      "drf prediction progress: |████████████████████████████████████████████████| 100%\n"
     ]
    }
   ],
   "source": [
    "from sklearn.metrics import cohen_kappa_score\n",
    "from h2o.estimators.random_forest import H2ORandomForestEstimator\n",
    "from h2o.transforms.decomposition import H2OPCA\n",
    "\n",
    "#Only including NDVI+LSWI at time0\n",
    "performances_idx_opt_stat = {'oa':[],'kappa':[]}\n",
    "#Incld NDVI+LSWI time-series features\n",
    "performances_idx_opt_dyn = {'oa':[],'kappa':[]}\n",
    "#Incld NDVI+LSWI+VV time-series\n",
    "performances_idx_opt_vv_dyn = {'oa':[],'kappa':[]}\n",
    "#Incld NDVI+LSWI+VV+GLCM time-series\n",
    "performances_idx_opt_vv_glcm_dyn = {'oa':[],'kappa':[]}\n",
    "#Incld NDVI+LSWI+PCA time-series\n",
    "performances_idx_opt_dyn_pca = {'oa':[],'kappa':[]}\n",
    "\n",
    "for seed in [11,22,33,44,55,66,77,88,99]:\n",
    "    \n",
    "    #Read data\n",
    "    data = h2o.import_file(os.environ['WIN_SVR_DATA']+'Saldana/parquet'+str(seed)+'/')\n",
    "    data['vclass'] = data['vclass'].asfactor()\n",
    "    #Split\n",
    "    train = data[data['tt']=='train']\n",
    "    test = data[data['tt']=='test']\n",
    "    \n",
    "    #Fit model 1\n",
    "    rf_fit = H2ORandomForestEstimator(model_id='rf_fit', ntrees=200, seed=1)\n",
    "    rf_fit.train(x=x_opt_stat, y=y, training_frame=train)\n",
    "    perf = (rf_fit.predict(test)['predict']==test['vclass']).as_data_frame(use_pandas=True).mean()[0]*100\n",
    "    performances_idx_opt_stat['oa'].append(perf)\n",
    "    performances_idx_opt_stat['kappa'].append(cohen_kappa_score(rf_fit.predict(test)['predict'].as_data_frame().values,\n",
    "                                                                test['vclass'].as_data_frame().values))\n",
    "    \n",
    "    \n",
    "    #Fit model 2\n",
    "    rf_fit = H2ORandomForestEstimator(model_id='rf_fit', ntrees=200, seed=1)\n",
    "    rf_fit.train(x=x_opt_dyn, y=y, training_frame=train)\n",
    "    perf = (rf_fit.predict(test)['predict']==test['vclass']).as_data_frame(use_pandas=True).mean()[0]*100\n",
    "    performances_idx_opt_dyn['oa'].append(perf)\n",
    "    performances_idx_opt_dyn['kappa'].append(cohen_kappa_score(rf_fit.predict(test)['predict'].as_data_frame().values,\n",
    "                                                                test['vclass'].as_data_frame().values))\n",
    "    \n",
    "    #Fit model 3\n",
    "    rf_fit = H2ORandomForestEstimator(model_id='rf_fit', ntrees=200, seed=1)\n",
    "    rf_fit.train(x=x_opt_vv_dyn, y=y, training_frame=train)\n",
    "    perf = (rf_fit.predict(test)['predict']==test['vclass']).as_data_frame(use_pandas=True).mean()[0]*100\n",
    "    performances_idx_opt_vv_dyn['oa'].append(perf)\n",
    "    performances_idx_opt_vv_dyn['kappa'].append(cohen_kappa_score(rf_fit.predict(test)['predict'].as_data_frame().values,\n",
    "                                                                test['vclass'].as_data_frame().values))\n",
    "    \n",
    "    #Fit model 4\n",
    "    rf_fit = H2ORandomForestEstimator(model_id='rf_fit', ntrees=200, seed=1)\n",
    "    rf_fit.train(x=x_opt_vv_glcm_dyn, y=y, training_frame=train)\n",
    "    perf = (rf_fit.predict(test)['predict']==test['vclass']).as_data_frame(use_pandas=True).mean()[0]*100\n",
    "    performances_idx_opt_vv_glcm_dyn['oa'].append(perf)\n",
    "    performances_idx_opt_vv_glcm_dyn['kappa'].append(cohen_kappa_score(rf_fit.predict(test)['predict'].as_data_frame().values,\n",
    "                                                                test['vclass'].as_data_frame().values))\n",
    "    \n",
    "    #Fit model 5\n",
    "    \n",
    "    pca_decomp = H2OPCA(k=5, transform=\"Normalize\", pca_method=\"Randomized\")\n",
    "    pca_decomp.train(x=pca_in, training_frame=train)\n",
    "    \n",
    "    pca_train = train.cbind(pca_decomp.predict(train))\n",
    "    pca_test = test.cbind(pca_decomp.predict(test))\n",
    "    \n",
    "    rf_fit = H2ORandomForestEstimator(model_id='rf_fit', ntrees=200, seed=1)\n",
    "    rf_fit.train(x=x_opt_dyn_pca, y=y, training_frame=pca_train)\n",
    "    perf = (rf_fit.predict(pca_test)['predict']==pca_test['vclass']).as_data_frame(use_pandas=True).mean()[0]*100\n",
    "    performances_idx_opt_dyn_pca['oa'].append(perf)\n",
    "    performances_idx_opt_dyn_pca['kappa'].append(cohen_kappa_score(rf_fit.predict(pca_test)['predict'].as_data_frame().values,\n",
    "                                                                test['vclass'].as_data_frame().values))\n",
    "    "
   ]
  },
  {
   "cell_type": "code",
   "execution_count": 24,
   "metadata": {},
   "outputs": [
    {
     "data": {
      "image/png": "[encoded data removed]",
      "text/plain": [
       "<Figure size 720x576 with 2 Axes>"
      ]
     },
     "metadata": {},
     "output_type": "display_data"
    }
   ],
   "source": [
    "from matplotlib import pyplot as plt\n",
    "\n",
    "fig, ax = plt.subplots(2,1, figsize=(10, 8), sharex=True)\n",
    "\n",
    "data_dict = [performances_idx_opt_stat, performances_idx_opt_dyn, performances_idx_opt_vv_dyn,\n",
    "            performances_idx_opt_vv_glcm_dyn, performances_idx_opt_dyn_pca]\n",
    "\n",
    "ax[0].boxplot(list(map(lambda x: x['oa'], data_dict)))\n",
    "\n",
    "#ax[0].set_xticklabels(['NDVI_0+LSWI_0','NDVI+LSWI','NDVI+LSWI+VV',\n",
    "#                    'NDVI+LSWI+VV+GLCM','NDVI+LSWI+VV+PCA'])\n",
    "\n",
    "ax[0].set_ylabel('Classification accuracy (%)')\n",
    "\n",
    "\n",
    "ax[1].boxplot(list(map(lambda x: x['kappa'], data_dict)))\n",
    "\n",
    "ax[1].set_xticklabels(['NDVI_0+LSWI_0','NDVI+LSWI','NDVI+LSWI+VV',\n",
    "                    'NDVI+LSWI+VV+GLCM','NDVI+LSWI+VV+PCA'])\n",
    "\n",
    "ax[1].set_ylabel('Cohen-Kappa score')\n",
    "\n",
    "plt.tight_layout()\n",
    "\n",
    "plt.show()"
   ]
  },
  {
   "cell_type": "code",
   "execution_count": 44,
   "metadata": {},
   "outputs": [
    {
     "data": {
      "image/png": "[encoded data removed]",
      "text/plain": [
       "<Figure size 576x360 with 2 Axes>"
      ]
     },
     "metadata": {},
     "output_type": "display_data"
    }
   ],
   "source": [
    "fig, ax = plt.subplots(1,2, figsize=(8, 5), sharey=False)\n",
    "\n",
    "for x in range(0,4):\n",
    "    ax[0].plot(data_dict[x]['oa'])\n",
    "    \n",
    "for x in range(0,4):\n",
    "    ax[1].plot(data_dict[x]['kappa'])"
   ]
  },
  {
   "cell_type": "markdown",
   "metadata": {},
   "source": [
    "## Other model configurations"
   ]
  },
  {
   "cell_type": "code",
   "execution_count": 31,
   "metadata": {},
   "outputs": [],
   "source": [
    "from h2o.estimators.random_forest import H2ORandomForestEstimator\n",
    "\n",
    "rf_v1 = H2ORandomForestEstimator(model_id=\"rf_covType_v1\", ntrees=500, stopping_rounds=2,\n",
    "                                 score_each_iteration=True, seed=100)\n",
    "\n",
    "rf_fit2 = H2ORandomForestEstimator(model_id='rf_fit2', ntrees=200, seed=1)"
   ]
  },
  {
   "cell_type": "code",
   "execution_count": 196,
   "metadata": {},
   "outputs": [],
   "source": [
    "# Import H2O GBM:\n",
    "from h2o.estimators.gbm import H2OGradientBoostingEstimator\n",
    "\n",
    "gbm_fit1 = H2OGradientBoostingEstimator(model_id='gbm_fit1', seed=1)\n",
    "gbm_fit2 = H2OGradientBoostingEstimator(model_id='gbm_fit2', ntrees=500, seed=1)\n",
    "gbm_fit3 = H2OGradientBoostingEstimator(model_id='gbm_fit3', ntrees=500, \n",
    "                                        score_tree_interval=5,     #used for early stopping\n",
    "                                        stopping_rounds=3,         #used for early stopping\n",
    "                                        stopping_metric='misclassification',     #used for early stopping\n",
    "                                        #stopping_tolerance=0.0005, #used for early stopping\n",
    "                                        seed=1)"
   ]
  },
  {
   "cell_type": "code",
   "execution_count": 161,
   "metadata": {},
   "outputs": [],
   "source": [
    "# Import H2O DL <to test>\n",
    "from h2o.estimators.deeplearning import H2ODeepLearningEstimator"
   ]
  },
  {
   "cell_type": "code",
   "execution_count": 169,
   "metadata": {},
   "outputs": [
    {
     "name": "stdout",
     "output_type": "stream",
     "text": [
      "naivebayes Model Build progress: |████████████████████████████████████████| 100%\n"
     ]
    }
   ],
   "source": [
    "from h2o.estimators.naive_bayes import H2ONaiveBayesEstimator\n",
    "nb_fit1 = H2ONaiveBayesEstimator(model_id='nb_fit1')\n",
    "nb_fit2 = H2ONaiveBayesEstimator(model_id='nb_fit2', laplace=6)"
   ]
  },
  {
   "cell_type": "code",
   "execution_count": 73,
   "metadata": {},
   "outputs": [
    {
     "name": "stdout",
     "output_type": "stream",
     "text": [
      "gbm Grid Build progress: |████████████████████████████████████████████████| 100%\n"
     ]
    }
   ],
   "source": [
    "from h2o.estimators.gbm import H2OGradientBoostingEstimator\n",
    "from h2o.grid.grid_search import H2OGridSearch\n",
    "\n",
    "ss = train.split_frame(seed = 1)\n",
    "traing = ss[0]\n",
    "validg = ss[1]\n",
    "\n",
    "\n",
    "# GBM hyperparameters\n",
    "gbm_params1 = {'learn_rate': [0.01, 0.1],\n",
    "                'max_depth': [3, 5, 9],\n",
    "                'sample_rate': [0.8, 1.0],\n",
    "                'col_sample_rate': [0.2, 0.5, 1.0]}\n",
    "\n",
    "\n",
    "# Search criteria\n",
    "search_criteria = {'strategy': 'RandomDiscrete', 'max_models': 36, 'seed': 1}\n",
    "\n",
    "# Train and validate a random grid of GBMs\n",
    "gbm_grid2 = H2OGridSearch(model=H2OGradientBoostingEstimator,\n",
    "                          grid_id='gbm_grid2',\n",
    "                          hyper_params=gbm_params1,\n",
    "                          search_criteria=search_criteria)\n",
    "gbm_grid2.train(x=x, y=y,\n",
    "                training_frame=traing,\n",
    "                validation_frame=validg,\n",
    "                ntrees=100,\n",
    "                seed=1)\n",
    "\n",
    "# Get the grid results, sorted by validation AUC\n",
    "#gbm_gridperf2 = gbm_grid2.get_grid(sort_by='auc', decreasing=True)\n",
    "#gbm_gridperf2\n",
    "\n",
    "# Grab the top GBM model, chosen by validation AUC\n",
    "#best_gbm2 = gbm_gridperf2.models[0]\n",
    "\n",
    "# Now let's evaluate the model performance on a test set\n",
    "# so we get an honest estimate of top model performance\n",
    "#best_gbm_perf2 = best_gbm2.model_performance(test)\n",
    "\n",
    "#best_gbm_perf2.auc()  #0.7811331652127048\n"
   ]
  },
  {
   "cell_type": "code",
   "execution_count": 75,
   "metadata": {},
   "outputs": [
    {
     "name": "stdout",
     "output_type": "stream",
     "text": [
      "     col_sample_rate learn_rate max_depth sample_rate           model_ids  \\\n",
      "0                0.5        0.1         5         0.8  gbm_grid2_model_22   \n",
      "1                0.5       0.01         9         0.8  gbm_grid2_model_24   \n",
      "2                0.5        0.1         5         1.0  gbm_grid2_model_32   \n",
      "3                0.5        0.1         9         1.0  gbm_grid2_model_26   \n",
      "4                0.5       0.01         9         1.0   gbm_grid2_model_4   \n",
      "5                0.5        0.1         9         0.8  gbm_grid2_model_35   \n",
      "6                0.2        0.1         5         0.8  gbm_grid2_model_34   \n",
      "7                1.0        0.1         5         0.8  gbm_grid2_model_13   \n",
      "8                0.2       0.01         9         0.8  gbm_grid2_model_28   \n",
      "9                0.2        0.1         9         0.8  gbm_grid2_model_18   \n",
      "10               0.2        0.1         9         1.0  gbm_grid2_model_17   \n",
      "11               0.2        0.1         3         1.0  gbm_grid2_model_15   \n",
      "12               0.2        0.1         5         1.0  gbm_grid2_model_10   \n",
      "13               0.2        0.1         3         0.8  gbm_grid2_model_16   \n",
      "14               0.2       0.01         9         1.0  gbm_grid2_model_25   \n",
      "15               0.5       0.01         5         1.0   gbm_grid2_model_0   \n",
      "16               0.5       0.01         5         0.8  gbm_grid2_model_33   \n",
      "17               1.0        0.1         3         0.8   gbm_grid2_model_5   \n",
      "18               0.5        0.1         3         1.0  gbm_grid2_model_31   \n",
      "19               0.5        0.1         3         0.8   gbm_grid2_model_6   \n",
      "20               1.0        0.1         9         0.8  gbm_grid2_model_30   \n",
      "21               1.0        0.1         3         1.0  gbm_grid2_model_20   \n",
      "22               1.0        0.1         5         1.0  gbm_grid2_model_21   \n",
      "23               0.2       0.01         5         1.0  gbm_grid2_model_19   \n",
      "24               0.2       0.01         5         0.8  gbm_grid2_model_27   \n",
      "25               1.0        0.1         9         1.0  gbm_grid2_model_12   \n",
      "26               1.0       0.01         5         1.0  gbm_grid2_model_11   \n",
      "27               1.0       0.01         9         0.8   gbm_grid2_model_3   \n",
      "28               1.0       0.01         9         1.0  gbm_grid2_model_14   \n",
      "29               1.0       0.01         5         0.8   gbm_grid2_model_2   \n",
      "30               0.5       0.01         3         0.8   gbm_grid2_model_1   \n",
      "31               0.5       0.01         3         1.0   gbm_grid2_model_9   \n",
      "32               0.2       0.01         3         1.0   gbm_grid2_model_7   \n",
      "33               0.2       0.01         3         0.8  gbm_grid2_model_23   \n",
      "34               1.0       0.01         3         1.0  gbm_grid2_model_29   \n",
      "35               1.0       0.01         3         0.8   gbm_grid2_model_8   \n",
      "\n",
      "              accuracy  \n",
      "0                  1.0  \n",
      "1                  1.0  \n",
      "2                  1.0  \n",
      "3                  1.0  \n",
      "4                  1.0  \n",
      "5                  1.0  \n",
      "6   0.9997070026369763  \n",
      "7   0.9997070026369763  \n",
      "8   0.9997070026369763  \n",
      "9   0.9997070026369763  \n",
      "10  0.9997070026369763  \n",
      "11  0.9997070026369763  \n",
      "12  0.9997070026369763  \n",
      "13  0.9997070026369763  \n",
      "14  0.9997070026369763  \n",
      "15  0.9997070026369763  \n",
      "16  0.9997070026369763  \n",
      "17  0.9994140052739525  \n",
      "18  0.9994140052739525  \n",
      "19  0.9994140052739525  \n",
      "20  0.9994140052739525  \n",
      "21  0.9994140052739525  \n",
      "22  0.9994140052739525  \n",
      "23  0.9991210079109288  \n",
      "24  0.9991210079109288  \n",
      "25  0.9991210079109288  \n",
      "26   0.998828010547905  \n",
      "27  0.9982420158218576  \n",
      "28  0.9979490184588339  \n",
      "29  0.9979490184588339  \n",
      "30  0.9973630237327864  \n",
      "31  0.9970700263697627  \n",
      "32  0.9944330501025491  \n",
      "33  0.9944330501025491  \n",
      "34  0.9932610606504542  \n",
      "35   0.991210079109288  \n"
     ]
    },
    {
     "data": {
      "text/plain": []
     },
     "execution_count": 75,
     "metadata": {},
     "output_type": "execute_result"
    }
   ],
   "source": [
    "gbm_gridperf2 = gbm_grid2.get_grid(sort_by='accuracy', decreasing=True)\n",
    "gbm_gridperf2"
   ]
  },
  {
   "cell_type": "code",
   "execution_count": 76,
   "metadata": {},
   "outputs": [
    {
     "name": "stdout",
     "output_type": "stream",
     "text": [
      "\n",
      "ModelMetricsMultinomial: gbm\n",
      "** Reported on test data. **\n",
      "\n",
      "MSE: 0.034698007076104674\n",
      "RMSE: 0.18627401073715216\n",
      "LogLoss: 0.22132315206600586\n",
      "Mean Per-Class Error: 0.03206255444609747\n",
      "Confusion Matrix: Row labels: Actual class; Column labels: Predicted class\n",
      "\n"
     ]
    },
    {
     "data": {
      "text/html": [
       "<div style=\"overflow:auto\"><table style=\"width:50%\"><tr><td><b>1</b></td>\n",
       "<td><b>2</b></td>\n",
       "<td><b>3</b></td>\n",
       "<td><b>4</b></td>\n",
       "<td><b>5</b></td>\n",
       "<td><b>Error</b></td>\n",
       "<td><b>Rate</b></td></tr>\n",
       "<tr><td>1564.0</td>\n",
       "<td>21.0</td>\n",
       "<td>0.0</td>\n",
       "<td>8.0</td>\n",
       "<td>0.0</td>\n",
       "<td>0.0182046</td>\n",
       "<td>29 / 1,593</td></tr>\n",
       "<tr><td>22.0</td>\n",
       "<td>547.0</td>\n",
       "<td>0.0</td>\n",
       "<td>7.0</td>\n",
       "<td>0.0</td>\n",
       "<td>0.0503472</td>\n",
       "<td>29 / 576</td></tr>\n",
       "<tr><td>0.0</td>\n",
       "<td>0.0</td>\n",
       "<td>2218.0</td>\n",
       "<td>0.0</td>\n",
       "<td>0.0</td>\n",
       "<td>0.0</td>\n",
       "<td>0 / 2,218</td></tr>\n",
       "<tr><td>0.0</td>\n",
       "<td>0.0</td>\n",
       "<td>250.0</td>\n",
       "<td>2811.0</td>\n",
       "<td>34.0</td>\n",
       "<td>0.0917609</td>\n",
       "<td>284 / 3,095</td></tr>\n",
       "<tr><td>0.0</td>\n",
       "<td>0.0</td>\n",
       "<td>0.0</td>\n",
       "<td>0.0</td>\n",
       "<td>2304.0</td>\n",
       "<td>0.0</td>\n",
       "<td>0 / 2,304</td></tr>\n",
       "<tr><td>1586.0</td>\n",
       "<td>568.0</td>\n",
       "<td>2468.0</td>\n",
       "<td>2826.0</td>\n",
       "<td>2338.0</td>\n",
       "<td>0.0349479</td>\n",
       "<td>342 / 9,786</td></tr></table></div>"
      ],
      "text/plain": [
       "1     2    3     4     5     Error      Rate\n",
       "----  ---  ----  ----  ----  ---------  -----------\n",
       "1564  21   0     8     0     0.0182046  29 / 1,593\n",
       "22    547  0     7     0     0.0503472  29 / 576\n",
       "0     0    2218  0     0     0          0 / 2,218\n",
       "0     0    250   2811  34    0.0917609  284 / 3,095\n",
       "0     0    0     0     2304  0          0 / 2,304\n",
       "1586  568  2468  2826  2338  0.0349479  342 / 9,786"
      ]
     },
     "metadata": {},
     "output_type": "display_data"
    },
    {
     "name": "stdout",
     "output_type": "stream",
     "text": [
      "Top-5 Hit Ratios: \n"
     ]
    },
    {
     "data": {
      "text/html": [
       "<div style=\"overflow:auto\"><table style=\"width:50%\"><tr><td><b>k</b></td>\n",
       "<td><b>hit_ratio</b></td></tr>\n",
       "<tr><td>1</td>\n",
       "<td>0.9650521</td></tr>\n",
       "<tr><td>2</td>\n",
       "<td>0.9961169</td></tr>\n",
       "<tr><td>3</td>\n",
       "<td>0.9998978</td></tr>\n",
       "<tr><td>4</td>\n",
       "<td>1.0</td></tr>\n",
       "<tr><td>5</td>\n",
       "<td>1.0</td></tr></table></div>"
      ],
      "text/plain": [
       "k    hit_ratio\n",
       "---  -----------\n",
       "1    0.965052\n",
       "2    0.996117\n",
       "3    0.999898\n",
       "4    1\n",
       "5    1"
      ]
     },
     "metadata": {},
     "output_type": "display_data"
    },
    {
     "data": {
      "text/plain": []
     },
     "execution_count": 76,
     "metadata": {},
     "output_type": "execute_result"
    }
   ],
   "source": [
    "# Grab the top GBM model, chosen by validation AUC\n",
    "best_gbm2 = gbm_gridperf2.models[0]\n",
    "\n",
    "# Now let's evaluate the model performance on a test set\n",
    "# so we get an honest estimate of top model performance\n",
    "best_gbm_perf2 = best_gbm2.model_performance(test)\n",
    "best_gbm_perf2\n",
    "#best_gbm_perf2.auc()  #0.7811331652127048"
   ]
  },
  {
   "cell_type": "code",
   "execution_count": 77,
   "metadata": {},
   "outputs": [
    {
     "name": "stdout",
     "output_type": "stream",
     "text": [
      "gbm prediction progress: |████████████████████████████████████████████████| 100%\n"
     ]
    },
    {
     "data": {
      "text/plain": [
       "0.9543439424854693"
      ]
     },
     "execution_count": 77,
     "metadata": {},
     "output_type": "execute_result"
    }
   ],
   "source": [
    "from sklearn.metrics import cohen_kappa_score\n",
    "\n",
    "classification = best_gbm2.predict(test)['predict'].as_data_frame().values\n",
    "ground_truth = test['vclass'].as_data_frame().values\n",
    "\n",
    "cohen_kappa_score(classification, ground_truth)"
   ]
  },
  {
   "cell_type": "code",
   "execution_count": 25,
   "metadata": {},
   "outputs": [
    {
     "name": "stdout",
     "output_type": "stream",
     "text": [
      "H2O session _sid_9dbe closed.\n"
     ]
    }
   ],
   "source": [
    "# Close h2o cluster\n",
    "h2o.cluster().shutdown(prompt=False)"
   ]
  }
 ],
 "metadata": {
  "kernelspec": {
   "display_name": "Python 3",
   "language": "python",
   "name": "python3"
  },
  "language_info": {
   "codemirror_mode": {
    "name": "ipython",
    "version": 3
   },
   "file_extension": ".py",
   "mimetype": "text/x-python",
   "name": "python",
   "nbconvert_exporter": "python",
   "pygments_lexer": "ipython3",
   "version": "3.6.5"
  }
 },
 "nbformat": 4,
 "nbformat_minor": 2
}
