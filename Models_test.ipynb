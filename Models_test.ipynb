{
 "cells": [
  {
   "cell_type": "markdown",
   "metadata": {},
   "source": [
    "## Test ML models\n",
    "### h2o.ai\n",
    "Transform netCDF serialized files to h2o dataframes via xarray and pandas."
   ]
  },
  {
   "cell_type": "code",
   "execution_count": 1,
   "metadata": {},
   "outputs": [
    {
     "name": "stdout",
     "output_type": "stream",
     "text": [
      "S1 object initialized from /mnt/workspace_cluster_6/TRANSVERSAL_PROJECTS/MADR/COMPONENTE_2/Imagenes_Satelitales/Temp/asalazar_tests/data/Saldana_training_2015/pre/\n",
      "Creation of new S1 stacks failed, reading existing stacks\n",
      "Reading 4 S1 stack files\n",
      "S1 object initialized from /mnt/workspace_cluster_6/TRANSVERSAL_PROJECTS/MADR/COMPONENTE_2/Imagenes_Satelitales/Temp/asalazar_tests/data/Saldana_training_2015/pre/\n",
      "Creation of new S1 stacks failed, reading existing stacks\n",
      "Reading 3 S1 stack files\n",
      "S2 object initialized from /mnt/workspace_cluster_6/TRANSVERSAL_PROJECTS/MADR/COMPONENTE_2/Imagenes_Satelitales/Temp/asalazar_tests/data/Saldana_training_2015/pre/\n",
      "Reading 3 S2 stack files\n",
      "LE07 object initialized from /mnt/workspace_cluster_6/TRANSVERSAL_PROJECTS/MADR/COMPONENTE_2/Imagenes_Satelitales/Temp/asalazar_tests/data/Saldana_training_2015/pre/\n",
      "Reading 4 LE07 stack files\n",
      "LC08 object initialized from /mnt/workspace_cluster_6/TRANSVERSAL_PROJECTS/MADR/COMPONENTE_2/Imagenes_Satelitales/Temp/asalazar_tests/data/Saldana_training_2015/pre/\n",
      "Reading 4 LC08 stack files\n",
      "Replacing regionStack s1_ASC dataset with training classes dataset\n",
      "Replacing regionStack s1_DSC dataset with training classes dataset\n",
      "Replacing regionStack s2 dataset with training classes dataset\n",
      "Replacing regionStack l7 dataset with training classes dataset\n",
      "Replacing regionStack l8 dataset with training classes dataset\n"
     ]
    }
   ],
   "source": [
    "# Load data\n",
    "from eo_stack import *\n",
    "from regionstack import *\n",
    "#from eotemparray import *\n",
    "\n",
    "saldana = regionStack('Saldana_training_2015')\n",
    "saldana.regionTrainingClasses()"
   ]
  },
  {
   "cell_type": "code",
   "execution_count": 2,
   "metadata": {},
   "outputs": [],
   "source": [
    "import h2o\n",
    "import xarray as xr\n",
    "import pandas as pd"
   ]
  },
  {
   "cell_type": "code",
   "execution_count": 4,
   "metadata": {},
   "outputs": [
    {
     "name": "stdout",
     "output_type": "stream",
     "text": [
      "Checking whether there is an H2O instance running at http://localhost:54321..... not found.\n",
      "Attempting to start a local H2O server...\n",
      "  Java Version: openjdk version \"1.8.0_121\"; OpenJDK Runtime Environment (Zulu 8.20.0.5-linux64) (build 1.8.0_121-b15); OpenJDK 64-Bit Server VM (Zulu 8.20.0.5-linux64) (build 25.121-b15, mixed mode)\n",
      "  Starting server from /home/azalazar/anaconda2/envs/models/h2o_jar/h2o.jar\n",
      "  Ice root: /tmp/tmpZmRPPQ\n",
      "  JVM stdout: /tmp/tmpZmRPPQ/h2o_azalazar_started_from_python.out\n",
      "  JVM stderr: /tmp/tmpZmRPPQ/h2o_azalazar_started_from_python.err\n",
      "  Server is running at http://127.0.0.1:54321\n",
      "Connecting to H2O server at http://127.0.0.1:54321... successful.\n"
     ]
    },
    {
     "data": {
      "text/html": [
       "<div style=\"overflow:auto\"><table style=\"width:50%\"><tr><td>H2O cluster uptime:</td>\n",
       "<td>07 secs</td></tr>\n",
       "<tr><td>H2O cluster timezone:</td>\n",
       "<td>America/Bogota</td></tr>\n",
       "<tr><td>H2O data parsing timezone:</td>\n",
       "<td>UTC</td></tr>\n",
       "<tr><td>H2O cluster version:</td>\n",
       "<td>3.18.0.2</td></tr>\n",
       "<tr><td>H2O cluster version age:</td>\n",
       "<td>2 months and 19 days </td></tr>\n",
       "<tr><td>H2O cluster name:</td>\n",
       "<td>H2O_from_python_azalazar_lbh88d</td></tr>\n",
       "<tr><td>H2O cluster total nodes:</td>\n",
       "<td>1</td></tr>\n",
       "<tr><td>H2O cluster free memory:</td>\n",
       "<td>14.22 Gb</td></tr>\n",
       "<tr><td>H2O cluster total cores:</td>\n",
       "<td>24</td></tr>\n",
       "<tr><td>H2O cluster allowed cores:</td>\n",
       "<td>24</td></tr>\n",
       "<tr><td>H2O cluster status:</td>\n",
       "<td>accepting new members, healthy</td></tr>\n",
       "<tr><td>H2O connection url:</td>\n",
       "<td>http://127.0.0.1:54321</td></tr>\n",
       "<tr><td>H2O connection proxy:</td>\n",
       "<td>None</td></tr>\n",
       "<tr><td>H2O internal security:</td>\n",
       "<td>False</td></tr>\n",
       "<tr><td>H2O API Extensions:</td>\n",
       "<td>XGBoost, Algos, AutoML, Core V3, Core V4</td></tr>\n",
       "<tr><td>Python version:</td>\n",
       "<td>2.7.14 final</td></tr></table></div>"
      ],
      "text/plain": [
       "--------------------------  ----------------------------------------\n",
       "H2O cluster uptime:         07 secs\n",
       "H2O cluster timezone:       America/Bogota\n",
       "H2O data parsing timezone:  UTC\n",
       "H2O cluster version:        3.18.0.2\n",
       "H2O cluster version age:    2 months and 19 days\n",
       "H2O cluster name:           H2O_from_python_azalazar_lbh88d\n",
       "H2O cluster total nodes:    1\n",
       "H2O cluster free memory:    14.22 Gb\n",
       "H2O cluster total cores:    24\n",
       "H2O cluster allowed cores:  24\n",
       "H2O cluster status:         accepting new members, healthy\n",
       "H2O connection url:         http://127.0.0.1:54321\n",
       "H2O connection proxy:\n",
       "H2O internal security:      False\n",
       "H2O API Extensions:         XGBoost, Algos, AutoML, Core V3, Core V4\n",
       "Python version:             2.7.14 final\n",
       "--------------------------  ----------------------------------------"
      ]
     },
     "metadata": {},
     "output_type": "display_data"
    }
   ],
   "source": [
    "# Initialize h2o cluster\n",
    "h2o.init(nthreads = -1, max_mem_size = 16)"
   ]
  },
  {
   "cell_type": "code",
   "execution_count": 5,
   "metadata": {},
   "outputs": [
    {
     "data": {
      "text/plain": [
       "<xarray.Dataset>\n",
       "Dimensions:     (time: 5, x: 2979, y: 3631)\n",
       "Coordinates:\n",
       "  * x           (x) float64 4.889e+05 4.889e+05 4.889e+05 4.889e+05 ...\n",
       "  * y           (y) float64 4.485e+05 4.484e+05 4.484e+05 4.484e+05 ...\n",
       "  * time        (time) datetime64[ns] 2015-12-11 2015-12-21 2015-12-31 ...\n",
       "    mask        (time, x, y) bool dask.array<shape=(5, 2979, 3631), chunksize=(1, 2979, 3631)>\n",
       "    class_mask  (time, x, y) bool dask.array<shape=(5, 2979, 3631), chunksize=(1, 2979, 3631)>\n",
       "Data variables:\n",
       "    blue        (time, x, y) uint16 dask.array<shape=(5, 2979, 3631), chunksize=(1, 2979, 3631)>\n",
       "    swir1       (time, x, y) uint16 dask.array<shape=(5, 2979, 3631), chunksize=(1, 2979, 3631)>\n",
       "    swir2       (time, x, y) uint16 dask.array<shape=(5, 2979, 3631), chunksize=(1, 2979, 3631)>\n",
       "    green       (time, x, y) uint16 dask.array<shape=(5, 2979, 3631), chunksize=(1, 2979, 3631)>\n",
       "    nir         (time, x, y) uint16 dask.array<shape=(5, 2979, 3631), chunksize=(1, 2979, 3631)>\n",
       "    NDVI        (time, x, y) float32 dask.array<shape=(5, 2979, 3631), chunksize=(1, 2979, 3631)>\n",
       "    LSWI        (time, x, y) float32 dask.array<shape=(5, 2979, 3631), chunksize=(1, 2979, 3631)>\n",
       "    red         (time, x, y) uint16 dask.array<shape=(5, 2979, 3631), chunksize=(1, 2979, 3631)>\n",
       "    class       (time, x, y) uint8 dask.array<shape=(5, 2979, 3631), chunksize=(1, 2979, 3631)>"
      ]
     },
     "execution_count": 5,
     "metadata": {},
     "output_type": "execute_result"
    }
   ],
   "source": [
    "# Inspect input data\n",
    "sat_data_again = saldana.s2\n",
    "sat_data_again"
   ]
  },
  {
   "cell_type": "code",
   "execution_count": 9,
   "metadata": {},
   "outputs": [],
   "source": [
    "# Select only data from a date and transform to pandas dataframe\n",
    "data_pd = sat_data_again.sel(time='2015-12-11').drop('time').to_dataframe()\n",
    "# Leave only data with class\n",
    "data_pd_v1 = data_pd.loc[data_pd['class'] > 0]\n",
    "# Remove not valid data (cloudy pixels)\n",
    "data_pd_v2 = data_pd_v1.loc[data_pd_v1['mask'] == True]"
   ]
  },
  {
   "cell_type": "code",
   "execution_count": 10,
   "metadata": {},
   "outputs": [
    {
     "data": {
      "text/html": [
       "<div>\n",
       "<style scoped>\n",
       "    .dataframe tbody tr th:only-of-type {\n",
       "        vertical-align: middle;\n",
       "    }\n",
       "\n",
       "    .dataframe tbody tr th {\n",
       "        vertical-align: top;\n",
       "    }\n",
       "\n",
       "    .dataframe thead th {\n",
       "        text-align: right;\n",
       "    }\n",
       "</style>\n",
       "<table border=\"1\" class=\"dataframe\">\n",
       "  <thead>\n",
       "    <tr style=\"text-align: right;\">\n",
       "      <th></th>\n",
       "      <th></th>\n",
       "      <th>blue</th>\n",
       "      <th>swir1</th>\n",
       "      <th>swir2</th>\n",
       "      <th>green</th>\n",
       "      <th>nir</th>\n",
       "      <th>NDVI</th>\n",
       "      <th>LSWI</th>\n",
       "      <th>red</th>\n",
       "      <th>mask</th>\n",
       "      <th>class</th>\n",
       "      <th>class_mask</th>\n",
       "    </tr>\n",
       "    <tr>\n",
       "      <th>x</th>\n",
       "      <th>y</th>\n",
       "      <th></th>\n",
       "      <th></th>\n",
       "      <th></th>\n",
       "      <th></th>\n",
       "      <th></th>\n",
       "      <th></th>\n",
       "      <th></th>\n",
       "      <th></th>\n",
       "      <th></th>\n",
       "      <th></th>\n",
       "      <th></th>\n",
       "    </tr>\n",
       "  </thead>\n",
       "  <tbody>\n",
       "    <tr>\n",
       "      <th rowspan=\"3\" valign=\"top\">499455.0</th>\n",
       "      <th>425215.0</th>\n",
       "      <td>267</td>\n",
       "      <td>1283</td>\n",
       "      <td>671</td>\n",
       "      <td>469</td>\n",
       "      <td>2048</td>\n",
       "      <td>0.704536</td>\n",
       "      <td>0.229661</td>\n",
       "      <td>355</td>\n",
       "      <td>True</td>\n",
       "      <td>3</td>\n",
       "      <td>True</td>\n",
       "    </tr>\n",
       "    <tr>\n",
       "      <th>425205.0</th>\n",
       "      <td>258</td>\n",
       "      <td>1283</td>\n",
       "      <td>671</td>\n",
       "      <td>453</td>\n",
       "      <td>2162</td>\n",
       "      <td>0.717918</td>\n",
       "      <td>0.255152</td>\n",
       "      <td>355</td>\n",
       "      <td>True</td>\n",
       "      <td>3</td>\n",
       "      <td>True</td>\n",
       "    </tr>\n",
       "    <tr>\n",
       "      <th>425195.0</th>\n",
       "      <td>274</td>\n",
       "      <td>1424</td>\n",
       "      <td>794</td>\n",
       "      <td>496</td>\n",
       "      <td>2196</td>\n",
       "      <td>0.709615</td>\n",
       "      <td>0.213260</td>\n",
       "      <td>373</td>\n",
       "      <td>True</td>\n",
       "      <td>3</td>\n",
       "      <td>True</td>\n",
       "    </tr>\n",
       "    <tr>\n",
       "      <th rowspan=\"7\" valign=\"top\">499465.0</th>\n",
       "      <th>425245.0</th>\n",
       "      <td>292</td>\n",
       "      <td>1367</td>\n",
       "      <td>805</td>\n",
       "      <td>501</td>\n",
       "      <td>2083</td>\n",
       "      <td>0.681194</td>\n",
       "      <td>0.207536</td>\n",
       "      <td>395</td>\n",
       "      <td>True</td>\n",
       "      <td>3</td>\n",
       "      <td>True</td>\n",
       "    </tr>\n",
       "    <tr>\n",
       "      <th>425235.0</th>\n",
       "      <td>300</td>\n",
       "      <td>1394</td>\n",
       "      <td>813</td>\n",
       "      <td>511</td>\n",
       "      <td>2204</td>\n",
       "      <td>0.711845</td>\n",
       "      <td>0.225125</td>\n",
       "      <td>371</td>\n",
       "      <td>True</td>\n",
       "      <td>3</td>\n",
       "      <td>True</td>\n",
       "    </tr>\n",
       "    <tr>\n",
       "      <th>425225.0</th>\n",
       "      <td>283</td>\n",
       "      <td>1394</td>\n",
       "      <td>813</td>\n",
       "      <td>520</td>\n",
       "      <td>2203</td>\n",
       "      <td>0.690714</td>\n",
       "      <td>0.224910</td>\n",
       "      <td>403</td>\n",
       "      <td>True</td>\n",
       "      <td>3</td>\n",
       "      <td>True</td>\n",
       "    </tr>\n",
       "    <tr>\n",
       "      <th>425215.0</th>\n",
       "      <td>279</td>\n",
       "      <td>1396</td>\n",
       "      <td>793</td>\n",
       "      <td>504</td>\n",
       "      <td>2286</td>\n",
       "      <td>0.722034</td>\n",
       "      <td>0.241716</td>\n",
       "      <td>369</td>\n",
       "      <td>True</td>\n",
       "      <td>3</td>\n",
       "      <td>True</td>\n",
       "    </tr>\n",
       "    <tr>\n",
       "      <th>425205.0</th>\n",
       "      <td>273</td>\n",
       "      <td>1396</td>\n",
       "      <td>793</td>\n",
       "      <td>511</td>\n",
       "      <td>2326</td>\n",
       "      <td>0.722325</td>\n",
       "      <td>0.249866</td>\n",
       "      <td>375</td>\n",
       "      <td>True</td>\n",
       "      <td>3</td>\n",
       "      <td>True</td>\n",
       "    </tr>\n",
       "    <tr>\n",
       "      <th>425195.0</th>\n",
       "      <td>283</td>\n",
       "      <td>1407</td>\n",
       "      <td>799</td>\n",
       "      <td>499</td>\n",
       "      <td>2293</td>\n",
       "      <td>0.706736</td>\n",
       "      <td>0.239459</td>\n",
       "      <td>394</td>\n",
       "      <td>True</td>\n",
       "      <td>3</td>\n",
       "      <td>True</td>\n",
       "    </tr>\n",
       "    <tr>\n",
       "      <th>425185.0</th>\n",
       "      <td>302</td>\n",
       "      <td>1407</td>\n",
       "      <td>799</td>\n",
       "      <td>502</td>\n",
       "      <td>2357</td>\n",
       "      <td>0.712936</td>\n",
       "      <td>0.252391</td>\n",
       "      <td>395</td>\n",
       "      <td>True</td>\n",
       "      <td>3</td>\n",
       "      <td>True</td>\n",
       "    </tr>\n",
       "    <tr>\n",
       "      <th rowspan=\"9\" valign=\"top\">499475.0</th>\n",
       "      <th>425265.0</th>\n",
       "      <td>279</td>\n",
       "      <td>1403</td>\n",
       "      <td>776</td>\n",
       "      <td>478</td>\n",
       "      <td>2327</td>\n",
       "      <td>0.748967</td>\n",
       "      <td>0.247721</td>\n",
       "      <td>334</td>\n",
       "      <td>True</td>\n",
       "      <td>3</td>\n",
       "      <td>True</td>\n",
       "    </tr>\n",
       "    <tr>\n",
       "      <th>425255.0</th>\n",
       "      <td>280</td>\n",
       "      <td>1367</td>\n",
       "      <td>805</td>\n",
       "      <td>511</td>\n",
       "      <td>2287</td>\n",
       "      <td>0.720843</td>\n",
       "      <td>0.251779</td>\n",
       "      <td>371</td>\n",
       "      <td>True</td>\n",
       "      <td>3</td>\n",
       "      <td>True</td>\n",
       "    </tr>\n",
       "    <tr>\n",
       "      <th>425245.0</th>\n",
       "      <td>321</td>\n",
       "      <td>1367</td>\n",
       "      <td>805</td>\n",
       "      <td>527</td>\n",
       "      <td>2285</td>\n",
       "      <td>0.705860</td>\n",
       "      <td>0.251369</td>\n",
       "      <td>394</td>\n",
       "      <td>True</td>\n",
       "      <td>3</td>\n",
       "      <td>True</td>\n",
       "    </tr>\n",
       "    <tr>\n",
       "      <th>425235.0</th>\n",
       "      <td>309</td>\n",
       "      <td>1394</td>\n",
       "      <td>813</td>\n",
       "      <td>541</td>\n",
       "      <td>2286</td>\n",
       "      <td>0.690203</td>\n",
       "      <td>0.242391</td>\n",
       "      <td>419</td>\n",
       "      <td>True</td>\n",
       "      <td>3</td>\n",
       "      <td>True</td>\n",
       "    </tr>\n",
       "    <tr>\n",
       "      <th>425225.0</th>\n",
       "      <td>315</td>\n",
       "      <td>1394</td>\n",
       "      <td>813</td>\n",
       "      <td>526</td>\n",
       "      <td>2266</td>\n",
       "      <td>0.689784</td>\n",
       "      <td>0.238251</td>\n",
       "      <td>416</td>\n",
       "      <td>True</td>\n",
       "      <td>3</td>\n",
       "      <td>True</td>\n",
       "    </tr>\n",
       "    <tr>\n",
       "      <th>425215.0</th>\n",
       "      <td>280</td>\n",
       "      <td>1396</td>\n",
       "      <td>793</td>\n",
       "      <td>520</td>\n",
       "      <td>2269</td>\n",
       "      <td>0.723509</td>\n",
       "      <td>0.238199</td>\n",
       "      <td>364</td>\n",
       "      <td>True</td>\n",
       "      <td>3</td>\n",
       "      <td>True</td>\n",
       "    </tr>\n",
       "    <tr>\n",
       "      <th>425205.0</th>\n",
       "      <td>280</td>\n",
       "      <td>1396</td>\n",
       "      <td>793</td>\n",
       "      <td>511</td>\n",
       "      <td>2311</td>\n",
       "      <td>0.724627</td>\n",
       "      <td>0.246830</td>\n",
       "      <td>369</td>\n",
       "      <td>True</td>\n",
       "      <td>3</td>\n",
       "      <td>True</td>\n",
       "    </tr>\n",
       "    <tr>\n",
       "      <th>425195.0</th>\n",
       "      <td>261</td>\n",
       "      <td>1407</td>\n",
       "      <td>799</td>\n",
       "      <td>501</td>\n",
       "      <td>2303</td>\n",
       "      <td>0.720583</td>\n",
       "      <td>0.241509</td>\n",
       "      <td>374</td>\n",
       "      <td>True</td>\n",
       "      <td>3</td>\n",
       "      <td>True</td>\n",
       "    </tr>\n",
       "    <tr>\n",
       "      <th>425185.0</th>\n",
       "      <td>262</td>\n",
       "      <td>1407</td>\n",
       "      <td>799</td>\n",
       "      <td>516</td>\n",
       "      <td>2317</td>\n",
       "      <td>0.720758</td>\n",
       "      <td>0.244361</td>\n",
       "      <td>376</td>\n",
       "      <td>True</td>\n",
       "      <td>3</td>\n",
       "      <td>True</td>\n",
       "    </tr>\n",
       "    <tr>\n",
       "      <th rowspan=\"11\" valign=\"top\">499485.0</th>\n",
       "      <th>425285.0</th>\n",
       "      <td>268</td>\n",
       "      <td>1312</td>\n",
       "      <td>710</td>\n",
       "      <td>454</td>\n",
       "      <td>2523</td>\n",
       "      <td>0.773015</td>\n",
       "      <td>0.315776</td>\n",
       "      <td>323</td>\n",
       "      <td>True</td>\n",
       "      <td>3</td>\n",
       "      <td>True</td>\n",
       "    </tr>\n",
       "    <tr>\n",
       "      <th>425275.0</th>\n",
       "      <td>282</td>\n",
       "      <td>1344</td>\n",
       "      <td>740</td>\n",
       "      <td>467</td>\n",
       "      <td>2354</td>\n",
       "      <td>0.752140</td>\n",
       "      <td>0.273121</td>\n",
       "      <td>333</td>\n",
       "      <td>True</td>\n",
       "      <td>3</td>\n",
       "      <td>True</td>\n",
       "    </tr>\n",
       "    <tr>\n",
       "      <th>425265.0</th>\n",
       "      <td>268</td>\n",
       "      <td>1344</td>\n",
       "      <td>740</td>\n",
       "      <td>484</td>\n",
       "      <td>2322</td>\n",
       "      <td>0.746521</td>\n",
       "      <td>0.266776</td>\n",
       "      <td>337</td>\n",
       "      <td>True</td>\n",
       "      <td>3</td>\n",
       "      <td>True</td>\n",
       "    </tr>\n",
       "    <tr>\n",
       "      <th>425255.0</th>\n",
       "      <td>264</td>\n",
       "      <td>1451</td>\n",
       "      <td>832</td>\n",
       "      <td>501</td>\n",
       "      <td>2330</td>\n",
       "      <td>0.719557</td>\n",
       "      <td>0.232478</td>\n",
       "      <td>380</td>\n",
       "      <td>True</td>\n",
       "      <td>3</td>\n",
       "      <td>True</td>\n",
       "    </tr>\n",
       "    <tr>\n",
       "      <th>425245.0</th>\n",
       "      <td>300</td>\n",
       "      <td>1451</td>\n",
       "      <td>832</td>\n",
       "      <td>524</td>\n",
       "      <td>2355</td>\n",
       "      <td>0.705286</td>\n",
       "      <td>0.237520</td>\n",
       "      <td>407</td>\n",
       "      <td>True</td>\n",
       "      <td>3</td>\n",
       "      <td>True</td>\n",
       "    </tr>\n",
       "    <tr>\n",
       "      <th>425235.0</th>\n",
       "      <td>294</td>\n",
       "      <td>1533</td>\n",
       "      <td>865</td>\n",
       "      <td>530</td>\n",
       "      <td>2392</td>\n",
       "      <td>0.701280</td>\n",
       "      <td>0.218854</td>\n",
       "      <td>420</td>\n",
       "      <td>True</td>\n",
       "      <td>3</td>\n",
       "      <td>True</td>\n",
       "    </tr>\n",
       "    <tr>\n",
       "      <th>425225.0</th>\n",
       "      <td>317</td>\n",
       "      <td>1533</td>\n",
       "      <td>865</td>\n",
       "      <td>524</td>\n",
       "      <td>2355</td>\n",
       "      <td>0.716472</td>\n",
       "      <td>0.211420</td>\n",
       "      <td>389</td>\n",
       "      <td>True</td>\n",
       "      <td>3</td>\n",
       "      <td>True</td>\n",
       "    </tr>\n",
       "    <tr>\n",
       "      <th>425215.0</th>\n",
       "      <td>286</td>\n",
       "      <td>1479</td>\n",
       "      <td>835</td>\n",
       "      <td>520</td>\n",
       "      <td>2291</td>\n",
       "      <td>0.714179</td>\n",
       "      <td>0.215385</td>\n",
       "      <td>382</td>\n",
       "      <td>True</td>\n",
       "      <td>3</td>\n",
       "      <td>True</td>\n",
       "    </tr>\n",
       "    <tr>\n",
       "      <th>425205.0</th>\n",
       "      <td>280</td>\n",
       "      <td>1479</td>\n",
       "      <td>835</td>\n",
       "      <td>510</td>\n",
       "      <td>2355</td>\n",
       "      <td>0.719606</td>\n",
       "      <td>0.228482</td>\n",
       "      <td>384</td>\n",
       "      <td>True</td>\n",
       "      <td>3</td>\n",
       "      <td>True</td>\n",
       "    </tr>\n",
       "    <tr>\n",
       "      <th>425195.0</th>\n",
       "      <td>276</td>\n",
       "      <td>1437</td>\n",
       "      <td>788</td>\n",
       "      <td>484</td>\n",
       "      <td>2428</td>\n",
       "      <td>0.732430</td>\n",
       "      <td>0.256404</td>\n",
       "      <td>375</td>\n",
       "      <td>True</td>\n",
       "      <td>3</td>\n",
       "      <td>True</td>\n",
       "    </tr>\n",
       "    <tr>\n",
       "      <th>425185.0</th>\n",
       "      <td>270</td>\n",
       "      <td>1437</td>\n",
       "      <td>788</td>\n",
       "      <td>506</td>\n",
       "      <td>2408</td>\n",
       "      <td>0.732997</td>\n",
       "      <td>0.252536</td>\n",
       "      <td>371</td>\n",
       "      <td>True</td>\n",
       "      <td>3</td>\n",
       "      <td>True</td>\n",
       "    </tr>\n",
       "    <tr>\n",
       "      <th>...</th>\n",
       "      <th>...</th>\n",
       "      <td>...</td>\n",
       "      <td>...</td>\n",
       "      <td>...</td>\n",
       "      <td>...</td>\n",
       "      <td>...</td>\n",
       "      <td>...</td>\n",
       "      <td>...</td>\n",
       "      <td>...</td>\n",
       "      <td>...</td>\n",
       "      <td>...</td>\n",
       "      <td>...</td>\n",
       "    </tr>\n",
       "    <tr>\n",
       "      <th rowspan=\"3\" valign=\"top\">513275.0</th>\n",
       "      <th>434565.0</th>\n",
       "      <td>531</td>\n",
       "      <td>1850</td>\n",
       "      <td>1125</td>\n",
       "      <td>802</td>\n",
       "      <td>1596</td>\n",
       "      <td>0.312500</td>\n",
       "      <td>-0.073709</td>\n",
       "      <td>836</td>\n",
       "      <td>True</td>\n",
       "      <td>1</td>\n",
       "      <td>True</td>\n",
       "    </tr>\n",
       "    <tr>\n",
       "      <th>434555.0</th>\n",
       "      <td>543</td>\n",
       "      <td>1740</td>\n",
       "      <td>1010</td>\n",
       "      <td>798</td>\n",
       "      <td>1598</td>\n",
       "      <td>0.312526</td>\n",
       "      <td>-0.042540</td>\n",
       "      <td>837</td>\n",
       "      <td>True</td>\n",
       "      <td>1</td>\n",
       "      <td>True</td>\n",
       "    </tr>\n",
       "    <tr>\n",
       "      <th>434545.0</th>\n",
       "      <td>547</td>\n",
       "      <td>1740</td>\n",
       "      <td>1010</td>\n",
       "      <td>815</td>\n",
       "      <td>1585</td>\n",
       "      <td>0.314807</td>\n",
       "      <td>-0.046617</td>\n",
       "      <td>826</td>\n",
       "      <td>True</td>\n",
       "      <td>1</td>\n",
       "      <td>True</td>\n",
       "    </tr>\n",
       "    <tr>\n",
       "      <th rowspan=\"9\" valign=\"top\">513285.0</th>\n",
       "      <th>434625.0</th>\n",
       "      <td>513</td>\n",
       "      <td>1790</td>\n",
       "      <td>978</td>\n",
       "      <td>799</td>\n",
       "      <td>1564</td>\n",
       "      <td>0.315391</td>\n",
       "      <td>-0.067382</td>\n",
       "      <td>814</td>\n",
       "      <td>True</td>\n",
       "      <td>1</td>\n",
       "      <td>True</td>\n",
       "    </tr>\n",
       "    <tr>\n",
       "      <th>434615.0</th>\n",
       "      <td>513</td>\n",
       "      <td>1819</td>\n",
       "      <td>1023</td>\n",
       "      <td>782</td>\n",
       "      <td>1568</td>\n",
       "      <td>0.315988</td>\n",
       "      <td>-0.074107</td>\n",
       "      <td>815</td>\n",
       "      <td>True</td>\n",
       "      <td>1</td>\n",
       "      <td>True</td>\n",
       "    </tr>\n",
       "    <tr>\n",
       "      <th>434605.0</th>\n",
       "      <td>534</td>\n",
       "      <td>1819</td>\n",
       "      <td>1023</td>\n",
       "      <td>795</td>\n",
       "      <td>1582</td>\n",
       "      <td>0.311774</td>\n",
       "      <td>-0.069685</td>\n",
       "      <td>830</td>\n",
       "      <td>True</td>\n",
       "      <td>1</td>\n",
       "      <td>True</td>\n",
       "    </tr>\n",
       "    <tr>\n",
       "      <th>434595.0</th>\n",
       "      <td>541</td>\n",
       "      <td>1923</td>\n",
       "      <td>1161</td>\n",
       "      <td>794</td>\n",
       "      <td>1584</td>\n",
       "      <td>0.309091</td>\n",
       "      <td>-0.096664</td>\n",
       "      <td>836</td>\n",
       "      <td>True</td>\n",
       "      <td>1</td>\n",
       "      <td>True</td>\n",
       "    </tr>\n",
       "    <tr>\n",
       "      <th>434585.0</th>\n",
       "      <td>529</td>\n",
       "      <td>1923</td>\n",
       "      <td>1161</td>\n",
       "      <td>781</td>\n",
       "      <td>1594</td>\n",
       "      <td>0.323371</td>\n",
       "      <td>-0.093546</td>\n",
       "      <td>815</td>\n",
       "      <td>True</td>\n",
       "      <td>1</td>\n",
       "      <td>True</td>\n",
       "    </tr>\n",
       "    <tr>\n",
       "      <th>434575.0</th>\n",
       "      <td>517</td>\n",
       "      <td>1941</td>\n",
       "      <td>1178</td>\n",
       "      <td>795</td>\n",
       "      <td>1595</td>\n",
       "      <td>0.309524</td>\n",
       "      <td>-0.097851</td>\n",
       "      <td>841</td>\n",
       "      <td>True</td>\n",
       "      <td>1</td>\n",
       "      <td>True</td>\n",
       "    </tr>\n",
       "    <tr>\n",
       "      <th>434565.0</th>\n",
       "      <td>520</td>\n",
       "      <td>1941</td>\n",
       "      <td>1178</td>\n",
       "      <td>801</td>\n",
       "      <td>1604</td>\n",
       "      <td>0.302477</td>\n",
       "      <td>-0.095063</td>\n",
       "      <td>859</td>\n",
       "      <td>True</td>\n",
       "      <td>1</td>\n",
       "      <td>True</td>\n",
       "    </tr>\n",
       "    <tr>\n",
       "      <th>434555.0</th>\n",
       "      <td>549</td>\n",
       "      <td>1855</td>\n",
       "      <td>1124</td>\n",
       "      <td>812</td>\n",
       "      <td>1622</td>\n",
       "      <td>0.303859</td>\n",
       "      <td>-0.067012</td>\n",
       "      <td>866</td>\n",
       "      <td>True</td>\n",
       "      <td>1</td>\n",
       "      <td>True</td>\n",
       "    </tr>\n",
       "    <tr>\n",
       "      <th>434545.0</th>\n",
       "      <td>537</td>\n",
       "      <td>1855</td>\n",
       "      <td>1124</td>\n",
       "      <td>813</td>\n",
       "      <td>1571</td>\n",
       "      <td>0.303734</td>\n",
       "      <td>-0.082896</td>\n",
       "      <td>839</td>\n",
       "      <td>True</td>\n",
       "      <td>1</td>\n",
       "      <td>True</td>\n",
       "    </tr>\n",
       "    <tr>\n",
       "      <th rowspan=\"7\" valign=\"top\">513295.0</th>\n",
       "      <th>434605.0</th>\n",
       "      <td>504</td>\n",
       "      <td>1819</td>\n",
       "      <td>1023</td>\n",
       "      <td>804</td>\n",
       "      <td>1564</td>\n",
       "      <td>0.320388</td>\n",
       "      <td>-0.075377</td>\n",
       "      <td>805</td>\n",
       "      <td>True</td>\n",
       "      <td>1</td>\n",
       "      <td>True</td>\n",
       "    </tr>\n",
       "    <tr>\n",
       "      <th>434595.0</th>\n",
       "      <td>504</td>\n",
       "      <td>1923</td>\n",
       "      <td>1161</td>\n",
       "      <td>814</td>\n",
       "      <td>1578</td>\n",
       "      <td>0.306291</td>\n",
       "      <td>-0.098543</td>\n",
       "      <td>838</td>\n",
       "      <td>True</td>\n",
       "      <td>1</td>\n",
       "      <td>True</td>\n",
       "    </tr>\n",
       "    <tr>\n",
       "      <th>434585.0</th>\n",
       "      <td>531</td>\n",
       "      <td>1923</td>\n",
       "      <td>1161</td>\n",
       "      <td>804</td>\n",
       "      <td>1605</td>\n",
       "      <td>0.312347</td>\n",
       "      <td>-0.090136</td>\n",
       "      <td>841</td>\n",
       "      <td>True</td>\n",
       "      <td>1</td>\n",
       "      <td>True</td>\n",
       "    </tr>\n",
       "    <tr>\n",
       "      <th>434575.0</th>\n",
       "      <td>537</td>\n",
       "      <td>1941</td>\n",
       "      <td>1178</td>\n",
       "      <td>809</td>\n",
       "      <td>1618</td>\n",
       "      <td>0.303787</td>\n",
       "      <td>-0.090756</td>\n",
       "      <td>864</td>\n",
       "      <td>True</td>\n",
       "      <td>1</td>\n",
       "      <td>True</td>\n",
       "    </tr>\n",
       "    <tr>\n",
       "      <th>434565.0</th>\n",
       "      <td>544</td>\n",
       "      <td>1941</td>\n",
       "      <td>1178</td>\n",
       "      <td>813</td>\n",
       "      <td>1607</td>\n",
       "      <td>0.288693</td>\n",
       "      <td>-0.094138</td>\n",
       "      <td>887</td>\n",
       "      <td>True</td>\n",
       "      <td>1</td>\n",
       "      <td>True</td>\n",
       "    </tr>\n",
       "    <tr>\n",
       "      <th>434555.0</th>\n",
       "      <td>550</td>\n",
       "      <td>1855</td>\n",
       "      <td>1124</td>\n",
       "      <td>846</td>\n",
       "      <td>1612</td>\n",
       "      <td>0.285999</td>\n",
       "      <td>-0.070089</td>\n",
       "      <td>895</td>\n",
       "      <td>True</td>\n",
       "      <td>1</td>\n",
       "      <td>True</td>\n",
       "    </tr>\n",
       "    <tr>\n",
       "      <th>434545.0</th>\n",
       "      <td>561</td>\n",
       "      <td>1855</td>\n",
       "      <td>1124</td>\n",
       "      <td>811</td>\n",
       "      <td>1578</td>\n",
       "      <td>0.284493</td>\n",
       "      <td>-0.080687</td>\n",
       "      <td>879</td>\n",
       "      <td>True</td>\n",
       "      <td>1</td>\n",
       "      <td>True</td>\n",
       "    </tr>\n",
       "    <tr>\n",
       "      <th rowspan=\"6\" valign=\"top\">513305.0</th>\n",
       "      <th>434595.0</th>\n",
       "      <td>525</td>\n",
       "      <td>1761</td>\n",
       "      <td>1049</td>\n",
       "      <td>784</td>\n",
       "      <td>1587</td>\n",
       "      <td>0.309946</td>\n",
       "      <td>-0.051971</td>\n",
       "      <td>836</td>\n",
       "      <td>True</td>\n",
       "      <td>1</td>\n",
       "      <td>True</td>\n",
       "    </tr>\n",
       "    <tr>\n",
       "      <th>434585.0</th>\n",
       "      <td>522</td>\n",
       "      <td>1761</td>\n",
       "      <td>1049</td>\n",
       "      <td>799</td>\n",
       "      <td>1599</td>\n",
       "      <td>0.311731</td>\n",
       "      <td>-0.048214</td>\n",
       "      <td>839</td>\n",
       "      <td>True</td>\n",
       "      <td>1</td>\n",
       "      <td>True</td>\n",
       "    </tr>\n",
       "    <tr>\n",
       "      <th>434575.0</th>\n",
       "      <td>523</td>\n",
       "      <td>1812</td>\n",
       "      <td>1081</td>\n",
       "      <td>808</td>\n",
       "      <td>1624</td>\n",
       "      <td>0.310206</td>\n",
       "      <td>-0.054715</td>\n",
       "      <td>855</td>\n",
       "      <td>True</td>\n",
       "      <td>1</td>\n",
       "      <td>True</td>\n",
       "    </tr>\n",
       "    <tr>\n",
       "      <th>434565.0</th>\n",
       "      <td>534</td>\n",
       "      <td>1812</td>\n",
       "      <td>1081</td>\n",
       "      <td>806</td>\n",
       "      <td>1587</td>\n",
       "      <td>0.292345</td>\n",
       "      <td>-0.066196</td>\n",
       "      <td>869</td>\n",
       "      <td>True</td>\n",
       "      <td>1</td>\n",
       "      <td>True</td>\n",
       "    </tr>\n",
       "    <tr>\n",
       "      <th>434555.0</th>\n",
       "      <td>553</td>\n",
       "      <td>1731</td>\n",
       "      <td>1030</td>\n",
       "      <td>828</td>\n",
       "      <td>1599</td>\n",
       "      <td>0.283822</td>\n",
       "      <td>-0.039640</td>\n",
       "      <td>892</td>\n",
       "      <td>True</td>\n",
       "      <td>1</td>\n",
       "      <td>True</td>\n",
       "    </tr>\n",
       "    <tr>\n",
       "      <th>434545.0</th>\n",
       "      <td>559</td>\n",
       "      <td>1731</td>\n",
       "      <td>1030</td>\n",
       "      <td>855</td>\n",
       "      <td>1632</td>\n",
       "      <td>0.280000</td>\n",
       "      <td>-0.029438</td>\n",
       "      <td>918</td>\n",
       "      <td>True</td>\n",
       "      <td>1</td>\n",
       "      <td>True</td>\n",
       "    </tr>\n",
       "    <tr>\n",
       "      <th rowspan=\"3\" valign=\"top\">513315.0</th>\n",
       "      <th>434575.0</th>\n",
       "      <td>532</td>\n",
       "      <td>1812</td>\n",
       "      <td>1081</td>\n",
       "      <td>811</td>\n",
       "      <td>1633</td>\n",
       "      <td>0.309018</td>\n",
       "      <td>-0.051959</td>\n",
       "      <td>862</td>\n",
       "      <td>True</td>\n",
       "      <td>1</td>\n",
       "      <td>True</td>\n",
       "    </tr>\n",
       "    <tr>\n",
       "      <th>434565.0</th>\n",
       "      <td>556</td>\n",
       "      <td>1812</td>\n",
       "      <td>1081</td>\n",
       "      <td>832</td>\n",
       "      <td>1652</td>\n",
       "      <td>0.288612</td>\n",
       "      <td>-0.046189</td>\n",
       "      <td>912</td>\n",
       "      <td>True</td>\n",
       "      <td>1</td>\n",
       "      <td>True</td>\n",
       "    </tr>\n",
       "    <tr>\n",
       "      <th>434555.0</th>\n",
       "      <td>574</td>\n",
       "      <td>1731</td>\n",
       "      <td>1030</td>\n",
       "      <td>839</td>\n",
       "      <td>1626</td>\n",
       "      <td>0.272300</td>\n",
       "      <td>-0.031278</td>\n",
       "      <td>930</td>\n",
       "      <td>True</td>\n",
       "      <td>1</td>\n",
       "      <td>True</td>\n",
       "    </tr>\n",
       "    <tr>\n",
       "      <th rowspan=\"2\" valign=\"top\">513325.0</th>\n",
       "      <th>434565.0</th>\n",
       "      <td>553</td>\n",
       "      <td>1816</td>\n",
       "      <td>1105</td>\n",
       "      <td>862</td>\n",
       "      <td>1654</td>\n",
       "      <td>0.277713</td>\n",
       "      <td>-0.046686</td>\n",
       "      <td>935</td>\n",
       "      <td>True</td>\n",
       "      <td>1</td>\n",
       "      <td>True</td>\n",
       "    </tr>\n",
       "    <tr>\n",
       "      <th>434555.0</th>\n",
       "      <td>552</td>\n",
       "      <td>1821</td>\n",
       "      <td>1097</td>\n",
       "      <td>846</td>\n",
       "      <td>1620</td>\n",
       "      <td>0.276596</td>\n",
       "      <td>-0.058413</td>\n",
       "      <td>918</td>\n",
       "      <td>True</td>\n",
       "      <td>1</td>\n",
       "      <td>True</td>\n",
       "    </tr>\n",
       "  </tbody>\n",
       "</table>\n",
       "<p>14805 rows × 11 columns</p>\n",
       "</div>"
      ],
      "text/plain": [
       "                   blue  swir1  swir2  green   nir      NDVI      LSWI  red  \\\n",
       "x        y                                                                    \n",
       "499455.0 425215.0   267   1283    671    469  2048  0.704536  0.229661  355   \n",
       "         425205.0   258   1283    671    453  2162  0.717918  0.255152  355   \n",
       "         425195.0   274   1424    794    496  2196  0.709615  0.213260  373   \n",
       "499465.0 425245.0   292   1367    805    501  2083  0.681194  0.207536  395   \n",
       "         425235.0   300   1394    813    511  2204  0.711845  0.225125  371   \n",
       "         425225.0   283   1394    813    520  2203  0.690714  0.224910  403   \n",
       "         425215.0   279   1396    793    504  2286  0.722034  0.241716  369   \n",
       "         425205.0   273   1396    793    511  2326  0.722325  0.249866  375   \n",
       "         425195.0   283   1407    799    499  2293  0.706736  0.239459  394   \n",
       "         425185.0   302   1407    799    502  2357  0.712936  0.252391  395   \n",
       "499475.0 425265.0   279   1403    776    478  2327  0.748967  0.247721  334   \n",
       "         425255.0   280   1367    805    511  2287  0.720843  0.251779  371   \n",
       "         425245.0   321   1367    805    527  2285  0.705860  0.251369  394   \n",
       "         425235.0   309   1394    813    541  2286  0.690203  0.242391  419   \n",
       "         425225.0   315   1394    813    526  2266  0.689784  0.238251  416   \n",
       "         425215.0   280   1396    793    520  2269  0.723509  0.238199  364   \n",
       "         425205.0   280   1396    793    511  2311  0.724627  0.246830  369   \n",
       "         425195.0   261   1407    799    501  2303  0.720583  0.241509  374   \n",
       "         425185.0   262   1407    799    516  2317  0.720758  0.244361  376   \n",
       "499485.0 425285.0   268   1312    710    454  2523  0.773015  0.315776  323   \n",
       "         425275.0   282   1344    740    467  2354  0.752140  0.273121  333   \n",
       "         425265.0   268   1344    740    484  2322  0.746521  0.266776  337   \n",
       "         425255.0   264   1451    832    501  2330  0.719557  0.232478  380   \n",
       "         425245.0   300   1451    832    524  2355  0.705286  0.237520  407   \n",
       "         425235.0   294   1533    865    530  2392  0.701280  0.218854  420   \n",
       "         425225.0   317   1533    865    524  2355  0.716472  0.211420  389   \n",
       "         425215.0   286   1479    835    520  2291  0.714179  0.215385  382   \n",
       "         425205.0   280   1479    835    510  2355  0.719606  0.228482  384   \n",
       "         425195.0   276   1437    788    484  2428  0.732430  0.256404  375   \n",
       "         425185.0   270   1437    788    506  2408  0.732997  0.252536  371   \n",
       "...                 ...    ...    ...    ...   ...       ...       ...  ...   \n",
       "513275.0 434565.0   531   1850   1125    802  1596  0.312500 -0.073709  836   \n",
       "         434555.0   543   1740   1010    798  1598  0.312526 -0.042540  837   \n",
       "         434545.0   547   1740   1010    815  1585  0.314807 -0.046617  826   \n",
       "513285.0 434625.0   513   1790    978    799  1564  0.315391 -0.067382  814   \n",
       "         434615.0   513   1819   1023    782  1568  0.315988 -0.074107  815   \n",
       "         434605.0   534   1819   1023    795  1582  0.311774 -0.069685  830   \n",
       "         434595.0   541   1923   1161    794  1584  0.309091 -0.096664  836   \n",
       "         434585.0   529   1923   1161    781  1594  0.323371 -0.093546  815   \n",
       "         434575.0   517   1941   1178    795  1595  0.309524 -0.097851  841   \n",
       "         434565.0   520   1941   1178    801  1604  0.302477 -0.095063  859   \n",
       "         434555.0   549   1855   1124    812  1622  0.303859 -0.067012  866   \n",
       "         434545.0   537   1855   1124    813  1571  0.303734 -0.082896  839   \n",
       "513295.0 434605.0   504   1819   1023    804  1564  0.320388 -0.075377  805   \n",
       "         434595.0   504   1923   1161    814  1578  0.306291 -0.098543  838   \n",
       "         434585.0   531   1923   1161    804  1605  0.312347 -0.090136  841   \n",
       "         434575.0   537   1941   1178    809  1618  0.303787 -0.090756  864   \n",
       "         434565.0   544   1941   1178    813  1607  0.288693 -0.094138  887   \n",
       "         434555.0   550   1855   1124    846  1612  0.285999 -0.070089  895   \n",
       "         434545.0   561   1855   1124    811  1578  0.284493 -0.080687  879   \n",
       "513305.0 434595.0   525   1761   1049    784  1587  0.309946 -0.051971  836   \n",
       "         434585.0   522   1761   1049    799  1599  0.311731 -0.048214  839   \n",
       "         434575.0   523   1812   1081    808  1624  0.310206 -0.054715  855   \n",
       "         434565.0   534   1812   1081    806  1587  0.292345 -0.066196  869   \n",
       "         434555.0   553   1731   1030    828  1599  0.283822 -0.039640  892   \n",
       "         434545.0   559   1731   1030    855  1632  0.280000 -0.029438  918   \n",
       "513315.0 434575.0   532   1812   1081    811  1633  0.309018 -0.051959  862   \n",
       "         434565.0   556   1812   1081    832  1652  0.288612 -0.046189  912   \n",
       "         434555.0   574   1731   1030    839  1626  0.272300 -0.031278  930   \n",
       "513325.0 434565.0   553   1816   1105    862  1654  0.277713 -0.046686  935   \n",
       "         434555.0   552   1821   1097    846  1620  0.276596 -0.058413  918   \n",
       "\n",
       "                   mask  class  class_mask  \n",
       "x        y                                  \n",
       "499455.0 425215.0  True      3        True  \n",
       "         425205.0  True      3        True  \n",
       "         425195.0  True      3        True  \n",
       "499465.0 425245.0  True      3        True  \n",
       "         425235.0  True      3        True  \n",
       "         425225.0  True      3        True  \n",
       "         425215.0  True      3        True  \n",
       "         425205.0  True      3        True  \n",
       "         425195.0  True      3        True  \n",
       "         425185.0  True      3        True  \n",
       "499475.0 425265.0  True      3        True  \n",
       "         425255.0  True      3        True  \n",
       "         425245.0  True      3        True  \n",
       "         425235.0  True      3        True  \n",
       "         425225.0  True      3        True  \n",
       "         425215.0  True      3        True  \n",
       "         425205.0  True      3        True  \n",
       "         425195.0  True      3        True  \n",
       "         425185.0  True      3        True  \n",
       "499485.0 425285.0  True      3        True  \n",
       "         425275.0  True      3        True  \n",
       "         425265.0  True      3        True  \n",
       "         425255.0  True      3        True  \n",
       "         425245.0  True      3        True  \n",
       "         425235.0  True      3        True  \n",
       "         425225.0  True      3        True  \n",
       "         425215.0  True      3        True  \n",
       "         425205.0  True      3        True  \n",
       "         425195.0  True      3        True  \n",
       "         425185.0  True      3        True  \n",
       "...                 ...    ...         ...  \n",
       "513275.0 434565.0  True      1        True  \n",
       "         434555.0  True      1        True  \n",
       "         434545.0  True      1        True  \n",
       "513285.0 434625.0  True      1        True  \n",
       "         434615.0  True      1        True  \n",
       "         434605.0  True      1        True  \n",
       "         434595.0  True      1        True  \n",
       "         434585.0  True      1        True  \n",
       "         434575.0  True      1        True  \n",
       "         434565.0  True      1        True  \n",
       "         434555.0  True      1        True  \n",
       "         434545.0  True      1        True  \n",
       "513295.0 434605.0  True      1        True  \n",
       "         434595.0  True      1        True  \n",
       "         434585.0  True      1        True  \n",
       "         434575.0  True      1        True  \n",
       "         434565.0  True      1        True  \n",
       "         434555.0  True      1        True  \n",
       "         434545.0  True      1        True  \n",
       "513305.0 434595.0  True      1        True  \n",
       "         434585.0  True      1        True  \n",
       "         434575.0  True      1        True  \n",
       "         434565.0  True      1        True  \n",
       "         434555.0  True      1        True  \n",
       "         434545.0  True      1        True  \n",
       "513315.0 434575.0  True      1        True  \n",
       "         434565.0  True      1        True  \n",
       "         434555.0  True      1        True  \n",
       "513325.0 434565.0  True      1        True  \n",
       "         434555.0  True      1        True  \n",
       "\n",
       "[14805 rows x 11 columns]"
      ]
     },
     "execution_count": 10,
     "metadata": {},
     "output_type": "execute_result"
    }
   ],
   "source": [
    "# Inspect dataframe\n",
    "data_pd_v2"
   ]
  },
  {
   "cell_type": "code",
   "execution_count": 11,
   "metadata": {},
   "outputs": [],
   "source": [
    "# Remove multi-index, as it is not preserved in h20\n",
    "data_pd_v2.reset_index(inplace=True)"
   ]
  },
  {
   "cell_type": "code",
   "execution_count": 12,
   "metadata": {},
   "outputs": [
    {
     "name": "stdout",
     "output_type": "stream",
     "text": [
      "Parse progress: |█████████████████████████████████████████████████████████| 100%\n"
     ]
    },
    {
     "data": {
      "text/plain": [
       "(14805, 13)"
      ]
     },
     "execution_count": 12,
     "metadata": {},
     "output_type": "execute_result"
    }
   ],
   "source": [
    "# Load data to h2o frame\n",
    "data = h2o.H2OFrame(data_pd_v2)  # 3764 rows x 14 columns\n",
    "data.shape"
   ]
  },
  {
   "cell_type": "code",
   "execution_count": 13,
   "metadata": {},
   "outputs": [
    {
     "data": {
      "text/plain": [
       "[['1', '2', '3', '4', '5']]"
      ]
     },
     "execution_count": 13,
     "metadata": {},
     "output_type": "execute_result"
    }
   ],
   "source": [
    "data['class'] = data['class'].asfactor()  #encode the class response as a factor\n",
    "data['class'].levels()  #after encoding, this shows the 5 factor levels, in this dataset '2' is missing!!!"
   ]
  },
  {
   "cell_type": "code",
   "execution_count": 14,
   "metadata": {},
   "outputs": [],
   "source": [
    "# To train and test the model using only this data, split data\n",
    "splits = data.split_frame(ratios=[0.7, 0.15], seed=1)\n",
    "train = splits[0]\n",
    "valid = splits[1]\n",
    "test = splits[2]"
   ]
  },
  {
   "cell_type": "code",
   "execution_count": 15,
   "metadata": {},
   "outputs": [
    {
     "name": "stdout",
     "output_type": "stream",
     "text": [
      "10416\n",
      "2194\n",
      "2195\n"
     ]
    }
   ],
   "source": [
    "# Show number of observations from each dataset\n",
    "print train.nrow\n",
    "print valid.nrow\n",
    "print test.nrow"
   ]
  },
  {
   "cell_type": "code",
   "execution_count": 20,
   "metadata": {},
   "outputs": [],
   "source": [
    "# Define response variables and predictors\n",
    "y = 'class'\n",
    "x = list(data.columns)"
   ]
  },
  {
   "cell_type": "code",
   "execution_count": 23,
   "metadata": {},
   "outputs": [
    {
     "data": {
      "text/plain": [
       "[u'blue', u'swir1', u'swir2', u'green', u'nir', u'NDVI', u'LSWI', u'red']"
      ]
     },
     "execution_count": 23,
     "metadata": {},
     "output_type": "execute_result"
    }
   ],
   "source": [
    "# Show predictors\n",
    "x"
   ]
  },
  {
   "cell_type": "code",
   "execution_count": 22,
   "metadata": {},
   "outputs": [],
   "source": [
    "x.remove(y)  #remove the response\n",
    "x.remove('x')\n",
    "x.remove('y')\n",
    "x.remove('mask')\n",
    "x.remove('class_mask')\n",
    "#x.remove('qa_cloud') #remove cloud mask"
   ]
  },
  {
   "cell_type": "code",
   "execution_count": 24,
   "metadata": {},
   "outputs": [],
   "source": [
    "# test random forest\n",
    "from h2o.estimators.random_forest import H2ORandomForestEstimator"
   ]
  },
  {
   "cell_type": "code",
   "execution_count": 25,
   "metadata": {},
   "outputs": [],
   "source": [
    "# Initialize model\n",
    "rf_v1 = H2ORandomForestEstimator(\n",
    "    model_id=\"rf_covType_v1\",\n",
    "    ntrees=200,\n",
    "    stopping_rounds=2,\n",
    "    score_each_iteration=True,\n",
    "    seed=1000000)"
   ]
  },
  {
   "cell_type": "code",
   "execution_count": 26,
   "metadata": {},
   "outputs": [
    {
     "name": "stdout",
     "output_type": "stream",
     "text": [
      "drf Model Build progress: |███████████████████████████████████████████████| 100%\n"
     ]
    }
   ],
   "source": [
    "# Train model\n",
    "rf_v1.train(x, y, training_frame=train, validation_frame=valid)"
   ]
  },
  {
   "cell_type": "code",
   "execution_count": 27,
   "metadata": {},
   "outputs": [
    {
     "name": "stdout",
     "output_type": "stream",
     "text": [
      "Model Details\n",
      "=============\n",
      "H2ORandomForestEstimator :  Distributed Random Forest\n",
      "Model Key:  rf_covType_v1\n",
      "\n",
      "\n",
      "ModelMetricsMultinomial: drf\n",
      "** Reported on train data. **\n",
      "\n",
      "MSE: 0.0185147440009\n",
      "RMSE: 0.136068894318\n",
      "LogLoss: 0.248155309727\n",
      "Mean Per-Class Error: 0.0158711588763\n",
      "Confusion Matrix: Row labels: Actual class; Column labels: Predicted class\n",
      "\n"
     ]
    },
    {
     "data": {
      "text/html": [
       "<div style=\"overflow:auto\"><table style=\"width:50%\"><tr><td><b>1</b></td>\n",
       "<td><b>2</b></td>\n",
       "<td><b>3</b></td>\n",
       "<td><b>4</b></td>\n",
       "<td><b>5</b></td>\n",
       "<td><b>Error</b></td>\n",
       "<td><b>Rate</b></td></tr>\n",
       "<tr><td>1624.0</td>\n",
       "<td>17.0</td>\n",
       "<td>0.0</td>\n",
       "<td>2.0</td>\n",
       "<td>0.0</td>\n",
       "<td>0.0115642</td>\n",
       "<td>19 / 1,643</td></tr>\n",
       "<tr><td>17.0</td>\n",
       "<td>2483.0</td>\n",
       "<td>13.0</td>\n",
       "<td>7.0</td>\n",
       "<td>0.0</td>\n",
       "<td>0.0146825</td>\n",
       "<td>37 / 2,520</td></tr>\n",
       "<tr><td>0.0</td>\n",
       "<td>21.0</td>\n",
       "<td>3116.0</td>\n",
       "<td>59.0</td>\n",
       "<td>0.0</td>\n",
       "<td>0.0250313</td>\n",
       "<td>80 / 3,196</td></tr>\n",
       "<tr><td>1.0</td>\n",
       "<td>6.0</td>\n",
       "<td>71.0</td>\n",
       "<td>2700.0</td>\n",
       "<td>0.0</td>\n",
       "<td>0.0280778</td>\n",
       "<td>78 / 2,778</td></tr>\n",
       "<tr><td>0.0</td>\n",
       "<td>0.0</td>\n",
       "<td>0.0</td>\n",
       "<td>0.0</td>\n",
       "<td>253.0</td>\n",
       "<td>0.0</td>\n",
       "<td>0 / 253</td></tr>\n",
       "<tr><td>1642.0</td>\n",
       "<td>2527.0</td>\n",
       "<td>3200.0</td>\n",
       "<td>2768.0</td>\n",
       "<td>253.0</td>\n",
       "<td>0.0205967</td>\n",
       "<td>214 / 10,390</td></tr></table></div>"
      ],
      "text/plain": [
       "1     2     3     4     5    Error      Rate\n",
       "----  ----  ----  ----  ---  ---------  ------------\n",
       "1624  17    0     2     0    0.0115642  19 / 1,643\n",
       "17    2483  13    7     0    0.0146825  37 / 2,520\n",
       "0     21    3116  59    0    0.0250313  80 / 3,196\n",
       "1     6     71    2700  0    0.0280778  78 / 2,778\n",
       "0     0     0     0     253  0          0 / 253\n",
       "1642  2527  3200  2768  253  0.0205967  214 / 10,390"
      ]
     },
     "metadata": {},
     "output_type": "display_data"
    },
    {
     "name": "stdout",
     "output_type": "stream",
     "text": [
      "Top-5 Hit Ratios: \n"
     ]
    },
    {
     "data": {
      "text/html": [
       "<div style=\"overflow:auto\"><table style=\"width:50%\"><tr><td><b>k</b></td>\n",
       "<td><b>hit_ratio</b></td></tr>\n",
       "<tr><td>1</td>\n",
       "<td>0.9794033</td></tr>\n",
       "<tr><td>2</td>\n",
       "<td>0.9939365</td></tr>\n",
       "<tr><td>3</td>\n",
       "<td>0.9943215</td></tr>\n",
       "<tr><td>4</td>\n",
       "<td>0.9943215</td></tr>\n",
       "<tr><td>5</td>\n",
       "<td>1.0</td></tr></table></div>"
      ],
      "text/plain": [
       "k    hit_ratio\n",
       "---  -----------\n",
       "1    0.979403\n",
       "2    0.993937\n",
       "3    0.994321\n",
       "4    0.994321\n",
       "5    1"
      ]
     },
     "metadata": {},
     "output_type": "display_data"
    },
    {
     "name": "stdout",
     "output_type": "stream",
     "text": [
      "\n",
      "ModelMetricsMultinomial: drf\n",
      "** Reported on validation data. **\n",
      "\n",
      "MSE: 0.0173065562876\n",
      "RMSE: 0.131554385285\n",
      "LogLoss: 0.145745072533\n",
      "Mean Per-Class Error: 0.0179711204478\n",
      "Confusion Matrix: Row labels: Actual class; Column labels: Predicted class\n",
      "\n"
     ]
    },
    {
     "data": {
      "text/html": [
       "<div style=\"overflow:auto\"><table style=\"width:50%\"><tr><td><b>1</b></td>\n",
       "<td><b>2</b></td>\n",
       "<td><b>3</b></td>\n",
       "<td><b>4</b></td>\n",
       "<td><b>5</b></td>\n",
       "<td><b>Error</b></td>\n",
       "<td><b>Rate</b></td></tr>\n",
       "<tr><td>303.0</td>\n",
       "<td>4.0</td>\n",
       "<td>0.0</td>\n",
       "<td>0.0</td>\n",
       "<td>0.0</td>\n",
       "<td>0.0130293</td>\n",
       "<td>4 / 307</td></tr>\n",
       "<tr><td>4.0</td>\n",
       "<td>522.0</td>\n",
       "<td>6.0</td>\n",
       "<td>1.0</td>\n",
       "<td>0.0</td>\n",
       "<td>0.0206379</td>\n",
       "<td>11 / 533</td></tr>\n",
       "<tr><td>1.0</td>\n",
       "<td>4.0</td>\n",
       "<td>693.0</td>\n",
       "<td>3.0</td>\n",
       "<td>0.0</td>\n",
       "<td>0.0114123</td>\n",
       "<td>8 / 701</td></tr>\n",
       "<tr><td>2.0</td>\n",
       "<td>6.0</td>\n",
       "<td>19.0</td>\n",
       "<td>576.0</td>\n",
       "<td>0.0</td>\n",
       "<td>0.0447761</td>\n",
       "<td>27 / 603</td></tr>\n",
       "<tr><td>0.0</td>\n",
       "<td>0.0</td>\n",
       "<td>0.0</td>\n",
       "<td>0.0</td>\n",
       "<td>50.0</td>\n",
       "<td>0.0</td>\n",
       "<td>0 / 50</td></tr>\n",
       "<tr><td>310.0</td>\n",
       "<td>536.0</td>\n",
       "<td>718.0</td>\n",
       "<td>580.0</td>\n",
       "<td>50.0</td>\n",
       "<td>0.0227894</td>\n",
       "<td>50 / 2,194</td></tr></table></div>"
      ],
      "text/plain": [
       "1    2    3    4    5    Error      Rate\n",
       "---  ---  ---  ---  ---  ---------  ----------\n",
       "303  4    0    0    0    0.0130293  4 / 307\n",
       "4    522  6    1    0    0.0206379  11 / 533\n",
       "1    4    693  3    0    0.0114123  8 / 701\n",
       "2    6    19   576  0    0.0447761  27 / 603\n",
       "0    0    0    0    50   0          0 / 50\n",
       "310  536  718  580  50   0.0227894  50 / 2,194"
      ]
     },
     "metadata": {},
     "output_type": "display_data"
    },
    {
     "name": "stdout",
     "output_type": "stream",
     "text": [
      "Top-5 Hit Ratios: \n"
     ]
    },
    {
     "data": {
      "text/html": [
       "<div style=\"overflow:auto\"><table style=\"width:50%\"><tr><td><b>k</b></td>\n",
       "<td><b>hit_ratio</b></td></tr>\n",
       "<tr><td>1</td>\n",
       "<td>0.9772106</td></tr>\n",
       "<tr><td>2</td>\n",
       "<td>0.9954422</td></tr>\n",
       "<tr><td>3</td>\n",
       "<td>0.9972653</td></tr>\n",
       "<tr><td>4</td>\n",
       "<td>0.9972653</td></tr>\n",
       "<tr><td>5</td>\n",
       "<td>1.0</td></tr></table></div>"
      ],
      "text/plain": [
       "k    hit_ratio\n",
       "---  -----------\n",
       "1    0.977211\n",
       "2    0.995442\n",
       "3    0.997265\n",
       "4    0.997265\n",
       "5    1"
      ]
     },
     "metadata": {},
     "output_type": "display_data"
    },
    {
     "name": "stdout",
     "output_type": "stream",
     "text": [
      "Scoring History: \n"
     ]
    },
    {
     "data": {
      "text/html": [
       "<div style=\"overflow:auto\"><table style=\"width:50%\"><tr><td><b></b></td>\n",
       "<td><b>timestamp</b></td>\n",
       "<td><b>duration</b></td>\n",
       "<td><b>number_of_trees</b></td>\n",
       "<td><b>training_rmse</b></td>\n",
       "<td><b>training_logloss</b></td>\n",
       "<td><b>training_classification_error</b></td>\n",
       "<td><b>validation_rmse</b></td>\n",
       "<td><b>validation_logloss</b></td>\n",
       "<td><b>validation_classification_error</b></td></tr>\n",
       "<tr><td></td>\n",
       "<td>2018-05-25 11:55:42</td>\n",
       "<td> 0.112 sec</td>\n",
       "<td>0.0</td>\n",
       "<td>nan</td>\n",
       "<td>nan</td>\n",
       "<td>nan</td>\n",
       "<td>nan</td>\n",
       "<td>nan</td>\n",
       "<td>nan</td></tr>\n",
       "<tr><td></td>\n",
       "<td>2018-05-25 11:55:43</td>\n",
       "<td> 0.699 sec</td>\n",
       "<td>1.0</td>\n",
       "<td>0.2068804</td>\n",
       "<td>1.2501516</td>\n",
       "<td>0.0432050</td>\n",
       "<td>0.2020582</td>\n",
       "<td>1.2427018</td>\n",
       "<td>0.0446673</td></tr>\n",
       "<tr><td></td>\n",
       "<td>2018-05-25 11:55:43</td>\n",
       "<td> 0.901 sec</td>\n",
       "<td>2.0</td>\n",
       "<td>0.2030344</td>\n",
       "<td>1.1863168</td>\n",
       "<td>0.0433665</td>\n",
       "<td>0.1533008</td>\n",
       "<td>0.4581514</td>\n",
       "<td>0.0328168</td></tr>\n",
       "<tr><td></td>\n",
       "<td>2018-05-25 11:55:43</td>\n",
       "<td> 1.029 sec</td>\n",
       "<td>3.0</td>\n",
       "<td>0.1925187</td>\n",
       "<td>1.0032510</td>\n",
       "<td>0.0396294</td>\n",
       "<td>0.1392867</td>\n",
       "<td>0.2609876</td>\n",
       "<td>0.0255242</td></tr>\n",
       "<tr><td></td>\n",
       "<td>2018-05-25 11:55:43</td>\n",
       "<td> 1.138 sec</td>\n",
       "<td>4.0</td>\n",
       "<td>0.1855294</td>\n",
       "<td>0.8946803</td>\n",
       "<td>0.0364648</td>\n",
       "<td>0.1343581</td>\n",
       "<td>0.1858522</td>\n",
       "<td>0.0241568</td></tr>\n",
       "<tr><td></td>\n",
       "<td>2018-05-25 11:55:44</td>\n",
       "<td> 1.255 sec</td>\n",
       "<td>5.0</td>\n",
       "<td>0.1774549</td>\n",
       "<td>0.7730025</td>\n",
       "<td>0.0334291</td>\n",
       "<td>0.1352780</td>\n",
       "<td>0.1736343</td>\n",
       "<td>0.0264357</td></tr>\n",
       "<tr><td></td>\n",
       "<td>2018-05-25 11:55:44</td>\n",
       "<td> 1.368 sec</td>\n",
       "<td>6.0</td>\n",
       "<td>0.1657641</td>\n",
       "<td>0.6169585</td>\n",
       "<td>0.0296666</td>\n",
       "<td>0.1354310</td>\n",
       "<td>0.1605909</td>\n",
       "<td>0.0241568</td></tr>\n",
       "<tr><td></td>\n",
       "<td>2018-05-25 11:55:44</td>\n",
       "<td> 1.490 sec</td>\n",
       "<td>7.0</td>\n",
       "<td>0.1589638</td>\n",
       "<td>0.5263309</td>\n",
       "<td>0.0271804</td>\n",
       "<td>0.1355543</td>\n",
       "<td>0.1471992</td>\n",
       "<td>0.0237010</td></tr>\n",
       "<tr><td></td>\n",
       "<td>2018-05-25 11:55:44</td>\n",
       "<td> 1.620 sec</td>\n",
       "<td>8.0</td>\n",
       "<td>0.1531156</td>\n",
       "<td>0.4499150</td>\n",
       "<td>0.0254121</td>\n",
       "<td>0.1355379</td>\n",
       "<td>0.1475452</td>\n",
       "<td>0.0227894</td></tr>\n",
       "<tr><td></td>\n",
       "<td>2018-05-25 11:55:44</td>\n",
       "<td> 1.730 sec</td>\n",
       "<td>9.0</td>\n",
       "<td>0.1481711</td>\n",
       "<td>0.3937585</td>\n",
       "<td>0.0242383</td>\n",
       "<td>0.1339356</td>\n",
       "<td>0.1459117</td>\n",
       "<td>0.0227894</td></tr>\n",
       "<tr><td></td>\n",
       "<td>2018-05-25 11:55:44</td>\n",
       "<td> 1.827 sec</td>\n",
       "<td>10.0</td>\n",
       "<td>0.1449588</td>\n",
       "<td>0.3502315</td>\n",
       "<td>0.0230486</td>\n",
       "<td>0.1332413</td>\n",
       "<td>0.1459080</td>\n",
       "<td>0.0227894</td></tr>\n",
       "<tr><td></td>\n",
       "<td>2018-05-25 11:55:44</td>\n",
       "<td> 1.935 sec</td>\n",
       "<td>11.0</td>\n",
       "<td>0.1411841</td>\n",
       "<td>0.3010383</td>\n",
       "<td>0.0226087</td>\n",
       "<td>0.1324910</td>\n",
       "<td>0.1456984</td>\n",
       "<td>0.0232452</td></tr>\n",
       "<tr><td></td>\n",
       "<td>2018-05-25 11:55:44</td>\n",
       "<td> 2.045 sec</td>\n",
       "<td>12.0</td>\n",
       "<td>0.1389334</td>\n",
       "<td>0.2746497</td>\n",
       "<td>0.0216826</td>\n",
       "<td>0.1318083</td>\n",
       "<td>0.1457564</td>\n",
       "<td>0.0237010</td></tr>\n",
       "<tr><td></td>\n",
       "<td>2018-05-25 11:55:45</td>\n",
       "<td> 2.164 sec</td>\n",
       "<td>13.0</td>\n",
       "<td>0.1360689</td>\n",
       "<td>0.2481553</td>\n",
       "<td>0.0205967</td>\n",
       "<td>0.1315544</td>\n",
       "<td>0.1457451</td>\n",
       "<td>0.0227894</td></tr></table></div>"
      ],
      "text/plain": [
       "    timestamp            duration    number_of_trees    training_rmse    training_logloss    training_classification_error    validation_rmse    validation_logloss    validation_classification_error\n",
       "--  -------------------  ----------  -----------------  ---------------  ------------------  -------------------------------  -----------------  --------------------  ---------------------------------\n",
       "    2018-05-25 11:55:42  0.112 sec   0                  nan              nan                 nan                              nan                nan                   nan\n",
       "    2018-05-25 11:55:43  0.699 sec   1                  0.20688          1.25015             0.043205                         0.202058           1.2427                0.0446673\n",
       "    2018-05-25 11:55:43  0.901 sec   2                  0.203034         1.18632             0.0433665                        0.153301           0.458151              0.0328168\n",
       "    2018-05-25 11:55:43  1.029 sec   3                  0.192519         1.00325             0.0396294                        0.139287           0.260988              0.0255242\n",
       "    2018-05-25 11:55:43  1.138 sec   4                  0.185529         0.89468             0.0364648                        0.134358           0.185852              0.0241568\n",
       "    2018-05-25 11:55:44  1.255 sec   5                  0.177455         0.773002            0.0334291                        0.135278           0.173634              0.0264357\n",
       "    2018-05-25 11:55:44  1.368 sec   6                  0.165764         0.616958            0.0296666                        0.135431           0.160591              0.0241568\n",
       "    2018-05-25 11:55:44  1.490 sec   7                  0.158964         0.526331            0.0271804                        0.135554           0.147199              0.023701\n",
       "    2018-05-25 11:55:44  1.620 sec   8                  0.153116         0.449915            0.0254121                        0.135538           0.147545              0.0227894\n",
       "    2018-05-25 11:55:44  1.730 sec   9                  0.148171         0.393758            0.0242383                        0.133936           0.145912              0.0227894\n",
       "    2018-05-25 11:55:44  1.827 sec   10                 0.144959         0.350232            0.0230486                        0.133241           0.145908              0.0227894\n",
       "    2018-05-25 11:55:44  1.935 sec   11                 0.141184         0.301038            0.0226087                        0.132491           0.145698              0.0232452\n",
       "    2018-05-25 11:55:44  2.045 sec   12                 0.138933         0.27465             0.0216826                        0.131808           0.145756              0.023701\n",
       "    2018-05-25 11:55:45  2.164 sec   13                 0.136069         0.248155            0.0205967                        0.131554           0.145745              0.0227894"
      ]
     },
     "metadata": {},
     "output_type": "display_data"
    },
    {
     "name": "stdout",
     "output_type": "stream",
     "text": [
      "Variable Importances: \n"
     ]
    },
    {
     "data": {
      "text/html": [
       "<div style=\"overflow:auto\"><table style=\"width:50%\"><tr><td><b>variable</b></td>\n",
       "<td><b>relative_importance</b></td>\n",
       "<td><b>scaled_importance</b></td>\n",
       "<td><b>percentage</b></td></tr>\n",
       "<tr><td>NDVI</td>\n",
       "<td>13482.5810547</td>\n",
       "<td>1.0</td>\n",
       "<td>0.1765514</td></tr>\n",
       "<tr><td>green</td>\n",
       "<td>12154.0302734</td>\n",
       "<td>0.9014617</td>\n",
       "<td>0.1591543</td></tr>\n",
       "<tr><td>red</td>\n",
       "<td>11419.8876953</td>\n",
       "<td>0.8470105</td>\n",
       "<td>0.1495409</td></tr>\n",
       "<tr><td>blue</td>\n",
       "<td>10718.0283203</td>\n",
       "<td>0.7949537</td>\n",
       "<td>0.1403502</td></tr>\n",
       "<tr><td>swir2</td>\n",
       "<td>9294.8476562</td>\n",
       "<td>0.6893968</td>\n",
       "<td>0.1217140</td></tr>\n",
       "<tr><td>swir1</td>\n",
       "<td>6832.9711914</td>\n",
       "<td>0.5067999</td>\n",
       "<td>0.0894762</td></tr>\n",
       "<tr><td>nir</td>\n",
       "<td>6440.3427734</td>\n",
       "<td>0.4776788</td>\n",
       "<td>0.0843349</td></tr>\n",
       "<tr><td>LSWI</td>\n",
       "<td>6023.6264648</td>\n",
       "<td>0.4467710</td>\n",
       "<td>0.0788781</td></tr></table></div>"
      ],
      "text/plain": [
       "variable    relative_importance    scaled_importance    percentage\n",
       "----------  ---------------------  -------------------  ------------\n",
       "NDVI        13482.6                1                    0.176551\n",
       "green       12154                  0.901462             0.159154\n",
       "red         11419.9                0.84701              0.149541\n",
       "blue        10718                  0.794954             0.14035\n",
       "swir2       9294.85                0.689397             0.121714\n",
       "swir1       6832.97                0.5068               0.0894762\n",
       "nir         6440.34                0.477679             0.0843349\n",
       "LSWI        6023.63                0.446771             0.0788781"
      ]
     },
     "metadata": {},
     "output_type": "display_data"
    },
    {
     "data": {
      "text/plain": []
     },
     "execution_count": 27,
     "metadata": {},
     "output_type": "execute_result"
    }
   ],
   "source": [
    "# Print model details\n",
    "rf_v1"
   ]
  },
  {
   "cell_type": "code",
   "execution_count": 55,
   "metadata": {},
   "outputs": [
    {
     "name": "stdout",
     "output_type": "stream",
     "text": [
      "drf prediction progress: |████████████████████████████████████████████████| 100%\n"
     ]
    }
   ],
   "source": [
    "# Predict using test data\n",
    "final_rf_predictions = rf_v1.predict(test[:-3])"
   ]
  },
  {
   "cell_type": "code",
   "execution_count": 64,
   "metadata": {},
   "outputs": [
    {
     "data": {
      "text/plain": [
       "2195"
      ]
     },
     "execution_count": 64,
     "metadata": {},
     "output_type": "execute_result"
    }
   ],
   "source": [
    "test[:-3].nrow"
   ]
  },
  {
   "cell_type": "code",
   "execution_count": 57,
   "metadata": {},
   "outputs": [
    {
     "data": {
      "text/plain": [
       "predict    0.978132\n",
       "dtype: float64"
      ]
     },
     "execution_count": 57,
     "metadata": {},
     "output_type": "execute_result"
    }
   ],
   "source": [
    "# Get test data accuracy\n",
    "(final_rf_predictions['predict']==test['class']).as_data_frame(use_pandas=True).mean()"
   ]
  },
  {
   "cell_type": "code",
   "execution_count": 31,
   "metadata": {},
   "outputs": [
    {
     "data": {
      "text/plain": [
       "(2195, 6)"
      ]
     },
     "execution_count": 31,
     "metadata": {},
     "output_type": "execute_result"
    }
   ],
   "source": [
    "# Shape of test data predictions\n",
    "final_rf_predictions.as_data_frame().shape"
   ]
  },
  {
   "cell_type": "code",
   "execution_count": 32,
   "metadata": {},
   "outputs": [
    {
     "data": {
      "text/plain": [
       "(2195, 1)"
      ]
     },
     "execution_count": 32,
     "metadata": {},
     "output_type": "execute_result"
    }
   ],
   "source": [
    "final_rf_predictions['predict'].as_data_frame().shape"
   ]
  },
  {
   "cell_type": "code",
   "execution_count": 33,
   "metadata": {},
   "outputs": [],
   "source": [
    "resulting_class_df = test.as_data_frame().join(final_rf_predictions['predict'].as_data_frame())"
   ]
  },
  {
   "cell_type": "code",
   "execution_count": 34,
   "metadata": {},
   "outputs": [],
   "source": [
    "# Create MultiIndex from coordinates ## TODO include time!\n",
    "resulting_class_df.set_index(['x', 'y'], inplace=True)"
   ]
  },
  {
   "cell_type": "code",
   "execution_count": 35,
   "metadata": {},
   "outputs": [
    {
     "data": {
      "text/plain": [
       "(2195, 12)"
      ]
     },
     "execution_count": 35,
     "metadata": {},
     "output_type": "execute_result"
    }
   ],
   "source": [
    "resulting_class_df.shape"
   ]
  },
  {
   "cell_type": "code",
   "execution_count": 36,
   "metadata": {},
   "outputs": [
    {
     "data": {
      "text/plain": [
       "(2195, 12)"
      ]
     },
     "execution_count": 36,
     "metadata": {},
     "output_type": "execute_result"
    }
   ],
   "source": [
    "# Test if duplicates (there shouldnt be!)\n",
    "remove_duplicates = resulting_class_df[~resulting_class_df.index.duplicated(keep='first')]\n",
    "remove_duplicates.shape"
   ]
  },
  {
   "cell_type": "code",
   "execution_count": 37,
   "metadata": {},
   "outputs": [],
   "source": [
    "# Return to xarray\n",
    "xarr = xr.Dataset.from_dataframe(resulting_class_df)"
   ]
  },
  {
   "cell_type": "code",
   "execution_count": 43,
   "metadata": {},
   "outputs": [
    {
     "data": {
      "text/plain": [
       "<xarray.Dataset>\n",
       "Dimensions:     (x: 534, y: 552)\n",
       "Coordinates:\n",
       "  * x           (x) int64 499465 499485 499495 499505 499515 499525 499535 ...\n",
       "  * y           (y) int64 424095 424105 424115 424125 424135 424145 424155 ...\n",
       "Data variables:\n",
       "    blue        (x, y) float64 nan nan nan nan nan nan nan nan nan nan nan ...\n",
       "    swir1       (x, y) float64 nan nan nan nan nan nan nan nan nan nan nan ...\n",
       "    swir2       (x, y) float64 nan nan nan nan nan nan nan nan nan nan nan ...\n",
       "    green       (x, y) float64 nan nan nan nan nan nan nan nan nan nan nan ...\n",
       "    nir         (x, y) float64 nan nan nan nan nan nan nan nan nan nan nan ...\n",
       "    NDVI        (x, y) float64 nan nan nan nan nan nan nan nan nan nan nan ...\n",
       "    LSWI        (x, y) float64 nan nan nan nan nan nan nan nan nan nan nan ...\n",
       "    red         (x, y) float64 nan nan nan nan nan nan nan nan nan nan nan ...\n",
       "    mask        (x, y) object nan nan nan nan nan nan nan nan nan nan nan ...\n",
       "    class       (x, y) float64 nan nan nan nan nan nan nan nan nan nan nan ...\n",
       "    class_mask  (x, y) object nan nan nan nan nan nan nan nan nan nan nan ...\n",
       "    predict     (x, y) float64 nan nan nan nan nan nan nan nan nan nan nan ..."
      ]
     },
     "execution_count": 43,
     "metadata": {},
     "output_type": "execute_result"
    }
   ],
   "source": [
    "# Plot phenology class from test data. WHY IS IT LIKE THAT?!\n",
    "xarr#['predict'].plot()"
   ]
  },
  {
   "cell_type": "code",
   "execution_count": 44,
   "metadata": {},
   "outputs": [],
   "source": [
    "# Prepare to compare initial with prediction\n",
    "original = sat_data_again['class'].sel(time='2015-12-11').drop('time').drop('mask')\n",
    "predicted = xarr['predict']"
   ]
  },
  {
   "cell_type": "code",
   "execution_count": 48,
   "metadata": {},
   "outputs": [],
   "source": [
    "# Concatenate into one xarray\n",
    "dimnames = xr.Variable('band', pd.Index(['class', 'predict']))\n",
    "da = xr.concat([original.where(original>0).drop('class_mask'), predicted], dimnames)"
   ]
  },
  {
   "cell_type": "code",
   "execution_count": 49,
   "metadata": {},
   "outputs": [
    {
     "data": {
      "text/plain": [
       "<xarray.DataArray 'class' (band: 2, x: 2979, y: 3631)>\n",
       "dask.array<shape=(2, 2979, 3631), dtype=float64, chunksize=(1, 2979, 3631)>\n",
       "Coordinates:\n",
       "  * y        (y) float64 4.122e+05 4.122e+05 4.122e+05 4.122e+05 4.122e+05 ...\n",
       "  * x        (x) float64 4.889e+05 4.889e+05 4.889e+05 4.889e+05 4.889e+05 ...\n",
       "  * band     (band) object 'class' 'predict'"
      ]
     },
     "execution_count": 49,
     "metadata": {},
     "output_type": "execute_result"
    }
   ],
   "source": [
    "da"
   ]
  },
  {
   "cell_type": "code",
   "execution_count": 50,
   "metadata": {},
   "outputs": [
    {
     "data": {
      "text/plain": [
       "<xarray.plot.facetgrid.FacetGrid at 0x7f39bc230dd0>"
      ]
     },
     "execution_count": 50,
     "metadata": {},
     "output_type": "execute_result"
    },
    {
     "data": {
      "image/png": "[encoded data removed]",
      "text/plain": [
       "<Figure size 504x216 with 3 Axes>"
      ]
     },
     "metadata": {},
     "output_type": "display_data"
    }
   ],
   "source": [
    "# Plot\n",
    "da.plot(x='x', y='y', col='band', vmin=1., vmax=5., cmap='RdYlGn')"
   ]
  },
  {
   "cell_type": "code",
   "execution_count": 51,
   "metadata": {},
   "outputs": [
    {
     "data": {
      "text/plain": [
       "<xarray.Dataset>\n",
       "Dimensions:     (x: 2979, y: 3631)\n",
       "Coordinates:\n",
       "  * y           (y) float64 4.122e+05 4.122e+05 4.122e+05 4.122e+05 ...\n",
       "  * x           (x) float64 4.889e+05 4.889e+05 4.889e+05 4.889e+05 ...\n",
       "    class_mask  (x, y) bool dask.array<shape=(2979, 3631), chunksize=(2979, 3631)>\n",
       "Data variables:\n",
       "    class       (x, y) uint8 dask.array<shape=(2979, 3631), chunksize=(2979, 3631)>\n",
       "    predict     (x, y) float64 nan nan nan nan nan nan nan nan nan nan nan ..."
      ]
     },
     "execution_count": 51,
     "metadata": {},
     "output_type": "execute_result"
    }
   ],
   "source": [
    "# Test merging into dataset\n",
    "merged = xr.merge([original, predicted])\n",
    "merged"
   ]
  },
  {
   "cell_type": "code",
   "execution_count": 52,
   "metadata": {},
   "outputs": [
    {
     "data": {
      "text/plain": [
       "<matplotlib.collections.QuadMesh at 0x7f39b6ff9d50>"
      ]
     },
     "execution_count": 52,
     "metadata": {},
     "output_type": "execute_result"
    },
    {
     "data": {
      "image/png": "[encoded data removed]",
      "text/plain": [
       "<Figure size 432x288 with 2 Axes>"
      ]
     },
     "metadata": {},
     "output_type": "display_data"
    }
   ],
   "source": [
    "merged['class'].where(merged.class_mask).plot()"
   ]
  },
  {
   "cell_type": "code",
   "execution_count": 53,
   "metadata": {},
   "outputs": [
    {
     "data": {
      "text/plain": [
       "<matplotlib.collections.QuadMesh at 0x7f3984069410>"
      ]
     },
     "execution_count": 53,
     "metadata": {},
     "output_type": "execute_result"
    },
    {
     "data": {
      "image/png": "[encoded data removed]",
      "text/plain": [
       "<Figure size 432x288 with 2 Axes>"
      ]
     },
     "metadata": {},
     "output_type": "display_data"
    }
   ],
   "source": [
    "merged['predict'].plot()"
   ]
  },
  {
   "cell_type": "code",
   "execution_count": 83,
   "metadata": {},
   "outputs": [],
   "source": [
    "# Close h2o cluster\n",
    "h2o.cluster().shutdown(prompt=False)"
   ]
  },
  {
   "cell_type": "markdown",
   "metadata": {},
   "source": [
    "## Rest of h2o.ai tutorial"
   ]
  },
  {
   "cell_type": "code",
   "execution_count": 25,
   "metadata": {},
   "outputs": [],
   "source": [
    "# Import H2O RF:\n",
    "from h2o.estimators.random_forest import H2ORandomForestEstimator"
   ]
  },
  {
   "cell_type": "code",
   "execution_count": 26,
   "metadata": {},
   "outputs": [],
   "source": [
    "# Initialize the RF estimator:\n",
    "\n",
    "rf_fit1 = H2ORandomForestEstimator(model_id='rf_fit1', seed=1)"
   ]
  },
  {
   "cell_type": "code",
   "execution_count": 27,
   "metadata": {},
   "outputs": [
    {
     "name": "stdout",
     "output_type": "stream",
     "text": [
      "drf Model Build progress: |███████████████████████████████████████████████| 100%\n"
     ]
    }
   ],
   "source": [
    "rf_fit1.train(x=x, y=y, training_frame=train)"
   ]
  },
  {
   "cell_type": "code",
   "execution_count": 28,
   "metadata": {},
   "outputs": [
    {
     "name": "stdout",
     "output_type": "stream",
     "text": [
      "drf Model Build progress: |███████████████████████████████████████████████| 100%\n"
     ]
    }
   ],
   "source": [
    "rf_fit2 = H2ORandomForestEstimator(model_id='rf_fit2', ntrees=100, seed=1)\n",
    "rf_fit2.train(x=x, y=y, training_frame=train)"
   ]
  },
  {
   "cell_type": "code",
   "execution_count": 29,
   "metadata": {},
   "outputs": [],
   "source": [
    "rf_perf1 = rf_fit1.model_performance(test)\n",
    "rf_perf2 = rf_fit2.model_performance(test)"
   ]
  },
  {
   "cell_type": "code",
   "execution_count": 30,
   "metadata": {},
   "outputs": [
    {
     "name": "stdout",
     "output_type": "stream",
     "text": [
      "0.663462768485\n",
      "0.669287987873\n"
     ]
    }
   ],
   "source": [
    "print rf_perf1.auc()\n",
    "print rf_perf2.auc()"
   ]
  },
  {
   "cell_type": "code",
   "execution_count": 31,
   "metadata": {},
   "outputs": [
    {
     "name": "stdout",
     "output_type": "stream",
     "text": [
      "drf Model Build progress: |███████████████████████████████████████████████| 100%\n"
     ]
    }
   ],
   "source": [
    "rf_fit3 = H2ORandomForestEstimator(model_id='rf_fit3', seed=1, nfolds=5)\n",
    "rf_fit3.train(x=x, y=y, training_frame=data)"
   ]
  },
  {
   "cell_type": "code",
   "execution_count": 32,
   "metadata": {},
   "outputs": [
    {
     "name": "stdout",
     "output_type": "stream",
     "text": [
      "0.663606041745\n"
     ]
    }
   ],
   "source": [
    "print rf_fit3.auc(xval=True)"
   ]
  },
  {
   "cell_type": "code",
   "execution_count": 33,
   "metadata": {},
   "outputs": [],
   "source": [
    "# Import H2O GBM:\n",
    "from h2o.estimators.gbm import H2OGradientBoostingEstimator"
   ]
  },
  {
   "cell_type": "code",
   "execution_count": 34,
   "metadata": {},
   "outputs": [
    {
     "name": "stdout",
     "output_type": "stream",
     "text": [
      "gbm Model Build progress: |███████████████████████████████████████████████| 100%\n"
     ]
    }
   ],
   "source": [
    "# Initialize and train the GBM estimator:\n",
    "\n",
    "gbm_fit1 = H2OGradientBoostingEstimator(model_id='gbm_fit1', seed=1)\n",
    "gbm_fit1.train(x=x, y=y, training_frame=train)"
   ]
  },
  {
   "cell_type": "code",
   "execution_count": 35,
   "metadata": {},
   "outputs": [
    {
     "name": "stdout",
     "output_type": "stream",
     "text": [
      "gbm Model Build progress: |███████████████████████████████████████████████| 100%\n"
     ]
    }
   ],
   "source": [
    "gbm_fit2 = H2OGradientBoostingEstimator(model_id='gbm_fit2', ntrees=500, seed=1)\n",
    "gbm_fit2.train(x=x, y=y, training_frame=train)"
   ]
  },
  {
   "cell_type": "code",
   "execution_count": 36,
   "metadata": {},
   "outputs": [
    {
     "name": "stdout",
     "output_type": "stream",
     "text": [
      "gbm Model Build progress: |███████████████████████████████████████████████| 100%\n"
     ]
    }
   ],
   "source": [
    "gbm_fit3 = H2OGradientBoostingEstimator(model_id='gbm_fit3', \n",
    "                                        ntrees=500, \n",
    "                                        score_tree_interval=5,     #used for early stopping\n",
    "                                        stopping_rounds=3,         #used for early stopping\n",
    "                                        stopping_metric='AUC',     #used for early stopping\n",
    "                                        stopping_tolerance=0.0005, #used for early stopping\n",
    "                                        seed=1)\n",
    "\n",
    "# The use of a validation_frame is recommended with using early stopping\n",
    "gbm_fit3.train(x=x, y=y, training_frame=train, validation_frame=valid)\n"
   ]
  },
  {
   "cell_type": "code",
   "execution_count": 37,
   "metadata": {},
   "outputs": [],
   "source": [
    "gbm_perf1 = gbm_fit1.model_performance(test)\n",
    "gbm_perf2 = gbm_fit2.model_performance(test)\n",
    "gbm_perf3 = gbm_fit3.model_performance(test)"
   ]
  },
  {
   "cell_type": "code",
   "execution_count": 38,
   "metadata": {},
   "outputs": [
    {
     "name": "stdout",
     "output_type": "stream",
     "text": [
      "0.683883128672\n",
      "0.684086466361\n",
      "0.684443511563\n"
     ]
    }
   ],
   "source": [
    "# Retreive test set AUC\n",
    "print gbm_perf1.auc()\n",
    "print gbm_perf2.auc()\n",
    "print gbm_perf3.auc()"
   ]
  },
  {
   "cell_type": "code",
   "execution_count": 39,
   "metadata": {},
   "outputs": [
    {
     "name": "stdout",
     "output_type": "stream",
     "text": [
      "Scoring History: \n"
     ]
    },
    {
     "data": {
      "text/html": [
       "<div style=\"overflow:auto\"><table style=\"width:50%\"><tr><td><b></b></td>\n",
       "<td><b>timestamp</b></td>\n",
       "<td><b>duration</b></td>\n",
       "<td><b>number_of_trees</b></td>\n",
       "<td><b>training_rmse</b></td>\n",
       "<td><b>training_logloss</b></td>\n",
       "<td><b>training_auc</b></td>\n",
       "<td><b>training_lift</b></td>\n",
       "<td><b>training_classification_error</b></td></tr>\n",
       "<tr><td></td>\n",
       "<td>2018-04-25 08:45:40</td>\n",
       "<td> 0.028 sec</td>\n",
       "<td>0.0</td>\n",
       "<td>0.3856346</td>\n",
       "<td>0.4740298</td>\n",
       "<td>0.5</td>\n",
       "<td>1.0</td>\n",
       "<td>0.8182546</td></tr>\n",
       "<tr><td></td>\n",
       "<td>2018-04-25 08:45:40</td>\n",
       "<td> 0.128 sec</td>\n",
       "<td>1.0</td>\n",
       "<td>0.3837005</td>\n",
       "<td>0.4691294</td>\n",
       "<td>0.6577912</td>\n",
       "<td>2.6832997</td>\n",
       "<td>0.4006858</td></tr>\n",
       "<tr><td></td>\n",
       "<td>2018-04-25 08:45:40</td>\n",
       "<td> 0.174 sec</td>\n",
       "<td>2.0</td>\n",
       "<td>0.3820620</td>\n",
       "<td>0.4651166</td>\n",
       "<td>0.6658294</td>\n",
       "<td>2.7939915</td>\n",
       "<td>0.3332492</td></tr>\n",
       "<tr><td></td>\n",
       "<td>2018-04-25 08:45:40</td>\n",
       "<td> 0.221 sec</td>\n",
       "<td>3.0</td>\n",
       "<td>0.3806936</td>\n",
       "<td>0.4618385</td>\n",
       "<td>0.6685103</td>\n",
       "<td>2.9710023</td>\n",
       "<td>0.3447454</td></tr>\n",
       "<tr><td></td>\n",
       "<td>2018-04-25 08:45:40</td>\n",
       "<td> 0.276 sec</td>\n",
       "<td>4.0</td>\n",
       "<td>0.3795380</td>\n",
       "<td>0.4591170</td>\n",
       "<td>0.6701132</td>\n",
       "<td>2.9754401</td>\n",
       "<td>0.3318046</td></tr>\n",
       "<tr><td>---</td>\n",
       "<td>---</td>\n",
       "<td>---</td>\n",
       "<td>---</td>\n",
       "<td>---</td>\n",
       "<td>---</td>\n",
       "<td>---</td>\n",
       "<td>---</td>\n",
       "<td>---</td></tr>\n",
       "<tr><td></td>\n",
       "<td>2018-04-25 08:45:43</td>\n",
       "<td> 3.795 sec</td>\n",
       "<td>43.0</td>\n",
       "<td>0.3677312</td>\n",
       "<td>0.4317210</td>\n",
       "<td>0.7124068</td>\n",
       "<td>3.6410228</td>\n",
       "<td>0.2975859</td></tr>\n",
       "<tr><td></td>\n",
       "<td>2018-04-25 08:45:43</td>\n",
       "<td> 3.888 sec</td>\n",
       "<td>44.0</td>\n",
       "<td>0.3676187</td>\n",
       "<td>0.4314625</td>\n",
       "<td>0.7129225</td>\n",
       "<td>3.6553764</td>\n",
       "<td>0.3021722</td></tr>\n",
       "<tr><td></td>\n",
       "<td>2018-04-25 08:45:44</td>\n",
       "<td> 3.989 sec</td>\n",
       "<td>45.0</td>\n",
       "<td>0.3674805</td>\n",
       "<td>0.4311606</td>\n",
       "<td>0.7134660</td>\n",
       "<td>3.6649454</td>\n",
       "<td>0.3023984</td></tr>\n",
       "<tr><td></td>\n",
       "<td>2018-04-25 08:45:48</td>\n",
       "<td> 7.995 sec</td>\n",
       "<td>226.0</td>\n",
       "<td>0.3612902</td>\n",
       "<td>0.4176954</td>\n",
       "<td>0.7402357</td>\n",
       "<td>4.2582264</td>\n",
       "<td>0.2599471</td></tr>\n",
       "<tr><td></td>\n",
       "<td>2018-04-25 08:45:50</td>\n",
       "<td>10.864 sec</td>\n",
       "<td>500.0</td>\n",
       "<td>0.3612902</td>\n",
       "<td>0.4176954</td>\n",
       "<td>0.7402357</td>\n",
       "<td>4.2582264</td>\n",
       "<td>0.2599471</td></tr></table></div>"
      ],
      "text/plain": [
       "     timestamp            duration    number_of_trees    training_rmse    training_logloss    training_auc    training_lift    training_classification_error\n",
       "---  -------------------  ----------  -----------------  ---------------  ------------------  --------------  ---------------  -------------------------------\n",
       "     2018-04-25 08:45:40  0.028 sec   0.0                0.385634551401   0.474029820223      0.5             1.0              0.818254603683\n",
       "     2018-04-25 08:45:40  0.128 sec   1.0                0.3837005122     0.469129436808      0.657791165609  2.68329972068    0.400685766004\n",
       "     2018-04-25 08:45:40  0.174 sec   2.0                0.382061982395   0.465116567784      0.665829430978  2.79399154264    0.333249208062\n",
       "     2018-04-25 08:45:40  0.221 sec   3.0                0.380693585036   0.461838509958      0.668510341023  2.97100227756    0.344745361507\n",
       "     2018-04-25 08:45:40  0.276 sec   4.0                0.37953800372    0.459117012737      0.670113151912  2.97544005596    0.331804574094\n",
       "---  ---                  ---         ---                ---              ---                 ---             ---              ---\n",
       "     2018-04-25 08:45:43  3.795 sec   43.0               0.367731196852   0.431721034686      0.712406800184  3.64102279257    0.297585894803\n",
       "     2018-04-25 08:45:43  3.888 sec   44.0               0.367618740501   0.43146245139       0.712922465256  3.65537636468    0.302172172521\n",
       "     2018-04-25 08:45:44  3.989 sec   45.0               0.367480513734   0.431160572065      0.713465990166  3.66494541276    0.302398440492\n",
       "     2018-04-25 08:45:48  7.995 sec   226.0              0.361290217025   0.417695443147      0.740235728925  4.25822639341    0.259947088105\n",
       "     2018-04-25 08:45:50  10.864 sec  500.0              0.361290217025   0.417695443147      0.740235728925  4.25822639341    0.259947088105"
      ]
     },
     "metadata": {},
     "output_type": "display_data"
    },
    {
     "data": {
      "text/plain": []
     },
     "execution_count": 39,
     "metadata": {},
     "output_type": "execute_result"
    }
   ],
   "source": [
    "gbm_fit2.scoring_history()"
   ]
  },
  {
   "cell_type": "code",
   "execution_count": 40,
   "metadata": {},
   "outputs": [],
   "source": [
    "# Import H2O DL:\n",
    "from h2o.estimators.deeplearning import H2ODeepLearningEstimator"
   ]
  },
  {
   "cell_type": "code",
   "execution_count": 41,
   "metadata": {},
   "outputs": [
    {
     "name": "stdout",
     "output_type": "stream",
     "text": [
      "deeplearning Model Build progress: |██████████████████████████████████████| 100%\n"
     ]
    }
   ],
   "source": [
    "dl_fit1 = H2ODeepLearningEstimator(model_id='dl_fit1', seed=1)\n",
    "dl_fit1.train(x=x, y=y, training_frame=train)"
   ]
  },
  {
   "cell_type": "code",
   "execution_count": 42,
   "metadata": {},
   "outputs": [
    {
     "name": "stdout",
     "output_type": "stream",
     "text": [
      "deeplearning Model Build progress: |██████████████████████████████████████| 100%\n"
     ]
    }
   ],
   "source": [
    "dl_fit2 = H2ODeepLearningEstimator(model_id='dl_fit2', \n",
    "                                   epochs=20, \n",
    "                                   hidden=[10,10], \n",
    "                                   stopping_rounds=0,  #disable early stopping\n",
    "                                   seed=1)\n",
    "dl_fit2.train(x=x, y=y, training_frame=train)"
   ]
  },
  {
   "cell_type": "code",
   "execution_count": 43,
   "metadata": {},
   "outputs": [
    {
     "name": "stdout",
     "output_type": "stream",
     "text": [
      "deeplearning Model Build progress: |██████████████████████████████████████| 100%\n"
     ]
    }
   ],
   "source": [
    "dl_fit3 = H2ODeepLearningEstimator(model_id='dl_fit3', \n",
    "                                   epochs=20, \n",
    "                                   hidden=[10,10],\n",
    "                                   score_interval=1,          #used for early stopping\n",
    "                                   stopping_rounds=3,         #used for early stopping\n",
    "                                   stopping_metric='AUC',     #used for early stopping\n",
    "                                   stopping_tolerance=0.0005, #used for early stopping\n",
    "                                   seed=1)\n",
    "dl_fit3.train(x=x, y=y, training_frame=train, validation_frame=valid)"
   ]
  },
  {
   "cell_type": "code",
   "execution_count": 44,
   "metadata": {},
   "outputs": [],
   "source": [
    "dl_perf1 = dl_fit1.model_performance(test)\n",
    "dl_perf2 = dl_fit2.model_performance(test)\n",
    "dl_perf3 = dl_fit3.model_performance(test)"
   ]
  },
  {
   "cell_type": "code",
   "execution_count": 45,
   "metadata": {},
   "outputs": [
    {
     "name": "stdout",
     "output_type": "stream",
     "text": [
      "0.686254936726\n",
      "0.681516110354\n",
      "0.681802966019\n"
     ]
    }
   ],
   "source": [
    "# Retreive test set AUC\n",
    "print dl_perf1.auc()\n",
    "print dl_perf2.auc()\n",
    "print dl_perf3.auc()"
   ]
  },
  {
   "cell_type": "code",
   "execution_count": 47,
   "metadata": {},
   "outputs": [
    {
     "name": "stdout",
     "output_type": "stream",
     "text": [
      "naivebayes Model Build progress: |████████████████████████████████████████| 100%\n"
     ]
    }
   ],
   "source": [
    "from h2o.estimators.naive_bayes import H2ONaiveBayesEstimator\n",
    "nb_fit1 = H2ONaiveBayesEstimator(model_id='nb_fit1')\n",
    "nb_fit1.train(x=x, y=y, training_frame=train)"
   ]
  },
  {
   "cell_type": "code",
   "execution_count": 48,
   "metadata": {},
   "outputs": [
    {
     "name": "stdout",
     "output_type": "stream",
     "text": [
      "naivebayes Model Build progress: |████████████████████████████████████████| 100%\n"
     ]
    }
   ],
   "source": [
    "nb_fit2 = H2ONaiveBayesEstimator(model_id='nb_fit2', laplace=6)\n",
    "nb_fit2.train(x=x, y=y, training_frame=train)"
   ]
  },
  {
   "cell_type": "code",
   "execution_count": 49,
   "metadata": {},
   "outputs": [],
   "source": [
    "nb_perf1 = nb_fit1.model_performance(test)\n",
    "nb_perf2 = nb_fit2.model_performance(test)"
   ]
  },
  {
   "cell_type": "code",
   "execution_count": 50,
   "metadata": {},
   "outputs": [
    {
     "name": "stdout",
     "output_type": "stream",
     "text": [
      "0.651337099516\n",
      "0.651391851824\n"
     ]
    }
   ],
   "source": [
    "# Retreive test set AUC\n",
    "print nb_perf1.auc()\n",
    "print nb_perf2.auc()"
   ]
  }
 ],
 "metadata": {
  "kernelspec": {
   "display_name": "Python 2",
   "language": "python",
   "name": "python2"
  },
  "language_info": {
   "codemirror_mode": {
    "name": "ipython",
    "version": 2
   },
   "file_extension": ".py",
   "mimetype": "text/x-python",
   "name": "python",
   "nbconvert_exporter": "python",
   "pygments_lexer": "ipython2",
   "version": "2.7.14"
  }
 },
 "nbformat": 4,
 "nbformat_minor": 2
}
