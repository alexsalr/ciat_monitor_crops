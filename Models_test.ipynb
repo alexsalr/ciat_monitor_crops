{
 "cells": [
  {
   "cell_type": "markdown",
   "metadata": {},
   "source": [
    "## Test ML models\n",
    "### h2o.ai\n",
    "Transform netCDF serialized files to h2o dataframes via xarray and pandas."
   ]
  },
  {
   "cell_type": "code",
   "execution_count": 1,
   "metadata": {},
   "outputs": [],
   "source": [
    "import h2o\n",
    "import xarray as xr\n",
    "import pandas as pd"
   ]
  },
  {
   "cell_type": "code",
   "execution_count": null,
   "metadata": {},
   "outputs": [],
   "source": [
    "# Open the training dataset (Saldana S2 data from late-2015 to jan-2016)\n",
    "# data variable phc is phenology class\n",
    "sat_data_again = xr.open_dataset('/home/azalazar/data/training_data/s2phc.nc')\n",
    "sat_data_again"
   ]
  },
  {
   "cell_type": "code",
   "execution_count": 3,
   "metadata": {},
   "outputs": [
    {
     "name": "stdout",
     "output_type": "stream",
     "text": [
      "Checking whether there is an H2O instance running at http://localhost:54321..... not found.\n",
      "Attempting to start a local H2O server...\n",
      "  Java Version: openjdk version \"1.8.0_121\"; OpenJDK Runtime Environment (Zulu 8.20.0.5-linux64) (build 1.8.0_121-b15); OpenJDK 64-Bit Server VM (Zulu 8.20.0.5-linux64) (build 25.121-b15, mixed mode)\n",
      "  Starting server from /home/azalazar/anaconda2/envs/models/h2o_jar/h2o.jar\n",
      "  Ice root: /tmp/tmpCFXVNC\n",
      "  JVM stdout: /tmp/tmpCFXVNC/h2o_azalazar_started_from_python.out\n",
      "  JVM stderr: /tmp/tmpCFXVNC/h2o_azalazar_started_from_python.err\n",
      "  Server is running at http://127.0.0.1:54321\n",
      "Connecting to H2O server at http://127.0.0.1:54321... successful.\n"
     ]
    },
    {
     "data": {
      "text/html": [
       "<div style=\"overflow:auto\"><table style=\"width:50%\"><tr><td>H2O cluster uptime:</td>\n",
       "<td>06 secs</td></tr>\n",
       "<tr><td>H2O cluster timezone:</td>\n",
       "<td>America/Bogota</td></tr>\n",
       "<tr><td>H2O data parsing timezone:</td>\n",
       "<td>UTC</td></tr>\n",
       "<tr><td>H2O cluster version:</td>\n",
       "<td>3.18.0.2</td></tr>\n",
       "<tr><td>H2O cluster version age:</td>\n",
       "<td>1 month and 28 days </td></tr>\n",
       "<tr><td>H2O cluster name:</td>\n",
       "<td>H2O_from_python_azalazar_k1044x</td></tr>\n",
       "<tr><td>H2O cluster total nodes:</td>\n",
       "<td>1</td></tr>\n",
       "<tr><td>H2O cluster free memory:</td>\n",
       "<td>7.111 Gb</td></tr>\n",
       "<tr><td>H2O cluster total cores:</td>\n",
       "<td>24</td></tr>\n",
       "<tr><td>H2O cluster allowed cores:</td>\n",
       "<td>24</td></tr>\n",
       "<tr><td>H2O cluster status:</td>\n",
       "<td>accepting new members, healthy</td></tr>\n",
       "<tr><td>H2O connection url:</td>\n",
       "<td>http://127.0.0.1:54321</td></tr>\n",
       "<tr><td>H2O connection proxy:</td>\n",
       "<td>None</td></tr>\n",
       "<tr><td>H2O internal security:</td>\n",
       "<td>False</td></tr>\n",
       "<tr><td>H2O API Extensions:</td>\n",
       "<td>XGBoost, Algos, AutoML, Core V3, Core V4</td></tr>\n",
       "<tr><td>Python version:</td>\n",
       "<td>2.7.14 final</td></tr></table></div>"
      ],
      "text/plain": [
       "--------------------------  ----------------------------------------\n",
       "H2O cluster uptime:         06 secs\n",
       "H2O cluster timezone:       America/Bogota\n",
       "H2O data parsing timezone:  UTC\n",
       "H2O cluster version:        3.18.0.2\n",
       "H2O cluster version age:    1 month and 28 days\n",
       "H2O cluster name:           H2O_from_python_azalazar_k1044x\n",
       "H2O cluster total nodes:    1\n",
       "H2O cluster free memory:    7.111 Gb\n",
       "H2O cluster total cores:    24\n",
       "H2O cluster allowed cores:  24\n",
       "H2O cluster status:         accepting new members, healthy\n",
       "H2O connection url:         http://127.0.0.1:54321\n",
       "H2O connection proxy:\n",
       "H2O internal security:      False\n",
       "H2O API Extensions:         XGBoost, Algos, AutoML, Core V3, Core V4\n",
       "Python version:             2.7.14 final\n",
       "--------------------------  ----------------------------------------"
      ]
     },
     "metadata": {},
     "output_type": "display_data"
    }
   ],
   "source": [
    "# Initialize h2o cluster\n",
    "h2o.init(nthreads = -1, max_mem_size = 8)"
   ]
  },
  {
   "cell_type": "code",
   "execution_count": 38,
   "metadata": {},
   "outputs": [
    {
     "data": {
      "text/plain": [
       "<xarray.Dataset>\n",
       "Dimensions:   (time: 4, x: 2979, y: 3631)\n",
       "Coordinates:\n",
       "  * x         (x) float64 4.889e+05 4.889e+05 4.889e+05 4.889e+05 4.889e+05 ...\n",
       "  * y         (y) float64 4.485e+05 4.484e+05 4.484e+05 4.484e+05 4.484e+05 ...\n",
       "  * time      (time) datetime64[ns] 2015-12-22 2015-12-31 2016-01-11 2016-01-21\n",
       "    mask      (time, x, y) bool ...\n",
       "Data variables:\n",
       "    blue      (time, x, y) float64 ...\n",
       "    swir1     (time, x, y) float64 ...\n",
       "    swir2     (time, x, y) float64 ...\n",
       "    qa_class  (time, x, y) float64 ...\n",
       "    qa_cloud  (time, x, y) float64 ...\n",
       "    green     (time, x, y) float64 ...\n",
       "    nir       (time, x, y) float64 ...\n",
       "    NDVI      (time, x, y) float32 ...\n",
       "    LSWI      (time, x, y) float32 ...\n",
       "    red       (time, x, y) float64 ...\n",
       "    phc       (time, x, y) float64 ..."
      ]
     },
     "execution_count": 38,
     "metadata": {},
     "output_type": "execute_result"
    }
   ],
   "source": [
    "# Inspect input data\n",
    "sat_data_again"
   ]
  },
  {
   "cell_type": "code",
   "execution_count": 40,
   "metadata": {},
   "outputs": [],
   "source": [
    "# Select only data from a date and transform to pandas dataframe\n",
    "data_pd = sat_data_again.sel(time='2016-01-21').drop('time').to_dataframe()\n",
    "# Leave only data with class\n",
    "data_pd_v1 = data_pd.loc[data_pd['phc'] > 0]\n",
    "# Remove not valid data (cloudy pixels)\n",
    "data_pd_v2 = data_pd_v1.loc[data_pd_v1['mask'] == True]"
   ]
  },
  {
   "cell_type": "code",
   "execution_count": 41,
   "metadata": {},
   "outputs": [
    {
     "data": {
      "text/html": [
       "<div>\n",
       "<style scoped>\n",
       "    .dataframe tbody tr th:only-of-type {\n",
       "        vertical-align: middle;\n",
       "    }\n",
       "\n",
       "    .dataframe tbody tr th {\n",
       "        vertical-align: top;\n",
       "    }\n",
       "\n",
       "    .dataframe thead th {\n",
       "        text-align: right;\n",
       "    }\n",
       "</style>\n",
       "<table border=\"1\" class=\"dataframe\">\n",
       "  <thead>\n",
       "    <tr style=\"text-align: right;\">\n",
       "      <th></th>\n",
       "      <th></th>\n",
       "      <th>blue</th>\n",
       "      <th>swir1</th>\n",
       "      <th>swir2</th>\n",
       "      <th>qa_class</th>\n",
       "      <th>qa_cloud</th>\n",
       "      <th>green</th>\n",
       "      <th>nir</th>\n",
       "      <th>NDVI</th>\n",
       "      <th>LSWI</th>\n",
       "      <th>red</th>\n",
       "      <th>mask</th>\n",
       "      <th>phc</th>\n",
       "    </tr>\n",
       "    <tr>\n",
       "      <th>x</th>\n",
       "      <th>y</th>\n",
       "      <th></th>\n",
       "      <th></th>\n",
       "      <th></th>\n",
       "      <th></th>\n",
       "      <th></th>\n",
       "      <th></th>\n",
       "      <th></th>\n",
       "      <th></th>\n",
       "      <th></th>\n",
       "      <th></th>\n",
       "      <th></th>\n",
       "      <th></th>\n",
       "    </tr>\n",
       "  </thead>\n",
       "  <tbody>\n",
       "    <tr>\n",
       "      <th rowspan=\"3\" valign=\"top\">499455.0</th>\n",
       "      <th>425215.0</th>\n",
       "      <td>1100.0</td>\n",
       "      <td>2441.0</td>\n",
       "      <td>1405.0</td>\n",
       "      <td>10.0</td>\n",
       "      <td>1.0</td>\n",
       "      <td>1280.0</td>\n",
       "      <td>3223.0</td>\n",
       "      <td>0.518850</td>\n",
       "      <td>0.138065</td>\n",
       "      <td>1021.0</td>\n",
       "      <td>True</td>\n",
       "      <td>5.0</td>\n",
       "    </tr>\n",
       "    <tr>\n",
       "      <th>425205.0</th>\n",
       "      <td>1065.0</td>\n",
       "      <td>2441.0</td>\n",
       "      <td>1405.0</td>\n",
       "      <td>10.0</td>\n",
       "      <td>1.0</td>\n",
       "      <td>1268.0</td>\n",
       "      <td>3223.0</td>\n",
       "      <td>0.522078</td>\n",
       "      <td>0.138065</td>\n",
       "      <td>1012.0</td>\n",
       "      <td>True</td>\n",
       "      <td>5.0</td>\n",
       "    </tr>\n",
       "    <tr>\n",
       "      <th>425195.0</th>\n",
       "      <td>1032.0</td>\n",
       "      <td>2562.0</td>\n",
       "      <td>1519.0</td>\n",
       "      <td>10.0</td>\n",
       "      <td>0.0</td>\n",
       "      <td>1334.0</td>\n",
       "      <td>3184.0</td>\n",
       "      <td>0.500118</td>\n",
       "      <td>0.108249</td>\n",
       "      <td>1061.0</td>\n",
       "      <td>True</td>\n",
       "      <td>5.0</td>\n",
       "    </tr>\n",
       "    <tr>\n",
       "      <th rowspan=\"3\" valign=\"top\">499465.0</th>\n",
       "      <th>425245.0</th>\n",
       "      <td>1119.0</td>\n",
       "      <td>2471.0</td>\n",
       "      <td>1396.0</td>\n",
       "      <td>10.0</td>\n",
       "      <td>1.0</td>\n",
       "      <td>1337.0</td>\n",
       "      <td>3505.0</td>\n",
       "      <td>0.535933</td>\n",
       "      <td>0.173025</td>\n",
       "      <td>1059.0</td>\n",
       "      <td>True</td>\n",
       "      <td>5.0</td>\n",
       "    </tr>\n",
       "    <tr>\n",
       "      <th>425195.0</th>\n",
       "      <td>1022.0</td>\n",
       "      <td>2404.0</td>\n",
       "      <td>1385.0</td>\n",
       "      <td>10.0</td>\n",
       "      <td>1.0</td>\n",
       "      <td>1374.0</td>\n",
       "      <td>3239.0</td>\n",
       "      <td>0.466938</td>\n",
       "      <td>0.147971</td>\n",
       "      <td>1177.0</td>\n",
       "      <td>True</td>\n",
       "      <td>5.0</td>\n",
       "    </tr>\n",
       "    <tr>\n",
       "      <th>425185.0</th>\n",
       "      <td>1062.0</td>\n",
       "      <td>2404.0</td>\n",
       "      <td>1385.0</td>\n",
       "      <td>10.0</td>\n",
       "      <td>1.0</td>\n",
       "      <td>1424.0</td>\n",
       "      <td>3268.0</td>\n",
       "      <td>0.436799</td>\n",
       "      <td>0.152327</td>\n",
       "      <td>1281.0</td>\n",
       "      <td>True</td>\n",
       "      <td>5.0</td>\n",
       "    </tr>\n",
       "    <tr>\n",
       "      <th rowspan=\"5\" valign=\"top\">499475.0</th>\n",
       "      <th>425265.0</th>\n",
       "      <td>1163.0</td>\n",
       "      <td>2502.0</td>\n",
       "      <td>1418.0</td>\n",
       "      <td>10.0</td>\n",
       "      <td>1.0</td>\n",
       "      <td>1301.0</td>\n",
       "      <td>3204.0</td>\n",
       "      <td>0.462012</td>\n",
       "      <td>0.123028</td>\n",
       "      <td>1179.0</td>\n",
       "      <td>True</td>\n",
       "      <td>5.0</td>\n",
       "    </tr>\n",
       "    <tr>\n",
       "      <th>425255.0</th>\n",
       "      <td>1160.0</td>\n",
       "      <td>2471.0</td>\n",
       "      <td>1396.0</td>\n",
       "      <td>10.0</td>\n",
       "      <td>1.0</td>\n",
       "      <td>1398.0</td>\n",
       "      <td>3353.0</td>\n",
       "      <td>0.477744</td>\n",
       "      <td>0.151442</td>\n",
       "      <td>1185.0</td>\n",
       "      <td>True</td>\n",
       "      <td>5.0</td>\n",
       "    </tr>\n",
       "    <tr>\n",
       "      <th>425245.0</th>\n",
       "      <td>1209.0</td>\n",
       "      <td>2471.0</td>\n",
       "      <td>1396.0</td>\n",
       "      <td>10.0</td>\n",
       "      <td>1.0</td>\n",
       "      <td>1438.0</td>\n",
       "      <td>3524.0</td>\n",
       "      <td>0.485979</td>\n",
       "      <td>0.175646</td>\n",
       "      <td>1219.0</td>\n",
       "      <td>True</td>\n",
       "      <td>5.0</td>\n",
       "    </tr>\n",
       "    <tr>\n",
       "      <th>425195.0</th>\n",
       "      <td>1049.0</td>\n",
       "      <td>2404.0</td>\n",
       "      <td>1385.0</td>\n",
       "      <td>10.0</td>\n",
       "      <td>1.0</td>\n",
       "      <td>1379.0</td>\n",
       "      <td>3332.0</td>\n",
       "      <td>0.497528</td>\n",
       "      <td>0.161785</td>\n",
       "      <td>1118.0</td>\n",
       "      <td>True</td>\n",
       "      <td>5.0</td>\n",
       "    </tr>\n",
       "    <tr>\n",
       "      <th>425185.0</th>\n",
       "      <td>1043.0</td>\n",
       "      <td>2404.0</td>\n",
       "      <td>1385.0</td>\n",
       "      <td>10.0</td>\n",
       "      <td>1.0</td>\n",
       "      <td>1379.0</td>\n",
       "      <td>3228.0</td>\n",
       "      <td>0.459973</td>\n",
       "      <td>0.146307</td>\n",
       "      <td>1194.0</td>\n",
       "      <td>True</td>\n",
       "      <td>5.0</td>\n",
       "    </tr>\n",
       "    <tr>\n",
       "      <th rowspan=\"12\" valign=\"top\">499485.0</th>\n",
       "      <th>425285.0</th>\n",
       "      <td>1147.0</td>\n",
       "      <td>3018.0</td>\n",
       "      <td>1842.0</td>\n",
       "      <td>10.0</td>\n",
       "      <td>0.0</td>\n",
       "      <td>1410.0</td>\n",
       "      <td>3412.0</td>\n",
       "      <td>0.443927</td>\n",
       "      <td>0.061275</td>\n",
       "      <td>1314.0</td>\n",
       "      <td>True</td>\n",
       "      <td>5.0</td>\n",
       "    </tr>\n",
       "    <tr>\n",
       "      <th>425275.0</th>\n",
       "      <td>1171.0</td>\n",
       "      <td>2495.0</td>\n",
       "      <td>1442.0</td>\n",
       "      <td>10.0</td>\n",
       "      <td>0.0</td>\n",
       "      <td>1372.0</td>\n",
       "      <td>3316.0</td>\n",
       "      <td>0.446140</td>\n",
       "      <td>0.141284</td>\n",
       "      <td>1270.0</td>\n",
       "      <td>True</td>\n",
       "      <td>5.0</td>\n",
       "    </tr>\n",
       "    <tr>\n",
       "      <th>425265.0</th>\n",
       "      <td>1161.0</td>\n",
       "      <td>2495.0</td>\n",
       "      <td>1442.0</td>\n",
       "      <td>10.0</td>\n",
       "      <td>0.0</td>\n",
       "      <td>1354.0</td>\n",
       "      <td>3179.0</td>\n",
       "      <td>0.421735</td>\n",
       "      <td>0.120550</td>\n",
       "      <td>1293.0</td>\n",
       "      <td>True</td>\n",
       "      <td>5.0</td>\n",
       "    </tr>\n",
       "    <tr>\n",
       "      <th>425255.0</th>\n",
       "      <td>1152.0</td>\n",
       "      <td>2444.0</td>\n",
       "      <td>1403.0</td>\n",
       "      <td>10.0</td>\n",
       "      <td>0.0</td>\n",
       "      <td>1349.0</td>\n",
       "      <td>3160.0</td>\n",
       "      <td>0.430188</td>\n",
       "      <td>0.127766</td>\n",
       "      <td>1259.0</td>\n",
       "      <td>True</td>\n",
       "      <td>5.0</td>\n",
       "    </tr>\n",
       "    <tr>\n",
       "      <th>425245.0</th>\n",
       "      <td>1231.0</td>\n",
       "      <td>2444.0</td>\n",
       "      <td>1403.0</td>\n",
       "      <td>10.0</td>\n",
       "      <td>0.0</td>\n",
       "      <td>1481.0</td>\n",
       "      <td>3540.0</td>\n",
       "      <td>0.460396</td>\n",
       "      <td>0.183155</td>\n",
       "      <td>1308.0</td>\n",
       "      <td>True</td>\n",
       "      <td>5.0</td>\n",
       "    </tr>\n",
       "    <tr>\n",
       "      <th>425235.0</th>\n",
       "      <td>1195.0</td>\n",
       "      <td>2521.0</td>\n",
       "      <td>1415.0</td>\n",
       "      <td>10.0</td>\n",
       "      <td>1.0</td>\n",
       "      <td>1471.0</td>\n",
       "      <td>3521.0</td>\n",
       "      <td>0.495117</td>\n",
       "      <td>0.165508</td>\n",
       "      <td>1189.0</td>\n",
       "      <td>True</td>\n",
       "      <td>5.0</td>\n",
       "    </tr>\n",
       "    <tr>\n",
       "      <th>425225.0</th>\n",
       "      <td>1104.0</td>\n",
       "      <td>2521.0</td>\n",
       "      <td>1415.0</td>\n",
       "      <td>10.0</td>\n",
       "      <td>1.0</td>\n",
       "      <td>1401.0</td>\n",
       "      <td>3414.0</td>\n",
       "      <td>0.501980</td>\n",
       "      <td>0.150463</td>\n",
       "      <td>1132.0</td>\n",
       "      <td>True</td>\n",
       "      <td>5.0</td>\n",
       "    </tr>\n",
       "    <tr>\n",
       "      <th>425215.0</th>\n",
       "      <td>1106.0</td>\n",
       "      <td>2449.0</td>\n",
       "      <td>1372.0</td>\n",
       "      <td>10.0</td>\n",
       "      <td>1.0</td>\n",
       "      <td>1410.0</td>\n",
       "      <td>3447.0</td>\n",
       "      <td>0.498696</td>\n",
       "      <td>0.169267</td>\n",
       "      <td>1153.0</td>\n",
       "      <td>True</td>\n",
       "      <td>5.0</td>\n",
       "    </tr>\n",
       "    <tr>\n",
       "      <th>425205.0</th>\n",
       "      <td>1003.0</td>\n",
       "      <td>2449.0</td>\n",
       "      <td>1372.0</td>\n",
       "      <td>10.0</td>\n",
       "      <td>1.0</td>\n",
       "      <td>1382.0</td>\n",
       "      <td>3398.0</td>\n",
       "      <td>0.494612</td>\n",
       "      <td>0.162305</td>\n",
       "      <td>1149.0</td>\n",
       "      <td>True</td>\n",
       "      <td>5.0</td>\n",
       "    </tr>\n",
       "    <tr>\n",
       "      <th>425195.0</th>\n",
       "      <td>1006.0</td>\n",
       "      <td>2415.0</td>\n",
       "      <td>1372.0</td>\n",
       "      <td>10.0</td>\n",
       "      <td>1.0</td>\n",
       "      <td>1344.0</td>\n",
       "      <td>3414.0</td>\n",
       "      <td>0.496384</td>\n",
       "      <td>0.171384</td>\n",
       "      <td>1149.0</td>\n",
       "      <td>True</td>\n",
       "      <td>5.0</td>\n",
       "    </tr>\n",
       "    <tr>\n",
       "      <th>425185.0</th>\n",
       "      <td>998.0</td>\n",
       "      <td>2415.0</td>\n",
       "      <td>1372.0</td>\n",
       "      <td>10.0</td>\n",
       "      <td>1.0</td>\n",
       "      <td>1386.0</td>\n",
       "      <td>3255.0</td>\n",
       "      <td>0.463908</td>\n",
       "      <td>0.148148</td>\n",
       "      <td>1192.0</td>\n",
       "      <td>True</td>\n",
       "      <td>5.0</td>\n",
       "    </tr>\n",
       "    <tr>\n",
       "      <th>425175.0</th>\n",
       "      <td>1060.0</td>\n",
       "      <td>2714.0</td>\n",
       "      <td>1600.0</td>\n",
       "      <td>10.0</td>\n",
       "      <td>0.0</td>\n",
       "      <td>1481.0</td>\n",
       "      <td>3144.0</td>\n",
       "      <td>0.402007</td>\n",
       "      <td>0.073404</td>\n",
       "      <td>1341.0</td>\n",
       "      <td>True</td>\n",
       "      <td>5.0</td>\n",
       "    </tr>\n",
       "    <tr>\n",
       "      <th rowspan=\"7\" valign=\"top\">499495.0</th>\n",
       "      <th>425305.0</th>\n",
       "      <td>1320.0</td>\n",
       "      <td>3299.0</td>\n",
       "      <td>2020.0</td>\n",
       "      <td>10.0</td>\n",
       "      <td>0.0</td>\n",
       "      <td>1605.0</td>\n",
       "      <td>3418.0</td>\n",
       "      <td>0.325063</td>\n",
       "      <td>0.017716</td>\n",
       "      <td>1741.0</td>\n",
       "      <td>True</td>\n",
       "      <td>5.0</td>\n",
       "    </tr>\n",
       "    <tr>\n",
       "      <th>425295.0</th>\n",
       "      <td>1293.0</td>\n",
       "      <td>3018.0</td>\n",
       "      <td>1842.0</td>\n",
       "      <td>10.0</td>\n",
       "      <td>0.0</td>\n",
       "      <td>1556.0</td>\n",
       "      <td>3414.0</td>\n",
       "      <td>0.348874</td>\n",
       "      <td>0.061567</td>\n",
       "      <td>1648.0</td>\n",
       "      <td>True</td>\n",
       "      <td>5.0</td>\n",
       "    </tr>\n",
       "    <tr>\n",
       "      <th>425285.0</th>\n",
       "      <td>1212.0</td>\n",
       "      <td>3018.0</td>\n",
       "      <td>1842.0</td>\n",
       "      <td>10.0</td>\n",
       "      <td>0.0</td>\n",
       "      <td>1504.0</td>\n",
       "      <td>3325.0</td>\n",
       "      <td>0.375388</td>\n",
       "      <td>0.048400</td>\n",
       "      <td>1510.0</td>\n",
       "      <td>True</td>\n",
       "      <td>5.0</td>\n",
       "    </tr>\n",
       "    <tr>\n",
       "      <th>425275.0</th>\n",
       "      <td>1185.0</td>\n",
       "      <td>2495.0</td>\n",
       "      <td>1442.0</td>\n",
       "      <td>10.0</td>\n",
       "      <td>0.0</td>\n",
       "      <td>1413.0</td>\n",
       "      <td>3199.0</td>\n",
       "      <td>0.390567</td>\n",
       "      <td>0.123639</td>\n",
       "      <td>1402.0</td>\n",
       "      <td>True</td>\n",
       "      <td>5.0</td>\n",
       "    </tr>\n",
       "    <tr>\n",
       "      <th>425265.0</th>\n",
       "      <td>1128.0</td>\n",
       "      <td>2495.0</td>\n",
       "      <td>1442.0</td>\n",
       "      <td>10.0</td>\n",
       "      <td>0.0</td>\n",
       "      <td>1373.0</td>\n",
       "      <td>2982.0</td>\n",
       "      <td>0.398687</td>\n",
       "      <td>0.088917</td>\n",
       "      <td>1282.0</td>\n",
       "      <td>True</td>\n",
       "      <td>5.0</td>\n",
       "    </tr>\n",
       "    <tr>\n",
       "      <th>425255.0</th>\n",
       "      <td>1128.0</td>\n",
       "      <td>2444.0</td>\n",
       "      <td>1403.0</td>\n",
       "      <td>10.0</td>\n",
       "      <td>0.0</td>\n",
       "      <td>1302.0</td>\n",
       "      <td>3035.0</td>\n",
       "      <td>0.415248</td>\n",
       "      <td>0.107866</td>\n",
       "      <td>1254.0</td>\n",
       "      <td>True</td>\n",
       "      <td>5.0</td>\n",
       "    </tr>\n",
       "    <tr>\n",
       "      <th>425245.0</th>\n",
       "      <td>1166.0</td>\n",
       "      <td>2444.0</td>\n",
       "      <td>1403.0</td>\n",
       "      <td>10.0</td>\n",
       "      <td>0.0</td>\n",
       "      <td>1441.0</td>\n",
       "      <td>3346.0</td>\n",
       "      <td>0.451942</td>\n",
       "      <td>0.155786</td>\n",
       "      <td>1263.0</td>\n",
       "      <td>True</td>\n",
       "      <td>5.0</td>\n",
       "    </tr>\n",
       "    <tr>\n",
       "      <th>...</th>\n",
       "      <th>...</th>\n",
       "      <td>...</td>\n",
       "      <td>...</td>\n",
       "      <td>...</td>\n",
       "      <td>...</td>\n",
       "      <td>...</td>\n",
       "      <td>...</td>\n",
       "      <td>...</td>\n",
       "      <td>...</td>\n",
       "      <td>...</td>\n",
       "      <td>...</td>\n",
       "      <td>...</td>\n",
       "      <td>...</td>\n",
       "    </tr>\n",
       "    <tr>\n",
       "      <th rowspan=\"8\" valign=\"top\">503815.0</th>\n",
       "      <th>433835.0</th>\n",
       "      <td>1028.0</td>\n",
       "      <td>2076.0</td>\n",
       "      <td>1222.0</td>\n",
       "      <td>10.0</td>\n",
       "      <td>1.0</td>\n",
       "      <td>1319.0</td>\n",
       "      <td>3186.0</td>\n",
       "      <td>0.460128</td>\n",
       "      <td>0.210946</td>\n",
       "      <td>1178.0</td>\n",
       "      <td>True</td>\n",
       "      <td>4.0</td>\n",
       "    </tr>\n",
       "    <tr>\n",
       "      <th>433825.0</th>\n",
       "      <td>1054.0</td>\n",
       "      <td>2076.0</td>\n",
       "      <td>1222.0</td>\n",
       "      <td>10.0</td>\n",
       "      <td>1.0</td>\n",
       "      <td>1323.0</td>\n",
       "      <td>3239.0</td>\n",
       "      <td>0.471270</td>\n",
       "      <td>0.218815</td>\n",
       "      <td>1164.0</td>\n",
       "      <td>True</td>\n",
       "      <td>4.0</td>\n",
       "    </tr>\n",
       "    <tr>\n",
       "      <th>433775.0</th>\n",
       "      <td>1003.0</td>\n",
       "      <td>1996.0</td>\n",
       "      <td>1158.0</td>\n",
       "      <td>10.0</td>\n",
       "      <td>2.0</td>\n",
       "      <td>1290.0</td>\n",
       "      <td>2991.0</td>\n",
       "      <td>0.456183</td>\n",
       "      <td>0.199519</td>\n",
       "      <td>1117.0</td>\n",
       "      <td>True</td>\n",
       "      <td>4.0</td>\n",
       "    </tr>\n",
       "    <tr>\n",
       "      <th>433765.0</th>\n",
       "      <td>1054.0</td>\n",
       "      <td>1996.0</td>\n",
       "      <td>1158.0</td>\n",
       "      <td>10.0</td>\n",
       "      <td>2.0</td>\n",
       "      <td>1294.0</td>\n",
       "      <td>2979.0</td>\n",
       "      <td>0.449282</td>\n",
       "      <td>0.197588</td>\n",
       "      <td>1132.0</td>\n",
       "      <td>True</td>\n",
       "      <td>4.0</td>\n",
       "    </tr>\n",
       "    <tr>\n",
       "      <th>433755.0</th>\n",
       "      <td>1078.0</td>\n",
       "      <td>1963.0</td>\n",
       "      <td>1153.0</td>\n",
       "      <td>10.0</td>\n",
       "      <td>6.0</td>\n",
       "      <td>1294.0</td>\n",
       "      <td>2936.0</td>\n",
       "      <td>0.435697</td>\n",
       "      <td>0.198612</td>\n",
       "      <td>1154.0</td>\n",
       "      <td>True</td>\n",
       "      <td>4.0</td>\n",
       "    </tr>\n",
       "    <tr>\n",
       "      <th>433745.0</th>\n",
       "      <td>1019.0</td>\n",
       "      <td>1963.0</td>\n",
       "      <td>1153.0</td>\n",
       "      <td>10.0</td>\n",
       "      <td>6.0</td>\n",
       "      <td>1313.0</td>\n",
       "      <td>2927.0</td>\n",
       "      <td>0.433399</td>\n",
       "      <td>0.197137</td>\n",
       "      <td>1157.0</td>\n",
       "      <td>True</td>\n",
       "      <td>4.0</td>\n",
       "    </tr>\n",
       "    <tr>\n",
       "      <th>433735.0</th>\n",
       "      <td>1053.0</td>\n",
       "      <td>1962.0</td>\n",
       "      <td>1144.0</td>\n",
       "      <td>10.0</td>\n",
       "      <td>5.0</td>\n",
       "      <td>1294.0</td>\n",
       "      <td>2921.0</td>\n",
       "      <td>0.434676</td>\n",
       "      <td>0.196396</td>\n",
       "      <td>1151.0</td>\n",
       "      <td>True</td>\n",
       "      <td>4.0</td>\n",
       "    </tr>\n",
       "    <tr>\n",
       "      <th>433725.0</th>\n",
       "      <td>1048.0</td>\n",
       "      <td>1962.0</td>\n",
       "      <td>1144.0</td>\n",
       "      <td>10.0</td>\n",
       "      <td>5.0</td>\n",
       "      <td>1307.0</td>\n",
       "      <td>2901.0</td>\n",
       "      <td>0.442925</td>\n",
       "      <td>0.193091</td>\n",
       "      <td>1120.0</td>\n",
       "      <td>True</td>\n",
       "      <td>4.0</td>\n",
       "    </tr>\n",
       "    <tr>\n",
       "      <th rowspan=\"6\" valign=\"top\">503825.0</th>\n",
       "      <th>433775.0</th>\n",
       "      <td>1006.0</td>\n",
       "      <td>1981.0</td>\n",
       "      <td>1163.0</td>\n",
       "      <td>10.0</td>\n",
       "      <td>2.0</td>\n",
       "      <td>1272.0</td>\n",
       "      <td>2935.0</td>\n",
       "      <td>0.439078</td>\n",
       "      <td>0.194060</td>\n",
       "      <td>1144.0</td>\n",
       "      <td>True</td>\n",
       "      <td>4.0</td>\n",
       "    </tr>\n",
       "    <tr>\n",
       "      <th>433765.0</th>\n",
       "      <td>1017.0</td>\n",
       "      <td>1981.0</td>\n",
       "      <td>1163.0</td>\n",
       "      <td>10.0</td>\n",
       "      <td>2.0</td>\n",
       "      <td>1302.0</td>\n",
       "      <td>2969.0</td>\n",
       "      <td>0.451834</td>\n",
       "      <td>0.199596</td>\n",
       "      <td>1121.0</td>\n",
       "      <td>True</td>\n",
       "      <td>4.0</td>\n",
       "    </tr>\n",
       "    <tr>\n",
       "      <th>433755.0</th>\n",
       "      <td>998.0</td>\n",
       "      <td>1961.0</td>\n",
       "      <td>1158.0</td>\n",
       "      <td>10.0</td>\n",
       "      <td>3.0</td>\n",
       "      <td>1299.0</td>\n",
       "      <td>2973.0</td>\n",
       "      <td>0.451306</td>\n",
       "      <td>0.205107</td>\n",
       "      <td>1124.0</td>\n",
       "      <td>True</td>\n",
       "      <td>4.0</td>\n",
       "    </tr>\n",
       "    <tr>\n",
       "      <th>433745.0</th>\n",
       "      <td>1011.0</td>\n",
       "      <td>1961.0</td>\n",
       "      <td>1158.0</td>\n",
       "      <td>10.0</td>\n",
       "      <td>3.0</td>\n",
       "      <td>1287.0</td>\n",
       "      <td>3034.0</td>\n",
       "      <td>0.461464</td>\n",
       "      <td>0.214815</td>\n",
       "      <td>1118.0</td>\n",
       "      <td>True</td>\n",
       "      <td>4.0</td>\n",
       "    </tr>\n",
       "    <tr>\n",
       "      <th>433735.0</th>\n",
       "      <td>1059.0</td>\n",
       "      <td>1966.0</td>\n",
       "      <td>1153.0</td>\n",
       "      <td>10.0</td>\n",
       "      <td>2.0</td>\n",
       "      <td>1310.0</td>\n",
       "      <td>3037.0</td>\n",
       "      <td>0.463967</td>\n",
       "      <td>0.214072</td>\n",
       "      <td>1112.0</td>\n",
       "      <td>True</td>\n",
       "      <td>4.0</td>\n",
       "    </tr>\n",
       "    <tr>\n",
       "      <th>433725.0</th>\n",
       "      <td>1029.0</td>\n",
       "      <td>1966.0</td>\n",
       "      <td>1153.0</td>\n",
       "      <td>10.0</td>\n",
       "      <td>2.0</td>\n",
       "      <td>1287.0</td>\n",
       "      <td>2982.0</td>\n",
       "      <td>0.459618</td>\n",
       "      <td>0.205335</td>\n",
       "      <td>1104.0</td>\n",
       "      <td>True</td>\n",
       "      <td>4.0</td>\n",
       "    </tr>\n",
       "    <tr>\n",
       "      <th rowspan=\"6\" valign=\"top\">503835.0</th>\n",
       "      <th>433775.0</th>\n",
       "      <td>969.0</td>\n",
       "      <td>1981.0</td>\n",
       "      <td>1163.0</td>\n",
       "      <td>10.0</td>\n",
       "      <td>2.0</td>\n",
       "      <td>1263.0</td>\n",
       "      <td>3053.0</td>\n",
       "      <td>0.463918</td>\n",
       "      <td>0.212952</td>\n",
       "      <td>1118.0</td>\n",
       "      <td>True</td>\n",
       "      <td>4.0</td>\n",
       "    </tr>\n",
       "    <tr>\n",
       "      <th>433765.0</th>\n",
       "      <td>1017.0</td>\n",
       "      <td>1981.0</td>\n",
       "      <td>1163.0</td>\n",
       "      <td>10.0</td>\n",
       "      <td>2.0</td>\n",
       "      <td>1326.0</td>\n",
       "      <td>3029.0</td>\n",
       "      <td>0.460815</td>\n",
       "      <td>0.209182</td>\n",
       "      <td>1118.0</td>\n",
       "      <td>True</td>\n",
       "      <td>4.0</td>\n",
       "    </tr>\n",
       "    <tr>\n",
       "      <th>433755.0</th>\n",
       "      <td>1036.0</td>\n",
       "      <td>1961.0</td>\n",
       "      <td>1158.0</td>\n",
       "      <td>10.0</td>\n",
       "      <td>3.0</td>\n",
       "      <td>1297.0</td>\n",
       "      <td>2958.0</td>\n",
       "      <td>0.448225</td>\n",
       "      <td>0.202683</td>\n",
       "      <td>1127.0</td>\n",
       "      <td>True</td>\n",
       "      <td>4.0</td>\n",
       "    </tr>\n",
       "    <tr>\n",
       "      <th>433745.0</th>\n",
       "      <td>1011.0</td>\n",
       "      <td>1961.0</td>\n",
       "      <td>1158.0</td>\n",
       "      <td>10.0</td>\n",
       "      <td>3.0</td>\n",
       "      <td>1285.0</td>\n",
       "      <td>2929.0</td>\n",
       "      <td>0.445349</td>\n",
       "      <td>0.197955</td>\n",
       "      <td>1124.0</td>\n",
       "      <td>True</td>\n",
       "      <td>4.0</td>\n",
       "    </tr>\n",
       "    <tr>\n",
       "      <th>433735.0</th>\n",
       "      <td>1041.0</td>\n",
       "      <td>1966.0</td>\n",
       "      <td>1153.0</td>\n",
       "      <td>10.0</td>\n",
       "      <td>2.0</td>\n",
       "      <td>1285.0</td>\n",
       "      <td>2972.0</td>\n",
       "      <td>0.450110</td>\n",
       "      <td>0.203726</td>\n",
       "      <td>1127.0</td>\n",
       "      <td>True</td>\n",
       "      <td>4.0</td>\n",
       "    </tr>\n",
       "    <tr>\n",
       "      <th>433725.0</th>\n",
       "      <td>1008.0</td>\n",
       "      <td>1966.0</td>\n",
       "      <td>1153.0</td>\n",
       "      <td>10.0</td>\n",
       "      <td>2.0</td>\n",
       "      <td>1264.0</td>\n",
       "      <td>3054.0</td>\n",
       "      <td>0.466155</td>\n",
       "      <td>0.216733</td>\n",
       "      <td>1112.0</td>\n",
       "      <td>True</td>\n",
       "      <td>4.0</td>\n",
       "    </tr>\n",
       "    <tr>\n",
       "      <th rowspan=\"6\" valign=\"top\">503845.0</th>\n",
       "      <th>433795.0</th>\n",
       "      <td>973.0</td>\n",
       "      <td>2007.0</td>\n",
       "      <td>1182.0</td>\n",
       "      <td>10.0</td>\n",
       "      <td>1.0</td>\n",
       "      <td>1292.0</td>\n",
       "      <td>3081.0</td>\n",
       "      <td>0.474163</td>\n",
       "      <td>0.211085</td>\n",
       "      <td>1099.0</td>\n",
       "      <td>True</td>\n",
       "      <td>4.0</td>\n",
       "    </tr>\n",
       "    <tr>\n",
       "      <th>433785.0</th>\n",
       "      <td>970.0</td>\n",
       "      <td>2007.0</td>\n",
       "      <td>1182.0</td>\n",
       "      <td>10.0</td>\n",
       "      <td>1.0</td>\n",
       "      <td>1261.0</td>\n",
       "      <td>3055.0</td>\n",
       "      <td>0.469810</td>\n",
       "      <td>0.207033</td>\n",
       "      <td>1102.0</td>\n",
       "      <td>True</td>\n",
       "      <td>4.0</td>\n",
       "    </tr>\n",
       "    <tr>\n",
       "      <th>433775.0</th>\n",
       "      <td>991.0</td>\n",
       "      <td>1986.0</td>\n",
       "      <td>1164.0</td>\n",
       "      <td>10.0</td>\n",
       "      <td>2.0</td>\n",
       "      <td>1294.0</td>\n",
       "      <td>3015.0</td>\n",
       "      <td>0.454765</td>\n",
       "      <td>0.205759</td>\n",
       "      <td>1130.0</td>\n",
       "      <td>True</td>\n",
       "      <td>4.0</td>\n",
       "    </tr>\n",
       "    <tr>\n",
       "      <th>433765.0</th>\n",
       "      <td>1029.0</td>\n",
       "      <td>1986.0</td>\n",
       "      <td>1164.0</td>\n",
       "      <td>10.0</td>\n",
       "      <td>2.0</td>\n",
       "      <td>1303.0</td>\n",
       "      <td>2980.0</td>\n",
       "      <td>0.446251</td>\n",
       "      <td>0.200161</td>\n",
       "      <td>1141.0</td>\n",
       "      <td>True</td>\n",
       "      <td>4.0</td>\n",
       "    </tr>\n",
       "    <tr>\n",
       "      <th>433755.0</th>\n",
       "      <td>1023.0</td>\n",
       "      <td>1987.0</td>\n",
       "      <td>1157.0</td>\n",
       "      <td>10.0</td>\n",
       "      <td>3.0</td>\n",
       "      <td>1249.0</td>\n",
       "      <td>3001.0</td>\n",
       "      <td>0.455383</td>\n",
       "      <td>0.203288</td>\n",
       "      <td>1123.0</td>\n",
       "      <td>True</td>\n",
       "      <td>4.0</td>\n",
       "    </tr>\n",
       "    <tr>\n",
       "      <th>433745.0</th>\n",
       "      <td>1023.0</td>\n",
       "      <td>1987.0</td>\n",
       "      <td>1157.0</td>\n",
       "      <td>10.0</td>\n",
       "      <td>3.0</td>\n",
       "      <td>1262.0</td>\n",
       "      <td>2951.0</td>\n",
       "      <td>0.447988</td>\n",
       "      <td>0.195221</td>\n",
       "      <td>1125.0</td>\n",
       "      <td>True</td>\n",
       "      <td>4.0</td>\n",
       "    </tr>\n",
       "    <tr>\n",
       "      <th>503855.0</th>\n",
       "      <th>433795.0</th>\n",
       "      <td>1003.0</td>\n",
       "      <td>2007.0</td>\n",
       "      <td>1182.0</td>\n",
       "      <td>10.0</td>\n",
       "      <td>1.0</td>\n",
       "      <td>1323.0</td>\n",
       "      <td>3117.0</td>\n",
       "      <td>0.456202</td>\n",
       "      <td>0.216628</td>\n",
       "      <td>1164.0</td>\n",
       "      <td>True</td>\n",
       "      <td>4.0</td>\n",
       "    </tr>\n",
       "    <tr>\n",
       "      <th>504835.0</th>\n",
       "      <th>430985.0</th>\n",
       "      <td>1874.0</td>\n",
       "      <td>1847.0</td>\n",
       "      <td>1129.0</td>\n",
       "      <td>8.0</td>\n",
       "      <td>1.0</td>\n",
       "      <td>2001.0</td>\n",
       "      <td>3624.0</td>\n",
       "      <td>0.436955</td>\n",
       "      <td>0.324804</td>\n",
       "      <td>1420.0</td>\n",
       "      <td>True</td>\n",
       "      <td>4.0</td>\n",
       "    </tr>\n",
       "    <tr>\n",
       "      <th>504865.0</th>\n",
       "      <th>430975.0</th>\n",
       "      <td>1873.0</td>\n",
       "      <td>1898.0</td>\n",
       "      <td>1117.0</td>\n",
       "      <td>8.0</td>\n",
       "      <td>1.0</td>\n",
       "      <td>1987.0</td>\n",
       "      <td>3645.0</td>\n",
       "      <td>0.419393</td>\n",
       "      <td>0.315172</td>\n",
       "      <td>1491.0</td>\n",
       "      <td>True</td>\n",
       "      <td>4.0</td>\n",
       "    </tr>\n",
       "    <tr>\n",
       "      <th>504875.0</th>\n",
       "      <th>430975.0</th>\n",
       "      <td>1881.0</td>\n",
       "      <td>1898.0</td>\n",
       "      <td>1117.0</td>\n",
       "      <td>8.0</td>\n",
       "      <td>1.0</td>\n",
       "      <td>1923.0</td>\n",
       "      <td>3630.0</td>\n",
       "      <td>0.433649</td>\n",
       "      <td>0.313314</td>\n",
       "      <td>1434.0</td>\n",
       "      <td>True</td>\n",
       "      <td>4.0</td>\n",
       "    </tr>\n",
       "  </tbody>\n",
       "</table>\n",
       "<p>3764 rows × 12 columns</p>\n",
       "</div>"
      ],
      "text/plain": [
       "                     blue   swir1   swir2  qa_class  qa_cloud   green     nir  \\\n",
       "x        y                                                                      \n",
       "499455.0 425215.0  1100.0  2441.0  1405.0      10.0       1.0  1280.0  3223.0   \n",
       "         425205.0  1065.0  2441.0  1405.0      10.0       1.0  1268.0  3223.0   \n",
       "         425195.0  1032.0  2562.0  1519.0      10.0       0.0  1334.0  3184.0   \n",
       "499465.0 425245.0  1119.0  2471.0  1396.0      10.0       1.0  1337.0  3505.0   \n",
       "         425195.0  1022.0  2404.0  1385.0      10.0       1.0  1374.0  3239.0   \n",
       "         425185.0  1062.0  2404.0  1385.0      10.0       1.0  1424.0  3268.0   \n",
       "499475.0 425265.0  1163.0  2502.0  1418.0      10.0       1.0  1301.0  3204.0   \n",
       "         425255.0  1160.0  2471.0  1396.0      10.0       1.0  1398.0  3353.0   \n",
       "         425245.0  1209.0  2471.0  1396.0      10.0       1.0  1438.0  3524.0   \n",
       "         425195.0  1049.0  2404.0  1385.0      10.0       1.0  1379.0  3332.0   \n",
       "         425185.0  1043.0  2404.0  1385.0      10.0       1.0  1379.0  3228.0   \n",
       "499485.0 425285.0  1147.0  3018.0  1842.0      10.0       0.0  1410.0  3412.0   \n",
       "         425275.0  1171.0  2495.0  1442.0      10.0       0.0  1372.0  3316.0   \n",
       "         425265.0  1161.0  2495.0  1442.0      10.0       0.0  1354.0  3179.0   \n",
       "         425255.0  1152.0  2444.0  1403.0      10.0       0.0  1349.0  3160.0   \n",
       "         425245.0  1231.0  2444.0  1403.0      10.0       0.0  1481.0  3540.0   \n",
       "         425235.0  1195.0  2521.0  1415.0      10.0       1.0  1471.0  3521.0   \n",
       "         425225.0  1104.0  2521.0  1415.0      10.0       1.0  1401.0  3414.0   \n",
       "         425215.0  1106.0  2449.0  1372.0      10.0       1.0  1410.0  3447.0   \n",
       "         425205.0  1003.0  2449.0  1372.0      10.0       1.0  1382.0  3398.0   \n",
       "         425195.0  1006.0  2415.0  1372.0      10.0       1.0  1344.0  3414.0   \n",
       "         425185.0   998.0  2415.0  1372.0      10.0       1.0  1386.0  3255.0   \n",
       "         425175.0  1060.0  2714.0  1600.0      10.0       0.0  1481.0  3144.0   \n",
       "499495.0 425305.0  1320.0  3299.0  2020.0      10.0       0.0  1605.0  3418.0   \n",
       "         425295.0  1293.0  3018.0  1842.0      10.0       0.0  1556.0  3414.0   \n",
       "         425285.0  1212.0  3018.0  1842.0      10.0       0.0  1504.0  3325.0   \n",
       "         425275.0  1185.0  2495.0  1442.0      10.0       0.0  1413.0  3199.0   \n",
       "         425265.0  1128.0  2495.0  1442.0      10.0       0.0  1373.0  2982.0   \n",
       "         425255.0  1128.0  2444.0  1403.0      10.0       0.0  1302.0  3035.0   \n",
       "         425245.0  1166.0  2444.0  1403.0      10.0       0.0  1441.0  3346.0   \n",
       "...                   ...     ...     ...       ...       ...     ...     ...   \n",
       "503815.0 433835.0  1028.0  2076.0  1222.0      10.0       1.0  1319.0  3186.0   \n",
       "         433825.0  1054.0  2076.0  1222.0      10.0       1.0  1323.0  3239.0   \n",
       "         433775.0  1003.0  1996.0  1158.0      10.0       2.0  1290.0  2991.0   \n",
       "         433765.0  1054.0  1996.0  1158.0      10.0       2.0  1294.0  2979.0   \n",
       "         433755.0  1078.0  1963.0  1153.0      10.0       6.0  1294.0  2936.0   \n",
       "         433745.0  1019.0  1963.0  1153.0      10.0       6.0  1313.0  2927.0   \n",
       "         433735.0  1053.0  1962.0  1144.0      10.0       5.0  1294.0  2921.0   \n",
       "         433725.0  1048.0  1962.0  1144.0      10.0       5.0  1307.0  2901.0   \n",
       "503825.0 433775.0  1006.0  1981.0  1163.0      10.0       2.0  1272.0  2935.0   \n",
       "         433765.0  1017.0  1981.0  1163.0      10.0       2.0  1302.0  2969.0   \n",
       "         433755.0   998.0  1961.0  1158.0      10.0       3.0  1299.0  2973.0   \n",
       "         433745.0  1011.0  1961.0  1158.0      10.0       3.0  1287.0  3034.0   \n",
       "         433735.0  1059.0  1966.0  1153.0      10.0       2.0  1310.0  3037.0   \n",
       "         433725.0  1029.0  1966.0  1153.0      10.0       2.0  1287.0  2982.0   \n",
       "503835.0 433775.0   969.0  1981.0  1163.0      10.0       2.0  1263.0  3053.0   \n",
       "         433765.0  1017.0  1981.0  1163.0      10.0       2.0  1326.0  3029.0   \n",
       "         433755.0  1036.0  1961.0  1158.0      10.0       3.0  1297.0  2958.0   \n",
       "         433745.0  1011.0  1961.0  1158.0      10.0       3.0  1285.0  2929.0   \n",
       "         433735.0  1041.0  1966.0  1153.0      10.0       2.0  1285.0  2972.0   \n",
       "         433725.0  1008.0  1966.0  1153.0      10.0       2.0  1264.0  3054.0   \n",
       "503845.0 433795.0   973.0  2007.0  1182.0      10.0       1.0  1292.0  3081.0   \n",
       "         433785.0   970.0  2007.0  1182.0      10.0       1.0  1261.0  3055.0   \n",
       "         433775.0   991.0  1986.0  1164.0      10.0       2.0  1294.0  3015.0   \n",
       "         433765.0  1029.0  1986.0  1164.0      10.0       2.0  1303.0  2980.0   \n",
       "         433755.0  1023.0  1987.0  1157.0      10.0       3.0  1249.0  3001.0   \n",
       "         433745.0  1023.0  1987.0  1157.0      10.0       3.0  1262.0  2951.0   \n",
       "503855.0 433795.0  1003.0  2007.0  1182.0      10.0       1.0  1323.0  3117.0   \n",
       "504835.0 430985.0  1874.0  1847.0  1129.0       8.0       1.0  2001.0  3624.0   \n",
       "504865.0 430975.0  1873.0  1898.0  1117.0       8.0       1.0  1987.0  3645.0   \n",
       "504875.0 430975.0  1881.0  1898.0  1117.0       8.0       1.0  1923.0  3630.0   \n",
       "\n",
       "                       NDVI      LSWI     red  mask  phc  \n",
       "x        y                                                \n",
       "499455.0 425215.0  0.518850  0.138065  1021.0  True  5.0  \n",
       "         425205.0  0.522078  0.138065  1012.0  True  5.0  \n",
       "         425195.0  0.500118  0.108249  1061.0  True  5.0  \n",
       "499465.0 425245.0  0.535933  0.173025  1059.0  True  5.0  \n",
       "         425195.0  0.466938  0.147971  1177.0  True  5.0  \n",
       "         425185.0  0.436799  0.152327  1281.0  True  5.0  \n",
       "499475.0 425265.0  0.462012  0.123028  1179.0  True  5.0  \n",
       "         425255.0  0.477744  0.151442  1185.0  True  5.0  \n",
       "         425245.0  0.485979  0.175646  1219.0  True  5.0  \n",
       "         425195.0  0.497528  0.161785  1118.0  True  5.0  \n",
       "         425185.0  0.459973  0.146307  1194.0  True  5.0  \n",
       "499485.0 425285.0  0.443927  0.061275  1314.0  True  5.0  \n",
       "         425275.0  0.446140  0.141284  1270.0  True  5.0  \n",
       "         425265.0  0.421735  0.120550  1293.0  True  5.0  \n",
       "         425255.0  0.430188  0.127766  1259.0  True  5.0  \n",
       "         425245.0  0.460396  0.183155  1308.0  True  5.0  \n",
       "         425235.0  0.495117  0.165508  1189.0  True  5.0  \n",
       "         425225.0  0.501980  0.150463  1132.0  True  5.0  \n",
       "         425215.0  0.498696  0.169267  1153.0  True  5.0  \n",
       "         425205.0  0.494612  0.162305  1149.0  True  5.0  \n",
       "         425195.0  0.496384  0.171384  1149.0  True  5.0  \n",
       "         425185.0  0.463908  0.148148  1192.0  True  5.0  \n",
       "         425175.0  0.402007  0.073404  1341.0  True  5.0  \n",
       "499495.0 425305.0  0.325063  0.017716  1741.0  True  5.0  \n",
       "         425295.0  0.348874  0.061567  1648.0  True  5.0  \n",
       "         425285.0  0.375388  0.048400  1510.0  True  5.0  \n",
       "         425275.0  0.390567  0.123639  1402.0  True  5.0  \n",
       "         425265.0  0.398687  0.088917  1282.0  True  5.0  \n",
       "         425255.0  0.415248  0.107866  1254.0  True  5.0  \n",
       "         425245.0  0.451942  0.155786  1263.0  True  5.0  \n",
       "...                     ...       ...     ...   ...  ...  \n",
       "503815.0 433835.0  0.460128  0.210946  1178.0  True  4.0  \n",
       "         433825.0  0.471270  0.218815  1164.0  True  4.0  \n",
       "         433775.0  0.456183  0.199519  1117.0  True  4.0  \n",
       "         433765.0  0.449282  0.197588  1132.0  True  4.0  \n",
       "         433755.0  0.435697  0.198612  1154.0  True  4.0  \n",
       "         433745.0  0.433399  0.197137  1157.0  True  4.0  \n",
       "         433735.0  0.434676  0.196396  1151.0  True  4.0  \n",
       "         433725.0  0.442925  0.193091  1120.0  True  4.0  \n",
       "503825.0 433775.0  0.439078  0.194060  1144.0  True  4.0  \n",
       "         433765.0  0.451834  0.199596  1121.0  True  4.0  \n",
       "         433755.0  0.451306  0.205107  1124.0  True  4.0  \n",
       "         433745.0  0.461464  0.214815  1118.0  True  4.0  \n",
       "         433735.0  0.463967  0.214072  1112.0  True  4.0  \n",
       "         433725.0  0.459618  0.205335  1104.0  True  4.0  \n",
       "503835.0 433775.0  0.463918  0.212952  1118.0  True  4.0  \n",
       "         433765.0  0.460815  0.209182  1118.0  True  4.0  \n",
       "         433755.0  0.448225  0.202683  1127.0  True  4.0  \n",
       "         433745.0  0.445349  0.197955  1124.0  True  4.0  \n",
       "         433735.0  0.450110  0.203726  1127.0  True  4.0  \n",
       "         433725.0  0.466155  0.216733  1112.0  True  4.0  \n",
       "503845.0 433795.0  0.474163  0.211085  1099.0  True  4.0  \n",
       "         433785.0  0.469810  0.207033  1102.0  True  4.0  \n",
       "         433775.0  0.454765  0.205759  1130.0  True  4.0  \n",
       "         433765.0  0.446251  0.200161  1141.0  True  4.0  \n",
       "         433755.0  0.455383  0.203288  1123.0  True  4.0  \n",
       "         433745.0  0.447988  0.195221  1125.0  True  4.0  \n",
       "503855.0 433795.0  0.456202  0.216628  1164.0  True  4.0  \n",
       "504835.0 430985.0  0.436955  0.324804  1420.0  True  4.0  \n",
       "504865.0 430975.0  0.419393  0.315172  1491.0  True  4.0  \n",
       "504875.0 430975.0  0.433649  0.313314  1434.0  True  4.0  \n",
       "\n",
       "[3764 rows x 12 columns]"
      ]
     },
     "execution_count": 41,
     "metadata": {},
     "output_type": "execute_result"
    }
   ],
   "source": [
    "# Inspect dataframe\n",
    "data_pd_v2"
   ]
  },
  {
   "cell_type": "code",
   "execution_count": 42,
   "metadata": {},
   "outputs": [],
   "source": [
    "# Remove multi-index, as it is not preserved in h20\n",
    "data_pd_v2.reset_index(inplace=True)"
   ]
  },
  {
   "cell_type": "code",
   "execution_count": 43,
   "metadata": {},
   "outputs": [
    {
     "name": "stdout",
     "output_type": "stream",
     "text": [
      "Parse progress: |█████████████████████████████████████████████████████████| 100%\n"
     ]
    },
    {
     "data": {
      "text/plain": [
       "(3764, 14)"
      ]
     },
     "execution_count": 43,
     "metadata": {},
     "output_type": "execute_result"
    }
   ],
   "source": [
    "# Load data to h2o frame\n",
    "data = h2o.H2OFrame(data_pd_v2)  # 3764 rows x 14 columns\n",
    "data.shape"
   ]
  },
  {
   "cell_type": "code",
   "execution_count": 44,
   "metadata": {},
   "outputs": [
    {
     "data": {
      "text/plain": [
       "[['1', '3', '4', '5']]"
      ]
     },
     "execution_count": 44,
     "metadata": {},
     "output_type": "execute_result"
    }
   ],
   "source": [
    "data['phc'] = data['phc'].asfactor()  #encode the class response as a factor\n",
    "data['phc'].levels()  #after encoding, this shows the 5 factor levels, in this dataset '2' is missing!!!"
   ]
  },
  {
   "cell_type": "code",
   "execution_count": 46,
   "metadata": {},
   "outputs": [],
   "source": [
    "# To train and test the model using only this data, split data\n",
    "splits = data.split_frame(ratios=[0.7, 0.15], seed=1)\n",
    "train = splits[0]\n",
    "valid = splits[1]\n",
    "test = splits[2]"
   ]
  },
  {
   "cell_type": "code",
   "execution_count": 47,
   "metadata": {},
   "outputs": [
    {
     "name": "stdout",
     "output_type": "stream",
     "text": [
      "2651\n",
      "548\n",
      "565\n"
     ]
    }
   ],
   "source": [
    "# Show number of observations from each dataset\n",
    "print train.nrow\n",
    "print valid.nrow\n",
    "print test.nrow"
   ]
  },
  {
   "cell_type": "code",
   "execution_count": 48,
   "metadata": {},
   "outputs": [],
   "source": [
    "# Define response variables and predictors\n",
    "y = 'phc'\n",
    "x = list(data.columns)"
   ]
  },
  {
   "cell_type": "code",
   "execution_count": 51,
   "metadata": {},
   "outputs": [
    {
     "data": {
      "text/plain": [
       "[u'blue', u'swir1', u'swir2', u'green', u'nir', u'NDVI', u'LSWI', u'red']"
      ]
     },
     "execution_count": 51,
     "metadata": {},
     "output_type": "execute_result"
    }
   ],
   "source": [
    "# Show predictors\n",
    "x"
   ]
  },
  {
   "cell_type": "code",
   "execution_count": 50,
   "metadata": {},
   "outputs": [],
   "source": [
    "x.remove(y)  #remove the response\n",
    "x.remove('x')\n",
    "x.remove('y')\n",
    "x.remove('mask')\n",
    "x.remove('qa_class')\n",
    "x.remove('qa_cloud') #remove cloud mask"
   ]
  },
  {
   "cell_type": "code",
   "execution_count": 52,
   "metadata": {},
   "outputs": [],
   "source": [
    "# test random forest\n",
    "from h2o.estimators.random_forest import H2ORandomForestEstimator"
   ]
  },
  {
   "cell_type": "code",
   "execution_count": 53,
   "metadata": {},
   "outputs": [],
   "source": [
    "# Initialize model\n",
    "rf_v1 = H2ORandomForestEstimator(\n",
    "    model_id=\"rf_covType_v1\",\n",
    "    ntrees=200,\n",
    "    stopping_rounds=2,\n",
    "    score_each_iteration=True,\n",
    "    seed=1000000)"
   ]
  },
  {
   "cell_type": "code",
   "execution_count": 54,
   "metadata": {},
   "outputs": [
    {
     "name": "stdout",
     "output_type": "stream",
     "text": [
      "drf Model Build progress: |███████████████████████████████████████████████| 100%\n"
     ]
    }
   ],
   "source": [
    "# Train model\n",
    "rf_v1.train(x, y, training_frame=train, validation_frame=valid)"
   ]
  },
  {
   "cell_type": "code",
   "execution_count": 55,
   "metadata": {},
   "outputs": [
    {
     "name": "stdout",
     "output_type": "stream",
     "text": [
      "Model Details\n",
      "=============\n",
      "H2ORandomForestEstimator :  Distributed Random Forest\n",
      "Model Key:  rf_covType_v1\n",
      "\n",
      "\n",
      "ModelMetricsMultinomial: drf\n",
      "** Reported on train data. **\n",
      "\n",
      "MSE: 0.0059990888702\n",
      "RMSE: 0.0774537853833\n",
      "LogLoss: 0.151238859199\n",
      "Mean Per-Class Error: 0.00601267463862\n",
      "Confusion Matrix: Row labels: Actual class; Column labels: Predicted class\n",
      "\n"
     ]
    },
    {
     "data": {
      "text/html": [
       "<div style=\"overflow:auto\"><table style=\"width:50%\"><tr><td><b>1</b></td>\n",
       "<td><b>3</b></td>\n",
       "<td><b>4</b></td>\n",
       "<td><b>5</b></td>\n",
       "<td><b>Error</b></td>\n",
       "<td><b>Rate</b></td></tr>\n",
       "<tr><td>451.0</td>\n",
       "<td>0.0</td>\n",
       "<td>0.0</td>\n",
       "<td>0.0</td>\n",
       "<td>0.0</td>\n",
       "<td>0 / 451</td></tr>\n",
       "<tr><td>0.0</td>\n",
       "<td>699.0</td>\n",
       "<td>2.0</td>\n",
       "<td>2.0</td>\n",
       "<td>0.0056899</td>\n",
       "<td>4 / 703</td></tr>\n",
       "<tr><td>0.0</td>\n",
       "<td>1.0</td>\n",
       "<td>647.0</td>\n",
       "<td>3.0</td>\n",
       "<td>0.0061444</td>\n",
       "<td>4 / 651</td></tr>\n",
       "<tr><td>0.0</td>\n",
       "<td>5.0</td>\n",
       "<td>2.0</td>\n",
       "<td>566.0</td>\n",
       "<td>0.0122164</td>\n",
       "<td>7 / 573</td></tr>\n",
       "<tr><td>451.0</td>\n",
       "<td>705.0</td>\n",
       "<td>651.0</td>\n",
       "<td>571.0</td>\n",
       "<td>0.0063078</td>\n",
       "<td>15 / 2,378</td></tr></table></div>"
      ],
      "text/plain": [
       "1    3    4    5    Error       Rate\n",
       "---  ---  ---  ---  ----------  ----------\n",
       "451  0    0    0    0           0 / 451\n",
       "0    699  2    2    0.0056899   4 / 703\n",
       "0    1    647  3    0.00614439  4 / 651\n",
       "0    5    2    566  0.0122164   7 / 573\n",
       "451  705  651  571  0.00630782  15 / 2,378"
      ]
     },
     "metadata": {},
     "output_type": "display_data"
    },
    {
     "name": "stdout",
     "output_type": "stream",
     "text": [
      "Top-4 Hit Ratios: \n"
     ]
    },
    {
     "data": {
      "text/html": [
       "<div style=\"overflow:auto\"><table style=\"width:50%\"><tr><td><b>k</b></td>\n",
       "<td><b>hit_ratio</b></td></tr>\n",
       "<tr><td>1</td>\n",
       "<td>0.9936922</td></tr>\n",
       "<tr><td>2</td>\n",
       "<td>0.9962153</td></tr>\n",
       "<tr><td>3</td>\n",
       "<td>0.9962153</td></tr>\n",
       "<tr><td>4</td>\n",
       "<td>1.0</td></tr></table></div>"
      ],
      "text/plain": [
       "k    hit_ratio\n",
       "---  -----------\n",
       "1    0.993692\n",
       "2    0.996215\n",
       "3    0.996215\n",
       "4    1"
      ]
     },
     "metadata": {},
     "output_type": "display_data"
    },
    {
     "name": "stdout",
     "output_type": "stream",
     "text": [
      "\n",
      "ModelMetricsMultinomial: drf\n",
      "** Reported on validation data. **\n",
      "\n",
      "MSE: 0.00344776718473\n",
      "RMSE: 0.0587176905603\n",
      "LogLoss: 0.013506267919\n",
      "Mean Per-Class Error: 0.00208333333333\n",
      "Confusion Matrix: Row labels: Actual class; Column labels: Predicted class\n",
      "\n"
     ]
    },
    {
     "data": {
      "text/html": [
       "<div style=\"overflow:auto\"><table style=\"width:50%\"><tr><td><b>1</b></td>\n",
       "<td><b>3</b></td>\n",
       "<td><b>4</b></td>\n",
       "<td><b>5</b></td>\n",
       "<td><b>Error</b></td>\n",
       "<td><b>Rate</b></td></tr>\n",
       "<tr><td>123.0</td>\n",
       "<td>0.0</td>\n",
       "<td>0.0</td>\n",
       "<td>0.0</td>\n",
       "<td>0.0</td>\n",
       "<td>0 / 123</td></tr>\n",
       "<tr><td>0.0</td>\n",
       "<td>157.0</td>\n",
       "<td>0.0</td>\n",
       "<td>0.0</td>\n",
       "<td>0.0</td>\n",
       "<td>0 / 157</td></tr>\n",
       "<tr><td>0.0</td>\n",
       "<td>0.0</td>\n",
       "<td>148.0</td>\n",
       "<td>0.0</td>\n",
       "<td>0.0</td>\n",
       "<td>0 / 148</td></tr>\n",
       "<tr><td>0.0</td>\n",
       "<td>1.0</td>\n",
       "<td>0.0</td>\n",
       "<td>119.0</td>\n",
       "<td>0.0083333</td>\n",
       "<td>1 / 120</td></tr>\n",
       "<tr><td>123.0</td>\n",
       "<td>158.0</td>\n",
       "<td>148.0</td>\n",
       "<td>119.0</td>\n",
       "<td>0.0018248</td>\n",
       "<td>1 / 548</td></tr></table></div>"
      ],
      "text/plain": [
       "1    3    4    5    Error       Rate\n",
       "---  ---  ---  ---  ----------  -------\n",
       "123  0    0    0    0           0 / 123\n",
       "0    157  0    0    0           0 / 157\n",
       "0    0    148  0    0           0 / 148\n",
       "0    1    0    119  0.00833333  1 / 120\n",
       "123  158  148  119  0.00182482  1 / 548"
      ]
     },
     "metadata": {},
     "output_type": "display_data"
    },
    {
     "name": "stdout",
     "output_type": "stream",
     "text": [
      "Top-4 Hit Ratios: \n"
     ]
    },
    {
     "data": {
      "text/html": [
       "<div style=\"overflow:auto\"><table style=\"width:50%\"><tr><td><b>k</b></td>\n",
       "<td><b>hit_ratio</b></td></tr>\n",
       "<tr><td>1</td>\n",
       "<td>0.9981752</td></tr>\n",
       "<tr><td>2</td>\n",
       "<td>1.0</td></tr>\n",
       "<tr><td>3</td>\n",
       "<td>1.0</td></tr>\n",
       "<tr><td>4</td>\n",
       "<td>1.0</td></tr></table></div>"
      ],
      "text/plain": [
       "k    hit_ratio\n",
       "---  -----------\n",
       "1    0.998175\n",
       "2    1\n",
       "3    1\n",
       "4    1"
      ]
     },
     "metadata": {},
     "output_type": "display_data"
    },
    {
     "name": "stdout",
     "output_type": "stream",
     "text": [
      "Scoring History: \n"
     ]
    },
    {
     "data": {
      "text/html": [
       "<div style=\"overflow:auto\"><table style=\"width:50%\"><tr><td><b></b></td>\n",
       "<td><b>timestamp</b></td>\n",
       "<td><b>duration</b></td>\n",
       "<td><b>number_of_trees</b></td>\n",
       "<td><b>training_rmse</b></td>\n",
       "<td><b>training_logloss</b></td>\n",
       "<td><b>training_classification_error</b></td>\n",
       "<td><b>validation_rmse</b></td>\n",
       "<td><b>validation_logloss</b></td>\n",
       "<td><b>validation_classification_error</b></td></tr>\n",
       "<tr><td></td>\n",
       "<td>2018-05-04 10:48:47</td>\n",
       "<td> 0.013 sec</td>\n",
       "<td>0.0</td>\n",
       "<td>nan</td>\n",
       "<td>nan</td>\n",
       "<td>nan</td>\n",
       "<td>nan</td>\n",
       "<td>nan</td>\n",
       "<td>nan</td></tr>\n",
       "<tr><td></td>\n",
       "<td>2018-05-04 10:48:47</td>\n",
       "<td> 0.040 sec</td>\n",
       "<td>1.0</td>\n",
       "<td>0.1207703</td>\n",
       "<td>0.4631216</td>\n",
       "<td>0.0102354</td>\n",
       "<td>0.1024339</td>\n",
       "<td>0.3189294</td>\n",
       "<td>0.0109489</td></tr>\n",
       "<tr><td></td>\n",
       "<td>2018-05-04 10:48:47</td>\n",
       "<td> 0.060 sec</td>\n",
       "<td>2.0</td>\n",
       "<td>0.1071070</td>\n",
       "<td>0.3525185</td>\n",
       "<td>0.0107188</td>\n",
       "<td>0.0648631</td>\n",
       "<td>0.0122435</td>\n",
       "<td>0.0091241</td></tr>\n",
       "<tr><td></td>\n",
       "<td>2018-05-04 10:48:47</td>\n",
       "<td> 0.077 sec</td>\n",
       "<td>3.0</td>\n",
       "<td>0.1000751</td>\n",
       "<td>0.3145317</td>\n",
       "<td>0.0095143</td>\n",
       "<td>0.0614562</td>\n",
       "<td>0.0118861</td>\n",
       "<td>0.0054745</td></tr>\n",
       "<tr><td></td>\n",
       "<td>2018-05-04 10:48:47</td>\n",
       "<td> 0.094 sec</td>\n",
       "<td>4.0</td>\n",
       "<td>0.0788451</td>\n",
       "<td>0.1596244</td>\n",
       "<td>0.0062444</td>\n",
       "<td>0.0588567</td>\n",
       "<td>0.0129572</td>\n",
       "<td>0.0018248</td></tr>\n",
       "<tr><td></td>\n",
       "<td>2018-05-04 10:48:47</td>\n",
       "<td> 0.121 sec</td>\n",
       "<td>5.0</td>\n",
       "<td>0.0774538</td>\n",
       "<td>0.1512389</td>\n",
       "<td>0.0063078</td>\n",
       "<td>0.0587177</td>\n",
       "<td>0.0135063</td>\n",
       "<td>0.0018248</td></tr></table></div>"
      ],
      "text/plain": [
       "    timestamp            duration    number_of_trees    training_rmse    training_logloss    training_classification_error    validation_rmse    validation_logloss    validation_classification_error\n",
       "--  -------------------  ----------  -----------------  ---------------  ------------------  -------------------------------  -----------------  --------------------  ---------------------------------\n",
       "    2018-05-04 10:48:47  0.013 sec   0                  nan              nan                 nan                              nan                nan                   nan\n",
       "    2018-05-04 10:48:47  0.040 sec   1                  0.12077          0.463122            0.0102354                        0.102434           0.318929              0.0109489\n",
       "    2018-05-04 10:48:47  0.060 sec   2                  0.107107         0.352518            0.0107188                        0.0648631          0.0122435             0.00912409\n",
       "    2018-05-04 10:48:47  0.077 sec   3                  0.100075         0.314532            0.00951427                       0.0614562          0.0118861             0.00547445\n",
       "    2018-05-04 10:48:47  0.094 sec   4                  0.0788451        0.159624            0.00624442                       0.0588567          0.0129572             0.00182482\n",
       "    2018-05-04 10:48:47  0.121 sec   5                  0.0774538        0.151239            0.00630782                       0.0587177          0.0135063             0.00182482"
      ]
     },
     "metadata": {},
     "output_type": "display_data"
    },
    {
     "name": "stdout",
     "output_type": "stream",
     "text": [
      "Variable Importances: \n"
     ]
    },
    {
     "data": {
      "text/html": [
       "<div style=\"overflow:auto\"><table style=\"width:50%\"><tr><td><b>variable</b></td>\n",
       "<td><b>relative_importance</b></td>\n",
       "<td><b>scaled_importance</b></td>\n",
       "<td><b>percentage</b></td></tr>\n",
       "<tr><td>NDVI</td>\n",
       "<td>1755.6030273</td>\n",
       "<td>1.0</td>\n",
       "<td>0.2113329</td></tr>\n",
       "<tr><td>swir1</td>\n",
       "<td>1584.4270019</td>\n",
       "<td>0.9024973</td>\n",
       "<td>0.1907274</td></tr>\n",
       "<tr><td>blue</td>\n",
       "<td>1571.0600586</td>\n",
       "<td>0.8948834</td>\n",
       "<td>0.1891183</td></tr>\n",
       "<tr><td>red</td>\n",
       "<td>1294.0904541</td>\n",
       "<td>0.7371202</td>\n",
       "<td>0.1557778</td></tr>\n",
       "<tr><td>green</td>\n",
       "<td>1104.8917236</td>\n",
       "<td>0.6293517</td>\n",
       "<td>0.1330027</td></tr>\n",
       "<tr><td>swir2</td>\n",
       "<td>588.5809326</td>\n",
       "<td>0.3352586</td>\n",
       "<td>0.0708512</td></tr>\n",
       "<tr><td>LSWI</td>\n",
       "<td>307.3491516</td>\n",
       "<td>0.1750676</td>\n",
       "<td>0.0369975</td></tr>\n",
       "<tr><td>nir</td>\n",
       "<td>101.2843399</td>\n",
       "<td>0.0576921</td>\n",
       "<td>0.0121922</td></tr></table></div>"
      ],
      "text/plain": [
       "variable    relative_importance    scaled_importance    percentage\n",
       "----------  ---------------------  -------------------  ------------\n",
       "NDVI        1755.6                 1                    0.211333\n",
       "swir1       1584.43                0.902497             0.190727\n",
       "blue        1571.06                0.894883             0.189118\n",
       "red         1294.09                0.73712              0.155778\n",
       "green       1104.89                0.629352             0.133003\n",
       "swir2       588.581                0.335259             0.0708512\n",
       "LSWI        307.349                0.175068             0.0369975\n",
       "nir         101.284                0.0576921            0.0121922"
      ]
     },
     "metadata": {},
     "output_type": "display_data"
    },
    {
     "data": {
      "text/plain": []
     },
     "execution_count": 55,
     "metadata": {},
     "output_type": "execute_result"
    }
   ],
   "source": [
    "# Print model details\n",
    "rf_v1"
   ]
  },
  {
   "cell_type": "code",
   "execution_count": 56,
   "metadata": {},
   "outputs": [
    {
     "name": "stdout",
     "output_type": "stream",
     "text": [
      "drf prediction progress: |████████████████████████████████████████████████| 100%\n"
     ]
    }
   ],
   "source": [
    "# Predict using test data\n",
    "final_rf_predictions = rf_v1.predict(test[:-1])"
   ]
  },
  {
   "cell_type": "code",
   "execution_count": 57,
   "metadata": {},
   "outputs": [
    {
     "data": {
      "text/plain": [
       "predict    0.99115\n",
       "dtype: float64"
      ]
     },
     "execution_count": 57,
     "metadata": {},
     "output_type": "execute_result"
    }
   ],
   "source": [
    "# Get test data accuracy\n",
    "(final_rf_predictions['predict']==test['phc']).as_data_frame(use_pandas=True).mean()"
   ]
  },
  {
   "cell_type": "code",
   "execution_count": 85,
   "metadata": {},
   "outputs": [],
   "source": [
    "# Shape of test data predictions\n",
    "final_rf_predictions.as_data_frame().shape"
   ]
  },
  {
   "cell_type": "code",
   "execution_count": 59,
   "metadata": {},
   "outputs": [
    {
     "data": {
      "text/plain": [
       "(565, 1)"
      ]
     },
     "execution_count": 59,
     "metadata": {},
     "output_type": "execute_result"
    }
   ],
   "source": [
    "final_rf_predictions['predict'].as_data_frame().shape"
   ]
  },
  {
   "cell_type": "code",
   "execution_count": 60,
   "metadata": {},
   "outputs": [],
   "source": [
    "resulting_class_df = test.as_data_frame().join(final_rf_predictions['predict'].as_data_frame())"
   ]
  },
  {
   "cell_type": "code",
   "execution_count": 61,
   "metadata": {},
   "outputs": [],
   "source": [
    "# Create MultiIndex from coordinates ## TODO include time!\n",
    "resulting_class_df.set_index(['x', 'y'], inplace=True)"
   ]
  },
  {
   "cell_type": "code",
   "execution_count": 62,
   "metadata": {},
   "outputs": [
    {
     "data": {
      "text/plain": [
       "(565, 13)"
      ]
     },
     "execution_count": 62,
     "metadata": {},
     "output_type": "execute_result"
    }
   ],
   "source": [
    "resulting_class_df.shape"
   ]
  },
  {
   "cell_type": "code",
   "execution_count": 64,
   "metadata": {},
   "outputs": [
    {
     "data": {
      "text/plain": [
       "(565, 13)"
      ]
     },
     "execution_count": 64,
     "metadata": {},
     "output_type": "execute_result"
    }
   ],
   "source": [
    "# Test if duplicates (there shouldnt be!)\n",
    "remove_duplicates = resulting_class_df[~resulting_class_df.index.duplicated(keep='first')]\n",
    "remove_duplicates.shape"
   ]
  },
  {
   "cell_type": "code",
   "execution_count": 65,
   "metadata": {},
   "outputs": [],
   "source": [
    "# Return to xarray\n",
    "xarr = xr.Dataset.from_dataframe(resulting_class_df)"
   ]
  },
  {
   "cell_type": "code",
   "execution_count": 73,
   "metadata": {},
   "outputs": [
    {
     "data": {
      "text/plain": [
       "<matplotlib.collections.QuadMesh at 0x7f27ad023090>"
      ]
     },
     "execution_count": 73,
     "metadata": {},
     "output_type": "execute_result"
    },
    {
     "data": {
      "image/png": "[encoded data removed]",
      "text/plain": [
       "<Figure size 432x288 with 2 Axes>"
      ]
     },
     "metadata": {},
     "output_type": "display_data"
    }
   ],
   "source": [
    "# Plot phenology class from test data. WHY IS IT LIKE THAT?!\n",
    "xarr['phc'].plot()"
   ]
  },
  {
   "cell_type": "code",
   "execution_count": 70,
   "metadata": {},
   "outputs": [],
   "source": [
    "# Prepare to compare initial with prediction\n",
    "original = sat_data_again['phc'].sel(time='2016-01-21').drop('time').drop('mask')\n",
    "predicted = xarr['predict']"
   ]
  },
  {
   "cell_type": "code",
   "execution_count": 79,
   "metadata": {},
   "outputs": [],
   "source": [
    "# Concatenate into one xarray\n",
    "dimnames = xr.Variable('band', pd.Index(['phc', 'predict']))\n",
    "da = xr.concat([original.where(original>0), predicted], dimnames)"
   ]
  },
  {
   "cell_type": "code",
   "execution_count": 81,
   "metadata": {},
   "outputs": [
    {
     "data": {
      "text/plain": [
       "<xarray.DataArray 'phc' (band: 2, x: 2979, y: 3631)>\n",
       "array([[[nan, nan, ..., nan, nan],\n",
       "        [nan, nan, ..., nan, nan],\n",
       "        ...,\n",
       "        [nan, nan, ..., nan, nan],\n",
       "        [nan, nan, ..., nan, nan]],\n",
       "\n",
       "       [[nan, nan, ..., nan, nan],\n",
       "        [nan, nan, ..., nan, nan],\n",
       "        ...,\n",
       "        [nan, nan, ..., nan, nan],\n",
       "        [nan, nan, ..., nan, nan]]])\n",
       "Coordinates:\n",
       "  * y        (y) float64 4.122e+05 4.122e+05 4.122e+05 4.122e+05 4.122e+05 ...\n",
       "  * x        (x) float64 4.889e+05 4.889e+05 4.889e+05 4.889e+05 4.889e+05 ...\n",
       "  * band     (band) object 'phc' 'predict'"
      ]
     },
     "execution_count": 81,
     "metadata": {},
     "output_type": "execute_result"
    }
   ],
   "source": [
    "da"
   ]
  },
  {
   "cell_type": "code",
   "execution_count": 80,
   "metadata": {},
   "outputs": [
    {
     "data": {
      "text/plain": [
       "<xarray.plot.facetgrid.FacetGrid at 0x7f27ad1b1b90>"
      ]
     },
     "execution_count": 80,
     "metadata": {},
     "output_type": "execute_result"
    },
    {
     "data": {
      "image/png": "[encoded data removed]",
      "text/plain": [
       "<Figure size 504x216 with 3 Axes>"
      ]
     },
     "metadata": {},
     "output_type": "display_data"
    }
   ],
   "source": [
    "# Plot\n",
    "da.plot(x='x', y='y', col='band', vmin=1., vmax=5., cmap='RdYlGn')"
   ]
  },
  {
   "cell_type": "code",
   "execution_count": 74,
   "metadata": {},
   "outputs": [],
   "source": [
    "# Test merging into dataset\n",
    "merged = xr.merge([original, predicted])"
   ]
  },
  {
   "cell_type": "code",
   "execution_count": 78,
   "metadata": {},
   "outputs": [
    {
     "data": {
      "text/plain": [
       "<matplotlib.collections.QuadMesh at 0x7f27acdd0750>"
      ]
     },
     "execution_count": 78,
     "metadata": {},
     "output_type": "execute_result"
    },
    {
     "data": {
      "image/png": "[encoded data removed]",
      "text/plain": [
       "<Figure size 432x288 with 2 Axes>"
      ]
     },
     "metadata": {},
     "output_type": "display_data"
    }
   ],
   "source": [
    "merged['phc'].where(merged['phc']>0).plot()"
   ]
  },
  {
   "cell_type": "code",
   "execution_count": 76,
   "metadata": {},
   "outputs": [
    {
     "data": {
      "text/plain": [
       "<matplotlib.collections.QuadMesh at 0x7f27ace69090>"
      ]
     },
     "execution_count": 76,
     "metadata": {},
     "output_type": "execute_result"
    },
    {
     "data": {
      "image/png": "[encoded data removed]",
      "text/plain": [
       "<Figure size 432x288 with 2 Axes>"
      ]
     },
     "metadata": {},
     "output_type": "display_data"
    }
   ],
   "source": [
    "merged['predict'].plot()"
   ]
  },
  {
   "cell_type": "code",
   "execution_count": 83,
   "metadata": {},
   "outputs": [],
   "source": [
    "# Close h2o cluster\n",
    "h2o.cluster().shutdown(prompt=False)"
   ]
  },
  {
   "cell_type": "markdown",
   "metadata": {},
   "source": [
    "## Rest of h2o.ai tutorial"
   ]
  },
  {
   "cell_type": "code",
   "execution_count": 25,
   "metadata": {},
   "outputs": [],
   "source": [
    "# Import H2O RF:\n",
    "from h2o.estimators.random_forest import H2ORandomForestEstimator"
   ]
  },
  {
   "cell_type": "code",
   "execution_count": 26,
   "metadata": {},
   "outputs": [],
   "source": [
    "# Initialize the RF estimator:\n",
    "\n",
    "rf_fit1 = H2ORandomForestEstimator(model_id='rf_fit1', seed=1)"
   ]
  },
  {
   "cell_type": "code",
   "execution_count": 27,
   "metadata": {},
   "outputs": [
    {
     "name": "stdout",
     "output_type": "stream",
     "text": [
      "drf Model Build progress: |███████████████████████████████████████████████| 100%\n"
     ]
    }
   ],
   "source": [
    "rf_fit1.train(x=x, y=y, training_frame=train)"
   ]
  },
  {
   "cell_type": "code",
   "execution_count": 28,
   "metadata": {},
   "outputs": [
    {
     "name": "stdout",
     "output_type": "stream",
     "text": [
      "drf Model Build progress: |███████████████████████████████████████████████| 100%\n"
     ]
    }
   ],
   "source": [
    "rf_fit2 = H2ORandomForestEstimator(model_id='rf_fit2', ntrees=100, seed=1)\n",
    "rf_fit2.train(x=x, y=y, training_frame=train)"
   ]
  },
  {
   "cell_type": "code",
   "execution_count": 29,
   "metadata": {},
   "outputs": [],
   "source": [
    "rf_perf1 = rf_fit1.model_performance(test)\n",
    "rf_perf2 = rf_fit2.model_performance(test)"
   ]
  },
  {
   "cell_type": "code",
   "execution_count": 30,
   "metadata": {},
   "outputs": [
    {
     "name": "stdout",
     "output_type": "stream",
     "text": [
      "0.663462768485\n",
      "0.669287987873\n"
     ]
    }
   ],
   "source": [
    "print rf_perf1.auc()\n",
    "print rf_perf2.auc()"
   ]
  },
  {
   "cell_type": "code",
   "execution_count": 31,
   "metadata": {},
   "outputs": [
    {
     "name": "stdout",
     "output_type": "stream",
     "text": [
      "drf Model Build progress: |███████████████████████████████████████████████| 100%\n"
     ]
    }
   ],
   "source": [
    "rf_fit3 = H2ORandomForestEstimator(model_id='rf_fit3', seed=1, nfolds=5)\n",
    "rf_fit3.train(x=x, y=y, training_frame=data)"
   ]
  },
  {
   "cell_type": "code",
   "execution_count": 32,
   "metadata": {},
   "outputs": [
    {
     "name": "stdout",
     "output_type": "stream",
     "text": [
      "0.663606041745\n"
     ]
    }
   ],
   "source": [
    "print rf_fit3.auc(xval=True)"
   ]
  },
  {
   "cell_type": "code",
   "execution_count": 33,
   "metadata": {},
   "outputs": [],
   "source": [
    "# Import H2O GBM:\n",
    "from h2o.estimators.gbm import H2OGradientBoostingEstimator"
   ]
  },
  {
   "cell_type": "code",
   "execution_count": 34,
   "metadata": {},
   "outputs": [
    {
     "name": "stdout",
     "output_type": "stream",
     "text": [
      "gbm Model Build progress: |███████████████████████████████████████████████| 100%\n"
     ]
    }
   ],
   "source": [
    "# Initialize and train the GBM estimator:\n",
    "\n",
    "gbm_fit1 = H2OGradientBoostingEstimator(model_id='gbm_fit1', seed=1)\n",
    "gbm_fit1.train(x=x, y=y, training_frame=train)"
   ]
  },
  {
   "cell_type": "code",
   "execution_count": 35,
   "metadata": {},
   "outputs": [
    {
     "name": "stdout",
     "output_type": "stream",
     "text": [
      "gbm Model Build progress: |███████████████████████████████████████████████| 100%\n"
     ]
    }
   ],
   "source": [
    "gbm_fit2 = H2OGradientBoostingEstimator(model_id='gbm_fit2', ntrees=500, seed=1)\n",
    "gbm_fit2.train(x=x, y=y, training_frame=train)"
   ]
  },
  {
   "cell_type": "code",
   "execution_count": 36,
   "metadata": {},
   "outputs": [
    {
     "name": "stdout",
     "output_type": "stream",
     "text": [
      "gbm Model Build progress: |███████████████████████████████████████████████| 100%\n"
     ]
    }
   ],
   "source": [
    "gbm_fit3 = H2OGradientBoostingEstimator(model_id='gbm_fit3', \n",
    "                                        ntrees=500, \n",
    "                                        score_tree_interval=5,     #used for early stopping\n",
    "                                        stopping_rounds=3,         #used for early stopping\n",
    "                                        stopping_metric='AUC',     #used for early stopping\n",
    "                                        stopping_tolerance=0.0005, #used for early stopping\n",
    "                                        seed=1)\n",
    "\n",
    "# The use of a validation_frame is recommended with using early stopping\n",
    "gbm_fit3.train(x=x, y=y, training_frame=train, validation_frame=valid)\n"
   ]
  },
  {
   "cell_type": "code",
   "execution_count": 37,
   "metadata": {},
   "outputs": [],
   "source": [
    "gbm_perf1 = gbm_fit1.model_performance(test)\n",
    "gbm_perf2 = gbm_fit2.model_performance(test)\n",
    "gbm_perf3 = gbm_fit3.model_performance(test)"
   ]
  },
  {
   "cell_type": "code",
   "execution_count": 38,
   "metadata": {},
   "outputs": [
    {
     "name": "stdout",
     "output_type": "stream",
     "text": [
      "0.683883128672\n",
      "0.684086466361\n",
      "0.684443511563\n"
     ]
    }
   ],
   "source": [
    "# Retreive test set AUC\n",
    "print gbm_perf1.auc()\n",
    "print gbm_perf2.auc()\n",
    "print gbm_perf3.auc()"
   ]
  },
  {
   "cell_type": "code",
   "execution_count": 39,
   "metadata": {},
   "outputs": [
    {
     "name": "stdout",
     "output_type": "stream",
     "text": [
      "Scoring History: \n"
     ]
    },
    {
     "data": {
      "text/html": [
       "<div style=\"overflow:auto\"><table style=\"width:50%\"><tr><td><b></b></td>\n",
       "<td><b>timestamp</b></td>\n",
       "<td><b>duration</b></td>\n",
       "<td><b>number_of_trees</b></td>\n",
       "<td><b>training_rmse</b></td>\n",
       "<td><b>training_logloss</b></td>\n",
       "<td><b>training_auc</b></td>\n",
       "<td><b>training_lift</b></td>\n",
       "<td><b>training_classification_error</b></td></tr>\n",
       "<tr><td></td>\n",
       "<td>2018-04-25 08:45:40</td>\n",
       "<td> 0.028 sec</td>\n",
       "<td>0.0</td>\n",
       "<td>0.3856346</td>\n",
       "<td>0.4740298</td>\n",
       "<td>0.5</td>\n",
       "<td>1.0</td>\n",
       "<td>0.8182546</td></tr>\n",
       "<tr><td></td>\n",
       "<td>2018-04-25 08:45:40</td>\n",
       "<td> 0.128 sec</td>\n",
       "<td>1.0</td>\n",
       "<td>0.3837005</td>\n",
       "<td>0.4691294</td>\n",
       "<td>0.6577912</td>\n",
       "<td>2.6832997</td>\n",
       "<td>0.4006858</td></tr>\n",
       "<tr><td></td>\n",
       "<td>2018-04-25 08:45:40</td>\n",
       "<td> 0.174 sec</td>\n",
       "<td>2.0</td>\n",
       "<td>0.3820620</td>\n",
       "<td>0.4651166</td>\n",
       "<td>0.6658294</td>\n",
       "<td>2.7939915</td>\n",
       "<td>0.3332492</td></tr>\n",
       "<tr><td></td>\n",
       "<td>2018-04-25 08:45:40</td>\n",
       "<td> 0.221 sec</td>\n",
       "<td>3.0</td>\n",
       "<td>0.3806936</td>\n",
       "<td>0.4618385</td>\n",
       "<td>0.6685103</td>\n",
       "<td>2.9710023</td>\n",
       "<td>0.3447454</td></tr>\n",
       "<tr><td></td>\n",
       "<td>2018-04-25 08:45:40</td>\n",
       "<td> 0.276 sec</td>\n",
       "<td>4.0</td>\n",
       "<td>0.3795380</td>\n",
       "<td>0.4591170</td>\n",
       "<td>0.6701132</td>\n",
       "<td>2.9754401</td>\n",
       "<td>0.3318046</td></tr>\n",
       "<tr><td>---</td>\n",
       "<td>---</td>\n",
       "<td>---</td>\n",
       "<td>---</td>\n",
       "<td>---</td>\n",
       "<td>---</td>\n",
       "<td>---</td>\n",
       "<td>---</td>\n",
       "<td>---</td></tr>\n",
       "<tr><td></td>\n",
       "<td>2018-04-25 08:45:43</td>\n",
       "<td> 3.795 sec</td>\n",
       "<td>43.0</td>\n",
       "<td>0.3677312</td>\n",
       "<td>0.4317210</td>\n",
       "<td>0.7124068</td>\n",
       "<td>3.6410228</td>\n",
       "<td>0.2975859</td></tr>\n",
       "<tr><td></td>\n",
       "<td>2018-04-25 08:45:43</td>\n",
       "<td> 3.888 sec</td>\n",
       "<td>44.0</td>\n",
       "<td>0.3676187</td>\n",
       "<td>0.4314625</td>\n",
       "<td>0.7129225</td>\n",
       "<td>3.6553764</td>\n",
       "<td>0.3021722</td></tr>\n",
       "<tr><td></td>\n",
       "<td>2018-04-25 08:45:44</td>\n",
       "<td> 3.989 sec</td>\n",
       "<td>45.0</td>\n",
       "<td>0.3674805</td>\n",
       "<td>0.4311606</td>\n",
       "<td>0.7134660</td>\n",
       "<td>3.6649454</td>\n",
       "<td>0.3023984</td></tr>\n",
       "<tr><td></td>\n",
       "<td>2018-04-25 08:45:48</td>\n",
       "<td> 7.995 sec</td>\n",
       "<td>226.0</td>\n",
       "<td>0.3612902</td>\n",
       "<td>0.4176954</td>\n",
       "<td>0.7402357</td>\n",
       "<td>4.2582264</td>\n",
       "<td>0.2599471</td></tr>\n",
       "<tr><td></td>\n",
       "<td>2018-04-25 08:45:50</td>\n",
       "<td>10.864 sec</td>\n",
       "<td>500.0</td>\n",
       "<td>0.3612902</td>\n",
       "<td>0.4176954</td>\n",
       "<td>0.7402357</td>\n",
       "<td>4.2582264</td>\n",
       "<td>0.2599471</td></tr></table></div>"
      ],
      "text/plain": [
       "     timestamp            duration    number_of_trees    training_rmse    training_logloss    training_auc    training_lift    training_classification_error\n",
       "---  -------------------  ----------  -----------------  ---------------  ------------------  --------------  ---------------  -------------------------------\n",
       "     2018-04-25 08:45:40  0.028 sec   0.0                0.385634551401   0.474029820223      0.5             1.0              0.818254603683\n",
       "     2018-04-25 08:45:40  0.128 sec   1.0                0.3837005122     0.469129436808      0.657791165609  2.68329972068    0.400685766004\n",
       "     2018-04-25 08:45:40  0.174 sec   2.0                0.382061982395   0.465116567784      0.665829430978  2.79399154264    0.333249208062\n",
       "     2018-04-25 08:45:40  0.221 sec   3.0                0.380693585036   0.461838509958      0.668510341023  2.97100227756    0.344745361507\n",
       "     2018-04-25 08:45:40  0.276 sec   4.0                0.37953800372    0.459117012737      0.670113151912  2.97544005596    0.331804574094\n",
       "---  ---                  ---         ---                ---              ---                 ---             ---              ---\n",
       "     2018-04-25 08:45:43  3.795 sec   43.0               0.367731196852   0.431721034686      0.712406800184  3.64102279257    0.297585894803\n",
       "     2018-04-25 08:45:43  3.888 sec   44.0               0.367618740501   0.43146245139       0.712922465256  3.65537636468    0.302172172521\n",
       "     2018-04-25 08:45:44  3.989 sec   45.0               0.367480513734   0.431160572065      0.713465990166  3.66494541276    0.302398440492\n",
       "     2018-04-25 08:45:48  7.995 sec   226.0              0.361290217025   0.417695443147      0.740235728925  4.25822639341    0.259947088105\n",
       "     2018-04-25 08:45:50  10.864 sec  500.0              0.361290217025   0.417695443147      0.740235728925  4.25822639341    0.259947088105"
      ]
     },
     "metadata": {},
     "output_type": "display_data"
    },
    {
     "data": {
      "text/plain": []
     },
     "execution_count": 39,
     "metadata": {},
     "output_type": "execute_result"
    }
   ],
   "source": [
    "gbm_fit2.scoring_history()"
   ]
  },
  {
   "cell_type": "code",
   "execution_count": 40,
   "metadata": {},
   "outputs": [],
   "source": [
    "# Import H2O DL:\n",
    "from h2o.estimators.deeplearning import H2ODeepLearningEstimator"
   ]
  },
  {
   "cell_type": "code",
   "execution_count": 41,
   "metadata": {},
   "outputs": [
    {
     "name": "stdout",
     "output_type": "stream",
     "text": [
      "deeplearning Model Build progress: |██████████████████████████████████████| 100%\n"
     ]
    }
   ],
   "source": [
    "dl_fit1 = H2ODeepLearningEstimator(model_id='dl_fit1', seed=1)\n",
    "dl_fit1.train(x=x, y=y, training_frame=train)"
   ]
  },
  {
   "cell_type": "code",
   "execution_count": 42,
   "metadata": {},
   "outputs": [
    {
     "name": "stdout",
     "output_type": "stream",
     "text": [
      "deeplearning Model Build progress: |██████████████████████████████████████| 100%\n"
     ]
    }
   ],
   "source": [
    "dl_fit2 = H2ODeepLearningEstimator(model_id='dl_fit2', \n",
    "                                   epochs=20, \n",
    "                                   hidden=[10,10], \n",
    "                                   stopping_rounds=0,  #disable early stopping\n",
    "                                   seed=1)\n",
    "dl_fit2.train(x=x, y=y, training_frame=train)"
   ]
  },
  {
   "cell_type": "code",
   "execution_count": 43,
   "metadata": {},
   "outputs": [
    {
     "name": "stdout",
     "output_type": "stream",
     "text": [
      "deeplearning Model Build progress: |██████████████████████████████████████| 100%\n"
     ]
    }
   ],
   "source": [
    "dl_fit3 = H2ODeepLearningEstimator(model_id='dl_fit3', \n",
    "                                   epochs=20, \n",
    "                                   hidden=[10,10],\n",
    "                                   score_interval=1,          #used for early stopping\n",
    "                                   stopping_rounds=3,         #used for early stopping\n",
    "                                   stopping_metric='AUC',     #used for early stopping\n",
    "                                   stopping_tolerance=0.0005, #used for early stopping\n",
    "                                   seed=1)\n",
    "dl_fit3.train(x=x, y=y, training_frame=train, validation_frame=valid)"
   ]
  },
  {
   "cell_type": "code",
   "execution_count": 44,
   "metadata": {},
   "outputs": [],
   "source": [
    "dl_perf1 = dl_fit1.model_performance(test)\n",
    "dl_perf2 = dl_fit2.model_performance(test)\n",
    "dl_perf3 = dl_fit3.model_performance(test)"
   ]
  },
  {
   "cell_type": "code",
   "execution_count": 45,
   "metadata": {},
   "outputs": [
    {
     "name": "stdout",
     "output_type": "stream",
     "text": [
      "0.686254936726\n",
      "0.681516110354\n",
      "0.681802966019\n"
     ]
    }
   ],
   "source": [
    "# Retreive test set AUC\n",
    "print dl_perf1.auc()\n",
    "print dl_perf2.auc()\n",
    "print dl_perf3.auc()"
   ]
  },
  {
   "cell_type": "code",
   "execution_count": 47,
   "metadata": {},
   "outputs": [
    {
     "name": "stdout",
     "output_type": "stream",
     "text": [
      "naivebayes Model Build progress: |████████████████████████████████████████| 100%\n"
     ]
    }
   ],
   "source": [
    "from h2o.estimators.naive_bayes import H2ONaiveBayesEstimator\n",
    "nb_fit1 = H2ONaiveBayesEstimator(model_id='nb_fit1')\n",
    "nb_fit1.train(x=x, y=y, training_frame=train)"
   ]
  },
  {
   "cell_type": "code",
   "execution_count": 48,
   "metadata": {},
   "outputs": [
    {
     "name": "stdout",
     "output_type": "stream",
     "text": [
      "naivebayes Model Build progress: |████████████████████████████████████████| 100%\n"
     ]
    }
   ],
   "source": [
    "nb_fit2 = H2ONaiveBayesEstimator(model_id='nb_fit2', laplace=6)\n",
    "nb_fit2.train(x=x, y=y, training_frame=train)"
   ]
  },
  {
   "cell_type": "code",
   "execution_count": 49,
   "metadata": {},
   "outputs": [],
   "source": [
    "nb_perf1 = nb_fit1.model_performance(test)\n",
    "nb_perf2 = nb_fit2.model_performance(test)"
   ]
  },
  {
   "cell_type": "code",
   "execution_count": 50,
   "metadata": {},
   "outputs": [
    {
     "name": "stdout",
     "output_type": "stream",
     "text": [
      "0.651337099516\n",
      "0.651391851824\n"
     ]
    }
   ],
   "source": [
    "# Retreive test set AUC\n",
    "print nb_perf1.auc()\n",
    "print nb_perf2.auc()"
   ]
  }
 ],
 "metadata": {
  "kernelspec": {
   "display_name": "Python 2",
   "language": "python",
   "name": "python2"
  },
  "language_info": {
   "codemirror_mode": {
    "name": "ipython",
    "version": 2
   },
   "file_extension": ".py",
   "mimetype": "text/x-python",
   "name": "python",
   "nbconvert_exporter": "python",
   "pygments_lexer": "ipython2",
   "version": "2.7.14"
  }
 },
 "nbformat": 4,
 "nbformat_minor": 2
}
