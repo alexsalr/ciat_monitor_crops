{
 "cells": [
  {
   "cell_type": "markdown",
   "metadata": {},
   "source": [
    "## Sentinel-1 data download using sentinelsat"
   ]
  },
  {
   "cell_type": "code",
   "execution_count": 2,
   "metadata": {},
   "outputs": [],
   "source": [
    "# import required packages\n",
    "from sentinelsat.sentinel import SentinelAPI, read_geojson, geojson_to_wkt\n",
    "from datetime import date\n",
    "\n",
    "import os"
   ]
  },
  {
   "cell_type": "markdown",
   "metadata": {},
   "source": [
    "Definition of the environment variables and settings for downloads "
   ]
  },
  {
   "cell_type": "code",
   "execution_count": 2,
   "metadata": {},
   "outputs": [],
   "source": [
    "## change directory for download\n",
    "os.chdir('D:\\eo_data')\n",
    "\n",
    "## Define search parameters\n",
    "\n",
    "# get geoJSON file with region extent\n",
    "pathJSONFile=\"//dapadfs/workspace_cluster_6/TRANSVERSAL_PROJECTS/MADR/COMPONENTE_2/Imagenes_Satelitales/Sentinel_2/JSON_Ibague/IbagueJSON.geojson\"\n",
    "\n",
    "# set search dates\n",
    "start_date = '20170401'\n",
    "end_date = '20170405'\n",
    "\n",
    "## Specify ESA scihub credentials\n",
    "\n",
    "# store in variables\n",
    "scihub_user = 'asalazarr'\n",
    "scihub_pass = 'tila8sude'\n"
   ]
  },
  {
   "cell_type": "markdown",
   "metadata": {},
   "source": [
    "Making the call to the API"
   ]
  },
  {
   "cell_type": "code",
   "execution_count": 3,
   "metadata": {},
   "outputs": [],
   "source": [
    "# connect to the API\n",
    "api = SentinelAPI(scihub_user, scihub_pass, 'https://scihub.copernicus.eu/dhus')\n",
    "\n",
    "# download single scene by known product id\n",
    "# api.download(<product_id>)\n",
    "\n",
    "# search by polygon, time, and Hub query keywords\n",
    "footprint = geojson_to_wkt(read_geojson(pathJSONFile))\n",
    "products = api.query(footprint,\n",
    "                     date = (start_date, end_date),\n",
    "                     platformname = 'Sentinel-1')\n",
    "\n",
    "# download all results from the search\n",
    "api.download_all(products)"
   ]
  },
  {
   "cell_type": "code",
   "execution_count": 19,
   "metadata": {},
   "outputs": [
    {
     "name": "stdout",
     "output_type": "stream",
     "text": [
      "D:\\eo_data\\Ibague\n"
     ]
    }
   ],
   "source": [
    "import os\n",
    "\n",
    "# Get the metadata of the downloaded files\n",
    "#own_files = api.download_all(products)[0]\n",
    "\n",
    "# change the working directory to the location of files\n",
    "os.chdir('D:\\eo_data\\Ibague')\n",
    "print(os.getcwd())\n",
    "# store the files list to a variable\n",
    "eo_files = os.listdir(os.getcwd())\n",
    "#print(eo_files)"
   ]
  },
  {
   "cell_type": "code",
   "execution_count": 20,
   "metadata": {},
   "outputs": [
    {
     "data": {
      "text/plain": [
       "list"
      ]
     },
     "execution_count": 20,
     "metadata": {},
     "output_type": "execute_result"
    }
   ],
   "source": [
    "type(eo_files)#[0][:-3]"
   ]
  },
  {
   "cell_type": "code",
   "execution_count": 21,
   "metadata": {},
   "outputs": [
    {
     "name": "stdout",
     "output_type": "stream",
     "text": [
      "S1B_IW_GRDH_1SDV_20170602T104209_20170602T104234_005870_00A4B1_774C was already uncompressed\n",
      "S1B_IW_GRDH_1SDV_20170614T104210_20170614T104235_006045_00A9D7_4B41 was already uncompressed\n",
      "S1B_IW_GRDH_1SDV_20170626T104210_20170626T104235_006220_00AEED_0591 was already uncompressed\n",
      "S1B_IW_GRDH_1SDV_20170708T104211_20170708T104236_006395_00B3E1_4D33 was already uncompressed\n",
      "S1B_IW_GRDH_1SDV_20170720T104212_20170720T104237_006570_00B8E0_29C0 was already uncompressed\n",
      "S1B_IW_GRDH_1SDV_20170801T104212_20170801T104237_006745_00BDE6_F318 was already uncompressed\n",
      "S1B_IW_GRDH_1SDV_20170813T104213_20170813T104238_006920_00C2FF_99FD was already uncompressed\n",
      "S1B_IW_GRDH_1SDV_20170825T104213_20170825T104238_007095_00C80F_6556 was already uncompressed\n",
      "S1B_IW_GRDH_1SDV_20170906T104214_20170906T104239_007270_00CD25_4F8F was already uncompressed\n",
      "S1B_IW_GRDH_1SDV_20170918T104214_20170918T104239_007445_00D249_A0FC was already uncompressed\n",
      "S1B_IW_GRDH_1SDV_20170930T104215_20170930T104240_007620_00D74F_27DD was already uncompressed\n",
      "S1B_IW_GRDH_1SDV_20171012T104215_20171012T104240_007795_00DC4C_C014 was already uncompressed\n",
      "S1B_IW_GRDH_1SDV_20171024T104215_20171024T104240_007970_00E14C_9097 was already uncompressed\n",
      "S1B_IW_GRDH_1SDV_20171105T104215_20171105T104240_008145_00E654_FADB was already uncompressed\n",
      "S1B_IW_GRDH_1SDV_20171117T104215_20171117T104240_008320_00EB98_BFA2 was already uncompressed\n",
      "S1B_IW_GRDH_1SDV_20171129T104214_20171129T104239_008495_00F103_C116 was already uncompressed\n",
      "S1B_IW_GRDH_1SDV_20171211T104214_20171211T104239_008670_00F691_F37A was already uncompressed\n",
      "S1B_IW_GRDH_1SDV_20171223T104214_20171223T104239_008845_00FC24_E700 was already uncompressed\n",
      "S1B_IW_GRDH_1SDV_20180104T104213_20180104T104238_009020_0101D3_78E7 was already uncompressed\n",
      "S1B_IW_GRDH_1SDV_20180116T104213_20180116T104238_009195_010785_5AA7 was already uncompressed\n",
      "S1B_IW_GRDH_1SDV_20180128T104212_20180128T104237_009370_010D3E_6BBB was already uncompressed\n"
     ]
    }
   ],
   "source": [
    "# Unzip files\n",
    "import zipfile\n",
    "\n",
    "# Check if a data folder exist\n",
    "if not os.path.exists('data'):\n",
    "    os.makedirs('data')\n",
    "    print 'data folder' + ' was created'\n",
    "# Check if the name of the data folder is in\n",
    "if 'data' in eo_files:\n",
    "    eo_files.remove('data')\n",
    "\n",
    "##Todo catch error when a directory is in eo_files\n",
    "for im_id in eo_files:    \n",
    "    if not os.path.exists('data/'+im_id[:-3]+'SAFE'):\n",
    "        print('Unzipping ' + im_id)\n",
    "        zip_ref = zipfile.ZipFile(im_id, 'r')\n",
    "        zip_ref.extractall('data')\n",
    "        zip_ref.close()\n",
    "    else:\n",
    "        print(im_id[:-4] + ' was already uncompressed')"
   ]
  },
  {
   "cell_type": "markdown",
   "metadata": {},
   "source": [
    "## Pre-processing using SNAP\n",
    "The pre-processing workflow (to-be revised) is performed using SNAP Python API, snappy, and currently incudes the following steps:\n",
    "1. Apply orbit\n",
    "2. Speckle filtering\n",
    "3. Terrain correction\n",
    "4. Subset the area of interest\n",
    "5. Logaritmic transformation (to dB)\n",
    "6. Texture analysis\n",
    "\n",
    "***"
   ]
  },
  {
   "cell_type": "code",
   "execution_count": 14,
   "metadata": {},
   "outputs": [],
   "source": [
    "import snappy\n",
    "\n",
    "from snappy import ProductIO\n",
    "from snappy import HashMap\n",
    "import shutil\n",
    "import os  \n",
    "import ast\n",
    "\n",
    "from snappy import GPF\n",
    "\n",
    "GPF.getDefaultInstance().getOperatorSpiRegistry().loadOperatorSpis()\n",
    "HashMap = snappy.jpy.get_type('java.util.HashMap')"
   ]
  },
  {
   "cell_type": "code",
   "execution_count": 22,
   "metadata": {},
   "outputs": [
    {
     "name": "stdout",
     "output_type": "stream",
     "text": [
      "['S1B_IW_GRDH_1SDV_20170602T104209_20170602T104234_005870_00A4B1_774C.zip', 'S1B_IW_GRDH_1SDV_20170614T104210_20170614T104235_006045_00A9D7_4B41.zip', 'S1B_IW_GRDH_1SDV_20170626T104210_20170626T104235_006220_00AEED_0591.zip', 'S1B_IW_GRDH_1SDV_20170708T104211_20170708T104236_006395_00B3E1_4D33.zip', 'S1B_IW_GRDH_1SDV_20170720T104212_20170720T104237_006570_00B8E0_29C0.zip', 'S1B_IW_GRDH_1SDV_20170801T104212_20170801T104237_006745_00BDE6_F318.zip', 'S1B_IW_GRDH_1SDV_20170813T104213_20170813T104238_006920_00C2FF_99FD.zip', 'S1B_IW_GRDH_1SDV_20170825T104213_20170825T104238_007095_00C80F_6556.zip', 'S1B_IW_GRDH_1SDV_20170906T104214_20170906T104239_007270_00CD25_4F8F.zip', 'S1B_IW_GRDH_1SDV_20170918T104214_20170918T104239_007445_00D249_A0FC.zip', 'S1B_IW_GRDH_1SDV_20170930T104215_20170930T104240_007620_00D74F_27DD.zip', 'S1B_IW_GRDH_1SDV_20171012T104215_20171012T104240_007795_00DC4C_C014.zip', 'S1B_IW_GRDH_1SDV_20171024T104215_20171024T104240_007970_00E14C_9097.zip', 'S1B_IW_GRDH_1SDV_20171105T104215_20171105T104240_008145_00E654_FADB.zip', 'S1B_IW_GRDH_1SDV_20171117T104215_20171117T104240_008320_00EB98_BFA2.zip', 'S1B_IW_GRDH_1SDV_20171129T104214_20171129T104239_008495_00F103_C116.zip', 'S1B_IW_GRDH_1SDV_20171211T104214_20171211T104239_008670_00F691_F37A.zip', 'S1B_IW_GRDH_1SDV_20171223T104214_20171223T104239_008845_00FC24_E700.zip', 'S1B_IW_GRDH_1SDV_20180104T104213_20180104T104238_009020_0101D3_78E7.zip', 'S1B_IW_GRDH_1SDV_20180116T104213_20180116T104238_009195_010785_5AA7.zip', 'S1B_IW_GRDH_1SDV_20180128T104212_20180128T104237_009370_010D3E_6BBB.zip']\n"
     ]
    }
   ],
   "source": [
    "print(eo_files)"
   ]
  },
  {
   "cell_type": "code",
   "execution_count": 27,
   "metadata": {},
   "outputs": [],
   "source": [
    "## Function to get help of the SNAP operators\n",
    "\n",
    "def Op_help(op):\n",
    "        op_spi = snappy.GPF.getDefaultInstance().getOperatorSpiRegistry().getOperatorSpi(op)\n",
    "        print('Op name: {}'.format(op_spi.getOperatorDescriptor().getName()))\n",
    "        print('Op alias: {}\\n'.format(op_spi.getOperatorDescriptor().getAlias()))\n",
    "        print('PARAMETERS:\\n')\n",
    "        param_Desc = op_spi.getOperatorDescriptor().getParameterDescriptors()\n",
    "        for param in param_Desc:\n",
    "            value_set = param_Desc[0].getValueSet()\n",
    "            if len(value_set) == 0:\n",
    "                print('{}: {}\\nDefault Value: {}\\n'.format(param.getName(),param.getDescription(),param.getDefaultValue()))\n",
    "            else:\n",
    "                print('{}: {}\\nDefault Value: {}\\nPossible param: {}\\n'.format(param.getName(),param.getDescription(),param.getDefaultValue(),list(value_set)))"
   ]
  },
  {
   "cell_type": "code",
   "execution_count": 29,
   "metadata": {},
   "outputs": [
    {
     "name": "stdout",
     "output_type": "stream",
     "text": [
      "org.csa.rstb.classification.gpf.PolarimetricClassificationOp\n",
      "org.csa.rstb.classification.gpf.SupervisedWishartClassificationOp\n",
      "org.csa.rstb.polarimetric.gpf.CrossChannelSNRCorrectionOp\n",
      "org.csa.rstb.polarimetric.gpf.OrientationAngleCorrectionOp\n",
      "org.csa.rstb.polarimetric.gpf.PolarimetricDecompositionOp\n",
      "org.csa.rstb.polarimetric.gpf.PolarimetricMatricesOp\n",
      "org.csa.rstb.polarimetric.gpf.PolarimetricParametersOp\n",
      "org.csa.rstb.polarimetric.gpf.PolarimetricSpeckleFilterOp\n",
      "org.esa.s1tbx.calibration.gpf.CalibrationOp\n",
      "org.esa.s1tbx.calibration.gpf.RemoveAntennaPatternOp\n",
      "org.esa.s1tbx.calibration.gpf.RemoveGRDBorderNoiseOp\n",
      "org.esa.s1tbx.calibration.gpf.Sentinel1RemoveThermalNoiseOp\n",
      "org.esa.s1tbx.fex.gpf.ChangeDetectionOp\n",
      "org.esa.s1tbx.fex.gpf.FindImagePairOp\n",
      "org.esa.s1tbx.fex.gpf.SubGraphOp\n",
      "org.esa.s1tbx.fex.gpf.flood.FloodDetectionOp\n",
      "org.esa.s1tbx.fex.gpf.forest.ForestAreaClassificationOp\n",
      "org.esa.s1tbx.fex.gpf.forest.ForestAreaDetectionOp\n",
      "org.esa.s1tbx.fex.gpf.oceantools.AdaptiveThresholdingOp\n",
      "org.esa.s1tbx.fex.gpf.oceantools.ObjectDiscriminationOp\n",
      "org.esa.s1tbx.fex.gpf.oceantools.OilSpillClusteringOp\n",
      "org.esa.s1tbx.fex.gpf.oceantools.OilSpillDetectionOp\n",
      "org.esa.s1tbx.fex.gpf.oceantools.WindFieldEstimationOp\n",
      "org.esa.s1tbx.fex.gpf.texture.GaborFilterOp\n",
      "org.esa.s1tbx.fex.gpf.urban.SpeckleDivergenceOp\n",
      "org.esa.s1tbx.insar.gpf.CoherenceOp\n",
      "org.esa.s1tbx.insar.gpf.GoldsteinFilterOp\n",
      "org.esa.s1tbx.insar.gpf.IntegerInterferogramOp\n",
      "org.esa.s1tbx.insar.gpf.InterferogramOp\n",
      "org.esa.s1tbx.insar.gpf.OffsetTrackingOp\n",
      "org.esa.s1tbx.insar.gpf.PCAOp\n",
      "org.esa.s1tbx.insar.gpf.PhaseToDisplacementOp\n",
      "org.esa.s1tbx.insar.gpf.PhaseToElevationOp\n",
      "org.esa.s1tbx.insar.gpf.StackAveragingOp\n",
      "org.esa.s1tbx.insar.gpf.StackSplitWriter\n",
      "org.esa.s1tbx.insar.gpf.StampsExportOp\n",
      "org.esa.s1tbx.insar.gpf.coregistration.CreateStackOp\n",
      "org.esa.s1tbx.insar.gpf.coregistration.CrossCorrelationOp\n",
      "org.esa.s1tbx.insar.gpf.coregistration.DEMAssistedCoregistrationOp\n",
      "org.esa.s1tbx.insar.gpf.coregistration.WarpOp\n",
      "org.esa.s1tbx.sar.gpf.DeburstWSSOp\n",
      "org.esa.s1tbx.sar.gpf.MultilookOp\n",
      "org.esa.s1tbx.sar.gpf.filtering.MultiTemporalSpeckleFilterOp\n",
      "org.esa.s1tbx.sar.gpf.filtering.SpeckleFilterOp\n",
      "org.esa.s1tbx.sar.gpf.geometric.ALOSDeskewingOp\n",
      "org.esa.s1tbx.sar.gpf.geometric.EllipsoidCorrectionRDOp\n",
      "org.esa.s1tbx.sar.gpf.geometric.GeolocationGridGeocodingOp\n",
      "org.esa.s1tbx.sar.gpf.geometric.MosaicOp\n",
      "org.esa.s1tbx.sar.gpf.geometric.RangeDopplerGeocodingOp\n",
      "org.esa.s1tbx.sar.gpf.geometric.SARSimTerrainCorrectionOp\n",
      "org.esa.s1tbx.sar.gpf.geometric.SARSimulationOp\n",
      "org.esa.s1tbx.sar.gpf.geometric.SRGROp\n",
      "org.esa.s1tbx.sar.gpf.geometric.TerrainFlatteningOp\n",
      "org.esa.s1tbx.sar.gpf.geometric.UpdateGeoRefOp\n",
      "org.esa.s1tbx.sar.gpf.orbits.ApplyOrbitFileOp\n",
      "org.esa.s1tbx.sentinel1.gpf.BackGeocodingOp\n",
      "org.esa.s1tbx.sentinel1.gpf.DoubleDifferenceInterferogramOp\n",
      "org.esa.s1tbx.sentinel1.gpf.EAPPhaseCorrectionOp\n",
      "org.esa.s1tbx.sentinel1.gpf.GRDPostProcessOp\n",
      "org.esa.s1tbx.sentinel1.gpf.SliceAssemblyOp\n",
      "org.esa.s1tbx.sentinel1.gpf.SpectralDiversityOp\n",
      "org.esa.s1tbx.sentinel1.gpf.TOPSARDeburstOp\n",
      "org.esa.s1tbx.sentinel1.gpf.TOPSARMergeOp\n",
      "org.esa.s1tbx.sentinel1.gpf.TOPSARSplitOp\n",
      "org.esa.s1tbx.utilities.gpf.BandMergeOp\n",
      "org.esa.s1tbx.utilities.gpf.BandSelectOp\n",
      "org.esa.s1tbx.utilities.gpf.DataAnalysisOp\n",
      "org.esa.s1tbx.utilities.gpf.OversamplingOp\n",
      "org.esa.s1tbx.utilities.gpf.SetNoDataValueOp\n",
      "org.esa.s1tbx.utilities.gpf.TestPatternOp\n",
      "org.esa.s1tbx.utilities.gpf.TileWriterOp\n",
      "org.esa.s1tbx.utilities.gpf.UndersamplingOp\n",
      "org.esa.s2tbx.biophysical.BiophysicalOp\n",
      "org.esa.s2tbx.dataio.mosaic.S2tbxMosaicOp\n",
      "org.esa.s2tbx.dataio.mosaic.reproject.S2tbxReprojectionOp\n",
      "org.esa.s2tbx.grm.GenericRegionMergingOp\n",
      "org.esa.s2tbx.processor.mci.S2MciOp\n",
      "org.esa.s2tbx.radiometry.ArviOp\n",
      "org.esa.s2tbx.radiometry.Bi2Op\n",
      "org.esa.s2tbx.radiometry.BiOp\n",
      "org.esa.s2tbx.radiometry.CiOp\n",
      "org.esa.s2tbx.radiometry.DviOp\n",
      "org.esa.s2tbx.radiometry.GemiOp\n",
      "org.esa.s2tbx.radiometry.GndviOp\n",
      "org.esa.s2tbx.radiometry.IpviOp\n",
      "org.esa.s2tbx.radiometry.IreciOp\n",
      "org.esa.s2tbx.radiometry.McariOp\n",
      "org.esa.s2tbx.radiometry.MndwiOp\n",
      "org.esa.s2tbx.radiometry.Msavi2Op\n",
      "org.esa.s2tbx.radiometry.MsaviOp\n",
      "org.esa.s2tbx.radiometry.MtciOp\n",
      "org.esa.s2tbx.radiometry.Ndi45Op\n",
      "org.esa.s2tbx.radiometry.NdpiOp\n",
      "org.esa.s2tbx.radiometry.NdtiOp\n",
      "org.esa.s2tbx.radiometry.Ndwi2Op\n",
      "org.esa.s2tbx.radiometry.NdwiOp\n",
      "org.esa.s2tbx.radiometry.PssraOp\n",
      "org.esa.s2tbx.radiometry.PviOp\n",
      "org.esa.s2tbx.radiometry.ReipOp\n",
      "org.esa.s2tbx.radiometry.RiOp\n",
      "org.esa.s2tbx.radiometry.RviOp\n",
      "org.esa.s2tbx.radiometry.S2repOp\n",
      "org.esa.s2tbx.radiometry.SaviOp\n",
      "org.esa.s2tbx.radiometry.TndviOp\n",
      "org.esa.s2tbx.radiometry.TsaviOp\n",
      "org.esa.s2tbx.radiometry.WdviOp\n",
      "org.esa.s2tbx.reflectance2radiance.ReflectanceToRadianceOp\n",
      "org.esa.s2tbx.s2msi.aerosol.CreateElevationBandOp\n",
      "org.esa.s2tbx.s2msi.aerosol.S2AerosolGapFillingOp\n",
      "org.esa.s2tbx.s2msi.aerosol.S2AerosolMsiPreparationOp\n",
      "org.esa.s2tbx.s2msi.aerosol.S2AerosolOp\n",
      "org.esa.s2tbx.s2msi.aerosol.S2AerosolRetrievalMasterOp\n",
      "org.esa.s2tbx.s2msi.aerosol.S2AerosolTypeOp\n",
      "org.esa.s2tbx.s2msi.aerosol.S2AerosolUpscaleOp\n",
      "org.esa.s2tbx.s2msi.idepix.algorithms.sentinel2.S2IdepixClassificationOp\n",
      "org.esa.s2tbx.s2msi.idepix.algorithms.sentinel2.S2IdepixOp\n",
      "org.esa.s2tbx.s2msi.idepix.algorithms.sentinel2.S2IdepixPostProcessOp\n",
      "org.esa.s2tbx.s2msi.idepix.operators.S2IdepixCloudBufferOp\n",
      "org.esa.s2tbx.s2msi.idepix.operators.cloudshadow.S2IdepixCloudShadowOp\n",
      "org.esa.s2tbx.s2msi.resampler.S2ResamplingOp\n",
      "org.esa.s2tbx.s2msi.wv.S2WaterVapourRetrievalOp\n",
      "org.esa.s3tbx.aatsr.regrid.AatsrUngriddingOp\n",
      "org.esa.s3tbx.aatsr.sst.AatsrSstOp\n",
      "org.esa.s3tbx.aerosol.AerosolOp\n",
      "org.esa.s3tbx.aerosol.AerosolRetrievalMasterOp\n",
      "org.esa.s3tbx.aerosol.CreateElevationBandOp\n",
      "org.esa.s3tbx.aerosol.GapFillingOp\n",
      "org.esa.s3tbx.aerosol.MerisPreparationOp\n",
      "org.esa.s3tbx.aerosol.UpscaleOp\n",
      "org.esa.s3tbx.aerosol.VgtPreparationOp\n",
      "org.esa.s3tbx.arc.ArcSstOp\n",
      "org.esa.s3tbx.c2rcc.C2rccOperator\n",
      "org.esa.s3tbx.c2rcc.landsat.C2rccLandsat7Operator\n",
      "org.esa.s3tbx.c2rcc.landsat.C2rccLandsat8Operator\n",
      "org.esa.s3tbx.c2rcc.meris.C2rccMerisOperator\n",
      "org.esa.s3tbx.c2rcc.meris4.C2rccMeris4Operator\n",
      "org.esa.s3tbx.c2rcc.modis.C2rccModisOperator\n",
      "org.esa.s3tbx.c2rcc.msi.C2rccMsiOperator\n",
      "org.esa.s3tbx.c2rcc.olci.C2rccOlciOperator\n",
      "org.esa.s3tbx.c2rcc.seawifs.C2rccSeaWiFSOperator\n",
      "org.esa.s3tbx.c2rcc.viirs.C2rccViirsOperator\n",
      "org.esa.s3tbx.fu.FuOp\n",
      "org.esa.s3tbx.fub.wew.WaterProcessorOp\n",
      "org.esa.s3tbx.idepix.algorithms.avhrr.AbstractAvhrrClassificationOp\n",
      "org.esa.s3tbx.idepix.algorithms.avhrr.AvhrrOp\n",
      "org.esa.s3tbx.idepix.algorithms.avhrr.AvhrrPostProcessOp\n",
      "org.esa.s3tbx.idepix.algorithms.avhrr.AvhrrUSGSClassificationOp\n",
      "org.esa.s3tbx.idepix.algorithms.landsat8.ClostOp\n",
      "org.esa.s3tbx.idepix.algorithms.landsat8.Landsat8ClassificationOp\n",
      "org.esa.s3tbx.idepix.algorithms.landsat8.Landsat8Op\n",
      "org.esa.s3tbx.idepix.algorithms.landsat8.Landsat8PostProcessOp\n",
      "org.esa.s3tbx.idepix.algorithms.landsat8.OtsuBinarizeOp\n",
      "org.esa.s3tbx.idepix.algorithms.meris.MerisLandClassificationOp\n",
      "org.esa.s3tbx.idepix.algorithms.meris.MerisMergeLandWaterOp\n",
      "org.esa.s3tbx.idepix.algorithms.meris.MerisOp\n",
      "org.esa.s3tbx.idepix.algorithms.meris.MerisPostProcessOp\n",
      "org.esa.s3tbx.idepix.algorithms.meris.MerisWaterClassificationOp\n",
      "org.esa.s3tbx.idepix.algorithms.modis.ModisClassificationOp\n",
      "org.esa.s3tbx.idepix.algorithms.modis.ModisOp\n",
      "org.esa.s3tbx.idepix.algorithms.modis.ModisPostProcessOp\n",
      "org.esa.s3tbx.idepix.algorithms.olci.OlciLandClassificationOp\n",
      "org.esa.s3tbx.idepix.algorithms.olci.OlciMergeLandWaterOp\n",
      "org.esa.s3tbx.idepix.algorithms.olci.OlciOp\n",
      "org.esa.s3tbx.idepix.algorithms.olci.OlciPostProcessOp\n",
      "org.esa.s3tbx.idepix.algorithms.olci.OlciWaterClassificationOp\n",
      "org.esa.s3tbx.idepix.algorithms.olcislstr.OlciSlstrClassificationOp\n",
      "org.esa.s3tbx.idepix.algorithms.olcislstr.OlciSlstrOp\n",
      "org.esa.s3tbx.idepix.algorithms.olcislstr.OlciSlstrPostProcessOp\n",
      "org.esa.s3tbx.idepix.algorithms.probav.ProbaVClassificationOp\n",
      "org.esa.s3tbx.idepix.algorithms.probav.ProbaVOp\n",
      "org.esa.s3tbx.idepix.algorithms.probav.ProbaVPostProcessOp\n",
      "org.esa.s3tbx.idepix.algorithms.seawifs.SeaWifsClassificationOp\n",
      "org.esa.s3tbx.idepix.algorithms.seawifs.SeaWifsOp\n",
      "org.esa.s3tbx.idepix.algorithms.seawifs.SeaWifsPostProcessOp\n",
      "org.esa.s3tbx.idepix.algorithms.vgt.VgtClassificationOp\n"
     ]
    },
    {
     "name": "stdout",
     "output_type": "stream",
     "text": [
      "org.esa.s3tbx.idepix.algorithms.vgt.VgtOp\n",
      "org.esa.s3tbx.idepix.algorithms.vgt.VgtPostProcessOp\n",
      "org.esa.s3tbx.idepix.algorithms.viirs.ViirsClassificationOp\n",
      "org.esa.s3tbx.idepix.algorithms.viirs.ViirsOp\n",
      "org.esa.s3tbx.idepix.algorithms.viirs.ViirsPostProcessOp\n",
      "org.esa.s3tbx.idepix.operators.CloudBufferOp\n",
      "org.esa.s3tbx.idepix.operators.IdepixPostProcessingOp\n",
      "org.esa.s3tbx.meris.FillAerosolOp\n",
      "org.esa.s3tbx.meris.FillBandOp\n",
      "org.esa.s3tbx.meris.GapLessSdrOp\n",
      "org.esa.s3tbx.meris.L3ToL1Op\n",
      "org.esa.s3tbx.meris.N1PatcherOp\n",
      "org.esa.s3tbx.meris.RRToFRSOp\n",
      "org.esa.s3tbx.meris.aerosol.AerosolMergerOp\n",
      "org.esa.s3tbx.meris.aerosol.ModisAerosolOp\n",
      "org.esa.s3tbx.meris.brr.CloudClassificationOp\n",
      "org.esa.s3tbx.meris.brr.GaseousCorrectionOp\n",
      "org.esa.s3tbx.meris.brr.LandClassificationOp\n",
      "org.esa.s3tbx.meris.brr.RayleighCorrectionOp\n",
      "org.esa.s3tbx.meris.brr.SmileCorrectionOp\n",
      "org.esa.s3tbx.meris.brr.operator.BrrOp\n",
      "org.esa.s3tbx.meris.cloud.BlueBandOp\n",
      "org.esa.s3tbx.meris.cloud.CloudProbabilityOp\n",
      "org.esa.s3tbx.meris.cloud.CloudShadowOp\n",
      "org.esa.s3tbx.meris.cloud.CloudTopPressureOp\n",
      "org.esa.s3tbx.meris.cloud.CombinedCloudOp\n",
      "org.esa.s3tbx.meris.radiometry.MerisRadiometryCorrectionOp\n",
      "org.esa.s3tbx.meris.sdr.SdrOp\n",
      "org.esa.s3tbx.mphchl.MphChlBasisOp\n",
      "org.esa.s3tbx.mphchl.MphChlMerisOp\n",
      "org.esa.s3tbx.mphchl.MphChlOlciOp\n",
      "org.esa.s3tbx.mphchl.MphChlOp\n",
      "org.esa.s3tbx.olci.radiometry.gasabsorption.GaseousAbsorptionOp\n",
      "org.esa.s3tbx.olci.radiometry.rayleigh.RayleighCorrectionOp\n",
      "org.esa.s3tbx.olci.radiometry.smilecorr.SmileCorrectionOp\n",
      "org.esa.s3tbx.operator.cloud.CloudOperator\n",
      "org.esa.s3tbx.owt.OWTClassificationOp\n",
      "org.esa.s3tbx.processor.flh_mci.FlhMciOp\n",
      "org.esa.s3tbx.processor.rad2refl.Rad2ReflOp\n",
      "org.esa.s3tbx.slstr.pdu.stitching.PDUStitchingOp\n",
      "org.esa.s3tbx.smac.SmacOperator\n",
      "org.esa.snap.binning.operator.BinningOp\n",
      "org.esa.snap.classification.gpf.kdtknn.KDTreeKNNClassifierOp\n",
      "org.esa.snap.classification.gpf.knn.KNNClassifierOp\n",
      "org.esa.snap.classification.gpf.maximumlikelihood.MaximumLikelihoodClassifierOp\n",
      "org.esa.snap.classification.gpf.minimumdistance.MinimumDistanceClassifierOp\n",
      "org.esa.snap.classification.gpf.randomForest.RandomForestClassifierOp\n",
      "org.esa.snap.cluster.EMClusterOp\n",
      "org.esa.snap.cluster.KMeansClusterOp\n",
      "org.esa.snap.cluster.PrincipalComponentAnalysisOp\n",
      "org.esa.snap.collocation.CollocateOp\n",
      "org.esa.snap.core.gpf.common.BandMathsOp\n",
      "org.esa.snap.core.gpf.common.ImportVectorOp\n",
      "org.esa.snap.core.gpf.common.MergeOp\n",
      "org.esa.snap.core.gpf.common.MosaicOp\n",
      "org.esa.snap.core.gpf.common.PassThroughOp\n",
      "org.esa.snap.core.gpf.common.ProductSetReaderOp\n",
      "org.esa.snap.core.gpf.common.ReadOp\n",
      "org.esa.snap.core.gpf.common.SubsetOp\n",
      "org.esa.snap.core.gpf.common.WriteOp\n",
      "org.esa.snap.core.gpf.common.WriteRGBOp\n",
      "org.esa.snap.core.gpf.common.reproject.ReprojectionOp\n",
      "org.esa.snap.core.gpf.common.resample.ResamplingOp\n",
      "org.esa.snap.core.gpf.operators.tooladapter.ToolAdapterOpSpi@7f680a9a\n",
      "org.esa.snap.dem.gpf.AddElevationOp\n",
      "org.esa.snap.dem.gpf.FillDEMHoleOp\n",
      "org.esa.snap.landcover.gpf.AddLandCoverOp\n",
      "org.esa.snap.landcover.gpf.LandCoverMaskOp\n",
      "org.esa.snap.ndvi.NdviOp\n",
      "org.esa.snap.pixex.PixExOp\n",
      "org.esa.snap.python.gpf.PyOperatorSpi@2d6abfc7\n",
      "org.esa.snap.raster.gpf.ConvertDataTypeOp\n",
      "org.esa.snap.raster.gpf.FilterOperator\n",
      "org.esa.snap.raster.gpf.FlipOp\n",
      "org.esa.snap.raster.gpf.LinearTodBOp\n",
      "org.esa.snap.raster.gpf.ReplaceMetadataOp\n",
      "org.esa.snap.raster.gpf.masks.CreateLandMaskOp\n",
      "org.esa.snap.raster.gpf.masks.TerrainMaskOp\n",
      "org.esa.snap.raster.gpf.texture.GLCMOp\n",
      "org.esa.snap.smart.configurator.StoredGraphOp\n",
      "org.esa.snap.statistics.StatisticsOp\n",
      "org.esa.snap.statistics.percentile.interpolated.TemporalPercentileOp\n",
      "org.esa.snap.unmixing.SpectralUnmixingOp\n",
      "org.esa.snap.watermask.operator.WatermaskOp\n",
      "org.jlinda.nest.dataio.SnaphuExportOp\n",
      "org.jlinda.nest.dataio.SnaphuImportOp\n",
      "org.jlinda.nest.gpf.AzimuthFilterOp\n",
      "org.jlinda.nest.gpf.CrossResamplingOp\n",
      "org.jlinda.nest.gpf.DInSAROp\n",
      "org.jlinda.nest.gpf.PhaseFilterOp\n",
      "org.jlinda.nest.gpf.RangeFilterOp\n",
      "org.jlinda.nest.gpf.SimulateAmplitudeOp\n",
      "org.jlinda.nest.gpf.Slant2HeightOp\n",
      "org.jlinda.nest.gpf.SubtRefDemOp\n",
      "org.jlinda.nest.gpf.unwrapping.UnwrapOp\n",
      "org.jlinda.nest.gpf.unwrapping.external.StitchOp\n"
     ]
    }
   ],
   "source": [
    "## Get a list of all Sentinel-1 toolbox operators\n",
    "\n",
    "op_spi = snappy.GPF.getDefaultInstance().getOperatorSpiRegistry().getOperatorSpis().toString()\n",
    "op_list = op_spi.split(', ')\n",
    "listname = []\n",
    "for op_str in op_list:\n",
    "    to_add = op_str\n",
    "    if op_str[0] == '[': to_add = op_str[1:]\n",
    "    elif op_str[-1] == ']': to_add = op_str[:-1]\n",
    "    #if to_add.split('.')[2] == 's1tbx':\n",
    "    listname.append(to_add.split('$')[0])\n",
    "listname.sort()\n",
    "for name in listname:\n",
    "    print(name)"
   ]
  },
  {
   "cell_type": "code",
   "execution_count": 31,
   "metadata": {},
   "outputs": [
    {
     "name": "stdout",
     "output_type": "stream",
     "text": [
      "Op name: org.esa.snap.collocation.CollocateOp\n",
      "Op alias: Collocate\n",
      "\n",
      "PARAMETERS:\n",
      "\n",
      "targetProductName: The name of the target product\n",
      "Default Value: _collocated\n",
      "\n",
      "targetProductType: The product type string for the target product (informal)\n",
      "Default Value: COLLOCATED\n",
      "\n",
      "renameMasterComponents: Whether or not components of the master product shall be renamed in the target product.\n",
      "Default Value: true\n",
      "\n",
      "renameSlaveComponents: Whether or not components of the slave product shall be renamed in the target product.\n",
      "Default Value: true\n",
      "\n",
      "masterComponentPattern: The text pattern to be used when renaming master components.\n",
      "Default Value: ${ORIGINAL_NAME}_M\n",
      "\n",
      "slaveComponentPattern: The text pattern to be used when renaming slave components.\n",
      "Default Value: ${ORIGINAL_NAME}_S\n",
      "\n",
      "resamplingType: The method to be used when resampling the slave grid onto the master grid.\n",
      "Default Value: NEAREST_NEIGHBOUR\n",
      "\n"
     ]
    }
   ],
   "source": [
    "Op_help(\"Collocate\")\n",
    "#Op_help(\"Cross-Correlation\")"
   ]
  },
  {
   "cell_type": "code",
   "execution_count": 24,
   "metadata": {},
   "outputs": [],
   "source": [
    "# \n",
    "eo_direc = 'D:/eo_data/Ibague/data/'\n",
    "\n",
    "## Create a dictionary to read Sentinel-1 L1 GRD products\n",
    "product = {}\n",
    "for element in eo_files:\n",
    "    product[element[:-4]] = {}"
   ]
  },
  {
   "cell_type": "code",
   "execution_count": 25,
   "metadata": {},
   "outputs": [
    {
     "data": {
      "text/plain": [
       "['S1B_IW_GRDH_1SDV_20170918T104214_20170918T104239_007445_00D249_A0FC',\n",
       " 'S1B_IW_GRDH_1SDV_20170720T104212_20170720T104237_006570_00B8E0_29C0',\n",
       " 'S1B_IW_GRDH_1SDV_20171012T104215_20171012T104240_007795_00DC4C_C014',\n",
       " 'S1B_IW_GRDH_1SDV_20170906T104214_20170906T104239_007270_00CD25_4F8F',\n",
       " 'S1B_IW_GRDH_1SDV_20171129T104214_20171129T104239_008495_00F103_C116',\n",
       " 'S1B_IW_GRDH_1SDV_20170626T104210_20170626T104235_006220_00AEED_0591',\n",
       " 'S1B_IW_GRDH_1SDV_20180128T104212_20180128T104237_009370_010D3E_6BBB',\n",
       " 'S1B_IW_GRDH_1SDV_20171223T104214_20171223T104239_008845_00FC24_E700',\n",
       " 'S1B_IW_GRDH_1SDV_20171105T104215_20171105T104240_008145_00E654_FADB',\n",
       " 'S1B_IW_GRDH_1SDV_20170708T104211_20170708T104236_006395_00B3E1_4D33',\n",
       " 'S1B_IW_GRDH_1SDV_20170930T104215_20170930T104240_007620_00D74F_27DD',\n",
       " 'S1B_IW_GRDH_1SDV_20170614T104210_20170614T104235_006045_00A9D7_4B41',\n",
       " 'S1B_IW_GRDH_1SDV_20171024T104215_20171024T104240_007970_00E14C_9097',\n",
       " 'S1B_IW_GRDH_1SDV_20171211T104214_20171211T104239_008670_00F691_F37A',\n",
       " 'S1B_IW_GRDH_1SDV_20170801T104212_20170801T104237_006745_00BDE6_F318',\n",
       " 'S1B_IW_GRDH_1SDV_20180116T104213_20180116T104238_009195_010785_5AA7',\n",
       " 'S1B_IW_GRDH_1SDV_20170825T104213_20170825T104238_007095_00C80F_6556',\n",
       " 'S1B_IW_GRDH_1SDV_20180104T104213_20180104T104238_009020_0101D3_78E7',\n",
       " 'S1B_IW_GRDH_1SDV_20170602T104209_20170602T104234_005870_00A4B1_774C',\n",
       " 'S1B_IW_GRDH_1SDV_20170813T104213_20170813T104238_006920_00C2FF_99FD',\n",
       " 'S1B_IW_GRDH_1SDV_20171117T104215_20171117T104240_008320_00EB98_BFA2']"
      ]
     },
     "execution_count": 25,
     "metadata": {},
     "output_type": "execute_result"
    }
   ],
   "source": [
    "list(product.keys())"
   ]
  },
  {
   "cell_type": "code",
   "execution_count": 26,
   "metadata": {},
   "outputs": [],
   "source": [
    "#rint(type(product))\n",
    "\n",
    "# Define the area of interest\n",
    "WKTReader = snappy.jpy.get_type('com.vividsolutions.jts.io.WKTReader')\n",
    "regPath = \"//dapadfs/workspace_cluster_6/TRANSVERSAL_PROJECTS/MADR/COMPONENTE_2/Imagenes_Satelitales/Sentinel_2/\" + \\\n",
    "                      \"JSON_Ibague/IbagueJSON.geojson\"\n",
    "geom = geojson_to_wkt(read_geojson(regPath))\n",
    "\n",
    "# Define polarizations of interest\n",
    "polarizations = ['VV', 'VH']\n",
    "\n",
    "# create the orbit product\n",
    "#product = GPF.createProduct(\"Apply-Orbit-File\", apply_orbit, product)\n",
    "#product.dispose()\n",
    "\n",
    "for key, value in product.iteritems():    \n",
    "    # Read the product\n",
    "    value['GRD'] = ProductIO.readProduct(eo_direc+key+'.SAFE/manifest.safe')\n",
    "    \n",
    "    # Apply orbit\n",
    "    param_orbit = HashMap()\n",
    "    value['orbit'] = GPF.createProduct(\"Apply-Orbit-File\", param_orbit, value['GRD'])\n",
    "    \n",
    "    # The following operations are specific por each polarization    \n",
    "    for pol in polarizations:\n",
    "        # Radiometric calibration\n",
    "        param_calibration = HashMap()\n",
    "        param_calibration.put('outputSigmaBand', True)\n",
    "        param_calibration.put('sourceBands', 'Intensity_' + pol)\n",
    "        param_calibration.put('selectedPolarisations', pol)\n",
    "        param_calibration.put('outputImageScaleInDb', False)\n",
    "        value['calibration_'+pol] = GPF.createProduct(\"Calibration\", param_calibration, value['orbit'])\n",
    "        \n",
    "        # Terrain correction\n",
    "        param_terraincor = HashMap()\n",
    "        param_terraincor.put('demResamplingMethod', 'NEAREST_NEIGHBOUR')\n",
    "        param_terraincor.put('imgResamplingMethod', 'NEAREST_NEIGHBOUR')\n",
    "        param_terraincor.put('applyRadiometricNormalization', True)\n",
    "        param_terraincor.put('demName', 'SRTM 3Sec')\n",
    "        param_terraincor.put('pixelSpacingInMeter', 10.0)\n",
    "        param_terraincor.put('sourceBands', 'Sigma0_' + pol)\n",
    "        param_terraincor.put('mapProjection', 'WGS84(DD)')\n",
    "        value['terraincor_'+pol] = GPF.createProduct(\"Terrain-Correction\", param_terraincor, value['calibration_'+pol])\n",
    "        \n",
    "        # Subset to area of interest\n",
    "        param_subset = HashMap()\n",
    "        param_subset.put('geoRegion', geom)\n",
    "        param_subset.put('outputImageScaleInDb', False)\n",
    "        param_subset.put('sourceBandNames', 'Sigma0_' + pol)\n",
    "        value['region_'+pol] = GPF.createProduct(\"Subset\", param_subset, value['terraincor_'+pol])\n",
    "        \n",
    "        # define the name of the output\n",
    "        output_name = eo_direc + 'prep/' + key + \"_\" + pol + \"_\"\n",
    "        \n",
    "        # Write the results to files\n",
    "        ProductIO.writeProduct(value['region_'+pol], output_name, 'BEAM-DIMAP')\n",
    "        \n",
    "        # dispose all the intermediate products\n",
    "        value['calibration_'+pol].dispose()\n",
    "        value['terraincor_'+pol].dispose()\n",
    "        value['region_'+pol].dispose()\n",
    "        \n",
    "    #dispose all the intermediate products\n",
    "    value['GRD'].dispose()\n",
    "    value['orbit'].dispose()\n",
    "\n",
    "# write the results\n",
    "# ProductIO.writeProduct(orbit_pro, orbit_output, 'BEAM-DIMAP')\n",
    "# print orbit_output + ' was written'"
   ]
  },
  {
   "cell_type": "markdown",
   "metadata": {},
   "source": [
    "The next pre-processing steps need to be done for each polarization"
   ]
  },
  {
   "cell_type": "code",
   "execution_count": 18,
   "metadata": {},
   "outputs": [
    {
     "data": {
      "text/plain": [
       "['Amplitude_VH', 'Intensity_VH', 'Amplitude_VV', 'Intensity_VV']"
      ]
     },
     "execution_count": 18,
     "metadata": {},
     "output_type": "execute_result"
    }
   ],
   "source": [
    "for pol in polarizations:\n",
    "    for key, value "
   ]
  },
  {
   "cell_type": "code",
   "execution_count": 6,
   "metadata": {},
   "outputs": [],
   "source": [
    "\n",
    "# define the calibration parameters\n",
    "calibration = HashMap()\n",
    "calibration.put('outputSigmaBand', True)\n",
    "calibration.put('sourceBands', 'Intensity_' + 'VV')\n",
    "calibration.put('selectedPolarisations', 'VV')\n",
    "calibration.put('outputImageScaleInDb', False)\n",
    "\n",
    "name = product.getName()[:32]\n",
    "#calib = \"C:/Users/asalazar/Documents/Ibague/\" + name + \"_calibrate_\" + 'VV'\n",
    "\n",
    "product = GPF.createProduct(\"Calibration\", calibration, product)\n",
    "#orbit_pro.dispose()\n",
    "\n",
    "#ProductIO.writeProduct(calib_pro, calib, 'BEAM-DIMAP')\n",
    "#print 'the calibration product was writed'\n",
    "#calibrates.append(calib_pro)"
   ]
  },
  {
   "cell_type": "markdown",
   "metadata": {},
   "source": [
    "### Speckle filtering \n",
    "\n",
    "How is it different time-series speckle filtering?"
   ]
  },
  {
   "cell_type": "code",
   "execution_count": 8,
   "metadata": {},
   "outputs": [],
   "source": [
    "\n",
    "# define the speckle filtering parameters\n",
    "specklefilter = HashMap()\n",
    "specklefilter.put('outputSigmaBand', True)\n",
    "specklefilter.put('sourceBandNames', 'Sigma0_' + 'VV')\n",
    "specklefilter.put('filter', 'Gamma Map')\n",
    "\n",
    "product = GPF.createProduct(\"Speckle-Filter\", specklefilter, product)\n",
    "#calib_pro.dispose()\n",
    "\n",
    "#name = calib_pro.getName()[:32]\n",
    "#speckle_output = speckle_path + name + \"_spk_\" + polarization\n",
    "#ProductIO.writeProduct(speckle_pro, speckle_output, 'BEAM-DIMAP')\n",
    "#filters.append(speckle_pro)"
   ]
  },
  {
   "cell_type": "code",
   "execution_count": 43,
   "metadata": {},
   "outputs": [
    {
     "data": {
      "text/plain": [
       "['S1B_IW_GRDH_1SDV_20170602T104209_20170602T104234_005870_00A4B1_774C_VV_.dim',\n",
       " 'S1B_IW_GRDH_1SDV_20170614T104210_20170614T104235_006045_00A9D7_4B41_VV_.dim',\n",
       " 'S1B_IW_GRDH_1SDV_20170626T104210_20170626T104235_006220_00AEED_0591_VV_.dim',\n",
       " 'S1B_IW_GRDH_1SDV_20170708T104211_20170708T104236_006395_00B3E1_4D33_VV_.dim',\n",
       " 'S1B_IW_GRDH_1SDV_20170720T104212_20170720T104237_006570_00B8E0_29C0_VV_.dim',\n",
       " 'S1B_IW_GRDH_1SDV_20170801T104212_20170801T104237_006745_00BDE6_F318_VV_.dim',\n",
       " 'S1B_IW_GRDH_1SDV_20170813T104213_20170813T104238_006920_00C2FF_99FD_VV_.dim',\n",
       " 'S1B_IW_GRDH_1SDV_20170825T104213_20170825T104238_007095_00C80F_6556_VV_.dim',\n",
       " 'S1B_IW_GRDH_1SDV_20170906T104214_20170906T104239_007270_00CD25_4F8F_VV_.dim',\n",
       " 'S1B_IW_GRDH_1SDV_20170918T104214_20170918T104239_007445_00D249_A0FC_VV_.dim',\n",
       " 'S1B_IW_GRDH_1SDV_20170930T104215_20170930T104240_007620_00D74F_27DD_VV_.dim',\n",
       " 'S1B_IW_GRDH_1SDV_20171012T104215_20171012T104240_007795_00DC4C_C014_VV_.dim',\n",
       " 'S1B_IW_GRDH_1SDV_20171024T104215_20171024T104240_007970_00E14C_9097_VV_.dim',\n",
       " 'S1B_IW_GRDH_1SDV_20171105T104215_20171105T104240_008145_00E654_FADB_VV_.dim',\n",
       " 'S1B_IW_GRDH_1SDV_20171117T104215_20171117T104240_008320_00EB98_BFA2_VV_.dim',\n",
       " 'S1B_IW_GRDH_1SDV_20171129T104214_20171129T104239_008495_00F103_C116_VV_.dim',\n",
       " 'S1B_IW_GRDH_1SDV_20171211T104214_20171211T104239_008670_00F691_F37A_VV_.dim',\n",
       " 'S1B_IW_GRDH_1SDV_20171223T104214_20171223T104239_008845_00FC24_E700_VV_.dim',\n",
       " 'S1B_IW_GRDH_1SDV_20180104T104213_20180104T104238_009020_0101D3_78E7_VV_.dim',\n",
       " 'S1B_IW_GRDH_1SDV_20180116T104213_20180116T104238_009195_010785_5AA7_VV_.dim',\n",
       " 'S1B_IW_GRDH_1SDV_20180128T104212_20180128T104237_009370_010D3E_6BBB_VV_.dim']"
      ]
     },
     "execution_count": 43,
     "metadata": {},
     "output_type": "execute_result"
    }
   ],
   "source": [
    "import os, re\n",
    "\n",
    "prep_files = os.listdir(os.getcwd()+'\\data\\prep')\n",
    "pre_VV = filter(re.compile(r'VV_\\.dim').search, prep_files)\n",
    "pre_VH = filter(re.compile(r'VH_\\.dim').search, prep_files)\n",
    " \n",
    "list(pre_VV) \n",
    "list(pre_VH)"
   ]
  },
  {
   "cell_type": "code",
   "execution_count": 46,
   "metadata": {},
   "outputs": [],
   "source": [
    "## Read all the VV files and store in a list (idea: then interate into list to collocate and apply speckle filtering)\n",
    "VV_l = []\n",
    "for eofile in pre_VV:\n",
    "    VV_l.append(ProductIO.readProduct(os.getcwd()+'/data/prep/' + eofile))\n",
    "    "
   ]
  },
  {
   "cell_type": "code",
   "execution_count": 44,
   "metadata": {},
   "outputs": [
    {
     "ename": "SyntaxError",
     "evalue": "EOL while scanning string literal (<ipython-input-44-c103cd0b1466>, line 34)",
     "output_type": "error",
     "traceback": [
      "\u001b[1;36m  File \u001b[1;32m\"<ipython-input-44-c103cd0b1466>\"\u001b[1;36m, line \u001b[1;32m34\u001b[0m\n\u001b[1;33m    \"\"\"\"\u001b[0m\n\u001b[1;37m        \n^\u001b[0m\n\u001b[1;31mSyntaxError\u001b[0m\u001b[1;31m:\u001b[0m EOL while scanning string literal\n"
     ]
    }
   ],
   "source": [
    "## Multitemporal speckle filtering\n",
    "\n",
    "\n",
    "## First it is necessary to stack the bands using collocation\n",
    "\n",
    "\"\"\"\"\n",
    "Op alias: Collocate\n",
    "\n",
    "PARAMETERS:\n",
    "\n",
    "targetProductName: The name of the target product\n",
    "Default Value: _collocated\n",
    "\n",
    "targetProductType: The product type string for the target product (informal)\n",
    "Default Value: COLLOCATED\n",
    "\n",
    "renameMasterComponents: Whether or not components of the master product shall be renamed in the target product.\n",
    "Default Value: true\n",
    "\n",
    "renameSlaveComponents: Whether or not components of the slave product shall be renamed in the target product.\n",
    "Default Value: true\n",
    "\n",
    "masterComponentPattern: The text pattern to be used when renaming master components.\n",
    "Default Value: ${ORIGINAL_NAME}_M\n",
    "\n",
    "slaveComponentPattern: The text pattern to be used when renaming slave components.\n",
    "Default Value: ${ORIGINAL_NAME}_S\n",
    "\n",
    "resamplingType: The method to be used when resampling the slave grid onto the master grid.\n",
    "Default Value: NEAREST_NEIGHBOUR\n",
    "\"\"\"\"\n",
    "\n",
    "param_coll = HashMap()\n",
    "param_coll.put(\"master\", mProduct)\n",
    "param_coll.put(\"slave\", sProduct)\n",
    "param_coll.put('masterComponentPattern', '${ORIGINAL_NAME}_'+identity)\n",
    "param_coll.put('masterComponentPattern', '${ORIGINAL_NAME}_'+identity)\n",
    "\n",
    "\n",
    "# Then you can do it\n",
    "param_specklefilter = HashMap()\n",
    "param_specklefilter.put('sourceBandNames', [])\n",
    "param_specklefilter.put('filter', 'Lee Sigma')\n",
    "param_specklefilter.put()\n",
    "\n",
    "Op alias: \n",
    "\n",
    "product = GPF.createProduct('Multi-Temporal-Speckle-Filter', out_file, in_product)\n",
    "\n",
    "\n",
    "filter: None\n",
    "Default Value: Lee Sigma\n",
    "\n",
    "filterSizeX: The kernel x dimension\n",
    "Default Value: 3\n",
    "\n",
    "filterSizeY: The kernel y dimension\n",
    "Default Value: 3\n",
    "\n",
    "dampingFactor: The damping factor (Frost filter only)\n",
    "Default Value: 2\n",
    "\n",
    "estimateENL: None\n",
    "Default Value: false\n",
    "\n",
    "enl: The number of looks\n",
    "Default Value: 1.0\n",
    "\n",
    "numLooksStr: None\n",
    "Default Value: 1\n",
    "\n",
    "windowSize: None\n",
    "Default Value: 7x7\n",
    "\n",
    "targetWindowSizeStr: None\n",
    "Default Value: 3x3\n",
    "\n",
    "sigmaStr: None\n",
    "Default Value: 0.9\n",
    "\n",
    "anSize: The Adaptive Neighbourhood size\n",
    "Default Value: 50\n"
   ]
  },
  {
   "cell_type": "markdown",
   "metadata": {},
   "source": [
    "### Terrain correction"
   ]
  },
  {
   "cell_type": "code",
   "execution_count": 9,
   "metadata": {},
   "outputs": [],
   "source": [
    "\n",
    "# define terrain correction parameters\n",
    "terrain_correction = HashMap()\n",
    "terrain_correction.put('demResamplingMethod', 'NEAREST_NEIGHBOUR')\n",
    "terrain_correction.put('imgResamplingMethod', 'NEAREST_NEIGHBOUR')\n",
    "terrain_correction.put('applyRadiometricNormalization', True)\n",
    "terrain_correction.put('demName', 'SRTM 3Sec')\n",
    "terrain_correction.put('pixelSpacingInMeter', 10.0)\n",
    "terrain_correction.put('sourceBands', 'Sigma0_' + 'VV')\n",
    "terrain_correction.put('mapProjection', 'WGS84(DD)')\n",
    "\n",
    "#terrain_correction.put('saveSigmaNought', True)\n",
    "#terrain_correction.put('incidenceAngleForSigma0', 'Use projected local incidence angle from DEM')\n",
    "\n",
    "product = GPF.createProduct(\"Terrain-Correction\", terrain_correction, product)\n",
    "#speckle_pro.dispose()\n",
    "\n",
    "#terrain_output = terrain_path + name + \"_corrected_\" + polarization\n",
    "#ProductIO.writeProduct(terrain_pro, terrain_output, 'BEAM-DIMAP')"
   ]
  },
  {
   "cell_type": "markdown",
   "metadata": {},
   "source": [
    "### Subset area of interest"
   ]
  },
  {
   "cell_type": "code",
   "execution_count": 15,
   "metadata": {},
   "outputs": [],
   "source": [
    "#def SubsetSentProduct(products,polarization,wkt,Subset_path,write_Product):\n",
    "\n",
    "# read the polygon to make the subset\n",
    "WKTReader = snappy.jpy.get_type('com.vividsolutions.jts.io.WKTReader')\n",
    "geom = geojson_to_wkt(read_geojson(pathJSONFile))\n",
    "\n",
    "# subset operation parameters\n",
    "subsettings = HashMap()\n",
    "subsettings.put('geoRegion', geom)\n",
    "subsettings.put('outputImageScaleInDb', False)\n",
    "subsettings.put('sourceBandNames', 'Sigma0_' + 'VV')\n",
    "\n",
    "product = GPF.createProduct(\"Subset\", subsettings, product)\n",
    "#terrain_pro.dispose()\n",
    "\n",
    "\n",
    "#name = product.getName()[:32]\n",
    "#ProductIO.writeProduct(SubsetProduct, Subset_output, 'BEAM-DIMAP')\n",
    "#print 'the Subset product was writed'\n",
    "#subsets.append(SubsetProduct)\n",
    "#return(subsets)"
   ]
  },
  {
   "cell_type": "markdown",
   "metadata": {},
   "source": [
    "### Logaritmic transformation (to dB)"
   ]
  },
  {
   "cell_type": "code",
   "execution_count": 16,
   "metadata": {},
   "outputs": [],
   "source": [
    "\n",
    "# set log-scale transformation parameters\n",
    "paramToDB = HashMap()\n",
    "paramToDB.put('sourceBandNames', 'Sigma0_' + 'VV')\n",
    "\n",
    "# make the log transformation\n",
    "product = GPF.createProduct(\"LinearToFromdB\", paramToDB, product)\n",
    "#SubsetProduct.dispose()\n",
    "\n",
    "# write the results\n",
    "#dB_output = \"C:/Users/asalazar/Documents/Ibague/_dB_\"\n",
    "#ProductIO.writeProduct(targetDB, dB_output, 'BEAM-DIMAP')\n"
   ]
  },
  {
   "cell_type": "code",
   "execution_count": 17,
   "metadata": {},
   "outputs": [
    {
     "data": {
      "text/plain": [
       "['Sigma0_VV_db']"
      ]
     },
     "execution_count": 17,
     "metadata": {},
     "output_type": "execute_result"
    }
   ],
   "source": [
    "list(product.getBandNames())"
   ]
  },
  {
   "cell_type": "markdown",
   "metadata": {},
   "source": [
    "### Texture analysis"
   ]
  },
  {
   "cell_type": "code",
   "execution_count": 18,
   "metadata": {},
   "outputs": [],
   "source": [
    "\n",
    "# paramaters for GLCM texture analysis\n",
    "paramGLCM = HashMap()\n",
    "paramGLCM.put('sourceBandNames', 'Sigma0_' + 'VV')\n",
    "paramGLCM.put('windowSizeStr', '5x5')\n",
    "paramGLCM.put('quantizerStr', 'Probabilistic Quantizer')\n",
    "paramGLCM.put('quantizationLevelsStr', '16')\n",
    "paramGLCM.put('displacement','4' )\n",
    "paramGLCM.put('outputContrast','true')\n",
    "paramGLCM.put('outputDissimilarity','true')\n",
    "paramGLCM.put('outputHomogeneity','true')\n",
    "paramGLCM.put('outputASM','true')\n",
    "paramGLCM.put('outputEnergy','true')\n",
    "paramGLCM.put('outputMean','true')\n",
    "paramGLCM.put('outputVariance','true')\n",
    "paramGLCM.put('outputCorrelation','true')\n",
    "\n",
    "product = GPF.createProduct(\"GLCM\", paramGLCM, product)\n",
    "\n",
    "#GLCM_output = \"C:/Users/asalazar/Documents/Ibague/_subset_VV\"\n",
    "\n",
    "#ProductIO.writeProduct(targetGCLM, GLCM_output, 'BEAM-DIMAP')\n"
   ]
  },
  {
   "cell_type": "code",
   "execution_count": 19,
   "metadata": {},
   "outputs": [
    {
     "data": {
      "text/plain": [
       "['Sigma0_VV_db_Contrast',\n",
       " 'Sigma0_VV_db_Dissimilarity',\n",
       " 'Sigma0_VV_db_Homogeneity',\n",
       " 'Sigma0_VV_db_ASM',\n",
       " 'Sigma0_VV_db_Energy',\n",
       " 'Sigma0_VV_db_MAX',\n",
       " 'Sigma0_VV_db_Entropy',\n",
       " 'Sigma0_VV_db_GLCMMean',\n",
       " 'Sigma0_VV_db_GLCMVariance',\n",
       " 'Sigma0_VV_db_GLCMCorrelation']"
      ]
     },
     "execution_count": 19,
     "metadata": {},
     "output_type": "execute_result"
    }
   ],
   "source": [
    "list(product.getBandNames())"
   ]
  },
  {
   "cell_type": "code",
   "execution_count": 21,
   "metadata": {},
   "outputs": [],
   "source": [
    "from snappy import jpy\n",
    "\n",
    "def createProgressMonitor():\n",
    "    PWPM = jpy.get_type('com.bc.ceres.core.PrintWriterProgressMonitor')\n",
    "    JavaSystem = jpy.get_type('java.lang.System')\n",
    "    monitor = PWPM(JavaSystem.out)\n",
    "    return monitor\n",
    "\n",
    "ProductIO.writeProduct(product, 'C:/Users/asalazar/Documents/Ibague/GLCM_output', 'BEAM-DIMAP', pm = createProgressMonitor())"
   ]
  }
 ],
 "metadata": {
  "kernelspec": {
   "display_name": "Python 2",
   "language": "python",
   "name": "python2"
  },
  "language_info": {
   "codemirror_mode": {
    "name": "ipython",
    "version": 2
   },
   "file_extension": ".py",
   "mimetype": "text/x-python",
   "name": "python",
   "nbconvert_exporter": "python",
   "pygments_lexer": "ipython2",
   "version": "2.7.14"
  }
 },
 "nbformat": 4,
 "nbformat_minor": 2
}
